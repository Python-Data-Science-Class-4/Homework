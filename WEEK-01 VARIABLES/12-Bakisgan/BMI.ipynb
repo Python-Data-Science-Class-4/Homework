{
 "cells": [
  {
   "cell_type": "code",
   "execution_count": null,
   "metadata": {},
   "outputs": [],
   "source": [
    "#Body Mass\n",
    "Weight=float(input(\"Kilonuz (kg):\"))\n",
    "Height=float(input(\"Boyunuz (cm):\"))\n",
    "BMI=Weight/((Height/100)**2)\n",
    "print(f\"Your Body Mass Index BMI: {BMI:.2f}\")\n",
    "if BMI<=25:\n",
    "    print(\"Normal\")\n",
    "elif BMI>25 and BMI<=30:\n",
    "    print(\"Overweight\")\n",
    "elif BMI>30 and BMI<40:\n",
    "    print(\"Obese\")\n",
    "else:\n",
    "    print(\"Extremely Obese\")\n"
   ]
  }
 ],
 "metadata": {
  "language_info": {
   "name": "python"
  }
 },
 "nbformat": 4,
 "nbformat_minor": 2
}
