{
 "cells": [
  {
   "cell_type": "code",
   "execution_count": null,
   "metadata": {},
   "outputs": [],
   "source": [
    "#Rock Paper Scissor\n",
    "import random\n",
    "\n",
    "Player1= \"Bilgisayar\"\n",
    "Player2= input(\"Player:\")\n",
    "win1=0\n",
    "win2=0\n",
    "#Stone:1\n",
    "#Paper:2\n",
    "#Scissors:3\n",
    "\n",
    "for i in range(10):\n",
    "    s1=random.randint(1, 3) #(Stone:1,Paper:2,Scissors:3)\n",
    "    s2=int(input(\"seciminizi yapınız (Stone:1,Paper:2,Scissors:3):\"))\n",
    "    if s1!=s2:\n",
    "        if s1==1 and s2==3:\n",
    "            win2+=1\n",
    "        elif s1==2 and s2==2:\n",
    "            win1+=1\n",
    "        elif s1==2 and s2==1:\n",
    "            win1+=1\n",
    "        elif s1==2 and s2==3:\n",
    "            win2+=1\n",
    "        elif s1==3 and s2==1:\n",
    "            win2+=1\n",
    "        elif s1==3 and s2==2:\n",
    "            win1+=1\n",
    "if win1>win2:\n",
    "    sonuc=Player1+\" kazandı\"\n",
    "elif win2>win1:\n",
    "    sonuc=Player2+\" kazandı\"\n",
    "else:\n",
    "    sonuc=\"her iki oyuncu berabere kaldı\"\n",
    "\n",
    "if len(Player2)>len(Player1):\n",
    "    Bosluk1=\" \"*(len(Player2)-len(Player1))\n",
    "else:\n",
    "    Bosluk1=\"\"\n",
    "if len(Player1)>len(Player2):\n",
    "    Bosluk2=\" \"*(len(Player1)-len(Player2))\n",
    "else:\n",
    "    Bosluk2=\"\"\n",
    "print(f'''\n",
    "{Player1} {Bosluk1}:{win1}\n",
    "{Player2} {Bosluk2}:{win2}\n",
    "{sonuc}''')"
   ]
  },
  {
   "cell_type": "code",
   "execution_count": null,
   "metadata": {},
   "outputs": [],
   "source": []
  }
 ],
 "metadata": {
  "kernelspec": {
   "display_name": "Python 3",
   "language": "python",
   "name": "python3"
  },
  "language_info": {
   "codemirror_mode": {
    "name": "ipython",
    "version": 3
   },
   "file_extension": ".py",
   "mimetype": "text/x-python",
   "name": "python",
   "nbconvert_exporter": "python",
   "pygments_lexer": "ipython3",
   "version": "3.11.1"
  }
 },
 "nbformat": 4,
 "nbformat_minor": 2
}
