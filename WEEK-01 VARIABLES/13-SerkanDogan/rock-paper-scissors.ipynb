{
 "cells": [
  {
   "cell_type": "code",
   "execution_count": null,
   "metadata": {},
   "outputs": [],
   "source": [
    "# Assignment 2.1\n",
    "# Rock-Paper-Scissors\n",
    "\n",
    "# Input for the names of players\n",
    "player1_name = input(\"Enter Player 1's name: \")\n",
    "player2_name = input(\"Enter Player 2's name: \")\n",
    "\n",
    "# Assign a variable name for the scores\n",
    "player1_score=0\n",
    "player2_score=0\n",
    "players_even_score=0\n",
    "\n",
    "for i in range(1, 2):\n",
    "    # Input for the choices\n",
    "    player1 = input(f\"{player1_name}, enter your choice (rock/paper/scissors): \").lower()\n",
    "    player2 = input(f\"{player2_name}, enter your choice (rock/paper/scissors): \").lower()\n",
    "    \n",
    "    # Who is the winner for each round?\n",
    "    if player1 == player2:\n",
    "        players_even_score+=1\n",
    "    elif (player1 == \"rock\" and player2 == \"scissors\") or (player1 == \"scissors\" and player2 == \"paper\") or (player1 == \"paper\" and player2 == \"rock\"):\n",
    "        player1_score += 1\n",
    "    else:\n",
    "        player2_score += 1\n",
    "        \n",
    "print(f\"{player1_name} = {player1_score} vs {player2_name} = {player2_score}\")    \n",
    "# Who is the winner overall?\n",
    "if player1_score > player2_score:\n",
    "    print(player1_name + \" is the winner!\")\n",
    "elif player2_score > player1_score:\n",
    "    print(player2_name + \" is the winner!\")\n",
    "else:\n",
    "    print(\"EVEN!\")\n",
    "    "
   ]
  }
 ],
 "metadata": {
  "language_info": {
   "name": "python"
  }
 },
 "nbformat": 4,
 "nbformat_minor": 2
}
