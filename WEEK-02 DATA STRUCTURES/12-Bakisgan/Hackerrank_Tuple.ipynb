{
 "cells": [
  {
   "cell_type": "code",
   "execution_count": null,
   "metadata": {},
   "outputs": [],
   "source": [
    "# hackerrank - tuple - hash\n",
    "\n",
    "n = int(input())\n",
    "integer_list = map(int, input().split())\n",
    "my_tupple = tuple(integer_list)\n",
    "print(hash(my_tupple))"
   ]
  }
 ],
 "metadata": {
  "language_info": {
   "name": "python"
  }
 },
 "nbformat": 4,
 "nbformat_minor": 2
}
