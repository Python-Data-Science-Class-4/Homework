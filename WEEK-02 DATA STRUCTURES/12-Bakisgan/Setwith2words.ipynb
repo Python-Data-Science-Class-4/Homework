{
 "cells": [
  {
   "cell_type": "code",
   "execution_count": null,
   "metadata": {},
   "outputs": [],
   "source": [
    "#set with 2 words\n",
    "\n",
    "w1,w2=input().split()\n",
    "\n",
    "setw1=set()\n",
    "setw2=set()\n",
    "listw=[]\n",
    "for i in w1:\n",
    "    if i.isalpha():\n",
    "        setw1.add(i.lower())\n",
    "for i in w2:\n",
    "    if i.isalpha():\n",
    "        setw2.add(i.lower())\n",
    "listw.append(\"\".join((setw1.intersection(setw2))))\n",
    "listw.append(\"\".join((setw1.difference(setw2))))\n",
    "listw.append(\"\".join((setw2.difference(setw1))))\n",
    "print(w1,w2)\n",
    "print(listw)"
   ]
  }
 ],
 "metadata": {
  "language_info": {
   "name": "python"
  }
 },
 "nbformat": 4,
 "nbformat_minor": 2
}
