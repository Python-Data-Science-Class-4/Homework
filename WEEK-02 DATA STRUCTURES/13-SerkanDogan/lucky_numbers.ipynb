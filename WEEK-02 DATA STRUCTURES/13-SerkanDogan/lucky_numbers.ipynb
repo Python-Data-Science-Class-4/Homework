{
 "cells": [
  {
   "cell_type": "code",
   "execution_count": null,
   "metadata": {},
   "outputs": [],
   "source": [
    "# Write a program to generate the lucky numbers from the range(n). These are generated starting with the sequence s=[1,2,...,n].\n",
    "# At the first pass, we remove every second element from the sequence, resulting in s2. \n",
    "# At the second pass, we remove every third element from the sequence s2, resulting in s3,and we proceed in this way until no elements can be removed. \n",
    "# The resulting sequence are the numbers lucky enough to have survived elimination. \n",
    "# The following example describes the entire process for n=22 \n",
    "# Original sequence [1, 2, 3, 4, 5, 6, 7, 8, 9, 10, 11, 12, 13, 14, 15, 16, 17, 18, 19, 20, 21, 22] \n",
    "# Remove 2nd elements [1, 3, 5, 7, 9, 11, 13, 15, 17, 19, 21] \n",
    "# Remove 3rd elements [1, 3, 7, 9, 13, 15, 19, 21] \n",
    "# Remove 4th elements [1, 3, 7, 13, 15, 19] \n",
    "# Remove 5th elements [1, 3, 7, 13, 19] \n",
    "# We cannot remove every other 6th element as there is no 6th element. \n",
    "# Input 22 Output Lucky numbers are [1, 3, 7, 13, 19]\n",
    "\n",
    "# Get input from the user\n",
    "n = int(input(\"Submit a number: \"))\n",
    "\n",
    "# create a sequence list of numbers\n",
    "seq = list(range(1, n+1)) \n",
    "\n",
    "# Assign i as jumping number for each sequence list\n",
    "i = 2 \n",
    "\n",
    "# Assign j as starting number in the loop\n",
    "j = 1\n",
    "\n",
    "# While looping to delete the second element in each sequence\n",
    "while i < len(seq):      \n",
    "    del (seq[j::i])\n",
    "    i += 1 \n",
    "    j += 1\n",
    "else:\n",
    "    print(f\"Your lucky numbers are {seq}\")\n",
    "    "
   ]
  }
 ],
 "metadata": {
  "language_info": {
   "name": "python"
  }
 },
 "nbformat": 4,
 "nbformat_minor": 2
}
