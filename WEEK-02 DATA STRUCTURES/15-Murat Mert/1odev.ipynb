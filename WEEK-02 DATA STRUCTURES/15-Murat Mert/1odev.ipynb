{
 "cells": [
  {
   "cell_type": "code",
   "execution_count": 2,
   "metadata": {},
   "outputs": [
    {
     "data": {
      "text/plain": [
       "[1, 3, 7]"
      ]
     },
     "execution_count": 2,
     "metadata": {},
     "output_type": "execute_result"
    }
   ],
   "source": [
    "n= int(input('Please enter number:'))\n",
    "\n",
    "\n",
    "def generate_lucky_numbers(n):\n",
    "    # Create the initial sequence\n",
    "    sequence = list(range(1, n + 1))\n",
    "\n",
    "    # Initialize the pass counter\n",
    "    pass_num = 2\n",
    "\n",
    "    while True:\n",
    "        # Remove every pass_num-th element\n",
    "        sequence = [sequence[i] for i in range(len(sequence)) if (i + 1) % pass_num != 0]\n",
    "\n",
    "        # Check if further removal is possible\n",
    "        if pass_num >= len(sequence):\n",
    "            break\n",
    "\n",
    "        # Increment the pass counter\n",
    "        pass_num += 1\n",
    "\n",
    "    return sequence\n",
    "\n",
    "generate_lucky_numbers(n)\n",
    "# Example usage with n=22\n",
    "# n = 22\n",
    "# lucky_numbers = generate_lucky_numbers(n)\n",
    "\n",
    "# print(f\"Lucky numbers for n={n} are {lucky_numbers}\")"
   ]
  }
 ],
 "metadata": {
  "kernelspec": {
   "display_name": "Python 3",
   "language": "python",
   "name": "python3"
  },
  "language_info": {
   "codemirror_mode": {
    "name": "ipython",
    "version": 3
   },
   "file_extension": ".py",
   "mimetype": "text/x-python",
   "name": "python",
   "nbconvert_exporter": "python",
   "pygments_lexer": "ipython3",
   "version": "3.12.0"
  }
 },
 "nbformat": 4,
 "nbformat_minor": 2
}
