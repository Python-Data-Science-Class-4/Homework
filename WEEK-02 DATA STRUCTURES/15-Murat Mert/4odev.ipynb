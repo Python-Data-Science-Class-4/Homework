{
 "cells": [
  {
   "cell_type": "code",
   "execution_count": 2,
   "metadata": {},
   "outputs": [
    {
     "name": "stdout",
     "output_type": "stream",
     "text": [
      "['or', 'dehlw', 'cntuy']\n"
     ]
    }
   ],
   "source": [
    "word1 = input(\"Enter the first word: \").lower()\n",
    "word2 = input(\"Enter the second word: \").lower()\n",
    "\n",
    "def compare_words(word1, word2):\n",
    "    # Shared letters between two words\n",
    "    shared_letters = ''.join(sorted(set(word1) & set(word2)))\n",
    "    #Kesisim kumesi\n",
    "\n",
    "    # Letters unique to word 1\n",
    "    unique_to_word1 = ''.join(sorted(set(word1) - set(word2)))\n",
    "    #A-B\n",
    "\n",
    "    # Letters unique to word 2\n",
    "    unique_to_word2 = ''.join(sorted(set(word2) - set(word1)))\n",
    "    #B-A\n",
    "\n",
    "    # Create the output list\n",
    "    output_list = [shared_letters, unique_to_word1, unique_to_word2]\n",
    "    #heruc kumeyi liste haline getirip yazdik\n",
    "\n",
    "    #return output_list\n",
    "    print(output_list)\n",
    "\n",
    "# Example usage\n",
    "\n",
    "\n",
    "#result = compare_words(word1, word2)\n",
    "#print(result)\n",
    "compare_words(word1,word2)\n"
   ]
  }
 ],
 "metadata": {
  "kernelspec": {
   "display_name": "Python 3",
   "language": "python",
   "name": "python3"
  },
  "language_info": {
   "codemirror_mode": {
    "name": "ipython",
    "version": 3
   },
   "file_extension": ".py",
   "mimetype": "text/x-python",
   "name": "python",
   "nbconvert_exporter": "python",
   "pygments_lexer": "ipython3",
   "version": "3.12.0"
  }
 },
 "nbformat": 4,
 "nbformat_minor": 2
}
