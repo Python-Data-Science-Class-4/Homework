<<<<<<< Updated upstream
{
 "cells": [
  {
   "cell_type": "code",
   "execution_count": 1,
   "metadata": {},
   "outputs": [
    {
     "data": {
      "text/plain": [
       "[1, 2, 3, 4, 5]"
      ]
     },
     "execution_count": 1,
     "metadata": {},
     "output_type": "execute_result"
    }
   ],
   "source": [
    "# Write a function that filters all the unique(unrepeated) elements of a given list.\n",
    "\n",
    "# Example >> Function call: unique_list([1,2,3,3,3,3,4,5,5]) >>>> Output : [1, 2, 3, 4, 5]\n",
    "\n",
    "# To define a function, I used a set to store unique items in given list (automatically removes duplicate elements)\n",
    "def unique_list(*initial_list_of_numbers):          # to collect initial numbers and handle duplicates in the defined function \n",
    "    unique_list = set(initial_list_of_numbers)      # remove duplicates with set\n",
    "    return list(unique_list)                        \n",
    "\n",
    "# Example\n",
    "unique_list(1,2,3,3,3,3,4,5,5)"
   ]
  }
 ],
 "metadata": {
  "kernelspec": {
   "display_name": "Python 3",
   "language": "python",
   "name": "python3"
  },
  "language_info": {
   "codemirror_mode": {
    "name": "ipython",
    "version": 3
   },
   "file_extension": ".py",
   "mimetype": "text/x-python",
   "name": "python",
   "nbconvert_exporter": "python",
   "pygments_lexer": "ipython3",
   "version": "3.12.0"
  }
 },
 "nbformat": 4,
 "nbformat_minor": 2
}
=======
{
 "cells": [
  {
   "cell_type": "code",
   "execution_count": 1,
   "metadata": {},
   "outputs": [
    {
     "data": {
      "text/plain": [
       "[1, 2, 3, 4, 5]"
      ]
     },
     "execution_count": 1,
     "metadata": {},
     "output_type": "execute_result"
    }
   ],
   "source": [
    "# Write a function that filters all the unique(unrepeated) elements of a given list.\n",
    "\n",
    "# Example >> Function call: unique_list([1,2,3,3,3,3,4,5,5]) >>>> Output : [1, 2, 3, 4, 5]\n",
    "\n",
    "# To define a function, I used a set to store unique items in given list (automatically removes duplicate elements)\n",
    "def unique_list(*initial_list_of_numbers):          # to collect initial numbers and handle duplicates in the defined function \n",
    "    unique_list = set(initial_list_of_numbers)      # remove duplicates with set\n",
    "    return list(unique_list)                        \n",
    "\n",
    "# Example\n",
    "unique_list(1,2,3,3,3,3,4,5,5)"
   ]
  }
 ],
 "metadata": {
  "kernelspec": {
   "display_name": "Python 3",
   "language": "python",
   "name": "python3"
  },
  "language_info": {
   "codemirror_mode": {
    "name": "ipython",
    "version": 3
   },
   "file_extension": ".py",
   "mimetype": "text/x-python",
   "name": "python",
   "nbconvert_exporter": "python",
   "pygments_lexer": "ipython3",
   "version": "3.12.0"
  }
 },
 "nbformat": 4,
 "nbformat_minor": 2
}
>>>>>>> Stashed changes
