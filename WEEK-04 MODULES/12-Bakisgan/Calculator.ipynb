{
 "cells": [
  {
   "cell_type": "code",
   "execution_count": 1,
   "metadata": {},
   "outputs": [
    {
     "name": "stdout",
     "output_type": "stream",
     "text": [
      "\n",
      "Option 1: Add\n",
      "Option 2: Subtract  \n",
      "Option 3: Multiply\n",
      "Option 4: Divide\n",
      "Option 5: Exit\n",
      "\n",
      "1\n",
      "\n",
      "Option 1: Add\n",
      "Option 2: Subtract  \n",
      "Option 3: Multiply\n",
      "Option 4: Divide\n",
      "Option 5: Exit\n",
      "\n",
      "9\n",
      "\n",
      "Option 1: Add\n",
      "Option 2: Subtract  \n",
      "Option 3: Multiply\n",
      "Option 4: Divide\n",
      "Option 5: Exit\n",
      "\n"
     ]
    }
   ],
   "source": [
    "import Addition, division, subtraction, multiplication\n",
    "\n",
    "\n",
    "while True:\n",
    "    print('''\n",
    "Option 1: Add\n",
    "Option 2: Subtract  \n",
    "Option 3: Multiply\n",
    "Option 4: Divide\n",
    "Option 5: Exit\n",
    "''')\n",
    "    try:\n",
    "        option = int(input(\"Choose the operation:\"))\n",
    "        if option<1 and option>5:\n",
    "            raise ValueError(\"please enter a number between 1 and 5\")\n",
    "    except ValueError:\n",
    "        print(ValueError)\n",
    "    \n",
    "    if option ==5:\n",
    "        break\n",
    "\n",
    "    while True:\n",
    "        try:\n",
    "            float1=float(input(\"enter the first number\"))\n",
    "            break\n",
    "        except:\n",
    "            print(\"please enter a number\")\n",
    "    while True:\n",
    "        try:\n",
    "            float2=float(input(\"enter the second number\"))\n",
    "            break\n",
    "        except:\n",
    "            print(\"please enter a number\")\n",
    "\n",
    "\n",
    "    if option==1:\n",
    "        result=Addition.addition.add(float1,float2)\n",
    "    elif option==2:\n",
    "        result=subtraction.subtraction.subtract(float1,float2)\n",
    "    elif option==3:\n",
    "        result=division.division.dvd(float1,float2)\n",
    "    elif option==4:\n",
    "        result=multiplication.multiplication.multiply(float1,float2)\n",
    "    print(result)"
   ]
  },
  {
   "cell_type": "code",
   "execution_count": null,
   "metadata": {},
   "outputs": [],
   "source": []
  }
 ],
 "metadata": {
  "kernelspec": {
   "display_name": "Python 3",
   "language": "python",
   "name": "python3"
  },
  "language_info": {
   "codemirror_mode": {
    "name": "ipython",
    "version": 3
   },
   "file_extension": ".py",
   "mimetype": "text/x-python",
   "name": "python",
   "nbconvert_exporter": "python",
   "pygments_lexer": "ipython3",
   "version": "3.11.1"
  }
 },
 "nbformat": 4,
 "nbformat_minor": 2
}
