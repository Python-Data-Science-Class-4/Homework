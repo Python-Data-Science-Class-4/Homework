{
 "cells": [
  {
   "cell_type": "code",
   "execution_count": 1,
   "metadata": {},
   "outputs": [
    {
     "name": "stdout",
     "output_type": "stream",
     "text": [
      "Random Password: 1|3)#Uo9BxjC\n"
     ]
    }
   ],
   "source": [
    "# Import necessary modules\n",
    "import string\n",
    "import random\n",
    "\n",
    "#######################1st part###################################1st part####################################1st part###########################################\n",
    "# Define a function that creates a random password by using another function; password_generator\n",
    "def create_random_password():\n",
    "    try:\n",
    "        length = int(input(\"Please enter your password length: \"))     # Get input from the user for password length\n",
    "                \n",
    "        if 10 <= length <= 20:                                         # Check if password length is betwenn 10 and 20 chracter long\n",
    "            \n",
    "            password = password_generator(length)                      # Generate a password\n",
    "            \n",
    "            print(f\"Random Password: {password}\")\n",
    "        else:\n",
    "            print(\"Password length should be between 10 and 20 characters long\")\n",
    "    \n",
    "    except ValueError:\n",
    "        print(\"Please enter a valid password length.\")\n",
    "#################################################################################################################################################################\n",
    "\n",
    "#######################2nd part###################################2nd part####################################2nd part###########################################\n",
    "# Define a function that creates a password\n",
    "def password_generator(length):\n",
    "    # Each should have at least 2 of each type\n",
    "    uppercase = max(2, length // 4)                                     # Number of uppecase characters should be between 2 and length/4 types of characters\n",
    "    digit = max(2, length // 4)                                         # Number of uppecase characters should be between 2 and length/4 types of characters\n",
    "    special = max(2, length // 4)                                       # Number of uppecase characters should be between 2 and length/4 types of characters\n",
    "    \n",
    "    lowercase = length - (uppercase + digit + special)                  # Count of lowercase characters\n",
    "\n",
    "    # Creating a character list for each type of character (4 types) (string)\n",
    "    uppercase_characters = list(string.ascii_uppercase)\n",
    "    digit_characters = list(string.digits)\n",
    "    special_characters = list(string.punctuation)\n",
    "    lowercase_characters = list(string.ascii_lowercase)\n",
    "    \n",
    "    # Combining all types of characters\n",
    "    characters = (\n",
    "        random.choices(lowercase_characters, k=lowercase) +\n",
    "        random.choices(uppercase_characters, k=uppercase) +\n",
    "        random.choices(digit_characters, k=digit) +\n",
    "        random.choices(special_characters, k=special)\n",
    "    )\n",
    "\n",
    "    # Shuffle all types of characters\n",
    "    random.shuffle(characters)\n",
    "    \n",
    "    # Convert the character list to a string\n",
    "    return \"\".join(characters)\n",
    "#################################################################################################################################################################\n",
    "\n",
    "# CREATE A RANDOM PASSWORD\n",
    "create_random_password()\n"
   ]
  }
 ],
 "metadata": {
  "kernelspec": {
   "display_name": "Python 3",
   "language": "python",
   "name": "python3"
  },
  "language_info": {
   "codemirror_mode": {
    "name": "ipython",
    "version": 3
   },
   "file_extension": ".py",
   "mimetype": "text/x-python",
   "name": "python",
   "nbconvert_exporter": "python",
   "pygments_lexer": "ipython3",
   "version": "3.12.0"
  }
 },
 "nbformat": 4,
 "nbformat_minor": 2
}
