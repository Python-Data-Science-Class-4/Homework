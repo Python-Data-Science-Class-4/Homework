{
 "cells": [
  {
   "cell_type": "code",
   "execution_count": 8,
   "metadata": {},
   "outputs": [],
   "source": [
    "class Iteminfo():\n",
    "    items=[]\n",
    "    def __init__(self,item_code=0,item=\"\",price=\"\",qty=\"\",net_price=\"\",discount=\"\"):\n",
    "        pass\n",
    "\n",
    "    def calculate_discount(self):\n",
    "        if self.qty<=10:\n",
    "            self.discount=0\n",
    "        elif self.qty<=20:\n",
    "            self.discount=15\n",
    "        else:\n",
    "            self.discount=20\n",
    "        return self.discount\n",
    "    \n",
    "    def buy(self):\n",
    "        self.item_code=input(\"Item Code:\")\n",
    "        self.item=input(\"Item Name:\")\n",
    "        self.price=int(input(\"price:\"))\n",
    "        self.qty=int(input(\"Quantity:\"))\n",
    "        self.net_price= self.price*self.qty*(1-self.calculate_discount()/100)\n",
    "        Iteminfo.items.append([self.item_code,self.item,self.price,self.qty,self.discount,self.net_price])\n",
    "    \n",
    "    def show_all(self):\n",
    "        print(f'''\n",
    "Item Code    : {self.item_code}\n",
    "Item Name    : {self.item}\n",
    "Price        : {self.price}\n",
    "Quantity     : {self.qty}\n",
    "Discount     : {self.discount}%\n",
    "Net Price    : {self.net_price}\n",
    "              ''')"
   ]
  },
  {
   "cell_type": "code",
   "execution_count": 9,
   "metadata": {},
   "outputs": [],
   "source": [
    "Item1=Iteminfo()"
   ]
  },
  {
   "cell_type": "code",
   "execution_count": 10,
   "metadata": {},
   "outputs": [],
   "source": [
    "Item1.buy()"
   ]
  },
  {
   "cell_type": "code",
   "execution_count": 11,
   "metadata": {},
   "outputs": [
    {
     "name": "stdout",
     "output_type": "stream",
     "text": [
      "\n",
      "Item Code    : A2FC\n",
      "Item Name    : Corn\n",
      "Price        : 120\n",
      "Quantity     : 15\n",
      "Discount     : 15%\n",
      "Net Price    : 1530.0\n",
      "              \n"
     ]
    }
   ],
   "source": [
    "Item1.show_all()"
   ]
  },
  {
   "cell_type": "code",
   "execution_count": null,
   "metadata": {},
   "outputs": [],
   "source": []
  }
 ],
 "metadata": {
  "kernelspec": {
   "display_name": "Python 3",
   "language": "python",
   "name": "python3"
  },
  "language_info": {
   "codemirror_mode": {
    "name": "ipython",
    "version": 3
   },
   "file_extension": ".py",
   "mimetype": "text/x-python",
   "name": "python",
   "nbconvert_exporter": "python",
   "pygments_lexer": "ipython3",
   "version": "3.11.1"
  }
 },
 "nbformat": 4,
 "nbformat_minor": 2
}
