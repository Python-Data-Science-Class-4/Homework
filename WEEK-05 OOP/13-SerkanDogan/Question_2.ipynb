{
 "cells": [
  {
   "cell_type": "markdown",
   "metadata": {},
   "source": [
    "Question 2:\n",
    "Define a class named \"ItemInfo` with the following description:\n",
    "item_code (Item Code), item (item name), price (Price of each item), qty (quantity in stock), discount (Discount percentage on the item), net_price (Price after discount)\n",
    "Methods:\n",
    "• A member method calculate_discount() to calculate discount as per the following rules:\n",
    "• If qty <= 10 -> discount is e\n",
    "• If qty (11 to 20 inclusive) -> discount is 15\n",
    "• If qty >= 20 -> discount is 20\n",
    "• A constructor init method to assign the initial values for item_code toe and price, qty, net_price and discount to null\n",
    "• A function called buy() to allow user to enter values for item_code, item, price, qty. Then call function\n",
    "calculate_discount() to calculate the discount and net_price (price* qty - discount).\n",
    "• A function show_all() or similar name to allow user to view the content of all the data members."
   ]
  },
  {
   "cell_type": "code",
   "execution_count": 1,
   "metadata": {},
   "outputs": [
    {
     "name": "stdout",
     "output_type": "stream",
     "text": [
      "\n",
      "    Item Code   : 64546\n",
      "    Item Name   : dfsf\n",
      "    Price       : 1500\n",
      "    Discount (%) : 20\n",
      "    Net Price   : 1200\n",
      "    \n"
     ]
    }
   ],
   "source": [
    "class ItemInfo:\n",
    "\n",
    "    def __init__(self, item_code=0, item='', price=0, qty=0, discount=0, net_price=0):\n",
    "        \"\"\"\n",
    "        Creating item information.\n",
    "        \"\"\"\n",
    "        self.item_code = item_code\n",
    "        self.item = item\n",
    "        self.price = price\n",
    "        self.qty = qty\n",
    "        self.discount = discount\n",
    "        self.net_price = net_price\n",
    "\n",
    "    def buy(self):\n",
    "        \"\"\"\n",
    "        Getting input from the user for item information .\n",
    "        \"\"\"\n",
    "        self.item_code = int(input(\"Please type the Item Code: \"))\n",
    "        self.item = input(\"Please type the Item Name: \")\n",
    "        self.price = int(input(\"Please type the Item Price: \"))\n",
    "        self.qty = int(input(\"Please type the Item Quantity: \"))\n",
    "        self.calculate_discount()\n",
    "        self.calculate_net_price()\n",
    "\n",
    "    def calculate_discount(self):\n",
    "        \"\"\"\n",
    "        Calculating the discount based on the quantity of the item.\n",
    "        \"\"\"\n",
    "        if self.qty <= 10:\n",
    "            self.discount = 0\n",
    "        elif 11 <= self.qty < 20:\n",
    "            self.discount = 15\n",
    "        elif self.qty >= 20:\n",
    "            self.discount = 20\n",
    "\n",
    "    def calculate_net_price(self):\n",
    "        \"\"\"\n",
    "        Calculating the net price after discount.\n",
    "        \"\"\"\n",
    "        self.net_price = int(self.price - self.price * self.discount / 100)\n",
    "\n",
    "    def all(self):\n",
    "        \"\"\"\n",
    "        Showing all item information.\n",
    "        \"\"\"\n",
    "        return f'''\n",
    "    Item Code   : {self.item_code}\n",
    "    Item Name   : {self.item}\n",
    "    Price       : {self.price}\n",
    "    Discount (%) : {self.discount}\n",
    "    Net Price   : {self.net_price}\n",
    "    '''\n",
    "\n",
    "# Creating an object of the ItemInfo class\n",
    "order = ItemInfo()\n",
    "\n",
    "# Getting input from the user\n",
    "order.buy()\n",
    "\n",
    "# Print all deatails about item information\n",
    "print(order.all())\n"
   ]
  }
 ],
 "metadata": {
  "kernelspec": {
   "display_name": "Python 3",
   "language": "python",
   "name": "python3"
  },
  "language_info": {
   "codemirror_mode": {
    "name": "ipython",
    "version": 3
   },
   "file_extension": ".py",
   "mimetype": "text/x-python",
   "name": "python",
   "nbconvert_exporter": "python",
   "pygments_lexer": "ipython3",
   "version": "3.12.0"
  }
 },
 "nbformat": 4,
 "nbformat_minor": 2
}
