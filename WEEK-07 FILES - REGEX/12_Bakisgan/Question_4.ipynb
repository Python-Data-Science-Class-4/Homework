{
 "cells": [
  {
   "cell_type": "code",
   "execution_count": 2,
   "metadata": {},
   "outputs": [
    {
     "name": "stdout",
     "output_type": "stream",
     "text": [
      "2593\n"
     ]
    }
   ],
   "source": [
    "import re\n",
    "\n",
    "red = 12\n",
    "green = 13\n",
    "blue = 14\n",
    "\n",
    "filename=\"puzzle_input.txt\"\n",
    "my_file=open(filename,\"r\")\n",
    "\n",
    "Game_1= \"Game 1: 13 green, 3 red; 4 red, 9 green, 4 blue; 9 green, 10 red, 2 blue\"\n",
    "Game_2= \"Game 1: 3 red, 8 green, 1 blue; 4 green, 11 blue, 2 red; 3 blue, 2 red, 6 green; 5 green, 15 blue, 1 red; 2 blue, 2 red, 5 green; 12 blue, 7 green, 2 red\"\n",
    "Game_3= \"1 red, 9 green, 3 blue; 8 green, 4 red, 11 blue; 6 red, 10 blue; 6 green, 6 red, 12 blue; 2 blue, 11 green, 7 red; 12 blue, 9 green, 8 red\"\n",
    "Game_4= \"7 red, 2 green, 1 blue; 12 green; 12 green\"\n",
    "Game_5= \"15 red, 3 green, 1 blue; 6 red, 2 blue, 2 green; 3 green, 3 red, 1 blue; 2 blue, 13 red, 5 green; 2 green, 15 red, 2 blue\"\n",
    "\n",
    "Score=0\n",
    "\n",
    "for line in my_file:\n",
    "    text=line.strip()\n",
    "    pattern_game = re.compile(r'Game (\\d+):')\n",
    "    match_game = pattern_game.search(text)\n",
    "    game_id = match_game.group(1)\n",
    "\n",
    "    pattern = re.compile(r'.*;')\n",
    "    result=re.split(\"; \",text[8:])\n",
    "    Game_Status=True\n",
    "    for i in result:\n",
    "        rslt=re.split(\", \",i)\n",
    "        for j in rslt:\n",
    "            rst=re.split(\" \",j)\n",
    "            if rst[1]==\"green\" and int(rst[0])>green:\n",
    "                Game_Status=False\n",
    "            if rst[1]==\"red\" and int(rst[0])>red:\n",
    "                Game_Status=False\n",
    "            if rst[1]==\"blue\" and int(rst[0])>blue:\n",
    "                Game_Status=False\n",
    "        # print(rst[1],rst[0])\n",
    "    if Game_Status:\n",
    "        Score+=int(game_id)\n",
    "\n",
    "print(Score)\n",
    "\n",
    "my_file.close()"
   ]
  },
  {
   "cell_type": "code",
   "execution_count": null,
   "metadata": {},
   "outputs": [],
   "source": []
  }
 ],
 "metadata": {
  "kernelspec": {
   "display_name": "Python 3",
   "language": "python",
   "name": "python3"
  },
  "language_info": {
   "codemirror_mode": {
    "name": "ipython",
    "version": 3
   },
   "file_extension": ".py",
   "mimetype": "text/x-python",
   "name": "python",
   "nbconvert_exporter": "python",
   "pygments_lexer": "ipython3",
   "version": "3.11.1"
  }
 },
 "nbformat": 4,
 "nbformat_minor": 2
}
