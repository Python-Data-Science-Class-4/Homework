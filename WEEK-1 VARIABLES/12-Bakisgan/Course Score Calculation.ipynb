{
 "cells": [
  {
   "cell_type": "code",
   "execution_count": null,
   "metadata": {},
   "outputs": [],
   "source": [
    "#Student Grades\n",
    "Name=input(\"Öğrenci Adı\")\n",
    "Surname=input(\"Öğrenci Soyadı\")\n",
    "Number=int(input(\"Öğrenci Numarası\"))\n",
    "Grades={}\n",
    "for i in range(4):\n",
    "    Course=input(\"Ders Adı\")\n",
    "    Visa=int(input(\"Visa Score\"))\n",
    "    Final=int(input(\"Final Grade\"))\n",
    "    Year_end=Visa*0.4+Final*0.6\n",
    "    if Year_end>=50:\n",
    "        Grades[Course]=\"Passed\"\n",
    "    else:\n",
    "        Grades[Course]=\"Failed\"\n",
    "print(f'''\n",
    "Adı      : {Name}\n",
    "Soyadı   : {Surname}\n",
    "Numarası : {Number}''')\n",
    "for key, value in Grades.items():\n",
    "    print(f'''\n",
    "Ders     : {key}\n",
    "Sonuc    : {value}''')"
   ]
  }
 ],
 "metadata": {
  "language_info": {
   "name": "python"
  }
 },
 "nbformat": 4,
 "nbformat_minor": 2
}
