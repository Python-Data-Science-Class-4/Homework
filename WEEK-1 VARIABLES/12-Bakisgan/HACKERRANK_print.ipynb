{
 "cells": [
  {
   "cell_type": "code",
   "execution_count": null,
   "metadata": {},
   "outputs": [],
   "source": [
    "# hackerrank print function\n",
    "\n",
    "n = int(input())\n",
    "s=\"\"\n",
    "for i in range(n):\n",
    "    s=s+str(i+1)\n",
    "print(s)"
   ]
  }
 ],
 "metadata": {
  "language_info": {
   "name": "python"
  }
 },
 "nbformat": 4,
 "nbformat_minor": 2
}
