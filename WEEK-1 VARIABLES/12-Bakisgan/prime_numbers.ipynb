{
 "cells": [
  {
   "cell_type": "code",
   "execution_count": null,
   "metadata": {},
   "outputs": [],
   "source": [
    "n=int(input(\"Asal Sayilarin listelenecegi sınır:\"))\n",
    "y=True\n",
    "while y==True:\n",
    "    for i in range(2,n):\n",
    "        x=0\n",
    "        for j in range(2,i+1):\n",
    "            if i%j==0:\n",
    "                x +=1\n",
    "        if x==1:\n",
    "            print(i)\n",
    "    s=input(\"Başka sayı girişi yapmak ister misiniz? (Y/N):\")\n",
    "    if s.upper()==\"Y\":\n",
    "        n=int(input(\"Asal Sayilarin listelenecegi sınır:\"))\n",
    "    else:\n",
    "        y=False\n",
    "        print(\"Teşekkürler\")\n",
    "    "
   ]
  }
 ],
 "metadata": {
  "language_info": {
   "name": "python"
  }
 },
 "nbformat": 4,
 "nbformat_minor": 2
}
