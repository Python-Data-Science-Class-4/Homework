{
 "cells": [
  {
   "cell_type": "code",
   "execution_count": null,
   "metadata": {},
   "outputs": [],
   "source": [
    "# Assignment 2.2\n",
    "# Course Score Calculation\n",
    "\n",
    "# Student's details\n",
    "name = input(\"Enter student's name: \")\n",
    "surname = input(\"Enter student's surname: \")\n",
    "user_name=name+surname\n",
    "student_number = input(\"Enter student's number: \")\n",
    "print(\"Name of Student; \",name,surname+\"\\nUser name; \",user_name+\"\\nStudent number; \",student_number)\n",
    "\n",
    "# Courses\n",
    "for i in range(1, 5):\n",
    "    # Course names and grades for the student\n",
    "    course_name = input(f\"Enter course {i} name: \")\n",
    "    visa_grade = float(input(f\"Enter {course_name} visa grade: \"))\n",
    "    final_grade = float(input(f\"Enter {course_name} final grade: \"))\n",
    "    \n",
    "    # Calculate averages of each course\n",
    "    average = (0.4 * visa_grade) + (0.6 * final_grade)\n",
    "    \n",
    "    # Print course name and grades with averages\n",
    "    print(course_name, visa_grade,final_grade,\"Average;\",average)\n",
    "    \n",
    "    # Print the result for the course\n",
    "    if average >= 50:\n",
    "        print(f\"{course_name}: PASSED\")\n",
    "    else:\n",
    "        print(f\"{course_name}: FAILED\")\n",
    "        "
   ]
  }
 ],
 "metadata": {
  "language_info": {
   "name": "python"
  }
 },
 "nbformat": 4,
 "nbformat_minor": 2
}
