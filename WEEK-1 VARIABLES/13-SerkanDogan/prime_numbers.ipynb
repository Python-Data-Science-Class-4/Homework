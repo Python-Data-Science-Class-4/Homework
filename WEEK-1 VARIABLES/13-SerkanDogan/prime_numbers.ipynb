{
 "cells": [
  {
   "cell_type": "code",
   "execution_count": null,
   "metadata": {},
   "outputs": [],
   "source": [
    "# Assignment 1\n",
    "\n",
    "# Printing prime numbers\n",
    "\n",
    "input_num=int(input(\"Please submit a number  \"))\n",
    "\n",
    "if input_num < 1:\n",
    "    print(\"Enter a number bigger than 1\")\n",
    "\n",
    "else:\n",
    "    for i in range(2,input_num+1):\n",
    "        for j in range(2,i):\n",
    "            if (i % j) == 0:\n",
    "                break\n",
    "        else: \n",
    "            print(i)\n",
    "            "
   ]
  }
 ],
 "metadata": {
  "language_info": {
   "name": "python"
  }
 },
 "nbformat": 4,
 "nbformat_minor": 2
}
