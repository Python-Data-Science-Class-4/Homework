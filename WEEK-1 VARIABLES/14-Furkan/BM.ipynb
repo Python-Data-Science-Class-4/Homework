{
 "cells": [
  {
   "cell_type": "code",
   "execution_count": null,
   "metadata": {},
   "outputs": [],
   "source": [
    "# Body Mass Index Calculation\n",
    "\n",
    "Weight = int(input ('Please enter your weight'))\n",
    "\n",
    "Height = float(input ('Please enter your height'))\n",
    "\n",
    "BMI = Weight // Height**2\n",
    "print ('Result:',BMI)\n",
    "\n",
    "if BMI <25:\n",
    "    print ('Your weight is normal.')\n",
    "elif BMI >=25 and BMI <30:\n",
    "    print ('You are a little overweight.')\n",
    "elif BMI >=30 and BMI <40:\n",
    "    print ('You may be obese.')\n",
    "elif BMI >=40:\n",
    "    print ('YOU ARE IN DANGER...')"
   ]
  }
 ],
 "metadata": {
  "language_info": {
   "name": "python"
  }
 },
 "nbformat": 4,
 "nbformat_minor": 2
}
