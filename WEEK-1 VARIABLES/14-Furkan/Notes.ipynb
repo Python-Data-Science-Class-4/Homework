{
 "cells": [
  {
   "cell_type": "code",
   "execution_count": null,
   "metadata": {},
   "outputs": [],
   "source": [
    "# Notes for 4th class\n",
    "\n",
    "courses = ['Mathematics', 'Physics', 'German', 'Music']\n",
    "\n",
    "while True:\n",
    "    name = input (\"Your name:\")\n",
    "    surname = input (\"Your surname:\")\n",
    "    student_no = input (\"Student number\")\n",
    "\n",
    "    course = input (\"Enter a course name:\")\n",
    "    visa_grade = int (input (\"Enter your visa score:\"))\n",
    "    final_grade = int (input (\"Enter your final score:\"))\n",
    "    score = (visa_grade*0.4) + (final_grade*0.6)\n",
    "      \n",
    "    print (f'''\n",
    "    Name: {name}\n",
    "    Surname: {surname}\n",
    "    No: {student_no}\n",
    "\n",
    "    Course: {course}\n",
    "    Score: {score}''')\n",
    "\n",
    "    if score <50 and course in courses:\n",
    "        print ('You failed...')\n",
    "    elif score >=50 and course in courses:\n",
    "        print ('You passed...')\n",
    "        continue\n",
    "    else:\n",
    "        print ('The name of course is wrong')\n",
    "        break\n",
    "\n"
   ]
  }
 ],
 "metadata": {
  "language_info": {
   "name": "python"
  }
 },
 "nbformat": 4,
 "nbformat_minor": 2
}
