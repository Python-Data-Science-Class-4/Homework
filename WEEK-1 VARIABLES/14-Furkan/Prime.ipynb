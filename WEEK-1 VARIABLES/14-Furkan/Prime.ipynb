{
 "cells": [
  {
   "cell_type": "code",
   "execution_count": null,
   "metadata": {},
   "outputs": [],
   "source": [
    "# Prime numbers are counting numbers greater than 1 that have only two positive integer divisors, divisible by themselves and 1 without remainder.\n",
    "\n",
    "while True:\n",
    "    number = int(input (\"Enter a positive integer up to 100.\"))\n",
    "    if number >= 100:\n",
    "        print (\"The number must be less than 100.\")\n",
    "    elif number <= 0:\n",
    "        print (\"The number must be more than 0.\")\n",
    "    else:\n",
    "        print (\"2\\n3\\n5\\n7\")\n",
    "        for x in range (8,number+1):\n",
    "            if (x%2==0 or x%3==0):\n",
    "                continue\n",
    "            elif (x%5==0 or x%7==0):\n",
    "                continue\n",
    "            else:\n",
    "                print (x)\n",
    "        y = input (\"Would you like to enter a new number? Y/N\")\n",
    "        if y.upper () !=\"Y\":\n",
    "            print (\"Have a nice day.\")\n",
    "        break"
   ]
  }
 ],
 "metadata": {
  "language_info": {
   "name": "python"
  }
 },
 "nbformat": 4,
 "nbformat_minor": 2
}
