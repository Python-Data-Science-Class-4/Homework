{
 "cells": [
  {
   "cell_type": "code",
   "execution_count": null,
   "metadata": {},
   "outputs": [],
   "source": [
    "# Welcome to the Rock-Paper-Scissors game.\n",
    "\n",
    "# x = Ahmet's choice \n",
    "# y = Fatma's choice\n",
    "\n",
    "a = [\"Rock\",\"Paper\",\"Scissors\"]\n",
    "\n",
    "x = input (\"Enter one of 'Rock, Paper, Scissors'.\")\n",
    "y = input (\"Enter one of the other two.\")\n",
    "while True:\n",
    "    if (x == a[0] and y == a[1]):\n",
    "        print (\"Fatma won.\")\n",
    "        break\n",
    "    elif (x == a[0] and y == a[2]):\n",
    "        print (\"Ahmet won.\")\n",
    "        break\n",
    "    elif (x == a [1] and y == a[2]):\n",
    "        print (\"Fatma won.\")\n",
    "        break\n",
    "    elif (x == a [1] and y == a[0]):\n",
    "        print (\"Ahmet won.\")\n",
    "        break\n",
    "    elif (x == a [2] and y == a[0]):\n",
    "        print (\"Fatma won.\")\n",
    "        break\n",
    "    elif (x == a [2] and y == a[1]):\n",
    "        print (\"Ahmet won.\")\n",
    "        break\n",
    "    else:\n",
    "        print (\"You didn't write correctly.\")\n",
    "        break\n"
   ]
  }
 ],
 "metadata": {
  "kernelspec": {
   "display_name": "Python 3",
   "language": "python",
   "name": "python3"
  },
  "language_info": {
   "codemirror_mode": {
    "name": "ipython",
    "version": 3
   },
   "file_extension": ".py",
   "mimetype": "text/x-python",
   "name": "python",
   "nbconvert_exporter": "python",
   "pygments_lexer": "ipython3",
   "version": "3.12.0"
  }
 },
 "nbformat": 4,
 "nbformat_minor": 2
}
