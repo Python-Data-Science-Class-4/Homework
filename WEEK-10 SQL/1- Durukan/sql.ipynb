{
 "cells": [
  {
   "cell_type": "code",
   "execution_count": null,
   "metadata": {},
   "outputs": [],
   "source": [
    "# 1- Set up a server named 'InfoTechDB'. (M)\n",
    "# Done"
   ]
  },
  {
   "cell_type": "code",
   "execution_count": 13,
   "metadata": {},
   "outputs": [],
   "source": [
    "# 2- Create 'class4' database (M). Database deleted (M). Create the same database again (K)\n",
    "# create database class4;\n",
    "\n",
    "\n"
   ]
  },
  {
   "cell_type": "code",
   "execution_count": 14,
   "metadata": {},
   "outputs": [],
   "source": [
    "# 3- https://www.postgresqltutorial.com/postgresql-sample-database/ . Get the ERD at this link. Write at least 5 relationships between this ERD and the tables. (Which table has what kind of relationship with other tables?)\n",
    "\n",
    "# language ---> film one to many\n",
    "# store ---> staff one to one\n",
    "# store ---> staff one to one\n",
    "# city ---> country many to one\n",
    "# inventory ---> film many to one"
   ]
  },
  {
   "cell_type": "code",
   "execution_count": null,
   "metadata": {},
   "outputs": [],
   "source": [
    "# 4- Create 3 of the tables in the ERD. (M)\n",
    "\n",
    "# Done"
   ]
  },
  {
   "cell_type": "code",
   "execution_count": 15,
   "metadata": {},
   "outputs": [],
   "source": [
    "# 5- Create 3 of the tables in the ERD. (K)\n",
    "# CREATE TABLE film (\n",
    "# \tfilm_id INT,\n",
    "# \ttitle VARCHAR(50),\n",
    "# \tdescription VARCHAR(50),\n",
    "# \trelease_year INT,\n",
    "# \tlanguage_id INT\n",
    "# )"
   ]
  },
  {
   "cell_type": "code",
   "execution_count": 16,
   "metadata": {},
   "outputs": [],
   "source": [
    "# 6- Create 3 of the tables in the ERD. (C)\n",
    "import psycopg2\n",
    "\n",
    "conn = psycopg2.connect(\"dbname=class4 user=postgres password=1 host=localhost port=5432\")\n",
    "\n",
    "cur = conn.cursor()\n",
    "\n",
    "command = '''CREATE TABLE language2(\n",
    "language_id SERIAL PRIMARY KEY,\n",
    "name VARCHAR(50) NOT NULL\n",
    ")'''\n",
    "\n",
    "cur.execute(command)\n",
    "cur.close()\n",
    "conn.commit()\n",
    "conn.close()"
   ]
  },
  {
   "cell_type": "code",
   "execution_count": null,
   "metadata": {},
   "outputs": [],
   "source": [
    "# 7- Enter 5 data entries into the 3 tables you created. (M)\n",
    "\n",
    "# Done"
   ]
  },
  {
   "cell_type": "code",
   "execution_count": 17,
   "metadata": {},
   "outputs": [],
   "source": [
    "# 8- Enter 5 data entries with the 3 tables you created. (K)\n",
    "# INSERT INTO film (\n",
    "# \ttitle, description, release_year, language_id\n",
    "# ) VALUES (\n",
    "# \t'The Godfather', '19722h 55mR', 1972, 1\n",
    "# );"
   ]
  },
  {
   "cell_type": "code",
   "execution_count": 18,
   "metadata": {},
   "outputs": [],
   "source": [
    "# 9 - Make 5 data entries into the 3 tables you created. (C)\n",
    "import psycopg2\n",
    "\n",
    "conn = psycopg2.connect(\"dbname=class4 user=postgres password=1 host=localhost port=5432\")\n",
    "cur = conn.cursor()\n",
    "\n",
    "cur.execute('INSERT INTO film (title, description, release_year, language_id) VALUES (%s, %s, %s, %s)', (\"The Dark Knight\", \"20082h 32mPG-13\", 2008, 1))\n",
    "\n",
    "cur.close()\n",
    "conn.commit()\n",
    "conn.close()"
   ]
  },
  {
   "cell_type": "code",
   "execution_count": null,
   "metadata": {},
   "outputs": [],
   "source": [
    "# 10- Replace one piece of data in each of the 3 tables. (M)"
   ]
  },
  {
   "cell_type": "code",
   "execution_count": 19,
   "metadata": {},
   "outputs": [],
   "source": [
    "# 11- Replace one piece of data in each of the 3 tables. (K)\n",
    "# UPDATE film\n",
    "# SET description='updated'\n",
    "# WHERE film_id = 3;"
   ]
  },
  {
   "cell_type": "code",
   "execution_count": 20,
   "metadata": {},
   "outputs": [],
   "source": [
    "# 12- Replace one piece of data in each of the 3 tables. (C)\n",
    "import psycopg2\n",
    "\n",
    "conn = psycopg2.connect(\"dbname=class4 user=postgres password=1 host=localhost port=5432\")\n",
    "cur = conn.cursor()\n",
    "\n",
    "cur.execute('UPDATE film SET description=%s WHERE film_id=2', ('updated',))\n",
    "\n",
    "cur.close()\n",
    "conn.commit()\n",
    "conn.close()"
   ]
  },
  {
   "cell_type": "code",
   "execution_count": null,
   "metadata": {},
   "outputs": [],
   "source": [
    "# 13- Delete the last row of 3 tables. (M)\n",
    "\n",
    "# Done"
   ]
  },
  {
   "cell_type": "code",
   "execution_count": null,
   "metadata": {},
   "outputs": [],
   "source": [
    "# 14- Delete the last row of table 3. (K)\n",
    "\n",
    "# DELETE FROM film WHERE film_id = (SELECT MAX(film_id) from film)"
   ]
  },
  {
   "cell_type": "code",
   "execution_count": 23,
   "metadata": {},
   "outputs": [],
   "source": [
    "# 15- Delete the last row of table 3. (C)\n",
    "\n",
    "import psycopg2\n",
    "\n",
    "conn = psycopg2.connect(\"dbname=class4 user=postgres password=1 host=localhost port=5432\")\n",
    "cur = conn.cursor()\n",
    "\n",
    "cur.execute('DELETE FROM film WHERE film_id = (SELECT MAX(film_id) from film)')\n",
    "\n",
    "cur.close()\n",
    "conn.commit()\n",
    "conn.close()"
   ]
  },
  {
   "cell_type": "code",
   "execution_count": null,
   "metadata": {},
   "outputs": [],
   "source": [
    "# 16- Delete 1 table. (M)\n",
    "\n",
    "#Done"
   ]
  },
  {
   "cell_type": "code",
   "execution_count": null,
   "metadata": {},
   "outputs": [],
   "source": [
    "# 17- Delete 1 table. (K)\n",
    "\n",
    "# DROP TABLE language"
   ]
  },
  {
   "cell_type": "code",
   "execution_count": 22,
   "metadata": {},
   "outputs": [],
   "source": [
    "# 18- Delete 1 table. (C)\n",
    "\n",
    "import psycopg2\n",
    "\n",
    "conn = psycopg2.connect(\"dbname=class4 user=postgres password=1 host=localhost port=5432\")\n",
    "cur = conn.cursor()\n",
    "\n",
    "cur.execute('DROP TABLE language')\n",
    "\n",
    "cur.close()\n",
    "conn.commit()\n",
    "conn.close()"
   ]
  },
  {
   "cell_type": "code",
   "execution_count": null,
   "metadata": {},
   "outputs": [],
   "source": [
    "# 19- Create another table with 2 or 3 columns from one of the remaining tables. (K)\n",
    "# CREATE TABLE film_titles AS\n",
    "# SELECT title, release_year FROM film;"
   ]
  },
  {
   "cell_type": "code",
   "execution_count": 24,
   "metadata": {},
   "outputs": [],
   "source": [
    "# 20- Create another table with 2 or 3 columns from one of the remaining tables. (C)\n",
    "\n",
    "import psycopg2\n",
    "\n",
    "conn = psycopg2.connect(\"dbname=class4 user=postgres password=1 host=localhost port=5432\")\n",
    "cur = conn.cursor()\n",
    "\n",
    "cur.execute('''\n",
    "CREATE TABLE film_titles AS\n",
    "SELECT title, release_year FROM film;\n",
    "''')\n",
    "\n",
    "cur.close()\n",
    "conn.commit()\n",
    "conn.close()"
   ]
  },
  {
   "cell_type": "code",
   "execution_count": null,
   "metadata": {},
   "outputs": [],
   "source": [
    "# 21- Truncate 1 of the tables. (M)\n",
    "\n",
    "# Done"
   ]
  },
  {
   "cell_type": "code",
   "execution_count": null,
   "metadata": {},
   "outputs": [],
   "source": [
    "# 22- Truncate 1 of the tables. (K)\n",
    "\n",
    "# TRUNCATE TABLE film_titles;"
   ]
  },
  {
   "cell_type": "code",
   "execution_count": 26,
   "metadata": {},
   "outputs": [],
   "source": [
    "# 23- Truncate 1 of the tables. (C)\n",
    "\n",
    "import psycopg2\n",
    "\n",
    "conn = psycopg2.connect(\"dbname=class4 user=postgres password=1 host=localhost port=5432\")\n",
    "cur = conn.cursor()\n",
    "\n",
    "cur.execute('''\n",
    "TRUNCATE TABLE film_titles;\n",
    "''')\n",
    "\n",
    "cur.close()\n",
    "conn.commit()\n",
    "conn.close()\n"
   ]
  },
  {
   "cell_type": "code",
   "execution_count": null,
   "metadata": {},
   "outputs": [],
   "source": [
    "# 24- Delete the truncated tables. (M)\n",
    "\n",
    "# Done"
   ]
  },
  {
   "cell_type": "code",
   "execution_count": null,
   "metadata": {},
   "outputs": [],
   "source": [
    "# 25- Delete 2 tables. (K)\n",
    "\n",
    "# DROP TABLE film_titles\n",
    "# DROP TABLE language\n"
   ]
  },
  {
   "cell_type": "code",
   "execution_count": 28,
   "metadata": {},
   "outputs": [],
   "source": [
    "# 26- Delete 2 tables. (C)\n",
    "\n",
    "import psycopg2\n",
    "\n",
    "conn = psycopg2.connect(\"dbname=class4 user=postgres password=1 host=localhost port=5432\")\n",
    "cur = conn.cursor()\n",
    "\n",
    "cur.execute('''\n",
    "DROP TABLE film_category, language;\n",
    "''')\n",
    "\n",
    "cur.close()\n",
    "conn.commit()\n",
    "conn.close()"
   ]
  },
  {
   "cell_type": "code",
   "execution_count": null,
   "metadata": {},
   "outputs": [],
   "source": [
    "# 27- You should have 1 table left with data. Save the table as a CSV file on your computer.\n",
    "\n",
    "# Done"
   ]
  },
  {
   "cell_type": "code",
   "execution_count": null,
   "metadata": {},
   "outputs": [],
   "source": [
    "# 28- Delete the last table in the PostgreSQL directory. (K)\n",
    "\n",
    "# DROP TABLE film"
   ]
  },
  {
   "cell_type": "code",
   "execution_count": null,
   "metadata": {},
   "outputs": [],
   "source": [
    "# 29- Import the CSV file into the PostgreSQL database via pgAdmin4 interface.\n",
    "\n",
    "# Done"
   ]
  },
  {
   "cell_type": "code",
   "execution_count": 29,
   "metadata": {},
   "outputs": [],
   "source": [
    "# 30- Delete the table you imported. (C)\n",
    "import psycopg2\n",
    "\n",
    "conn = psycopg2.connect(\"dbname=class4 user=postgres password=1 host=localhost port=5432\")\n",
    "cur = conn.cursor()\n",
    "\n",
    "cur.execute('''\n",
    "DROP TABLE film;\n",
    "''')\n",
    "\n",
    "cur.close()\n",
    "conn.commit()\n",
    "conn.close()"
   ]
  },
  {
   "cell_type": "code",
   "execution_count": null,
   "metadata": {},
   "outputs": [],
   "source": [
    "# 31- \"Download the sample database from the link https://www.postgresqltutorial.com/postgresql-sample-database/ to your computer and then upload it to the interface.\"\n",
    "\n",
    "# Done"
   ]
  },
  {
   "cell_type": "code",
   "execution_count": null,
   "metadata": {},
   "outputs": [],
   "source": [
    "# 32- \"There should be 15 tables in your database. Please view each table one by one, examine the column names, and make note of which column serves as the Primary Key (PK) and which one serves as the Foreign Key (FK) in each of the 5 tables.\"\n",
    "\n",
    "\n",
    "\n",
    "# NOTE: For the questions below, write the table names between the question and the solution.\n",
    "\n",
    "\n",
    "# Done"
   ]
  },
  {
   "cell_type": "code",
   "execution_count": null,
   "metadata": {},
   "outputs": [],
   "source": [
    "# 33- What is the average duration of action movies?\n",
    "\n",
    "# SELECT AVG(rental_duration) from film;"
   ]
  },
  {
   "cell_type": "code",
   "execution_count": null,
   "metadata": {},
   "outputs": [],
   "source": [
    "# 34- Which store has the most staff?\n",
    "\n",
    "# Staff table"
   ]
  },
  {
   "cell_type": "code",
   "execution_count": 30,
   "metadata": {},
   "outputs": [],
   "source": [
    "# 35- What is the rating of the films of the actor named 'Gene Willis'?\n",
    "\n",
    "# SELECT rating from film WHERE film_id IN (\n",
    "# \tSELECT film_id from film_actor WHERE actor_id = (\n",
    "# \t\tSELECT actor_id from actor WHERE first_name = 'Gene' AND last_name = 'Willis'\n",
    "# \t)\n",
    "# )"
   ]
  },
  {
   "cell_type": "code",
   "execution_count": null,
   "metadata": {},
   "outputs": [],
   "source": [
    "# 36- What is the number of active customers?\n",
    "\n",
    "# SELECT COUNT(customer) from customer where activebool = true;"
   ]
  },
  {
   "cell_type": "code",
   "execution_count": null,
   "metadata": {},
   "outputs": [],
   "source": [
    "# 37- What are the movies that start with the letter 'C'?\n",
    "\n",
    "# SELECT title FROM film where title like 'C%'"
   ]
  },
  {
   "cell_type": "code",
   "execution_count": null,
   "metadata": {},
   "outputs": [],
   "source": [
    "# 38- What is the email address of customers who pay less than $4?\n",
    "\n",
    "# SELECT email from customer where customer_id in (\n",
    "# \tSELECT customer_id from payment where amount < 4\n",
    "# )"
   ]
  },
  {
   "cell_type": "code",
   "execution_count": null,
   "metadata": {},
   "outputs": [],
   "source": [
    "# 39- Table of staff and customers residing in Moscow? (only name/surname columns)\n",
    "#  Address, City, Staff, Customer tables gives the result\n"
   ]
  },
  {
   "cell_type": "code",
   "execution_count": null,
   "metadata": {},
   "outputs": [],
   "source": [
    "# 40- What are the 5 least rented movies?\n",
    "# Film table"
   ]
  },
  {
   "cell_type": "code",
   "execution_count": null,
   "metadata": {},
   "outputs": [],
   "source": [
    "# 41- Which English movies were released in 2006?\n",
    "# Language and movie table"
   ]
  }
 ],
 "metadata": {
  "kernelspec": {
   "display_name": "Python 3",
   "language": "python",
   "name": "python3"
  },
  "language_info": {
   "codemirror_mode": {
    "name": "ipython",
    "version": 3
   },
   "file_extension": ".py",
   "mimetype": "text/x-python",
   "name": "python",
   "nbconvert_exporter": "python",
   "pygments_lexer": "ipython3",
   "version": "3.12.0"
  }
 },
 "nbformat": 4,
 "nbformat_minor": 2
}
