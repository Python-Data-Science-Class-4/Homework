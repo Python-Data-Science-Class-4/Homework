{
 "cells": [
  {
   "cell_type": "markdown",
   "metadata": {},
   "source": [
    "# WEEK-10 SQL HOMEWORK\n",
    "\n",
    "(M:Manually, K:With SQL commands, C:With Python codes)\n",
    "\n",
    "\n",
    "**EXPLANATION: For the questions labeled with 'K' and 'C', save the solutions/answers in this file, with each question and its answer in the same cell. Please paste the questions as comment lines. For the questions labeled with 'M,' you can simply write 'Done' below the question in a cell. Refer to the next cells for examples. Before uploading your assignment to GitHub, please delete the sample cells from the file!**"
   ]
  },
  {
   "cell_type": "code",
   "execution_count": null,
   "metadata": {},
   "outputs": [],
   "source": [
    "# 1- Set up a server named 'InfoTechDB'. (M)\n",
    "# DONE"
   ]
  },
  {
   "cell_type": "code",
   "execution_count": 18,
   "metadata": {},
   "outputs": [],
   "source": [
    "# 2- Create 'class4' database (M). Database deleted (M). \n",
    "# DONE\n",
    "# Create the same database again (K)\n",
    "\n",
    "import psycopg2\n",
    "\n",
    "db_user = \"postgres\"\n",
    "db_password = \"Carry4176@\"\n",
    "db_host = \"localhost\"  # \"InfoTechDB\" is my PostgreSQL server\n",
    "db_port = \"5432\"  # Default PostgreSQL port\n",
    "\n",
    "# Connect to the PostgreSQL server\n",
    "conn = psycopg2.connect(user=db_user, password=db_password, host=db_host, port=db_port)\n",
    "\n",
    "# Disable autocommit mode to avoid running in a transaction (to avoid errors)\n",
    "conn.autocommit = True\n",
    "\n",
    "# Create a new database called \"class4\"\n",
    "command1 = \"CREATE DATABASE class4;\"\n",
    "cur = conn.cursor()\n",
    "\n",
    "# Executing SQL command by using cursor\n",
    "cur.execute(command1)\n",
    "\n",
    "# Close the cursor\n",
    "cur.close()\n",
    "\n",
    "# Commit the changes to the database\n",
    "conn.commit()\n",
    "\n",
    "# Close the connection to the PostgreSQL server\n",
    "conn.close()\n"
   ]
  },
  {
   "cell_type": "code",
   "execution_count": null,
   "metadata": {},
   "outputs": [],
   "source": [
    "# 3- https://www.postgresqltutorial.com/postgresql-sample-database/ \n",
    "# Get the ERD at this link. Write at least 5 relationships between this ERD and the tables. (Which table has what kind of relationship with other tables?)\n",
    "\n",
    "# 1- film to language >> many-to-one relationship >>: Each film is related to one language; there can be many films in one language, but each film can have only one language.\n",
    "# 2- inventory to film >> many-to-one relationship >>: Each inventory item corresponds to a specific film, but each film can have multiple inventory items within different stores.\n",
    "# 3- rental to inventory and customer >> many-to-one relationship >>: Each rental record is associated with one inventory item and one customer; a customer can rent many items, and each item can be rented multiple times to different customers.\n",
    "# 4- payment to customer and staff >> many-to-one relationship >>: Each payment is linked to a specific customer and a staff member; a customer can make many payments, and a staff member can process many payments, but each payment record is associated with only one customer and one staff member.\n",
    "# 5- actor to film_actor and film to film_actor >> many-to-many relationship >>: An actor can play in multiple films, and a film can have multiple actors. The film_actor table has unique pairings of film_id and actor_id to provide this many-to-many relationship."
   ]
  },
  {
   "cell_type": "code",
   "execution_count": null,
   "metadata": {},
   "outputs": [],
   "source": [
    "# 4- Create 3 of the tables in the ERD. (M) \n",
    "# DONE"
   ]
  },
  {
   "cell_type": "code",
   "execution_count": null,
   "metadata": {},
   "outputs": [],
   "source": [
    "# 5- Create 3 of the tables in the ERD. (K)\n",
    "# CREATE TABLE film_actor (\n",
    "#     actor_id INT NOT NULL,\n",
    "#     film_id INT NOT NULL,\n",
    "#     last_update TIMESTAMP NOT NULL DEFAULT CURRENT_TIMESTAMP\n",
    "# );\n",
    "\n",
    "# CREATE TABLE language (\n",
    "#     language_id SERIAL PRIMARY KEY,\n",
    "#     name VARCHAR(20) NOT NULL,\n",
    "#     last_update TIMESTAMP NOT NULL DEFAULT CURRENT_TIMESTAMP\n",
    "# );\n",
    "\n",
    "# CREATE TABLE inventory (\n",
    "#     inventory_id SERIAL PRIMARY KEY,\n",
    "#     film_id INT NOT NULL,\n",
    "#     store_id INT NOT NULL,\n",
    "#     last_update TIMESTAMP NOT NULL DEFAULT CURRENT_TIMESTAMP\n",
    "# );"
   ]
  },
  {
   "cell_type": "code",
   "execution_count": 20,
   "metadata": {},
   "outputs": [
    {
     "name": "stdout",
     "output_type": "stream",
     "text": [
      "Tables created successfully\n"
     ]
    }
   ],
   "source": [
    "# 6- Create 3 of the tables in the ERD. (C)\n",
    "import psycopg2\n",
    "from psycopg2 import sql\n",
    "\n",
    "# Database connection parameters\n",
    "db_params = {'dbname': 'class4', 'user': 'postgres', 'password': 'Carry4176@', 'host': 'localhost'}\n",
    "\n",
    "# SQL statements to create tables\n",
    "create_tables_commands = [\n",
    "    \"\"\"\n",
    "    CREATE TABLE actor (\n",
    "        actor_id SERIAL PRIMARY KEY,\n",
    "        first_name VARCHAR(45) NOT NULL,\n",
    "        last_name VARCHAR(45) NOT NULL,\n",
    "        last_update TIMESTAMP NOT NULL DEFAULT CURRENT_TIMESTAMP\n",
    "    )\n",
    "    \"\"\",\n",
    "    \"\"\"\n",
    "    CREATE TABLE store (\n",
    "        store_id SERIAL PRIMARY KEY,\n",
    "        manager_staff_id INT NOT NULL,\n",
    "        address_id INT NOT NULL,\n",
    "        last_update TIMESTAMP NOT NULL DEFAULT CURRENT_TIMESTAMP\n",
    "    )\n",
    "    \"\"\",\n",
    "    \"\"\"\n",
    "    CREATE TABLE address (\n",
    "        address_id SERIAL PRIMARY KEY,\n",
    "        address VARCHAR(50) NOT NULL,\n",
    "        address2 VARCHAR(50),\n",
    "        district VARCHAR(20) NOT NULL,\n",
    "        city_id INT NOT NULL,\n",
    "        postal_code VARCHAR(10),\n",
    "        phone VARCHAR(20) NOT NULL,\n",
    "        last_update TIMESTAMP NOT NULL DEFAULT CURRENT_TIMESTAMP\n",
    "    )\n",
    "    \"\"\"\n",
    "]\n",
    "\n",
    "# Connect to the PostgreSQL database\n",
    "conn = None\n",
    "try:\n",
    "    # Establish a connection to the database\n",
    "    conn = psycopg2.connect(**db_params)\n",
    "    cur = conn.cursor()\n",
    "    \n",
    "    # Create each table\n",
    "    for command in create_tables_commands:\n",
    "        cur.execute(command)\n",
    "    \n",
    "    # Close communication with the database\n",
    "    cur.close()\n",
    "    \n",
    "    # Commit the changes\n",
    "    conn.commit()\n",
    "except (Exception, psycopg2.DatabaseError) as error:\n",
    "    print(error)\n",
    "finally:\n",
    "    if conn is not None:\n",
    "        conn.close()\n",
    "\n",
    "print(\"Tables created successfully\")\n",
    "\n"
   ]
  },
  {
   "cell_type": "code",
   "execution_count": null,
   "metadata": {},
   "outputs": [],
   "source": [
    "# 7- Enter 5 data entries into the 3 tables you created. (M)\n",
    "\n",
    "# DONE"
   ]
  },
  {
   "cell_type": "code",
   "execution_count": null,
   "metadata": {},
   "outputs": [],
   "source": [
    "# 8- Enter 5 data entries with the 3 tables you created. (K)\n",
    "# -- INSERT INTO film (title, description, release_year, language_id, rental_duration, rental_rate, replacement_cost, rating) VALUES\n",
    "# -- ('The Adventure Begins', 'An epic journey of a hero', 2021, 1, 3, 4.99, 19.99, 'PG'),\n",
    "# -- ('Laugh Out Loud', 'A comedy that will keep you laughing', 2020, 1, 3, 4.99, 19.99, 'PG-13'),\n",
    "# -- ('Dramatic Times', 'A drama that will touch your heart', 2019, 1, 3, 4.99, 19.99, 'R'),\n",
    "# -- ('Scary Night', 'A horror movie that will scare you', 2018, 1, 3, 4.99, 19.99, 'NC-17'),\n",
    "# -- ('Future Worlds', 'A sci-fi film set in the future', 2022, 1, 3, 4.99, 19.99, 'G');\n",
    "\n",
    "\n",
    "# -- INSERT INTO film_actor (actor_id, film_id) VALUES\n",
    "# -- (1, 1),\n",
    "# -- (2, 2),\n",
    "# -- (3, 3),\n",
    "# -- (4, 4),\n",
    "# -- (5, 5);\n",
    "\n",
    "\n",
    "# INSERT INTO film_category (film_id, category_id) VALUES\n",
    "# (1, 1),\n",
    "# (2, 2),\n",
    "# (3, 3),\n",
    "# (4, 4),\n",
    "# (5, 5);"
   ]
  },
  {
   "cell_type": "code",
   "execution_count": 2,
   "metadata": {},
   "outputs": [
    {
     "name": "stdout",
     "output_type": "stream",
     "text": [
      "Data inserted successfully\n"
     ]
    }
   ],
   "source": [
    "# 9- Make 5 data entries into the 3 tables you created. (C)\n",
    "import psycopg2\n",
    "\n",
    "# Database connection parameters\n",
    "db_params = {'dbname': 'class4', 'user': 'postgres', 'password': 'Carry4176@', 'host': 'localhost'}\n",
    "\n",
    "# Connect to the PostgreSQL database\n",
    "conn = None # setting a default value to create secure connection\n",
    "try:\n",
    "    conn = psycopg2.connect(**db_params)\n",
    "    cur = conn.cursor()\n",
    "\n",
    "    # Insert data into the language table\n",
    "    cur.execute(\"\"\"\n",
    "        INSERT INTO language (name) VALUES \n",
    "        ('English'),\n",
    "        ('French'),\n",
    "        ('German'),\n",
    "        ('Spanish'),\n",
    "        ('Japanese');\n",
    "    \"\"\")\n",
    "\n",
    "    # Insert data into the inventory table (from film_id and store_id values)\n",
    "    cur.execute(\"\"\"\n",
    "        INSERT INTO inventory (film_id, store_id) VALUES \n",
    "        (1, 1),\n",
    "        (2, 1),\n",
    "        (3, 1),\n",
    "        (4, 1),\n",
    "        (5, 1);\n",
    "    \"\"\")\n",
    "\n",
    "    # Insert data into the store table (from manager_staff_id and address_id values)\n",
    "    cur.execute(\"\"\"\n",
    "        INSERT INTO store (manager_staff_id, address_id) VALUES \n",
    "        (1, 1),\n",
    "        (2, 2),\n",
    "        (3, 3),\n",
    "        (4, 4),\n",
    "        (5, 5);\n",
    "    \"\"\")\n",
    "\n",
    "    # Commit the changes\n",
    "    conn.commit()\n",
    "\n",
    "    # Close communication with the database\n",
    "    cur.close()\n",
    "    print(\"Data inserted successfully\")\n",
    "except (Exception, psycopg2.DatabaseError) as error:\n",
    "    print(error)\n",
    "finally:\n",
    "    if conn is not None:\n",
    "        conn.close()\n",
    "\n"
   ]
  },
  {
   "cell_type": "code",
   "execution_count": null,
   "metadata": {},
   "outputs": [],
   "source": [
    "# 10- Replace one piece of data in each of the 3 tables. (M)\n",
    "\n",
    "# DONE"
   ]
  },
  {
   "cell_type": "code",
   "execution_count": null,
   "metadata": {},
   "outputs": [],
   "source": [
    "# 11- Replace one piece of data in each of the 3 tables. (K)\n",
    "\n",
    "# UPDATE inventory\n",
    "# SET store_id = 2\n",
    "# WHERE inventory_id = 1;\n",
    "\n",
    "# UPDATE language\n",
    "# SET name = 'Italian'\n",
    "# WHERE language_id = 1;\n",
    "\n",
    "# UPDATE store\n",
    "# SET manager_staff_id = 3\n",
    "# WHERE store_id = 1;\n"
   ]
  },
  {
   "cell_type": "code",
   "execution_count": 4,
   "metadata": {},
   "outputs": [
    {
     "name": "stdout",
     "output_type": "stream",
     "text": [
      "Data updated successfully\n"
     ]
    }
   ],
   "source": [
    "# 12- Replace one piece of data in each of the 3 tables. (C)\n",
    "\n",
    "import psycopg2\n",
    "\n",
    "# Database connection parameters\n",
    "db_params = {'dbname': 'class4', 'user': 'postgres', 'password': 'Carry4176@', 'host': 'localhost'}\n",
    "\n",
    "\n",
    "# Connect to the PostgreSQL database\n",
    "conn = None\n",
    "try:\n",
    "    conn = psycopg2.connect(**db_params)\n",
    "    cur = conn.cursor()\n",
    "\n",
    "    # Update a record in the film table\n",
    "    cur.execute(\"\"\"\n",
    "        UPDATE film\n",
    "        SET title = 'New Film Title'\n",
    "        WHERE film_id = 1; \n",
    "    \"\"\")\n",
    "\n",
    "    # Update a record in the film_actor table\n",
    "    cur.execute(\"\"\"\n",
    "        UPDATE film_actor\n",
    "        SET actor_id = 2 \n",
    "        WHERE film_id = 1 AND actor_id = 1; \n",
    "    \"\"\")\n",
    "\n",
    "    # Update a record in the film_category table\n",
    "    cur.execute(\"\"\"\n",
    "        UPDATE film_category\n",
    "        SET category_id = 3 \n",
    "        WHERE film_id = 1 AND category_id = 1; \n",
    "    \"\"\")\n",
    "\n",
    "    # Commit the updates\n",
    "    conn.commit()\n",
    "\n",
    "    # Close communication with the database\n",
    "    cur.close()\n",
    "    print(\"Data updated successfully\")\n",
    "except (Exception, psycopg2.DatabaseError) as error:\n",
    "    print(error)\n",
    "finally:\n",
    "    if conn is not None:\n",
    "        conn.close()"
   ]
  },
  {
   "cell_type": "code",
   "execution_count": null,
   "metadata": {},
   "outputs": [],
   "source": [
    "# 13- Delete the last row of 3 tables. (M)\n",
    "\n",
    "# DONE"
   ]
  },
  {
   "cell_type": "code",
   "execution_count": null,
   "metadata": {},
   "outputs": [],
   "source": [
    "# 14- Delete the last row of 3 tables. (K)\n",
    "\n",
    "# DELETE FROM film\n",
    "# WHERE film_id = (SELECT MAX(film_id) FROM film);\n",
    "\n",
    "# DELETE FROM film_actor\n",
    "# WHERE film_id = (SELECT MAX(film_id) FROM film_actor);\n",
    "\n",
    "# DELETE FROM film_category\n",
    "# WHERE film_id = (SELECT MAX(film_id) FROM film_category);\n"
   ]
  },
  {
   "cell_type": "code",
   "execution_count": 5,
   "metadata": {},
   "outputs": [
    {
     "name": "stdout",
     "output_type": "stream",
     "text": [
      "Last rows deleted successfully\n"
     ]
    }
   ],
   "source": [
    "# 15- Delete the last row of 3 tables. (C)\n",
    "import psycopg2\n",
    "\n",
    "# Database connection parameters\n",
    "db_params = {'dbname': 'class4', 'user': 'postgres', 'password': 'Carry4176@', 'host': 'localhost'}\n",
    "\n",
    "\n",
    "# Connect to the PostgreSQL database\n",
    "conn = None\n",
    "try:\n",
    "    conn = psycopg2.connect(**db_params)\n",
    "    cur = conn.cursor()\n",
    "\n",
    "    # Delete the last row from the inventory table\n",
    "    cur.execute(\"\"\"\n",
    "        DELETE FROM inventory\n",
    "        WHERE inventory_id = (SELECT MAX(inventory_id) FROM inventory);\n",
    "    \"\"\")\n",
    "\n",
    "    # Delete the last row from the language table\n",
    "    cur.execute(\"\"\"\n",
    "        DELETE FROM language\n",
    "        WHERE language_id = (SELECT MAX(language_id) FROM language);\n",
    "    \"\"\")\n",
    "\n",
    "    # Delete the last row from the store table\n",
    "    cur.execute(\"\"\"\n",
    "        DELETE FROM store\n",
    "        WHERE store_id = (SELECT MAX(store_id) FROM store);\n",
    "    \"\"\")\n",
    "\n",
    "    # Commit the changes\n",
    "    conn.commit()\n",
    "\n",
    "    # Close communication with the database\n",
    "    cur.close()\n",
    "    print(\"Last rows deleted successfully\")\n",
    "except (Exception, psycopg2.DatabaseError) as error:\n",
    "    print(error)\n",
    "finally:\n",
    "    if conn is not None:\n",
    "        conn.close()\n",
    "\n"
   ]
  },
  {
   "cell_type": "code",
   "execution_count": null,
   "metadata": {},
   "outputs": [],
   "source": [
    "# 16- Delete 1 table. (M)\n",
    "\n",
    "# DONE"
   ]
  },
  {
   "cell_type": "code",
   "execution_count": null,
   "metadata": {},
   "outputs": [],
   "source": [
    "# 17- Delete 1 table. (K)\n",
    "\n",
    "# DROP TABLE address;"
   ]
  },
  {
   "cell_type": "code",
   "execution_count": 6,
   "metadata": {},
   "outputs": [
    {
     "name": "stdout",
     "output_type": "stream",
     "text": [
      "Store table deleted successfully\n"
     ]
    }
   ],
   "source": [
    "# 18- Delete 1 table. (C)\n",
    "\n",
    "import psycopg2\n",
    "\n",
    "# Database connection parameters\n",
    "db_params = {'dbname': 'class4', 'user': 'postgres', 'password': 'Carry4176@', 'host': 'localhost'}\n",
    "\n",
    "\n",
    "# Connect to the PostgreSQL database\n",
    "conn = None\n",
    "try:\n",
    "    conn = psycopg2.connect(**db_params)\n",
    "    cur = conn.cursor()\n",
    "\n",
    "    # Drop the store table\n",
    "    cur.execute(\"DROP TABLE store;\")\n",
    "\n",
    "    # Commit the changes\n",
    "    conn.commit()\n",
    "\n",
    "    # Close communication with the database\n",
    "    cur.close()\n",
    "    print(\"Store table deleted successfully\")\n",
    "except (Exception, psycopg2.DatabaseError) as error:\n",
    "    print(error)\n",
    "finally:\n",
    "    if conn is not None:\n",
    "        conn.close()\n",
    "\n"
   ]
  },
  {
   "cell_type": "code",
   "execution_count": null,
   "metadata": {},
   "outputs": [],
   "source": [
    "# 19- Create another table with 2 or 3 columns from one of the remaining tables. (K)\n",
    "\n",
    "# CREATE TABLE film_summary AS\n",
    "# SELECT film_id, title, description\n",
    "# FROM film;\n",
    "\n"
   ]
  },
  {
   "cell_type": "code",
   "execution_count": 7,
   "metadata": {},
   "outputs": [
    {
     "name": "stdout",
     "output_type": "stream",
     "text": [
      "table created successfully\n"
     ]
    }
   ],
   "source": [
    "# 20- Create another table with 2 or 3 columns from one of the remaining tables. (C)\n",
    "import psycopg2\n",
    "\n",
    "# Database connection parameters\n",
    "db_params = {'dbname': 'class4', 'user': 'postgres', 'password': 'Carry4176@', 'host': 'localhost'}\n",
    "\n",
    "# Connect to the PostgreSQL database\n",
    "conn = None\n",
    "try:\n",
    "    conn = psycopg2.connect(**db_params)\n",
    "    cur = conn.cursor()\n",
    "\n",
    "    # Create the new table customer_contacts from the customer table\n",
    "    cur.execute(\"\"\"\n",
    "        CREATE TABLE current_film_titles AS\n",
    "        SELECT film_id, title\n",
    "        FROM film;\n",
    "    \"\"\")\n",
    "\n",
    "    # Commit the changes\n",
    "    conn.commit()\n",
    "\n",
    "    # Close communication with the database\n",
    "    cur.close()\n",
    "    print(\"table created successfully\")\n",
    "except (Exception, psycopg2.DatabaseError) as error:\n",
    "    print(error)\n",
    "finally:\n",
    "    if conn is not None:\n",
    "        conn.close()\n",
    "\n"
   ]
  },
  {
   "cell_type": "code",
   "execution_count": null,
   "metadata": {},
   "outputs": [],
   "source": [
    "# 21- Truncate 1 of the tables. (M)\n",
    "\n",
    "# DONE\n"
   ]
  },
  {
   "cell_type": "code",
   "execution_count": null,
   "metadata": {},
   "outputs": [],
   "source": [
    "# 22- Truncate 1 of the tables. (K)\n",
    "\n",
    "# TRUNCATE TABLE inventory;\n"
   ]
  },
  {
   "cell_type": "code",
   "execution_count": 9,
   "metadata": {},
   "outputs": [
    {
     "name": "stdout",
     "output_type": "stream",
     "text": [
      "table truncated successfully\n"
     ]
    }
   ],
   "source": [
    "# 23- Truncate 1 of the tables. (C)\n",
    "\n",
    "import psycopg2\n",
    "\n",
    "# Database connection parameters\n",
    "db_params = {'dbname': 'class4', 'user': 'postgres', 'password': 'Carry4176@', 'host': 'localhost'}\n",
    "\n",
    "# Connect to the PostgreSQL database\n",
    "conn = None\n",
    "try:\n",
    "    conn = psycopg2.connect(**db_params)\n",
    "    cur = conn.cursor()\n",
    "\n",
    "    # Truncate the customer_contacts table\n",
    "    cur.execute(\"TRUNCATE TABLE film_category;\")\n",
    "\n",
    "    # Commit the changes\n",
    "    conn.commit()\n",
    "\n",
    "    # Close communication with the database\n",
    "    cur.close()\n",
    "    print(\"table truncated successfully\")\n",
    "except (Exception, psycopg2.DatabaseError) as error:\n",
    "    print(error)\n",
    "finally:\n",
    "    if conn is not None:\n",
    "        conn.close()\n"
   ]
  },
  {
   "cell_type": "code",
   "execution_count": null,
   "metadata": {},
   "outputs": [],
   "source": [
    "# 24- Delete the truncated tables. (M)\n",
    "\n",
    "# DONE\n",
    "\n"
   ]
  },
  {
   "cell_type": "code",
   "execution_count": null,
   "metadata": {},
   "outputs": [],
   "source": [
    "# 25- Delete 2 tables. (K)\n",
    "\n",
    "# DROP TABLE category;\n",
    "# DROP TABLE current_film_titles;\n"
   ]
  },
  {
   "cell_type": "code",
   "execution_count": 10,
   "metadata": {},
   "outputs": [
    {
     "name": "stdout",
     "output_type": "stream",
     "text": [
      "Tables deleted successfully\n"
     ]
    }
   ],
   "source": [
    "# 26- Delete 2 tables. (C)\n",
    "\n",
    "import psycopg2\n",
    "\n",
    "# Database connection parameters\n",
    "db_params = {'dbname': 'class4', 'user': 'postgres', 'password': 'Carry4176@', 'host': 'localhost'}\n",
    "\n",
    "# Connect to the PostgreSQL database\n",
    "conn = None\n",
    "try:\n",
    "    conn = psycopg2.connect(**db_params)\n",
    "    cur = conn.cursor()\n",
    "\n",
    "    # Drop the actor table\n",
    "    cur.execute(\"DROP TABLE film_actor;\")\n",
    "\n",
    "    # Drop the address table\n",
    "    cur.execute(\"DROP TABLE film;\")\n",
    "\n",
    "    # Commit the changes\n",
    "    conn.commit()\n",
    "\n",
    "    # Close communication with the database\n",
    "    cur.close()\n",
    "    print(\"Tables deleted successfully\")\n",
    "except (Exception, psycopg2.DatabaseError) as error:\n",
    "    print(error)\n",
    "finally:\n",
    "    if conn is not None:\n",
    "        conn.close()\n"
   ]
  },
  {
   "cell_type": "code",
   "execution_count": null,
   "metadata": {},
   "outputs": [],
   "source": [
    "# 27- You should have 1 table remaining with data. Save the table as a CSV file on your computer using the pgAdmin4 interface.\n",
    "\n",
    "# DONE"
   ]
  },
  {
   "cell_type": "code",
   "execution_count": null,
   "metadata": {},
   "outputs": [],
   "source": [
    "# 28- Delete the last table in the PostgreSQL directory. (K)\n",
    "\n",
    "# DROP TABLE film_summary;\n"
   ]
  },
  {
   "cell_type": "code",
   "execution_count": null,
   "metadata": {},
   "outputs": [],
   "source": [
    "# 29- Import the CSV file into the PostgreSQL database using the pgAdmin4 interface.\n",
    "\n",
    "# DONE"
   ]
  },
  {
   "cell_type": "code",
   "execution_count": 12,
   "metadata": {},
   "outputs": [
    {
     "name": "stdout",
     "output_type": "stream",
     "text": [
      "Tables deleted successfully\n"
     ]
    }
   ],
   "source": [
    "# 30- Delete the table you imported. (C)\n",
    "\n",
    "import psycopg2\n",
    "\n",
    "# Database connection parameters\n",
    "db_params = {'dbname': 'class4', 'user': 'postgres', 'password': 'Carry4176@', 'host': 'localhost'}\n",
    "\n",
    "# Connect to the PostgreSQL database\n",
    "conn = None\n",
    "try:\n",
    "    conn = psycopg2.connect(**db_params)\n",
    "    cur = conn.cursor()\n",
    "\n",
    "    # Drop the film_summary table\n",
    "    cur.execute(\"DROP TABLE film_summary;\")\n",
    "\n",
    "    # Commit the changes\n",
    "    conn.commit()\n",
    "\n",
    "    # Close communication with the database\n",
    "    cur.close()\n",
    "    print(\"Tables deleted successfully\")\n",
    "except (Exception, psycopg2.DatabaseError) as error:\n",
    "    print(error)\n",
    "finally:\n",
    "    if conn is not None:\n",
    "        conn.close()"
   ]
  },
  {
   "cell_type": "code",
   "execution_count": null,
   "metadata": {},
   "outputs": [],
   "source": [
    "# 31- \"Download the sample database from the link https://www.postgresqltutorial.com/postgresql-sample-database/ to your computer and then upload it to the interface.\"\n",
    "\n",
    "# DONE"
   ]
  },
  {
   "cell_type": "code",
   "execution_count": null,
   "metadata": {},
   "outputs": [],
   "source": [
    "# 32- \"There should be 15 tables in your database. Please view each table one by one, examine the column names, \n",
    "# and make note of which column serves as the Primary Key (PK) and which one serves as the Foreign Key (FK) in each of the 5 tables.\"\n",
    "# actor > actor_id => primary key\n",
    "# film > film_id => primary key, language_id => foreign key (public.language)\n",
    "# category > category_id => primary key\n",
    "# city > city_id => primary key, country_id => foreign key (public.country)\n",
    "# customer > customer_id => primary key, address_id => foreign key (public.address)"
   ]
  },
  {
   "cell_type": "code",
   "execution_count": null,
   "metadata": {},
   "outputs": [],
   "source": [
    "# 33- What is the average duration of action movies? (K)\n",
    "# Tables => film, film_category, category\n",
    "\n",
    "# SELECT AVG(film.length) AS average_duration\n",
    "# FROM film\n",
    "# JOIN film_category ON film.film_id = film_category.film_id\n",
    "# JOIN category ON film_category.category_id = category.category_id\n",
    "# WHERE category.name = 'Action';\n",
    "\n",
    "# average_duration = 111.6093750000000000"
   ]
  },
  {
   "cell_type": "code",
   "execution_count": null,
   "metadata": {},
   "outputs": [],
   "source": [
    "# 34- Which store has the most staff? (K)\n",
    "\n",
    "# Tables => staff\n",
    "\n",
    "# SELECT store_id, COUNT(staff_id) AS staff_count\n",
    "# FROM staff\n",
    "# GROUP BY store_id\n",
    "# ORDER BY staff_count DESC\n",
    "# LIMIT 2;\n",
    "\n",
    "# staff_count = 1"
   ]
  },
  {
   "cell_type": "code",
   "execution_count": null,
   "metadata": {},
   "outputs": [],
   "source": [
    "# 35- What is the rating of the films of the actor named 'Gene Willis'? (K)\n",
    "# SELECT film.film_id, film.title, film.rating\n",
    "# FROM actor\n",
    "# JOIN film_actor ON actor.actor_id = film_actor.actor_id\n",
    "# JOIN film ON film_actor.film_id = film.film_id\n",
    "# WHERE actor.first_name = 'Gene' AND actor.last_name = 'Willis';\n",
    "\n",
    "# 23 films\n",
    "# 8\t    \"Airport Pollock\"\t\"R\"\n",
    "# 36\t\"Argonauts Town\"\t\"PG-13\"\n",
    "# 40\t\"Army Flintstones\"\t\"R\"\n",
    "# 54\t\"Banger Pinocchio\"\t\"R\"\n",
    "# 58\t\"Beach Heartbreakers\"\t\"G\"\n",
    "# 66\t\"Beneath Rush\"\t\"NC-17\"\n",
    "# 134\t\"Champion Flatliners\"\t\"PG\"\n",
    "# 209\t\"Darkness War\"\t\"NC-17\"\n",
    "# 244\t\"Dorado Notting\"\t\"NC-17\"\n",
    "# 320\t\"Flamingos Connecticut\"\t\"PG-13\"\n",
    "# 430\t\"Hook Chariots\"\t\"G\"\n",
    "# 452\t\"Illusion Amelie\"\t\"R\"\n",
    "# 486\t\"Jet Neighbors\"\t\"R\"\n",
    "# 572\t\"Metropolis Coma\"\t\"PG-13\"\n",
    "# 590\t\"Money Harold\"\t\"PG\"\n",
    "# 661\t\"Past Suicides\"\t\"PG-13\"\n",
    "# 778\t\"Secrets Paradise\"\t\"G\"\n",
    "# 832\t\"Splash Gump\"\t\"PG\"\n",
    "# 846\t\"Sting Personal\"\t\"NC-17\"\n",
    "# 874\t\"Tadpole Park\"\t\"PG\"\n",
    "# 945\t\"Virginian Pluto\"\t\"R\"\n",
    "# 968\t\"Werewolf Lola\"\t\"G\"\n",
    "# 987\t\"Words Hunter\"\t\"PG\""
   ]
  },
  {
   "cell_type": "code",
   "execution_count": null,
   "metadata": {},
   "outputs": [],
   "source": [
    "# 36- What is the number of active customers? (K)\n",
    "\n",
    "# SELECT COUNT(*) AS active_customers\n",
    "# FROM customer\n",
    "# WHERE active = 1;\n",
    "\n",
    "# active_customers = 584"
   ]
  },
  {
   "cell_type": "code",
   "execution_count": null,
   "metadata": {},
   "outputs": [],
   "source": [
    "# 37- What are the movies that start with the letter 'C'? (K)\n",
    "# SELECT film_id, title\n",
    "# FROM film\n",
    "# WHERE title LIKE 'C%';\n",
    "\n",
    "# There are 92 films that start with the letter 'C'\n",
    "\n",
    "# 133\t\"Chamber Italian\"\n",
    "# 126\t\"Casualties Encino\"\n",
    "# 110\t\"Cabin Flash\"\n",
    "# 111\t\"Caddyshack Jedi\"\n",
    "# 112\t\"Calendar Gunfight\"\n",
    "# 113\t\"California Birds\"\n",
    "# 114\t\"Camelot Vacation\"\n",
    "# 115\t\"Campus Remember\"\n",
    "# 116\t\"Candidate Perdition\"\n",
    "# 117\t\"Candles Grapes\"\n",
    "# 118\t\"Canyon Stock\"\n",
    "# 119\t\"Caper Motions\"\n",
    "# 120\t\"Caribbean Liberty\"\n",
    "# 121\t\"Carol Texas\"\n",
    "# 122\t\"Carrie Bunch\"\n",
    "# 123\t\"Casablanca Super\"\n",
    "# 124\t\"Casper Dragonfly\"\n",
    "# 125\t\"Cassidy Wyoming\"\n",
    "# 127\t\"Cat Coneheads\"\n",
    "# 128\t\"Catch Amistad\"\n",
    "# 129\t\"Cause Date\"\n",
    "# 130\t\"Celebrity Horn\"\n",
    "# 131\t\"Center Dinosaur\"\n",
    "# 132\t\"Chainsaw Uptown\"\n",
    "# 134\t\"Champion Flatliners\"\n",
    "# 135\t\"Chance Resurrection\"\n",
    "# 154\t\"Clash Freddy\"\n",
    "# 136\t\"Chaplin License\"\n",
    "# 137\t\"Charade Duffel\"\n",
    "# 138\t\"Chariots Conspiracy\"\n",
    "# 139\t\"Chasing Fight\"\n",
    "# 140\t\"Cheaper Clyde\"\n",
    "# 141\t\"Chicago North\"\n",
    "# 142\t\"Chicken Hellfighters\"\n",
    "# 143\t\"Chill Luck\"\n",
    "# 144\t\"Chinatown Gladiator\"\n",
    "# 145\t\"Chisum Behavior\"\n",
    "# 146\t\"Chitty Lock\"\n",
    "# 147\t\"Chocolat Harry\"\n",
    "# 148\t\"Chocolate Duck\"\n",
    "# 149\t\"Christmas Moonshine\"\n",
    "# 150\t\"Cider Desire\"\n",
    "# 151\t\"Cincinatti Whisperer\"\n",
    "# 152\t\"Circus Youth\"\n",
    "# 153\t\"Citizen Shrek\"\n",
    "# 155\t\"Cleopatra Devil\"\n",
    "# 156\t\"Clerks Angels\"\n",
    "# 157\t\"Clockwork Paradise\"\n",
    "# 158\t\"Clones Pinocchio\"\n",
    "# 159\t\"Closer Bang\"\n",
    "# 160\t\"Club Graffiti\"\n",
    "# 161\t\"Clue Grail\"\n",
    "# 162\t\"Clueless Bucket\"\n",
    "# 163\t\"Clyde Theory\"\n",
    "# 164\t\"Coast Rainbow\"\n",
    "# 184\t\"Core Suit\"\n",
    "# 165\t\"Coldblooded Darling\"\n",
    "# 166\t\"Color Philadelphia\"\n",
    "# 167\t\"Coma Head\"\n",
    "# 168\t\"Comancheros Enemy\"\n",
    "# 169\t\"Comforts Rush\"\n",
    "# 170\t\"Command Darling\"\n",
    "# 171\t\"Commandments Express\"\n",
    "# 172\t\"Coneheads Smoochy\"\n",
    "# 173\t\"Confessions Maguire\"\n",
    "# 174\t\"Confidential Interview\"\n",
    "# 175\t\"Confused Candles\"\n",
    "# 176\t\"Congeniality Quest\"\n",
    "# 177\t\"Connecticut Tramp\"\n",
    "# 178\t\"Connection Microcosmos\"\n",
    "# 179\t\"Conquerer Nuts\"\n",
    "# 180\t\"Conspiracy Spirit\"\n",
    "# 181\t\"Contact Anonymous\"\n",
    "# 182\t\"Control Anthem\"\n",
    "# 183\t\"Conversation Downhill\"\n",
    "# 185\t\"Cowboy Doom\"\n",
    "# 186\t\"Craft Outfield\"\n",
    "# 187\t\"Cranes Reservoir\"\n",
    "# 188\t\"Crazy Home\"\n",
    "# 189\t\"Creatures Shakespeare\"\n",
    "# 190\t\"Creepers Kane\"\n",
    "# 191\t\"Crooked Frogmen\"\n",
    "# 192\t\"Crossing Divorce\"\n",
    "# 193\t\"Crossroads Casualties\"\n",
    "# 194\t\"Crow Grease\"\n",
    "# 195\t\"Crowds Telemark\"\n",
    "# 196\t\"Cruelty Unforgiven\"\n",
    "# 197\t\"Crusade Honey\"\n",
    "# 198\t\"Crystal Breaking\"\n",
    "# 199\t\"Cupboard Sinners\"\n",
    "# 200\t\"Curtain Videotape\"\n",
    "# 201\t\"Cyclone Family\"\n"
   ]
  },
  {
   "cell_type": "code",
   "execution_count": null,
   "metadata": {},
   "outputs": [],
   "source": [
    "# 38- What is the email address of customers who pay less than $4? (K)\n",
    "\n",
    "# SELECT DISTINCT customer.customer_id, customer.first_name, customer.last_name, customer.email\n",
    "# FROM customer\n",
    "# JOIN payment ON customer.customer_id = payment.customer_id\n",
    "# WHERE payment.amount < 4;\n",
    "\n",
    "# there are 599 customers who pay less than $4\n",
    "# 114\t\"Grace\"\t\"Ellis\"\t\"grace.ellis@sakilacustomer.org\"\n",
    "# 172\t\"Bernice\"\t\"Willis\"\t\"bernice.willis@sakilacustomer.org\"\n",
    "# 374\t\"Jeremy\"\t\"Hurtado\"\t\"jeremy.hurtado@sakilacustomer.org\"\n",
    "# 556\t\"Armando\"\t\"Gruber\"\t\"armando.gruber@sakilacustomer.org\"\n",
    "# 420\t\"Jacob\"\t\"Lance\"\t\"jacob.lance@sakilacustomer.org\"\n",
    "# .................................................................."
   ]
  },
  {
   "cell_type": "code",
   "execution_count": null,
   "metadata": {},
   "outputs": [],
   "source": [
    "# 39- Table of staff and customers residing in Moscow? (only name/surname columns) (K)\n",
    "\n",
    "# SELECT customer.first_name, customer.last_name\n",
    "# FROM customer\n",
    "# JOIN address ON customer.address_id = address.address_id\n",
    "# JOIN city ON address.city_id = city.city_id\n",
    "# WHERE city.city = 'Moscow';\n",
    "\n",
    "# \"Catherine\"\t\"Campbell\"\n",
    "\n",
    "\n",
    "# SELECT staff.first_name, staff.last_name\n",
    "# FROM staff\n",
    "# JOIN address ON staff.address_id = address.address_id\n",
    "# JOIN city ON address.city_id = city.city_id\n",
    "# WHERE city.city = 'Moscow';\n",
    "\n",
    "# 0"
   ]
  },
  {
   "cell_type": "code",
   "execution_count": null,
   "metadata": {},
   "outputs": [],
   "source": [
    "# 40- What are the 5 least rented movies? (K)\n",
    "\n",
    "# SELECT film.title, COUNT(rental.inventory_id) AS rental_count\n",
    "# FROM film\n",
    "# JOIN inventory ON film.film_id = inventory.film_id\n",
    "# LEFT JOIN rental ON inventory.inventory_id = rental.inventory_id\n",
    "# GROUP BY film.title\n",
    "# ORDER BY rental_count ASC\n",
    "# LIMIT 5;\n",
    "\n",
    "# 5 least rented movies\n",
    "# \"Mixed Doors\"\t4\n",
    "# \"Hardly Robbers\"\t4\n",
    "# \"Train Bunch\"\t4\n",
    "# \"Braveheart Human\"\t5\n",
    "# \"Private Drop\"\t5"
   ]
  },
  {
   "cell_type": "code",
   "execution_count": null,
   "metadata": {},
   "outputs": [],
   "source": [
    "# 41- Which English movies were released in 2006? (K)\n",
    "\n",
    "# SELECT film.title\n",
    "# FROM film\n",
    "# JOIN language ON film.language_id = language.language_id\n",
    "# WHERE language.name = 'English' AND film.release_year = 2006;\n",
    "\n",
    "# There are 1000 English movies released in 2006."
   ]
  }
 ],
 "metadata": {
  "kernelspec": {
   "display_name": "Python 3",
   "language": "python",
   "name": "python3"
  },
  "language_info": {
   "codemirror_mode": {
    "name": "ipython",
    "version": 3
   },
   "file_extension": ".py",
   "mimetype": "text/x-python",
   "name": "python",
   "nbconvert_exporter": "python",
   "pygments_lexer": "ipython3",
   "version": "3.11.7"
  }
 },
 "nbformat": 4,
 "nbformat_minor": 2
}
