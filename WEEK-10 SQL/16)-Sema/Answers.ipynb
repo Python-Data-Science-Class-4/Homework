{
 "cells": [
  {
   "cell_type": "markdown",
   "metadata": {},
   "source": [
    "1)- Set up a server named 'InfoTechDB'. (M)-->Done"
   ]
  },
  {
   "cell_type": "markdown",
   "metadata": {},
   "source": [
    "2)- Create 'class4' database (M). Database deleted (M). Create the same database again (K)--> Done"
   ]
  },
  {
   "cell_type": "markdown",
   "metadata": {},
   "source": [
    "3)- https://www.postgresqltutorial.com/postgresql-sample-database/ . Get the ERD at this link. Write at least 5 relationships between this ERD and the tables. (Which table has what kind of relationship with other tables?) -->Done\n",
    "    film_actor – stores the relationships between films and actors\n",
    "    film_category- stores the relationships between films and categories.\n",
    "    store – contains the store data including manager staff and address\n",
    "    film_actor has relationships between  actor and staff with actor_id\n",
    "    film has relationships between  inventory and film_category with film_id \n"
   ]
  },
  {
   "cell_type": "markdown",
   "metadata": {},
   "source": [
    "4)- Create 3 of the tables in the ERD. (M) --Done"
   ]
  },
  {
   "cell_type": "markdown",
   "metadata": {},
   "source": [
    "5)-Create 3 of the tables in the ERD (K)--Done\n",
    "    CREATE TABLE inventory_update (\n",
    "    inventory_id SERIAL PRIMARY KEY,\n",
    "    film_id INT NOT NULL,\n",
    "    store_id INT NOT NULL,\n",
    "    last_update TIMESTAMP NOT NULL DEFAULT CURRENT_TIMESTAMP );\n",
    "\n",
    "    Create Table film_update(\n",
    "    film_id INT NOT NULL,\n",
    "    film_category INT NOT NULL,\n",
    "\tlast_update TIME )\n",
    "\n",
    "    \n",
    "    Create Table actor_category(\n",
    "\tactor_id INT NOT NULL,\n",
    "\tactor_name CHAR, \n",
    "\tactor_surname CHAR,\n",
    "\tfilm_category INT NOT NULL\n",
    "\t )"
   ]
  },
  {
   "cell_type": "markdown",
   "metadata": {},
   "source": [
    "6)- Create 3 of the tables in the ERD.(C) -->Done"
   ]
  },
  {
   "cell_type": "code",
   "execution_count": null,
   "metadata": {},
   "outputs": [],
   "source": [
    "7)-Enter 5 data entries into the 3 tables you created. (M)-->Done"
   ]
  },
  {
   "cell_type": "markdown",
   "metadata": {},
   "source": [
    "8)-Enter 5 data entries with the 3 tables you created. (K)-->Done\n",
    "INSERT INTO deneme_1 (\n",
    " \tactor_id, first_name\n",
    " ) VALUES (\n",
    "\t6, 'Bella'\n",
    " );"
   ]
  },
  {
   "cell_type": "code",
   "execution_count": null,
   "metadata": {},
   "outputs": [],
   "source": [
    "9)-Make 5 data entries into the 3 tables you created. (C) -->Done"
   ]
  },
  {
   "cell_type": "markdown",
   "metadata": {},
   "source": [
    "10)- Replace one piece of data in each of the 3 tables. (M)-->Done"
   ]
  },
  {
   "cell_type": "code",
   "execution_count": null,
   "metadata": {},
   "outputs": [],
   "source": [
    "11)- Replace one piece of data in each of the 3 tables.(K)\n",
    "UPDATE deneme_1 SET first_name = 'Julia' WHERE actor_id = 6;\n"
   ]
  },
  {
   "cell_type": "code",
   "execution_count": null,
   "metadata": {},
   "outputs": [],
   "source": [
    "12)-Replace one piece of data in each of the 3 tables. (C)-->Done\n",
    "conn3=psycopg2.connect(\"dbname=class4 user=postgres password=1234Qwert host=localhost port=5432\"  )\n",
    "cur_replace=conn3.cursor()\n",
    "insert_query= 'UPDATE deneme_1 SET first_name=%s WHERE id=%s'\n",
    "data_new=('Julia', 6)\n",
    "try:\n",
    "    cur_replace.execute(insert_query, data_new)\n",
    "    conn3.commit()\n",
    "    print('Successful!')\n",
    "except Exception as e:\n",
    "    conn3.rollback()\n",
    "    print(f'Hata: {e}')\n",
    "finally:\n",
    "    if cur_replace:\n",
    "        cur_replace.close()\n",
    "    if conn3:\n",
    "        conn3.close()"
   ]
  },
  {
   "cell_type": "code",
   "execution_count": null,
   "metadata": {},
   "outputs": [],
   "source": [
    "13)-Delete the last row of 3 tables. (M)-->Done"
   ]
  },
  {
   "cell_type": "markdown",
   "metadata": {},
   "source": [
    "14)-Delete the last row of 3 tables. (k)--> DONE\n",
    "DELETE FROM deneme_1\n",
    "WHERE actor_id = 6;"
   ]
  },
  {
   "cell_type": "markdown",
   "metadata": {},
   "source": [
    "15)-Delete the last row of 3 tables.(C) -->Done\n",
    "conn4 = psycopg2.connect(\"dbname=class4 user=postgres password=1234Qwert host=localhost port=5432\" )\n",
    "cur4 = conn4.cursor()\n",
    "\n",
    "\n",
    "actor_id_to_delete = 6\n",
    "\n",
    "\n",
    "delete_query = f\"DELETE FROM deneme_1 WHERE actor_id = {actor_id_to_delete}\"\n",
    "\n",
    "try:\n",
    "    \n",
    "    cur4.execute(delete_query)\n",
    "    conn4.commit()\n",
    "    print(\"Row deleted successfully!\")\n",
    "except Exception as e:\n",
    "    \n",
    "    conn4.rollback()\n",
    "    print(f\"Error: {e}\")\n",
    "finally:\n",
    "    \n",
    "    cur4.close()\n",
    "    conn4.close()"
   ]
  },
  {
   "cell_type": "markdown",
   "metadata": {},
   "source": [
    "16)- Delete 1 table. (M) --> Done"
   ]
  },
  {
   "cell_type": "markdown",
   "metadata": {},
   "source": [
    "17)-Delete 1 table. (K) --> Done\n",
    "    DROP TABLE IF EXISTS class4;\n"
   ]
  },
  {
   "cell_type": "markdown",
   "metadata": {},
   "source": [
    "18)- Delete 1 table. (C) --> Done\n",
    "conn = psycopg2.connect(\"dbname=class4 user=postgres password=1234Qwert host=localhost port=5432\")\n",
    "cur = conn.cursor()\n",
    "\n",
    "\n",
    "table_to_delete = \"deneme_1\"\n",
    "\n",
    "drop_table_query = f\"DROP TABLE IF EXISTS {table_to_delete}\"\n",
    "\n",
    "try:\n",
    "    \n",
    "    cur.execute(drop_table_query)\n",
    "    \n",
    "    conn.commit()\n",
    "    print(f\"Table {table_to_delete} deleted successfully!\")\n",
    "except Exception as e:\n",
    "    \n",
    "    conn.rollback()\n",
    "    print(f\"Error: {e}\")\n",
    "finally:\n",
    "   \n",
    "    cur.close()\n",
    "    conn.close()"
   ]
  },
  {
   "cell_type": "markdown",
   "metadata": {},
   "source": [
    "18)- Create another table with 2 or 3 columns from one of the remaining tables. (M) --> Done"
   ]
  },
  {
   "cell_type": "markdown",
   "metadata": {},
   "source": [
    "19)-Create another table with 2 or 3 columns from one of the remaining tables. (K) --> Done\n",
    "CREATE TABLE new_table (\n",
    "    inventory_id SERIAL PRIMARY KEY,\n",
    "    film_id INT NOT NULL,\n",
    "    store_id INT NOT NULL,\n",
    "    last_update TIMESTAMP NOT NULL DEFAULT CURRENT_TIMESTAMP );"
   ]
  },
  {
   "cell_type": "markdown",
   "metadata": {},
   "source": [
    "20)- Create another table with 2 or 3 columns from one of the remaining tables. (C) --> Done\n",
    "conn5 = psycopg2.connect(\"dbname=class4 user=postgres password=1234Qwert host=localhost port=5432\")\n",
    "cur5 = conn5.cursor()\n",
    "new_table = \"new_table2\"\n",
    "create_table_query = f\"\"\"\n",
    "    CREATE TABLE {new_table} (\n",
    "        column1 INTEGER,\n",
    "        column2 TEXT,\n",
    "        column3 TIMESTAMP\n",
    "    )\n",
    "\"\"\"\n",
    "try:\n",
    "   \n",
    "    cur5.execute(create_table_query)\n",
    "   \n",
    "    conn5.commit()\n",
    "    print(f\"{new_table} tablosu başarıyla oluşturuldu!\")\n",
    "except Exception as e:\n",
    "  \n",
    "    conn5.rollback()\n",
    "    print(f\"Hata: {e}\")\n",
    "finally:\n",
    "  \n",
    "    cur5.close()\n",
    "    conn5.close()"
   ]
  },
  {
   "cell_type": "markdown",
   "metadata": {},
   "source": [
    "21)-Truncate 1 of the tables. (M) --> Done\n"
   ]
  },
  {
   "cell_type": "markdown",
   "metadata": {},
   "source": [
    "22)- Truncate 1 of the tables. (K) --> Done\n",
    "TRUNCATE TABLE deneme;"
   ]
  },
  {
   "cell_type": "markdown",
   "metadata": {},
   "source": [
    "23)- Truncate 1 of the tables. (C) --> Done\n",
    "conn6 = psycopg2.connect(\"dbname=class4 user=postgres password=1234Qwert host=localhost port=5432\")\n",
    "cur6 = conn6.cursor()\n",
    "truncate_query = \"TRUNCATE TABLE new_table;\"\n",
    "try:\n",
    "    cur6.execute(truncate_query)\n",
    "    conn6.commit()\n",
    "    print(\"Table truncated successfully.\")\n",
    "except Exception as e:\n",
    "    conn6.rollback()\n",
    "    print(f\"Error: {e}\")\n",
    "finally:\n",
    "    cur6.close()\n",
    "    conn6.close()\n"
   ]
  },
  {
   "cell_type": "markdown",
   "metadata": {},
   "source": [
    "24)- Delete tables (M) --> Done"
   ]
  },
  {
   "cell_type": "markdown",
   "metadata": {},
   "source": [
    "25)-Delete tables(K)-->Done\n",
    "DROP TABLE new_table;\n"
   ]
  },
  {
   "cell_type": "markdown",
   "metadata": {},
   "source": [
    "26)- Delete tables (C) --> Done\n",
    "conn7 = psycopg2.connect(\"dbname=your_database user=your_user password=your_password host=your_host port=your_port\")\n",
    "cur7 = conn7.cursor()\n",
    "\n",
    "\n",
    "table_name_to_drop = 'deneme2'\n",
    "drop_table_query = f\"DROP TABLE {table_name_to_drop};\"\n",
    "try:\n",
    "    cur7.execute(drop_table_query)\n",
    "    conn7.commit()\n",
    "    print(f\"Table {table_name_to_drop} dropped successfully.\")\n",
    "except Exception as e:\n",
    "    conn7.rollback()\n",
    "    print(f\"Error: {e}\")\n",
    "finally:\n",
    "    cur7.close()\n",
    "    conn7.close()\n"
   ]
  },
  {
   "cell_type": "markdown",
   "metadata": {},
   "source": [
    "27)- You should have 1 table left with data. Save the table as a CSV file on your computer.-->Done\n",
    "\n"
   ]
  },
  {
   "cell_type": "markdown",
   "metadata": {},
   "source": [
    "28)-Delete the last table in the PostgreSQL directory. (K)-->Done"
   ]
  },
  {
   "cell_type": "markdown",
   "metadata": {},
   "source": [
    "29)-Import the CSV file into the PostgreSQL database via pgAdmin4 interface.--> Could not be done"
   ]
  }
 ],
 "metadata": {
  "kernelspec": {
   "display_name": "Python 3",
   "language": "python",
   "name": "python3"
  },
  "language_info": {
   "name": "python",
   "version": "3.12.1"
  }
 },
 "nbformat": 4,
 "nbformat_minor": 2
}
