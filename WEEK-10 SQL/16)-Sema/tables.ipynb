{
 "cells": [
  {
   "cell_type": "code",
   "execution_count": 14,
   "metadata": {},
   "outputs": [],
   "source": [
    "import psycopg2"
   ]
  },
  {
   "cell_type": "code",
   "execution_count": null,
   "metadata": {},
   "outputs": [],
   "source": [
    "conn = psycopg2.connect(\"dbname=class4 user=postgres password=1234Qwert host=localhost port=5432\"  )"
   ]
  },
  {
   "cell_type": "code",
   "execution_count": null,
   "metadata": {},
   "outputs": [],
   "source": [
    "cur=conn.cursor()"
   ]
  },
  {
   "cell_type": "code",
   "execution_count": null,
   "metadata": {},
   "outputs": [],
   "source": [
    "comand = '''Create TABLE newtable_2(\n",
    "    actor_id SERIAL PRIMARY KEY,\n",
    "    first_name VARCHAR(25) NOT NULL\n",
    "   \n",
    ")\n",
    "'''"
   ]
  },
  {
   "cell_type": "code",
   "execution_count": null,
   "metadata": {},
   "outputs": [],
   "source": [
    "cur.execute(comand)"
   ]
  },
  {
   "cell_type": "code",
   "execution_count": null,
   "metadata": {},
   "outputs": [],
   "source": [
    "cur.close()"
   ]
  },
  {
   "cell_type": "code",
   "execution_count": null,
   "metadata": {},
   "outputs": [],
   "source": [
    "conn.commit()"
   ]
  },
  {
   "cell_type": "code",
   "execution_count": null,
   "metadata": {},
   "outputs": [],
   "source": [
    "cur_new=conn.cursor()"
   ]
  },
  {
   "cell_type": "code",
   "execution_count": null,
   "metadata": {},
   "outputs": [],
   "source": [
    "comand_new= '''Create TABLE deneme_1(\n",
    "    actor_id SERIAL PRIMARY KEY,\n",
    "    first_name VARCHAR(25) NOT NULL\n",
    "   \n",
    ")\n",
    "'''"
   ]
  },
  {
   "cell_type": "code",
   "execution_count": null,
   "metadata": {},
   "outputs": [
    {
     "ename": "InterfaceError",
     "evalue": "cursor already closed",
     "output_type": "error",
     "traceback": [
      "\u001b[1;31m---------------------------------------------------------------------------\u001b[0m",
      "\u001b[1;31mInterfaceError\u001b[0m                            Traceback (most recent call last)",
      "Cell \u001b[1;32mIn[65], line 1\u001b[0m\n\u001b[1;32m----> 1\u001b[0m \u001b[43mcur_new\u001b[49m\u001b[38;5;241;43m.\u001b[39;49m\u001b[43mexecute\u001b[49m\u001b[43m(\u001b[49m\u001b[43mcomand_new\u001b[49m\u001b[43m)\u001b[49m\n",
      "\u001b[1;31mInterfaceError\u001b[0m: cursor already closed"
     ]
    }
   ],
   "source": [
    "cur_new.execute(comand_new)"
   ]
  },
  {
   "cell_type": "code",
   "execution_count": null,
   "metadata": {},
   "outputs": [],
   "source": [
    "cur_new.close()"
   ]
  },
  {
   "cell_type": "code",
   "execution_count": null,
   "metadata": {},
   "outputs": [],
   "source": [
    "conn.commit()"
   ]
  },
  {
   "cell_type": "code",
   "execution_count": 2,
   "metadata": {},
   "outputs": [],
   "source": [
    "conn2= psycopg2.connect(\"dbname=class4 user=postgres password=1234Qwert host=localhost port=5432\"  )\n",
    "cur_add=conn2.cursor()\n",
    "cur_add.execute('INSERT INTO deneme_1 (actor_id, first_name) VALUES (%s, %s)', ( 4, 'Robin'))\n",
    "cur_add.close()\n",
    "conn2.commit()\n",
    "conn2.close()\n"
   ]
  },
  {
   "cell_type": "code",
   "execution_count": 6,
   "metadata": {},
   "outputs": [
    {
     "name": "stdout",
     "output_type": "stream",
     "text": [
      "Successful!\n"
     ]
    }
   ],
   "source": [
    "conn3=psycopg2.connect(\"dbname=class4 user=postgres password=1234Qwert host=localhost port=5432\"  )\n",
    "cur_replace=conn3.cursor()\n",
    "insert_query= 'UPDATE deneme_1 SET first_name=%s WHERE actor_id=%s'\n",
    "data_new=('Julia', 6)\n",
    "try:\n",
    "    cur_replace.execute(insert_query, data_new)\n",
    "    conn3.commit()\n",
    "    print('Successful!')\n",
    "except Exception as e:\n",
    "    conn3.rollback()\n",
    "    print(f'Hata: {e}')\n",
    "finally:\n",
    "    if cur_replace:\n",
    "        cur_replace.close()\n",
    "    if conn3:\n",
    "        conn3.close()"
   ]
  },
  {
   "cell_type": "code",
   "execution_count": 3,
   "metadata": {},
   "outputs": [
    {
     "name": "stdout",
     "output_type": "stream",
     "text": [
      "Error: relation \"class4\" does not exist\n",
      "LINE 1: DELETE FROM class4 WHERE actor_id = 6\n",
      "                    ^\n",
      "\n"
     ]
    }
   ],
   "source": [
    "conn4 = psycopg2.connect(\"dbname=class4 user=postgres password=1234Qwert host=localhost port=5432\" )\n",
    "cur4 = conn4.cursor()\n",
    "\n",
    "# Specify the condition for deletion\n",
    "actor_id_to_delete = 6\n",
    "\n",
    "# Define the DELETE query\n",
    "delete_query = f\"DELETE FROM class4 WHERE actor_id = {actor_id_to_delete}\"\n",
    "\n",
    "try:\n",
    "    # Execute the DELETE query\n",
    "    cur4.execute(delete_query)\n",
    "    # Commit the changes\n",
    "    conn4.commit()\n",
    "    print(\"Row deleted successfully!\")\n",
    "except Exception as e:\n",
    "    # Rollback the changes in case of an error\n",
    "    conn4.rollback()\n",
    "    print(f\"Error: {e}\")\n",
    "finally:\n",
    "    # Close the cursor and connection\n",
    "    cur4.close()\n",
    "    conn4.close()"
   ]
  },
  {
   "cell_type": "code",
   "execution_count": 4,
   "metadata": {},
   "outputs": [
    {
     "name": "stdout",
     "output_type": "stream",
     "text": [
      "Table deneme_1 deleted successfully!\n"
     ]
    }
   ],
   "source": [
    "conn = psycopg2.connect(\"dbname=class4 user=postgres password=1234Qwert host=localhost port=5432\")\n",
    "cur = conn.cursor()\n",
    "\n",
    "\n",
    "table_to_delete = \"deneme_1\"\n",
    "\n",
    "drop_table_query = f\"DROP TABLE IF EXISTS {table_to_delete}\"\n",
    "\n",
    "try:\n",
    "    \n",
    "    cur.execute(drop_table_query)\n",
    "    \n",
    "    conn.commit()\n",
    "    print(f\"Table {table_to_delete} deleted successfully!\")\n",
    "except Exception as e:\n",
    "    \n",
    "    conn.rollback()\n",
    "    print(f\"Error: {e}\")\n",
    "finally:\n",
    "   \n",
    "    cur.close()\n",
    "    conn.close()"
   ]
  },
  {
   "cell_type": "code",
   "execution_count": 11,
   "metadata": {},
   "outputs": [
    {
     "name": "stdout",
     "output_type": "stream",
     "text": [
      "new_table2 tablosu başarıyla oluşturuldu!\n"
     ]
    }
   ],
   "source": [
    "conn5 = psycopg2.connect(\"dbname=class4 user=postgres password=1234Qwert host=localhost port=5432\")\n",
    "cur5 = conn5.cursor()\n",
    "\n",
    "\n",
    "new_table = \"new_table2\"\n",
    "\n",
    "\n",
    "create_table_query = f\"\"\"\n",
    "    CREATE TABLE {new_table} (\n",
    "        column1 INTEGER,\n",
    "        column2 TEXT,\n",
    "        column3 TIMESTAMP\n",
    "    )\n",
    "\"\"\"\n",
    "\n",
    "try:\n",
    "   \n",
    "    cur5.execute(create_table_query)\n",
    "   \n",
    "    conn5.commit()\n",
    "    print(f\"{new_table} tablosu başarıyla oluşturuldu!\")\n",
    "except Exception as e:\n",
    "  \n",
    "    conn5.rollback()\n",
    "    print(f\"Hata: {e}\")\n",
    "finally:\n",
    "  \n",
    "    cur5.close()\n",
    "    conn5.close()\n"
   ]
  },
  {
   "cell_type": "code",
   "execution_count": 13,
   "metadata": {},
   "outputs": [
    {
     "name": "stdout",
     "output_type": "stream",
     "text": [
      "Table truncated successfully.\n"
     ]
    }
   ],
   "source": [
    "conn6 = psycopg2.connect(\"dbname=class4 user=postgres password=1234Qwert host=localhost port=5432\")\n",
    "cur6 = conn6.cursor()\n",
    "\n",
    "\n",
    "truncate_query = \"TRUNCATE TABLE new_table;\"\n",
    "try:\n",
    "    cur6.execute(truncate_query)\n",
    "    conn6.commit()\n",
    "    print(\"Table truncated successfully.\")\n",
    "except Exception as e:\n",
    "    conn6.rollback()\n",
    "    print(f\"Error: {e}\")\n",
    "finally:\n",
    "    cur6.close()\n",
    "    conn6.close()\n"
   ]
  },
  {
   "cell_type": "code",
   "execution_count": 15,
   "metadata": {},
   "outputs": [
    {
     "name": "stdout",
     "output_type": "stream",
     "text": [
      "Table deneme dropped successfully.\n"
     ]
    }
   ],
   "source": [
    "conn7 = psycopg2.connect(\"dbname=class4 user=postgres password=1234Qwert host=localhost port=5432\")\n",
    "cur7 = conn7.cursor()\n",
    "\n",
    "\n",
    "table_name_to_drop = 'deneme'\n",
    "drop_table_query = f\"DROP TABLE {table_name_to_drop};\"\n",
    "try:\n",
    "    cur7.execute(drop_table_query)\n",
    "    conn7.commit()\n",
    "    print(f\"Table {table_name_to_drop} dropped successfully.\")\n",
    "except Exception as e:\n",
    "    conn7.rollback()\n",
    "    print(f\"Error: {e}\")\n",
    "finally:\n",
    "    cur7.close()\n",
    "    conn7.close()"
   ]
  },
  {
   "cell_type": "code",
   "execution_count": null,
   "metadata": {},
   "outputs": [],
   "source": [
    "import psycopg2\n",
    "import csv\n",
    "\n",
    "conn8 = psycopg2.connect(\"dbname=class4 user=postgres password=1234Qwert host=localhost port=5432\")\n",
    "cur8 = conn8.cursor()\n",
    "\n",
    "select_query = \"SELECT * FROM new_table;\"\n",
    "\n",
    "try:\n",
    "  \n",
    "    cur8.execute(select_query)\n",
    "    data = cur8.fetchall()\n",
    "\n",
    "    csv_file_path = 'output.csv'\n",
    "    with open(csv_file_path, 'w', newline='') as csv_file:\n",
    "        csv_writer = csv.writer(csv_file)\n",
    "        \n",
    "      \n",
    "        csv_writer.writerow([desc[0] for desc in cur8.description])\n",
    "\n",
    "       \n",
    "        csv_writer.writerows(data)\n",
    "\n",
    "    print(f\"Veriler CSV dosyasına kaydedildi: {csv_file_path}\")\n",
    "except Exception as e:\n",
    "    print(f\"Hata: {e}\")\n",
    "finally:\n",
    "    cur8.close()\n",
    "    conn8.close()\n"
   ]
  },
  {
   "cell_type": "code",
   "execution_count": 29,
   "metadata": {},
   "outputs": [
    {
     "name": "stdout",
     "output_type": "stream",
     "text": [
      "Error: [WinError 2] The system cannot find the file specified\n"
     ]
    },
    {
     "name": "stderr",
     "output_type": "stream",
     "text": [
      "<>:3: SyntaxWarning: invalid escape sequence '\\C'\n",
      "<>:3: SyntaxWarning: invalid escape sequence '\\C'\n",
      "C:\\Users\\MainUser\\AppData\\Local\\Temp\\ipykernel_21928\\680161050.py:3: SyntaxWarning: invalid escape sequence '\\C'\n",
      "  copy_to_query = f\"\\COPY new_table TO '{csv_file_path}' WITH CSV HEADER;\"\n"
     ]
    }
   ],
   "source": [
    "import subprocess\n",
    "csv_file_path = 'C:/Users/MainUser/Desktop/csv/my_table_data.csv'\n",
    "copy_to_query = f\"\\COPY new_table TO '{csv_file_path}' WITH CSV HEADER;\"\n",
    "\n",
    "try:\n",
    "    subprocess.run(['psql', 'dbname=class4', 'user=postgres', '-c', copy_to_query])\n",
    "    print(f\"Table data saved to {csv_file_path}.\")\n",
    "except Exception as e:\n",
    "    print(f\"Error: {e}\")\n",
    "\n",
    "\n"
   ]
  },
  {
   "cell_type": "code",
   "execution_count": 33,
   "metadata": {},
   "outputs": [
    {
     "name": "stdout",
     "output_type": "stream",
     "text": [
      "Table data saved to C:/Users/MainUser/Desktop/csv/my_table_data.csv.\n"
     ]
    }
   ],
   "source": [
    "import csv\n",
    "from psycopg2 import connect, extras\n",
    "\n",
    "conn = connect(\"dbname=class4 user=postgres password=1234Qwert host=localhost port=5432\")\n",
    "cur = conn.cursor(cursor_factory=extras.RealDictCursor)\n",
    "\n",
    "csv_file_path = 'C:/Users/MainUser/Desktop/csv/my_table_data.csv'\n",
    "copy_to_query = f\"COPY new_table TO STDOUT WITH CSV HEADER\"\n",
    "\n",
    "with open(csv_file_path, 'w', newline='', encoding='utf-8') as file:\n",
    "    csv_writer = csv.DictWriter(file, fieldnames=['inventory_id', 'film_id', 'store_id','last_update'])  \n",
    "    try:\n",
    "        cur.copy_expert(copy_to_query, file)\n",
    "        print(f\"Table data saved to {csv_file_path}.\")\n",
    "    except Exception as e:\n",
    "        print(f\"Error: {e}\")\n",
    "    finally:\n",
    "        cur.close()\n",
    "        conn.close()\n",
    "\n"
   ]
  }
 ],
 "metadata": {
  "kernelspec": {
   "display_name": "Python 3",
   "language": "python",
   "name": "python3"
  },
  "language_info": {
   "codemirror_mode": {
    "name": "ipython",
    "version": 3
   },
   "file_extension": ".py",
   "mimetype": "text/x-python",
   "name": "python",
   "nbconvert_exporter": "python",
   "pygments_lexer": "ipython3",
   "version": "3.12.1"
  }
 },
 "nbformat": 4,
 "nbformat_minor": 2
}
