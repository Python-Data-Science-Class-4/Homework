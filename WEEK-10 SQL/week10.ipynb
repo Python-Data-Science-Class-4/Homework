{
 "cells": [
  {
   "cell_type": "code",
   "execution_count": null,
   "metadata": {},
   "outputs": [],
   "source": [
    "# 1- Set up a server named 'InfoTechDB'. (M)\n",
    "\n",
    "# DONE"
   ]
  },
  {
   "cell_type": "code",
   "execution_count": null,
   "metadata": {},
   "outputs": [],
   "source": [
    "# 2- Create 'class4' database (M). Database deleted (M). Create the same database again (K)\n",
    "# DONE"
   ]
  },
  {
   "cell_type": "code",
   "execution_count": null,
   "metadata": {},
   "outputs": [],
   "source": [
    "# 3- https://www.postgresqltutorial.com/postgresql-sample-database/ . Get the ERD at this link. Write at least 5 relationships between this ERD and the tables. \n",
    "# (Which table has what kind of relationship with other tables?)\n",
    "\n",
    "\n",
    "# film -->> inventory : one to many \n",
    "# adress -->> staff : one to many\n",
    "# rental -->> inventory : one to one\n",
    "# film_actor -->> actor : one to one\n",
    "#language -->> film : one to many"
   ]
  },
  {
   "cell_type": "code",
   "execution_count": null,
   "metadata": {},
   "outputs": [],
   "source": [
    "# 4- Create 3 of the tables in the ERD. (M)\n",
    "#   DONE"
   ]
  },
  {
   "cell_type": "code",
   "execution_count": null,
   "metadata": {},
   "outputs": [],
   "source": [
    "#5- Create 3 of the tables in the ERD. (K)\n",
    "\n",
    "# CREATE TABLE public.rental\n",
    "# (\n",
    "#     rental_id bigint NOT NULL,\n",
    "#     rental_date date NOT NULL,\n",
    "#     inventory_date date NOT NULL,\n",
    "#     customer_id bigint NOT NULL,\n",
    "#     return_date date NOT NULL,\n",
    "#     staff_id bigint NOT NULL,\n",
    "#     last_update bigint,\n",
    "#     PRIMARY KEY (rental_id)\n",
    "# );\n",
    "\n",
    "# ALTER TABLE IF EXISTS public.rental\n",
    "#     OWNER to postgres;\n",
    "\n",
    "\n",
    "# CREATE TABLE public.staff\n",
    "# (\n",
    "#     staff_id bigint NOT NULL,\n",
    "#     first_name character varying NOT NULL,\n",
    "#     last_name character varying NOT NULL,\n",
    "#     adress_id smallint NOT NULL,\n",
    "#     email character varying NOT NULL,\n",
    "#     PRIMARY KEY (staff_id)\n",
    "# );\n",
    "\n",
    "# ALTER TABLE IF EXISTS public.staff\n",
    "#     OWNER to postgres;\n",
    "\n",
    "\n",
    "# CREATE TABLE IF NOT EXISTS public.film\n",
    "# (\n",
    "#     film_id smallint NOT NULL,\n",
    "#     title character varying COLLATE pg_catalog.\"default\" NOT NULL,\n",
    "#     description character varying COLLATE pg_catalog.\"default\" NOT NULL,\n",
    "#     relase_year smallint NOT NULL,\n",
    "#     lenght smallint NOT NULL,\n",
    "#     CONSTRAINT film_pkey PRIMARY KEY (film_id)\n",
    "# )\n",
    "\n",
    "# TABLESPACE pg_default;\n",
    "\n",
    "# ALTER TABLE IF EXISTS public.film\n",
    "#     OWNER to postgres;"
   ]
  },
  {
   "cell_type": "code",
   "execution_count": null,
   "metadata": {},
   "outputs": [],
   "source": [
    "# 6- Create 3 of the tables in the ERD. (C)\n",
    "\n",
    "import psycopg2\n",
    "from psycopg2 import sql\n",
    "\n",
    "\n",
    "\n",
    "conn= psycopg2.connect(\" dbname=class4 user=postgres password=0000 host=localhost \")\n",
    "\n",
    "cur = conn.cursor()\n",
    "\n",
    "\n",
    "command = '''CREATE TABLE public.rental\n",
    "(\n",
    "    rental_id bigint NOT NULL,\n",
    "    rental_date date NOT NULL,\n",
    "    inventory_date date NOT NULL,\n",
    "    customer_id bigint NOT NULL,\n",
    "    return_date date NOT NULL,\n",
    "    staff_id bigint NOT NULL,\n",
    "    last_update bigint,\n",
    "    PRIMARY KEY (rental_id)\n",
    ");\n",
    "'''\n",
    "    \n",
    "\n",
    "cur.execute(command)\n",
    "cur.close()\n",
    "conn.commit()\n",
    "conn.close()"
   ]
  },
  {
   "cell_type": "code",
   "execution_count": null,
   "metadata": {},
   "outputs": [],
   "source": [
    "# 6- Create 3 of the tables in the ERD. (C)\n",
    "import psycopg2\n",
    "from psycopg2 import sql\n",
    "\n",
    "\n",
    "\n",
    "conn= psycopg2.connect(\" dbname=class4 user=postgres password=0000 host=localhost \")\n",
    "\n",
    "cur = conn.cursor()\n",
    "\n",
    "\n",
    "command = '''CREATE TABLE public.address\n",
    "(\n",
    "    adress_id bigint NOT NULL,\n",
    "    adress VARCHAR(40) NOT NULL,\n",
    "    adress2 VARCHAR(49) NOT NULL,\n",
    "    city_id bigint NOT NULL,\n",
    "    phone bigint NOT NULL,\n",
    "    PRIMARY KEY (adress_id)\n",
    ");\n",
    "'''\n",
    "    \n",
    "\n",
    "cur.execute(command)\n",
    "cur.close()\n",
    "conn.commit()\n",
    "conn.close()"
   ]
  },
  {
   "cell_type": "code",
   "execution_count": null,
   "metadata": {},
   "outputs": [],
   "source": [
    "# 6- Create 3 of the tables in the ERD. (C)\n",
    "\n",
    "import psycopg2\n",
    "from psycopg2 import sql\n",
    "\n",
    "\n",
    "\n",
    "conn= psycopg2.connect(\" dbname=class4 user=postgres password=0000 host=localhost \")\n",
    "\n",
    "cur = conn.cursor()\n",
    "\n",
    "\n",
    "command = '''CREATE TABLE public.city\n",
    "(\n",
    "    city_id bigint NOT NULL,\n",
    "    city VARCHAR(20) NOT NULL,\n",
    "    country_id bigint NOT NULL,\n",
    "    last_update date NOT NULL,\n",
    "    PRIMARY KEY (city_id)\n",
    ");\n",
    "'''\n",
    "    \n",
    "\n",
    "cur.execute(command)\n",
    "cur.close()\n",
    "conn.commit()\n",
    "conn.close()"
   ]
  },
  {
   "cell_type": "code",
   "execution_count": null,
   "metadata": {},
   "outputs": [],
   "source": [
    "#7- Enter 5 data entries into the 3 tables you created. (M)\n",
    "#DONE"
   ]
  },
  {
   "cell_type": "code",
   "execution_count": null,
   "metadata": {},
   "outputs": [],
   "source": [
    "# # #8- Enter 5 data entries with the 3 tables you created. (K)\n",
    "\n",
    "# # # INSERT INTO public.rental (rental_id, rental_date, inventory_date, customer_id, return_date, staff_id, last_update)\n",
    "# # # VALUES\n",
    "# # # (1, '2021-01-11', '2024-01-12', 123, '2024-01-15', 456, 1641931200),\n",
    "# # # (2, '2021-01-12', '2024-01-13', 789, '2024-01-16', 101, 1642017600),\n",
    "# # # (2, '2021-05-12', '2024-02-14', 789, '2024-01-16', 101, 161232423432);\n",
    "\n",
    "\n",
    "\n",
    "# # # INSERT INTO public.staff (staff_id, first_name, last_name, address_id, email)\n",
    "# # VALUES\n",
    "# # (1, 'Mauro', 'Icardi', 1, 'icardimauro@example.com'),\n",
    "# # (2, 'Allan', 'Rodriguez', 2, 'allanredriguez@example.com'),\n",
    "# # (3, 'Bob', 'Johnson', 3, 'bob.johnson@example.com'),\n",
    "# # (4, 'Alice', 'Williams', 4, 'alice.williams@example.com'),\n",
    "# # (5, 'Charlie', 'Brown', 5, 'charlie.brown@example.com');\n",
    "\n",
    "\n",
    "# INSERT INTO public.film (film_id, title, description, relase_year, length)\n",
    "# VALUES\n",
    "# (1, 'The Shawshank Redemption', 'A story of hope and resilience in Shawshank State Penitentiary.', 1994, 142),\n",
    "# (2, 'The Godfather', 'The powerful story of the Corleone crime family.', 1972, 175),\n",
    "# (3, 'Pulp Fiction', 'A nonlinear narrative that weaves together multiple crime stories.', 1994, 154),\n",
    "# (4, 'The Dark Knight', 'Batman faces the Joker in a battle for Gotham City.', 2008, 152),\n",
    "# (5, 'Inception', 'A mind-bending heist thriller set in the world of dreams.', 2010, 148);\n",
    "\n",
    "\n"
   ]
  },
  {
   "cell_type": "code",
   "execution_count": null,
   "metadata": {},
   "outputs": [],
   "source": [
    "#9- Make 5 data entries into the 3 tables you created. (C)\n",
    "\n",
    "import psycopg2\n",
    "\n",
    "conn= psycopg2.connect(\" dbname=class4 user=postgres password=0000 host=localhost \")\n",
    "cur = conn.cursor()\n",
    "\n",
    "cur.execute('INSERT INTO staff (staff_id, first_name, last_name, adress_id, email) VALUES (%s, %s, %s, %s, %s)', (1323123123,\"John\", \"jack\",12,\"johnjack@example.com\" ))\n",
    "\n",
    "cur.close()\n",
    "\n",
    "conn.commit()\n",
    "\n",
    "conn.close()\n",
    "\n",
    "\n",
    "\n"
   ]
  },
  {
   "cell_type": "code",
   "execution_count": null,
   "metadata": {},
   "outputs": [],
   "source": [
    "#9- Make 5 data entries into the 3 tables you created. (C)\n",
    "\n",
    "import psycopg2\n",
    "\n",
    "conn= psycopg2.connect(\" dbname=class4 user=postgres password=0000 host=localhost \")\n",
    "cur = conn.cursor()\n",
    "\n",
    "cur.execute('INSERT INTO staff (staff_id, first_name, last_name, adress_id, email) VALUES (%s, %s, %s, %s, %s)', (322423423,\"Johny\", \"jackson\",12,\"johnyjackson@example.com\" ))\n",
    "\n",
    "cur.close()\n",
    "\n",
    "conn.commit()\n",
    "\n",
    "conn.close()"
   ]
  },
  {
   "cell_type": "code",
   "execution_count": null,
   "metadata": {},
   "outputs": [],
   "source": [
    "#9- Make 5 data entries into the 3 tables you created. (C)\n",
    "\n",
    "import psycopg2\n",
    "\n",
    "conn= psycopg2.connect(\" dbname=class4 user=postgres password=0000 host=localhost \")\n",
    "cur = conn.cursor()\n",
    "\n",
    "cur.execute('INSERT INTO staff (staff_id, first_name, last_name, adress_id, email) VALUES (%s, %s, %s, %s, %s)', (5345435344,\"Kahn\", \"Oliver\",22,\"oliverkahn@example.com\" ))\n",
    "\n",
    "cur.close()\n",
    "\n",
    "conn.commit()\n",
    "\n",
    "conn.close()"
   ]
  },
  {
   "cell_type": "code",
   "execution_count": null,
   "metadata": {},
   "outputs": [],
   "source": [
    "#10- Replace one piece of data in each of the 3 tables. (M)\n",
    "\n",
    "# DONE"
   ]
  },
  {
   "cell_type": "code",
   "execution_count": null,
   "metadata": {},
   "outputs": [],
   "source": [
    "# 11- Replace one piece of data in each of the 3 tables. (K)\n",
    "\n",
    "# UPDATE city\n",
    "# SET city = 'Amsterdam'\n",
    "# WHERE country_id = '3' "
   ]
  },
  {
   "cell_type": "code",
   "execution_count": null,
   "metadata": {},
   "outputs": [],
   "source": [
    "# 12- Replace one piece of data in each of the 3 tables. (C)\n",
    "import psycopg2\n",
    "\n",
    "conn= psycopg2.connect(\" dbname=class4 user=postgres password=0000 host=localhost \")\n",
    "cur = conn.cursor()\n",
    "\n",
    "insert_query = 'UPDATE city SET city=%s WHERE country_id =%s'\n",
    "\n",
    "\n",
    "data = (\"Kopenhaven\",1)\n",
    "\n",
    "try : \n",
    "    cur.execute(insert_query, data)\n",
    "    \n",
    "    conn.commit()\n",
    "    \n",
    "    print(\"data has succesfully changed\")\n",
    "    \n",
    "except Exception as e : \n",
    "    \n",
    "    conn.rollback()\n",
    "    \n",
    "    print(f'Error : {e}')\n",
    "    print(\"transaction was reversed\")\n",
    "    \n",
    "finally:\n",
    "    if cur:\n",
    "        cur.close()\n",
    "        \n",
    "    if conn:\n",
    "        conn.close()"
   ]
  },
  {
   "cell_type": "code",
   "execution_count": null,
   "metadata": {},
   "outputs": [],
   "source": [
    "#13- Delete the last row of 3 tables. (M)\n",
    "\n",
    "# DONE"
   ]
  },
  {
   "cell_type": "code",
   "execution_count": null,
   "metadata": {},
   "outputs": [],
   "source": [
    "# #14- Delete the last row of table 3. (K)\n",
    "\n",
    "# DELETE FROM public.address\n",
    "# \tWHERE adress_id=5;"
   ]
  },
  {
   "cell_type": "code",
   "execution_count": null,
   "metadata": {},
   "outputs": [],
   "source": [
    "#15- Delete the last row of table 3. (C)\n",
    "import psycopg2\n",
    "\n",
    "conn = psycopg2.connect(\"dbname=class4 user=postgres password=0000 host=localhost\")\n",
    "cur = conn.cursor()\n",
    "\n",
    "delete_query = 'DELETE  FROM public.address WHERE city_id = %s'\n",
    "\n",
    "data = (1,)\n",
    "\n",
    "try:\n",
    "    cur.execute(delete_query, data)\n",
    "    conn.commit()\n",
    "    print(\"Data has been successfully deleted\")\n",
    "except Exception as e:\n",
    "    conn.rollback()\n",
    "    print(f'Error: {e}')\n",
    "    print(\"Transaction was reversed\")\n",
    "finally:\n",
    "    if cur:\n",
    "        cur.close()\n",
    "    if conn:\n",
    "        conn.close()\n"
   ]
  },
  {
   "cell_type": "code",
   "execution_count": null,
   "metadata": {},
   "outputs": [],
   "source": [
    "# 16- Delete 1 table. (M)\n",
    "\n",
    "\n",
    "#DONE\n"
   ]
  },
  {
   "cell_type": "code",
   "execution_count": null,
   "metadata": {},
   "outputs": [],
   "source": [
    "# 17- Delete 1 table. (K)\n",
    "\n",
    "#DROP TABLE IF EXISTS staff;"
   ]
  },
  {
   "cell_type": "code",
   "execution_count": null,
   "metadata": {},
   "outputs": [],
   "source": [
    "# 18- Delete 1 table. (C)\n",
    "\n",
    "import psycopg2\n",
    "\n",
    "conn = psycopg2.connect(\"dbname=class4 user=postgres password=0000 host=localhost\")\n",
    "cur = conn.cursor()\n",
    "\n",
    "table_name = 'staff'\n",
    "\n",
    "try:\n",
    "    \n",
    "    drop_table_query = f'DROP TABLE IF EXISTS {table_name};'\n",
    "    \n",
    "    \n",
    "    cur.execute(drop_table_query)\n",
    "    \n",
    "    conn.commit()\n",
    "    \n",
    "    print(f\"{table_name}table has been successfully deleted.\")\n",
    "except Exception as e:\n",
    "    conn.rollback()\n",
    "    print(f'Error: {e}')\n",
    "    print(\"Transaction was reversed\")\n",
    "finally:\n",
    "    if cur:\n",
    "        cur.close()\n",
    "    if conn:\n",
    "        conn.close()\n"
   ]
  },
  {
   "cell_type": "code",
   "execution_count": null,
   "metadata": {},
   "outputs": [],
   "source": [
    "# 19.Create another table with 2 or 3 columns from one of the remaining tables. (K)\n",
    "#CREATE TABLE brand AS\n",
    "#SELECT country_id, city_id FROM city;"
   ]
  },
  {
   "cell_type": "code",
   "execution_count": null,
   "metadata": {},
   "outputs": [],
   "source": [
    "#20- Create another table with 2 or 3 columns from one of the remaining tables. (C)\n",
    "import psycopg2\n",
    "\n",
    "conn = psycopg2.connect(\"dbname=class4 user=postgres password=0000 host=localhost port=5432\")\n",
    "cur = conn.cursor()\n",
    "\n",
    "cur.execute('''\n",
    "CREATE TABLE brand AS\n",
    "SELECT country_id, city_id FROM city;\n",
    "''')\n",
    "\n",
    "cur.close()\n",
    "conn.commit()\n",
    "conn.close()"
   ]
  },
  {
   "cell_type": "code",
   "execution_count": null,
   "metadata": {},
   "outputs": [],
   "source": [
    "#21- Truncate 1 of the tables. (M)\n",
    "#DONE"
   ]
  },
  {
   "cell_type": "code",
   "execution_count": null,
   "metadata": {},
   "outputs": [],
   "source": [
    "#22- Truncate 1 of the tables. (K)\n",
    "# TRUNCATE TABLE brand;"
   ]
  },
  {
   "cell_type": "code",
   "execution_count": null,
   "metadata": {},
   "outputs": [],
   "source": [
    "# 23- Truncate 1 of the tables. (C)\n",
    "\n",
    "import psycopg2\n",
    "\n",
    "conn = psycopg2.connect(\"dbname=class4 user=postgres password=0000 host=localhost port=5432\")\n",
    "\n",
    "cur = conn.cursor()\n",
    "\n",
    "cur.execute('''TRUNCATE TABLE brand; ''')\n",
    "\n",
    "cur.close()\n",
    "conn.commit()\n",
    "conn.close()"
   ]
  },
  {
   "cell_type": "code",
   "execution_count": null,
   "metadata": {},
   "outputs": [],
   "source": [
    "# 24- Delete the truncated tables. (M)\n",
    "# DONE"
   ]
  },
  {
   "cell_type": "code",
   "execution_count": null,
   "metadata": {},
   "outputs": [],
   "source": [
    "# 25- Delete 2 tables. (K)\n",
    "\n",
    "\n",
    "# DROP TABLE brand\n",
    "# DROP TABLE film"
   ]
  },
  {
   "cell_type": "code",
   "execution_count": 25,
   "metadata": {},
   "outputs": [],
   "source": [
    "#26- Delete 2 tables. (C)\n",
    "\n",
    "import psycopg2\n",
    "\n",
    "conn = psycopg2.connect(\"dbname=class4 user=postgres password=0000 host=localhost port=5432\")\n",
    "cur = conn.cursor()\n",
    "\n",
    "cur.execute(''' DROP TABLE film, brand; ''')\n",
    "\n",
    "cur.close()\n",
    "conn.commit()\n",
    "conn.close()"
   ]
  },
  {
   "cell_type": "code",
   "execution_count": null,
   "metadata": {},
   "outputs": [],
   "source": [
    "# 27- You should have 1 table left with data. Save the table as a CSV file on your computer.\n",
    "\n",
    "# DONE"
   ]
  },
  {
   "cell_type": "code",
   "execution_count": null,
   "metadata": {},
   "outputs": [],
   "source": [
    "# 28- Delete the last table in the PostgreSQL directory. (K)\n",
    "\n",
    "# DROP TABLE rental"
   ]
  },
  {
   "cell_type": "code",
   "execution_count": null,
   "metadata": {},
   "outputs": [],
   "source": [
    "# 29- Import the CSV file into the PostgreSQL database via pgAdmin4 interface.\n",
    "\n",
    "# DONE"
   ]
  },
  {
   "cell_type": "code",
   "execution_count": null,
   "metadata": {},
   "outputs": [],
   "source": [
    "# 30- Delete the table you imported. (C)\n",
    "import psycopg2\n",
    "\n",
    "conn = psycopg2.connect(\"dbname=class4 user=postgres password=0000 host=localhost port=5432\")\n",
    "cur = conn.cursor()\n",
    "\n",
    "cur.execute(''' DROP TABLE rental; ''')\n",
    "\n",
    "cur.close()\n",
    "conn.commit()\n",
    "conn.close()"
   ]
  },
  {
   "cell_type": "code",
   "execution_count": null,
   "metadata": {},
   "outputs": [],
   "source": [
    "# 31- \"Download the sample database from the link https://www.postgresqltutorial.com/postgresql-sample-database/ to your computer and then upload it to the interface.\"\n",
    "\n",
    "# DONE"
   ]
  },
  {
   "cell_type": "code",
   "execution_count": null,
   "metadata": {},
   "outputs": [],
   "source": [
    "# 32- \"There should be 15 tables in your database. Please view each table one by one, examine the column names, and make note of which column serves as the Primary Key (PK) and which one serves as the Foreign Key (FK) in each of the 5 tables.\"\n",
    "\n",
    "\n",
    "\n",
    "# NOTE: For the questions below, write the table names between the question and the solution.\n",
    "\n",
    "\n"
   ]
  },
  {
   "cell_type": "code",
   "execution_count": null,
   "metadata": {},
   "outputs": [],
   "source": [
    "# 33- What is the average duration of action movies?\n",
    "\n",
    "#SELECT AVG(film.length) AS average_duration\n",
    "#FROM film\n",
    "# 115.2720000000000000"
   ]
  },
  {
   "cell_type": "code",
   "execution_count": null,
   "metadata": {},
   "outputs": [],
   "source": [
    "#33- What is the average duration of action movies? (K)\n",
    "\n",
    "\n",
    "111.6093750000000000"
   ]
  },
  {
   "cell_type": "code",
   "execution_count": null,
   "metadata": {},
   "outputs": [],
   "source": []
  },
  {
   "cell_type": "code",
   "execution_count": null,
   "metadata": {},
   "outputs": [],
   "source": [
    "#35- What is the rating of the films of the actor named 'Gene Willis'?\n",
    "\n",
    "# SELECT rating from film WHERE film_id IN (\n",
    "# \tSELECT film_id from film_actor WHERE actor_id = (\n",
    "#\t\tSELECT actor_id from actor WHERE first_name = 'Gene' AND last_name = 'Willis' ) )"
   ]
  },
  {
   "cell_type": "code",
   "execution_count": null,
   "metadata": {},
   "outputs": [],
   "source": [
    "# 36- What is the number of active customers?\n",
    "\n",
    "# SELECT COUNT(customer) from customer WHERE active = true;"
   ]
  },
  {
   "cell_type": "code",
   "execution_count": null,
   "metadata": {},
   "outputs": [],
   "source": [
    "# 37- What are the movies that start with the letter 'C'?\n",
    "\n",
    "# SELECT title FROM film WHERE title LIKE 'C%'"
   ]
  },
  {
   "cell_type": "code",
   "execution_count": null,
   "metadata": {},
   "outputs": [],
   "source": [
    "# 38- What is the email address of customers who pay less than $4? (K)\n",
    "\n",
    "----"
   ]
  },
  {
   "cell_type": "code",
   "execution_count": null,
   "metadata": {},
   "outputs": [],
   "source": [
    "#39- Table of staff and customers residing in Moscow? (only name/surname columns) (K)\n",
    "\n",
    "----"
   ]
  },
  {
   "cell_type": "code",
   "execution_count": null,
   "metadata": {},
   "outputs": [],
   "source": [
    "# 40- What are the 5 least rented movies? (K)\n",
    "----"
   ]
  }
 ],
 "metadata": {
  "kernelspec": {
   "display_name": "Python 3",
   "language": "python",
   "name": "python3"
  },
  "language_info": {
   "codemirror_mode": {
    "name": "ipython",
    "version": 3
   },
   "file_extension": ".py",
   "mimetype": "text/x-python",
   "name": "python",
   "nbconvert_exporter": "python",
   "pygments_lexer": "ipython3",
   "version": "3.12.1"
  }
 },
 "nbformat": 4,
 "nbformat_minor": 2
}
