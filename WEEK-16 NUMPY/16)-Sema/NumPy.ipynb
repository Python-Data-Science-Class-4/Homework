{
 "cells": [
  {
   "cell_type": "code",
   "execution_count": 2,
   "metadata": {},
   "outputs": [],
   "source": [
    "import numpy as np\n",
    "import pandas as pd\n",
    "import matplotlib.pyplot as plt\n",
    "from IPython.display import display"
   ]
  },
  {
   "cell_type": "code",
   "execution_count": 3,
   "metadata": {},
   "outputs": [],
   "source": [
    "random_matrix=np.random.rand(20,2)\n",
    "df=pd.DataFrame(random_matrix,columns=['price','quality'])\n"
   ]
  },
  {
   "cell_type": "code",
   "execution_count": 4,
   "metadata": {},
   "outputs": [
    {
     "name": "stdout",
     "output_type": "stream",
     "text": [
      "Price:  0     0.117826\n",
      "1     0.999640\n",
      "2     0.992828\n",
      "3     0.233316\n",
      "4     0.810034\n",
      "5     0.097997\n",
      "6     0.144344\n",
      "7     0.182973\n",
      "8     0.387504\n",
      "9     0.699287\n",
      "10    0.854941\n",
      "11    0.250380\n",
      "12    0.065056\n",
      "13    0.311799\n",
      "14    0.223021\n",
      "15    0.222261\n",
      "16    0.848893\n",
      "17    0.419662\n",
      "18    0.249407\n",
      "19    0.396780\n",
      "Name: price, dtype: float64\n",
      "Quality:  0     0.953185\n",
      "1     0.081447\n",
      "2     0.768040\n",
      "3     0.342827\n",
      "4     0.325330\n",
      "5     0.929723\n",
      "6     0.302517\n",
      "7     0.183077\n",
      "8     0.170004\n",
      "9     0.433040\n",
      "10    0.412943\n",
      "11    0.148165\n",
      "12    0.733413\n",
      "13    0.903770\n",
      "14    0.403760\n",
      "15    0.700997\n",
      "16    0.910520\n",
      "17    0.831492\n",
      "18    0.284742\n",
      "19    0.706428\n",
      "Name: quality, dtype: float64\n"
     ]
    }
   ],
   "source": [
    "price_vector=df['price']\n",
    "quality_vector=df['quality']\n",
    "print('Price: ', price_vector)\n",
    "print('Quality: ', quality_vector)"
   ]
  },
  {
   "cell_type": "code",
   "execution_count": 5,
   "metadata": {},
   "outputs": [
    {
     "name": "stdout",
     "output_type": "stream",
     "text": [
      "8.507949688285418\n",
      "10.525419674797119\n"
     ]
    }
   ],
   "source": [
    "print(df['price'].sum())\n",
    "print(df['quality'].sum())"
   ]
  },
  {
   "cell_type": "code",
   "execution_count": 6,
   "metadata": {},
   "outputs": [
    {
     "name": "stdout",
     "output_type": "stream",
     "text": [
      "The mean of the price ratings:  0.4253974844142709\n",
      "The median of the price ratings 0.28108936986169575\n",
      "The mean of the quality ratings:  0.5262709837398559\n",
      "The median of the quality ratings 0.42299135974721364\n"
     ]
    }
   ],
   "source": [
    "print('The mean of the price ratings: ',df['price'].mean()) \n",
    "print('The median of the price ratings', df['price'].median() ) \n",
    "\n",
    "print('The mean of the quality ratings: ', df['quality'].mean())\n",
    "print('The median of the quality ratings', df['quality'].median()) "
   ]
  },
  {
   "cell_type": "code",
   "execution_count": 7,
   "metadata": {},
   "outputs": [
    {
     "name": "stdout",
     "output_type": "stream",
     "text": [
      "0     1.0\n",
      "1     1.0\n",
      "2     1.0\n",
      "3     0.0\n",
      "4     1.0\n",
      "5     1.0\n",
      "6     0.0\n",
      "7     0.0\n",
      "8     0.0\n",
      "9     1.0\n",
      "10    1.0\n",
      "11    0.0\n",
      "12    0.0\n",
      "13    1.0\n",
      "14    0.0\n",
      "15    0.0\n",
      "16    1.0\n",
      "17    1.0\n",
      "18    0.0\n",
      "19    1.0\n",
      "dtype: float64\n"
     ]
    }
   ],
   "source": [
    "mean_ratings = df[['price','quality']].median(axis=1).round()\n",
    "print(mean_ratings)"
   ]
  },
  {
   "cell_type": "markdown",
   "metadata": {},
   "source": [
    "6) Mean Ratings"
   ]
  },
  {
   "cell_type": "code",
   "execution_count": 8,
   "metadata": {},
   "outputs": [
    {
     "name": "stdout",
     "output_type": "stream",
     "text": [
      "       Price   Quality  Average\n",
      "0   0.117826  0.953185      1.0\n",
      "1   0.999640  0.081447      1.0\n",
      "2   0.992828  0.768040      1.0\n",
      "3   0.233316  0.342827      0.0\n",
      "4   0.810034  0.325330      1.0\n",
      "5   0.097997  0.929723      1.0\n",
      "6   0.144344  0.302517      0.0\n",
      "7   0.182973  0.183077      0.0\n",
      "8   0.387504  0.170004      0.0\n",
      "9   0.699287  0.433040      1.0\n",
      "10  0.854941  0.412943      1.0\n",
      "11  0.250380  0.148165      0.0\n",
      "12  0.065056  0.733413      0.0\n",
      "13  0.311799  0.903770      1.0\n",
      "14  0.223021  0.403760      0.0\n",
      "15  0.222261  0.700997      0.0\n",
      "16  0.848893  0.910520      1.0\n",
      "17  0.419662  0.831492      1.0\n",
      "18  0.249407  0.284742      0.0\n",
      "19  0.396780  0.706428      1.0\n"
     ]
    }
   ],
   "source": [
    "new_ratings_values = np.column_stack((price_vector, quality_vector, mean_ratings))\n",
    "new_ratings_values.astype(int)\n",
    "new_ratings = pd.DataFrame(new_ratings_values, columns=['Price', 'Quality', 'Average'])\n",
    "print(new_ratings)"
   ]
  },
  {
   "cell_type": "markdown",
   "metadata": {},
   "source": [
    "7)"
   ]
  },
  {
   "cell_type": "code",
   "execution_count": 11,
   "metadata": {},
   "outputs": [
    {
     "name": "stdout",
     "output_type": "stream",
     "text": [
      "[[0 0 1]\n",
      " [0 0 1]\n",
      " [0 0 1]\n",
      " [0 0 0]\n",
      " [0 0 1]\n",
      " [0 0 1]\n",
      " [0 0 0]\n",
      " [0 0 0]\n",
      " [0 0 0]\n",
      " [0 0 1]\n",
      " [0 0 1]\n",
      " [0 0 0]\n",
      " [0 0 0]\n",
      " [0 0 1]\n",
      " [0 0 0]\n",
      " [0 0 0]\n",
      " [0 0 1]\n",
      " [0 0 1]\n",
      " [0 0 0]\n",
      " [0 0 1]]\n",
      "<class 'numpy.ndarray'>\n",
      "(20, 3)\n"
     ]
    }
   ],
   "source": [
    "new_ratings_values = np.column_stack((price_vector, quality_vector, mean_ratings))\n",
    "new_ratings_values = new_ratings_values.astype(int)\n",
    "print(new_ratings_values)\n",
    "print(type(new_ratings_values))\n",
    "print(new_ratings_values.shape)\n",
    "\n"
   ]
  },
  {
   "cell_type": "code",
   "execution_count": 12,
   "metadata": {},
   "outputs": [
    {
     "data": {
      "text/html": [
       "<div>\n",
       "<style scoped>\n",
       "    .dataframe tbody tr th:only-of-type {\n",
       "        vertical-align: middle;\n",
       "    }\n",
       "\n",
       "    .dataframe tbody tr th {\n",
       "        vertical-align: top;\n",
       "    }\n",
       "\n",
       "    .dataframe thead th {\n",
       "        text-align: right;\n",
       "    }\n",
       "</style>\n",
       "<table border=\"1\" class=\"dataframe\">\n",
       "  <thead>\n",
       "    <tr style=\"text-align: right;\">\n",
       "      <th></th>\n",
       "      <th>Price</th>\n",
       "      <th>Quality</th>\n",
       "      <th>Average</th>\n",
       "    </tr>\n",
       "  </thead>\n",
       "  <tbody>\n",
       "    <tr>\n",
       "      <th>0</th>\n",
       "      <td>0</td>\n",
       "      <td>0</td>\n",
       "      <td>1</td>\n",
       "    </tr>\n",
       "    <tr>\n",
       "      <th>1</th>\n",
       "      <td>0</td>\n",
       "      <td>0</td>\n",
       "      <td>1</td>\n",
       "    </tr>\n",
       "    <tr>\n",
       "      <th>2</th>\n",
       "      <td>0</td>\n",
       "      <td>0</td>\n",
       "      <td>1</td>\n",
       "    </tr>\n",
       "    <tr>\n",
       "      <th>3</th>\n",
       "      <td>0</td>\n",
       "      <td>0</td>\n",
       "      <td>0</td>\n",
       "    </tr>\n",
       "    <tr>\n",
       "      <th>4</th>\n",
       "      <td>0</td>\n",
       "      <td>0</td>\n",
       "      <td>1</td>\n",
       "    </tr>\n",
       "    <tr>\n",
       "      <th>5</th>\n",
       "      <td>0</td>\n",
       "      <td>0</td>\n",
       "      <td>1</td>\n",
       "    </tr>\n",
       "    <tr>\n",
       "      <th>6</th>\n",
       "      <td>0</td>\n",
       "      <td>0</td>\n",
       "      <td>0</td>\n",
       "    </tr>\n",
       "    <tr>\n",
       "      <th>7</th>\n",
       "      <td>0</td>\n",
       "      <td>0</td>\n",
       "      <td>0</td>\n",
       "    </tr>\n",
       "    <tr>\n",
       "      <th>8</th>\n",
       "      <td>0</td>\n",
       "      <td>0</td>\n",
       "      <td>0</td>\n",
       "    </tr>\n",
       "    <tr>\n",
       "      <th>9</th>\n",
       "      <td>0</td>\n",
       "      <td>0</td>\n",
       "      <td>1</td>\n",
       "    </tr>\n",
       "    <tr>\n",
       "      <th>10</th>\n",
       "      <td>0</td>\n",
       "      <td>0</td>\n",
       "      <td>1</td>\n",
       "    </tr>\n",
       "    <tr>\n",
       "      <th>11</th>\n",
       "      <td>0</td>\n",
       "      <td>0</td>\n",
       "      <td>0</td>\n",
       "    </tr>\n",
       "    <tr>\n",
       "      <th>12</th>\n",
       "      <td>0</td>\n",
       "      <td>0</td>\n",
       "      <td>0</td>\n",
       "    </tr>\n",
       "    <tr>\n",
       "      <th>13</th>\n",
       "      <td>0</td>\n",
       "      <td>0</td>\n",
       "      <td>1</td>\n",
       "    </tr>\n",
       "    <tr>\n",
       "      <th>14</th>\n",
       "      <td>0</td>\n",
       "      <td>0</td>\n",
       "      <td>0</td>\n",
       "    </tr>\n",
       "    <tr>\n",
       "      <th>15</th>\n",
       "      <td>0</td>\n",
       "      <td>0</td>\n",
       "      <td>0</td>\n",
       "    </tr>\n",
       "    <tr>\n",
       "      <th>16</th>\n",
       "      <td>0</td>\n",
       "      <td>0</td>\n",
       "      <td>1</td>\n",
       "    </tr>\n",
       "    <tr>\n",
       "      <th>17</th>\n",
       "      <td>0</td>\n",
       "      <td>0</td>\n",
       "      <td>1</td>\n",
       "    </tr>\n",
       "    <tr>\n",
       "      <th>18</th>\n",
       "      <td>0</td>\n",
       "      <td>0</td>\n",
       "      <td>0</td>\n",
       "    </tr>\n",
       "    <tr>\n",
       "      <th>19</th>\n",
       "      <td>0</td>\n",
       "      <td>0</td>\n",
       "      <td>1</td>\n",
       "    </tr>\n",
       "  </tbody>\n",
       "</table>\n",
       "</div>"
      ],
      "text/plain": [
       "    Price  Quality  Average\n",
       "0       0        0        1\n",
       "1       0        0        1\n",
       "2       0        0        1\n",
       "3       0        0        0\n",
       "4       0        0        1\n",
       "5       0        0        1\n",
       "6       0        0        0\n",
       "7       0        0        0\n",
       "8       0        0        0\n",
       "9       0        0        1\n",
       "10      0        0        1\n",
       "11      0        0        0\n",
       "12      0        0        0\n",
       "13      0        0        1\n",
       "14      0        0        0\n",
       "15      0        0        0\n",
       "16      0        0        1\n",
       "17      0        0        1\n",
       "18      0        0        0\n",
       "19      0        0        1"
      ]
     },
     "metadata": {},
     "output_type": "display_data"
    }
   ],
   "source": [
    "new_ratings_data =pd.DataFrame(new_ratings_values, columns=['Price', 'Quality', 'Average'])\n",
    "display(new_ratings_data)"
   ]
  },
  {
   "cell_type": "code",
   "execution_count": 13,
   "metadata": {},
   "outputs": [
    {
     "name": "stdout",
     "output_type": "stream",
     "text": [
      "0.3664381787539791\n"
     ]
    }
   ],
   "source": [
    "def mae(target, predictions):\n",
    "    target = np.array(target)\n",
    "    predictions = np.array(predictions)\n",
    "    \n",
    "    \n",
    "    mae = np.mean(np.abs(target - predictions))\n",
    "    \n",
    "    return mae\n",
    "print(mae(price_vector,quality_vector))"
   ]
  },
  {
   "cell_type": "code",
   "execution_count": 22,
   "metadata": {},
   "outputs": [
    {
     "name": "stdout",
     "output_type": "stream",
     "text": [
      "[0 1 1 0 0 0 1 1 0 0 0 1 0 1 0 1 0 0 1 0 0 1 0 1 0 1 0 0 1 1 0 1 1 1 1 1 1\n",
      " 1 0 1 1 1 0 0 1 0 1 0 1 0 1 0 1 1 0 1 1 0 1 0 0 0 1 1 0 1 1 0 1 1 0 1 1 1\n",
      " 0 0 1 0 0 0 1 1 1 0 1 0 1 1 1 1 1 1 0 0 0 1 1 1 1 1]\n",
      "[1 1 1 1 1 1 1 1 1 1 1 1 1 1 1 1 1 1 1 1 1 1 1 1 1 1 1 1 1 1 1 1 1 1 1 1 1\n",
      " 1 1 1 1 1 1 1 1 1 1 1 1 1 1 1 1 1 1 1 1 1 1 1 1 1 1 1 1 1 1 1 1 1 1 1 1 1\n",
      " 1 1 1 1 1 1 1 1 1 1 1 1 1 1 1 1 1 1 1 1 1 1 1 1 1 1]\n"
     ]
    }
   ],
   "source": [
    "target_array = np.random.binomial(n=1, p=0.6, size=100)\n",
    "predictions_array = np.ones(100, dtype=int)\n",
    "\n",
    "print(target_array)\n",
    "\n",
    "print(predictions_array)"
   ]
  },
  {
   "cell_type": "code",
   "execution_count": 23,
   "metadata": {},
   "outputs": [
    {
     "data": {
      "text/plain": [
       "0.43"
      ]
     },
     "execution_count": 23,
     "metadata": {},
     "output_type": "execute_result"
    }
   ],
   "source": [
    "mean_absolute_error =  mae(target_array,predictions_array)\n",
    "mean_absolute_error"
   ]
  },
  {
   "cell_type": "markdown",
   "metadata": {},
   "source": [
    "Random sequences varied with each application, which changed the outcome"
   ]
  },
  {
   "cell_type": "code",
   "execution_count": 26,
   "metadata": {},
   "outputs": [
    {
     "name": "stdout",
     "output_type": "stream",
     "text": [
      "Length of the vector: 7.810249675906654\n"
     ]
    }
   ],
   "source": [
    "def pythagorean(vector):\n",
    "        \n",
    "    dot_product = np.dot(vector, vector)\n",
    "    length = np.sqrt(dot_product)\n",
    "    \n",
    "    return length\n",
    "\n",
    "\n",
    "vector = np.array([5, 6])  \n",
    "length = pythagorean(vector)\n",
    "print(\"Length of the vector:\", length)"
   ]
  },
  {
   "cell_type": "code",
   "execution_count": 25,
   "metadata": {},
   "outputs": [
    {
     "name": "stdout",
     "output_type": "stream",
     "text": [
      "5.0\n"
     ]
    }
   ],
   "source": [
    "a = np.array([3, 4])\n",
    "length_av =pythagorean(a)\n",
    "print(length_av)"
   ]
  },
  {
   "cell_type": "code",
   "execution_count": 29,
   "metadata": {},
   "outputs": [
    {
     "name": "stdout",
     "output_type": "stream",
     "text": [
      "The distance is 5.0\n",
      "The distance should be 5.0\n"
     ]
    }
   ],
   "source": [
    "from scipy.spatial import distance\n",
    "a = np.array([5, 6])\n",
    "b = np.array([1, 3])\n",
    "\n",
    "c = np.sqrt(np.dot(a - b, a - b))\n",
    "print('The distance is', c)\n",
    "print('The distance should be', distance.euclidean(a, b))"
   ]
  },
  {
   "cell_type": "code",
   "execution_count": 30,
   "metadata": {},
   "outputs": [
    {
     "data": {
      "text/html": [
       "<div>\n",
       "<style scoped>\n",
       "    .dataframe tbody tr th:only-of-type {\n",
       "        vertical-align: middle;\n",
       "    }\n",
       "\n",
       "    .dataframe tbody tr th {\n",
       "        vertical-align: top;\n",
       "    }\n",
       "\n",
       "    .dataframe thead th {\n",
       "        text-align: right;\n",
       "    }\n",
       "</style>\n",
       "<table border=\"1\" class=\"dataframe\">\n",
       "  <thead>\n",
       "    <tr style=\"text-align: right;\">\n",
       "      <th></th>\n",
       "      <th>gender</th>\n",
       "      <th>age</th>\n",
       "      <th>salary</th>\n",
       "      <th>family_members</th>\n",
       "    </tr>\n",
       "  </thead>\n",
       "  <tbody>\n",
       "    <tr>\n",
       "      <th>990</th>\n",
       "      <td>0</td>\n",
       "      <td>87</td>\n",
       "      <td>26896</td>\n",
       "      <td>6</td>\n",
       "    </tr>\n",
       "    <tr>\n",
       "      <th>991</th>\n",
       "      <td>0</td>\n",
       "      <td>76</td>\n",
       "      <td>22540</td>\n",
       "      <td>0</td>\n",
       "    </tr>\n",
       "    <tr>\n",
       "      <th>992</th>\n",
       "      <td>0</td>\n",
       "      <td>62</td>\n",
       "      <td>23369</td>\n",
       "      <td>6</td>\n",
       "    </tr>\n",
       "    <tr>\n",
       "      <th>993</th>\n",
       "      <td>0</td>\n",
       "      <td>84</td>\n",
       "      <td>29496</td>\n",
       "      <td>1</td>\n",
       "    </tr>\n",
       "    <tr>\n",
       "      <th>994</th>\n",
       "      <td>1</td>\n",
       "      <td>30</td>\n",
       "      <td>27503</td>\n",
       "      <td>2</td>\n",
       "    </tr>\n",
       "    <tr>\n",
       "      <th>995</th>\n",
       "      <td>0</td>\n",
       "      <td>64</td>\n",
       "      <td>27916</td>\n",
       "      <td>1</td>\n",
       "    </tr>\n",
       "    <tr>\n",
       "      <th>996</th>\n",
       "      <td>0</td>\n",
       "      <td>55</td>\n",
       "      <td>22966</td>\n",
       "      <td>8</td>\n",
       "    </tr>\n",
       "    <tr>\n",
       "      <th>997</th>\n",
       "      <td>0</td>\n",
       "      <td>94</td>\n",
       "      <td>25553</td>\n",
       "      <td>5</td>\n",
       "    </tr>\n",
       "    <tr>\n",
       "      <th>998</th>\n",
       "      <td>0</td>\n",
       "      <td>45</td>\n",
       "      <td>28499</td>\n",
       "      <td>9</td>\n",
       "    </tr>\n",
       "    <tr>\n",
       "      <th>999</th>\n",
       "      <td>0</td>\n",
       "      <td>80</td>\n",
       "      <td>27323</td>\n",
       "      <td>4</td>\n",
       "    </tr>\n",
       "  </tbody>\n",
       "</table>\n",
       "</div>"
      ],
      "text/plain": [
       "     gender  age  salary  family_members\n",
       "990       0   87   26896               6\n",
       "991       0   76   22540               0\n",
       "992       0   62   23369               6\n",
       "993       0   84   29496               1\n",
       "994       1   30   27503               2\n",
       "995       0   64   27916               1\n",
       "996       0   55   22966               8\n",
       "997       0   94   25553               5\n",
       "998       0   45   28499               9\n",
       "999       0   80   27323               4"
      ]
     },
     "metadata": {},
     "output_type": "display_data"
    }
   ],
   "source": [
    "columns = ['gender', 'age', 'salary', 'family_members']\n",
    "data = np.array([np.random.choice([0, 1], size=1000), \n",
    "                 np.random.randint(18, 100, 1000), \n",
    "                 np.random.normal(25000, 5000, 1000).astype(int), \n",
    "                 np.random.randint(0, 10, 1000)\n",
    "                ])\n",
    "\n",
    "personal_data = pd.DataFrame(data.T, columns=columns)\n",
    "display(personal_data.tail(10))"
   ]
  }
 ],
 "metadata": {
  "kernelspec": {
   "display_name": "Python 3",
   "language": "python",
   "name": "python3"
  },
  "language_info": {
   "codemirror_mode": {
    "name": "ipython",
    "version": 3
   },
   "file_extension": ".py",
   "mimetype": "text/x-python",
   "name": "python",
   "nbconvert_exporter": "python",
   "pygments_lexer": "ipython3",
   "version": "3.12.1"
  }
 },
 "nbformat": 4,
 "nbformat_minor": 2
}
