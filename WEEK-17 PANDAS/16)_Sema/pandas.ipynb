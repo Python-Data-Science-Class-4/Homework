{
 "cells": [
  {
   "cell_type": "code",
   "execution_count": 308,
   "metadata": {},
   "outputs": [],
   "source": [
    "import pandas as pd\n",
    "import numpy as np\n",
    "import matplotlib.pyplot as plt"
   ]
  },
  {
   "cell_type": "code",
   "execution_count": 309,
   "metadata": {},
   "outputs": [
    {
     "data": {
      "text/html": [
       "<div>\n",
       "<style scoped>\n",
       "    .dataframe tbody tr th:only-of-type {\n",
       "        vertical-align: middle;\n",
       "    }\n",
       "\n",
       "    .dataframe tbody tr th {\n",
       "        vertical-align: top;\n",
       "    }\n",
       "\n",
       "    .dataframe thead th {\n",
       "        text-align: right;\n",
       "    }\n",
       "</style>\n",
       "<table border=\"1\" class=\"dataframe\">\n",
       "  <thead>\n",
       "    <tr style=\"text-align: right;\">\n",
       "      <th></th>\n",
       "      <th>Unnamed: 0</th>\n",
       "      <th>Age</th>\n",
       "      <th>Gender</th>\n",
       "      <th>Education Level</th>\n",
       "      <th>Income</th>\n",
       "      <th>Marital Status</th>\n",
       "      <th>Employment Status</th>\n",
       "      <th>Product Category</th>\n",
       "      <th>Satisfaction Level</th>\n",
       "      <th>Debt Status</th>\n",
       "    </tr>\n",
       "  </thead>\n",
       "  <tbody>\n",
       "    <tr>\n",
       "      <th>0</th>\n",
       "      <td>0</td>\n",
       "      <td>500</td>\n",
       "      <td>Female</td>\n",
       "      <td>NaN</td>\n",
       "      <td>31158.0</td>\n",
       "      <td>NaN</td>\n",
       "      <td>NaN</td>\n",
       "      <td>NaN</td>\n",
       "      <td>9</td>\n",
       "      <td>1</td>\n",
       "    </tr>\n",
       "    <tr>\n",
       "      <th>1</th>\n",
       "      <td>1</td>\n",
       "      <td>73</td>\n",
       "      <td>Female</td>\n",
       "      <td>College</td>\n",
       "      <td>54465.0</td>\n",
       "      <td>NaN</td>\n",
       "      <td>0.0</td>\n",
       "      <td>E</td>\n",
       "      <td>5</td>\n",
       "      <td>1</td>\n",
       "    </tr>\n",
       "    <tr>\n",
       "      <th>2</th>\n",
       "      <td>2</td>\n",
       "      <td>68</td>\n",
       "      <td>Male</td>\n",
       "      <td>High School</td>\n",
       "      <td>37427.0</td>\n",
       "      <td>married</td>\n",
       "      <td>0.0</td>\n",
       "      <td>D</td>\n",
       "      <td>1</td>\n",
       "      <td>1</td>\n",
       "    </tr>\n",
       "    <tr>\n",
       "      <th>3</th>\n",
       "      <td>3</td>\n",
       "      <td>61</td>\n",
       "      <td>Female</td>\n",
       "      <td>College</td>\n",
       "      <td>52210.0</td>\n",
       "      <td>widowed</td>\n",
       "      <td>0.0</td>\n",
       "      <td>G</td>\n",
       "      <td>8</td>\n",
       "      <td>1</td>\n",
       "    </tr>\n",
       "    <tr>\n",
       "      <th>4</th>\n",
       "      <td>4</td>\n",
       "      <td>34</td>\n",
       "      <td>Female</td>\n",
       "      <td>College</td>\n",
       "      <td>59325.0</td>\n",
       "      <td>separated</td>\n",
       "      <td>1.0</td>\n",
       "      <td>A</td>\n",
       "      <td>5</td>\n",
       "      <td>0</td>\n",
       "    </tr>\n",
       "    <tr>\n",
       "      <th>...</th>\n",
       "      <td>...</td>\n",
       "      <td>...</td>\n",
       "      <td>...</td>\n",
       "      <td>...</td>\n",
       "      <td>...</td>\n",
       "      <td>...</td>\n",
       "      <td>...</td>\n",
       "      <td>...</td>\n",
       "      <td>...</td>\n",
       "      <td>...</td>\n",
       "    </tr>\n",
       "    <tr>\n",
       "      <th>105</th>\n",
       "      <td>56</td>\n",
       "      <td>85</td>\n",
       "      <td>Female</td>\n",
       "      <td>University</td>\n",
       "      <td>39063.0</td>\n",
       "      <td>divorced</td>\n",
       "      <td>NaN</td>\n",
       "      <td>F</td>\n",
       "      <td>8</td>\n",
       "      <td>0</td>\n",
       "    </tr>\n",
       "    <tr>\n",
       "      <th>106</th>\n",
       "      <td>0</td>\n",
       "      <td>500</td>\n",
       "      <td>Female</td>\n",
       "      <td>NaN</td>\n",
       "      <td>31158.0</td>\n",
       "      <td>NaN</td>\n",
       "      <td>NaN</td>\n",
       "      <td>NaN</td>\n",
       "      <td>9</td>\n",
       "      <td>0</td>\n",
       "    </tr>\n",
       "    <tr>\n",
       "      <th>107</th>\n",
       "      <td>73</td>\n",
       "      <td>39</td>\n",
       "      <td>Female</td>\n",
       "      <td>College</td>\n",
       "      <td>55750.0</td>\n",
       "      <td>married</td>\n",
       "      <td>1.0</td>\n",
       "      <td>F</td>\n",
       "      <td>5</td>\n",
       "      <td>1</td>\n",
       "    </tr>\n",
       "    <tr>\n",
       "      <th>108</th>\n",
       "      <td>28</td>\n",
       "      <td>80</td>\n",
       "      <td>Female</td>\n",
       "      <td>High School</td>\n",
       "      <td>32142.0</td>\n",
       "      <td>separated</td>\n",
       "      <td>NaN</td>\n",
       "      <td>C</td>\n",
       "      <td>7</td>\n",
       "      <td>1</td>\n",
       "    </tr>\n",
       "    <tr>\n",
       "      <th>109</th>\n",
       "      <td>30</td>\n",
       "      <td>500</td>\n",
       "      <td>Female</td>\n",
       "      <td>High School</td>\n",
       "      <td>18442.0</td>\n",
       "      <td>separated</td>\n",
       "      <td>1.0</td>\n",
       "      <td>A</td>\n",
       "      <td>3</td>\n",
       "      <td>0</td>\n",
       "    </tr>\n",
       "  </tbody>\n",
       "</table>\n",
       "<p>110 rows × 10 columns</p>\n",
       "</div>"
      ],
      "text/plain": [
       "     Unnamed: 0  Age  Gender Education Level   Income Marital Status  \\\n",
       "0             0  500  Female             NaN  31158.0            NaN   \n",
       "1             1   73  Female         College  54465.0            NaN   \n",
       "2             2   68    Male     High School  37427.0        married   \n",
       "3             3   61  Female         College  52210.0        widowed   \n",
       "4             4   34  Female         College  59325.0      separated   \n",
       "..          ...  ...     ...             ...      ...            ...   \n",
       "105          56   85  Female      University  39063.0       divorced   \n",
       "106           0  500  Female             NaN  31158.0            NaN   \n",
       "107          73   39  Female         College  55750.0        married   \n",
       "108          28   80  Female     High School  32142.0      separated   \n",
       "109          30  500  Female     High School  18442.0      separated   \n",
       "\n",
       "     Employment Status Product Category  Satisfaction Level  Debt Status  \n",
       "0                  NaN              NaN                   9            1  \n",
       "1                  0.0                E                   5            1  \n",
       "2                  0.0                D                   1            1  \n",
       "3                  0.0                G                   8            1  \n",
       "4                  1.0                A                   5            0  \n",
       "..                 ...              ...                 ...          ...  \n",
       "105                NaN                F                   8            0  \n",
       "106                NaN              NaN                   9            0  \n",
       "107                1.0                F                   5            1  \n",
       "108                NaN                C                   7            1  \n",
       "109                1.0                A                   3            0  \n",
       "\n",
       "[110 rows x 10 columns]"
      ]
     },
     "execution_count": 309,
     "metadata": {},
     "output_type": "execute_result"
    }
   ],
   "source": [
    "hw =pd.read_csv('hw_data.csv')\n",
    "hw"
   ]
  },
  {
   "cell_type": "code",
   "execution_count": 310,
   "metadata": {},
   "outputs": [],
   "source": [
    "df=hw.copy()"
   ]
  },
  {
   "cell_type": "code",
   "execution_count": 311,
   "metadata": {},
   "outputs": [
    {
     "name": "stdout",
     "output_type": "stream",
     "text": [
      "<class 'pandas.core.frame.DataFrame'>\n",
      "RangeIndex: 110 entries, 0 to 109\n",
      "Data columns (total 10 columns):\n",
      " #   Column              Non-Null Count  Dtype  \n",
      "---  ------              --------------  -----  \n",
      " 0   Unnamed: 0          110 non-null    int64  \n",
      " 1   Age                 110 non-null    int64  \n",
      " 2   Gender              110 non-null    object \n",
      " 3   Education Level     93 non-null     object \n",
      " 4   Income              98 non-null     float64\n",
      " 5   Marital Status      91 non-null     object \n",
      " 6   Employment Status   75 non-null     float64\n",
      " 7   Product Category    97 non-null     object \n",
      " 8   Satisfaction Level  110 non-null    int64  \n",
      " 9   Debt Status         110 non-null    int64  \n",
      "dtypes: float64(2), int64(4), object(4)\n",
      "memory usage: 8.7+ KB\n"
     ]
    }
   ],
   "source": [
    "df.info()"
   ]
  },
  {
   "cell_type": "code",
   "execution_count": 312,
   "metadata": {},
   "outputs": [
    {
     "data": {
      "text/plain": [
       "Education Level      17\n",
       "Income               12\n",
       "Marital Status       19\n",
       "Employment Status    35\n",
       "Product Category     13\n",
       "dtype: int64"
      ]
     },
     "execution_count": 312,
     "metadata": {},
     "output_type": "execute_result"
    }
   ],
   "source": [
    "total_missing = df.isna().sum()\n",
    "total_missing[total_missing > 0]\n",
    "\n"
   ]
  },
  {
   "cell_type": "code",
   "execution_count": 313,
   "metadata": {},
   "outputs": [
    {
     "data": {
      "text/plain": [
       "96"
      ]
     },
     "execution_count": 313,
     "metadata": {},
     "output_type": "execute_result"
    }
   ],
   "source": [
    "total_missing.sum()"
   ]
  },
  {
   "cell_type": "code",
   "execution_count": 314,
   "metadata": {},
   "outputs": [
    {
     "data": {
      "text/plain": [
       "Unnamed: 0              int64\n",
       "Age                     int64\n",
       "Gender                 object\n",
       "Education Level        object\n",
       "Income                float64\n",
       "Marital Status         object\n",
       "Employment Status     float64\n",
       "Product Category       object\n",
       "Satisfaction Level      int64\n",
       "Debt Status             int64\n",
       "dtype: object"
      ]
     },
     "execution_count": 314,
     "metadata": {},
     "output_type": "execute_result"
    }
   ],
   "source": [
    "df.dtypes"
   ]
  },
  {
   "cell_type": "markdown",
   "metadata": {},
   "source": [
    "# Write a function for filling categorical values with mode"
   ]
  },
  {
   "cell_type": "code",
   "execution_count": 315,
   "metadata": {},
   "outputs": [],
   "source": [
    "fill_categorical = lambda df, column: df[column].fillna(df[column].mode()[0]) if df[column].dtype == 'object' else df[column]\n"
   ]
  },
  {
   "cell_type": "code",
   "execution_count": 316,
   "metadata": {},
   "outputs": [
    {
     "data": {
      "text/plain": [
       "Education Level      17\n",
       "Income               12\n",
       "Marital Status       19\n",
       "Employment Status    35\n",
       "Product Category     13\n",
       "dtype: int64"
      ]
     },
     "execution_count": 316,
     "metadata": {},
     "output_type": "execute_result"
    }
   ],
   "source": [
    "total_missing = df.isna().sum()\n",
    "total_missing[total_missing > 0]"
   ]
  },
  {
   "cell_type": "code",
   "execution_count": 317,
   "metadata": {},
   "outputs": [],
   "source": [
    "fill_categorical = lambda df, column: df[column].fillna(df[column].mode()[0]) if df[column].dtype == 'object' else df[column]\n",
    "\n",
    "columns_to_fill = ['Education Level', 'Marital Status', 'Product Category']\n",
    "\n",
    "for column in columns_to_fill:\n",
    "    df[column] = fill_categorical(df, column)\n"
   ]
  },
  {
   "cell_type": "code",
   "execution_count": 318,
   "metadata": {},
   "outputs": [
    {
     "data": {
      "text/plain": [
       "Income               12\n",
       "Employment Status    35\n",
       "dtype: int64"
      ]
     },
     "execution_count": 318,
     "metadata": {},
     "output_type": "execute_result"
    }
   ],
   "source": [
    "total_missing = df.isna().sum()\n",
    "total_missing[total_missing > 0]"
   ]
  },
  {
   "cell_type": "markdown",
   "metadata": {},
   "source": [
    "# Fill numeric with mean"
   ]
  },
  {
   "cell_type": "code",
   "execution_count": 319,
   "metadata": {},
   "outputs": [],
   "source": [
    "fill_numeric = lambda df, column: df[column].fillna(df[column].mean()) if df[column].dtype != 'object' else df[column]\n"
   ]
  },
  {
   "cell_type": "code",
   "execution_count": 320,
   "metadata": {},
   "outputs": [
    {
     "data": {
      "text/plain": [
       "Income               12\n",
       "Employment Status    35\n",
       "dtype: int64"
      ]
     },
     "execution_count": 320,
     "metadata": {},
     "output_type": "execute_result"
    }
   ],
   "source": [
    "total_missing = df.isna().sum()\n",
    "total_missing[total_missing > 0]"
   ]
  },
  {
   "cell_type": "code",
   "execution_count": 321,
   "metadata": {},
   "outputs": [],
   "source": [
    "fill_values = lambda df, column: df[column].fillna(df[column].median()) if df[column].dtype != 'object' else df[column].fillna(df[column].mode()[0])\n",
    "\n",
    "columns_to_fill = ['Income', 'Employment Status']\n",
    "\n",
    "for column in columns_to_fill:\n",
    "    df[column] = fill_values(df, column)\n"
   ]
  },
  {
   "cell_type": "code",
   "execution_count": 322,
   "metadata": {},
   "outputs": [
    {
     "data": {
      "text/plain": [
       "Series([], dtype: int64)"
      ]
     },
     "execution_count": 322,
     "metadata": {},
     "output_type": "execute_result"
    }
   ],
   "source": [
    "total_missing = df.isna().sum()\n",
    "total_missing[total_missing > 0]"
   ]
  },
  {
   "cell_type": "code",
   "execution_count": 323,
   "metadata": {},
   "outputs": [
    {
     "data": {
      "text/html": [
       "<div>\n",
       "<style scoped>\n",
       "    .dataframe tbody tr th:only-of-type {\n",
       "        vertical-align: middle;\n",
       "    }\n",
       "\n",
       "    .dataframe tbody tr th {\n",
       "        vertical-align: top;\n",
       "    }\n",
       "\n",
       "    .dataframe thead th {\n",
       "        text-align: right;\n",
       "    }\n",
       "</style>\n",
       "<table border=\"1\" class=\"dataframe\">\n",
       "  <thead>\n",
       "    <tr style=\"text-align: right;\">\n",
       "      <th></th>\n",
       "      <th>count</th>\n",
       "      <th>mean</th>\n",
       "      <th>std</th>\n",
       "      <th>min</th>\n",
       "      <th>25%</th>\n",
       "      <th>50%</th>\n",
       "      <th>75%</th>\n",
       "      <th>max</th>\n",
       "    </tr>\n",
       "  </thead>\n",
       "  <tbody>\n",
       "    <tr>\n",
       "      <th>Unnamed: 0</th>\n",
       "      <td>110.0</td>\n",
       "      <td>4.939091e+01</td>\n",
       "      <td>2.879478e+01</td>\n",
       "      <td>0.0</td>\n",
       "      <td>26.25</td>\n",
       "      <td>49.5</td>\n",
       "      <td>73.75</td>\n",
       "      <td>99.0</td>\n",
       "    </tr>\n",
       "    <tr>\n",
       "      <th>Age</th>\n",
       "      <td>110.0</td>\n",
       "      <td>9.802727e+01</td>\n",
       "      <td>1.439335e+02</td>\n",
       "      <td>0.0</td>\n",
       "      <td>30.25</td>\n",
       "      <td>54.0</td>\n",
       "      <td>84.00</td>\n",
       "      <td>500.0</td>\n",
       "    </tr>\n",
       "    <tr>\n",
       "      <th>Income</th>\n",
       "      <td>110.0</td>\n",
       "      <td>5.125630e+07</td>\n",
       "      <td>1.677805e+08</td>\n",
       "      <td>6740.0</td>\n",
       "      <td>31560.25</td>\n",
       "      <td>38702.5</td>\n",
       "      <td>47943.50</td>\n",
       "      <td>863305114.0</td>\n",
       "    </tr>\n",
       "    <tr>\n",
       "      <th>Employment Status</th>\n",
       "      <td>110.0</td>\n",
       "      <td>7.090909e-01</td>\n",
       "      <td>4.562603e-01</td>\n",
       "      <td>0.0</td>\n",
       "      <td>0.00</td>\n",
       "      <td>1.0</td>\n",
       "      <td>1.00</td>\n",
       "      <td>1.0</td>\n",
       "    </tr>\n",
       "    <tr>\n",
       "      <th>Satisfaction Level</th>\n",
       "      <td>110.0</td>\n",
       "      <td>4.527273e+00</td>\n",
       "      <td>2.801406e+00</td>\n",
       "      <td>0.0</td>\n",
       "      <td>2.00</td>\n",
       "      <td>5.0</td>\n",
       "      <td>7.00</td>\n",
       "      <td>9.0</td>\n",
       "    </tr>\n",
       "    <tr>\n",
       "      <th>Debt Status</th>\n",
       "      <td>110.0</td>\n",
       "      <td>4.636364e-01</td>\n",
       "      <td>5.009582e-01</td>\n",
       "      <td>0.0</td>\n",
       "      <td>0.00</td>\n",
       "      <td>0.0</td>\n",
       "      <td>1.00</td>\n",
       "      <td>1.0</td>\n",
       "    </tr>\n",
       "  </tbody>\n",
       "</table>\n",
       "</div>"
      ],
      "text/plain": [
       "                    count          mean           std     min       25%  \\\n",
       "Unnamed: 0          110.0  4.939091e+01  2.879478e+01     0.0     26.25   \n",
       "Age                 110.0  9.802727e+01  1.439335e+02     0.0     30.25   \n",
       "Income              110.0  5.125630e+07  1.677805e+08  6740.0  31560.25   \n",
       "Employment Status   110.0  7.090909e-01  4.562603e-01     0.0      0.00   \n",
       "Satisfaction Level  110.0  4.527273e+00  2.801406e+00     0.0      2.00   \n",
       "Debt Status         110.0  4.636364e-01  5.009582e-01     0.0      0.00   \n",
       "\n",
       "                        50%       75%          max  \n",
       "Unnamed: 0             49.5     73.75         99.0  \n",
       "Age                    54.0     84.00        500.0  \n",
       "Income              38702.5  47943.50  863305114.0  \n",
       "Employment Status       1.0      1.00          1.0  \n",
       "Satisfaction Level      5.0      7.00          9.0  \n",
       "Debt Status             0.0      1.00          1.0  "
      ]
     },
     "execution_count": 323,
     "metadata": {},
     "output_type": "execute_result"
    }
   ],
   "source": [
    "df.describe().T"
   ]
  },
  {
   "cell_type": "code",
   "execution_count": 324,
   "metadata": {},
   "outputs": [
    {
     "data": {
      "text/html": [
       "<div>\n",
       "<style scoped>\n",
       "    .dataframe tbody tr th:only-of-type {\n",
       "        vertical-align: middle;\n",
       "    }\n",
       "\n",
       "    .dataframe tbody tr th {\n",
       "        vertical-align: top;\n",
       "    }\n",
       "\n",
       "    .dataframe thead th {\n",
       "        text-align: right;\n",
       "    }\n",
       "</style>\n",
       "<table border=\"1\" class=\"dataframe\">\n",
       "  <thead>\n",
       "    <tr style=\"text-align: right;\">\n",
       "      <th></th>\n",
       "      <th>count</th>\n",
       "      <th>unique</th>\n",
       "      <th>top</th>\n",
       "      <th>freq</th>\n",
       "    </tr>\n",
       "  </thead>\n",
       "  <tbody>\n",
       "    <tr>\n",
       "      <th>Gender</th>\n",
       "      <td>110</td>\n",
       "      <td>2</td>\n",
       "      <td>Male</td>\n",
       "      <td>56</td>\n",
       "    </tr>\n",
       "    <tr>\n",
       "      <th>Education Level</th>\n",
       "      <td>110</td>\n",
       "      <td>4</td>\n",
       "      <td>University</td>\n",
       "      <td>47</td>\n",
       "    </tr>\n",
       "    <tr>\n",
       "      <th>Marital Status</th>\n",
       "      <td>110</td>\n",
       "      <td>5</td>\n",
       "      <td>separated</td>\n",
       "      <td>44</td>\n",
       "    </tr>\n",
       "    <tr>\n",
       "      <th>Product Category</th>\n",
       "      <td>110</td>\n",
       "      <td>7</td>\n",
       "      <td>G</td>\n",
       "      <td>33</td>\n",
       "    </tr>\n",
       "  </tbody>\n",
       "</table>\n",
       "</div>"
      ],
      "text/plain": [
       "                 count unique         top freq\n",
       "Gender             110      2        Male   56\n",
       "Education Level    110      4  University   47\n",
       "Marital Status     110      5   separated   44\n",
       "Product Category   110      7           G   33"
      ]
     },
     "execution_count": 324,
     "metadata": {},
     "output_type": "execute_result"
    }
   ],
   "source": [
    "df.describe(include=object).T"
   ]
  },
  {
   "cell_type": "code",
   "execution_count": 325,
   "metadata": {},
   "outputs": [
    {
     "data": {
      "text/html": [
       "<div>\n",
       "<style scoped>\n",
       "    .dataframe tbody tr th:only-of-type {\n",
       "        vertical-align: middle;\n",
       "    }\n",
       "\n",
       "    .dataframe tbody tr th {\n",
       "        vertical-align: top;\n",
       "    }\n",
       "\n",
       "    .dataframe thead th {\n",
       "        text-align: right;\n",
       "    }\n",
       "</style>\n",
       "<table border=\"1\" class=\"dataframe\">\n",
       "  <thead>\n",
       "    <tr style=\"text-align: right;\">\n",
       "      <th></th>\n",
       "      <th>count</th>\n",
       "      <th>unique</th>\n",
       "      <th>top</th>\n",
       "      <th>freq</th>\n",
       "      <th>mean</th>\n",
       "      <th>std</th>\n",
       "      <th>min</th>\n",
       "      <th>25%</th>\n",
       "      <th>50%</th>\n",
       "      <th>75%</th>\n",
       "      <th>max</th>\n",
       "    </tr>\n",
       "  </thead>\n",
       "  <tbody>\n",
       "    <tr>\n",
       "      <th>Unnamed: 0</th>\n",
       "      <td>110.0</td>\n",
       "      <td>NaN</td>\n",
       "      <td>NaN</td>\n",
       "      <td>NaN</td>\n",
       "      <td>49.390909</td>\n",
       "      <td>28.79478</td>\n",
       "      <td>0.0</td>\n",
       "      <td>26.25</td>\n",
       "      <td>49.5</td>\n",
       "      <td>73.75</td>\n",
       "      <td>99.0</td>\n",
       "    </tr>\n",
       "    <tr>\n",
       "      <th>Age</th>\n",
       "      <td>110.0</td>\n",
       "      <td>NaN</td>\n",
       "      <td>NaN</td>\n",
       "      <td>NaN</td>\n",
       "      <td>98.027273</td>\n",
       "      <td>143.9335</td>\n",
       "      <td>0.0</td>\n",
       "      <td>30.25</td>\n",
       "      <td>54.0</td>\n",
       "      <td>84.0</td>\n",
       "      <td>500.0</td>\n",
       "    </tr>\n",
       "    <tr>\n",
       "      <th>Gender</th>\n",
       "      <td>110</td>\n",
       "      <td>2</td>\n",
       "      <td>Male</td>\n",
       "      <td>56</td>\n",
       "      <td>NaN</td>\n",
       "      <td>NaN</td>\n",
       "      <td>NaN</td>\n",
       "      <td>NaN</td>\n",
       "      <td>NaN</td>\n",
       "      <td>NaN</td>\n",
       "      <td>NaN</td>\n",
       "    </tr>\n",
       "    <tr>\n",
       "      <th>Education Level</th>\n",
       "      <td>110</td>\n",
       "      <td>4</td>\n",
       "      <td>University</td>\n",
       "      <td>47</td>\n",
       "      <td>NaN</td>\n",
       "      <td>NaN</td>\n",
       "      <td>NaN</td>\n",
       "      <td>NaN</td>\n",
       "      <td>NaN</td>\n",
       "      <td>NaN</td>\n",
       "      <td>NaN</td>\n",
       "    </tr>\n",
       "    <tr>\n",
       "      <th>Income</th>\n",
       "      <td>110.0</td>\n",
       "      <td>NaN</td>\n",
       "      <td>NaN</td>\n",
       "      <td>NaN</td>\n",
       "      <td>51256302.327273</td>\n",
       "      <td>167780456.287621</td>\n",
       "      <td>6740.0</td>\n",
       "      <td>31560.25</td>\n",
       "      <td>38702.5</td>\n",
       "      <td>47943.5</td>\n",
       "      <td>863305114.0</td>\n",
       "    </tr>\n",
       "    <tr>\n",
       "      <th>Marital Status</th>\n",
       "      <td>110</td>\n",
       "      <td>5</td>\n",
       "      <td>separated</td>\n",
       "      <td>44</td>\n",
       "      <td>NaN</td>\n",
       "      <td>NaN</td>\n",
       "      <td>NaN</td>\n",
       "      <td>NaN</td>\n",
       "      <td>NaN</td>\n",
       "      <td>NaN</td>\n",
       "      <td>NaN</td>\n",
       "    </tr>\n",
       "    <tr>\n",
       "      <th>Employment Status</th>\n",
       "      <td>110.0</td>\n",
       "      <td>NaN</td>\n",
       "      <td>NaN</td>\n",
       "      <td>NaN</td>\n",
       "      <td>0.709091</td>\n",
       "      <td>0.45626</td>\n",
       "      <td>0.0</td>\n",
       "      <td>0.0</td>\n",
       "      <td>1.0</td>\n",
       "      <td>1.0</td>\n",
       "      <td>1.0</td>\n",
       "    </tr>\n",
       "    <tr>\n",
       "      <th>Product Category</th>\n",
       "      <td>110</td>\n",
       "      <td>7</td>\n",
       "      <td>G</td>\n",
       "      <td>33</td>\n",
       "      <td>NaN</td>\n",
       "      <td>NaN</td>\n",
       "      <td>NaN</td>\n",
       "      <td>NaN</td>\n",
       "      <td>NaN</td>\n",
       "      <td>NaN</td>\n",
       "      <td>NaN</td>\n",
       "    </tr>\n",
       "    <tr>\n",
       "      <th>Satisfaction Level</th>\n",
       "      <td>110.0</td>\n",
       "      <td>NaN</td>\n",
       "      <td>NaN</td>\n",
       "      <td>NaN</td>\n",
       "      <td>4.527273</td>\n",
       "      <td>2.801406</td>\n",
       "      <td>0.0</td>\n",
       "      <td>2.0</td>\n",
       "      <td>5.0</td>\n",
       "      <td>7.0</td>\n",
       "      <td>9.0</td>\n",
       "    </tr>\n",
       "    <tr>\n",
       "      <th>Debt Status</th>\n",
       "      <td>110.0</td>\n",
       "      <td>NaN</td>\n",
       "      <td>NaN</td>\n",
       "      <td>NaN</td>\n",
       "      <td>0.463636</td>\n",
       "      <td>0.500958</td>\n",
       "      <td>0.0</td>\n",
       "      <td>0.0</td>\n",
       "      <td>0.0</td>\n",
       "      <td>1.0</td>\n",
       "      <td>1.0</td>\n",
       "    </tr>\n",
       "  </tbody>\n",
       "</table>\n",
       "</div>"
      ],
      "text/plain": [
       "                    count unique         top freq             mean  \\\n",
       "Unnamed: 0          110.0    NaN         NaN  NaN        49.390909   \n",
       "Age                 110.0    NaN         NaN  NaN        98.027273   \n",
       "Gender                110      2        Male   56              NaN   \n",
       "Education Level       110      4  University   47              NaN   \n",
       "Income              110.0    NaN         NaN  NaN  51256302.327273   \n",
       "Marital Status        110      5   separated   44              NaN   \n",
       "Employment Status   110.0    NaN         NaN  NaN         0.709091   \n",
       "Product Category      110      7           G   33              NaN   \n",
       "Satisfaction Level  110.0    NaN         NaN  NaN         4.527273   \n",
       "Debt Status         110.0    NaN         NaN  NaN         0.463636   \n",
       "\n",
       "                                 std     min       25%      50%      75%  \\\n",
       "Unnamed: 0                  28.79478     0.0     26.25     49.5    73.75   \n",
       "Age                         143.9335     0.0     30.25     54.0     84.0   \n",
       "Gender                           NaN     NaN       NaN      NaN      NaN   \n",
       "Education Level                  NaN     NaN       NaN      NaN      NaN   \n",
       "Income              167780456.287621  6740.0  31560.25  38702.5  47943.5   \n",
       "Marital Status                   NaN     NaN       NaN      NaN      NaN   \n",
       "Employment Status            0.45626     0.0       0.0      1.0      1.0   \n",
       "Product Category                 NaN     NaN       NaN      NaN      NaN   \n",
       "Satisfaction Level          2.801406     0.0       2.0      5.0      7.0   \n",
       "Debt Status                 0.500958     0.0       0.0      0.0      1.0   \n",
       "\n",
       "                            max  \n",
       "Unnamed: 0                 99.0  \n",
       "Age                       500.0  \n",
       "Gender                      NaN  \n",
       "Education Level             NaN  \n",
       "Income              863305114.0  \n",
       "Marital Status              NaN  \n",
       "Employment Status           1.0  \n",
       "Product Category            NaN  \n",
       "Satisfaction Level          9.0  \n",
       "Debt Status                 1.0  "
      ]
     },
     "execution_count": 325,
     "metadata": {},
     "output_type": "execute_result"
    }
   ],
   "source": [
    "df.describe(include='all').T"
   ]
  },
  {
   "cell_type": "code",
   "execution_count": 326,
   "metadata": {},
   "outputs": [
    {
     "data": {
      "text/plain": [
       "Unnamed: 0            0\n",
       "Age                   0\n",
       "Gender                0\n",
       "Education Level       0\n",
       "Income                0\n",
       "Marital Status        0\n",
       "Employment Status     0\n",
       "Product Category      0\n",
       "Satisfaction Level    0\n",
       "Debt Status           0\n",
       "dtype: int64"
      ]
     },
     "execution_count": 326,
     "metadata": {},
     "output_type": "execute_result"
    }
   ],
   "source": [
    "df.isna().sum()"
   ]
  },
  {
   "cell_type": "markdown",
   "metadata": {},
   "source": [
    "Why did we fill the missing values?"
   ]
  },
  {
   "cell_type": "markdown",
   "metadata": {},
   "source": [
    "We need to analyze our data without missing values. Sometime we can drop sometime we can fill our data with mode, mean, median or other methods. This can depend on the data. We fill 96 missing values."
   ]
  },
  {
   "cell_type": "markdown",
   "metadata": {},
   "source": [
    "Find duplicates"
   ]
  },
  {
   "cell_type": "code",
   "execution_count": 327,
   "metadata": {},
   "outputs": [
    {
     "data": {
      "text/plain": [
       "0      False\n",
       "1      False\n",
       "2      False\n",
       "3      False\n",
       "4      False\n",
       "       ...  \n",
       "105    False\n",
       "106    False\n",
       "107    False\n",
       "108    False\n",
       "109     True\n",
       "Length: 110, dtype: bool"
      ]
     },
     "execution_count": 327,
     "metadata": {},
     "output_type": "execute_result"
    }
   ],
   "source": [
    "df_duplicates=df.duplicated(keep=False)\n",
    "df_duplicates"
   ]
  },
  {
   "cell_type": "code",
   "execution_count": 328,
   "metadata": {},
   "outputs": [
    {
     "data": {
      "text/plain": [
       "False    102\n",
       "True       8\n",
       "Name: count, dtype: int64"
      ]
     },
     "execution_count": 328,
     "metadata": {},
     "output_type": "execute_result"
    }
   ],
   "source": [
    "df_duplicates.value_counts()"
   ]
  },
  {
   "cell_type": "code",
   "execution_count": 329,
   "metadata": {},
   "outputs": [
    {
     "data": {
      "text/plain": [
       "Index(['Unnamed: 0', 'Age', 'Gender', 'Education Level', 'Income',\n",
       "       'Marital Status', 'Employment Status', 'Product Category',\n",
       "       'Satisfaction Level', 'Debt Status'],\n",
       "      dtype='object')"
      ]
     },
     "execution_count": 329,
     "metadata": {},
     "output_type": "execute_result"
    }
   ],
   "source": [
    "df.columns.unique()"
   ]
  },
  {
   "cell_type": "code",
   "execution_count": 330,
   "metadata": {},
   "outputs": [
    {
     "name": "stdout",
     "output_type": "stream",
     "text": [
      "Column 'Unnamed: 0' duplicates:\n",
      "100    True\n",
      "101    True\n",
      "102    True\n",
      "103    True\n",
      "104    True\n",
      "105    True\n",
      "106    True\n",
      "107    True\n",
      "108    True\n",
      "109    True\n",
      "Name: Unnamed: 0, dtype: bool\n",
      "10\n",
      "\n",
      "Column 'Age' duplicates:\n",
      "10     True\n",
      "12     True\n",
      "19     True\n",
      "20     True\n",
      "24     True\n",
      "28     True\n",
      "30     True\n",
      "34     True\n",
      "38     True\n",
      "40     True\n",
      "47     True\n",
      "50     True\n",
      "51     True\n",
      "53     True\n",
      "56     True\n",
      "58     True\n",
      "60     True\n",
      "62     True\n",
      "63     True\n",
      "64     True\n",
      "65     True\n",
      "68     True\n",
      "69     True\n",
      "70     True\n",
      "71     True\n",
      "72     True\n",
      "73     True\n",
      "74     True\n",
      "77     True\n",
      "80     True\n",
      "81     True\n",
      "84     True\n",
      "88     True\n",
      "90     True\n",
      "91     True\n",
      "92     True\n",
      "94     True\n",
      "95     True\n",
      "97     True\n",
      "99     True\n",
      "100    True\n",
      "101    True\n",
      "102    True\n",
      "103    True\n",
      "104    True\n",
      "105    True\n",
      "106    True\n",
      "107    True\n",
      "108    True\n",
      "109    True\n",
      "Name: Age, dtype: bool\n",
      "50\n",
      "\n",
      "Column 'Gender' duplicates:\n",
      "1      True\n",
      "3      True\n",
      "4      True\n",
      "5      True\n",
      "6      True\n",
      "       ... \n",
      "105    True\n",
      "106    True\n",
      "107    True\n",
      "108    True\n",
      "109    True\n",
      "Name: Gender, Length: 108, dtype: bool\n",
      "108\n",
      "\n",
      "Column 'Education Level' duplicates:\n",
      "3      True\n",
      "4      True\n",
      "6      True\n",
      "7      True\n",
      "8      True\n",
      "       ... \n",
      "105    True\n",
      "106    True\n",
      "107    True\n",
      "108    True\n",
      "109    True\n",
      "Name: Education Level, Length: 106, dtype: bool\n",
      "106\n",
      "\n",
      "Column 'Income' duplicates:\n",
      "22     True\n",
      "29     True\n",
      "36     True\n",
      "43     True\n",
      "57     True\n",
      "64     True\n",
      "71     True\n",
      "78     True\n",
      "85     True\n",
      "92     True\n",
      "100    True\n",
      "101    True\n",
      "102    True\n",
      "103    True\n",
      "104    True\n",
      "105    True\n",
      "106    True\n",
      "107    True\n",
      "108    True\n",
      "109    True\n",
      "Name: Income, dtype: bool\n",
      "20\n",
      "\n",
      "Column 'Marital Status' duplicates:\n",
      "1      True\n",
      "4      True\n",
      "5      True\n",
      "7      True\n",
      "8      True\n",
      "       ... \n",
      "105    True\n",
      "106    True\n",
      "107    True\n",
      "108    True\n",
      "109    True\n",
      "Name: Marital Status, Length: 105, dtype: bool\n",
      "105\n",
      "\n",
      "Column 'Employment Status' duplicates:\n",
      "2      True\n",
      "3      True\n",
      "4      True\n",
      "5      True\n",
      "6      True\n",
      "       ... \n",
      "105    True\n",
      "106    True\n",
      "107    True\n",
      "108    True\n",
      "109    True\n",
      "Name: Employment Status, Length: 108, dtype: bool\n",
      "108\n",
      "\n",
      "Column 'Product Category' duplicates:\n",
      "3      True\n",
      "6      True\n",
      "7      True\n",
      "8      True\n",
      "9      True\n",
      "       ... \n",
      "105    True\n",
      "106    True\n",
      "107    True\n",
      "108    True\n",
      "109    True\n",
      "Name: Product Category, Length: 103, dtype: bool\n",
      "103\n",
      "\n",
      "Column 'Satisfaction Level' duplicates:\n",
      "4      True\n",
      "6      True\n",
      "7      True\n",
      "11     True\n",
      "12     True\n",
      "       ... \n",
      "105    True\n",
      "106    True\n",
      "107    True\n",
      "108    True\n",
      "109    True\n",
      "Name: Satisfaction Level, Length: 100, dtype: bool\n",
      "100\n",
      "\n",
      "Column 'Debt Status' duplicates:\n",
      "1      True\n",
      "2      True\n",
      "3      True\n",
      "5      True\n",
      "6      True\n",
      "       ... \n",
      "105    True\n",
      "106    True\n",
      "107    True\n",
      "108    True\n",
      "109    True\n",
      "Name: Debt Status, Length: 108, dtype: bool\n",
      "108\n",
      "\n"
     ]
    }
   ],
   "source": [
    "duplicates = df.apply(lambda x: x.duplicated())\n",
    "for column in duplicates.columns:\n",
    "    column_duplicates = duplicates[column]\n",
    "    print(f\"Column '{column}' duplicates:\")\n",
    "    print(column_duplicates[column_duplicates == True])\n",
    "    print(column_duplicates[column_duplicates == True].sum())\n",
    "    print()\n"
   ]
  },
  {
   "cell_type": "code",
   "execution_count": 331,
   "metadata": {},
   "outputs": [],
   "source": [
    "df.drop_duplicates(keep='first', inplace=True)\n"
   ]
  },
  {
   "cell_type": "code",
   "execution_count": 332,
   "metadata": {},
   "outputs": [
    {
     "data": {
      "text/plain": [
       "False    106\n",
       "Name: count, dtype: int64"
      ]
     },
     "execution_count": 332,
     "metadata": {},
     "output_type": "execute_result"
    }
   ],
   "source": [
    "df_duplicates=df.duplicated()\n",
    "df_duplicates.value_counts()"
   ]
  },
  {
   "cell_type": "markdown",
   "metadata": {},
   "source": [
    "True values were our duplicate values and deleted from the data"
   ]
  },
  {
   "cell_type": "code",
   "execution_count": 333,
   "metadata": {},
   "outputs": [],
   "source": [
    "#Calculate numeric columns\n",
    "numeric_columns = df.select_dtypes(include=['int', 'float']).columns"
   ]
  },
  {
   "cell_type": "code",
   "execution_count": 334,
   "metadata": {},
   "outputs": [
    {
     "data": {
      "image/png": "[encoded data removed]",
      "text/plain": [
       "<Figure size 600x400 with 1 Axes>"
      ]
     },
     "metadata": {},
     "output_type": "display_data"
    },
    {
     "data": {
      "image/png": "[encoded data removed]",
      "text/plain": [
       "<Figure size 600x400 with 1 Axes>"
      ]
     },
     "metadata": {},
     "output_type": "display_data"
    },
    {
     "data": {
      "image/png": "[encoded data removed]",
      "text/plain": [
       "<Figure size 600x400 with 1 Axes>"
      ]
     },
     "metadata": {},
     "output_type": "display_data"
    },
    {
     "data": {
      "image/png": "[encoded data removed]",
      "text/plain": [
       "<Figure size 600x400 with 1 Axes>"
      ]
     },
     "metadata": {},
     "output_type": "display_data"
    },
    {
     "data": {
      "image/png": "[encoded data removed]",
      "text/plain": [
       "<Figure size 600x400 with 1 Axes>"
      ]
     },
     "metadata": {},
     "output_type": "display_data"
    },
    {
     "data": {
      "image/png": "[encoded data removed]",
      "text/plain": [
       "<Figure size 600x400 with 1 Axes>"
      ]
     },
     "metadata": {},
     "output_type": "display_data"
    }
   ],
   "source": [
    "for column in numeric_columns:\n",
    "    plt.figure(figsize=(6,4))\n",
    "    df.boxplot(column=[column])\n",
    "    plt.title(f'Box Plot of {column}')\n",
    "    plt.show()"
   ]
  },
  {
   "cell_type": "markdown",
   "metadata": {},
   "source": [
    "# Calculate outliers"
   ]
  },
  {
   "cell_type": "code",
   "execution_count": 335,
   "metadata": {},
   "outputs": [
    {
     "name": "stdout",
     "output_type": "stream",
     "text": [
      "Outliers in Unnamed: 0:\n",
      "Series([], Name: Unnamed: 0, dtype: int64)\n",
      "\n",
      "Outliers in Age:\n",
      "0      500\n",
      "10     500\n",
      "20     500\n",
      "30     500\n",
      "40     500\n",
      "50     500\n",
      "60     500\n",
      "70     500\n",
      "80     500\n",
      "90     500\n",
      "106    500\n",
      "Name: Age, dtype: int64\n",
      "\n",
      "Outliers in Income:\n",
      "11         6740.0\n",
      "14    863305114.0\n",
      "23    195144049.0\n",
      "32    314696218.0\n",
      "41    862386254.0\n",
      "50    575772080.0\n",
      "59    300245882.0\n",
      "68    777761952.0\n",
      "77    286421460.0\n",
      "86    505250420.0\n",
      "95    148112279.0\n",
      "97         7010.0\n",
      "Name: Income, dtype: float64\n",
      "\n",
      "Outliers in Employment Status:\n",
      "Series([], Name: Employment Status, dtype: float64)\n",
      "\n",
      "Outliers in Satisfaction Level:\n",
      "Series([], Name: Satisfaction Level, dtype: int64)\n",
      "\n",
      "Outliers in Debt Status:\n",
      "Series([], Name: Debt Status, dtype: int64)\n",
      "\n"
     ]
    }
   ],
   "source": [
    "for column in numeric_columns:\n",
    "    q1 = df[column].quantile(0.25)\n",
    "    q3 = df[column].quantile(0.75)\n",
    "    iqr = q3 - q1\n",
    "    lower_bound = q1 - 1.5 * iqr\n",
    "    upper_bound = q3 + 1.5 * iqr\n",
    "    outliers = df[(df[column] < lower_bound) | (df[column] > upper_bound)][column]\n",
    "    print(f\"Outliers in {column}:\")\n",
    "    print(outliers)\n",
    "    print()"
   ]
  },
  {
   "cell_type": "code",
   "execution_count": 336,
   "metadata": {},
   "outputs": [
    {
     "data": {
      "text/plain": [
       "95.5"
      ]
     },
     "execution_count": 336,
     "metadata": {},
     "output_type": "execute_result"
    }
   ],
   "source": [
    "df['Age'].mean()"
   ]
  },
  {
   "cell_type": "code",
   "execution_count": 337,
   "metadata": {},
   "outputs": [
    {
     "data": {
      "image/png": "[encoded data removed]",
      "text/plain": [
       "<Figure size 640x480 with 1 Axes>"
      ]
     },
     "metadata": {},
     "output_type": "display_data"
    }
   ],
   "source": [
    "\n",
    "df.boxplot(column=['Age'])\n",
    "plt.title('Box Plot of Age')\n",
    "plt.show()\n"
   ]
  },
  {
   "cell_type": "code",
   "execution_count": 338,
   "metadata": {},
   "outputs": [
    {
     "data": {
      "text/html": [
       "<div>\n",
       "<style scoped>\n",
       "    .dataframe tbody tr th:only-of-type {\n",
       "        vertical-align: middle;\n",
       "    }\n",
       "\n",
       "    .dataframe tbody tr th {\n",
       "        vertical-align: top;\n",
       "    }\n",
       "\n",
       "    .dataframe thead th {\n",
       "        text-align: right;\n",
       "    }\n",
       "</style>\n",
       "<table border=\"1\" class=\"dataframe\">\n",
       "  <thead>\n",
       "    <tr style=\"text-align: right;\">\n",
       "      <th></th>\n",
       "      <th>Unnamed: 0</th>\n",
       "      <th>Age</th>\n",
       "      <th>Gender</th>\n",
       "      <th>Education Level</th>\n",
       "      <th>Income</th>\n",
       "      <th>Marital Status</th>\n",
       "      <th>Employment Status</th>\n",
       "      <th>Product Category</th>\n",
       "      <th>Satisfaction Level</th>\n",
       "      <th>Debt Status</th>\n",
       "    </tr>\n",
       "  </thead>\n",
       "  <tbody>\n",
       "    <tr>\n",
       "      <th>0</th>\n",
       "      <td>0</td>\n",
       "      <td>500</td>\n",
       "      <td>Female</td>\n",
       "      <td>University</td>\n",
       "      <td>31158.0</td>\n",
       "      <td>separated</td>\n",
       "      <td>1.0</td>\n",
       "      <td>G</td>\n",
       "      <td>9</td>\n",
       "      <td>1</td>\n",
       "    </tr>\n",
       "    <tr>\n",
       "      <th>10</th>\n",
       "      <td>10</td>\n",
       "      <td>500</td>\n",
       "      <td>Female</td>\n",
       "      <td>College</td>\n",
       "      <td>31654.0</td>\n",
       "      <td>never married</td>\n",
       "      <td>1.0</td>\n",
       "      <td>G</td>\n",
       "      <td>7</td>\n",
       "      <td>0</td>\n",
       "    </tr>\n",
       "    <tr>\n",
       "      <th>20</th>\n",
       "      <td>20</td>\n",
       "      <td>500</td>\n",
       "      <td>Female</td>\n",
       "      <td>University</td>\n",
       "      <td>64165.0</td>\n",
       "      <td>separated</td>\n",
       "      <td>0.0</td>\n",
       "      <td>A</td>\n",
       "      <td>2</td>\n",
       "      <td>1</td>\n",
       "    </tr>\n",
       "    <tr>\n",
       "      <th>30</th>\n",
       "      <td>30</td>\n",
       "      <td>500</td>\n",
       "      <td>Female</td>\n",
       "      <td>High School</td>\n",
       "      <td>18442.0</td>\n",
       "      <td>separated</td>\n",
       "      <td>1.0</td>\n",
       "      <td>A</td>\n",
       "      <td>3</td>\n",
       "      <td>0</td>\n",
       "    </tr>\n",
       "    <tr>\n",
       "      <th>40</th>\n",
       "      <td>40</td>\n",
       "      <td>500</td>\n",
       "      <td>Female</td>\n",
       "      <td>College</td>\n",
       "      <td>45140.0</td>\n",
       "      <td>widowed</td>\n",
       "      <td>0.0</td>\n",
       "      <td>D</td>\n",
       "      <td>9</td>\n",
       "      <td>0</td>\n",
       "    </tr>\n",
       "    <tr>\n",
       "      <th>50</th>\n",
       "      <td>50</td>\n",
       "      <td>500</td>\n",
       "      <td>Male</td>\n",
       "      <td>University</td>\n",
       "      <td>575772080.0</td>\n",
       "      <td>married</td>\n",
       "      <td>0.0</td>\n",
       "      <td>D</td>\n",
       "      <td>5</td>\n",
       "      <td>0</td>\n",
       "    </tr>\n",
       "    <tr>\n",
       "      <th>60</th>\n",
       "      <td>60</td>\n",
       "      <td>500</td>\n",
       "      <td>Female</td>\n",
       "      <td>College</td>\n",
       "      <td>34060.0</td>\n",
       "      <td>separated</td>\n",
       "      <td>1.0</td>\n",
       "      <td>G</td>\n",
       "      <td>7</td>\n",
       "      <td>0</td>\n",
       "    </tr>\n",
       "    <tr>\n",
       "      <th>70</th>\n",
       "      <td>70</td>\n",
       "      <td>500</td>\n",
       "      <td>Male</td>\n",
       "      <td>High School</td>\n",
       "      <td>21593.0</td>\n",
       "      <td>never married</td>\n",
       "      <td>1.0</td>\n",
       "      <td>D</td>\n",
       "      <td>3</td>\n",
       "      <td>1</td>\n",
       "    </tr>\n",
       "    <tr>\n",
       "      <th>80</th>\n",
       "      <td>80</td>\n",
       "      <td>500</td>\n",
       "      <td>Male</td>\n",
       "      <td>University</td>\n",
       "      <td>60010.0</td>\n",
       "      <td>married</td>\n",
       "      <td>1.0</td>\n",
       "      <td>E</td>\n",
       "      <td>7</td>\n",
       "      <td>1</td>\n",
       "    </tr>\n",
       "    <tr>\n",
       "      <th>90</th>\n",
       "      <td>90</td>\n",
       "      <td>500</td>\n",
       "      <td>Female</td>\n",
       "      <td>University</td>\n",
       "      <td>31759.0</td>\n",
       "      <td>separated</td>\n",
       "      <td>1.0</td>\n",
       "      <td>G</td>\n",
       "      <td>6</td>\n",
       "      <td>0</td>\n",
       "    </tr>\n",
       "    <tr>\n",
       "      <th>106</th>\n",
       "      <td>0</td>\n",
       "      <td>500</td>\n",
       "      <td>Female</td>\n",
       "      <td>University</td>\n",
       "      <td>31158.0</td>\n",
       "      <td>separated</td>\n",
       "      <td>1.0</td>\n",
       "      <td>G</td>\n",
       "      <td>9</td>\n",
       "      <td>0</td>\n",
       "    </tr>\n",
       "  </tbody>\n",
       "</table>\n",
       "</div>"
      ],
      "text/plain": [
       "     Unnamed: 0  Age  Gender Education Level       Income Marital Status  \\\n",
       "0             0  500  Female      University      31158.0      separated   \n",
       "10           10  500  Female         College      31654.0  never married   \n",
       "20           20  500  Female      University      64165.0      separated   \n",
       "30           30  500  Female     High School      18442.0      separated   \n",
       "40           40  500  Female         College      45140.0        widowed   \n",
       "50           50  500    Male      University  575772080.0        married   \n",
       "60           60  500  Female         College      34060.0      separated   \n",
       "70           70  500    Male     High School      21593.0  never married   \n",
       "80           80  500    Male      University      60010.0        married   \n",
       "90           90  500  Female      University      31759.0      separated   \n",
       "106           0  500  Female      University      31158.0      separated   \n",
       "\n",
       "     Employment Status Product Category  Satisfaction Level  Debt Status  \n",
       "0                  1.0                G                   9            1  \n",
       "10                 1.0                G                   7            0  \n",
       "20                 0.0                A                   2            1  \n",
       "30                 1.0                A                   3            0  \n",
       "40                 0.0                D                   9            0  \n",
       "50                 0.0                D                   5            0  \n",
       "60                 1.0                G                   7            0  \n",
       "70                 1.0                D                   3            1  \n",
       "80                 1.0                E                   7            1  \n",
       "90                 1.0                G                   6            0  \n",
       "106                1.0                G                   9            0  "
      ]
     },
     "execution_count": 338,
     "metadata": {},
     "output_type": "execute_result"
    }
   ],
   "source": [
    "age_500=pd.DataFrame\n",
    "age_500=df[df['Age']==500]\n",
    "age_500"
   ]
  },
  {
   "cell_type": "code",
   "execution_count": 339,
   "metadata": {},
   "outputs": [
    {
     "name": "stdout",
     "output_type": "stream",
     "text": [
      "35.3\n",
      "111.92307692307692\n"
     ]
    }
   ],
   "source": [
    "female_married_avg_age = df[(df['Gender'] == 'Female') & (df['Marital Status'] == 'married')]['Age'].mean()\n",
    "print(female_married_avg_age)\n",
    "male_married_avg_age = df[(df['Gender'] == 'Male') & (df['Marital Status'] == 'married')]['Age'].mean()\n",
    "print(male_married_avg_age)"
   ]
  },
  {
   "cell_type": "markdown",
   "metadata": {},
   "source": [
    "# Fill the wrong values with average of age"
   ]
  },
  {
   "cell_type": "code",
   "execution_count": 340,
   "metadata": {},
   "outputs": [
    {
     "name": "stderr",
     "output_type": "stream",
     "text": [
      "C:\\Users\\MainUser\\AppData\\Local\\Temp\\ipykernel_19140\\439695647.py:1: FutureWarning: Setting an item of incompatible dtype is deprecated and will raise an error in a future version of pandas. Value '35.3' has dtype incompatible with int64, please explicitly cast to a compatible dtype first.\n",
      "  df.loc[(df['Age'] == 500) & (df['Gender'] == 'Female') & (df['Marital Status'] == 'married'), 'Age'] = female_married_avg_age\n"
     ]
    }
   ],
   "source": [
    "df.loc[(df['Age'] == 500) & (df['Gender'] == 'Female') & (df['Marital Status'] == 'married'), 'Age'] = female_married_avg_age\n",
    "df.loc[(df['Age'] == 500) & (df['Gender'] == 'Male') & (df['Marital Status'] == 'married'), 'Age'] = male_married_avg_age"
   ]
  },
  {
   "cell_type": "code",
   "execution_count": 341,
   "metadata": {},
   "outputs": [
    {
     "data": {
      "text/html": [
       "<div>\n",
       "<style scoped>\n",
       "    .dataframe tbody tr th:only-of-type {\n",
       "        vertical-align: middle;\n",
       "    }\n",
       "\n",
       "    .dataframe tbody tr th {\n",
       "        vertical-align: top;\n",
       "    }\n",
       "\n",
       "    .dataframe thead th {\n",
       "        text-align: right;\n",
       "    }\n",
       "</style>\n",
       "<table border=\"1\" class=\"dataframe\">\n",
       "  <thead>\n",
       "    <tr style=\"text-align: right;\">\n",
       "      <th></th>\n",
       "      <th>Unnamed: 0</th>\n",
       "      <th>Age</th>\n",
       "      <th>Gender</th>\n",
       "      <th>Education Level</th>\n",
       "      <th>Income</th>\n",
       "      <th>Marital Status</th>\n",
       "      <th>Employment Status</th>\n",
       "      <th>Product Category</th>\n",
       "      <th>Satisfaction Level</th>\n",
       "      <th>Debt Status</th>\n",
       "    </tr>\n",
       "  </thead>\n",
       "  <tbody>\n",
       "    <tr>\n",
       "      <th>0</th>\n",
       "      <td>0</td>\n",
       "      <td>500.0</td>\n",
       "      <td>Female</td>\n",
       "      <td>University</td>\n",
       "      <td>31158.0</td>\n",
       "      <td>separated</td>\n",
       "      <td>1.0</td>\n",
       "      <td>G</td>\n",
       "      <td>9</td>\n",
       "      <td>1</td>\n",
       "    </tr>\n",
       "    <tr>\n",
       "      <th>10</th>\n",
       "      <td>10</td>\n",
       "      <td>500.0</td>\n",
       "      <td>Female</td>\n",
       "      <td>College</td>\n",
       "      <td>31654.0</td>\n",
       "      <td>never married</td>\n",
       "      <td>1.0</td>\n",
       "      <td>G</td>\n",
       "      <td>7</td>\n",
       "      <td>0</td>\n",
       "    </tr>\n",
       "    <tr>\n",
       "      <th>20</th>\n",
       "      <td>20</td>\n",
       "      <td>500.0</td>\n",
       "      <td>Female</td>\n",
       "      <td>University</td>\n",
       "      <td>64165.0</td>\n",
       "      <td>separated</td>\n",
       "      <td>0.0</td>\n",
       "      <td>A</td>\n",
       "      <td>2</td>\n",
       "      <td>1</td>\n",
       "    </tr>\n",
       "    <tr>\n",
       "      <th>30</th>\n",
       "      <td>30</td>\n",
       "      <td>500.0</td>\n",
       "      <td>Female</td>\n",
       "      <td>High School</td>\n",
       "      <td>18442.0</td>\n",
       "      <td>separated</td>\n",
       "      <td>1.0</td>\n",
       "      <td>A</td>\n",
       "      <td>3</td>\n",
       "      <td>0</td>\n",
       "    </tr>\n",
       "    <tr>\n",
       "      <th>40</th>\n",
       "      <td>40</td>\n",
       "      <td>500.0</td>\n",
       "      <td>Female</td>\n",
       "      <td>College</td>\n",
       "      <td>45140.0</td>\n",
       "      <td>widowed</td>\n",
       "      <td>0.0</td>\n",
       "      <td>D</td>\n",
       "      <td>9</td>\n",
       "      <td>0</td>\n",
       "    </tr>\n",
       "    <tr>\n",
       "      <th>60</th>\n",
       "      <td>60</td>\n",
       "      <td>500.0</td>\n",
       "      <td>Female</td>\n",
       "      <td>College</td>\n",
       "      <td>34060.0</td>\n",
       "      <td>separated</td>\n",
       "      <td>1.0</td>\n",
       "      <td>G</td>\n",
       "      <td>7</td>\n",
       "      <td>0</td>\n",
       "    </tr>\n",
       "    <tr>\n",
       "      <th>70</th>\n",
       "      <td>70</td>\n",
       "      <td>500.0</td>\n",
       "      <td>Male</td>\n",
       "      <td>High School</td>\n",
       "      <td>21593.0</td>\n",
       "      <td>never married</td>\n",
       "      <td>1.0</td>\n",
       "      <td>D</td>\n",
       "      <td>3</td>\n",
       "      <td>1</td>\n",
       "    </tr>\n",
       "    <tr>\n",
       "      <th>90</th>\n",
       "      <td>90</td>\n",
       "      <td>500.0</td>\n",
       "      <td>Female</td>\n",
       "      <td>University</td>\n",
       "      <td>31759.0</td>\n",
       "      <td>separated</td>\n",
       "      <td>1.0</td>\n",
       "      <td>G</td>\n",
       "      <td>6</td>\n",
       "      <td>0</td>\n",
       "    </tr>\n",
       "    <tr>\n",
       "      <th>106</th>\n",
       "      <td>0</td>\n",
       "      <td>500.0</td>\n",
       "      <td>Female</td>\n",
       "      <td>University</td>\n",
       "      <td>31158.0</td>\n",
       "      <td>separated</td>\n",
       "      <td>1.0</td>\n",
       "      <td>G</td>\n",
       "      <td>9</td>\n",
       "      <td>0</td>\n",
       "    </tr>\n",
       "  </tbody>\n",
       "</table>\n",
       "</div>"
      ],
      "text/plain": [
       "     Unnamed: 0    Age  Gender Education Level   Income Marital Status  \\\n",
       "0             0  500.0  Female      University  31158.0      separated   \n",
       "10           10  500.0  Female         College  31654.0  never married   \n",
       "20           20  500.0  Female      University  64165.0      separated   \n",
       "30           30  500.0  Female     High School  18442.0      separated   \n",
       "40           40  500.0  Female         College  45140.0        widowed   \n",
       "60           60  500.0  Female         College  34060.0      separated   \n",
       "70           70  500.0    Male     High School  21593.0  never married   \n",
       "90           90  500.0  Female      University  31759.0      separated   \n",
       "106           0  500.0  Female      University  31158.0      separated   \n",
       "\n",
       "     Employment Status Product Category  Satisfaction Level  Debt Status  \n",
       "0                  1.0                G                   9            1  \n",
       "10                 1.0                G                   7            0  \n",
       "20                 0.0                A                   2            1  \n",
       "30                 1.0                A                   3            0  \n",
       "40                 0.0                D                   9            0  \n",
       "60                 1.0                G                   7            0  \n",
       "70                 1.0                D                   3            1  \n",
       "90                 1.0                G                   6            0  \n",
       "106                1.0                G                   9            0  "
      ]
     },
     "execution_count": 341,
     "metadata": {},
     "output_type": "execute_result"
    }
   ],
   "source": [
    "age_500=df[df['Age']==500]\n",
    "age_500"
   ]
  },
  {
   "cell_type": "code",
   "execution_count": 342,
   "metadata": {},
   "outputs": [
    {
     "name": "stdout",
     "output_type": "stream",
     "text": [
      "146.26315789473685\n"
     ]
    }
   ],
   "source": [
    "# Calculate the average age of rows where Gender is Female and Education Level is University\n",
    "female_university_avg_age = df[(df['Gender'] == 'Female') & (df['Education Level'] == 'University')]['Age'].mean()\n",
    "print(female_university_avg_age)\n",
    "\n",
    "# Fill the 500 values with this average age\n",
    "df.loc[(df['Age'] == 500) & (df['Gender'] == 'Female') & (df['Education Level'] == 'University'), 'Age'] = female_university_avg_age\n"
   ]
  },
  {
   "cell_type": "code",
   "execution_count": 343,
   "metadata": {},
   "outputs": [
    {
     "data": {
      "text/html": [
       "<div>\n",
       "<style scoped>\n",
       "    .dataframe tbody tr th:only-of-type {\n",
       "        vertical-align: middle;\n",
       "    }\n",
       "\n",
       "    .dataframe tbody tr th {\n",
       "        vertical-align: top;\n",
       "    }\n",
       "\n",
       "    .dataframe thead th {\n",
       "        text-align: right;\n",
       "    }\n",
       "</style>\n",
       "<table border=\"1\" class=\"dataframe\">\n",
       "  <thead>\n",
       "    <tr style=\"text-align: right;\">\n",
       "      <th></th>\n",
       "      <th>Unnamed: 0</th>\n",
       "      <th>Age</th>\n",
       "      <th>Gender</th>\n",
       "      <th>Education Level</th>\n",
       "      <th>Income</th>\n",
       "      <th>Marital Status</th>\n",
       "      <th>Employment Status</th>\n",
       "      <th>Product Category</th>\n",
       "      <th>Satisfaction Level</th>\n",
       "      <th>Debt Status</th>\n",
       "    </tr>\n",
       "  </thead>\n",
       "  <tbody>\n",
       "    <tr>\n",
       "      <th>10</th>\n",
       "      <td>10</td>\n",
       "      <td>500.0</td>\n",
       "      <td>Female</td>\n",
       "      <td>College</td>\n",
       "      <td>31654.0</td>\n",
       "      <td>never married</td>\n",
       "      <td>1.0</td>\n",
       "      <td>G</td>\n",
       "      <td>7</td>\n",
       "      <td>0</td>\n",
       "    </tr>\n",
       "    <tr>\n",
       "      <th>30</th>\n",
       "      <td>30</td>\n",
       "      <td>500.0</td>\n",
       "      <td>Female</td>\n",
       "      <td>High School</td>\n",
       "      <td>18442.0</td>\n",
       "      <td>separated</td>\n",
       "      <td>1.0</td>\n",
       "      <td>A</td>\n",
       "      <td>3</td>\n",
       "      <td>0</td>\n",
       "    </tr>\n",
       "    <tr>\n",
       "      <th>40</th>\n",
       "      <td>40</td>\n",
       "      <td>500.0</td>\n",
       "      <td>Female</td>\n",
       "      <td>College</td>\n",
       "      <td>45140.0</td>\n",
       "      <td>widowed</td>\n",
       "      <td>0.0</td>\n",
       "      <td>D</td>\n",
       "      <td>9</td>\n",
       "      <td>0</td>\n",
       "    </tr>\n",
       "    <tr>\n",
       "      <th>60</th>\n",
       "      <td>60</td>\n",
       "      <td>500.0</td>\n",
       "      <td>Female</td>\n",
       "      <td>College</td>\n",
       "      <td>34060.0</td>\n",
       "      <td>separated</td>\n",
       "      <td>1.0</td>\n",
       "      <td>G</td>\n",
       "      <td>7</td>\n",
       "      <td>0</td>\n",
       "    </tr>\n",
       "    <tr>\n",
       "      <th>70</th>\n",
       "      <td>70</td>\n",
       "      <td>500.0</td>\n",
       "      <td>Male</td>\n",
       "      <td>High School</td>\n",
       "      <td>21593.0</td>\n",
       "      <td>never married</td>\n",
       "      <td>1.0</td>\n",
       "      <td>D</td>\n",
       "      <td>3</td>\n",
       "      <td>1</td>\n",
       "    </tr>\n",
       "  </tbody>\n",
       "</table>\n",
       "</div>"
      ],
      "text/plain": [
       "    Unnamed: 0    Age  Gender Education Level   Income Marital Status  \\\n",
       "10          10  500.0  Female         College  31654.0  never married   \n",
       "30          30  500.0  Female     High School  18442.0      separated   \n",
       "40          40  500.0  Female         College  45140.0        widowed   \n",
       "60          60  500.0  Female         College  34060.0      separated   \n",
       "70          70  500.0    Male     High School  21593.0  never married   \n",
       "\n",
       "    Employment Status Product Category  Satisfaction Level  Debt Status  \n",
       "10                1.0                G                   7            0  \n",
       "30                1.0                A                   3            0  \n",
       "40                0.0                D                   9            0  \n",
       "60                1.0                G                   7            0  \n",
       "70                1.0                D                   3            1  "
      ]
     },
     "execution_count": 343,
     "metadata": {},
     "output_type": "execute_result"
    }
   ],
   "source": [
    "age_500=df[df['Age']==500]\n",
    "age_500"
   ]
  },
  {
   "cell_type": "code",
   "execution_count": 344,
   "metadata": {},
   "outputs": [
    {
     "name": "stdout",
     "output_type": "stream",
     "text": [
      "74.8292338247651\n"
     ]
    },
    {
     "name": "stderr",
     "output_type": "stream",
     "text": [
      "C:\\Users\\MainUser\\AppData\\Local\\Temp\\ipykernel_19140\\2547517527.py:3: FutureWarning: Setting an item of incompatible dtype is deprecated and will raise an error in a future version of pandas. Value '74.8292338247651' has dtype incompatible with int64, please explicitly cast to a compatible dtype first.\n",
      "  df.loc[(df['Age'] == 500)] = age_mean\n"
     ]
    }
   ],
   "source": [
    "age_mean= df['Age'].mean()\n",
    "print(age_mean)\n",
    "df.loc[(df['Age'] == 500)] = age_mean"
   ]
  },
  {
   "cell_type": "code",
   "execution_count": 345,
   "metadata": {},
   "outputs": [
    {
     "data": {
      "text/plain": [
       "54.77400900517855"
      ]
     },
     "execution_count": 345,
     "metadata": {},
     "output_type": "execute_result"
    }
   ],
   "source": [
    "df['Age'].mean()"
   ]
  },
  {
   "cell_type": "code",
   "execution_count": 346,
   "metadata": {},
   "outputs": [
    {
     "data": {
      "text/plain": [
       "146"
      ]
     },
     "execution_count": 346,
     "metadata": {},
     "output_type": "execute_result"
    }
   ],
   "source": [
    "df['Age'] = df['Age'].astype(int)\n",
    "df['Age'].max()\n"
   ]
  },
  {
   "cell_type": "code",
   "execution_count": 347,
   "metadata": {},
   "outputs": [
    {
     "name": "stdout",
     "output_type": "stream",
     "text": [
      "     Unnamed: 0  Age  Gender Education Level   Income Marital Status  \\\n",
      "0           0.0  146  Female      University  31158.0      separated   \n",
      "20         20.0  146  Female      University  64165.0      separated   \n",
      "90         90.0  146  Female      University  31759.0      separated   \n",
      "106         0.0  146  Female      University  31158.0      separated   \n",
      "\n",
      "     Employment Status Product Category  Satisfaction Level  Debt Status  \n",
      "0                  1.0                G                 9.0          1.0  \n",
      "20                 0.0                A                 2.0          1.0  \n",
      "90                 1.0                G                 6.0          0.0  \n",
      "106                1.0                G                 9.0          0.0  \n"
     ]
    }
   ],
   "source": [
    "max_age_row = df[df['Age'] == df['Age'].max()]\n",
    "print(max_age_row)\n"
   ]
  },
  {
   "cell_type": "code",
   "execution_count": 348,
   "metadata": {},
   "outputs": [
    {
     "data": {
      "text/html": [
       "<div>\n",
       "<style scoped>\n",
       "    .dataframe tbody tr th:only-of-type {\n",
       "        vertical-align: middle;\n",
       "    }\n",
       "\n",
       "    .dataframe tbody tr th {\n",
       "        vertical-align: top;\n",
       "    }\n",
       "\n",
       "    .dataframe thead th {\n",
       "        text-align: right;\n",
       "    }\n",
       "</style>\n",
       "<table border=\"1\" class=\"dataframe\">\n",
       "  <thead>\n",
       "    <tr style=\"text-align: right;\">\n",
       "      <th></th>\n",
       "      <th>Unnamed: 0</th>\n",
       "      <th>Age</th>\n",
       "      <th>Gender</th>\n",
       "      <th>Education Level</th>\n",
       "      <th>Income</th>\n",
       "      <th>Marital Status</th>\n",
       "      <th>Employment Status</th>\n",
       "      <th>Product Category</th>\n",
       "      <th>Satisfaction Level</th>\n",
       "      <th>Debt Status</th>\n",
       "    </tr>\n",
       "  </thead>\n",
       "  <tbody>\n",
       "    <tr>\n",
       "      <th>0</th>\n",
       "      <td>0.0</td>\n",
       "      <td>146</td>\n",
       "      <td>Female</td>\n",
       "      <td>University</td>\n",
       "      <td>31158.0</td>\n",
       "      <td>separated</td>\n",
       "      <td>1.0</td>\n",
       "      <td>G</td>\n",
       "      <td>9.0</td>\n",
       "      <td>1.0</td>\n",
       "    </tr>\n",
       "    <tr>\n",
       "      <th>20</th>\n",
       "      <td>20.0</td>\n",
       "      <td>146</td>\n",
       "      <td>Female</td>\n",
       "      <td>University</td>\n",
       "      <td>64165.0</td>\n",
       "      <td>separated</td>\n",
       "      <td>0.0</td>\n",
       "      <td>A</td>\n",
       "      <td>2.0</td>\n",
       "      <td>1.0</td>\n",
       "    </tr>\n",
       "    <tr>\n",
       "      <th>50</th>\n",
       "      <td>50.0</td>\n",
       "      <td>111</td>\n",
       "      <td>Male</td>\n",
       "      <td>University</td>\n",
       "      <td>575772080.0</td>\n",
       "      <td>married</td>\n",
       "      <td>0.0</td>\n",
       "      <td>D</td>\n",
       "      <td>5.0</td>\n",
       "      <td>0.0</td>\n",
       "    </tr>\n",
       "    <tr>\n",
       "      <th>80</th>\n",
       "      <td>80.0</td>\n",
       "      <td>111</td>\n",
       "      <td>Male</td>\n",
       "      <td>University</td>\n",
       "      <td>60010.0</td>\n",
       "      <td>married</td>\n",
       "      <td>1.0</td>\n",
       "      <td>E</td>\n",
       "      <td>7.0</td>\n",
       "      <td>1.0</td>\n",
       "    </tr>\n",
       "    <tr>\n",
       "      <th>90</th>\n",
       "      <td>90.0</td>\n",
       "      <td>146</td>\n",
       "      <td>Female</td>\n",
       "      <td>University</td>\n",
       "      <td>31759.0</td>\n",
       "      <td>separated</td>\n",
       "      <td>1.0</td>\n",
       "      <td>G</td>\n",
       "      <td>6.0</td>\n",
       "      <td>0.0</td>\n",
       "    </tr>\n",
       "    <tr>\n",
       "      <th>106</th>\n",
       "      <td>0.0</td>\n",
       "      <td>146</td>\n",
       "      <td>Female</td>\n",
       "      <td>University</td>\n",
       "      <td>31158.0</td>\n",
       "      <td>separated</td>\n",
       "      <td>1.0</td>\n",
       "      <td>G</td>\n",
       "      <td>9.0</td>\n",
       "      <td>0.0</td>\n",
       "    </tr>\n",
       "  </tbody>\n",
       "</table>\n",
       "</div>"
      ],
      "text/plain": [
       "     Unnamed: 0  Age  Gender Education Level       Income Marital Status  \\\n",
       "0           0.0  146  Female      University      31158.0      separated   \n",
       "20         20.0  146  Female      University      64165.0      separated   \n",
       "50         50.0  111    Male      University  575772080.0        married   \n",
       "80         80.0  111    Male      University      60010.0        married   \n",
       "90         90.0  146  Female      University      31759.0      separated   \n",
       "106         0.0  146  Female      University      31158.0      separated   \n",
       "\n",
       "     Employment Status Product Category  Satisfaction Level  Debt Status  \n",
       "0                  1.0                G                 9.0          1.0  \n",
       "20                 0.0                A                 2.0          1.0  \n",
       "50                 0.0                D                 5.0          0.0  \n",
       "80                 1.0                E                 7.0          1.0  \n",
       "90                 1.0                G                 6.0          0.0  \n",
       "106                1.0                G                 9.0          0.0  "
      ]
     },
     "execution_count": 348,
     "metadata": {},
     "output_type": "execute_result"
    }
   ],
   "source": [
    "age_100=pd.DataFrame\n",
    "age_100=df[df['Age']>100]\n",
    "age_100"
   ]
  },
  {
   "cell_type": "code",
   "execution_count": 350,
   "metadata": {},
   "outputs": [
    {
     "name": "stderr",
     "output_type": "stream",
     "text": [
      "C:\\Users\\MainUser\\AppData\\Local\\Temp\\ipykernel_19140\\1113245114.py:3: FutureWarning: A value is trying to be set on a copy of a DataFrame or Series through chained assignment using an inplace method.\n",
      "The behavior will change in pandas 3.0. This inplace method will never work because the intermediate object on which we are setting values always behaves as a copy.\n",
      "\n",
      "For example, when doing 'df[col].method(value, inplace=True)', try using 'df.method({col: value}, inplace=True)' or df[col] = df[col].method(value) instead, to perform the operation inplace on the original object.\n",
      "\n",
      "\n",
      "  df['Age'].fillna(mean_age, inplace=True)\n"
     ]
    }
   ],
   "source": [
    "df.loc[df['Age'] > 100, 'Age'] = np.nan\n",
    "mean_age = df['Age'].mean()\n",
    "df['Age'].fillna(mean_age, inplace=True)"
   ]
  },
  {
   "cell_type": "code",
   "execution_count": 351,
   "metadata": {},
   "outputs": [
    {
     "data": {
      "text/plain": [
       "49.93"
      ]
     },
     "execution_count": 351,
     "metadata": {},
     "output_type": "execute_result"
    }
   ],
   "source": [
    "df['Age'].mean()"
   ]
  },
  {
   "cell_type": "markdown",
   "metadata": {},
   "source": [
    "# After filling the missing values check our data"
   ]
  },
  {
   "cell_type": "code",
   "execution_count": 352,
   "metadata": {},
   "outputs": [
    {
     "data": {
      "image/png": "[encoded data removed]",
      "text/plain": [
       "<Figure size 600x400 with 1 Axes>"
      ]
     },
     "metadata": {},
     "output_type": "display_data"
    },
    {
     "data": {
      "image/png": "[encoded data removed]",
      "text/plain": [
       "<Figure size 600x400 with 1 Axes>"
      ]
     },
     "metadata": {},
     "output_type": "display_data"
    },
    {
     "data": {
      "image/png": "[encoded data removed]",
      "text/plain": [
       "<Figure size 600x400 with 1 Axes>"
      ]
     },
     "metadata": {},
     "output_type": "display_data"
    },
    {
     "data": {
      "image/png": "[encoded data removed]",
      "text/plain": [
       "<Figure size 600x400 with 1 Axes>"
      ]
     },
     "metadata": {},
     "output_type": "display_data"
    },
    {
     "data": {
      "image/png": "[encoded data removed]",
      "text/plain": [
       "<Figure size 600x400 with 1 Axes>"
      ]
     },
     "metadata": {},
     "output_type": "display_data"
    },
    {
     "data": {
      "image/png": "[encoded data removed]",
      "text/plain": [
       "<Figure size 600x400 with 1 Axes>"
      ]
     },
     "metadata": {},
     "output_type": "display_data"
    }
   ],
   "source": [
    "#Calculate numeric columns\n",
    "numeric_columns = df.select_dtypes(include=['int', 'float']).columns\n",
    "for column in numeric_columns:\n",
    "    plt.figure(figsize=(6,4))\n",
    "    df.boxplot(column=[column])\n",
    "    plt.title(f'Box Plot of {column}')\n",
    "    plt.show()"
   ]
  },
  {
   "cell_type": "markdown",
   "metadata": {},
   "source": [
    "# Handling outliers with the other columns"
   ]
  },
  {
   "cell_type": "code",
   "execution_count": 363,
   "metadata": {},
   "outputs": [],
   "source": [
    "def calculate_outliers(df,column):\n",
    "    Q1 = df[column].quantile(0.25)\n",
    "    Q3 = df[column].quantile(0.75)\n",
    "    IQR = Q3 - Q1\n",
    "    lower_bound = Q1 - 1.5 * IQR\n",
    "    upper_bound = Q3 + 1.5 * IQR\n",
    "    # Calculate Outliers\n",
    "    outliers = df[(df[column] < lower_bound) | (df[column] > upper_bound)]\n",
    "median_status = df[column].median()\n",
    "df.loc[outliers.index, column] = median_status"
   ]
  },
  {
   "cell_type": "code",
   "execution_count": 364,
   "metadata": {},
   "outputs": [],
   "source": [
    "calculate_outliers(df,'Debt Status')"
   ]
  },
  {
   "cell_type": "code",
   "execution_count": 365,
   "metadata": {},
   "outputs": [
    {
     "data": {
      "image/png": "[encoded data removed]",
      "text/plain": [
       "<Figure size 800x600 with 1 Axes>"
      ]
     },
     "metadata": {},
     "output_type": "display_data"
    }
   ],
   "source": [
    "plt.figure(figsize=(8, 6))\n",
    "plt.boxplot(df['Debt Status'], vert=False)\n",
    "plt.title('Box Plot of Debt Status')\n",
    "plt.xlabel('Debt Status')\n",
    "plt.show()"
   ]
  },
  {
   "cell_type": "code",
   "execution_count": 366,
   "metadata": {},
   "outputs": [],
   "source": [
    "calculate_outliers(df,'Satisfaction Level')"
   ]
  },
  {
   "cell_type": "code",
   "execution_count": 367,
   "metadata": {},
   "outputs": [
    {
     "data": {
      "image/png": "[encoded data removed]",
      "text/plain": [
       "<Figure size 800x600 with 1 Axes>"
      ]
     },
     "metadata": {},
     "output_type": "display_data"
    }
   ],
   "source": [
    "plt.figure(figsize=(8, 6))\n",
    "plt.boxplot(df['Debt Status'], vert=False)\n",
    "plt.title('Box Plot of Debt Status')\n",
    "plt.xlabel('Debt Status')\n",
    "plt.show()"
   ]
  },
  {
   "cell_type": "code",
   "execution_count": 370,
   "metadata": {},
   "outputs": [],
   "source": [
    "calculate_outliers(df,'Employment Status')"
   ]
  },
  {
   "cell_type": "code",
   "execution_count": 371,
   "metadata": {},
   "outputs": [
    {
     "data": {
      "image/png": "[encoded data removed]",
      "text/plain": [
       "<Figure size 800x600 with 1 Axes>"
      ]
     },
     "metadata": {},
     "output_type": "display_data"
    }
   ],
   "source": [
    "plt.figure(figsize=(8, 6))\n",
    "plt.boxplot(df['Employment Status'], vert=False)\n",
    "plt.title('Box Plot of Employment Status')\n",
    "plt.xlabel('Employment Status')\n",
    "plt.show()"
   ]
  },
  {
   "cell_type": "code",
   "execution_count": 362,
   "metadata": {},
   "outputs": [
    {
     "data": {
      "image/png": "[encoded data removed]",
      "text/plain": [
       "<Figure size 800x600 with 1 Axes>"
      ]
     },
     "metadata": {},
     "output_type": "display_data"
    }
   ],
   "source": [
    "plt.figure(figsize=(8, 6))\n",
    "plt.boxplot(df['Employment Status'], vert=False)\n",
    "plt.title('Box Plot of Employment Status')\n",
    "plt.xlabel('Employment Status')\n",
    "plt.show()"
   ]
  },
  {
   "cell_type": "code",
   "execution_count": 372,
   "metadata": {},
   "outputs": [],
   "source": [
    "calculate_outliers(df,'Income')"
   ]
  },
  {
   "cell_type": "code",
   "execution_count": 373,
   "metadata": {},
   "outputs": [
    {
     "data": {
      "image/png": "[encoded data removed]",
      "text/plain": [
       "<Figure size 800x600 with 1 Axes>"
      ]
     },
     "metadata": {},
     "output_type": "display_data"
    }
   ],
   "source": [
    "plt.figure(figsize=(8, 6))\n",
    "plt.boxplot(df['Income'], vert=False)\n",
    "plt.title('Box Plot of Income')\n",
    "plt.xlabel('Income Status')\n",
    "plt.show()"
   ]
  },
  {
   "cell_type": "code",
   "execution_count": 374,
   "metadata": {},
   "outputs": [
    {
     "data": {
      "text/plain": [
       "0      9.0\n",
       "1      5.0\n",
       "2      1.0\n",
       "3      8.0\n",
       "4      5.0\n",
       "      ... \n",
       "104    0.0\n",
       "105    8.0\n",
       "106    9.0\n",
       "107    5.0\n",
       "108    7.0\n",
       "Name: Satisfaction Level, Length: 106, dtype: float64"
      ]
     },
     "execution_count": 374,
     "metadata": {},
     "output_type": "execute_result"
    }
   ],
   "source": [
    "df['Satisfaction Level']"
   ]
  },
  {
   "cell_type": "code",
   "execution_count": 375,
   "metadata": {},
   "outputs": [],
   "source": [
    "calculate_outliers(df,'Satisfaction Level')"
   ]
  },
  {
   "cell_type": "code",
   "execution_count": 376,
   "metadata": {},
   "outputs": [
    {
     "data": {
      "image/png": "[encoded data removed]",
      "text/plain": [
       "<Figure size 800x600 with 1 Axes>"
      ]
     },
     "metadata": {},
     "output_type": "display_data"
    }
   ],
   "source": [
    "plt.figure(figsize=(8, 6))\n",
    "plt.boxplot(df['Satisfaction Level'], vert=False)\n",
    "plt.title('Box Plot of Income')\n",
    "plt.xlabel('Income Status')\n",
    "plt.show()"
   ]
  },
  {
   "cell_type": "code",
   "execution_count": 377,
   "metadata": {},
   "outputs": [
    {
     "data": {
      "text/html": [
       "<div>\n",
       "<style scoped>\n",
       "    .dataframe tbody tr th:only-of-type {\n",
       "        vertical-align: middle;\n",
       "    }\n",
       "\n",
       "    .dataframe tbody tr th {\n",
       "        vertical-align: top;\n",
       "    }\n",
       "\n",
       "    .dataframe thead th {\n",
       "        text-align: right;\n",
       "    }\n",
       "</style>\n",
       "<table border=\"1\" class=\"dataframe\">\n",
       "  <thead>\n",
       "    <tr style=\"text-align: right;\">\n",
       "      <th></th>\n",
       "      <th>Unnamed: 0</th>\n",
       "      <th>Age</th>\n",
       "      <th>Gender</th>\n",
       "      <th>Education Level</th>\n",
       "      <th>Income</th>\n",
       "      <th>Marital Status</th>\n",
       "      <th>Employment Status</th>\n",
       "      <th>Product Category</th>\n",
       "      <th>Satisfaction Level</th>\n",
       "      <th>Debt Status</th>\n",
       "    </tr>\n",
       "  </thead>\n",
       "  <tbody>\n",
       "    <tr>\n",
       "      <th>10</th>\n",
       "      <td>74.829234</td>\n",
       "      <td>74.0</td>\n",
       "      <td>74.829234</td>\n",
       "      <td>74.829234</td>\n",
       "      <td>74.829234</td>\n",
       "      <td>74.829234</td>\n",
       "      <td>74.829234</td>\n",
       "      <td>74.829234</td>\n",
       "      <td>74.829234</td>\n",
       "      <td>0.25</td>\n",
       "    </tr>\n",
       "    <tr>\n",
       "      <th>30</th>\n",
       "      <td>74.829234</td>\n",
       "      <td>74.0</td>\n",
       "      <td>74.829234</td>\n",
       "      <td>74.829234</td>\n",
       "      <td>74.829234</td>\n",
       "      <td>74.829234</td>\n",
       "      <td>74.829234</td>\n",
       "      <td>74.829234</td>\n",
       "      <td>74.829234</td>\n",
       "      <td>0.25</td>\n",
       "    </tr>\n",
       "    <tr>\n",
       "      <th>40</th>\n",
       "      <td>74.829234</td>\n",
       "      <td>74.0</td>\n",
       "      <td>74.829234</td>\n",
       "      <td>74.829234</td>\n",
       "      <td>74.829234</td>\n",
       "      <td>74.829234</td>\n",
       "      <td>74.829234</td>\n",
       "      <td>74.829234</td>\n",
       "      <td>74.829234</td>\n",
       "      <td>0.25</td>\n",
       "    </tr>\n",
       "    <tr>\n",
       "      <th>60</th>\n",
       "      <td>74.829234</td>\n",
       "      <td>74.0</td>\n",
       "      <td>74.829234</td>\n",
       "      <td>74.829234</td>\n",
       "      <td>74.829234</td>\n",
       "      <td>74.829234</td>\n",
       "      <td>74.829234</td>\n",
       "      <td>74.829234</td>\n",
       "      <td>74.829234</td>\n",
       "      <td>0.25</td>\n",
       "    </tr>\n",
       "    <tr>\n",
       "      <th>70</th>\n",
       "      <td>74.829234</td>\n",
       "      <td>74.0</td>\n",
       "      <td>74.829234</td>\n",
       "      <td>74.829234</td>\n",
       "      <td>74.829234</td>\n",
       "      <td>74.829234</td>\n",
       "      <td>74.829234</td>\n",
       "      <td>74.829234</td>\n",
       "      <td>74.829234</td>\n",
       "      <td>0.25</td>\n",
       "    </tr>\n",
       "  </tbody>\n",
       "</table>\n",
       "</div>"
      ],
      "text/plain": [
       "    Unnamed: 0   Age     Gender Education Level     Income Marital Status  \\\n",
       "10   74.829234  74.0  74.829234       74.829234  74.829234      74.829234   \n",
       "30   74.829234  74.0  74.829234       74.829234  74.829234      74.829234   \n",
       "40   74.829234  74.0  74.829234       74.829234  74.829234      74.829234   \n",
       "60   74.829234  74.0  74.829234       74.829234  74.829234      74.829234   \n",
       "70   74.829234  74.0  74.829234       74.829234  74.829234      74.829234   \n",
       "\n",
       "    Employment Status Product Category  Satisfaction Level  Debt Status  \n",
       "10          74.829234        74.829234           74.829234         0.25  \n",
       "30          74.829234        74.829234           74.829234         0.25  \n",
       "40          74.829234        74.829234           74.829234         0.25  \n",
       "60          74.829234        74.829234           74.829234         0.25  \n",
       "70          74.829234        74.829234           74.829234         0.25  "
      ]
     },
     "execution_count": 377,
     "metadata": {},
     "output_type": "execute_result"
    }
   ],
   "source": [
    "df[df['Satisfaction Level']>10]"
   ]
  },
  {
   "cell_type": "code",
   "execution_count": 383,
   "metadata": {},
   "outputs": [],
   "source": [
    "# Select rows that satisfy the condition\n",
    "condition = df['Satisfaction Level'] > 10\n",
    "filtered_df = df[condition]\n",
    "\n",
    "# Calculate the mean value of the selected rows\n",
    "mean_value =df['Satisfaction Level'].mean()\n",
    "\n",
    "# Fill the selected rows with the mean value\n",
    "df.loc[condition, 'Satisfaction Level'] = mean_value\n",
    "\n"
   ]
  },
  {
   "cell_type": "code",
   "execution_count": 384,
   "metadata": {},
   "outputs": [
    {
     "data": {
      "image/png": "[encoded data removed]",
      "text/plain": [
       "<Figure size 640x480 with 1 Axes>"
      ]
     },
     "metadata": {},
     "output_type": "display_data"
    }
   ],
   "source": [
    "plt.boxplot(df['Satisfaction Level'], vert=False)\n",
    "plt.show()"
   ]
  },
  {
   "cell_type": "markdown",
   "metadata": {},
   "source": [
    "# Changed the inconsistent values in column 'Age' changed the datatype to int"
   ]
  },
  {
   "cell_type": "code",
   "execution_count": 282,
   "metadata": {},
   "outputs": [
    {
     "data": {
      "text/plain": [
       "dtype('float64')"
      ]
     },
     "execution_count": 282,
     "metadata": {},
     "output_type": "execute_result"
    }
   ],
   "source": [
    "df['Satisfaction Level'].dtype"
   ]
  },
  {
   "cell_type": "code",
   "execution_count": 283,
   "metadata": {},
   "outputs": [
    {
     "data": {
      "text/plain": [
       "array([84.27527818,  5.        ,  1.        ,  8.        ,  3.        ,\n",
       "        0.        ,  4.        ,  9.        ,  6.        ,  2.        ,\n",
       "        7.        ])"
      ]
     },
     "execution_count": 283,
     "metadata": {},
     "output_type": "execute_result"
    }
   ],
   "source": [
    "df['Satisfaction Level'].unique()"
   ]
  },
  {
   "cell_type": "code",
   "execution_count": 442,
   "metadata": {},
   "outputs": [],
   "source": [
    "df.loc[df['Satisfaction Level'] == 84.27527818, 'Satisfaction Level'] = np.nan\n",
    "\n"
   ]
  },
  {
   "cell_type": "code",
   "execution_count": 443,
   "metadata": {},
   "outputs": [
    {
     "data": {
      "text/plain": [
       "array([9., 5., 1., 8., 3., 0., 4., 6., 2., 7.])"
      ]
     },
     "execution_count": 443,
     "metadata": {},
     "output_type": "execute_result"
    }
   ],
   "source": [
    "df['Satisfaction Level'].unique()"
   ]
  },
  {
   "cell_type": "code",
   "execution_count": 455,
   "metadata": {},
   "outputs": [
    {
     "name": "stdout",
     "output_type": "stream",
     "text": [
      "4.475247524752476\n"
     ]
    },
    {
     "data": {
      "text/plain": [
       "0      9.0\n",
       "1      5.0\n",
       "2      1.0\n",
       "3      8.0\n",
       "4      5.0\n",
       "      ... \n",
       "104    0.0\n",
       "105    8.0\n",
       "106    9.0\n",
       "107    5.0\n",
       "108    7.0\n",
       "Name: Satisfaction Level, Length: 101, dtype: float64"
      ]
     },
     "execution_count": 455,
     "metadata": {},
     "output_type": "execute_result"
    }
   ],
   "source": [
    "mean_value = df['Satisfaction Level'].mean()\n",
    "print(mean_value)\n",
    "df['Satisfaction Level'] = df['Satisfaction Level'].fillna(mean_value)\n",
    "df['Satisfaction Level']\n",
    "\n"
   ]
  },
  {
   "cell_type": "code",
   "execution_count": 456,
   "metadata": {},
   "outputs": [],
   "source": [
    "# Create ranges for categories\n",
    "label_ranges = [0, 4, 8, 10]\n",
    "label_names = ['Low', 'Moderate', 'High']\n",
    "# Create wait_type column\n",
    "df['Satisfaction Category'] = pd.cut(df['Satisfaction Level'], bins = label_ranges, \n",
    "                                labels = label_names)"
   ]
  },
  {
   "cell_type": "code",
   "execution_count": 457,
   "metadata": {},
   "outputs": [
    {
     "data": {
      "text/plain": [
       "CategoricalDtype(categories=['Low', 'Moderate', 'High'], ordered=True, categories_dtype=object)"
      ]
     },
     "execution_count": 457,
     "metadata": {},
     "output_type": "execute_result"
    }
   ],
   "source": [
    "df['Satisfaction Category'].dtype"
   ]
  },
  {
   "cell_type": "code",
   "execution_count": 458,
   "metadata": {},
   "outputs": [
    {
     "data": {
      "text/plain": [
       "0          High\n",
       "1      Moderate\n",
       "2           Low\n",
       "3      Moderate\n",
       "4      Moderate\n",
       "         ...   \n",
       "104         NaN\n",
       "105    Moderate\n",
       "106        High\n",
       "107    Moderate\n",
       "108    Moderate\n",
       "Name: Satisfaction Category, Length: 101, dtype: category\n",
       "Categories (3, object): ['Low' < 'Moderate' < 'High']"
      ]
     },
     "execution_count": 458,
     "metadata": {},
     "output_type": "execute_result"
    }
   ],
   "source": [
    "df['Satisfaction Category']"
   ]
  },
  {
   "cell_type": "code",
   "execution_count": 460,
   "metadata": {},
   "outputs": [
    {
     "data": {
      "text/plain": [
       "['High', 'Moderate', 'Low', NaN]\n",
       "Categories (3, object): ['Low' < 'Moderate' < 'High']"
      ]
     },
     "execution_count": 460,
     "metadata": {},
     "output_type": "execute_result"
    }
   ],
   "source": [
    "df['Satisfaction Category'].unique()"
   ]
  },
  {
   "cell_type": "code",
   "execution_count": 461,
   "metadata": {},
   "outputs": [
    {
     "data": {
      "text/plain": [
       "9"
      ]
     },
     "execution_count": 461,
     "metadata": {},
     "output_type": "execute_result"
    }
   ],
   "source": [
    "df['Satisfaction Category'].isna().sum()"
   ]
  },
  {
   "cell_type": "code",
   "execution_count": 462,
   "metadata": {},
   "outputs": [],
   "source": [
    "# Find the nulls\n",
    "mode_value = df['Satisfaction Category'].mode()[0]\n",
    "\n",
    "# NaN change with mode\n",
    "df['Satisfaction Category'].fillna(mode_value, inplace=True)\n"
   ]
  },
  {
   "cell_type": "code",
   "execution_count": 463,
   "metadata": {},
   "outputs": [
    {
     "data": {
      "text/plain": [
       "0"
      ]
     },
     "execution_count": 463,
     "metadata": {},
     "output_type": "execute_result"
    }
   ],
   "source": [
    "df['Satisfaction Category'].isna().sum()"
   ]
  },
  {
   "cell_type": "code",
   "execution_count": 411,
   "metadata": {},
   "outputs": [
    {
     "name": "stdout",
     "output_type": "stream",
     "text": [
      "    Income Income Category\n",
      "0  31158.0        Moderate\n",
      "1  54465.0        Moderate\n",
      "2  37427.0        Moderate\n",
      "3  52210.0        Moderate\n",
      "4  59325.0        Moderate\n"
     ]
    }
   ],
   "source": [
    "# Defining the intervals for categorization\n",
    "bins = [0, 30000, 60000, np.inf]\n",
    "\n",
    "# Defining labels for the categories\n",
    "labels = ['Low', 'Moderate', 'High']\n",
    "\n",
    "# Creating a new column for the categorized income levels\n",
    "df['Income Category'] = pd.cut(df['Income'], bins=bins, labels=labels, right=False)\n",
    "\n",
    "# Checking the results\n",
    "print(df[['Income', 'Income Category']].head())\n"
   ]
  },
  {
   "cell_type": "code",
   "execution_count": 412,
   "metadata": {},
   "outputs": [
    {
     "name": "stdout",
     "output_type": "stream",
     "text": [
      "Debt Status     0.0  1.0\n",
      "Marital Status          \n",
      "divorced          5    7\n",
      "married          12   11\n",
      "never married     3    5\n",
      "separated        21   18\n",
      "widowed          12    7\n"
     ]
    }
   ],
   "source": [
    "# Grouping the DataFrame by 'Marital Status' and 'Debt Status', then calculating the count of each group\n",
    "grouped_data = df.groupby(['Marital Status', 'Debt Status']).size()\n",
    "\n",
    "# Unstacking the DataFrame to pivot the 'Debt Status' index level to columns\n",
    "unstacked_data = grouped_data.unstack()\n",
    "\n",
    "# Displaying the unstacked DataFrame\n",
    "\n",
    "print(unstacked_data)\n",
    "\n"
   ]
  },
  {
   "cell_type": "code",
   "execution_count": 289,
   "metadata": {},
   "outputs": [
    {
     "name": "stdout",
     "output_type": "stream",
     "text": [
      "Debt Status     0.000000   1.000000   84.275278\n",
      "Marital Status                                 \n",
      "84.275278             NaN        NaN        8.0\n",
      "divorced              5.0        7.0        NaN\n",
      "married              12.0       11.0        NaN\n",
      "never married         3.0        5.0        NaN\n",
      "separated            11.0       10.0        NaN\n",
      "widowed              12.0        7.0        NaN\n"
     ]
    }
   ],
   "source": [
    "# Creating a pivot table to analyze the relationship between 'Marital Status' and 'Debt Status'\n",
    "pivot_table = df.pivot_table(index='Marital Status', columns='Debt Status', aggfunc='size')\n",
    "print(pivot_table)"
   ]
  },
  {
   "cell_type": "code",
   "execution_count": 389,
   "metadata": {},
   "outputs": [
    {
     "data": {
      "image/png": "[encoded data removed]",
      "text/plain": [
       "<Figure size 800x600 with 1 Axes>"
      ]
     },
     "metadata": {},
     "output_type": "display_data"
    }
   ],
   "source": [
    "import seaborn as sns\n",
    "# Create a count plot to visualize the relationship between 'Marital Status' and 'Debt Status'\n",
    "plt.figure(figsize=(8, 6))\n",
    "sns.countplot(x='Marital Status', hue='Debt Status', data=df)\n",
    "plt.title('Relationship between Marital Status and Debt Status')\n",
    "plt.xlabel('Marital Status')\n",
    "plt.ylabel('Count')\n",
    "plt.show()\n"
   ]
  },
  {
   "cell_type": "code",
   "execution_count": 390,
   "metadata": {},
   "outputs": [
    {
     "data": {
      "text/plain": [
       "array(['separated', 'married', 'widowed', 'never married',\n",
       "       74.8292338247651, 'divorced'], dtype=object)"
      ]
     },
     "execution_count": 390,
     "metadata": {},
     "output_type": "execute_result"
    }
   ],
   "source": [
    "df['Marital Status'].unique()"
   ]
  },
  {
   "cell_type": "code",
   "execution_count": 401,
   "metadata": {},
   "outputs": [],
   "source": [
    "# Cahnge the name in Marital Status \n",
    "df['Marital Status'] = df['Marital Status'].replace(74.8292338247651, 'others')\n"
   ]
  },
  {
   "cell_type": "code",
   "execution_count": 402,
   "metadata": {},
   "outputs": [
    {
     "data": {
      "text/plain": [
       "array(['separated', 'married', 'widowed', 'never married', 'Others',\n",
       "       'divorced'], dtype=object)"
      ]
     },
     "execution_count": 402,
     "metadata": {},
     "output_type": "execute_result"
    }
   ],
   "source": [
    "df['Marital Status'].unique()"
   ]
  },
  {
   "cell_type": "code",
   "execution_count": 403,
   "metadata": {},
   "outputs": [],
   "source": [
    "# Remove rows where 'Marital Status' is 'Others'\n",
    "df = df[df['Marital Status'] != 'Others']\n"
   ]
  },
  {
   "cell_type": "code",
   "execution_count": 404,
   "metadata": {},
   "outputs": [
    {
     "data": {
      "image/png": "[encoded data removed]",
      "text/plain": [
       "<Figure size 800x600 with 1 Axes>"
      ]
     },
     "metadata": {},
     "output_type": "display_data"
    }
   ],
   "source": [
    "# Create a count plot to visualize the relationship between 'Marital Status' and 'Debt Status'\n",
    "plt.figure(figsize=(8, 6))\n",
    "sns.countplot(x='Marital Status', hue='Debt Status', data=df)\n",
    "plt.title('Relationship between Marital Status and Debt Status')\n",
    "plt.xlabel('Marital Status')\n",
    "plt.ylabel('Count')\n",
    "plt.show()\n"
   ]
  },
  {
   "cell_type": "markdown",
   "metadata": {},
   "source": [
    "Those who live separately have the highest debt-free rate and debt-free rate, but the number of debt-free people is higher. The lowest debt ratio is seen among those who have never been married."
   ]
  },
  {
   "cell_type": "code",
   "execution_count": 467,
   "metadata": {},
   "outputs": [
    {
     "name": "stderr",
     "output_type": "stream",
     "text": [
      "C:\\Users\\MainUser\\AppData\\Local\\Temp\\ipykernel_19140\\820781020.py:2: FutureWarning: The default of observed=False is deprecated and will be changed to True in a future version of pandas. Pass observed=False to retain current behavior or observed=True to adopt the future default and silence this warning.\n",
      "  grouped = df.groupby(['Income Category', 'Debt Status']).size().unstack()\n"
     ]
    },
    {
     "data": {
      "image/png": "[encoded data removed]",
      "text/plain": [
       "<Figure size 1000x600 with 1 Axes>"
      ]
     },
     "metadata": {},
     "output_type": "display_data"
    }
   ],
   "source": [
    "# Grouping by Income Category and Debt Status\n",
    "grouped = df.groupby(['Income Category', 'Debt Status']).size().unstack()\n",
    "\n",
    "# Creating a stacked bar plot\n",
    "grouped.plot(kind='bar', stacked=True, figsize=(10, 6))\n",
    "plt.title('Relationship between Income Category and Debt Status')\n",
    "plt.xlabel('Income Category')\n",
    "plt.ylabel('Count')\n",
    "plt.xticks(rotation=45)  # Rotating the axis labels by 45 degrees\n",
    "plt.legend(title='Debt Status')\n",
    "plt.show()\n"
   ]
  },
  {
   "cell_type": "markdown",
   "metadata": {},
   "source": [
    "We had the chance to observe in this graph. The graph shows that there are more people with middle income, those who are debt-free, than those who are in debt. The debt ratio is higher in people with low income. We see that people with high incomes are equally debt-free and debt-free."
   ]
  },
  {
   "cell_type": "code",
   "execution_count": 465,
   "metadata": {},
   "outputs": [
    {
     "name": "stderr",
     "output_type": "stream",
     "text": [
      "C:\\Users\\MainUser\\AppData\\Local\\Temp\\ipykernel_19140\\2447109890.py:2: FutureWarning: The default of observed=False is deprecated and will be changed to True in a future version of pandas. Pass observed=False to retain current behavior or observed=True to adopt the future default and silence this warning.\n",
      "  grouped = df.groupby(['Education Level', 'Satisfaction Category']).size().unstack()\n"
     ]
    },
    {
     "data": {
      "image/png": "[encoded data removed]",
      "text/plain": [
       "<Figure size 1000x600 with 1 Axes>"
      ]
     },
     "metadata": {},
     "output_type": "display_data"
    }
   ],
   "source": [
    "# Grouping by Education Level and Satisfaction Category\n",
    "grouped = df.groupby(['Education Level', 'Satisfaction Category']).size().unstack()\n",
    "\n",
    "# Creating a bar plot\n",
    "grouped.plot(kind='bar', stacked=True, figsize=(10, 6))\n",
    "plt.title('Relationship between Education Level and Satisfaction Category')\n",
    "plt.xlabel('Education Level')\n",
    "plt.ylabel('Count')\n",
    "plt.xticks(rotation=45)  # Rotating the axis labels by 45 degrees\n",
    "plt.legend(title='Satisfaction Category')\n",
    "plt.show()\n"
   ]
  },
  {
   "cell_type": "markdown",
   "metadata": {},
   "source": [
    "We see that the satisfaction rate of university graduates is the highest. Their moderate value is higher than the others. There is no high satisfaction in elemantry."
   ]
  },
  {
   "cell_type": "code",
   "execution_count": 466,
   "metadata": {},
   "outputs": [
    {
     "name": "stderr",
     "output_type": "stream",
     "text": [
      "C:\\Users\\MainUser\\AppData\\Local\\Temp\\ipykernel_19140\\3708772038.py:2: FutureWarning: The default of observed=False is deprecated and will be changed to True in a future version of pandas. Pass observed=False to retain current behavior or observed=True to adopt the future default and silence this warning.\n",
      "  grouped = df.groupby(['Employment Status', 'Satisfaction Category']).size().unstack()\n"
     ]
    },
    {
     "data": {
      "image/png": "[encoded data removed]",
      "text/plain": [
       "<Figure size 1000x600 with 1 Axes>"
      ]
     },
     "metadata": {},
     "output_type": "display_data"
    }
   ],
   "source": [
    "# Grouping by Employment Status and Satisfaction Category\n",
    "grouped = df.groupby(['Employment Status', 'Satisfaction Category']).size().unstack()\n",
    "\n",
    "# Creating a grouped bar plot\n",
    "grouped.plot(kind='bar', stacked=True, figsize=(10, 6))\n",
    "plt.title('Relationship between Employment Status and Satisfaction Category')\n",
    "plt.xlabel('Employment Status')\n",
    "plt.ylabel('Count')\n",
    "plt.xticks(rotation=45)  # Rotating the axis labels by 45 degrees\n",
    "plt.legend(title='Satisfaction Category')\n",
    "plt.show()\n"
   ]
  },
  {
   "cell_type": "markdown",
   "metadata": {},
   "source": [
    "The moderate satisfaction rate is highest among those who are employed. Although high satisfaction is lowest among the unemployed, medium and low satisfaction rates are equal."
   ]
  }
 ],
 "metadata": {
  "kernelspec": {
   "display_name": "Python 3",
   "language": "python",
   "name": "python3"
  },
  "language_info": {
   "codemirror_mode": {
    "name": "ipython",
    "version": 3
   },
   "file_extension": ".py",
   "mimetype": "text/x-python",
   "name": "python",
   "nbconvert_exporter": "python",
   "pygments_lexer": "ipython3",
   "version": "3.12.1"
  }
 },
 "nbformat": 4,
 "nbformat_minor": 2
}
