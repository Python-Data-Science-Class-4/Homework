{
 "cells": [
  {
   "cell_type": "markdown",
   "id": "027e1d2e",
   "metadata": {},
   "source": [
    "# 1- Preprocessing"
   ]
  },
  {
   "cell_type": "markdown",
   "id": "59ac2bd7",
   "metadata": {},
   "source": [
    "## Open the file"
   ]
  },
  {
   "cell_type": "code",
   "execution_count": 2,
   "id": "f0f78427",
   "metadata": {},
   "outputs": [],
   "source": [
    "import pandas as pd\n",
    "import numpy as np\n"
   ]
  },
  {
   "cell_type": "code",
   "execution_count": 6,
   "id": "ffd67c65",
   "metadata": {},
   "outputs": [
    {
     "data": {
      "text/html": [
       "<div>\n",
       "<style scoped>\n",
       "    .dataframe tbody tr th:only-of-type {\n",
       "        vertical-align: middle;\n",
       "    }\n",
       "\n",
       "    .dataframe tbody tr th {\n",
       "        vertical-align: top;\n",
       "    }\n",
       "\n",
       "    .dataframe thead th {\n",
       "        text-align: right;\n",
       "    }\n",
       "</style>\n",
       "<table border=\"1\" class=\"dataframe\">\n",
       "  <thead>\n",
       "    <tr style=\"text-align: right;\">\n",
       "      <th></th>\n",
       "      <th>Unnamed: 0</th>\n",
       "      <th>Age</th>\n",
       "      <th>Gender</th>\n",
       "      <th>Education Level</th>\n",
       "      <th>Income</th>\n",
       "      <th>Marital Status</th>\n",
       "      <th>Employment Status</th>\n",
       "      <th>Product Category</th>\n",
       "      <th>Satisfaction Level</th>\n",
       "      <th>Debt Status</th>\n",
       "    </tr>\n",
       "  </thead>\n",
       "  <tbody>\n",
       "    <tr>\n",
       "      <th>0</th>\n",
       "      <td>0</td>\n",
       "      <td>500</td>\n",
       "      <td>Female</td>\n",
       "      <td>NaN</td>\n",
       "      <td>31158.0</td>\n",
       "      <td>NaN</td>\n",
       "      <td>NaN</td>\n",
       "      <td>NaN</td>\n",
       "      <td>9</td>\n",
       "      <td>1</td>\n",
       "    </tr>\n",
       "    <tr>\n",
       "      <th>1</th>\n",
       "      <td>1</td>\n",
       "      <td>73</td>\n",
       "      <td>Female</td>\n",
       "      <td>College</td>\n",
       "      <td>54465.0</td>\n",
       "      <td>NaN</td>\n",
       "      <td>0.0</td>\n",
       "      <td>E</td>\n",
       "      <td>5</td>\n",
       "      <td>1</td>\n",
       "    </tr>\n",
       "    <tr>\n",
       "      <th>2</th>\n",
       "      <td>2</td>\n",
       "      <td>68</td>\n",
       "      <td>Male</td>\n",
       "      <td>High School</td>\n",
       "      <td>37427.0</td>\n",
       "      <td>married</td>\n",
       "      <td>0.0</td>\n",
       "      <td>D</td>\n",
       "      <td>1</td>\n",
       "      <td>1</td>\n",
       "    </tr>\n",
       "    <tr>\n",
       "      <th>3</th>\n",
       "      <td>3</td>\n",
       "      <td>61</td>\n",
       "      <td>Female</td>\n",
       "      <td>College</td>\n",
       "      <td>52210.0</td>\n",
       "      <td>widowed</td>\n",
       "      <td>0.0</td>\n",
       "      <td>G</td>\n",
       "      <td>8</td>\n",
       "      <td>1</td>\n",
       "    </tr>\n",
       "    <tr>\n",
       "      <th>4</th>\n",
       "      <td>4</td>\n",
       "      <td>34</td>\n",
       "      <td>Female</td>\n",
       "      <td>College</td>\n",
       "      <td>59325.0</td>\n",
       "      <td>separated</td>\n",
       "      <td>1.0</td>\n",
       "      <td>A</td>\n",
       "      <td>5</td>\n",
       "      <td>0</td>\n",
       "    </tr>\n",
       "    <tr>\n",
       "      <th>...</th>\n",
       "      <td>...</td>\n",
       "      <td>...</td>\n",
       "      <td>...</td>\n",
       "      <td>...</td>\n",
       "      <td>...</td>\n",
       "      <td>...</td>\n",
       "      <td>...</td>\n",
       "      <td>...</td>\n",
       "      <td>...</td>\n",
       "      <td>...</td>\n",
       "    </tr>\n",
       "    <tr>\n",
       "      <th>105</th>\n",
       "      <td>56</td>\n",
       "      <td>85</td>\n",
       "      <td>Female</td>\n",
       "      <td>University</td>\n",
       "      <td>39063.0</td>\n",
       "      <td>divorced</td>\n",
       "      <td>NaN</td>\n",
       "      <td>F</td>\n",
       "      <td>8</td>\n",
       "      <td>0</td>\n",
       "    </tr>\n",
       "    <tr>\n",
       "      <th>106</th>\n",
       "      <td>0</td>\n",
       "      <td>500</td>\n",
       "      <td>Female</td>\n",
       "      <td>NaN</td>\n",
       "      <td>31158.0</td>\n",
       "      <td>NaN</td>\n",
       "      <td>NaN</td>\n",
       "      <td>NaN</td>\n",
       "      <td>9</td>\n",
       "      <td>0</td>\n",
       "    </tr>\n",
       "    <tr>\n",
       "      <th>107</th>\n",
       "      <td>73</td>\n",
       "      <td>39</td>\n",
       "      <td>Female</td>\n",
       "      <td>College</td>\n",
       "      <td>55750.0</td>\n",
       "      <td>married</td>\n",
       "      <td>1.0</td>\n",
       "      <td>F</td>\n",
       "      <td>5</td>\n",
       "      <td>1</td>\n",
       "    </tr>\n",
       "    <tr>\n",
       "      <th>108</th>\n",
       "      <td>28</td>\n",
       "      <td>80</td>\n",
       "      <td>Female</td>\n",
       "      <td>High School</td>\n",
       "      <td>32142.0</td>\n",
       "      <td>separated</td>\n",
       "      <td>NaN</td>\n",
       "      <td>C</td>\n",
       "      <td>7</td>\n",
       "      <td>1</td>\n",
       "    </tr>\n",
       "    <tr>\n",
       "      <th>109</th>\n",
       "      <td>30</td>\n",
       "      <td>500</td>\n",
       "      <td>Female</td>\n",
       "      <td>High School</td>\n",
       "      <td>18442.0</td>\n",
       "      <td>separated</td>\n",
       "      <td>1.0</td>\n",
       "      <td>A</td>\n",
       "      <td>3</td>\n",
       "      <td>0</td>\n",
       "    </tr>\n",
       "  </tbody>\n",
       "</table>\n",
       "<p>110 rows × 10 columns</p>\n",
       "</div>"
      ],
      "text/plain": [
       "     Unnamed: 0  Age  Gender Education Level   Income Marital Status  \\\n",
       "0             0  500  Female             NaN  31158.0            NaN   \n",
       "1             1   73  Female         College  54465.0            NaN   \n",
       "2             2   68    Male     High School  37427.0        married   \n",
       "3             3   61  Female         College  52210.0        widowed   \n",
       "4             4   34  Female         College  59325.0      separated   \n",
       "..          ...  ...     ...             ...      ...            ...   \n",
       "105          56   85  Female      University  39063.0       divorced   \n",
       "106           0  500  Female             NaN  31158.0            NaN   \n",
       "107          73   39  Female         College  55750.0        married   \n",
       "108          28   80  Female     High School  32142.0      separated   \n",
       "109          30  500  Female     High School  18442.0      separated   \n",
       "\n",
       "     Employment Status Product Category  Satisfaction Level  Debt Status  \n",
       "0                  NaN              NaN                   9            1  \n",
       "1                  0.0                E                   5            1  \n",
       "2                  0.0                D                   1            1  \n",
       "3                  0.0                G                   8            1  \n",
       "4                  1.0                A                   5            0  \n",
       "..                 ...              ...                 ...          ...  \n",
       "105                NaN                F                   8            0  \n",
       "106                NaN              NaN                   9            0  \n",
       "107                1.0                F                   5            1  \n",
       "108                NaN                C                   7            1  \n",
       "109                1.0                A                   3            0  \n",
       "\n",
       "[110 rows x 10 columns]"
      ]
     },
     "execution_count": 6,
     "metadata": {},
     "output_type": "execute_result"
    }
   ],
   "source": [
    "hw =pd.read_csv('hw_data.csv')\n",
    "hw"
   ]
  },
  {
   "cell_type": "markdown",
   "id": "d4aa238c",
   "metadata": {},
   "source": [
    "## Examine file"
   ]
  },
  {
   "cell_type": "code",
   "execution_count": 8,
   "id": "de6f1070",
   "metadata": {},
   "outputs": [
    {
     "data": {
      "text/plain": [
       "<bound method DataFrame.info of      Unnamed: 0  Age  Gender Education Level   Income Marital Status  \\\n",
       "0             0  500  Female             NaN  31158.0            NaN   \n",
       "1             1   73  Female         College  54465.0            NaN   \n",
       "2             2   68    Male     High School  37427.0        married   \n",
       "3             3   61  Female         College  52210.0        widowed   \n",
       "4             4   34  Female         College  59325.0      separated   \n",
       "..          ...  ...     ...             ...      ...            ...   \n",
       "105          56   85  Female      University  39063.0       divorced   \n",
       "106           0  500  Female             NaN  31158.0            NaN   \n",
       "107          73   39  Female         College  55750.0        married   \n",
       "108          28   80  Female     High School  32142.0      separated   \n",
       "109          30  500  Female     High School  18442.0      separated   \n",
       "\n",
       "     Employment Status Product Category  Satisfaction Level  Debt Status  \n",
       "0                  NaN              NaN                   9            1  \n",
       "1                  0.0                E                   5            1  \n",
       "2                  0.0                D                   1            1  \n",
       "3                  0.0                G                   8            1  \n",
       "4                  1.0                A                   5            0  \n",
       "..                 ...              ...                 ...          ...  \n",
       "105                NaN                F                   8            0  \n",
       "106                NaN              NaN                   9            0  \n",
       "107                1.0                F                   5            1  \n",
       "108                NaN                C                   7            1  \n",
       "109                1.0                A                   3            0  \n",
       "\n",
       "[110 rows x 10 columns]>"
      ]
     },
     "execution_count": 8,
     "metadata": {},
     "output_type": "execute_result"
    }
   ],
   "source": [
    "hw.info "
   ]
  },
  {
   "cell_type": "code",
   "execution_count": 7,
   "id": "1f6abe66",
   "metadata": {},
   "outputs": [
    {
     "data": {
      "text/plain": [
       "Unnamed: 0              int64\n",
       "Age                     int64\n",
       "Gender                 object\n",
       "Education Level        object\n",
       "Income                float64\n",
       "Marital Status         object\n",
       "Employment Status     float64\n",
       "Product Category       object\n",
       "Satisfaction Level      int64\n",
       "Debt Status             int64\n",
       "dtype: object"
      ]
     },
     "execution_count": 7,
     "metadata": {},
     "output_type": "execute_result"
    }
   ],
   "source": [
    "hw.dtypes"
   ]
  },
  {
   "cell_type": "code",
   "execution_count": 10,
   "id": "dccba70a",
   "metadata": {},
   "outputs": [
    {
     "data": {
      "text/html": [
       "<div>\n",
       "<style scoped>\n",
       "    .dataframe tbody tr th:only-of-type {\n",
       "        vertical-align: middle;\n",
       "    }\n",
       "\n",
       "    .dataframe tbody tr th {\n",
       "        vertical-align: top;\n",
       "    }\n",
       "\n",
       "    .dataframe thead th {\n",
       "        text-align: right;\n",
       "    }\n",
       "</style>\n",
       "<table border=\"1\" class=\"dataframe\">\n",
       "  <thead>\n",
       "    <tr style=\"text-align: right;\">\n",
       "      <th></th>\n",
       "      <th>count</th>\n",
       "      <th>mean</th>\n",
       "      <th>std</th>\n",
       "      <th>min</th>\n",
       "      <th>25%</th>\n",
       "      <th>50%</th>\n",
       "      <th>75%</th>\n",
       "      <th>max</th>\n",
       "    </tr>\n",
       "  </thead>\n",
       "  <tbody>\n",
       "    <tr>\n",
       "      <th>Unnamed: 0</th>\n",
       "      <td>110.0</td>\n",
       "      <td>4.939091e+01</td>\n",
       "      <td>2.879478e+01</td>\n",
       "      <td>0.0</td>\n",
       "      <td>26.25</td>\n",
       "      <td>49.5</td>\n",
       "      <td>73.75</td>\n",
       "      <td>99.0</td>\n",
       "    </tr>\n",
       "    <tr>\n",
       "      <th>Age</th>\n",
       "      <td>110.0</td>\n",
       "      <td>9.802727e+01</td>\n",
       "      <td>1.439335e+02</td>\n",
       "      <td>0.0</td>\n",
       "      <td>30.25</td>\n",
       "      <td>54.0</td>\n",
       "      <td>84.00</td>\n",
       "      <td>500.0</td>\n",
       "    </tr>\n",
       "    <tr>\n",
       "      <th>Income</th>\n",
       "      <td>98.0</td>\n",
       "      <td>5.752785e+07</td>\n",
       "      <td>1.768291e+08</td>\n",
       "      <td>6740.0</td>\n",
       "      <td>31158.00</td>\n",
       "      <td>38702.5</td>\n",
       "      <td>50333.50</td>\n",
       "      <td>863305114.0</td>\n",
       "    </tr>\n",
       "    <tr>\n",
       "      <th>Employment Status</th>\n",
       "      <td>75.0</td>\n",
       "      <td>5.733333e-01</td>\n",
       "      <td>4.979236e-01</td>\n",
       "      <td>0.0</td>\n",
       "      <td>0.00</td>\n",
       "      <td>1.0</td>\n",
       "      <td>1.00</td>\n",
       "      <td>1.0</td>\n",
       "    </tr>\n",
       "    <tr>\n",
       "      <th>Satisfaction Level</th>\n",
       "      <td>110.0</td>\n",
       "      <td>4.527273e+00</td>\n",
       "      <td>2.801406e+00</td>\n",
       "      <td>0.0</td>\n",
       "      <td>2.00</td>\n",
       "      <td>5.0</td>\n",
       "      <td>7.00</td>\n",
       "      <td>9.0</td>\n",
       "    </tr>\n",
       "    <tr>\n",
       "      <th>Debt Status</th>\n",
       "      <td>110.0</td>\n",
       "      <td>4.636364e-01</td>\n",
       "      <td>5.009582e-01</td>\n",
       "      <td>0.0</td>\n",
       "      <td>0.00</td>\n",
       "      <td>0.0</td>\n",
       "      <td>1.00</td>\n",
       "      <td>1.0</td>\n",
       "    </tr>\n",
       "  </tbody>\n",
       "</table>\n",
       "</div>"
      ],
      "text/plain": [
       "                    count          mean           std     min       25%  \\\n",
       "Unnamed: 0          110.0  4.939091e+01  2.879478e+01     0.0     26.25   \n",
       "Age                 110.0  9.802727e+01  1.439335e+02     0.0     30.25   \n",
       "Income               98.0  5.752785e+07  1.768291e+08  6740.0  31158.00   \n",
       "Employment Status    75.0  5.733333e-01  4.979236e-01     0.0      0.00   \n",
       "Satisfaction Level  110.0  4.527273e+00  2.801406e+00     0.0      2.00   \n",
       "Debt Status         110.0  4.636364e-01  5.009582e-01     0.0      0.00   \n",
       "\n",
       "                        50%       75%          max  \n",
       "Unnamed: 0             49.5     73.75         99.0  \n",
       "Age                    54.0     84.00        500.0  \n",
       "Income              38702.5  50333.50  863305114.0  \n",
       "Employment Status       1.0      1.00          1.0  \n",
       "Satisfaction Level      5.0      7.00          9.0  \n",
       "Debt Status             0.0      1.00          1.0  "
      ]
     },
     "execution_count": 10,
     "metadata": {},
     "output_type": "execute_result"
    }
   ],
   "source": [
    "hw.describe().T"
   ]
  },
  {
   "cell_type": "code",
   "execution_count": 11,
   "id": "faf60567",
   "metadata": {},
   "outputs": [
    {
     "data": {
      "text/html": [
       "<div>\n",
       "<style scoped>\n",
       "    .dataframe tbody tr th:only-of-type {\n",
       "        vertical-align: middle;\n",
       "    }\n",
       "\n",
       "    .dataframe tbody tr th {\n",
       "        vertical-align: top;\n",
       "    }\n",
       "\n",
       "    .dataframe thead th {\n",
       "        text-align: right;\n",
       "    }\n",
       "</style>\n",
       "<table border=\"1\" class=\"dataframe\">\n",
       "  <thead>\n",
       "    <tr style=\"text-align: right;\">\n",
       "      <th></th>\n",
       "      <th>count</th>\n",
       "      <th>unique</th>\n",
       "      <th>top</th>\n",
       "      <th>freq</th>\n",
       "    </tr>\n",
       "  </thead>\n",
       "  <tbody>\n",
       "    <tr>\n",
       "      <th>Gender</th>\n",
       "      <td>110</td>\n",
       "      <td>2</td>\n",
       "      <td>Male</td>\n",
       "      <td>56</td>\n",
       "    </tr>\n",
       "    <tr>\n",
       "      <th>Education Level</th>\n",
       "      <td>93</td>\n",
       "      <td>4</td>\n",
       "      <td>University</td>\n",
       "      <td>30</td>\n",
       "    </tr>\n",
       "    <tr>\n",
       "      <th>Marital Status</th>\n",
       "      <td>91</td>\n",
       "      <td>5</td>\n",
       "      <td>separated</td>\n",
       "      <td>25</td>\n",
       "    </tr>\n",
       "    <tr>\n",
       "      <th>Product Category</th>\n",
       "      <td>97</td>\n",
       "      <td>7</td>\n",
       "      <td>G</td>\n",
       "      <td>20</td>\n",
       "    </tr>\n",
       "  </tbody>\n",
       "</table>\n",
       "</div>"
      ],
      "text/plain": [
       "                 count unique         top freq\n",
       "Gender             110      2        Male   56\n",
       "Education Level     93      4  University   30\n",
       "Marital Status      91      5   separated   25\n",
       "Product Category    97      7           G   20"
      ]
     },
     "execution_count": 11,
     "metadata": {},
     "output_type": "execute_result"
    }
   ],
   "source": [
    "hw.describe(include=object).T"
   ]
  },
  {
   "cell_type": "code",
   "execution_count": 13,
   "id": "ca47ec1c",
   "metadata": {},
   "outputs": [
    {
     "data": {
      "text/html": [
       "<div>\n",
       "<style scoped>\n",
       "    .dataframe tbody tr th:only-of-type {\n",
       "        vertical-align: middle;\n",
       "    }\n",
       "\n",
       "    .dataframe tbody tr th {\n",
       "        vertical-align: top;\n",
       "    }\n",
       "\n",
       "    .dataframe thead th {\n",
       "        text-align: right;\n",
       "    }\n",
       "</style>\n",
       "<table border=\"1\" class=\"dataframe\">\n",
       "  <thead>\n",
       "    <tr style=\"text-align: right;\">\n",
       "      <th></th>\n",
       "      <th>count</th>\n",
       "      <th>unique</th>\n",
       "      <th>top</th>\n",
       "      <th>freq</th>\n",
       "      <th>mean</th>\n",
       "      <th>std</th>\n",
       "      <th>min</th>\n",
       "      <th>25%</th>\n",
       "      <th>50%</th>\n",
       "      <th>75%</th>\n",
       "      <th>max</th>\n",
       "    </tr>\n",
       "  </thead>\n",
       "  <tbody>\n",
       "    <tr>\n",
       "      <th>Unnamed: 0</th>\n",
       "      <td>110.0</td>\n",
       "      <td>NaN</td>\n",
       "      <td>NaN</td>\n",
       "      <td>NaN</td>\n",
       "      <td>49.390909</td>\n",
       "      <td>28.79478</td>\n",
       "      <td>0.0</td>\n",
       "      <td>26.25</td>\n",
       "      <td>49.5</td>\n",
       "      <td>73.75</td>\n",
       "      <td>99.0</td>\n",
       "    </tr>\n",
       "    <tr>\n",
       "      <th>Age</th>\n",
       "      <td>110.0</td>\n",
       "      <td>NaN</td>\n",
       "      <td>NaN</td>\n",
       "      <td>NaN</td>\n",
       "      <td>98.027273</td>\n",
       "      <td>143.9335</td>\n",
       "      <td>0.0</td>\n",
       "      <td>30.25</td>\n",
       "      <td>54.0</td>\n",
       "      <td>84.0</td>\n",
       "      <td>500.0</td>\n",
       "    </tr>\n",
       "    <tr>\n",
       "      <th>Gender</th>\n",
       "      <td>110</td>\n",
       "      <td>2</td>\n",
       "      <td>Male</td>\n",
       "      <td>56</td>\n",
       "      <td>NaN</td>\n",
       "      <td>NaN</td>\n",
       "      <td>NaN</td>\n",
       "      <td>NaN</td>\n",
       "      <td>NaN</td>\n",
       "      <td>NaN</td>\n",
       "      <td>NaN</td>\n",
       "    </tr>\n",
       "    <tr>\n",
       "      <th>Education Level</th>\n",
       "      <td>93</td>\n",
       "      <td>4</td>\n",
       "      <td>University</td>\n",
       "      <td>30</td>\n",
       "      <td>NaN</td>\n",
       "      <td>NaN</td>\n",
       "      <td>NaN</td>\n",
       "      <td>NaN</td>\n",
       "      <td>NaN</td>\n",
       "      <td>NaN</td>\n",
       "      <td>NaN</td>\n",
       "    </tr>\n",
       "    <tr>\n",
       "      <th>Income</th>\n",
       "      <td>98.0</td>\n",
       "      <td>NaN</td>\n",
       "      <td>NaN</td>\n",
       "      <td>NaN</td>\n",
       "      <td>57527845.163265</td>\n",
       "      <td>176829092.570038</td>\n",
       "      <td>6740.0</td>\n",
       "      <td>31158.0</td>\n",
       "      <td>38702.5</td>\n",
       "      <td>50333.5</td>\n",
       "      <td>863305114.0</td>\n",
       "    </tr>\n",
       "    <tr>\n",
       "      <th>Marital Status</th>\n",
       "      <td>91</td>\n",
       "      <td>5</td>\n",
       "      <td>separated</td>\n",
       "      <td>25</td>\n",
       "      <td>NaN</td>\n",
       "      <td>NaN</td>\n",
       "      <td>NaN</td>\n",
       "      <td>NaN</td>\n",
       "      <td>NaN</td>\n",
       "      <td>NaN</td>\n",
       "      <td>NaN</td>\n",
       "    </tr>\n",
       "    <tr>\n",
       "      <th>Employment Status</th>\n",
       "      <td>75.0</td>\n",
       "      <td>NaN</td>\n",
       "      <td>NaN</td>\n",
       "      <td>NaN</td>\n",
       "      <td>0.573333</td>\n",
       "      <td>0.497924</td>\n",
       "      <td>0.0</td>\n",
       "      <td>0.0</td>\n",
       "      <td>1.0</td>\n",
       "      <td>1.0</td>\n",
       "      <td>1.0</td>\n",
       "    </tr>\n",
       "    <tr>\n",
       "      <th>Product Category</th>\n",
       "      <td>97</td>\n",
       "      <td>7</td>\n",
       "      <td>G</td>\n",
       "      <td>20</td>\n",
       "      <td>NaN</td>\n",
       "      <td>NaN</td>\n",
       "      <td>NaN</td>\n",
       "      <td>NaN</td>\n",
       "      <td>NaN</td>\n",
       "      <td>NaN</td>\n",
       "      <td>NaN</td>\n",
       "    </tr>\n",
       "    <tr>\n",
       "      <th>Satisfaction Level</th>\n",
       "      <td>110.0</td>\n",
       "      <td>NaN</td>\n",
       "      <td>NaN</td>\n",
       "      <td>NaN</td>\n",
       "      <td>4.527273</td>\n",
       "      <td>2.801406</td>\n",
       "      <td>0.0</td>\n",
       "      <td>2.0</td>\n",
       "      <td>5.0</td>\n",
       "      <td>7.0</td>\n",
       "      <td>9.0</td>\n",
       "    </tr>\n",
       "    <tr>\n",
       "      <th>Debt Status</th>\n",
       "      <td>110.0</td>\n",
       "      <td>NaN</td>\n",
       "      <td>NaN</td>\n",
       "      <td>NaN</td>\n",
       "      <td>0.463636</td>\n",
       "      <td>0.500958</td>\n",
       "      <td>0.0</td>\n",
       "      <td>0.0</td>\n",
       "      <td>0.0</td>\n",
       "      <td>1.0</td>\n",
       "      <td>1.0</td>\n",
       "    </tr>\n",
       "  </tbody>\n",
       "</table>\n",
       "</div>"
      ],
      "text/plain": [
       "                    count unique         top freq             mean  \\\n",
       "Unnamed: 0          110.0    NaN         NaN  NaN        49.390909   \n",
       "Age                 110.0    NaN         NaN  NaN        98.027273   \n",
       "Gender                110      2        Male   56              NaN   \n",
       "Education Level        93      4  University   30              NaN   \n",
       "Income               98.0    NaN         NaN  NaN  57527845.163265   \n",
       "Marital Status         91      5   separated   25              NaN   \n",
       "Employment Status    75.0    NaN         NaN  NaN         0.573333   \n",
       "Product Category       97      7           G   20              NaN   \n",
       "Satisfaction Level  110.0    NaN         NaN  NaN         4.527273   \n",
       "Debt Status         110.0    NaN         NaN  NaN         0.463636   \n",
       "\n",
       "                                 std     min      25%      50%      75%  \\\n",
       "Unnamed: 0                  28.79478     0.0    26.25     49.5    73.75   \n",
       "Age                         143.9335     0.0    30.25     54.0     84.0   \n",
       "Gender                           NaN     NaN      NaN      NaN      NaN   \n",
       "Education Level                  NaN     NaN      NaN      NaN      NaN   \n",
       "Income              176829092.570038  6740.0  31158.0  38702.5  50333.5   \n",
       "Marital Status                   NaN     NaN      NaN      NaN      NaN   \n",
       "Employment Status           0.497924     0.0      0.0      1.0      1.0   \n",
       "Product Category                 NaN     NaN      NaN      NaN      NaN   \n",
       "Satisfaction Level          2.801406     0.0      2.0      5.0      7.0   \n",
       "Debt Status                 0.500958     0.0      0.0      0.0      1.0   \n",
       "\n",
       "                            max  \n",
       "Unnamed: 0                 99.0  \n",
       "Age                       500.0  \n",
       "Gender                      NaN  \n",
       "Education Level             NaN  \n",
       "Income              863305114.0  \n",
       "Marital Status              NaN  \n",
       "Employment Status           1.0  \n",
       "Product Category            NaN  \n",
       "Satisfaction Level          9.0  \n",
       "Debt Status                 1.0  "
      ]
     },
     "execution_count": 13,
     "metadata": {},
     "output_type": "execute_result"
    }
   ],
   "source": [
    "hw.describe(include='all').T"
   ]
  },
  {
   "cell_type": "markdown",
   "id": "9b7823e0",
   "metadata": {},
   "source": [
    "## Define missing values"
   ]
  },
  {
   "cell_type": "code",
   "execution_count": 16,
   "id": "e6a7d645",
   "metadata": {},
   "outputs": [
    {
     "name": "stdout",
     "output_type": "stream",
     "text": [
      "     Unnamed: 0  Age  Gender Education Level   Income Marital Status  \\\n",
      "0             0  500  Female             NaN  31158.0            NaN   \n",
      "1             1   73  Female         College  54465.0            NaN   \n",
      "2             2   68    Male     High School  37427.0        married   \n",
      "3             3   61  Female         College  52210.0        widowed   \n",
      "4             4   34  Female         College  59325.0      separated   \n",
      "..          ...  ...     ...             ...      ...            ...   \n",
      "105          56   85  Female      University  39063.0       divorced   \n",
      "106           0  500  Female             NaN  31158.0            NaN   \n",
      "107          73   39  Female         College  55750.0        married   \n",
      "108          28   80  Female     High School  32142.0      separated   \n",
      "109          30  500  Female     High School  18442.0      separated   \n",
      "\n",
      "     Employment Status Product Category  Satisfaction Level  Debt Status  \n",
      "0                  0.6              NaN                   9            1  \n",
      "1                  0.0                E                   5            1  \n",
      "2                  0.0                D                   1            1  \n",
      "3                  0.0                G                   8            1  \n",
      "4                  1.0                A                   5            0  \n",
      "..                 ...              ...                 ...          ...  \n",
      "105                0.6                F                   8            0  \n",
      "106                0.6              NaN                   9            0  \n",
      "107                1.0                F                   5            1  \n",
      "108                0.6                C                   7            1  \n",
      "109                1.0                A                   3            0  \n",
      "\n",
      "[110 rows x 10 columns]\n"
     ]
    }
   ],
   "source": [
    "# To insert the mean value of each column into its missing rows:\n",
    "hw.fillna(hw.mean(numeric_only=True).round(1), inplace=True)\n",
    "\n",
    "# For median:\n",
    "hw.fillna(hw.median(numeric_only=True).round(1), inplace=True)\n",
    "\n",
    "print(hw)"
   ]
  },
  {
   "cell_type": "markdown",
   "id": "e3971637",
   "metadata": {},
   "source": [
    "## Decide about missing values (fill or drop)"
   ]
  },
  {
   "cell_type": "code",
   "execution_count": 17,
   "id": "77d68390",
   "metadata": {},
   "outputs": [
    {
     "name": "stderr",
     "output_type": "stream",
     "text": [
      "C:\\Users\\murat\\AppData\\Local\\Temp\\ipykernel_17896\\3464202856.py:1: FutureWarning: DataFrame.fillna with 'method' is deprecated and will raise in a future version. Use obj.ffill() or obj.bfill() instead.\n",
      "  hw.fillna(method='bfill', inplace=True)\n"
     ]
    }
   ],
   "source": [
    "hw.fillna(method='bfill', inplace=True)"
   ]
  },
  {
   "cell_type": "code",
   "execution_count": 18,
   "id": "49a6d77c",
   "metadata": {},
   "outputs": [
    {
     "name": "stderr",
     "output_type": "stream",
     "text": [
      "C:\\Users\\murat\\AppData\\Local\\Temp\\ipykernel_17896\\55961211.py:2: FutureWarning: DataFrame.interpolate with object dtype is deprecated and will raise in a future version. Call obj.infer_objects(copy=False) before interpolating instead.\n",
      "  hw.interpolate(method ='linear', limit_direction ='backward', inplace=True)\n",
      "C:\\Users\\murat\\AppData\\Local\\Temp\\ipykernel_17896\\55961211.py:5: FutureWarning: DataFrame.interpolate with object dtype is deprecated and will raise in a future version. Call obj.infer_objects(copy=False) before interpolating instead.\n",
      "  hw.interpolate(method ='linear', limit_direction ='forward', inplace=True)\n"
     ]
    }
   ],
   "source": [
    "# Interpolate backwardly across the column:\n",
    "hw.interpolate(method ='linear', limit_direction ='backward', inplace=True)\n",
    "\n",
    "# Interpolate in forward order across the column:\n",
    "hw.interpolate(method ='linear', limit_direction ='forward', inplace=True)"
   ]
  },
  {
   "cell_type": "markdown",
   "id": "cf1586ca",
   "metadata": {},
   "source": [
    "## Why did you fill missing values or if you have dropped, why did you do so? "
   ]
  },
  {
   "cell_type": "code",
   "execution_count": null,
   "id": "fcf2a275",
   "metadata": {},
   "outputs": [],
   "source": []
  },
  {
   "cell_type": "markdown",
   "id": "0a1b9046",
   "metadata": {},
   "source": [
    "## Find outliers if there are"
   ]
  },
  {
   "cell_type": "code",
   "execution_count": null,
   "id": "3d380d01",
   "metadata": {},
   "outputs": [],
   "source": []
  },
  {
   "cell_type": "markdown",
   "id": "0425877a",
   "metadata": {},
   "source": [
    "## Decide what will you do with outliers"
   ]
  },
  {
   "cell_type": "code",
   "execution_count": null,
   "id": "6a7b2cc1",
   "metadata": {},
   "outputs": [],
   "source": []
  },
  {
   "cell_type": "markdown",
   "id": "b2a70701",
   "metadata": {},
   "source": [
    "## Find duplicates, how many are there? Decide what will you do about that?"
   ]
  },
  {
   "cell_type": "code",
   "execution_count": null,
   "id": "9dc6e5e7",
   "metadata": {},
   "outputs": [],
   "source": []
  },
  {
   "cell_type": "markdown",
   "id": "8fdba0b2",
   "metadata": {},
   "source": [
    "## Explain why did you do that?"
   ]
  },
  {
   "cell_type": "code",
   "execution_count": null,
   "id": "a7a682ba",
   "metadata": {},
   "outputs": [],
   "source": []
  },
  {
   "cell_type": "markdown",
   "id": "a784cf15",
   "metadata": {},
   "source": [
    "# 2- Categorization"
   ]
  },
  {
   "cell_type": "markdown",
   "id": "a8dcf1a3",
   "metadata": {},
   "source": [
    "## Categorize satisfaction in 3 level and label them as 'Low', 'Moderate' and 'High'. Add a new column named 'Satisfaction Category' and store them there"
   ]
  },
  {
   "cell_type": "markdown",
   "id": "5e36b169",
   "metadata": {},
   "source": [
    "#### ||| Low Satisfaction : (1-3) ||| Moderate Satisfaction : (4-7) ||| High Satisfaction : (8-10) |||"
   ]
  },
  {
   "cell_type": "code",
   "execution_count": null,
   "id": "fff4ab75",
   "metadata": {},
   "outputs": [],
   "source": []
  },
  {
   "cell_type": "markdown",
   "id": "77f946c4",
   "metadata": {},
   "source": [
    "## Categorize income in 3 level and label them as 'Low', 'Moderate' and 'High'. Add a new column named 'Income Category' and store them there"
   ]
  },
  {
   "cell_type": "code",
   "execution_count": null,
   "id": "9c787126",
   "metadata": {},
   "outputs": [],
   "source": []
  },
  {
   "cell_type": "markdown",
   "id": "d82e79ef",
   "metadata": {},
   "source": [
    "# 3- Analyse"
   ]
  },
  {
   "cell_type": "markdown",
   "id": "45adef9f",
   "metadata": {},
   "source": [
    "## Comparing using pivot tables"
   ]
  },
  {
   "cell_type": "markdown",
   "id": "13c73b72",
   "metadata": {},
   "source": [
    "### Is there a relation between marital status and debt status?"
   ]
  },
  {
   "cell_type": "code",
   "execution_count": null,
   "id": "f30be478",
   "metadata": {},
   "outputs": [],
   "source": []
  },
  {
   "cell_type": "markdown",
   "id": "ddbcf70d",
   "metadata": {},
   "source": [
    "### Is there a relation between income category and debt status?"
   ]
  },
  {
   "cell_type": "code",
   "execution_count": null,
   "id": "adfb7ffc",
   "metadata": {},
   "outputs": [],
   "source": []
  },
  {
   "cell_type": "markdown",
   "id": "d79458fc",
   "metadata": {},
   "source": [
    "### Is there a relation between education level and satisfaction category?"
   ]
  },
  {
   "cell_type": "code",
   "execution_count": null,
   "id": "194fcbca",
   "metadata": {},
   "outputs": [],
   "source": []
  },
  {
   "cell_type": "markdown",
   "id": "9097964e",
   "metadata": {},
   "source": [
    "### Is there a relation between employment status and satisfaction category?"
   ]
  },
  {
   "cell_type": "code",
   "execution_count": null,
   "id": "1cd4f3e7",
   "metadata": {},
   "outputs": [],
   "source": []
  },
  {
   "cell_type": "markdown",
   "id": "fc4aab2f",
   "metadata": {},
   "source": [
    "# 4- General Conclusion"
   ]
  },
  {
   "cell_type": "markdown",
   "id": "c430d7f2",
   "metadata": {},
   "source": [
    "- "
   ]
  },
  {
   "cell_type": "markdown",
   "id": "546a2cf7",
   "metadata": {},
   "source": [
    "---"
   ]
  },
  {
   "cell_type": "markdown",
   "id": "23130f13",
   "metadata": {},
   "source": [
    "### Checklist"
   ]
  },
  {
   "cell_type": "markdown",
   "id": "93cce972",
   "metadata": {},
   "source": [
    "- [x]  start homework;\n",
    "- [ ]  file open;\n",
    "- [ ]  file examined;\n",
    "- [ ]  missing values defined;\n",
    "- [ ]  missing values are filled;\n",
    "- [ ]  explanation for the possible causes of missing values;\n",
    "- [ ]  an explanation of how the blanks are filled;\n",
    "- [ ]  an explanation of how the blanks are filled;\n",
    "- [ ]  finding outliers;\n",
    "- [ ]  handling outliers;\n",
    "- [ ]  duplicates showed;\n",
    "- [ ]  duplicates deleted;\n",
    "- [ ]  an explanation of which method is used to find and remove duplicates;\n",
    "- [ ]  data is categorized;\n",
    "- [ ]  an answer to the question \" Is there a relation betweenmarital status and debt status?\";\n",
    "- [ ]  an answer to the question \" Is there a relation between income category and debt status?\";\n",
    "- [ ]  an answer to the question \" Is there a relation between education level and satisfaction category?\";\n",
    "- [ ]  an answer to the question \" Is there a relation between employment status and satisfaction category?\"\n",
    "- [ ]  conclusions are present on each stage;\n",
    "- [ ]  a general conclusion is made."
   ]
  },
  {
   "cell_type": "markdown",
   "id": "a69bd10b",
   "metadata": {},
   "source": [
    "---"
   ]
  }
 ],
 "metadata": {
  "kernelspec": {
   "display_name": "Python 3 (ipykernel)",
   "language": "python",
   "name": "python3"
  },
  "language_info": {
   "codemirror_mode": {
    "name": "ipython",
    "version": 3
   },
   "file_extension": ".py",
   "mimetype": "text/x-python",
   "name": "python",
   "nbconvert_exporter": "python",
   "pygments_lexer": "ipython3",
   "version": "3.12.0"
  }
 },
 "nbformat": 4,
 "nbformat_minor": 5
}
