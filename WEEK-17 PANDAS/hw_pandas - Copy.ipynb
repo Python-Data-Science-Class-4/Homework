{
 "cells": [
  {
   "cell_type": "markdown",
   "id": "027e1d2e",
   "metadata": {},
   "source": [
    "# 1- Preprocessing"
   ]
  },
  {
   "cell_type": "markdown",
   "id": "59ac2bd7",
   "metadata": {},
   "source": [
    "## Open the file"
   ]
  },
  {
   "cell_type": "code",
   "execution_count": null,
   "id": "f0f78427",
   "metadata": {},
   "outputs": [],
   "source": []
  },
  {
   "cell_type": "markdown",
   "id": "d4aa238c",
   "metadata": {},
   "source": [
    "## Examine file"
   ]
  },
  {
   "cell_type": "code",
   "execution_count": 3,
   "id": "1f6abe66",
   "metadata": {},
   "outputs": [],
   "source": []
  },
  {
   "cell_type": "markdown",
   "id": "9b7823e0",
   "metadata": {},
   "source": [
    "## Define missing values"
   ]
  },
  {
   "cell_type": "code",
   "execution_count": null,
   "id": "e6a7d645",
   "metadata": {},
   "outputs": [],
   "source": []
  },
  {
   "cell_type": "markdown",
   "id": "e3971637",
   "metadata": {},
   "source": [
    "## Decide about missing values (fill or drop)"
   ]
  },
  {
   "cell_type": "code",
   "execution_count": null,
   "id": "77d68390",
   "metadata": {},
   "outputs": [],
   "source": []
  },
  {
   "cell_type": "markdown",
   "id": "cf1586ca",
   "metadata": {},
   "source": [
    "## Why did you fill missing values or if you have dropped, why did you do so? "
   ]
  },
  {
   "cell_type": "code",
   "execution_count": 6,
   "id": "fcf2a275",
   "metadata": {},
   "outputs": [],
   "source": []
  },
  {
   "cell_type": "markdown",
   "id": "0a1b9046",
   "metadata": {},
   "source": [
    "## Find outliers if there are"
   ]
  },
  {
   "cell_type": "code",
   "execution_count": null,
   "id": "3d380d01",
   "metadata": {},
   "outputs": [],
   "source": []
  },
  {
   "cell_type": "markdown",
   "id": "0425877a",
   "metadata": {},
   "source": [
    "## Decide what will you do with outliers"
   ]
  },
  {
   "cell_type": "code",
   "execution_count": null,
   "id": "6a7b2cc1",
   "metadata": {},
   "outputs": [],
   "source": []
  },
  {
   "cell_type": "markdown",
   "id": "b2a70701",
   "metadata": {},
   "source": [
    "## Find duplicates, how many are there? Decide what will you do about that?"
   ]
  },
  {
   "cell_type": "code",
   "execution_count": null,
   "id": "9dc6e5e7",
   "metadata": {},
   "outputs": [],
   "source": []
  },
  {
   "cell_type": "code",
   "execution_count": null,
   "metadata": {},
   "outputs": [],
   "source": []
  },
  {
   "cell_type": "markdown",
   "id": "8fdba0b2",
   "metadata": {},
   "source": [
    "## Explain why did you do that?"
   ]
  },
  {
   "cell_type": "code",
   "execution_count": 11,
   "id": "a7a682ba",
   "metadata": {},
   "outputs": [],
   "source": []
  },
  {
   "cell_type": "markdown",
   "id": "a784cf15",
   "metadata": {},
   "source": [
    "# 2- Categorization"
   ]
  },
  {
   "cell_type": "markdown",
   "id": "a8dcf1a3",
   "metadata": {},
   "source": [
    "## Categorize satisfaction in 3 level and label them as 'Low', 'Moderate' and 'High'. Add a new column named 'Satisfaction Category' and store them there"
   ]
  },
  {
   "cell_type": "markdown",
   "id": "5e36b169",
   "metadata": {},
   "source": [
    "#### ||| Low Satisfaction : (1-3) ||| Moderate Satisfaction : (4-7) ||| High Satisfaction : (8-10) |||"
   ]
  },
  {
   "cell_type": "code",
   "execution_count": null,
   "id": "fff4ab75",
   "metadata": {},
   "outputs": [],
   "source": []
  },
  {
   "cell_type": "markdown",
   "id": "77f946c4",
   "metadata": {},
   "source": [
    "## Categorize income in 3 level and label them as 'Low', 'Moderate' and 'High'. Add a new column named 'Income Category' and store them there"
   ]
  },
  {
   "cell_type": "code",
   "execution_count": null,
   "id": "9c787126",
   "metadata": {},
   "outputs": [],
   "source": []
  },
  {
   "cell_type": "markdown",
   "id": "d82e79ef",
   "metadata": {},
   "source": [
    "# 3- Analyse"
   ]
  },
  {
   "cell_type": "markdown",
   "id": "45adef9f",
   "metadata": {},
   "source": [
    "## Comparing using pivot tables"
   ]
  },
  {
   "cell_type": "markdown",
   "id": "13c73b72",
   "metadata": {},
   "source": [
    "### Is there a relation between marital status and debt status?"
   ]
  },
  {
   "cell_type": "code",
   "execution_count": null,
   "id": "f30be478",
   "metadata": {},
   "outputs": [],
   "source": []
  },
  {
   "cell_type": "markdown",
   "id": "ddbcf70d",
   "metadata": {},
   "source": [
    "### Is there a relation between income category and debt status?"
   ]
  },
  {
   "cell_type": "code",
   "execution_count": null,
   "id": "adfb7ffc",
   "metadata": {},
   "outputs": [],
   "source": []
  },
  {
   "cell_type": "markdown",
   "id": "d79458fc",
   "metadata": {},
   "source": [
    "### Is there a relation between education level and satisfaction category?"
   ]
  },
  {
   "cell_type": "code",
   "execution_count": null,
   "id": "194fcbca",
   "metadata": {},
   "outputs": [],
   "source": []
  },
  {
   "cell_type": "markdown",
   "id": "9097964e",
   "metadata": {},
   "source": [
    "### Is there a relation between employment status and satisfaction category?"
   ]
  },
  {
   "cell_type": "code",
   "execution_count": null,
   "id": "1cd4f3e7",
   "metadata": {},
   "outputs": [],
   "source": []
  },
  {
   "cell_type": "markdown",
   "id": "fc4aab2f",
   "metadata": {},
   "source": [
    "# 4- General Conclusion"
   ]
  },
  {
   "cell_type": "markdown",
   "id": "c430d7f2",
   "metadata": {},
   "source": []
  },
  {
   "cell_type": "markdown",
   "id": "546a2cf7",
   "metadata": {},
   "source": [
    "---"
   ]
  },
  {
   "cell_type": "markdown",
   "id": "23130f13",
   "metadata": {},
   "source": [
    "### Checklist"
   ]
  },
  {
   "cell_type": "markdown",
   "id": "93cce972",
   "metadata": {},
   "source": [
    "- [x]  start homework;\n",
    "- [ ]  file open;\n",
    "- [ ]  file examined;\n",
    "- [ ]  missing values defined;\n",
    "- [ ]  missing values are filled;\n",
    "- [ ]  explanation for the possible causes of missing values;\n",
    "- [ ]  an explanation of how the blanks are filled;\n",
    "- [ ]  an explanation of how the blanks are filled;\n",
    "- [ ]  finding outliers;\n",
    "- [ ]  handling outliers;\n",
    "- [ ]  duplicates showed;\n",
    "- [ ]  duplicates deleted;\n",
    "- [ ]  an explanation of which method is used to find and remove duplicates;\n",
    "- [ ]  data is categorized;\n",
    "- [ ]  an answer to the question \" Is there a relation betweenmarital status and debt status?\";\n",
    "- [ ]  an answer to the question \" Is there a relation between income category and debt status?\";\n",
    "- [ ]  an answer to the question \" Is there a relation between education level and satisfaction category?\";\n",
    "- [ ]  an answer to the question \" Is there a relation between employment status and satisfaction category?\"\n",
    "- [ ]  conclusions are present on each stage;\n",
    "- [ ]  a general conclusion is made."
   ]
  },
  {
   "cell_type": "markdown",
   "id": "a69bd10b",
   "metadata": {},
   "source": [
    "---"
   ]
  }
 ],
 "metadata": {
  "kernelspec": {
   "display_name": "Python 3 (ipykernel)",
   "language": "python",
   "name": "python3"
  },
  "language_info": {
   "codemirror_mode": {
    "name": "ipython",
    "version": 3
   },
   "file_extension": ".py",
   "mimetype": "text/x-python",
   "name": "python",
   "nbconvert_exporter": "python",
   "pygments_lexer": "ipython3",
   "version": "3.10.11"
  }
 },
 "nbformat": 4,
 "nbformat_minor": 5
}
