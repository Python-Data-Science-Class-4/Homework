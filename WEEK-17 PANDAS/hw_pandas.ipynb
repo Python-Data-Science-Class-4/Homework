{
 "cells": [
  {
   "cell_type": "markdown",
   "id": "027e1d2e",
   "metadata": {},
   "source": [
    "# 1- Preprocessing"
   ]
  },
  {
   "cell_type": "markdown",
   "id": "59ac2bd7",
   "metadata": {},
   "source": [
    "## Open the file"
   ]
  },
  {
   "cell_type": "code",
   "execution_count": 1,
   "id": "f0f78427",
   "metadata": {},
   "outputs": [
    {
     "data": {
      "text/html": [
       "<div>\n",
       "<style scoped>\n",
       "    .dataframe tbody tr th:only-of-type {\n",
       "        vertical-align: middle;\n",
       "    }\n",
       "\n",
       "    .dataframe tbody tr th {\n",
       "        vertical-align: top;\n",
       "    }\n",
       "\n",
       "    .dataframe thead th {\n",
       "        text-align: right;\n",
       "    }\n",
       "</style>\n",
       "<table border=\"1\" class=\"dataframe\">\n",
       "  <thead>\n",
       "    <tr style=\"text-align: right;\">\n",
       "      <th></th>\n",
       "      <th>Unnamed: 0</th>\n",
       "      <th>Age</th>\n",
       "      <th>Gender</th>\n",
       "      <th>Education Level</th>\n",
       "      <th>Income</th>\n",
       "      <th>Marital Status</th>\n",
       "      <th>Employment Status</th>\n",
       "      <th>Product Category</th>\n",
       "      <th>Satisfaction Level</th>\n",
       "      <th>Debt Status</th>\n",
       "    </tr>\n",
       "  </thead>\n",
       "  <tbody>\n",
       "    <tr>\n",
       "      <th>0</th>\n",
       "      <td>0</td>\n",
       "      <td>500</td>\n",
       "      <td>Female</td>\n",
       "      <td>NaN</td>\n",
       "      <td>31158.0</td>\n",
       "      <td>NaN</td>\n",
       "      <td>NaN</td>\n",
       "      <td>NaN</td>\n",
       "      <td>9</td>\n",
       "      <td>1</td>\n",
       "    </tr>\n",
       "    <tr>\n",
       "      <th>1</th>\n",
       "      <td>1</td>\n",
       "      <td>73</td>\n",
       "      <td>Female</td>\n",
       "      <td>College</td>\n",
       "      <td>54465.0</td>\n",
       "      <td>NaN</td>\n",
       "      <td>0.0</td>\n",
       "      <td>E</td>\n",
       "      <td>5</td>\n",
       "      <td>1</td>\n",
       "    </tr>\n",
       "    <tr>\n",
       "      <th>2</th>\n",
       "      <td>2</td>\n",
       "      <td>68</td>\n",
       "      <td>Male</td>\n",
       "      <td>High School</td>\n",
       "      <td>37427.0</td>\n",
       "      <td>married</td>\n",
       "      <td>0.0</td>\n",
       "      <td>D</td>\n",
       "      <td>1</td>\n",
       "      <td>1</td>\n",
       "    </tr>\n",
       "    <tr>\n",
       "      <th>3</th>\n",
       "      <td>3</td>\n",
       "      <td>61</td>\n",
       "      <td>Female</td>\n",
       "      <td>College</td>\n",
       "      <td>52210.0</td>\n",
       "      <td>widowed</td>\n",
       "      <td>0.0</td>\n",
       "      <td>G</td>\n",
       "      <td>8</td>\n",
       "      <td>1</td>\n",
       "    </tr>\n",
       "    <tr>\n",
       "      <th>4</th>\n",
       "      <td>4</td>\n",
       "      <td>34</td>\n",
       "      <td>Female</td>\n",
       "      <td>College</td>\n",
       "      <td>59325.0</td>\n",
       "      <td>separated</td>\n",
       "      <td>1.0</td>\n",
       "      <td>A</td>\n",
       "      <td>5</td>\n",
       "      <td>0</td>\n",
       "    </tr>\n",
       "    <tr>\n",
       "      <th>...</th>\n",
       "      <td>...</td>\n",
       "      <td>...</td>\n",
       "      <td>...</td>\n",
       "      <td>...</td>\n",
       "      <td>...</td>\n",
       "      <td>...</td>\n",
       "      <td>...</td>\n",
       "      <td>...</td>\n",
       "      <td>...</td>\n",
       "      <td>...</td>\n",
       "    </tr>\n",
       "    <tr>\n",
       "      <th>105</th>\n",
       "      <td>56</td>\n",
       "      <td>85</td>\n",
       "      <td>Female</td>\n",
       "      <td>University</td>\n",
       "      <td>39063.0</td>\n",
       "      <td>divorced</td>\n",
       "      <td>NaN</td>\n",
       "      <td>F</td>\n",
       "      <td>8</td>\n",
       "      <td>0</td>\n",
       "    </tr>\n",
       "    <tr>\n",
       "      <th>106</th>\n",
       "      <td>0</td>\n",
       "      <td>500</td>\n",
       "      <td>Female</td>\n",
       "      <td>NaN</td>\n",
       "      <td>31158.0</td>\n",
       "      <td>NaN</td>\n",
       "      <td>NaN</td>\n",
       "      <td>NaN</td>\n",
       "      <td>9</td>\n",
       "      <td>0</td>\n",
       "    </tr>\n",
       "    <tr>\n",
       "      <th>107</th>\n",
       "      <td>73</td>\n",
       "      <td>39</td>\n",
       "      <td>Female</td>\n",
       "      <td>College</td>\n",
       "      <td>55750.0</td>\n",
       "      <td>married</td>\n",
       "      <td>1.0</td>\n",
       "      <td>F</td>\n",
       "      <td>5</td>\n",
       "      <td>1</td>\n",
       "    </tr>\n",
       "    <tr>\n",
       "      <th>108</th>\n",
       "      <td>28</td>\n",
       "      <td>80</td>\n",
       "      <td>Female</td>\n",
       "      <td>High School</td>\n",
       "      <td>32142.0</td>\n",
       "      <td>separated</td>\n",
       "      <td>NaN</td>\n",
       "      <td>C</td>\n",
       "      <td>7</td>\n",
       "      <td>1</td>\n",
       "    </tr>\n",
       "    <tr>\n",
       "      <th>109</th>\n",
       "      <td>30</td>\n",
       "      <td>500</td>\n",
       "      <td>Female</td>\n",
       "      <td>High School</td>\n",
       "      <td>18442.0</td>\n",
       "      <td>separated</td>\n",
       "      <td>1.0</td>\n",
       "      <td>A</td>\n",
       "      <td>3</td>\n",
       "      <td>0</td>\n",
       "    </tr>\n",
       "  </tbody>\n",
       "</table>\n",
       "<p>110 rows × 10 columns</p>\n",
       "</div>"
      ],
      "text/plain": [
       "     Unnamed: 0  Age  Gender Education Level   Income Marital Status  \\\n",
       "0             0  500  Female             NaN  31158.0            NaN   \n",
       "1             1   73  Female         College  54465.0            NaN   \n",
       "2             2   68    Male     High School  37427.0        married   \n",
       "3             3   61  Female         College  52210.0        widowed   \n",
       "4             4   34  Female         College  59325.0      separated   \n",
       "..          ...  ...     ...             ...      ...            ...   \n",
       "105          56   85  Female      University  39063.0       divorced   \n",
       "106           0  500  Female             NaN  31158.0            NaN   \n",
       "107          73   39  Female         College  55750.0        married   \n",
       "108          28   80  Female     High School  32142.0      separated   \n",
       "109          30  500  Female     High School  18442.0      separated   \n",
       "\n",
       "     Employment Status Product Category  Satisfaction Level  Debt Status  \n",
       "0                  NaN              NaN                   9            1  \n",
       "1                  0.0                E                   5            1  \n",
       "2                  0.0                D                   1            1  \n",
       "3                  0.0                G                   8            1  \n",
       "4                  1.0                A                   5            0  \n",
       "..                 ...              ...                 ...          ...  \n",
       "105                NaN                F                   8            0  \n",
       "106                NaN              NaN                   9            0  \n",
       "107                1.0                F                   5            1  \n",
       "108                NaN                C                   7            1  \n",
       "109                1.0                A                   3            0  \n",
       "\n",
       "[110 rows x 10 columns]"
      ]
     },
     "execution_count": 1,
     "metadata": {},
     "output_type": "execute_result"
    }
   ],
   "source": [
    "import pandas as pd \n",
    "\n",
    "pd.read_csv(\"hw_data.csv\")"
   ]
  },
  {
   "cell_type": "markdown",
   "id": "d4aa238c",
   "metadata": {},
   "source": [
    "## Examine file"
   ]
  },
  {
   "cell_type": "code",
   "execution_count": null,
   "id": "1f6abe66",
   "metadata": {},
   "outputs": [],
   "source": []
  },
  {
   "cell_type": "markdown",
   "id": "9b7823e0",
   "metadata": {},
   "source": [
    "## Define missing values"
   ]
  },
  {
   "cell_type": "code",
   "execution_count": null,
   "id": "e6a7d645",
   "metadata": {},
   "outputs": [],
   "source": []
  },
  {
   "cell_type": "markdown",
   "id": "e3971637",
   "metadata": {},
   "source": [
    "## Decide about missing values (fill or drop)"
   ]
  },
  {
   "cell_type": "code",
   "execution_count": null,
   "id": "77d68390",
   "metadata": {},
   "outputs": [],
   "source": []
  },
  {
   "cell_type": "markdown",
   "id": "cf1586ca",
   "metadata": {},
   "source": [
    "## Why did you fill missing values or if you have dropped, why did you do so? "
   ]
  },
  {
   "cell_type": "code",
   "execution_count": null,
   "id": "fcf2a275",
   "metadata": {},
   "outputs": [],
   "source": []
  },
  {
   "cell_type": "markdown",
   "id": "0a1b9046",
   "metadata": {},
   "source": [
    "## Find outliers if there are"
   ]
  },
  {
   "cell_type": "code",
   "execution_count": null,
   "id": "3d380d01",
   "metadata": {},
   "outputs": [],
   "source": []
  },
  {
   "cell_type": "markdown",
   "id": "0425877a",
   "metadata": {},
   "source": [
    "## Decide what will you do with outliers"
   ]
  },
  {
   "cell_type": "code",
   "execution_count": null,
   "id": "6a7b2cc1",
   "metadata": {},
   "outputs": [],
   "source": []
  },
  {
   "cell_type": "markdown",
   "id": "b2a70701",
   "metadata": {},
   "source": [
    "## Find duplicates, how many are there? Decide what will you do about that?"
   ]
  },
  {
   "cell_type": "code",
   "execution_count": null,
   "id": "9dc6e5e7",
   "metadata": {},
   "outputs": [],
   "source": []
  },
  {
   "cell_type": "markdown",
   "id": "8fdba0b2",
   "metadata": {},
   "source": [
    "## Explain why did you do that?"
   ]
  },
  {
   "cell_type": "code",
   "execution_count": null,
   "id": "a7a682ba",
   "metadata": {},
   "outputs": [],
   "source": []
  },
  {
   "cell_type": "markdown",
   "id": "a784cf15",
   "metadata": {},
   "source": [
    "# 2- Categorization"
   ]
  },
  {
   "cell_type": "markdown",
   "id": "a8dcf1a3",
   "metadata": {},
   "source": [
    "## Categorize satisfaction in 3 level and label them as 'Low', 'Moderate' and 'High'. Add a new column named 'Satisfaction Category' and store them there"
   ]
  },
  {
   "cell_type": "markdown",
   "id": "5e36b169",
   "metadata": {},
   "source": [
    "#### ||| Low Satisfaction : (1-3) ||| Moderate Satisfaction : (4-7) ||| High Satisfaction : (8-10) |||"
   ]
  },
  {
   "cell_type": "code",
   "execution_count": null,
   "id": "fff4ab75",
   "metadata": {},
   "outputs": [],
   "source": []
  },
  {
   "cell_type": "markdown",
   "id": "77f946c4",
   "metadata": {},
   "source": [
    "## Categorize income in 3 level and label them as 'Low', 'Moderate' and 'High'. Add a new column named 'Income Category' and store them there"
   ]
  },
  {
   "cell_type": "code",
   "execution_count": null,
   "id": "9c787126",
   "metadata": {},
   "outputs": [],
   "source": []
  },
  {
   "cell_type": "markdown",
   "id": "d82e79ef",
   "metadata": {},
   "source": [
    "# 3- Analyse"
   ]
  },
  {
   "cell_type": "markdown",
   "id": "45adef9f",
   "metadata": {},
   "source": [
    "## Comparing using pivot tables"
   ]
  },
  {
   "cell_type": "markdown",
   "id": "13c73b72",
   "metadata": {},
   "source": [
    "### Is there a relation between marital status and debt status?"
   ]
  },
  {
   "cell_type": "code",
   "execution_count": null,
   "id": "f30be478",
   "metadata": {},
   "outputs": [],
   "source": []
  },
  {
   "cell_type": "markdown",
   "id": "ddbcf70d",
   "metadata": {},
   "source": [
    "### Is there a relation between income category and debt status?"
   ]
  },
  {
   "cell_type": "code",
   "execution_count": null,
   "id": "adfb7ffc",
   "metadata": {},
   "outputs": [],
   "source": []
  },
  {
   "cell_type": "markdown",
   "id": "d79458fc",
   "metadata": {},
   "source": [
    "### Is there a relation between education level and satisfaction category?"
   ]
  },
  {
   "cell_type": "code",
   "execution_count": null,
   "id": "194fcbca",
   "metadata": {},
   "outputs": [],
   "source": []
  },
  {
   "cell_type": "markdown",
   "id": "9097964e",
   "metadata": {},
   "source": [
    "### Is there a relation between employment status and satisfaction category?"
   ]
  },
  {
   "cell_type": "code",
   "execution_count": null,
   "id": "1cd4f3e7",
   "metadata": {},
   "outputs": [],
   "source": []
  },
  {
   "cell_type": "markdown",
   "id": "fc4aab2f",
   "metadata": {},
   "source": [
    "# 4- General Conclusion"
   ]
  },
  {
   "cell_type": "markdown",
   "id": "c430d7f2",
   "metadata": {},
   "source": [
    "- "
   ]
  },
  {
   "cell_type": "markdown",
   "id": "546a2cf7",
   "metadata": {},
   "source": [
    "---"
   ]
  },
  {
   "cell_type": "markdown",
   "id": "23130f13",
   "metadata": {},
   "source": [
    "### Checklist"
   ]
  },
  {
   "cell_type": "markdown",
   "id": "93cce972",
   "metadata": {},
   "source": [
    "- [x]  start homework;\n",
    "- [ ]  file open;\n",
    "- [ ]  file examined;\n",
    "- [ ]  missing values defined;\n",
    "- [ ]  missing values are filled;\n",
    "- [ ]  explanation for the possible causes of missing values;\n",
    "- [ ]  an explanation of how the blanks are filled;\n",
    "- [ ]  an explanation of how the blanks are filled;\n",
    "- [ ]  finding outliers;\n",
    "- [ ]  handling outliers;\n",
    "- [ ]  duplicates showed;\n",
    "- [ ]  duplicates deleted;\n",
    "- [ ]  an explanation of which method is used to find and remove duplicates;\n",
    "- [ ]  data is categorized;\n",
    "- [ ]  an answer to the question \" Is there a relation betweenmarital status and debt status?\";\n",
    "- [ ]  an answer to the question \" Is there a relation between income category and debt status?\";\n",
    "- [ ]  an answer to the question \" Is there a relation between education level and satisfaction category?\";\n",
    "- [ ]  an answer to the question \" Is there a relation between employment status and satisfaction category?\"\n",
    "- [ ]  conclusions are present on each stage;\n",
    "- [ ]  a general conclusion is made."
   ]
  },
  {
   "cell_type": "markdown",
   "id": "a69bd10b",
   "metadata": {},
   "source": [
    "---"
   ]
  }
 ],
 "metadata": {
  "kernelspec": {
   "display_name": "Python 3 (ipykernel)",
   "language": "python",
   "name": "python3"
  },
  "language_info": {
   "codemirror_mode": {
    "name": "ipython",
    "version": 3
   },
   "file_extension": ".py",
   "mimetype": "text/x-python",
   "name": "python",
   "nbconvert_exporter": "python",
   "pygments_lexer": "ipython3",
   "version": "3.12.2"
  }
 },
 "nbformat": 4,
 "nbformat_minor": 5
}
