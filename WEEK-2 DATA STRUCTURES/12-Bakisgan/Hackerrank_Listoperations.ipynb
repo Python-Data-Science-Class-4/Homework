{
 "cells": [
  {
   "cell_type": "code",
   "execution_count": null,
   "metadata": {},
   "outputs": [],
   "source": [
    "#hackerrank - list operations \n",
    "N = int(input())\n",
    "liste=[]\n",
    "for i in range(N):\n",
    "    command, *values = input().split()\n",
    "    if command==\"insert\":                    #insert\n",
    "        liste.insert(int(values[0]),int(int(values[1])))\n",
    "    elif command==\"print\":                   #print\n",
    "        print(liste)\n",
    "    elif command==\"remove\":                         #remove\n",
    "        liste.remove(int(values[0]))\n",
    "    elif command==\"append\":               #append\n",
    "        liste.append(int(values[0]))\n",
    "    elif command==\"sort\":              #sort\n",
    "        liste=sorted(liste)\n",
    "    elif command==\"pop\":              #pop\n",
    "        liste.pop()\n",
    "    else:\n",
    "        liste.reverse()             #reverse"
   ]
  }
 ],
 "metadata": {
  "language_info": {
   "name": "python"
  }
 },
 "nbformat": 4,
 "nbformat_minor": 2
}
