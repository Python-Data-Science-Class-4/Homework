{
 "cells": [
  {
   "cell_type": "code",
   "execution_count": null,
   "metadata": {},
   "outputs": [],
   "source": [
    "# hackerrank - rupal\n",
    "n=int(input())\n",
    "mylist=[]\n",
    "for i in range(n):\n",
    "    mylist.append(input())\n",
    "print(len(set(mylist)))"
   ]
  }
 ],
 "metadata": {
  "language_info": {
   "name": "python"
  }
 },
 "nbformat": 4,
 "nbformat_minor": 2
}
