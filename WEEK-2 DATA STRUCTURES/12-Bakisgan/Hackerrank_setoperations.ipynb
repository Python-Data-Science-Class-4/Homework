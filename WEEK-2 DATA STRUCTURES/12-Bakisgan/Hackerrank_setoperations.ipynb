{
 "cells": [
  {
   "cell_type": "code",
   "execution_count": null,
   "metadata": {},
   "outputs": [],
   "source": [
    "# hackerrank - set operations\n",
    "\n",
    "n = int(input())\n",
    "s = input()\n",
    "p = int(input())\n",
    "setim = set(map(int, s.split())) \n",
    "for i in range(p):\n",
    "    inp = input()\n",
    "    if inp == \"pop\":\n",
    "            listem=list(setim)\n",
    "            setim=set(listem[1:])\n",
    "    else:\n",
    "        islem, deger = inp.split()\n",
    "        deger = int(deger) \n",
    "        if islem == \"remove\":\n",
    "            if deger in setim:\n",
    "                setim.remove(deger)                \n",
    "        elif islem == \"discard\":\n",
    "            setim.discard(deger)\n",
    "print(sum(setim))"
   ]
  }
 ],
 "metadata": {
  "language_info": {
   "name": "python"
  }
 },
 "nbformat": 4,
 "nbformat_minor": 2
}
