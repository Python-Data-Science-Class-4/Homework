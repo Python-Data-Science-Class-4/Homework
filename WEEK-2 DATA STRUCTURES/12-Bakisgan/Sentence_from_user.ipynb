{
 "cells": [
  {
   "cell_type": "code",
   "execution_count": null,
   "metadata": {},
   "outputs": [],
   "source": [
    "input_text=input()\n",
    "dict1={}\n",
    "\n",
    "for i in input_text:\n",
    "    if i != \" \":\n",
    "        dict1[i.lower()]=dict1.get(i.lower(),0)+1\n",
    "\n",
    "listem=[]\n",
    "for j in dict1.items():\n",
    "    listem.append(j)\n",
    "listem.sort()\n",
    "print(listem)"
   ]
  }
 ],
 "metadata": {
  "language_info": {
   "name": "python"
  }
 },
 "nbformat": 4,
 "nbformat_minor": 2
}
