{
 "cells": [
  {
   "cell_type": "code",
   "execution_count": null,
   "metadata": {},
   "outputs": [],
   "source": [
    "#Shifting the list\n",
    "\n",
    "giris = \"[1, 2, 3, 4, 5], -2\"\n",
    "m=int(giris[-2:])\n",
    "listem=[]\n",
    "for i in giris[:-1]:\n",
    "    if i.isdigit():\n",
    "        listem.append(int(i))\n",
    "print('''\n",
    "giris yapılan liste :''',listem)\n",
    "listem2=[]\n",
    "for i in range(len(listem)):\n",
    "    if i+m<len(listem):\n",
    "        listem2.append(listem[i+m])\n",
    "    else:\n",
    "        listem2.append(listem[i+m-len(listem)])\n",
    "print('''shifted list        :''',listem2)\n",
    "print(\"Shift miktarı       :\",m)"
   ]
  }
 ],
 "metadata": {
  "language_info": {
   "name": "python"
  }
 },
 "nbformat": 4,
 "nbformat_minor": 2
}
