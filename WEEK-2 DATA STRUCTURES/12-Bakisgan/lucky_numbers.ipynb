{
 "cells": [
  {
   "cell_type": "code",
   "execution_count": null,
   "metadata": {},
   "outputs": [],
   "source": [
    "# Lucky numbers\n",
    "n=int(input())\n",
    "list1=[]\n",
    "for i in range(1,n+1):\n",
    "    list1.append(i)\n",
    "s=2\n",
    "while s<=len(list1):\n",
    "\n",
    "    list2=[]\n",
    "    for i in range(0,len(list1)):\n",
    "        if (i+1)%s!=0:\n",
    "            list2.append(list1[i])\n",
    "    list1=list2.copy()\n",
    "    s+=1\n",
    "print(list1)"
   ]
  }
 ],
 "metadata": {
  "language_info": {
   "name": "python"
  }
 },
 "nbformat": 4,
 "nbformat_minor": 2
}
