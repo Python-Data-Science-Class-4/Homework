{
 "cells": [
  {
   "cell_type": "code",
   "execution_count": null,
   "metadata": {},
   "outputs": [],
   "source": [
    "# Write a code snippet that inputs a sentence from the user, then uses a dictionary to summarize the number of occurrences of each letter. \n",
    "# Ignore case, ignore blanks and assume the user does not enter any punctuation. \n",
    "# Display a two-column table of the letters and their counts with the letters in sorted order.\n",
    "# Example Input \n",
    "# This is a sample text with several words \n",
    "# This is more sample text with some different words \n",
    "# Output [('a', 4), ('d', 3),('e', 10), ('f', 2), ('h', 4), ('i', 7), ('l', 3), ('m', 4), ('n', 1), ('o' ,4), ('p', 2), ('r', 5), ('s', 10), ('t', 9), ('v', 1), ('w', 4), ('x', 2)]\n",
    "\n",
    "# Get input from the user\n",
    "motto = input(\"Type your motto: \")\n",
    "\n",
    "# Create an empty dictionary to store the counts of each leter in the motto\n",
    "count_of_letters = {}\n",
    "\n",
    "# Create a for loop to count the number of each letter in the motto\n",
    "for i in motto.lower():\n",
    "    if i.isalpha():\n",
    "        if i in count_of_letters:\n",
    "            count_of_letters[i] += 1\n",
    "        else:\n",
    "            count_of_letters[i] = 1\n",
    "\n",
    "count_of_letters_sorted = sorted(count_of_letters.items())\n",
    "\n",
    "print(count_of_letters_sorted)\n"
   ]
  }
 ],
 "metadata": {
  "language_info": {
   "name": "python"
  }
 },
 "nbformat": 4,
 "nbformat_minor": 2
}
