{
 "cells": [
  {
   "cell_type": "code",
   "execution_count": null,
   "metadata": {},
   "outputs": [],
   "source": [
    "# Write a program that takes in two words as input and returns a list containing three elements, in the following order Shared letters between two words. \n",
    "# Letters unique to word 1. Letters unique to word 2. \n",
    "# Each element of the output should have unique letters, and should be alphabetically sorted. \n",
    "# Use set operations. The strings will always be in lowercase and will not contain any punctuation. \n",
    "# Example Input1 sharp Input2 soap Output ['aps', 'hr', 'o']\n",
    "\n",
    "# Get input words and make them lower case\n",
    "word_1 = (input(\"Type your first word: \")).lower()\n",
    "word_2 = (input(\"Type your second word: \")).lower()\n",
    "print(word_1)\n",
    "print(word_2)\n",
    "\n",
    "# Convert them to the set of letters\n",
    "word_1 = set(word_1)\n",
    "word_2 = set(word_2)\n",
    "print(word_1)\n",
    "print(word_2)\n",
    "\n",
    "# Intersections of two words and converting intersect to the list\n",
    "intersect = list(word_1.intersection(word_2))\n",
    "intersect.sort()\n",
    "print(intersect)\n",
    "\n",
    "# Difference betwenn words and sort them\n",
    "dif_1 = list(word_1.difference(word_2))\n",
    "dif_2 = list(word_2.difference(word_1))\n",
    "dif_1.sort()\n",
    "dif_2.sort()\n",
    "\n",
    "print(dif_1)\n",
    "print(dif_2)\n",
    "\n",
    "\n",
    "# create empty strings for each \n",
    "intersect_str = \"\"\n",
    "dif_1_str = \"\"\n",
    "dif_2_str = \"\"\n",
    "\n",
    "\n",
    "# Create for loop to save into empty strings\n",
    "for i in intersect:\n",
    "    intersect_str += str(i)\n",
    "\n",
    "for j in dif_1:\n",
    "    dif_1_str += str(j)\n",
    "\n",
    "for x in dif_2:\n",
    "    dif_2_str += str(x)\n",
    "\n",
    "print(f\"'{intersect_str}', '{dif_1_str}', '{dif_2_str}'\")\n"
   ]
  }
 ],
 "metadata": {
  "language_info": {
   "name": "python"
  }
 },
 "nbformat": 4,
 "nbformat_minor": 2
}
