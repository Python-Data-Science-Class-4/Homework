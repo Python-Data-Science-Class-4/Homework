{
 "cells": [
  {
   "cell_type": "code",
   "execution_count": null,
   "metadata": {},
   "outputs": [],
   "source": [
    "# Enter two numbers between 1 and 10\n",
    "a = int (input (\"1. number\"))\n",
    "b = int (input (\"2. number\"))\n",
    "c = list (range (a,b))\n",
    "c"
   ]
  },
  {
   "cell_type": "code",
   "execution_count": null,
   "metadata": {},
   "outputs": [],
   "source": [
    "x = int (input (\"Enter a number\")) \n",
    "while True:    \n",
    "\n",
    "    if x >= 0 :\n",
    "        d = c[-x:] +c[:-x]\n",
    "        print(d)\n",
    "\n",
    "    elif x < 0 :\n",
    "        d= c[-x:] + c[:-x]\n",
    "        print(d)\n",
    "    \n",
    "    break"
   ]
  }
 ],
 "metadata": {
  "language_info": {
   "name": "python"
  }
 },
 "nbformat": 4,
 "nbformat_minor": 2
}
'''Kod genel olarak dogru,gayet guzel calisiyor ama bazi iyilestirmeler yapabiliriz.
**Ilk olarak listeyi kullanici kendi olusturabilir. Burada siz sayi aliyorsunuz ve o sayiya kadar elemanlari listeye koyuyor. Kendi liste elemanlarini girebilir.
**Liste uzunlugundan fazla bir sayi girdigimde istedigimiz seyi vermiyor onu duzeltebiliriz.'''
