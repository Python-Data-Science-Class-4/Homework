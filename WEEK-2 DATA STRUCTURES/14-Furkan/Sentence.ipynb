{
 "cells": [
  {
   "cell_type": "markdown",
   "metadata": {},
   "source": [
    "Summarize a Sentence"
   ]
  },
  {
   "cell_type": "code",
   "execution_count": null,
   "metadata": {},
   "outputs": [],
   "source": [
    "# It is so good to see you again. I wish you all the best.\n",
    "\n",
    "a = input (\"Please write a sentence:\")\n",
    "b = a.lower().replace(\" \", \"\")\n",
    "c = list(sorted(b))\n",
    "d = len (c)"
   ]
  },
  {
   "cell_type": "code",
   "execution_count": null,
   "metadata": {},
   "outputs": [],
   "source": [
    "x = [i for i in range(1,d+1)] \n",
    "y = [(x[m],c[m]) for m in range(d)]"
   ]
  },
  {
   "cell_type": "code",
   "execution_count": null,
   "metadata": {},
   "outputs": [],
   "source": [
    "e =[]\n",
    "for f in c:\n",
    "    g = c. count (f)\n",
    "    if (f not in e):\n",
    "        print (f\"{g} x {f}\")\n",
    "        e.append (f)"
   ]
  }
 ],
 "metadata": {
  "language_info": {
   "name": "python"
  }
 },
 "nbformat": 4,
 "nbformat_minor": 2
}
