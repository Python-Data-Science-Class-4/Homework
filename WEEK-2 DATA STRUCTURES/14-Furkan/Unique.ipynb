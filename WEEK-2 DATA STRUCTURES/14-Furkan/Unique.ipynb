{
 "cells": [
  {
   "cell_type": "markdown",
   "metadata": {},
   "source": [
    "Unique Words"
   ]
  },
  {
   "cell_type": "code",
   "execution_count": null,
   "metadata": {},
   "outputs": [
    {
     "name": "stdout",
     "output_type": "stream",
     "text": [
      "\n",
      "    Letters_1 :      ['d', 'd', 'f', 'g', 'h', 'k', 'l', 'l', 'l', 'l', 's', 'v', 'ö']\n",
      "    Letters_2 :      ['f', 'k', 'q', 'v', 'v', 'w', 'x', 'x', 'x', 'y', 'z', 'ö', 'ü']\n",
      "    Letters_same:    {'f', 'k', 'ö', 'v'}\n",
      "    Letters-diff:    {'d', 'l', 's', 'h', 'g'} , {'q', 'ü', 'x', 'z', 'y', 'w'} \n"
     ]
    }
   ],
   "source": [
    "a = sorted (input(\"Enter your first word: \") . lower ()) \n",
    "b = sorted (input(\"Enter your second word: \") . lower ()) \n",
    "\n",
    "c = set(a) & set(b)  # intersection\n",
    "d = set(a) - set(b)  # difference\n",
    "e = set(b) - set(a)\n",
    "\n",
    "print(f'''\n",
    "    Letters_1 :      {a}\n",
    "    Letters_2 :      {b}\n",
    "    Letters_same:    {c}\n",
    "    Letters-diff:    {d} , {e} ''')"
   ]
  },
  {
   "cell_type": "code",
   "execution_count": null,
   "metadata": {},
   "outputs": [
    {
     "name": "stdout",
     "output_type": "stream",
     "text": [
      "'fköv', 'dlshg', 'qüxzyw'\n"
     ]
    }
   ],
   "source": [
    "x = \"\"\n",
    "y = \"\"\n",
    "z = \"\"\n",
    "\n",
    "for k in c:\n",
    "    x += k\n",
    "\n",
    "for l in d:\n",
    "    y += l\n",
    "\n",
    "for m in e:\n",
    "    z += m\n",
    "\n",
    "print(f\"'{x}', '{y}', '{z}'\")"
   ]
  }
 ],
 "metadata": {
  "language_info": {
   "name": "python"
  }
 },
 "nbformat": 4,
 "nbformat_minor": 2
}

''' Kod gayet guzel ama yine bir kac iyilestirme yapabiliriz.
** PEP 8'e (Python Enhancement Proposal 8) uygun bir yazım stili kullanabilirsiniz.(bu butun kodlarimiz icin gecerli)
https://peps.python.org/pep-0008/
** Yine burda da değişken isimlerini daha açıklayıcı hale getirebilirsiniz.
** ipynb yerine py dosyasi kullanirsak daha derli toplu olur calismamiz diye dusunuyorum.'''
