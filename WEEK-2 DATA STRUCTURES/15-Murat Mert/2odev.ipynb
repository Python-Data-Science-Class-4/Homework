{
 "cells": [
  {
   "cell_type": "code",
   "execution_count": 3,
   "metadata": {},
   "outputs": [
    {
     "data": {
      "text/plain": [
       "',6][1,2,3,4,5'"
      ]
     },
     "execution_count": 3,
     "metadata": {},
     "output_type": "execute_result"
    }
   ],
   "source": [
    "lst= input(\"enter the list:\")\n",
    "#Listeyi input alamdim ne yapmaliyim\n",
    "nbr=int(input(\"enter the number:\"))\n",
    "\n",
    "def shift_number(lst,nbr):\n",
    "\n",
    "    e_shift=nbr%len(lst)\n",
    "\n",
    "    new_list=lst[-e_shift:] + lst[:-e_shift]\n",
    "    \n",
    "    return new_list\n",
    "shift_number(lst,nbr)\n"
   ]
  }
 ],
 "metadata": {
  "kernelspec": {
   "display_name": "Python 3",
   "language": "python",
   "name": "python3"
  },
  "language_info": {
   "codemirror_mode": {
    "name": "ipython",
    "version": 3
   },
   "file_extension": ".py",
   "mimetype": "text/x-python",
   "name": "python",
   "nbconvert_exporter": "python",
   "pygments_lexer": "ipython3",
   "version": "3.12.0"
  }
 },
 "nbformat": 4,
 "nbformat_minor": 2
}
