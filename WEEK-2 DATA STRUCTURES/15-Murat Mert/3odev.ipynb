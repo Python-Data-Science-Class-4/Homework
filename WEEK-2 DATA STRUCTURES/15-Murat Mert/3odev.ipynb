{
 "cells": [
  {
   "cell_type": "code",
   "execution_count": 5,
   "metadata": {},
   "outputs": [
    {
     "ename": "AttributeError",
     "evalue": "'str' object has no attribute 'tolower'",
     "output_type": "error",
     "traceback": [
      "\u001b[1;31m---------------------------------------------------------------------------\u001b[0m",
      "\u001b[1;31mAttributeError\u001b[0m                            Traceback (most recent call last)",
      "\u001b[1;32mc:\\Users\\murat\\OneDrive\\Belgeler\\Phyton project\\Homework\\WEEK-2 DATA STRUCTURES\\15-Murat Mert\\3odev.ipynb Cell 1\u001b[0m line \u001b[0;36m2\n\u001b[0;32m     <a href='vscode-notebook-cell:/c%3A/Users/murat/OneDrive/Belgeler/Phyton%20project/Homework/WEEK-2%20DATA%20STRUCTURES/15-Murat%20Mert/3odev.ipynb#W1sZmlsZQ%3D%3D?line=14'>15</a>\u001b[0m             count_dict[i] \u001b[39m=\u001b[39m count \n\u001b[0;32m     <a href='vscode-notebook-cell:/c%3A/Users/murat/OneDrive/Belgeler/Phyton%20project/Homework/WEEK-2%20DATA%20STRUCTURES/15-Murat%20Mert/3odev.ipynb#W1sZmlsZQ%3D%3D?line=16'>17</a>\u001b[0m     \u001b[39mprint\u001b[39m(count_dict)    \n\u001b[1;32m---> <a href='vscode-notebook-cell:/c%3A/Users/murat/OneDrive/Belgeler/Phyton%20project/Homework/WEEK-2%20DATA%20STRUCTURES/15-Murat%20Mert/3odev.ipynb#W1sZmlsZQ%3D%3D?line=19'>20</a>\u001b[0m word_count(sentence)\n",
      "\u001b[1;32mc:\\Users\\murat\\OneDrive\\Belgeler\\Phyton project\\Homework\\WEEK-2 DATA STRUCTURES\\15-Murat Mert\\3odev.ipynb Cell 1\u001b[0m line \u001b[0;36m4\n\u001b[0;32m      <a href='vscode-notebook-cell:/c%3A/Users/murat/OneDrive/Belgeler/Phyton%20project/Homework/WEEK-2%20DATA%20STRUCTURES/15-Murat%20Mert/3odev.ipynb#W1sZmlsZQ%3D%3D?line=2'>3</a>\u001b[0m \u001b[39mdef\u001b[39;00m \u001b[39mword_count\u001b[39m(sentence):\n\u001b[1;32m----> <a href='vscode-notebook-cell:/c%3A/Users/murat/OneDrive/Belgeler/Phyton%20project/Homework/WEEK-2%20DATA%20STRUCTURES/15-Murat%20Mert/3odev.ipynb#W1sZmlsZQ%3D%3D?line=3'>4</a>\u001b[0m     letters\u001b[39m=\u001b[39m\u001b[39mset\u001b[39m(\u001b[39mlist\u001b[39m(sentence\u001b[39m.\u001b[39;49mtolower()))\n\u001b[0;32m      <a href='vscode-notebook-cell:/c%3A/Users/murat/OneDrive/Belgeler/Phyton%20project/Homework/WEEK-2%20DATA%20STRUCTURES/15-Murat%20Mert/3odev.ipynb#W1sZmlsZQ%3D%3D?line=4'>5</a>\u001b[0m    \u001b[39m# print(letters)\u001b[39;00m\n\u001b[0;32m      <a href='vscode-notebook-cell:/c%3A/Users/murat/OneDrive/Belgeler/Phyton%20project/Homework/WEEK-2%20DATA%20STRUCTURES/15-Murat%20Mert/3odev.ipynb#W1sZmlsZQ%3D%3D?line=5'>6</a>\u001b[0m    \u001b[39m#girilen cumleyi olusturan harflere ayirdi.\u001b[39;00m\n\u001b[0;32m      <a href='vscode-notebook-cell:/c%3A/Users/murat/OneDrive/Belgeler/Phyton%20project/Homework/WEEK-2%20DATA%20STRUCTURES/15-Murat%20Mert/3odev.ipynb#W1sZmlsZQ%3D%3D?line=6'>7</a>\u001b[0m     count_dict \u001b[39m=\u001b[39m {}\n",
      "\u001b[1;31mAttributeError\u001b[0m: 'str' object has no attribute 'tolower'"
     ]
    }
   ],
   "source": [
    "sentence=input(\"Please enter sentences:\")\n",
    "\n",
    "def word_count(sentence):\n",
    "    letters=set(list(sentence.tolower()))\n",
    "   # print(letters)\n",
    "   #girilen cumleyi olusturan harflere ayirdi.\n",
    "    count_dict = {}\n",
    "    for i in letters:\n",
    "        if i.isalpha() == True: \n",
    "            count=0\n",
    "            for x in sentence:\n",
    "                if x == i:\n",
    "                    count +=1\n",
    "\n",
    "            count_dict[i] = count \n",
    "\n",
    "    print(count_dict)    \n",
    "\n",
    "\n",
    "word_count(sentence)"
   ]
  }
 ],
 "metadata": {
  "kernelspec": {
   "display_name": "Python 3",
   "language": "python",
   "name": "python3"
  },
  "language_info": {
   "codemirror_mode": {
    "name": "ipython",
    "version": 3
   },
   "file_extension": ".py",
   "mimetype": "text/x-python",
   "name": "python",
   "nbconvert_exporter": "python",
   "pygments_lexer": "ipython3",
   "version": "3.12.0"
  }
 },
 "nbformat": 4,
 "nbformat_minor": 2
}
