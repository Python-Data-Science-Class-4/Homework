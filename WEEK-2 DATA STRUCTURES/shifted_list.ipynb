{
 "cells": [
  {
   "cell_type": "code",
   "execution_count": 4,
   "metadata": {},
   "outputs": [
    {
     "name": "stdout",
     "output_type": "stream",
     "text": [
      "[3, 4, 5, 1, 2]\n"
     ]
    }
   ],
   "source": [
    "# Write a program that takes two inputs; one of them is a list and the other is a number, and returns the list obtained by shifting the elements in the list n places to the right (left) when n is positive (negative). \n",
    "# Use wrap-around if an element is shifted beyond the end of the list, then continue to shift starting at the beginning of the list. \n",
    "# Example Inputs [1, 2, 3, 4, 5], 2 Output [4, 5, 1, 2, 3] Inputs [1, 2, 3, 4, 5], -2 Output [3, 4, 5, 1, 2]\n",
    "\n",
    "# get input from the user\n",
    "x = int(input(\"Submit a number to create your list: \"))\n",
    "your_list = list(range(1, x+1))\n",
    "\n",
    "# Get input as a shift number from the user\n",
    "n_shift = int(input(\"Submit a shift number to operate: \"))\n",
    "\n",
    "# Calculate the modulo of the shift input > if n is smaller than the length of the list, modulo operation doesnt change n\n",
    "n = n_shift % len(your_list)\n",
    "\n",
    "# Combining left and right sides of the shift number > concatenating two slices\n",
    "shifted_list = your_list[-n:] + your_list[:-n]\n",
    "print(shifted_list)\n",
    "\n"
   ]
  }
 ],
 "metadata": {
  "kernelspec": {
   "display_name": "Python 3",
   "language": "python",
   "name": "python3"
  },
  "language_info": {
   "codemirror_mode": {
    "name": "ipython",
    "version": 3
   },
   "file_extension": ".py",
   "mimetype": "text/x-python",
   "name": "python",
   "nbconvert_exporter": "python",
   "pygments_lexer": "ipython3",
   "version": "3.11.6"
  }
 },
 "nbformat": 4,
 "nbformat_minor": 2
}
