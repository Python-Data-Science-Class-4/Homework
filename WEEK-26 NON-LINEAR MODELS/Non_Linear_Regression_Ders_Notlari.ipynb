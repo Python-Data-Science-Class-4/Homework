{
 "cells": [
  {
   "cell_type": "markdown",
   "metadata": {},
   "source": [
    "# Doğrusal Olmayan Regreson Modelleri"
   ]
  },
  {
   "cell_type": "code",
   "execution_count": 188,
   "metadata": {},
   "outputs": [],
   "source": [
    "import numpy as np\n",
    "import pandas as pd \n",
    "from sklearn.model_selection import train_test_split, GridSearchCV,cross_val_score, RandomizedSearchCV\n",
    "from sklearn.metrics import mean_squared_error, r2_score\n",
    "import matplotlib.pyplot as plt\n",
    "from sklearn.preprocessing import scale \n",
    "from sklearn import model_selection\n",
    "from sklearn.tree import DecisionTreeRegressor, DecisionTreeClassifier\n",
    "from sklearn.neighbors import KNeighborsRegressor\n",
    "from sklearn.ensemble import BaggingRegressor\n",
    "\n",
    "from warnings import filterwarnings\n",
    "filterwarnings('ignore')"
   ]
  },
  {
   "cell_type": "markdown",
   "metadata": {},
   "source": [
    "# KNN"
   ]
  },
  {
   "cell_type": "code",
   "execution_count": 2,
   "metadata": {},
   "outputs": [],
   "source": [
    "hit = pd.read_csv(\"Hitters.csv\")\n",
    "df = hit.copy()\n",
    "df = df.dropna()\n",
    "dms = pd.get_dummies(df[['League', 'Division', 'NewLeague']])\n",
    "y = df[\"Salary\"]\n",
    "X_ = df.drop(['Salary', 'League', 'Division', 'NewLeague'], axis=1).astype('float64')\n",
    "X = pd.concat([X_, dms[['League_N', 'Division_W', 'NewLeague_N']]], axis=1)\n",
    "X_train, X_test, y_train, y_test = train_test_split(X, y, \n",
    "                                                    test_size=0.25, \n",
    "                                                    random_state=42)"
   ]
  },
  {
   "cell_type": "code",
   "execution_count": 3,
   "metadata": {},
   "outputs": [],
   "source": [
    "knn_model = KNeighborsRegressor().fit(X_train, y_train)"
   ]
  },
  {
   "cell_type": "code",
   "execution_count": 4,
   "metadata": {},
   "outputs": [
    {
     "data": {
      "text/plain": [
       "KNeighborsRegressor()"
      ]
     },
     "execution_count": 4,
     "metadata": {},
     "output_type": "execute_result"
    }
   ],
   "source": [
    "knn_model"
   ]
  },
  {
   "cell_type": "code",
   "execution_count": 5,
   "metadata": {},
   "outputs": [
    {
     "data": {
      "text/plain": [
       "5"
      ]
     },
     "execution_count": 5,
     "metadata": {},
     "output_type": "execute_result"
    }
   ],
   "source": [
    "knn_model.n_neighbors"
   ]
  },
  {
   "cell_type": "code",
   "execution_count": 6,
   "metadata": {},
   "outputs": [
    {
     "data": {
      "text/plain": [
       "'euclidean'"
      ]
     },
     "execution_count": 6,
     "metadata": {},
     "output_type": "execute_result"
    }
   ],
   "source": [
    "knn_model.effective_metric_"
   ]
  },
  {
   "cell_type": "markdown",
   "metadata": {},
   "source": [
    "## Tahmin"
   ]
  },
  {
   "cell_type": "code",
   "execution_count": 17,
   "metadata": {},
   "outputs": [],
   "source": [
    "y_pred = knn_model.predict(X_test)"
   ]
  },
  {
   "cell_type": "code",
   "execution_count": 18,
   "metadata": {},
   "outputs": [
    {
     "data": {
      "text/plain": [
       "421.6252180741266"
      ]
     },
     "execution_count": 18,
     "metadata": {},
     "output_type": "execute_result"
    }
   ],
   "source": [
    "np.sqrt(mean_squared_error(y_test, y_pred))"
   ]
  },
  {
   "cell_type": "code",
   "execution_count": 19,
   "metadata": {},
   "outputs": [
    {
     "data": {
      "text/plain": [
       "0.17880988144588528"
      ]
     },
     "execution_count": 19,
     "metadata": {},
     "output_type": "execute_result"
    }
   ],
   "source": [
    "r2_score(y_test, y_pred)"
   ]
  },
  {
   "cell_type": "code",
   "execution_count": 20,
   "metadata": {},
   "outputs": [
    {
     "name": "stdout",
     "output_type": "stream",
     "text": [
      "k = 1 için RMSE değeri:  0.0\n",
      "k = 2 için RMSE değeri:  179.52761335480352\n",
      "k = 3 için RMSE değeri:  205.20157172291863\n",
      "k = 4 için RMSE değeri:  220.5139794876305\n",
      "k = 5 için RMSE değeri:  239.6467132541376\n",
      "k = 6 için RMSE değeri:  243.5904190007242\n",
      "k = 7 için RMSE değeri:  258.1478781634636\n",
      "k = 8 için RMSE değeri:  266.05374203349805\n",
      "k = 9 için RMSE değeri:  269.73782093553376\n",
      "k = 10 için RMSE değeri:  271.2798300436963\n"
     ]
    }
   ],
   "source": [
    "RMSE = [] \n",
    "\n",
    "for k in range(10):\n",
    "    k = k+1\n",
    "    knn_model = KNeighborsRegressor(n_neighbors = k).fit(X_train, y_train)\n",
    "    y_pred = knn_model.predict(X_train) \n",
    "    rmse = np.sqrt(mean_squared_error(y_train,y_pred)) \n",
    "    RMSE.append(rmse) \n",
    "    print(\"k =\" , k , \"için RMSE değeri: \", rmse)\n"
   ]
  },
  {
   "cell_type": "markdown",
   "metadata": {},
   "source": [
    "## Model Tuning"
   ]
  },
  {
   "cell_type": "code",
   "execution_count": 21,
   "metadata": {},
   "outputs": [],
   "source": [
    "from sklearn.model_selection import GridSearchCV"
   ]
  },
  {
   "cell_type": "code",
   "execution_count": 22,
   "metadata": {},
   "outputs": [],
   "source": [
    "knn_params = {'n_neighbors': np.arange(1,30,1)}"
   ]
  },
  {
   "cell_type": "code",
   "execution_count": 23,
   "metadata": {},
   "outputs": [],
   "source": [
    "knn = KNeighborsRegressor()"
   ]
  },
  {
   "cell_type": "code",
   "execution_count": 24,
   "metadata": {},
   "outputs": [],
   "source": [
    "knn_cv_model = GridSearchCV(knn, knn_params, cv = 10)"
   ]
  },
  {
   "cell_type": "code",
   "execution_count": 25,
   "metadata": {},
   "outputs": [
    {
     "data": {
      "text/plain": [
       "GridSearchCV(cv=10, estimator=KNeighborsRegressor(),\n",
       "             param_grid={'n_neighbors': array([ 1,  2,  3,  4,  5,  6,  7,  8,  9, 10, 11, 12, 13, 14, 15, 16, 17,\n",
       "       18, 19, 20, 21, 22, 23, 24, 25, 26, 27, 28, 29])})"
      ]
     },
     "execution_count": 25,
     "metadata": {},
     "output_type": "execute_result"
    }
   ],
   "source": [
    "knn_cv_model.fit(X_train, y_train)"
   ]
  },
  {
   "cell_type": "code",
   "execution_count": 26,
   "metadata": {},
   "outputs": [
    {
     "data": {
      "text/plain": [
       "8"
      ]
     },
     "execution_count": 26,
     "metadata": {},
     "output_type": "execute_result"
    }
   ],
   "source": [
    "knn_cv_model.best_params_[\"n_neighbors\"]"
   ]
  },
  {
   "cell_type": "code",
   "execution_count": 27,
   "metadata": {},
   "outputs": [
    {
     "name": "stdout",
     "output_type": "stream",
     "text": [
      "k = 1 için RMSE değeri:  0.0 RMSE_CV değeri:  325.3947514706382\n",
      "k = 2 için RMSE değeri:  179.52761335480352 RMSE_CV değeri:  293.24000183333817\n",
      "k = 3 için RMSE değeri:  205.20157172291863 RMSE_CV değeri:  283.7486667487823\n",
      "k = 4 için RMSE değeri:  220.5139794876305 RMSE_CV değeri:  286.3240222024089\n",
      "k = 5 için RMSE değeri:  239.6467132541376 RMSE_CV değeri:  290.0705466132226\n",
      "k = 6 için RMSE değeri:  243.5904190007242 RMSE_CV değeri:  298.1263115575851\n",
      "k = 7 için RMSE değeri:  258.1478781634636 RMSE_CV değeri:  294.77070479194987\n",
      "k = 8 için RMSE değeri:  266.05374203349805 RMSE_CV değeri:  291.98672028891235\n",
      "k = 9 için RMSE değeri:  269.73782093553376 RMSE_CV değeri:  295.7162739573105\n",
      "k = 10 için RMSE değeri:  271.2798300436963 RMSE_CV değeri:  301.31047022701154\n"
     ]
    }
   ],
   "source": [
    "RMSE = [] \n",
    "RMSE_CV = []\n",
    "for k in range(10):\n",
    "    k = k+1\n",
    "    knn_model = KNeighborsRegressor(n_neighbors = k).fit(X_train, y_train)\n",
    "    y_pred = knn_model.predict(X_train) \n",
    "    rmse = np.sqrt(mean_squared_error(y_train,y_pred)) \n",
    "    rmse_cv = np.sqrt(-1*cross_val_score(knn_model, X_train, y_train, cv=10, \n",
    "                                         scoring = \"neg_mean_squared_error\").mean())\n",
    "    RMSE.append(rmse) \n",
    "    RMSE_CV.append(rmse_cv)\n",
    "    print(\"k =\" , k , \"için RMSE değeri: \", rmse, \"RMSE_CV değeri: \", rmse_cv )\n"
   ]
  },
  {
   "cell_type": "code",
   "execution_count": 28,
   "metadata": {},
   "outputs": [
    {
     "data": {
      "text/plain": [
       "8"
      ]
     },
     "execution_count": 28,
     "metadata": {},
     "output_type": "execute_result"
    }
   ],
   "source": [
    "knn_cv_model.best_params_[\"n_neighbors\"]"
   ]
  },
  {
   "cell_type": "code",
   "execution_count": 29,
   "metadata": {},
   "outputs": [],
   "source": [
    "knn_tuned = KNeighborsRegressor(n_neighbors = knn_cv_model.best_params_[\"n_neighbors\"])"
   ]
  },
  {
   "cell_type": "code",
   "execution_count": 30,
   "metadata": {},
   "outputs": [
    {
     "data": {
      "text/plain": [
       "KNeighborsRegressor(n_neighbors=8)"
      ]
     },
     "execution_count": 30,
     "metadata": {},
     "output_type": "execute_result"
    }
   ],
   "source": [
    "knn_tuned.fit(X_train, y_train)"
   ]
  },
  {
   "cell_type": "code",
   "execution_count": 31,
   "metadata": {},
   "outputs": [
    {
     "data": {
      "text/plain": [
       "413.7094731463598"
      ]
     },
     "execution_count": 31,
     "metadata": {},
     "output_type": "execute_result"
    }
   ],
   "source": [
    "np.sqrt(mean_squared_error(y_test, knn_tuned.predict(X_test)))"
   ]
  },
  {
   "cell_type": "code",
   "execution_count": 33,
   "metadata": {},
   "outputs": [
    {
     "data": {
      "text/plain": [
       "0.2093550739421146"
      ]
     },
     "execution_count": 33,
     "metadata": {},
     "output_type": "execute_result"
    }
   ],
   "source": [
    "r2_score(y_test, knn_tuned.predict(X_test))"
   ]
  },
  {
   "cell_type": "markdown",
   "metadata": {},
   "source": [
    "# SVR (Destek Vektör Regresyonu)"
   ]
  },
  {
   "cell_type": "code",
   "execution_count": 34,
   "metadata": {},
   "outputs": [],
   "source": [
    "hit = pd.read_csv(\"Hitters.csv\")\n",
    "df = hit.copy()\n",
    "df = df.dropna()\n",
    "dms = pd.get_dummies(df[['League', 'Division', 'NewLeague']])\n",
    "y = df[\"Salary\"]\n",
    "X_ = df.drop(['Salary', 'League', 'Division', 'NewLeague'], axis=1).astype('float64')\n",
    "X = pd.concat([X_, dms[['League_N', 'Division_W', 'NewLeague_N']]], axis=1)\n",
    "X_train, X_test, y_train, y_test = train_test_split(X, y, \n",
    "                                                    test_size=0.25, \n",
    "                                                    random_state=42)"
   ]
  },
  {
   "cell_type": "code",
   "execution_count": 35,
   "metadata": {},
   "outputs": [],
   "source": [
    "X_train = pd.DataFrame(X_train[\"Hits\"])\n",
    "X_test = pd.DataFrame(X_test[\"Hits\"])"
   ]
  },
  {
   "cell_type": "code",
   "execution_count": 42,
   "metadata": {},
   "outputs": [],
   "source": [
    "from sklearn.svm import SVR"
   ]
  },
  {
   "cell_type": "code",
   "execution_count": 47,
   "metadata": {},
   "outputs": [],
   "source": [
    "svr_model = SVR(kernel=\"linear\", C=100, gamma=\"auto\").fit(X_train, y_train)"
   ]
  },
  {
   "cell_type": "code",
   "execution_count": 56,
   "metadata": {},
   "outputs": [
    {
     "data": {
      "text/plain": [
       "array([403.52804878, 666.91219512, 706.66829268, 194.80853659,\n",
       "       423.40609756])"
      ]
     },
     "execution_count": 56,
     "metadata": {},
     "output_type": "execute_result"
    }
   ],
   "source": [
    "svr_model.predict(X_train)[0:5]"
   ]
  },
  {
   "cell_type": "code",
   "execution_count": 57,
   "metadata": {},
   "outputs": [],
   "source": [
    "y_pred = svr_model.predict(X_train)"
   ]
  },
  {
   "cell_type": "code",
   "execution_count": 58,
   "metadata": {},
   "outputs": [
    {
     "data": {
      "text/plain": [
       "[<matplotlib.lines.Line2D at 0x1df894e04c0>]"
      ]
     },
     "execution_count": 58,
     "metadata": {},
     "output_type": "execute_result"
    },
    {
     "data": {
      "image/png": "[encoded data removed]",
      "text/plain": [
       "<Figure size 432x288 with 1 Axes>"
      ]
     },
     "metadata": {
      "needs_background": "light"
     },
     "output_type": "display_data"
    }
   ],
   "source": [
    "plt.scatter(X_train, y_train)\n",
    "plt.plot(X_train,y_pred, color = \"r\")"
   ]
  },
  {
   "cell_type": "code",
   "execution_count": 59,
   "metadata": {},
   "outputs": [
    {
     "name": "stdout",
     "output_type": "stream",
     "text": [
      "y = -8.814095480334345 + 5.172456135470686 x\n"
     ]
    }
   ],
   "source": [
    "from sklearn.linear_model import LinearRegression\n",
    "lm_model = LinearRegression().fit(X_train, y_train)\n",
    "lm_pred  = lm_model.predict(X_train)\n",
    "print(\"y = {0} + {1} x\".format(lm_model.intercept_, lm_model.coef_[0]))"
   ]
  },
  {
   "cell_type": "code",
   "execution_count": 61,
   "metadata": {},
   "outputs": [
    {
     "data": {
      "text/plain": [
       "Text(0, 0.5, 'Maaş (Salary)')"
      ]
     },
     "execution_count": 61,
     "metadata": {},
     "output_type": "execute_result"
    },
    {
     "data": {
      "image/png": "[encoded data removed]",
      "text/plain": [
       "<Figure size 432x288 with 1 Axes>"
      ]
     },
     "metadata": {
      "needs_background": "light"
     },
     "output_type": "display_data"
    }
   ],
   "source": [
    "plt.scatter(X_train, y_train, alpha=0.5, s=23)\n",
    "plt.plot(X_train, lm_pred, 'g')\n",
    "plt.plot(X_train, y_pred, color='r')\n",
    "\n",
    "plt.xlabel(\"Atış Sayısı(Hits)\")\n",
    "plt.ylabel(\"Maaş (Salary)\")"
   ]
  },
  {
   "cell_type": "markdown",
   "metadata": {},
   "source": [
    "## Tahmin"
   ]
  },
  {
   "cell_type": "code",
   "execution_count": 62,
   "metadata": {},
   "outputs": [
    {
     "name": "stdout",
     "output_type": "stream",
     "text": [
      "y = [-48.69756098] + [[4.9695122]] x\n"
     ]
    }
   ],
   "source": [
    "print (\"y = {0} + {1} x\".format(svr_model.intercept_, svr_model.coef_)) "
   ]
  },
  {
   "cell_type": "code",
   "execution_count": 63,
   "metadata": {},
   "outputs": [
    {
     "data": {
      "text/plain": [
       "array([403.52804878])"
      ]
     },
     "execution_count": 63,
     "metadata": {},
     "output_type": "execute_result"
    }
   ],
   "source": [
    "svr_model.predict([[91]])"
   ]
  },
  {
   "cell_type": "code",
   "execution_count": 64,
   "metadata": {},
   "outputs": [],
   "source": [
    "y_pred = svr_model.predict(X_test)"
   ]
  },
  {
   "cell_type": "code",
   "execution_count": 65,
   "metadata": {},
   "outputs": [
    {
     "data": {
      "text/plain": [
       "459.01879603649684"
      ]
     },
     "execution_count": 65,
     "metadata": {},
     "output_type": "execute_result"
    }
   ],
   "source": [
    "np.sqrt(mean_squared_error(y_test, y_pred))"
   ]
  },
  {
   "cell_type": "code",
   "execution_count": 66,
   "metadata": {},
   "outputs": [
    {
     "data": {
      "text/plain": [
       "SVR(C=100, gamma='auto', kernel='linear')"
      ]
     },
     "execution_count": 66,
     "metadata": {},
     "output_type": "execute_result"
    }
   ],
   "source": [
    "svr_model"
   ]
  },
  {
   "cell_type": "markdown",
   "metadata": {},
   "source": [
    "## Model Tuning"
   ]
  },
  {
   "cell_type": "code",
   "execution_count": 67,
   "metadata": {},
   "outputs": [
    {
     "data": {
      "text/plain": [
       "SVR(C=100, gamma='auto', kernel='linear')"
      ]
     },
     "execution_count": 67,
     "metadata": {},
     "output_type": "execute_result"
    }
   ],
   "source": [
    "svr_model"
   ]
  },
  {
   "cell_type": "code",
   "execution_count": 68,
   "metadata": {},
   "outputs": [],
   "source": [
    "svr_params = {\"C\": np.arange(0.1,2,0.1)}\n",
    "svr_cv_model = GridSearchCV(svr_model, svr_params, cv = 10).fit(X_train,y_train)"
   ]
  },
  {
   "cell_type": "code",
   "execution_count": 70,
   "metadata": {},
   "outputs": [
    {
     "data": {
      "text/plain": [
       "C    0.1\n",
       "dtype: float64"
      ]
     },
     "execution_count": 70,
     "metadata": {},
     "output_type": "execute_result"
    }
   ],
   "source": [
    "pd.Series(svr_cv_model.best_params_)"
   ]
  },
  {
   "cell_type": "code",
   "execution_count": 72,
   "metadata": {},
   "outputs": [],
   "source": [
    "svr_tuned = SVR(kernel=\"linear\", \n",
    "                C = pd.Series(svr_cv_model.best_params_)[0]).fit(X_train, y_train)\n",
    "\n"
   ]
  },
  {
   "cell_type": "code",
   "execution_count": 73,
   "metadata": {},
   "outputs": [],
   "source": [
    "y_pred = svr_tuned.predict(X_test)"
   ]
  },
  {
   "cell_type": "code",
   "execution_count": 74,
   "metadata": {},
   "outputs": [
    {
     "data": {
      "text/plain": [
       "458.198966781116"
      ]
     },
     "execution_count": 74,
     "metadata": {},
     "output_type": "execute_result"
    }
   ],
   "source": [
    "np.sqrt(mean_squared_error(y_test, y_pred))"
   ]
  },
  {
   "cell_type": "code",
   "execution_count": 76,
   "metadata": {},
   "outputs": [
    {
     "data": {
      "text/plain": [
       "0.030162956435925148"
      ]
     },
     "execution_count": 76,
     "metadata": {},
     "output_type": "execute_result"
    }
   ],
   "source": [
    "r2_score(y_test, y_pred)"
   ]
  },
  {
   "cell_type": "markdown",
   "metadata": {},
   "source": [
    "# Doğrusal Olmayan SVR"
   ]
  },
  {
   "cell_type": "code",
   "execution_count": 77,
   "metadata": {},
   "outputs": [],
   "source": [
    "np.random.seed(3)\n",
    "\n",
    "x_sim = np.random.uniform(2, 10, 145)\n",
    "y_sim = np.sin(x_sim) + np.random.normal(0, 0.4, 145)\n",
    "\n",
    "x_outliers = np.arange(2.5, 5, 0.5)\n",
    "y_outliers = -5*np.ones(5)\n",
    "\n",
    "x_sim_idx = np.argsort(np.concatenate([x_sim, x_outliers]))\n",
    "x_sim = np.concatenate([x_sim, x_outliers])[x_sim_idx]\n",
    "y_sim = np.concatenate([y_sim, y_outliers])[x_sim_idx]"
   ]
  },
  {
   "cell_type": "code",
   "execution_count": 78,
   "metadata": {},
   "outputs": [],
   "source": [
    "\n",
    "from sklearn.linear_model import LinearRegression\n",
    "ols = LinearRegression()\n",
    "ols.fit(np.sin(x_sim[:, np.newaxis]), y_sim)\n",
    "ols_pred = ols.predict(np.sin(x_sim[:, np.newaxis]))\n",
    "\n",
    "from sklearn.svm import SVR\n",
    "eps = 0.1\n",
    "#svr = SVR('rbf', epsilon = eps)\n",
    "svr = SVR()\n",
    "svr.fit(x_sim[:, np.newaxis], y_sim)\n",
    "svr_pred = svr.predict(x_sim[:, np.newaxis])"
   ]
  },
  {
   "cell_type": "code",
   "execution_count": 79,
   "metadata": {},
   "outputs": [
    {
     "data": {
      "image/png": "[encoded data removed]",
      "text/plain": [
       "<Figure size 432x288 with 1 Axes>"
      ]
     },
     "metadata": {
      "needs_background": "light"
     },
     "output_type": "display_data"
    }
   ],
   "source": [
    "plt.scatter(x_sim, y_sim, alpha=0.5, s=26)\n",
    "plt_ols, = plt.plot(x_sim, ols_pred, 'g')\n",
    "plt_svr, = plt.plot(x_sim, svr_pred, color='r')\n",
    "plt.xlabel(\"Bağımsız Değişken\")\n",
    "plt.ylabel(\"Bağımlı Değişken\")\n",
    "plt.ylim(-5.2, 2.2)\n",
    "plt.legend([plt_ols, plt_svr], ['EKK', 'SVR'], loc = 4);"
   ]
  },
  {
   "cell_type": "code",
   "execution_count": 80,
   "metadata": {},
   "outputs": [],
   "source": [
    "hit = pd.read_csv(\"Hitters.csv\")\n",
    "df = hit.copy()\n",
    "df = df.dropna()\n",
    "dms = pd.get_dummies(df[['League', 'Division', 'NewLeague']])\n",
    "y = df[\"Salary\"]\n",
    "X_ = df.drop(['Salary', 'League', 'Division', 'NewLeague'], axis=1).astype('float64')\n",
    "X = pd.concat([X_, dms[['League_N', 'Division_W', 'NewLeague_N']]], axis=1)\n",
    "X_train, X_test, y_train, y_test = train_test_split(X, y, \n",
    "                                                    test_size=0.25, \n",
    "                                                    random_state=42)"
   ]
  },
  {
   "cell_type": "code",
   "execution_count": 81,
   "metadata": {},
   "outputs": [],
   "source": [
    "svr_rbf = SVR(epsilon=0.1).fit(X_train, y_train)"
   ]
  },
  {
   "cell_type": "markdown",
   "metadata": {},
   "source": [
    "## Tahmin"
   ]
  },
  {
   "cell_type": "code",
   "execution_count": 82,
   "metadata": {},
   "outputs": [],
   "source": [
    "y_pred = svr_rbf.predict(X_test)"
   ]
  },
  {
   "cell_type": "code",
   "execution_count": 83,
   "metadata": {},
   "outputs": [
    {
     "data": {
      "text/plain": [
       "460.0032657244849"
      ]
     },
     "execution_count": 83,
     "metadata": {},
     "output_type": "execute_result"
    }
   ],
   "source": [
    "np.sqrt(mean_squared_error(y_test, y_pred))"
   ]
  },
  {
   "cell_type": "markdown",
   "metadata": {},
   "source": [
    "## Model Tuning"
   ]
  },
  {
   "cell_type": "code",
   "execution_count": 84,
   "metadata": {},
   "outputs": [
    {
     "data": {
      "text/plain": [
       "SVR()"
      ]
     },
     "execution_count": 84,
     "metadata": {},
     "output_type": "execute_result"
    }
   ],
   "source": [
    "svr_rbf"
   ]
  },
  {
   "cell_type": "code",
   "execution_count": 85,
   "metadata": {},
   "outputs": [
    {
     "data": {
      "text/plain": [
       "GridSearchCV(cv=10, estimator=SVR(),\n",
       "             param_grid={'C': [0.01, 0.1, 0.4, 5, 10, 20, 30, 40, 50]})"
      ]
     },
     "execution_count": 85,
     "metadata": {},
     "output_type": "execute_result"
    }
   ],
   "source": [
    "svr_params = {\"C\": [0.01, 0.1,0.4,5,10,20,30,40,50]}\n",
    "svr_cv_model = GridSearchCV(svr_rbf,svr_params, cv = 10)\n",
    "svr_cv_model.fit(X_train, y_train)"
   ]
  },
  {
   "cell_type": "code",
   "execution_count": 86,
   "metadata": {},
   "outputs": [
    {
     "data": {
      "text/plain": [
       "50"
      ]
     },
     "execution_count": 86,
     "metadata": {},
     "output_type": "execute_result"
    }
   ],
   "source": [
    "pd.Series(svr_cv_model.best_params_)[0]"
   ]
  },
  {
   "cell_type": "code",
   "execution_count": 88,
   "metadata": {},
   "outputs": [],
   "source": [
    "svr_tuned = SVR(kernel=\"rbf\", C = pd.Series(svr_cv_model.best_params_)[0]).fit(X_train, \n",
    "                                                                        y_train)\n"
   ]
  },
  {
   "cell_type": "code",
   "execution_count": 89,
   "metadata": {},
   "outputs": [
    {
     "data": {
      "text/plain": [
       "428.00406888095694"
      ]
     },
     "execution_count": 89,
     "metadata": {},
     "output_type": "execute_result"
    }
   ],
   "source": [
    "y_pred = svr_tuned.predict(X_test)\n",
    "\n",
    "np.sqrt(mean_squared_error(y_test, y_pred))"
   ]
  },
  {
   "cell_type": "markdown",
   "metadata": {},
   "source": [
    "# Çok Katmanlı Algılayıcı"
   ]
  },
  {
   "cell_type": "code",
   "execution_count": 90,
   "metadata": {},
   "outputs": [],
   "source": [
    "hit = pd.read_csv(\"Hitters.csv\")\n",
    "df = hit.copy()\n",
    "df = df.dropna()\n",
    "dms = pd.get_dummies(df[['League', 'Division', 'NewLeague']])\n",
    "y = df[\"Salary\"]\n",
    "X_ = df.drop(['Salary', 'League', 'Division', 'NewLeague'], axis=1).astype('float64')\n",
    "X = pd.concat([X_, dms[['League_N', 'Division_W', 'NewLeague_N']]], axis=1)\n",
    "X_train, X_test, y_train, y_test = train_test_split(X, y, \n",
    "                                                    test_size=0.25, \n",
    "                                                    random_state=42)"
   ]
  },
  {
   "cell_type": "code",
   "execution_count": 91,
   "metadata": {},
   "outputs": [],
   "source": [
    "from sklearn.preprocessing import StandardScaler"
   ]
  },
  {
   "cell_type": "code",
   "execution_count": 92,
   "metadata": {},
   "outputs": [
    {
     "data": {
      "text/plain": [
       "StandardScaler()"
      ]
     },
     "execution_count": 92,
     "metadata": {},
     "output_type": "execute_result"
    }
   ],
   "source": [
    "scaler = StandardScaler()\n",
    "scaler.fit(X_train)"
   ]
  },
  {
   "cell_type": "code",
   "execution_count": 93,
   "metadata": {},
   "outputs": [],
   "source": [
    "X_train_scaled = scaler.transform(X_train)"
   ]
  },
  {
   "cell_type": "code",
   "execution_count": 94,
   "metadata": {},
   "outputs": [],
   "source": [
    "X_test_scaled = scaler.transform(X_test)"
   ]
  },
  {
   "cell_type": "code",
   "execution_count": 95,
   "metadata": {},
   "outputs": [],
   "source": [
    "from sklearn.neural_network import MLPRegressor"
   ]
  },
  {
   "cell_type": "code",
   "execution_count": 96,
   "metadata": {},
   "outputs": [],
   "source": [
    "mlp_model = MLPRegressor(hidden_layer_sizes = (100,20)).fit(X_train_scaled, y_train)"
   ]
  },
  {
   "cell_type": "code",
   "execution_count": 97,
   "metadata": {},
   "outputs": [
    {
     "data": {
      "text/plain": [
       "MLPRegressor(hidden_layer_sizes=(100, 20))"
      ]
     },
     "execution_count": 97,
     "metadata": {},
     "output_type": "execute_result"
    }
   ],
   "source": [
    "mlp_model"
   ]
  },
  {
   "cell_type": "code",
   "execution_count": 98,
   "metadata": {},
   "outputs": [
    {
     "data": {
      "text/plain": [
       "4"
      ]
     },
     "execution_count": 98,
     "metadata": {},
     "output_type": "execute_result"
    }
   ],
   "source": [
    "mlp_model.n_layers_"
   ]
  },
  {
   "cell_type": "code",
   "execution_count": 99,
   "metadata": {},
   "outputs": [
    {
     "data": {
      "text/plain": [
       "(100, 20)"
      ]
     },
     "execution_count": 99,
     "metadata": {},
     "output_type": "execute_result"
    }
   ],
   "source": [
    "mlp_model.hidden_layer_sizes"
   ]
  },
  {
   "cell_type": "markdown",
   "metadata": {},
   "source": [
    "## Tahmin"
   ]
  },
  {
   "cell_type": "code",
   "execution_count": 100,
   "metadata": {},
   "outputs": [],
   "source": [
    "y_pred = mlp_model.predict(X_test_scaled)"
   ]
  },
  {
   "cell_type": "code",
   "execution_count": 101,
   "metadata": {},
   "outputs": [
    {
     "data": {
      "text/plain": [
       "527.4270090447499"
      ]
     },
     "execution_count": 101,
     "metadata": {},
     "output_type": "execute_result"
    }
   ],
   "source": [
    "np.sqrt(mean_squared_error(y_test, y_pred))"
   ]
  },
  {
   "cell_type": "markdown",
   "metadata": {},
   "source": [
    "## Model Tuning"
   ]
  },
  {
   "cell_type": "code",
   "execution_count": 102,
   "metadata": {},
   "outputs": [
    {
     "data": {
      "text/plain": [
       "MLPRegressor(hidden_layer_sizes=(100, 20))"
      ]
     },
     "execution_count": 102,
     "metadata": {},
     "output_type": "execute_result"
    }
   ],
   "source": [
    "mlp_model"
   ]
  },
  {
   "cell_type": "code",
   "execution_count": 103,
   "metadata": {},
   "outputs": [],
   "source": [
    "mlp_params = {'alpha': [0.1, 0.01,0.02,0.005],\n",
    "             'hidden_layer_sizes': [(20,20),(100,50,150),(300,200,150)],\n",
    "             'activation': ['relu','logistic']}"
   ]
  },
  {
   "cell_type": "code",
   "execution_count": 104,
   "metadata": {},
   "outputs": [],
   "source": [
    "mlp_cv_model = GridSearchCV(mlp_model, mlp_params, cv = 10)"
   ]
  },
  {
   "cell_type": "code",
   "execution_count": 105,
   "metadata": {},
   "outputs": [
    {
     "data": {
      "text/plain": [
       "GridSearchCV(cv=10, estimator=MLPRegressor(hidden_layer_sizes=(100, 20)),\n",
       "             param_grid={'activation': ['relu', 'logistic'],\n",
       "                         'alpha': [0.1, 0.01, 0.02, 0.005],\n",
       "                         'hidden_layer_sizes': [(20, 20), (100, 50, 150),\n",
       "                                                (300, 200, 150)]})"
      ]
     },
     "execution_count": 105,
     "metadata": {},
     "output_type": "execute_result"
    }
   ],
   "source": [
    "mlp_cv_model.fit(X_train_scaled, y_train)"
   ]
  },
  {
   "cell_type": "code",
   "execution_count": 106,
   "metadata": {},
   "outputs": [
    {
     "data": {
      "text/plain": [
       "{'activation': 'relu', 'alpha': 0.01, 'hidden_layer_sizes': (100, 50, 150)}"
      ]
     },
     "execution_count": 106,
     "metadata": {},
     "output_type": "execute_result"
    }
   ],
   "source": [
    "mlp_cv_model.best_params_"
   ]
  },
  {
   "cell_type": "code",
   "execution_count": 107,
   "metadata": {},
   "outputs": [],
   "source": [
    "mlp_tuned = MLPRegressor(alpha = 0.02, hidden_layer_sizes = (100,50,150))"
   ]
  },
  {
   "cell_type": "code",
   "execution_count": 108,
   "metadata": {},
   "outputs": [
    {
     "data": {
      "text/plain": [
       "MLPRegressor(alpha=0.02, hidden_layer_sizes=(100, 50, 150))"
      ]
     },
     "execution_count": 108,
     "metadata": {},
     "output_type": "execute_result"
    }
   ],
   "source": [
    "mlp_tuned.fit(X_train_scaled, y_train)"
   ]
  },
  {
   "cell_type": "code",
   "execution_count": 109,
   "metadata": {},
   "outputs": [],
   "source": [
    "y_pred = mlp_tuned.predict(X_test_scaled)"
   ]
  },
  {
   "cell_type": "code",
   "execution_count": 110,
   "metadata": {},
   "outputs": [
    {
     "data": {
      "text/plain": [
       "361.7773902246188"
      ]
     },
     "execution_count": 110,
     "metadata": {},
     "output_type": "execute_result"
    }
   ],
   "source": [
    "np.sqrt(mean_squared_error(y_test, y_pred))"
   ]
  },
  {
   "cell_type": "markdown",
   "metadata": {},
   "source": [
    "# CART"
   ]
  },
  {
   "cell_type": "code",
   "execution_count": 111,
   "metadata": {},
   "outputs": [],
   "source": [
    "hit = pd.read_csv(\"Hitters.csv\")\n",
    "df = hit.copy()\n",
    "df = df.dropna()\n",
    "dms = pd.get_dummies(df[['League', 'Division', 'NewLeague']])\n",
    "y = df[\"Salary\"]\n",
    "X_ = df.drop(['Salary', 'League', 'Division', 'NewLeague'], axis=1).astype('float64')\n",
    "X = pd.concat([X_, dms[['League_N', 'Division_W', 'NewLeague_N']]], axis=1)\n",
    "X_train, X_test, y_train, y_test = train_test_split(X, y, \n",
    "                                                    test_size=0.25, \n",
    "                                                    random_state=42)\n"
   ]
  },
  {
   "cell_type": "code",
   "execution_count": 112,
   "metadata": {},
   "outputs": [],
   "source": [
    "X_train = pd.DataFrame(X_train[\"Hits\"])\n",
    "X_test = pd.DataFrame(X_test[\"Hits\"])"
   ]
  },
  {
   "cell_type": "code",
   "execution_count": 113,
   "metadata": {},
   "outputs": [],
   "source": [
    "cart_model = DecisionTreeRegressor(min_samples_split = 2)"
   ]
  },
  {
   "cell_type": "code",
   "execution_count": 115,
   "metadata": {},
   "outputs": [],
   "source": [
    "#?cart_model"
   ]
  },
  {
   "cell_type": "code",
   "execution_count": 116,
   "metadata": {},
   "outputs": [
    {
     "data": {
      "text/plain": [
       "DecisionTreeRegressor()"
      ]
     },
     "execution_count": 116,
     "metadata": {},
     "output_type": "execute_result"
    }
   ],
   "source": [
    "cart_model.fit(X_train, y_train)"
   ]
  },
  {
   "cell_type": "code",
   "execution_count": 117,
   "metadata": {},
   "outputs": [
    {
     "data": {
      "image/png": "[encoded data removed]",
      "text/plain": [
       "<Figure size 432x288 with 1 Axes>"
      ]
     },
     "metadata": {
      "needs_background": "light"
     },
     "output_type": "display_data"
    }
   ],
   "source": [
    "X_grid = np.arange(min(np.array(X_train)),max(np.array(X_train)), 0.01) \n",
    "X_grid = X_grid.reshape((len(X_grid), 1))  \n",
    "plt.scatter(X_train, y_train, color = 'red') \n",
    "plt.plot(X_grid, cart_model.predict(X_grid), color = 'blue')  \n",
    "plt.title('CART REGRESON AĞACI')  \n",
    "plt.xlabel('Atış Sayısı(Hits)') \n",
    "plt.ylabel('Maaş (Salary)') ;"
   ]
  },
  {
   "cell_type": "code",
   "execution_count": null,
   "metadata": {},
   "outputs": [],
   "source": [
    "#!pip install skompiler"
   ]
  },
  {
   "cell_type": "code",
   "execution_count": 118,
   "metadata": {},
   "outputs": [],
   "source": [
    "from skompiler import skompile"
   ]
  },
  {
   "cell_type": "code",
   "execution_count": 126,
   "metadata": {},
   "outputs": [
    {
     "name": "stdout",
     "output_type": "stream",
     "text": [
      "((920.0 if x[0] <= 18.0 else ((500.0 if x[0] <= 34.5 else (70.0 if x[0] <= \n",
      "    38.0 else 175.0) if x[0] <= 39.5 else 90.0 if x[0] <= 40.5 else 67.5) if\n",
      "    x[0] <= 41.5 else 900.0 if x[0] <= 42.5 else (((((215.55566666666664 if\n",
      "    x[0] <= 44.5 else 180.0) if x[0] <= 46.5 else 347.5 if x[0] <= 48.0 else\n",
      "    337.5) if x[0] <= 50.0 else 70.0) if x[0] <= 51.5 else 507.5) if x[0] <=\n",
      "    52.5 else 150.0 if x[0] <= 53.5 else 146.83333333333334) if x[0] <= \n",
      "    54.5 else 1300.0 if x[0] <= 55.5 else (170.0 if x[0] <= 56.5 else \n",
      "    193.75) if x[0] <= 57.5 else ((((((340.0 if x[0] <= 59.0 else 418.5) if\n",
      "    x[0] <= 60.5 else 235.0 if x[0] <= 62.0 else 341.667) if x[0] <= 63.5 else\n",
      "    75.0) if x[0] <= 64.5 else 650.0) if x[0] <= 65.5 else 170.0 if x[0] <=\n",
      "    67.0 else 228.66666666666666) if x[0] <= 69.0 else 472.5) if x[0] <= \n",
      "    70.5 else (100.0 if x[0] <= 71.5 else 130.0) if x[0] <= 72.5 else \n",
      "    409.1665 if x[0] <= 74.5 else 215.0) if x[0] <= 76.5 else (((505.0 if x\n",
      "    [0] <= 77.5 else ((((328.88899999999995 if x[0] <= 79.0 else 700.0) if \n",
      "    x[0] <= 80.5 else 348.75 if x[0] <= 81.5 else 267.5) if x[0] <= 82.5 else\n",
      "    600.0 if x[0] <= 83.5 else 600.0) if x[0] <= 84.5 else (331.25 if x[0] <=\n",
      "    85.5 else (180.0 if x[0] <= 86.5 else 91.5) if x[0] <= 88.5 else 450.0 if\n",
      "    x[0] <= 90.5 else 125.0) if x[0] <= 91.5 else 411.25 if x[0] <= 92.5 else\n",
      "    250.0) if x[0] <= 93.5 else 670.0 if x[0] <= 94.5 else ((100.0 if x[0] <=\n",
      "    95.5 else 504.1665) if x[0] <= 96.5 else 210.0 if x[0] <= 98.0 else \n",
      "    87.5) if x[0] <= 100.0 else 466.0) if x[0] <= 101.5 else 247.5 if x[0] <=\n",
      "    102.5 else 257.3334) if x[0] <= 103.5 else (750.0 if x[0] <= 105.0 else\n",
      "    850.0) if x[0] <= 107.0 else 162.5 if x[0] <= 109.0 else (560.0 if x[0] <=\n",
      "    111.0 else 442.5 if x[0] <= 112.5 else 487.5) if x[0] <= 114.0 else \n",
      "    300.0) if x[0] <= 116.0 else 110.0) if x[0] <= 117.5 else ((((1300.0 if\n",
      "    x[0] <= 118.5 else 773.3333333333334 if x[0] <= 120.5 else 442.5) if x[\n",
      "    0] <= 122.5 else 1240.0 if x[0] <= 124.0 else 1925.571) if x[0] <= \n",
      "    125.5 else (561.25 if x[0] <= 126.5 else (695.2776666666667 if x[0] <= \n",
      "    127.5 else 1043.75) if x[0] <= 128.5 else (750.0 if x[0] <= 129.5 else \n",
      "    480.0) if x[0] <= 130.5 else 726.6666666666666) if x[0] <= 131.5 else (\n",
      "    ((611.6665 if x[0] <= 133.5 else 461.0) if x[0] <= 135.5 else 725.0) if\n",
      "    x[0] <= 137.0 else 152.5 if x[0] <= 138.5 else 555.0 if x[0] <= 139.5 else\n",
      "    200.0) if x[0] <= 140.5 else 712.5 if x[0] <= 141.5 else 777.5) if x[0] <=\n",
      "    143.0 else (((1021.6666666666666 if x[0] <= 144.5 else 500.0 if x[0] <=\n",
      "    145.5 else 815.0) if x[0] <= 146.5 else 1230.0 if x[0] <= 148.0 else \n",
      "    787.5 if x[0] <= 149.5 else 1000.0) if x[0] <= 150.5 else 2460.0) if x[\n",
      "    0] <= 151.5 else (451.6666666666667 if x[0] <= 153.0 else 580.0 if x[0] <=\n",
      "    155.5 else 530.0) if x[0] <= 157.5 else (((((775.0 if x[0] <= 158.5 else\n",
      "    759.1665) if x[0] <= 159.5 else 1670.0 if x[0] <= 161.5 else 923.0 if x\n",
      "    [0] <= 165.5 else 863.0556666666666) if x[0] <= 168.5 else \n",
      "    743.3333333333334) if x[0] <= 169.5 else 1118.75 if x[0] <= 170.5 else \n",
      "    1350.0) if x[0] <= 171.5 else 165.0 if x[0] <= 173.0 else (849.3335 if \n",
      "    x[0] <= 175.5 else 1350.0) if x[0] <= 177.5 else (740.0 if x[0] <= \n",
      "    178.5 else 575.0 if x[0] <= 181.5 else 630.0) if x[0] <= 185.0 else \n",
      "    1300.0 if x[0] <= 198.5 else 740.0) if x[0] <= 212.0 else 350.0) if x[0\n",
      "    ] <= 225.5 else 1975.0)\n",
      "\n"
     ]
    }
   ],
   "source": [
    "print(skompile(cart_model.predict).to('python/code'))"
   ]
  },
  {
   "cell_type": "markdown",
   "metadata": {},
   "source": [
    "## Tahmin"
   ]
  },
  {
   "cell_type": "code",
   "execution_count": 127,
   "metadata": {},
   "outputs": [],
   "source": [
    "x = [91]"
   ]
  },
  {
   "cell_type": "code",
   "execution_count": 128,
   "metadata": {},
   "outputs": [
    {
     "data": {
      "text/plain": [
       "125.0"
      ]
     },
     "execution_count": 128,
     "metadata": {},
     "output_type": "execute_result"
    }
   ],
   "source": [
    "((920.0 if x[0] <= 18.0 else ((500.0 if x[0] <= 34.5 else (70.0 if x[0] <= \n",
    "    38.0 else 175.0) if x[0] <= 39.5 else 90.0 if x[0] <= 40.5 else 67.5) if\n",
    "    x[0] <= 41.5 else 900.0 if x[0] <= 42.5 else (((((215.55566666666664 if\n",
    "    x[0] <= 44.5 else 180.0) if x[0] <= 46.5 else 347.5 if x[0] <= 48.0 else\n",
    "    337.5) if x[0] <= 50.0 else 70.0) if x[0] <= 51.5 else 507.5) if x[0] <=\n",
    "    52.5 else 150.0 if x[0] <= 53.5 else 146.83333333333334) if x[0] <= \n",
    "    54.5 else 1300.0 if x[0] <= 55.5 else (170.0 if x[0] <= 56.5 else \n",
    "    193.75) if x[0] <= 57.5 else ((((((340.0 if x[0] <= 59.0 else 418.5) if\n",
    "    x[0] <= 60.5 else 235.0 if x[0] <= 62.0 else 341.667) if x[0] <= 63.5 else\n",
    "    75.0) if x[0] <= 64.5 else 650.0) if x[0] <= 65.5 else 170.0 if x[0] <=\n",
    "    67.0 else 228.66666666666666) if x[0] <= 69.0 else 472.5) if x[0] <= \n",
    "    70.5 else (100.0 if x[0] <= 71.5 else 130.0) if x[0] <= 72.5 else \n",
    "    409.1665 if x[0] <= 74.5 else 215.0) if x[0] <= 76.5 else (((505.0 if x\n",
    "    [0] <= 77.5 else ((((328.88899999999995 if x[0] <= 79.0 else 700.0) if \n",
    "    x[0] <= 80.5 else 348.75 if x[0] <= 81.5 else 267.5) if x[0] <= 82.5 else\n",
    "    600.0 if x[0] <= 83.5 else 600.0) if x[0] <= 84.5 else (331.25 if x[0] <=\n",
    "    85.5 else (180.0 if x[0] <= 86.5 else 91.5) if x[0] <= 88.5 else 450.0 if\n",
    "    x[0] <= 90.5 else 125.0) if x[0] <= 91.5 else 411.25 if x[0] <= 92.5 else\n",
    "    250.0) if x[0] <= 93.5 else 670.0 if x[0] <= 94.5 else ((100.0 if x[0] <=\n",
    "    95.5 else 504.1665) if x[0] <= 96.5 else 210.0 if x[0] <= 98.0 else \n",
    "    87.5) if x[0] <= 100.0 else 466.0) if x[0] <= 101.5 else 247.5 if x[0] <=\n",
    "    102.5 else 257.3334) if x[0] <= 103.5 else (750.0 if x[0] <= 105.0 else\n",
    "    850.0) if x[0] <= 107.0 else 162.5 if x[0] <= 109.0 else (560.0 if x[0] <=\n",
    "    111.0 else 442.5 if x[0] <= 112.5 else 487.5) if x[0] <= 114.0 else \n",
    "    300.0) if x[0] <= 116.0 else 110.0) if x[0] <= 117.5 else ((((1300.0 if\n",
    "    x[0] <= 118.5 else 773.3333333333334 if x[0] <= 120.5 else 442.5) if x[\n",
    "    0] <= 122.5 else 1240.0 if x[0] <= 124.0 else 1925.571) if x[0] <= \n",
    "    125.5 else (561.25 if x[0] <= 126.5 else (695.2776666666667 if x[0] <= \n",
    "    127.5 else 1043.75) if x[0] <= 128.5 else (750.0 if x[0] <= 129.5 else \n",
    "    480.0) if x[0] <= 130.5 else 726.6666666666666) if x[0] <= 131.5 else (\n",
    "    ((611.6665 if x[0] <= 133.5 else 461.0) if x[0] <= 135.5 else 725.0) if\n",
    "    x[0] <= 137.0 else 152.5 if x[0] <= 138.5 else 555.0 if x[0] <= 139.5 else\n",
    "    200.0) if x[0] <= 140.5 else 712.5 if x[0] <= 141.5 else 777.5) if x[0] <=\n",
    "    143.0 else (((1021.6666666666666 if x[0] <= 144.5 else 500.0 if x[0] <=\n",
    "    145.5 else 815.0) if x[0] <= 146.5 else 1230.0 if x[0] <= 148.0 else \n",
    "    787.5 if x[0] <= 149.5 else 1000.0) if x[0] <= 150.5 else 2460.0) if x[\n",
    "    0] <= 151.5 else (451.6666666666667 if x[0] <= 153.0 else 580.0 if x[0] <=\n",
    "    155.5 else 530.0) if x[0] <= 157.5 else (((((775.0 if x[0] <= 158.5 else\n",
    "    759.1665) if x[0] <= 159.5 else 1670.0 if x[0] <= 161.5 else 923.0 if x\n",
    "    [0] <= 165.5 else 863.0556666666666) if x[0] <= 168.5 else \n",
    "    743.3333333333334) if x[0] <= 169.5 else 1118.75 if x[0] <= 170.5 else \n",
    "    1350.0) if x[0] <= 171.5 else 165.0 if x[0] <= 173.0 else (849.3335 if \n",
    "    x[0] <= 175.5 else 1350.0) if x[0] <= 177.5 else (740.0 if x[0] <= \n",
    "    178.5 else 575.0 if x[0] <= 181.5 else 630.0) if x[0] <= 185.0 else \n",
    "    1300.0 if x[0] <= 198.5 else 740.0) if x[0] <= 212.0 else 350.0) if x[0\n",
    "    ] <= 225.5 else 1975.0)"
   ]
  },
  {
   "cell_type": "code",
   "execution_count": 129,
   "metadata": {},
   "outputs": [
    {
     "data": {
      "text/plain": [
       "array([ 725.    , 1230.    ,  725.    ,  504.1665,   67.5   ])"
      ]
     },
     "execution_count": 129,
     "metadata": {},
     "output_type": "execute_result"
    }
   ],
   "source": [
    "cart_model.predict(X_test)[0:5]"
   ]
  },
  {
   "cell_type": "code",
   "execution_count": 130,
   "metadata": {},
   "outputs": [
    {
     "data": {
      "text/plain": [
       "array([125.])"
      ]
     },
     "execution_count": 130,
     "metadata": {},
     "output_type": "execute_result"
    }
   ],
   "source": [
    "cart_model.predict([[91]])"
   ]
  },
  {
   "cell_type": "code",
   "execution_count": 131,
   "metadata": {},
   "outputs": [],
   "source": [
    "y_pred =cart_model.predict(X_test)"
   ]
  },
  {
   "cell_type": "code",
   "execution_count": 132,
   "metadata": {},
   "outputs": [
    {
     "data": {
      "text/plain": [
       "468.49579052913884"
      ]
     },
     "execution_count": 132,
     "metadata": {},
     "output_type": "execute_result"
    }
   ],
   "source": [
    "np.sqrt(mean_squared_error(y_test, y_pred))"
   ]
  },
  {
   "cell_type": "markdown",
   "metadata": {},
   "source": [
    "## Model Tuning"
   ]
  },
  {
   "cell_type": "code",
   "execution_count": 133,
   "metadata": {},
   "outputs": [],
   "source": [
    "cart_model = DecisionTreeRegressor()\n",
    "cart_model.fit(X_train, y_train)\n",
    "y_pred = cart_model.predict(X_test)"
   ]
  },
  {
   "cell_type": "code",
   "execution_count": 134,
   "metadata": {},
   "outputs": [
    {
     "data": {
      "text/plain": [
       "468.49579052913884"
      ]
     },
     "execution_count": 134,
     "metadata": {},
     "output_type": "execute_result"
    }
   ],
   "source": [
    "np.sqrt(mean_squared_error(y_test, y_pred))"
   ]
  },
  {
   "cell_type": "code",
   "execution_count": 135,
   "metadata": {},
   "outputs": [],
   "source": [
    "cart_params = {\"min_samples_split\": range(2,100),\n",
    "               \"max_leaf_nodes\": range(2,10)}"
   ]
  },
  {
   "cell_type": "code",
   "execution_count": 136,
   "metadata": {},
   "outputs": [],
   "source": [
    "cart_cv_model = GridSearchCV(cart_model, cart_params, cv = 10)"
   ]
  },
  {
   "cell_type": "code",
   "execution_count": 137,
   "metadata": {},
   "outputs": [
    {
     "data": {
      "text/plain": [
       "GridSearchCV(cv=10, estimator=DecisionTreeRegressor(),\n",
       "             param_grid={'max_leaf_nodes': range(2, 10),\n",
       "                         'min_samples_split': range(2, 100)})"
      ]
     },
     "execution_count": 137,
     "metadata": {},
     "output_type": "execute_result"
    }
   ],
   "source": [
    "cart_cv_model.fit(X_train, y_train)"
   ]
  },
  {
   "cell_type": "code",
   "execution_count": 138,
   "metadata": {},
   "outputs": [
    {
     "data": {
      "text/plain": [
       "{'max_leaf_nodes': 9, 'min_samples_split': 76}"
      ]
     },
     "execution_count": 138,
     "metadata": {},
     "output_type": "execute_result"
    }
   ],
   "source": [
    "cart_cv_model.best_params_"
   ]
  },
  {
   "cell_type": "code",
   "execution_count": 139,
   "metadata": {},
   "outputs": [],
   "source": [
    "cart_tuned = DecisionTreeRegressor(max_leaf_nodes = 9, min_samples_split = 76)"
   ]
  },
  {
   "cell_type": "code",
   "execution_count": 140,
   "metadata": {},
   "outputs": [
    {
     "data": {
      "text/plain": [
       "DecisionTreeRegressor(max_leaf_nodes=9, min_samples_split=76)"
      ]
     },
     "execution_count": 140,
     "metadata": {},
     "output_type": "execute_result"
    }
   ],
   "source": [
    "cart_tuned.fit(X_train, y_train)"
   ]
  },
  {
   "cell_type": "code",
   "execution_count": 141,
   "metadata": {},
   "outputs": [],
   "source": [
    "y_pred = cart_tuned.predict(X_test)"
   ]
  },
  {
   "cell_type": "code",
   "execution_count": 142,
   "metadata": {},
   "outputs": [
    {
     "data": {
      "text/plain": [
       "423.406689243066"
      ]
     },
     "execution_count": 142,
     "metadata": {},
     "output_type": "execute_result"
    }
   ],
   "source": [
    "np.sqrt(mean_squared_error(y_test, y_pred))"
   ]
  },
  {
   "cell_type": "markdown",
   "metadata": {},
   "source": [
    "# Bagged Trees Regresyon"
   ]
  },
  {
   "cell_type": "code",
   "execution_count": 150,
   "metadata": {},
   "outputs": [],
   "source": [
    "hit = pd.read_csv(\"Hitters.csv\")\n",
    "df = hit.copy()\n",
    "df = df.dropna()\n",
    "dms = pd.get_dummies(df[['League', 'Division', 'NewLeague']])\n",
    "y = df[\"Salary\"]\n",
    "X_ = df.drop(['Salary', 'League', 'Division', 'NewLeague'], axis=1).astype('float64')\n",
    "X = pd.concat([X_, dms[['League_N', 'Division_W', 'NewLeague_N']]], axis=1)\n",
    "X_train, X_test, y_train, y_test = train_test_split(X, y, \n",
    "                                                    test_size=0.25, \n",
    "                                                    random_state=42)\n"
   ]
  },
  {
   "cell_type": "code",
   "execution_count": 152,
   "metadata": {},
   "outputs": [
    {
     "data": {
      "text/plain": [
       "BaggingRegressor(bootstrap_features=True)"
      ]
     },
     "execution_count": 152,
     "metadata": {},
     "output_type": "execute_result"
    }
   ],
   "source": [
    "bag_model = BaggingRegressor(bootstrap_features = True)\n",
    "bag_model.fit(X_train, y_train)"
   ]
  },
  {
   "cell_type": "code",
   "execution_count": 178,
   "metadata": {},
   "outputs": [
    {
     "data": {
      "text/plain": [
       "10"
      ]
     },
     "execution_count": 178,
     "metadata": {},
     "output_type": "execute_result"
    }
   ],
   "source": [
    "bag_model.n_estimators"
   ]
  },
  {
   "cell_type": "code",
   "execution_count": 179,
   "metadata": {},
   "outputs": [
    {
     "data": {
      "text/plain": [
       "[DecisionTreeRegressor(random_state=1666058169),\n",
       " DecisionTreeRegressor(random_state=1693520395),\n",
       " DecisionTreeRegressor(random_state=631828119),\n",
       " DecisionTreeRegressor(random_state=13669423),\n",
       " DecisionTreeRegressor(random_state=1275587667),\n",
       " DecisionTreeRegressor(random_state=618836772),\n",
       " DecisionTreeRegressor(random_state=2126231130),\n",
       " DecisionTreeRegressor(random_state=1649860121),\n",
       " DecisionTreeRegressor(random_state=1378382291),\n",
       " DecisionTreeRegressor(random_state=1990479406)]"
      ]
     },
     "execution_count": 179,
     "metadata": {},
     "output_type": "execute_result"
    }
   ],
   "source": [
    "bag_model.estimators_"
   ]
  },
  {
   "cell_type": "code",
   "execution_count": 180,
   "metadata": {},
   "outputs": [
    {
     "data": {
      "text/plain": [
       "[array([120, 148,  57,  78, 191,  57,  69,  46,  65, 123,  21, 127, 182,\n",
       "          9, 159, 139,  52, 181, 113,  86, 192,  87,  18,  87,  83,  85,\n",
       "        113, 157, 112,  78,  99, 186,   4, 172, 155, 133,  37,  69,  86,\n",
       "        133, 127,  19, 148, 113, 174,  79,  94, 105,   3, 124,   1,  26,\n",
       "        136,  76,  99, 188, 149, 143,  83,  11,  71, 142, 196, 170,  13,\n",
       "         15,  92,  44,  53, 171,  41, 117, 174, 189, 120, 107,   9, 185,\n",
       "         98, 142, 137,  31,  15, 131,  89, 144, 189,  47, 190,  71,  25,\n",
       "        191, 136, 182,  77,  25,   6, 160,  16,  30, 133,  13, 161,  84,\n",
       "        123,   4,  19, 120, 169, 107,  56, 170, 128, 140, 117, 160,  91,\n",
       "        101, 186,  25,  64, 140, 168,  59, 168, 153, 196,  86, 164, 116,\n",
       "        139,  54,  78, 109, 184,  16, 106, 184, 176,  89, 172,  88, 141,\n",
       "         15, 100, 134,  56, 115,  64, 122, 187,  76,  23,  50, 101, 130,\n",
       "        126, 105, 181,   4,  70,  12, 190, 186,  62,  84,   0, 193,  68,\n",
       "        194,  15, 124,  28,  69, 148, 109,  69, 178,  80,  63,  33, 131,\n",
       "         70,  99, 106, 180, 106, 168,  25,  56, 195, 150,  44, 104,  72,\n",
       "         24, 125]),\n",
       " array([145, 112, 120,  39, 143,  60,  56, 163,   6, 115, 142,  45,  78,\n",
       "          0,  28, 151, 111,  94, 120, 125, 117, 192, 124, 140, 154, 193,\n",
       "        180, 151, 195,  34,  46,  55,  54,  77,   2,  26,  77,  28, 131,\n",
       "        157,  98, 118,  34,  44,  94, 152, 143,  74, 151,  35, 137, 116,\n",
       "         16,  32, 158, 178,  38, 151, 195, 151, 119,  37, 156,  67,  29,\n",
       "         84,  71,  95, 139, 187,  59,  23, 155, 142, 179, 135, 125,  23,\n",
       "        114,  28, 141,  38,  65,  92, 170,  64,  85, 119,  77,  19,  51,\n",
       "        111, 166,  80, 120,  79,   2,  28,  34, 155,  98, 103, 180, 154,\n",
       "         92, 169, 166, 105, 105,  93, 131, 168,  18, 165, 116,  67,  47,\n",
       "        111, 126,  57, 118, 165, 162,  13, 116, 181, 122, 121, 110,  22,\n",
       "         50, 184, 163, 116, 102,  58,  39, 146,  41, 175, 195, 185, 141,\n",
       "         83,  85,  50, 125, 135, 150, 100,   8,   4, 124, 121,  13,  77,\n",
       "         50, 173,  58, 137,  85, 157, 101,  93,   1, 107, 173,  43,  24,\n",
       "          7,  43, 141, 172,  14,  75,  77,  97, 164, 147,  16,  76,   0,\n",
       "        170, 131, 172, 174,  61,   8,  84,  96, 192, 108, 113,  46, 148,\n",
       "        188, 165]),\n",
       " array([ 18, 147, 118, 123, 176,  66,  40,  67, 162,  30,  30,   2,  34,\n",
       "        179,   4, 192,  80, 128,  17, 161, 175,  12, 165,  39, 137, 125,\n",
       "         26,   8, 141, 150, 172, 147, 147,  55,  52, 150, 156, 152, 108,\n",
       "        156, 131, 151,  24,  25, 143, 174,  71,  17, 162, 122, 137,  27,\n",
       "        117,  81,   8, 179,  20,  65,  52, 147,   0,  54,  47,   7,   7,\n",
       "         87,  35,  31,   6,  39, 143,  47,  34,  52,  11,  86, 196,  88,\n",
       "        103, 124,  49, 135,  41,  20,  15, 131, 142, 123,  69, 146, 119,\n",
       "        165,  51,  81,  77,  46, 113, 165, 144,  37, 130,   1,  86,  22,\n",
       "         62,  51,  23,   2, 173,  93,   8, 187,  44,  24,  70,  82, 133,\n",
       "         35, 182,   3, 108, 119, 180,  20, 171,  30,  59, 116,  90,  66,\n",
       "          6, 108, 150, 120,  45,  73, 132, 124,  33,  86, 101,   1, 185,\n",
       "         28,  94,  41, 163,  98, 129,   6, 115, 117,  69,  85,  47, 154,\n",
       "         53, 192, 120, 192, 141, 165, 160, 162,  11, 147,  24,  96, 182,\n",
       "        146,  44, 193,  37,  30,  81, 174, 180, 139,  91, 102,  82,  34,\n",
       "        143, 153,  87, 134, 178, 160, 164, 173, 113, 140,  54, 115, 168,\n",
       "        150, 107]),\n",
       " array([123,  54, 150,  38, 188,  73,  43, 189, 100,  40,  94, 135, 156,\n",
       "        191, 104,  99, 105,   3, 186,  69,  76, 134, 142,  75,  66, 150,\n",
       "         87,  63, 116, 147, 125, 133, 179,  51, 186,  75, 147,  41, 104,\n",
       "         87,  56, 115,  72,  52, 122,  85, 130, 135, 142, 127,  22, 193,\n",
       "        188,  75,  61, 147, 171, 166,  81,   0,  20, 142, 166,  37, 146,\n",
       "         34, 144, 183, 162,  51,  33,   7,  86, 101, 113,   8, 177, 143,\n",
       "        145, 156, 139, 178,  81, 190,  24,  27, 137, 162, 162, 126, 167,\n",
       "        138,  91, 117,  79, 118, 194,  51, 153,  66, 196, 158,  87,  58,\n",
       "        153, 183,  57, 122, 138, 142, 152, 163, 156, 167,  85, 170, 155,\n",
       "         74, 156,  64,  23,   6, 125, 177, 170,  41,  49,  44,  93, 136,\n",
       "        186, 178, 117,  45, 100, 183,  10, 136,  24,  48,   5, 150, 122,\n",
       "         19, 176,   4, 190, 185, 123,  53, 123, 134, 142,  41, 176,  98,\n",
       "         26, 159, 175,  68, 170,  30,  98,  67, 125, 194,  65,  65,  93,\n",
       "         25, 119, 190, 123, 111, 186,  79,  51, 159,  66, 103, 105, 191,\n",
       "        157,  99,  98, 166,  63,  80, 191, 134,  17, 125,  55, 101,   0,\n",
       "         80, 109]),\n",
       " array([165, 155, 154, 171, 143,  25,  89, 189, 138, 192,  49,  25, 157,\n",
       "         46,   5,  84, 171, 145, 187, 190,  90, 149,  94,  61, 160, 102,\n",
       "         34,  96,  74, 148,  26,  50, 185,  50,  46, 140, 122, 190, 139,\n",
       "         87,  43, 182, 105, 128,  92, 163,  51, 155,  26,  38, 105, 156,\n",
       "         12, 146,   4,  14,   6, 196,  92, 190,  11, 170,  14, 167,  43,\n",
       "         36,   7,  90,  76,  33, 196,  18,  80, 142,  15,  44, 166, 183,\n",
       "         28,  83, 111,  98, 122, 101, 172,  20,  29, 155,  81,  92,   0,\n",
       "        189, 176,  82,  87,   9,  24,  55,  37, 195,  77, 180,  75, 116,\n",
       "         77,  22, 141,  92, 130,  73,  22,  42, 175,  39, 145, 143, 158,\n",
       "        163, 133, 129, 181, 137,  98,   3,  80,  89, 149, 110, 135,  39,\n",
       "         11,  24,  32, 147,  53, 135,  50, 184,  60,  69, 148,  65,  16,\n",
       "          2,  63, 115,  20, 132,  35,  97, 162,  39, 127, 196, 191, 122,\n",
       "         11,  52,  18, 193, 159,  32, 102,  93, 155, 178,  73, 188, 115,\n",
       "        129,  29, 126, 139, 103, 182, 105, 185, 165, 178,  18,  38,   1,\n",
       "        138, 193, 103,  31, 144, 163,  24,   7,  32,   7,  65,  72, 163,\n",
       "        177, 123]),\n",
       " array([130, 156,  62,  47, 193, 120,  55, 135, 145,  32,  64, 106,  96,\n",
       "         52,  63, 177, 123, 150, 149, 185, 173,  87,  19, 182, 190, 101,\n",
       "        162,  92, 137, 104, 151, 184,  47,  43, 193, 155,  91, 147,  50,\n",
       "        143, 151,  78, 137, 157, 142, 176, 184, 141,  59, 130, 108, 181,\n",
       "        135,  75, 116, 180,  98, 174,   6, 130,  95, 128, 106,  28, 162,\n",
       "        125, 179,  16, 123,  50,  55, 102,  83,  35, 129, 147,  67, 101,\n",
       "        134,  48, 185, 112,  98, 151, 127, 114, 133, 137, 191, 166, 130,\n",
       "         28, 145, 143, 188, 183,  13, 163,  90,  33, 146,  36, 151, 187,\n",
       "         34, 151, 129, 135,  41, 178,  73,  98, 167,  94, 193,  35, 112,\n",
       "        187,  78,  32,  39, 130,  44, 190, 151,  12,  42, 196,  10, 158,\n",
       "         22,  51,  14,  24, 186,  50,  37,  87, 142, 124, 178, 190, 104,\n",
       "        183,  95,  43,  70, 160,  91, 102,  25,  91, 112,  53,  73, 102,\n",
       "        177,  26, 164,  70,   7, 135,  11, 153,  29,  83,  52, 180,  10,\n",
       "         50, 176,  23, 149,   1,  95, 177, 130, 169,  98, 166,  74,  71,\n",
       "        103,  54,  36, 150,  17, 148,  40, 180, 107,  11,   6,  12, 150,\n",
       "         56, 167]),\n",
       " array([176,  78, 134, 191, 123, 167,  42, 165,  15,   6, 142, 144,  70,\n",
       "          2,  58, 108,  32,   3,  77,  10,  98, 110, 134, 180,  62,  44,\n",
       "        151, 136, 126, 194,  60,  66, 136,   5,   8, 127,  53, 139, 175,\n",
       "         63,  54,  55, 152,  64,  30,  41,  92,  62, 165, 134,  39,  68,\n",
       "        128, 123,  39, 110, 154, 103, 151, 111, 106, 155, 167,   2,   1,\n",
       "        132,  98, 192, 166,  83, 102,  99, 142,  94,  50, 175, 188, 183,\n",
       "        113,   9,   6, 155, 140, 183, 133,  46, 151, 145,  83, 181,  23,\n",
       "        191,  56,  34, 191, 115, 195, 168, 110,  83, 102,  79,  74,  70,\n",
       "        179,  75, 170,  77,  25, 109, 163, 168,  35, 108,  67, 117, 163,\n",
       "          4, 103, 132,  44, 128,  35,  35,  47, 157,   5,  66, 126, 162,\n",
       "        185,  11,  66, 124,  62,  21, 140,  35, 128, 115, 135,  24, 126,\n",
       "        172, 120, 154,  83,  42, 108,  20, 140,  16, 182,  87,  12, 191,\n",
       "         14,  31, 128,  54,   5,  81, 193,  47, 147, 149, 192, 122,  17,\n",
       "         45, 149,  96,  18, 163, 163,  82, 143, 149,  39,  44, 101, 129,\n",
       "         80,  97,  21,  44,  74, 190,   3, 124,   1, 143, 117, 129,   4,\n",
       "        130, 186]),\n",
       " array([ 23, 145,  54, 158, 139,  36, 114,  52, 156,  30,  27, 122, 104,\n",
       "         25, 138, 135,  38, 149, 156, 192,   5, 180,  16,  36, 153, 122,\n",
       "        114,  90, 107, 135,  91,  26, 137, 163, 116, 168, 134, 159,  11,\n",
       "         95,  81, 142,  99,  89,  74,   0, 164,  25,  82, 138,  43,  58,\n",
       "        150,  55, 180, 183,  69,  48, 173, 158, 125,  93,   7,   3,   0,\n",
       "         11,  63,  45, 120,  55,  29,  22,  61, 118, 140, 168,  46, 130,\n",
       "        182, 106,  86,  22, 163, 172,  84, 193, 132,   3,  91,  23, 108,\n",
       "        158,  18, 166, 151, 108, 106,  54, 113, 150, 125,  27,  92, 134,\n",
       "         54, 135,  81, 154, 115, 145,  22, 106, 185,  32,  63, 106, 134,\n",
       "         96, 138,  61,  25, 157,  61,  93, 189,  98,  66, 134, 122,  38,\n",
       "         72,  27,  52,  29, 173, 163,  10, 154,  24,  64, 131, 149, 169,\n",
       "         44,  16, 142,   8, 194,  71,  79,   5,  27,  63, 166,  10, 149,\n",
       "        173,  93,  98,  49, 187, 196, 169,  82, 173,  24,  48,   4,  35,\n",
       "        130, 177,  10,  94, 131,  53, 195,  53,  55,  64,  18, 188, 142,\n",
       "          2,  62,  28,   6,  99, 131,   4,  33,  80, 140,  39, 128, 192,\n",
       "        116,  70]),\n",
       " array([ 81, 130, 101, 173, 195, 103,  10,   8,  40,  88, 193, 195, 124,\n",
       "        165, 174,  41,  46, 141, 155,  72, 162, 174, 167,  23,  97,  54,\n",
       "         27,  30, 166, 128, 120,  56,  48, 152,   2,   5,  53, 191,  25,\n",
       "         28, 120,  17, 184, 164, 121, 115, 153,  96,  51, 151,  44,  42,\n",
       "        154, 176,  11,  75,  82, 149, 136, 110, 151,  52,  44,  46, 167,\n",
       "        196, 117,  84,  90, 148, 161, 135,  87, 186,  93, 111, 117, 143,\n",
       "         32,  42, 127, 104, 117,  31,  53,  29, 187,  28, 192, 180,  60,\n",
       "        135,  76,  54, 151, 154, 104,   4,  41, 176,  88,  71,  34,  45,\n",
       "         71,  49, 137, 192, 172, 133,  36,  28,  98, 175, 183,  36,  71,\n",
       "        165, 173, 187,  95,  48, 105,  61, 154, 140, 143,  41,  33,  12,\n",
       "         17, 182,  87,  26, 177,  42, 146,   9,   7,  54, 114,  90,  41,\n",
       "         82, 105,  36,  10, 107,   4,  84, 100, 112, 116, 148, 195, 138,\n",
       "        154,  59,  95, 114,  74, 149, 156,  96,  62, 168,  38,  53,   0,\n",
       "         42, 176,  81,  33,  66,   7, 193,  28, 176,  96, 167,  95, 191,\n",
       "         56, 133, 144, 102, 185, 105,  90,  91,  96,  34, 163, 145, 127,\n",
       "          6, 189]),\n",
       " array([157, 180,  74, 184,  37,  58, 117,  23,   3, 127, 176, 115, 188,\n",
       "         99, 180, 168,  63,  15,  75, 168, 120, 186, 145,  87, 179, 100,\n",
       "        100,  55, 132, 133,  72,  99,   4,   9,  80,  41,  89, 115,  36,\n",
       "         77, 136, 130,  36, 148,  10,  32, 139,  86,  90, 184, 106, 184,\n",
       "        115,  28, 148,  34,   4, 158, 125,  41, 142,   9, 102, 178, 155,\n",
       "         53,  92, 107, 137, 157,  67, 126,  26, 150,  35, 134, 102,  56,\n",
       "        124, 117,  31, 107,  10,  35,  77,  69, 188, 145,  21,  84,  78,\n",
       "         46, 168, 114, 150,  16,  37, 169, 118,  13, 154, 123,  24,  77,\n",
       "        153, 100,  21,  37,  30, 119,  30,  61, 183,  15,  79, 161, 146,\n",
       "        150, 100,  81,   4,  31, 124,  97, 160, 151, 136,  86,  24,  34,\n",
       "          1,  78, 106,  67,  17,  17, 131,  73, 113, 124,  99, 194,  37,\n",
       "        133,  59,  17, 191, 170, 120, 125,  45,  38, 163,  13,  16,  78,\n",
       "        160,  54,  19, 173, 165,  46, 123,  98,  10, 185,  25, 182, 107,\n",
       "         93,  46, 190,  90,   0,  95,  99, 154,  34,  36,  69,  61,  33,\n",
       "          8, 124,  89,   7, 117,  33, 196,  13,  99,  54, 162,  41,  83,\n",
       "        161, 180])]"
      ]
     },
     "execution_count": 180,
     "metadata": {},
     "output_type": "execute_result"
    }
   ],
   "source": [
    "bag_model.estimators_samples_"
   ]
  },
  {
   "cell_type": "code",
   "execution_count": 181,
   "metadata": {},
   "outputs": [
    {
     "data": {
      "text/plain": [
       "[array([14, 13,  3,  6,  5, 10, 12, 18,  7,  8, 12, 11,  4,  0, 11, 17, 15,\n",
       "        17, 11]),\n",
       " array([11, 18, 16,  6, 17, 18,  2, 17,  7,  7,  7, 18, 12, 10,  4,  4,  5,\n",
       "        13,  2]),\n",
       " array([ 8, 18, 17,  9,  3,  8,  5, 15, 13,  8,  4, 10,  2,  6,  3,  2, 14,\n",
       "        10, 18]),\n",
       " array([15, 17,  6,  0, 11,  5, 12,  5,  7, 10,  8,  3, 13, 15, 12, 11, 17,\n",
       "         4,  2]),\n",
       " array([14, 12,  7, 16, 14, 13, 13,  8,  2,  6,  8, 13,  0,  5,  0, 13, 16,\n",
       "         3,  6]),\n",
       " array([ 4, 17,  5, 15,  4, 15, 17,  3, 13,  0,  0, 16,  3,  0, 15,  2, 14,\n",
       "        18, 18]),\n",
       " array([17,  6, 18, 11,  2,  4, 14,  2, 10,  9,  1,  2, 16, 13,  8, 16,  1,\n",
       "        11, 14]),\n",
       " array([ 6, 10, 12,  3,  5, 17,  3, 11, 18,  3,  7,  2, 12,  6,  1,  4, 12,\n",
       "        10, 11]),\n",
       " array([17,  2, 12, 14, 18,  1,  4,  0,  1,  0,  8,  1,  4, 17,  4,  5, 14,\n",
       "        16,  9]),\n",
       " array([14,  2,  5, 16,  0,  6,  5,  6, 15, 17, 16,  1, 17,  2,  5,  9,  2,\n",
       "        15, 16])]"
      ]
     },
     "execution_count": 181,
     "metadata": {},
     "output_type": "execute_result"
    }
   ],
   "source": [
    "bag_model.estimators_features_"
   ]
  },
  {
   "cell_type": "code",
   "execution_count": 182,
   "metadata": {},
   "outputs": [
    {
     "data": {
      "text/plain": [
       "DecisionTreeRegressor(random_state=1693520395)"
      ]
     },
     "execution_count": 182,
     "metadata": {},
     "output_type": "execute_result"
    }
   ],
   "source": [
    "bag_model.estimators_[1]"
   ]
  },
  {
   "cell_type": "markdown",
   "metadata": {},
   "source": [
    "## Tahmin"
   ]
  },
  {
   "cell_type": "code",
   "execution_count": 165,
   "metadata": {},
   "outputs": [],
   "source": [
    "y_pred = bag_model.predict(X_test)"
   ]
  },
  {
   "cell_type": "code",
   "execution_count": 166,
   "metadata": {},
   "outputs": [
    {
     "data": {
      "text/plain": [
       "362.22351700093566"
      ]
     },
     "execution_count": 166,
     "metadata": {},
     "output_type": "execute_result"
    }
   ],
   "source": [
    "np.sqrt(mean_squared_error(y_test, y_pred))"
   ]
  },
  {
   "cell_type": "code",
   "execution_count": 171,
   "metadata": {},
   "outputs": [],
   "source": [
    "iki_y_pred = bag_model.estimators_[2].fit(X_train, y_train).predict(X_test)"
   ]
  },
  {
   "cell_type": "code",
   "execution_count": 172,
   "metadata": {},
   "outputs": [
    {
     "data": {
      "text/plain": [
       "454.510326123554"
      ]
     },
     "execution_count": 172,
     "metadata": {},
     "output_type": "execute_result"
    }
   ],
   "source": [
    "np.sqrt(mean_squared_error(y_test, iki_y_pred))"
   ]
  },
  {
   "cell_type": "code",
   "execution_count": 173,
   "metadata": {},
   "outputs": [],
   "source": [
    "yedi_y_pred = bag_model.estimators_[7].fit(X_train, y_train).predict(X_test)"
   ]
  },
  {
   "cell_type": "code",
   "execution_count": 174,
   "metadata": {},
   "outputs": [
    {
     "data": {
      "text/plain": [
       "464.56256375632387"
      ]
     },
     "execution_count": 174,
     "metadata": {},
     "output_type": "execute_result"
    }
   ],
   "source": [
    "np.sqrt(mean_squared_error(y_test, yedi_y_pred))"
   ]
  },
  {
   "cell_type": "markdown",
   "metadata": {},
   "source": [
    "# Model Tuning"
   ]
  },
  {
   "cell_type": "code",
   "execution_count": 183,
   "metadata": {},
   "outputs": [
    {
     "data": {
      "text/plain": [
       "BaggingRegressor(bootstrap_features=True)"
      ]
     },
     "execution_count": 183,
     "metadata": {},
     "output_type": "execute_result"
    }
   ],
   "source": [
    "bag_model = BaggingRegressor(bootstrap_features = True)\n",
    "bag_model.fit(X_train, y_train)"
   ]
  },
  {
   "cell_type": "code",
   "execution_count": 184,
   "metadata": {},
   "outputs": [],
   "source": [
    "bag_params = {\"n_estimators\": range(2,20)}"
   ]
  },
  {
   "cell_type": "code",
   "execution_count": 192,
   "metadata": {},
   "outputs": [],
   "source": [
    "bag_cv_model = GridSearchCV(bag_model, bag_params, cv = 10)"
   ]
  },
  {
   "cell_type": "code",
   "execution_count": 193,
   "metadata": {},
   "outputs": [],
   "source": [
    "bag_cv_model2 = RandomizedSearchCV(bag_model, bag_params, cv = 10)"
   ]
  },
  {
   "cell_type": "code",
   "execution_count": 194,
   "metadata": {},
   "outputs": [
    {
     "data": {
      "text/plain": [
       "GridSearchCV(cv=10, estimator=BaggingRegressor(bootstrap_features=True),\n",
       "             param_grid={'n_estimators': range(2, 20)})"
      ]
     },
     "execution_count": 194,
     "metadata": {},
     "output_type": "execute_result"
    }
   ],
   "source": [
    "bag_cv_model.fit(X_train, y_train)"
   ]
  },
  {
   "cell_type": "code",
   "execution_count": 195,
   "metadata": {},
   "outputs": [
    {
     "data": {
      "text/plain": [
       "RandomizedSearchCV(cv=10, estimator=BaggingRegressor(bootstrap_features=True),\n",
       "                   param_distributions={'n_estimators': range(2, 20)})"
      ]
     },
     "execution_count": 195,
     "metadata": {},
     "output_type": "execute_result"
    }
   ],
   "source": [
    "bag_cv_model2.fit(X_train, y_train)"
   ]
  },
  {
   "cell_type": "code",
   "execution_count": 196,
   "metadata": {},
   "outputs": [
    {
     "data": {
      "text/plain": [
       "{'n_estimators': 18}"
      ]
     },
     "execution_count": 196,
     "metadata": {},
     "output_type": "execute_result"
    }
   ],
   "source": [
    "bag_cv_model.best_params_"
   ]
  },
  {
   "cell_type": "code",
   "execution_count": 198,
   "metadata": {},
   "outputs": [
    {
     "data": {
      "text/plain": [
       "{'n_estimators': 14}"
      ]
     },
     "execution_count": 198,
     "metadata": {},
     "output_type": "execute_result"
    }
   ],
   "source": [
    "bag_cv_model2.best_params_"
   ]
  },
  {
   "cell_type": "code",
   "execution_count": 200,
   "metadata": {},
   "outputs": [],
   "source": [
    "bag_tuned = BaggingRegressor( n_estimators = 18)"
   ]
  },
  {
   "cell_type": "code",
   "execution_count": 201,
   "metadata": {},
   "outputs": [
    {
     "data": {
      "text/plain": [
       "BaggingRegressor(n_estimators=18)"
      ]
     },
     "execution_count": 201,
     "metadata": {},
     "output_type": "execute_result"
    }
   ],
   "source": [
    "bag_tuned.fit(X_train, y_train)"
   ]
  },
  {
   "cell_type": "code",
   "execution_count": 202,
   "metadata": {},
   "outputs": [],
   "source": [
    "y_pred = bag_tuned.predict(X_test)"
   ]
  },
  {
   "cell_type": "code",
   "execution_count": 203,
   "metadata": {},
   "outputs": [
    {
     "data": {
      "text/plain": [
       "372.0783058003454"
      ]
     },
     "execution_count": 203,
     "metadata": {},
     "output_type": "execute_result"
    }
   ],
   "source": [
    "np.sqrt(mean_squared_error(y_test, y_pred))"
   ]
  },
  {
   "cell_type": "markdown",
   "metadata": {},
   "source": [
    "# Random Forests"
   ]
  },
  {
   "cell_type": "code",
   "execution_count": 204,
   "metadata": {},
   "outputs": [],
   "source": [
    "hit = pd.read_csv(\"Hitters.csv\")\n",
    "df = hit.copy()\n",
    "df = df.dropna()\n",
    "dms = pd.get_dummies(df[['League', 'Division', 'NewLeague']])\n",
    "y = df[\"Salary\"]\n",
    "X_ = df.drop(['Salary', 'League', 'Division', 'NewLeague'], axis=1).astype('float64')\n",
    "X = pd.concat([X_, dms[['League_N', 'Division_W', 'NewLeague_N']]], axis=1)\n",
    "X_train, X_test, y_train, y_test = train_test_split(X, y, \n",
    "                                                    test_size=0.25, \n",
    "                                                    random_state=42)\n"
   ]
  },
  {
   "cell_type": "code",
   "execution_count": 205,
   "metadata": {},
   "outputs": [],
   "source": [
    "from sklearn.ensemble import RandomForestRegressor"
   ]
  },
  {
   "cell_type": "code",
   "execution_count": 206,
   "metadata": {},
   "outputs": [],
   "source": [
    "rf_model = RandomForestRegressor(random_state = 42)"
   ]
  },
  {
   "cell_type": "code",
   "execution_count": 207,
   "metadata": {},
   "outputs": [
    {
     "data": {
      "text/plain": [
       "RandomForestRegressor(random_state=42)"
      ]
     },
     "execution_count": 207,
     "metadata": {},
     "output_type": "execute_result"
    }
   ],
   "source": [
    "rf_model.fit(X_train, y_train)"
   ]
  },
  {
   "cell_type": "markdown",
   "metadata": {},
   "source": [
    "## Tahmin"
   ]
  },
  {
   "cell_type": "code",
   "execution_count": 208,
   "metadata": {},
   "outputs": [
    {
     "data": {
      "text/plain": [
       "array([ 738.69167,  913.51164, 1181.145  ,  139.65167,  634.60833])"
      ]
     },
     "execution_count": 208,
     "metadata": {},
     "output_type": "execute_result"
    }
   ],
   "source": [
    "rf_model.predict(X_test)[0:5]"
   ]
  },
  {
   "cell_type": "code",
   "execution_count": 209,
   "metadata": {},
   "outputs": [],
   "source": [
    "y_pred = rf_model.predict(X_test)"
   ]
  },
  {
   "cell_type": "code",
   "execution_count": 210,
   "metadata": {},
   "outputs": [
    {
     "data": {
      "text/plain": [
       "344.8191624908484"
      ]
     },
     "execution_count": 210,
     "metadata": {},
     "output_type": "execute_result"
    }
   ],
   "source": [
    "np.sqrt(mean_squared_error(y_test, y_pred))"
   ]
  },
  {
   "cell_type": "markdown",
   "metadata": {},
   "source": [
    "## Model Tuning"
   ]
  },
  {
   "cell_type": "code",
   "execution_count": 211,
   "metadata": {},
   "outputs": [],
   "source": [
    "rf_params = {'max_depth': list(range(1,10)),\n",
    "            'max_features': [3,5,10,15],\n",
    "            'n_estimators' : [100, 200, 500, 1000, 2000]}"
   ]
  },
  {
   "cell_type": "code",
   "execution_count": 212,
   "metadata": {},
   "outputs": [],
   "source": [
    "rf_model = RandomForestRegressor(random_state = 42)"
   ]
  },
  {
   "cell_type": "code",
   "execution_count": 213,
   "metadata": {},
   "outputs": [],
   "source": [
    "rf_cv_model = GridSearchCV(rf_model, \n",
    "                           rf_params, \n",
    "                           cv = 10, \n",
    "                            n_jobs = -1)"
   ]
  },
  {
   "cell_type": "code",
   "execution_count": 214,
   "metadata": {},
   "outputs": [
    {
     "data": {
      "text/plain": [
       "GridSearchCV(cv=10, estimator=RandomForestRegressor(random_state=42), n_jobs=-1,\n",
       "             param_grid={'max_depth': [1, 2, 3, 4, 5, 6, 7, 8, 9],\n",
       "                         'max_features': [3, 5, 10, 15],\n",
       "                         'n_estimators': [100, 200, 500, 1000, 2000]})"
      ]
     },
     "execution_count": 214,
     "metadata": {},
     "output_type": "execute_result"
    }
   ],
   "source": [
    "rf_cv_model.fit(X_train, y_train)"
   ]
  },
  {
   "cell_type": "code",
   "execution_count": 215,
   "metadata": {},
   "outputs": [
    {
     "data": {
      "text/plain": [
       "{'max_depth': 8, 'max_features': 3, 'n_estimators': 200}"
      ]
     },
     "execution_count": 215,
     "metadata": {},
     "output_type": "execute_result"
    }
   ],
   "source": [
    "rf_cv_model.best_params_"
   ]
  },
  {
   "cell_type": "code",
   "execution_count": 216,
   "metadata": {},
   "outputs": [],
   "source": [
    "rf_tuned = RandomForestRegressor(max_depth  = 8, \n",
    "                                 max_features = 3, \n",
    "                                 n_estimators =200)"
   ]
  },
  {
   "cell_type": "code",
   "execution_count": 217,
   "metadata": {},
   "outputs": [
    {
     "data": {
      "text/plain": [
       "RandomForestRegressor(max_depth=8, max_features=3, n_estimators=200)"
      ]
     },
     "execution_count": 217,
     "metadata": {},
     "output_type": "execute_result"
    }
   ],
   "source": [
    "rf_tuned.fit(X_train, y_train)"
   ]
  },
  {
   "cell_type": "code",
   "execution_count": 218,
   "metadata": {},
   "outputs": [],
   "source": [
    "y_pred = rf_tuned.predict(X_test)"
   ]
  },
  {
   "cell_type": "code",
   "execution_count": 219,
   "metadata": {},
   "outputs": [
    {
     "data": {
      "text/plain": [
       "341.8762457751007"
      ]
     },
     "execution_count": 219,
     "metadata": {},
     "output_type": "execute_result"
    }
   ],
   "source": [
    "np.sqrt(mean_squared_error(y_test, y_pred))"
   ]
  },
  {
   "cell_type": "code",
   "execution_count": 220,
   "metadata": {},
   "outputs": [],
   "source": [
    "Importance = pd.DataFrame({\"Importance\": rf_tuned.feature_importances_*100},\n",
    "                         index = X_train.columns)"
   ]
  },
  {
   "cell_type": "code",
   "execution_count": 221,
   "metadata": {},
   "outputs": [
    {
     "data": {
      "text/plain": [
       "Text(0.5, 0, 'Değişken Önem Düzeyleri')"
      ]
     },
     "execution_count": 221,
     "metadata": {},
     "output_type": "execute_result"
    },
    {
     "data": {
      "image/png": "[encoded data removed]",
      "text/plain": [
       "<Figure size 432x288 with 1 Axes>"
      ]
     },
     "metadata": {
      "needs_background": "light"
     },
     "output_type": "display_data"
    }
   ],
   "source": [
    "Importance.sort_values(by = \"Importance\", \n",
    "                       axis = 0, \n",
    "                       ascending = True).plot(kind =\"barh\", color = \"r\")\n",
    "\n",
    "plt.xlabel(\"Değişken Önem Düzeyleri\")"
   ]
  },
  {
   "cell_type": "markdown",
   "metadata": {},
   "source": [
    "# Gradient Boosting Machines"
   ]
  },
  {
   "cell_type": "code",
   "execution_count": 222,
   "metadata": {},
   "outputs": [],
   "source": [
    "from sklearn.ensemble import GradientBoostingRegressor"
   ]
  },
  {
   "cell_type": "code",
   "execution_count": 223,
   "metadata": {},
   "outputs": [
    {
     "data": {
      "text/plain": [
       "GradientBoostingRegressor()"
      ]
     },
     "execution_count": 223,
     "metadata": {},
     "output_type": "execute_result"
    }
   ],
   "source": [
    "gbm_model = GradientBoostingRegressor()\n",
    "gbm_model.fit(X_train, y_train)"
   ]
  },
  {
   "cell_type": "markdown",
   "metadata": {},
   "source": [
    "## Tahmin"
   ]
  },
  {
   "cell_type": "code",
   "execution_count": 224,
   "metadata": {},
   "outputs": [
    {
     "data": {
      "text/plain": [
       "348.5800379809503"
      ]
     },
     "execution_count": 224,
     "metadata": {},
     "output_type": "execute_result"
    }
   ],
   "source": [
    "y_pred = gbm_model.predict(X_test)\n",
    "np.sqrt(mean_squared_error(y_test, y_pred))"
   ]
  },
  {
   "cell_type": "markdown",
   "metadata": {},
   "source": [
    "## Model Tuning"
   ]
  },
  {
   "cell_type": "code",
   "execution_count": 225,
   "metadata": {},
   "outputs": [],
   "source": [
    "gbm_params = {\n",
    "    'learning_rate': [0.001, 0.01, 0.1, 0.2],\n",
    "    'max_depth': [3, 5, 8,50,100],\n",
    "    'n_estimators': [200, 500, 1000, 2000],\n",
    "    'subsample': [1,0.5,0.75],\n",
    "}"
   ]
  },
  {
   "cell_type": "code",
   "execution_count": 226,
   "metadata": {},
   "outputs": [
    {
     "name": "stdout",
     "output_type": "stream",
     "text": [
      "Fitting 10 folds for each of 240 candidates, totalling 2400 fits\n"
     ]
    },
    {
     "data": {
      "text/plain": [
       "GridSearchCV(cv=10, estimator=GradientBoostingRegressor(), n_jobs=-1,\n",
       "             param_grid={'learning_rate': [0.001, 0.01, 0.1, 0.2],\n",
       "                         'max_depth': [3, 5, 8, 50, 100],\n",
       "                         'n_estimators': [200, 500, 1000, 2000],\n",
       "                         'subsample': [1, 0.5, 0.75]},\n",
       "             verbose=2)"
      ]
     },
     "execution_count": 226,
     "metadata": {},
     "output_type": "execute_result"
    }
   ],
   "source": [
    "gbm = GradientBoostingRegressor()\n",
    "gbm_cv_model = GridSearchCV(gbm, gbm_params, cv = 10, n_jobs = -1, verbose = 2)\n",
    "gbm_cv_model.fit(X_train, y_train)"
   ]
  },
  {
   "cell_type": "code",
   "execution_count": 227,
   "metadata": {},
   "outputs": [
    {
     "data": {
      "text/plain": [
       "{'learning_rate': 0.2, 'max_depth': 3, 'n_estimators': 500, 'subsample': 0.75}"
      ]
     },
     "execution_count": 227,
     "metadata": {},
     "output_type": "execute_result"
    }
   ],
   "source": [
    "gbm_cv_model.best_params_"
   ]
  },
  {
   "cell_type": "code",
   "execution_count": 228,
   "metadata": {},
   "outputs": [],
   "source": [
    "gbm_tuned = GradientBoostingRegressor(learning_rate = 0.1,  \n",
    "                                      max_depth = 5, \n",
    "                                      n_estimators = 200, \n",
    "                                      subsample = 0.5)\n",
    "\n",
    "gbm_tuned = gbm_tuned.fit(X_train,y_train)"
   ]
  },
  {
   "cell_type": "code",
   "execution_count": 229,
   "metadata": {},
   "outputs": [
    {
     "data": {
      "text/plain": [
       "330.83559221632004"
      ]
     },
     "execution_count": 229,
     "metadata": {},
     "output_type": "execute_result"
    }
   ],
   "source": [
    "y_pred = gbm_tuned.predict(X_test)\n",
    "np.sqrt(mean_squared_error(y_test, y_pred))"
   ]
  },
  {
   "cell_type": "code",
   "execution_count": 230,
   "metadata": {},
   "outputs": [],
   "source": [
    "Importance = pd.DataFrame({\"Importance\": gbm_tuned.feature_importances_*100},\n",
    "                         index = X_train.columns)"
   ]
  },
  {
   "cell_type": "code",
   "execution_count": 231,
   "metadata": {},
   "outputs": [
    {
     "data": {
      "text/plain": [
       "Text(0.5, 0, 'Değişken Önem Düzeyleri')"
      ]
     },
     "execution_count": 231,
     "metadata": {},
     "output_type": "execute_result"
    },
    {
     "data": {
      "image/png": "[encoded data removed]",
      "text/plain": [
       "<Figure size 432x288 with 1 Axes>"
      ]
     },
     "metadata": {
      "needs_background": "light"
     },
     "output_type": "display_data"
    }
   ],
   "source": [
    "Importance.sort_values(by = \"Importance\", \n",
    "                       axis = 0, \n",
    "                       ascending = True).plot(kind =\"barh\", color = \"r\")\n",
    "\n",
    "plt.xlabel(\"Değişken Önem Düzeyleri\")"
   ]
  },
  {
   "cell_type": "markdown",
   "metadata": {},
   "source": [
    "# XGBoost"
   ]
  },
  {
   "cell_type": "code",
   "execution_count": 232,
   "metadata": {},
   "outputs": [],
   "source": [
    "hit = pd.read_csv(\"Hitters.csv\")\n",
    "df = hit.copy()\n",
    "df = df.dropna()\n",
    "dms = pd.get_dummies(df[['League', 'Division', 'NewLeague']])\n",
    "y = df[\"Salary\"]\n",
    "X_ = df.drop(['Salary', 'League', 'Division', 'NewLeague'], axis=1).astype('float64')\n",
    "X = pd.concat([X_, dms[['League_N', 'Division_W', 'NewLeague_N']]], axis=1)\n",
    "X_train, X_test, y_train, y_test = train_test_split(X, y, \n",
    "                                                    test_size=0.25, \n",
    "                                                    random_state=42)\n"
   ]
  },
  {
   "cell_type": "code",
   "execution_count": 233,
   "metadata": {},
   "outputs": [],
   "source": [
    "#!pip install xgboost"
   ]
  },
  {
   "cell_type": "code",
   "execution_count": 234,
   "metadata": {},
   "outputs": [],
   "source": [
    "import xgboost as xgb"
   ]
  },
  {
   "cell_type": "code",
   "execution_count": 235,
   "metadata": {},
   "outputs": [],
   "source": [
    "DM_train = xgb.DMatrix(data = X_train, label = y_train)\n",
    "DM_test = xgb.DMatrix(data = X_test, label = y_test)"
   ]
  },
  {
   "cell_type": "code",
   "execution_count": 236,
   "metadata": {},
   "outputs": [],
   "source": [
    "from xgboost import XGBRegressor"
   ]
  },
  {
   "cell_type": "code",
   "execution_count": 237,
   "metadata": {},
   "outputs": [],
   "source": [
    "xgb_model = XGBRegressor().fit(X_train, y_train)"
   ]
  },
  {
   "cell_type": "markdown",
   "metadata": {},
   "source": [
    "## Tahmin"
   ]
  },
  {
   "cell_type": "code",
   "execution_count": 238,
   "metadata": {},
   "outputs": [
    {
     "data": {
      "text/plain": [
       "355.46515176059927"
      ]
     },
     "execution_count": 238,
     "metadata": {},
     "output_type": "execute_result"
    }
   ],
   "source": [
    "y_pred = xgb_model.predict(X_test)\n",
    "np.sqrt(mean_squared_error(y_test, y_pred))"
   ]
  },
  {
   "cell_type": "markdown",
   "metadata": {},
   "source": [
    "## Model Tuning"
   ]
  },
  {
   "cell_type": "code",
   "execution_count": 239,
   "metadata": {},
   "outputs": [
    {
     "data": {
      "text/plain": [
       "XGBRegressor(base_score=0.5, booster='gbtree', colsample_bylevel=1,\n",
       "             colsample_bynode=1, colsample_bytree=1, enable_categorical=False,\n",
       "             gamma=0, gpu_id=-1, importance_type=None,\n",
       "             interaction_constraints='', learning_rate=0.300000012,\n",
       "             max_delta_step=0, max_depth=6, min_child_weight=1, missing=nan,\n",
       "             monotone_constraints='()', n_estimators=100, n_jobs=4,\n",
       "             num_parallel_tree=1, predictor='auto', random_state=0, reg_alpha=0,\n",
       "             reg_lambda=1, scale_pos_weight=1, subsample=1, tree_method='exact',\n",
       "             validate_parameters=1, verbosity=None)"
      ]
     },
     "execution_count": 239,
     "metadata": {},
     "output_type": "execute_result"
    }
   ],
   "source": [
    "xgb_model"
   ]
  },
  {
   "cell_type": "code",
   "execution_count": 240,
   "metadata": {},
   "outputs": [],
   "source": [
    "xgb_grid = {\n",
    "     'colsample_bytree': [0.4, 0.5,0.6,0.9,1], \n",
    "     'n_estimators':[100, 200, 500, 1000],\n",
    "     'max_depth': [2,3,4,5,6],\n",
    "     'learning_rate': [0.1, 0.01, 0.5]\n",
    "}\n"
   ]
  },
  {
   "cell_type": "code",
   "execution_count": 241,
   "metadata": {},
   "outputs": [
    {
     "name": "stdout",
     "output_type": "stream",
     "text": [
      "Fitting 10 folds for each of 300 candidates, totalling 3000 fits\n"
     ]
    },
    {
     "data": {
      "text/plain": [
       "GridSearchCV(cv=10,\n",
       "             estimator=XGBRegressor(base_score=None, booster=None,\n",
       "                                    colsample_bylevel=None,\n",
       "                                    colsample_bynode=None,\n",
       "                                    colsample_bytree=None,\n",
       "                                    enable_categorical=False, gamma=None,\n",
       "                                    gpu_id=None, importance_type=None,\n",
       "                                    interaction_constraints=None,\n",
       "                                    learning_rate=None, max_delta_step=None,\n",
       "                                    max_depth=None, min_child_weight=None,\n",
       "                                    missing=nan, monotone_constraints=None,\n",
       "                                    n_estimators=100, n_jobs=None,\n",
       "                                    num_parallel_tree=None, predictor=None,\n",
       "                                    random_state=None, reg_alpha=None,\n",
       "                                    reg_lambda=None, scale_pos_weight=None,\n",
       "                                    subsample=None, tree_method=None,\n",
       "                                    validate_parameters=None, verbosity=None),\n",
       "             n_jobs=-1,\n",
       "             param_grid={'colsample_bytree': [0.4, 0.5, 0.6, 0.9, 1],\n",
       "                         'learning_rate': [0.1, 0.01, 0.5],\n",
       "                         'max_depth': [2, 3, 4, 5, 6],\n",
       "                         'n_estimators': [100, 200, 500, 1000]},\n",
       "             verbose=2)"
      ]
     },
     "execution_count": 241,
     "metadata": {},
     "output_type": "execute_result"
    }
   ],
   "source": [
    "xgb = XGBRegressor()\n",
    "\n",
    "xgb_cv = GridSearchCV(xgb, \n",
    "                      param_grid = xgb_grid, \n",
    "                      cv = 10, \n",
    "                      n_jobs = -1,\n",
    "                      verbose = 2)\n",
    "\n",
    "\n",
    "xgb_cv.fit(X_train, y_train)"
   ]
  },
  {
   "cell_type": "code",
   "execution_count": 242,
   "metadata": {},
   "outputs": [
    {
     "data": {
      "text/plain": [
       "{'colsample_bytree': 0.5,\n",
       " 'learning_rate': 0.1,\n",
       " 'max_depth': 2,\n",
       " 'n_estimators': 500}"
      ]
     },
     "execution_count": 242,
     "metadata": {},
     "output_type": "execute_result"
    }
   ],
   "source": [
    "xgb_cv.best_params_"
   ]
  },
  {
   "cell_type": "code",
   "execution_count": 243,
   "metadata": {},
   "outputs": [],
   "source": [
    "xgb_tuned = XGBRegressor(colsample_bytree = 0.9, \n",
    "                         learning_rate = 0.01, \n",
    "                         max_depth = 5, \n",
    "                         n_estimators = 1000) \n",
    "\n",
    "xgb_tuned = xgb_tuned.fit(X_train,y_train)"
   ]
  },
  {
   "cell_type": "code",
   "execution_count": 244,
   "metadata": {},
   "outputs": [
    {
     "data": {
      "text/plain": [
       "360.4180975078934"
      ]
     },
     "execution_count": 244,
     "metadata": {},
     "output_type": "execute_result"
    }
   ],
   "source": [
    "y_pred = xgb_tuned.predict(X_test)\n",
    "np.sqrt(mean_squared_error(y_test, y_pred))"
   ]
  },
  {
   "cell_type": "markdown",
   "metadata": {},
   "source": [
    "# Light GBM"
   ]
  },
  {
   "cell_type": "code",
   "execution_count": 245,
   "metadata": {},
   "outputs": [],
   "source": [
    "hit = pd.read_csv(\"Hitters.csv\")\n",
    "df = hit.copy()\n",
    "df = df.dropna()\n",
    "dms = pd.get_dummies(df[['League', 'Division', 'NewLeague']])\n",
    "y = df[\"Salary\"]\n",
    "X_ = df.drop(['Salary', 'League', 'Division', 'NewLeague'], axis=1).astype('float64')\n",
    "X = pd.concat([X_, dms[['League_N', 'Division_W', 'NewLeague_N']]], axis=1)\n",
    "X_train, X_test, y_train, y_test = train_test_split(X, y, \n",
    "                                                    test_size=0.25, \n",
    "                                                    random_state=42)\n"
   ]
  },
  {
   "cell_type": "code",
   "execution_count": 246,
   "metadata": {},
   "outputs": [],
   "source": [
    "#!pip install lightgbm"
   ]
  },
  {
   "cell_type": "code",
   "execution_count": 247,
   "metadata": {},
   "outputs": [],
   "source": [
    "from lightgbm import LGBMRegressor"
   ]
  },
  {
   "cell_type": "code",
   "execution_count": 248,
   "metadata": {},
   "outputs": [],
   "source": [
    "#conda install -c conda-forge lightgbm"
   ]
  },
  {
   "cell_type": "code",
   "execution_count": 249,
   "metadata": {},
   "outputs": [],
   "source": [
    "from lightgbm import LGBMRegressor"
   ]
  },
  {
   "cell_type": "code",
   "execution_count": 250,
   "metadata": {},
   "outputs": [],
   "source": [
    "lgbm = LGBMRegressor()\n",
    "lgbm_model = lgbm.fit(X_train, y_train)"
   ]
  },
  {
   "cell_type": "markdown",
   "metadata": {},
   "source": [
    "## Tahmin"
   ]
  },
  {
   "cell_type": "code",
   "execution_count": 251,
   "metadata": {},
   "outputs": [],
   "source": [
    "y_pred = lgbm_model.predict(X_test, \n",
    "                            num_iteration = lgbm_model.best_iteration_)"
   ]
  },
  {
   "cell_type": "code",
   "execution_count": 252,
   "metadata": {},
   "outputs": [
    {
     "data": {
      "text/plain": [
       "363.8712087611089"
      ]
     },
     "execution_count": 252,
     "metadata": {},
     "output_type": "execute_result"
    }
   ],
   "source": [
    "np.sqrt(mean_squared_error(y_test, y_pred))"
   ]
  },
  {
   "cell_type": "markdown",
   "metadata": {},
   "source": [
    "## Model Tuning"
   ]
  },
  {
   "cell_type": "code",
   "execution_count": 253,
   "metadata": {},
   "outputs": [
    {
     "data": {
      "text/plain": [
       "LGBMRegressor()"
      ]
     },
     "execution_count": 253,
     "metadata": {},
     "output_type": "execute_result"
    }
   ],
   "source": [
    "lgbm_model"
   ]
  },
  {
   "cell_type": "code",
   "execution_count": 254,
   "metadata": {},
   "outputs": [],
   "source": [
    "lgbm_grid = {\n",
    "    'colsample_bytree': [0.4, 0.5,0.6,0.9,1],\n",
    "    'learning_rate': [0.01, 0.1, 0.5,1],\n",
    "    'n_estimators': [20, 40, 100, 200, 500,1000],\n",
    "    'max_depth': [1,2,3,4,5,6,7,8] }\n",
    "\n",
    "lgbm = LGBMRegressor()\n",
    "lgbm_cv_model = GridSearchCV(lgbm, lgbm_grid, cv=10, n_jobs = -1, verbose = 2)"
   ]
  },
  {
   "cell_type": "code",
   "execution_count": 255,
   "metadata": {},
   "outputs": [
    {
     "name": "stdout",
     "output_type": "stream",
     "text": [
      "Fitting 10 folds for each of 960 candidates, totalling 9600 fits\n"
     ]
    },
    {
     "data": {
      "text/plain": [
       "GridSearchCV(cv=10, estimator=LGBMRegressor(), n_jobs=-1,\n",
       "             param_grid={'colsample_bytree': [0.4, 0.5, 0.6, 0.9, 1],\n",
       "                         'learning_rate': [0.01, 0.1, 0.5, 1],\n",
       "                         'max_depth': [1, 2, 3, 4, 5, 6, 7, 8],\n",
       "                         'n_estimators': [20, 40, 100, 200, 500, 1000]},\n",
       "             verbose=2)"
      ]
     },
     "execution_count": 255,
     "metadata": {},
     "output_type": "execute_result"
    }
   ],
   "source": [
    "lgbm_cv_model.fit(X_train, y_train)"
   ]
  },
  {
   "cell_type": "code",
   "execution_count": 256,
   "metadata": {},
   "outputs": [
    {
     "data": {
      "text/plain": [
       "{'colsample_bytree': 0.5,\n",
       " 'learning_rate': 0.1,\n",
       " 'max_depth': 6,\n",
       " 'n_estimators': 20}"
      ]
     },
     "execution_count": 256,
     "metadata": {},
     "output_type": "execute_result"
    }
   ],
   "source": [
    "lgbm_cv_model.best_params_"
   ]
  },
  {
   "cell_type": "code",
   "execution_count": 257,
   "metadata": {},
   "outputs": [],
   "source": [
    "lgbm_tuned = LGBMRegressor(learning_rate = 0.1, \n",
    "                           max_depth = 7, \n",
    "                           n_estimators = 40,\n",
    "                          colsample_bytree = 0.6)\n",
    "\n",
    "lgbm_tuned = lgbm_tuned.fit(X_train,y_train)"
   ]
  },
  {
   "cell_type": "code",
   "execution_count": 258,
   "metadata": {},
   "outputs": [],
   "source": [
    "y_pred = lgbm_tuned.predict(X_test)"
   ]
  },
  {
   "cell_type": "code",
   "execution_count": 259,
   "metadata": {},
   "outputs": [
    {
     "data": {
      "text/plain": [
       "372.7342551250238"
      ]
     },
     "execution_count": 259,
     "metadata": {},
     "output_type": "execute_result"
    }
   ],
   "source": [
    "np.sqrt(mean_squared_error(y_test, y_pred))"
   ]
  },
  {
   "cell_type": "markdown",
   "metadata": {},
   "source": [
    "# CatBoost"
   ]
  },
  {
   "cell_type": "code",
   "execution_count": 260,
   "metadata": {},
   "outputs": [],
   "source": [
    "hit = pd.read_csv(\"Hitters.csv\")\n",
    "df = hit.copy()\n",
    "df = df.dropna()\n",
    "dms = pd.get_dummies(df[['League', 'Division', 'NewLeague']])\n",
    "y = df[\"Salary\"]\n",
    "X_ = df.drop(['Salary', 'League', 'Division', 'NewLeague'], axis=1).astype('float64')\n",
    "X = pd.concat([X_, dms[['League_N', 'Division_W', 'NewLeague_N']]], axis=1)\n",
    "X_train, X_test, y_train, y_test = train_test_split(X, y, \n",
    "                                                    test_size=0.25, \n",
    "                                                    random_state=42)\n"
   ]
  },
  {
   "cell_type": "code",
   "execution_count": 261,
   "metadata": {},
   "outputs": [
    {
     "name": "stdout",
     "output_type": "stream",
     "text": [
      "Requirement already satisfied: catboost in c:\\users\\a\\appdata\\local\\programs\\python\\python39\\lib\\site-packages (1.0.3)\n",
      "Requirement already satisfied: graphviz in c:\\users\\a\\appdata\\local\\programs\\python\\python39\\lib\\site-packages (from catboost) (0.19.1)\n",
      "Requirement already satisfied: matplotlib in c:\\users\\a\\appdata\\local\\programs\\python\\python39\\lib\\site-packages (from catboost) (3.4.3)\n",
      "Requirement already satisfied: numpy>=1.16.0 in c:\\users\\a\\appdata\\local\\programs\\python\\python39\\lib\\site-packages (from catboost) (1.21.3)\n",
      "Requirement already satisfied: pandas>=0.24.0 in c:\\users\\a\\appdata\\local\\programs\\python\\python39\\lib\\site-packages (from catboost) (1.3.4)\n",
      "Requirement already satisfied: scipy in c:\\users\\a\\appdata\\local\\programs\\python\\python39\\lib\\site-packages (from catboost) (1.7.1)\n",
      "Requirement already satisfied: plotly in c:\\users\\a\\appdata\\local\\programs\\python\\python39\\lib\\site-packages (from catboost) (5.4.0)\n",
      "Requirement already satisfied: six in c:\\users\\a\\appdata\\roaming\\python\\python39\\site-packages (from catboost) (1.15.0)\n",
      "Requirement already satisfied: python-dateutil>=2.7.3 in c:\\users\\a\\appdata\\roaming\\python\\python39\\site-packages (from pandas>=0.24.0->catboost) (2.8.1)\n",
      "Requirement already satisfied: pytz>=2017.3 in c:\\users\\a\\appdata\\local\\programs\\python\\python39\\lib\\site-packages (from pandas>=0.24.0->catboost) (2021.3)\n",
      "Requirement already satisfied: cycler>=0.10 in c:\\users\\a\\appdata\\local\\programs\\python\\python39\\lib\\site-packages (from matplotlib->catboost) (0.10.0)\n",
      "Requirement already satisfied: kiwisolver>=1.0.1 in c:\\users\\a\\appdata\\local\\programs\\python\\python39\\lib\\site-packages (from matplotlib->catboost) (1.3.2)\n",
      "Requirement already satisfied: pillow>=6.2.0 in c:\\users\\a\\appdata\\local\\programs\\python\\python39\\lib\\site-packages (from matplotlib->catboost) (8.4.0)\n",
      "Requirement already satisfied: pyparsing>=2.2.1 in c:\\users\\a\\appdata\\local\\programs\\python\\python39\\lib\\site-packages (from matplotlib->catboost) (3.1.1)\n",
      "Requirement already satisfied: tenacity>=6.2.0 in c:\\users\\a\\appdata\\local\\programs\\python\\python39\\lib\\site-packages (from plotly->catboost) (8.0.1)\n"
     ]
    },
    {
     "name": "stderr",
     "output_type": "stream",
     "text": [
      "WARNING: Ignoring invalid distribution -ymongo (c:\\users\\a\\appdata\\local\\programs\\python\\python39\\lib\\site-packages)\n",
      "WARNING: Ignoring invalid distribution -ymongo (c:\\users\\a\\appdata\\local\\programs\\python\\python39\\lib\\site-packages)\n"
     ]
    }
   ],
   "source": [
    "!pip install catboost"
   ]
  },
  {
   "cell_type": "code",
   "execution_count": 262,
   "metadata": {},
   "outputs": [],
   "source": [
    "from catboost import CatBoostRegressor"
   ]
  },
  {
   "cell_type": "code",
   "execution_count": 263,
   "metadata": {},
   "outputs": [
    {
     "name": "stdout",
     "output_type": "stream",
     "text": [
      "Learning rate set to 0.031674\n",
      "0:\tlearn: 437.6430699\ttotal: 211ms\tremaining: 3m 31s\n",
      "1:\tlearn: 431.3923642\ttotal: 223ms\tremaining: 1m 51s\n",
      "2:\tlearn: 424.8820360\ttotal: 229ms\tremaining: 1m 16s\n",
      "3:\tlearn: 418.2514904\ttotal: 236ms\tremaining: 58.8s\n",
      "4:\tlearn: 412.6394021\ttotal: 242ms\tremaining: 48.1s\n",
      "5:\tlearn: 406.6247020\ttotal: 253ms\tremaining: 41.9s\n",
      "6:\tlearn: 400.5321206\ttotal: 258ms\tremaining: 36.5s\n",
      "7:\tlearn: 394.6683437\ttotal: 264ms\tremaining: 32.7s\n",
      "8:\tlearn: 388.2496484\ttotal: 269ms\tremaining: 29.6s\n",
      "9:\tlearn: 382.9448842\ttotal: 274ms\tremaining: 27.2s\n",
      "10:\tlearn: 377.2600080\ttotal: 281ms\tremaining: 25.3s\n",
      "11:\tlearn: 372.4829606\ttotal: 287ms\tremaining: 23.6s\n",
      "12:\tlearn: 366.6823437\ttotal: 294ms\tremaining: 22.3s\n",
      "13:\tlearn: 362.6076230\ttotal: 302ms\tremaining: 21.3s\n",
      "14:\tlearn: 358.0107745\ttotal: 309ms\tremaining: 20.3s\n",
      "15:\tlearn: 353.2802665\ttotal: 315ms\tremaining: 19.4s\n",
      "16:\tlearn: 348.5646265\ttotal: 320ms\tremaining: 18.5s\n",
      "17:\tlearn: 343.6407912\ttotal: 343ms\tremaining: 18.7s\n",
      "18:\tlearn: 339.2363847\ttotal: 352ms\tremaining: 18.2s\n",
      "19:\tlearn: 334.3431252\ttotal: 359ms\tremaining: 17.6s\n",
      "20:\tlearn: 330.3247028\ttotal: 366ms\tremaining: 17.1s\n",
      "21:\tlearn: 326.6118334\ttotal: 375ms\tremaining: 16.7s\n",
      "22:\tlearn: 322.7759981\ttotal: 383ms\tremaining: 16.3s\n",
      "23:\tlearn: 318.9511822\ttotal: 388ms\tremaining: 15.8s\n",
      "24:\tlearn: 315.4216253\ttotal: 393ms\tremaining: 15.3s\n",
      "25:\tlearn: 311.3551377\ttotal: 399ms\tremaining: 14.9s\n",
      "26:\tlearn: 308.1492371\ttotal: 404ms\tremaining: 14.6s\n",
      "27:\tlearn: 304.7284729\ttotal: 413ms\tremaining: 14.3s\n",
      "28:\tlearn: 301.3893204\ttotal: 417ms\tremaining: 14s\n",
      "29:\tlearn: 298.2080758\ttotal: 425ms\tremaining: 13.7s\n",
      "30:\tlearn: 295.6878398\ttotal: 429ms\tremaining: 13.4s\n",
      "31:\tlearn: 292.3912243\ttotal: 434ms\tremaining: 13.1s\n",
      "32:\tlearn: 289.6345744\ttotal: 440ms\tremaining: 12.9s\n",
      "33:\tlearn: 287.2158711\ttotal: 444ms\tremaining: 12.6s\n",
      "34:\tlearn: 284.3879081\ttotal: 448ms\tremaining: 12.4s\n",
      "35:\tlearn: 281.7994818\ttotal: 461ms\tremaining: 12.3s\n",
      "36:\tlearn: 279.2028261\ttotal: 470ms\tremaining: 12.2s\n",
      "37:\tlearn: 276.5821160\ttotal: 479ms\tremaining: 12.1s\n",
      "38:\tlearn: 273.8890894\ttotal: 484ms\tremaining: 11.9s\n",
      "39:\tlearn: 271.1681677\ttotal: 491ms\tremaining: 11.8s\n",
      "40:\tlearn: 269.0159531\ttotal: 497ms\tremaining: 11.6s\n",
      "41:\tlearn: 266.3601804\ttotal: 506ms\tremaining: 11.5s\n",
      "42:\tlearn: 263.8608958\ttotal: 510ms\tremaining: 11.4s\n",
      "43:\tlearn: 261.1405566\ttotal: 514ms\tremaining: 11.2s\n",
      "44:\tlearn: 258.9314736\ttotal: 522ms\tremaining: 11.1s\n",
      "45:\tlearn: 256.3885577\ttotal: 529ms\tremaining: 11s\n",
      "46:\tlearn: 254.2857349\ttotal: 536ms\tremaining: 10.9s\n",
      "47:\tlearn: 252.2347121\ttotal: 540ms\tremaining: 10.7s\n",
      "48:\tlearn: 250.1779367\ttotal: 545ms\tremaining: 10.6s\n",
      "49:\tlearn: 248.2687430\ttotal: 549ms\tremaining: 10.4s\n",
      "50:\tlearn: 246.3685582\ttotal: 553ms\tremaining: 10.3s\n",
      "51:\tlearn: 244.8719988\ttotal: 557ms\tremaining: 10.2s\n",
      "52:\tlearn: 242.7348892\ttotal: 564ms\tremaining: 10.1s\n",
      "53:\tlearn: 241.1611112\ttotal: 568ms\tremaining: 9.94s\n",
      "54:\tlearn: 239.4819462\ttotal: 572ms\tremaining: 9.82s\n",
      "55:\tlearn: 237.3877895\ttotal: 577ms\tremaining: 9.73s\n",
      "56:\tlearn: 235.7619262\ttotal: 581ms\tremaining: 9.62s\n",
      "57:\tlearn: 233.9604804\ttotal: 585ms\tremaining: 9.5s\n",
      "58:\tlearn: 232.4948011\ttotal: 655ms\tremaining: 10.4s\n",
      "59:\tlearn: 230.6283304\ttotal: 663ms\tremaining: 10.4s\n",
      "60:\tlearn: 228.9920307\ttotal: 672ms\tremaining: 10.3s\n",
      "61:\tlearn: 227.5197637\ttotal: 679ms\tremaining: 10.3s\n",
      "62:\tlearn: 226.0561213\ttotal: 712ms\tremaining: 10.6s\n",
      "63:\tlearn: 224.3484762\ttotal: 745ms\tremaining: 10.9s\n",
      "64:\tlearn: 223.0652023\ttotal: 752ms\tremaining: 10.8s\n",
      "65:\tlearn: 221.6608069\ttotal: 756ms\tremaining: 10.7s\n",
      "66:\tlearn: 220.2445284\ttotal: 760ms\tremaining: 10.6s\n",
      "67:\tlearn: 219.0044262\ttotal: 767ms\tremaining: 10.5s\n",
      "68:\tlearn: 217.4624313\ttotal: 770ms\tremaining: 10.4s\n",
      "69:\tlearn: 216.0502248\ttotal: 774ms\tremaining: 10.3s\n",
      "70:\tlearn: 214.5361705\ttotal: 783ms\tremaining: 10.2s\n",
      "71:\tlearn: 213.1812509\ttotal: 788ms\tremaining: 10.2s\n",
      "72:\tlearn: 211.7399390\ttotal: 797ms\tremaining: 10.1s\n",
      "73:\tlearn: 210.5557639\ttotal: 802ms\tremaining: 10s\n",
      "74:\tlearn: 209.4242283\ttotal: 809ms\tremaining: 9.98s\n",
      "75:\tlearn: 208.4366109\ttotal: 815ms\tremaining: 9.91s\n",
      "76:\tlearn: 207.4514860\ttotal: 819ms\tremaining: 9.82s\n",
      "77:\tlearn: 206.1912213\ttotal: 831ms\tremaining: 9.82s\n",
      "78:\tlearn: 205.2585316\ttotal: 835ms\tremaining: 9.74s\n",
      "79:\tlearn: 203.8747879\ttotal: 846ms\tremaining: 9.73s\n",
      "80:\tlearn: 202.5993031\ttotal: 857ms\tremaining: 9.72s\n",
      "81:\tlearn: 201.4719061\ttotal: 863ms\tremaining: 9.66s\n",
      "82:\tlearn: 200.2871874\ttotal: 877ms\tremaining: 9.69s\n",
      "83:\tlearn: 199.1074683\ttotal: 889ms\tremaining: 9.7s\n",
      "84:\tlearn: 197.8511342\ttotal: 893ms\tremaining: 9.61s\n",
      "85:\tlearn: 196.8788042\ttotal: 900ms\tremaining: 9.57s\n",
      "86:\tlearn: 195.9815130\ttotal: 905ms\tremaining: 9.49s\n",
      "87:\tlearn: 195.0807956\ttotal: 909ms\tremaining: 9.42s\n",
      "88:\tlearn: 193.9775466\ttotal: 916ms\tremaining: 9.37s\n",
      "89:\tlearn: 192.8810426\ttotal: 920ms\tremaining: 9.3s\n",
      "90:\tlearn: 192.5363626\ttotal: 924ms\tremaining: 9.23s\n",
      "91:\tlearn: 191.3259849\ttotal: 929ms\tremaining: 9.17s\n",
      "92:\tlearn: 190.3650025\ttotal: 933ms\tremaining: 9.1s\n",
      "93:\tlearn: 189.3255643\ttotal: 937ms\tremaining: 9.03s\n",
      "94:\tlearn: 188.2433480\ttotal: 942ms\tremaining: 8.97s\n",
      "95:\tlearn: 187.2786096\ttotal: 947ms\tremaining: 8.91s\n",
      "96:\tlearn: 186.1284681\ttotal: 951ms\tremaining: 8.85s\n",
      "97:\tlearn: 185.0190872\ttotal: 959ms\tremaining: 8.83s\n",
      "98:\tlearn: 184.2888024\ttotal: 963ms\tremaining: 8.77s\n",
      "99:\tlearn: 183.3111217\ttotal: 967ms\tremaining: 8.71s\n",
      "100:\tlearn: 182.2519940\ttotal: 972ms\tremaining: 8.65s\n",
      "101:\tlearn: 181.0186200\ttotal: 976ms\tremaining: 8.59s\n",
      "102:\tlearn: 179.9672344\ttotal: 980ms\tremaining: 8.53s\n",
      "103:\tlearn: 178.9776753\ttotal: 985ms\tremaining: 8.49s\n",
      "104:\tlearn: 178.2445101\ttotal: 989ms\tremaining: 8.43s\n",
      "105:\tlearn: 177.4055906\ttotal: 995ms\tremaining: 8.39s\n",
      "106:\tlearn: 176.2405445\ttotal: 1s\tremaining: 8.35s\n",
      "107:\tlearn: 175.1813091\ttotal: 1s\tremaining: 8.3s\n",
      "108:\tlearn: 174.5537682\ttotal: 1.01s\tremaining: 8.25s\n",
      "109:\tlearn: 173.8231890\ttotal: 1.01s\tremaining: 8.21s\n",
      "110:\tlearn: 172.9324461\ttotal: 1.02s\tremaining: 8.16s\n",
      "111:\tlearn: 172.0019421\ttotal: 1.02s\tremaining: 8.1s\n",
      "112:\tlearn: 171.2945678\ttotal: 1.02s\tremaining: 8.05s\n",
      "113:\tlearn: 170.4815313\ttotal: 1.03s\tremaining: 8s\n",
      "114:\tlearn: 169.9491294\ttotal: 1.03s\tremaining: 7.95s\n",
      "115:\tlearn: 169.2483859\ttotal: 1.04s\tremaining: 7.9s\n",
      "116:\tlearn: 168.7342383\ttotal: 1.04s\tremaining: 7.89s\n",
      "117:\tlearn: 168.1837140\ttotal: 1.05s\tremaining: 7.85s\n",
      "118:\tlearn: 167.1222358\ttotal: 1.06s\tremaining: 7.83s\n",
      "119:\tlearn: 166.3472734\ttotal: 1.06s\tremaining: 7.79s\n",
      "120:\tlearn: 165.5330342\ttotal: 1.07s\tremaining: 7.78s\n",
      "121:\tlearn: 164.8476246\ttotal: 1.08s\tremaining: 7.75s\n",
      "122:\tlearn: 164.2399797\ttotal: 1.09s\tremaining: 7.75s\n",
      "123:\tlearn: 164.0121571\ttotal: 1.09s\tremaining: 7.72s\n",
      "124:\tlearn: 162.9794212\ttotal: 1.1s\tremaining: 7.67s\n",
      "125:\tlearn: 162.2095741\ttotal: 1.1s\tremaining: 7.65s\n",
      "126:\tlearn: 161.1695920\ttotal: 1.11s\tremaining: 7.62s\n",
      "127:\tlearn: 160.3516612\ttotal: 1.12s\tremaining: 7.61s\n",
      "128:\tlearn: 159.1596356\ttotal: 1.12s\tremaining: 7.57s\n",
      "129:\tlearn: 158.5354394\ttotal: 1.12s\tremaining: 7.53s\n",
      "130:\tlearn: 157.5922383\ttotal: 1.13s\tremaining: 7.5s\n",
      "131:\tlearn: 156.9689796\ttotal: 1.14s\tremaining: 7.47s\n",
      "132:\tlearn: 156.4170623\ttotal: 1.14s\tremaining: 7.43s\n",
      "133:\tlearn: 156.1222595\ttotal: 1.15s\tremaining: 7.41s\n",
      "134:\tlearn: 155.5996569\ttotal: 1.15s\tremaining: 7.37s\n",
      "135:\tlearn: 154.8990155\ttotal: 1.16s\tremaining: 7.34s\n",
      "136:\tlearn: 154.3704896\ttotal: 1.16s\tremaining: 7.33s\n",
      "137:\tlearn: 153.8560012\ttotal: 1.17s\tremaining: 7.29s\n",
      "138:\tlearn: 153.2399938\ttotal: 1.17s\tremaining: 7.26s\n",
      "139:\tlearn: 152.2142414\ttotal: 1.18s\tremaining: 7.28s\n",
      "140:\tlearn: 151.5976950\ttotal: 1.19s\tremaining: 7.28s\n",
      "141:\tlearn: 151.4426506\ttotal: 1.2s\tremaining: 7.24s\n",
      "142:\tlearn: 150.8467135\ttotal: 1.2s\tremaining: 7.21s\n",
      "143:\tlearn: 150.0175883\ttotal: 1.21s\tremaining: 7.21s\n",
      "144:\tlearn: 149.6327647\ttotal: 1.22s\tremaining: 7.22s\n",
      "145:\tlearn: 148.9265718\ttotal: 1.23s\tremaining: 7.2s\n",
      "146:\tlearn: 148.4460764\ttotal: 1.23s\tremaining: 7.16s\n",
      "147:\tlearn: 147.8108318\ttotal: 1.24s\tremaining: 7.16s\n",
      "148:\tlearn: 147.2766525\ttotal: 1.25s\tremaining: 7.17s\n",
      "149:\tlearn: 146.8537279\ttotal: 1.27s\tremaining: 7.18s\n",
      "150:\tlearn: 146.0227438\ttotal: 1.28s\tremaining: 7.18s\n",
      "151:\tlearn: 145.5603059\ttotal: 1.28s\tremaining: 7.17s\n",
      "152:\tlearn: 145.0318400\ttotal: 1.29s\tremaining: 7.13s\n",
      "153:\tlearn: 144.6082188\ttotal: 1.3s\tremaining: 7.12s\n",
      "154:\tlearn: 144.2070501\ttotal: 1.3s\tremaining: 7.09s\n",
      "155:\tlearn: 143.8060676\ttotal: 1.3s\tremaining: 7.06s\n",
      "156:\tlearn: 143.3819707\ttotal: 1.31s\tremaining: 7.04s\n",
      "157:\tlearn: 143.0764402\ttotal: 1.31s\tremaining: 7s\n",
      "158:\tlearn: 142.4609449\ttotal: 1.32s\tremaining: 6.97s\n",
      "159:\tlearn: 142.3321970\ttotal: 1.32s\tremaining: 6.95s\n",
      "160:\tlearn: 141.9044208\ttotal: 1.33s\tremaining: 6.92s\n",
      "161:\tlearn: 141.4544471\ttotal: 1.33s\tremaining: 6.89s\n",
      "162:\tlearn: 140.9391569\ttotal: 1.34s\tremaining: 6.89s\n",
      "163:\tlearn: 140.3413557\ttotal: 1.35s\tremaining: 6.87s\n",
      "164:\tlearn: 139.7992277\ttotal: 1.35s\tremaining: 6.86s\n",
      "165:\tlearn: 139.3139418\ttotal: 1.36s\tremaining: 6.83s\n",
      "166:\tlearn: 139.1617594\ttotal: 1.36s\tremaining: 6.8s\n",
      "167:\tlearn: 138.8837397\ttotal: 1.37s\tremaining: 6.78s\n",
      "168:\tlearn: 138.6951410\ttotal: 1.37s\tremaining: 6.76s\n",
      "169:\tlearn: 138.0167618\ttotal: 1.38s\tremaining: 6.73s\n",
      "170:\tlearn: 137.7020324\ttotal: 1.39s\tremaining: 6.72s\n",
      "171:\tlearn: 137.1976478\ttotal: 1.39s\tremaining: 6.7s\n",
      "172:\tlearn: 136.6670434\ttotal: 1.4s\tremaining: 6.69s\n",
      "173:\tlearn: 136.4670074\ttotal: 1.41s\tremaining: 6.68s\n",
      "174:\tlearn: 136.0663779\ttotal: 1.42s\tremaining: 6.67s\n",
      "175:\tlearn: 135.9542221\ttotal: 1.42s\tremaining: 6.65s\n",
      "176:\tlearn: 135.6178437\ttotal: 1.43s\tremaining: 6.64s\n",
      "177:\tlearn: 134.6062854\ttotal: 1.45s\tremaining: 6.7s\n",
      "178:\tlearn: 134.5063344\ttotal: 1.45s\tremaining: 6.67s\n",
      "179:\tlearn: 133.9371247\ttotal: 1.47s\tremaining: 6.68s\n",
      "180:\tlearn: 133.8431589\ttotal: 1.47s\tremaining: 6.65s\n",
      "181:\tlearn: 133.4293648\ttotal: 1.48s\tremaining: 6.64s\n",
      "182:\tlearn: 133.2065999\ttotal: 1.49s\tremaining: 6.65s\n",
      "183:\tlearn: 132.9235113\ttotal: 1.49s\tremaining: 6.62s\n",
      "184:\tlearn: 132.6695944\ttotal: 1.5s\tremaining: 6.6s\n",
      "185:\tlearn: 132.3135234\ttotal: 1.5s\tremaining: 6.58s\n",
      "186:\tlearn: 132.2233433\ttotal: 1.51s\tremaining: 6.55s\n",
      "187:\tlearn: 132.0628764\ttotal: 1.51s\tremaining: 6.52s\n",
      "188:\tlearn: 131.8624217\ttotal: 1.51s\tremaining: 6.5s\n",
      "189:\tlearn: 131.3846390\ttotal: 1.52s\tremaining: 6.48s\n",
      "190:\tlearn: 131.0638781\ttotal: 1.52s\tremaining: 6.46s\n",
      "191:\tlearn: 130.4721276\ttotal: 1.53s\tremaining: 6.43s\n",
      "192:\tlearn: 129.9910319\ttotal: 1.53s\tremaining: 6.41s\n",
      "193:\tlearn: 129.7074214\ttotal: 1.54s\tremaining: 6.39s\n",
      "194:\tlearn: 129.0491404\ttotal: 1.54s\tremaining: 6.37s\n",
      "195:\tlearn: 128.6928621\ttotal: 1.55s\tremaining: 6.35s\n",
      "196:\tlearn: 128.5117514\ttotal: 1.55s\tremaining: 6.34s\n",
      "197:\tlearn: 128.4035709\ttotal: 1.57s\tremaining: 6.34s\n",
      "198:\tlearn: 127.9924182\ttotal: 1.57s\tremaining: 6.33s\n",
      "199:\tlearn: 127.7690317\ttotal: 1.58s\tremaining: 6.32s\n",
      "200:\tlearn: 127.6252249\ttotal: 1.58s\tremaining: 6.3s\n",
      "201:\tlearn: 127.4951417\ttotal: 1.59s\tremaining: 6.28s\n",
      "202:\tlearn: 127.0315349\ttotal: 1.59s\tremaining: 6.26s\n",
      "203:\tlearn: 126.7791475\ttotal: 1.6s\tremaining: 6.24s\n",
      "204:\tlearn: 126.4903107\ttotal: 1.6s\tremaining: 6.22s\n",
      "205:\tlearn: 126.0664803\ttotal: 1.61s\tremaining: 6.2s\n",
      "206:\tlearn: 125.3934071\ttotal: 1.61s\tremaining: 6.18s\n",
      "207:\tlearn: 125.0899622\ttotal: 1.62s\tremaining: 6.16s\n",
      "208:\tlearn: 124.7757310\ttotal: 1.62s\tremaining: 6.14s\n",
      "209:\tlearn: 124.5475960\ttotal: 1.63s\tremaining: 6.12s\n",
      "210:\tlearn: 124.1962887\ttotal: 1.63s\tremaining: 6.1s\n",
      "211:\tlearn: 123.9686937\ttotal: 1.63s\tremaining: 6.08s\n",
      "212:\tlearn: 123.0280048\ttotal: 1.64s\tremaining: 6.05s\n",
      "213:\tlearn: 122.5447141\ttotal: 1.64s\tremaining: 6.03s\n",
      "214:\tlearn: 122.1785305\ttotal: 1.65s\tremaining: 6.01s\n",
      "215:\tlearn: 121.4403560\ttotal: 1.66s\tremaining: 6.01s\n",
      "216:\tlearn: 120.8269584\ttotal: 1.66s\tremaining: 5.99s\n",
      "217:\tlearn: 120.2399329\ttotal: 1.67s\tremaining: 5.98s\n",
      "218:\tlearn: 119.4852557\ttotal: 1.67s\tremaining: 5.96s\n",
      "219:\tlearn: 119.2094151\ttotal: 1.68s\tremaining: 5.94s\n",
      "220:\tlearn: 119.0417229\ttotal: 1.68s\tremaining: 5.93s\n",
      "221:\tlearn: 118.9557915\ttotal: 1.69s\tremaining: 5.91s\n",
      "222:\tlearn: 118.3082421\ttotal: 1.69s\tremaining: 5.89s\n",
      "223:\tlearn: 117.7364211\ttotal: 1.7s\tremaining: 5.88s\n",
      "224:\tlearn: 117.6324235\ttotal: 1.7s\tremaining: 5.86s\n",
      "225:\tlearn: 117.2879743\ttotal: 1.7s\tremaining: 5.84s\n",
      "226:\tlearn: 117.0422612\ttotal: 1.71s\tremaining: 5.82s\n",
      "227:\tlearn: 116.8001379\ttotal: 1.71s\tremaining: 5.8s\n",
      "228:\tlearn: 116.4854978\ttotal: 1.72s\tremaining: 5.78s\n",
      "229:\tlearn: 115.7559740\ttotal: 1.72s\tremaining: 5.76s\n",
      "230:\tlearn: 115.1896271\ttotal: 1.73s\tremaining: 5.75s\n",
      "231:\tlearn: 114.9666291\ttotal: 1.73s\tremaining: 5.73s\n",
      "232:\tlearn: 114.1239318\ttotal: 1.74s\tremaining: 5.72s\n",
      "233:\tlearn: 113.9964466\ttotal: 1.74s\tremaining: 5.7s\n",
      "234:\tlearn: 113.8912592\ttotal: 1.75s\tremaining: 5.68s\n",
      "235:\tlearn: 113.4606970\ttotal: 1.75s\tremaining: 5.67s\n",
      "236:\tlearn: 113.0958922\ttotal: 1.75s\tremaining: 5.65s\n",
      "237:\tlearn: 113.0091361\ttotal: 1.76s\tremaining: 5.63s\n",
      "238:\tlearn: 112.7657197\ttotal: 1.76s\tremaining: 5.61s\n",
      "239:\tlearn: 112.2315070\ttotal: 1.77s\tremaining: 5.6s\n",
      "240:\tlearn: 111.9507125\ttotal: 1.77s\tremaining: 5.58s\n",
      "241:\tlearn: 111.7384492\ttotal: 1.78s\tremaining: 5.57s\n",
      "242:\tlearn: 111.0693763\ttotal: 1.78s\tremaining: 5.55s\n",
      "243:\tlearn: 110.3499926\ttotal: 1.79s\tremaining: 5.54s\n",
      "244:\tlearn: 110.2316231\ttotal: 1.79s\tremaining: 5.52s\n",
      "245:\tlearn: 109.6985998\ttotal: 1.8s\tremaining: 5.51s\n",
      "246:\tlearn: 109.4279824\ttotal: 1.8s\tremaining: 5.49s\n",
      "247:\tlearn: 109.1466762\ttotal: 1.8s\tremaining: 5.47s\n",
      "248:\tlearn: 108.9628542\ttotal: 1.81s\tremaining: 5.46s\n",
      "249:\tlearn: 108.7268676\ttotal: 1.81s\tremaining: 5.45s\n",
      "250:\tlearn: 108.0921190\ttotal: 1.82s\tremaining: 5.43s\n",
      "251:\tlearn: 107.6167844\ttotal: 1.82s\tremaining: 5.42s\n",
      "252:\tlearn: 106.9716563\ttotal: 1.83s\tremaining: 5.4s\n",
      "253:\tlearn: 106.4272485\ttotal: 1.83s\tremaining: 5.39s\n",
      "254:\tlearn: 106.2032614\ttotal: 1.84s\tremaining: 5.38s\n",
      "255:\tlearn: 105.5756794\ttotal: 1.84s\tremaining: 5.36s\n",
      "256:\tlearn: 105.4918649\ttotal: 1.85s\tremaining: 5.34s\n",
      "257:\tlearn: 105.2466976\ttotal: 1.85s\tremaining: 5.33s\n",
      "258:\tlearn: 105.0461428\ttotal: 1.86s\tremaining: 5.31s\n",
      "259:\tlearn: 104.5887628\ttotal: 1.86s\tremaining: 5.29s\n",
      "260:\tlearn: 104.1305873\ttotal: 1.86s\tremaining: 5.28s\n",
      "261:\tlearn: 103.5527158\ttotal: 1.87s\tremaining: 5.28s\n",
      "262:\tlearn: 103.0334823\ttotal: 1.88s\tremaining: 5.28s\n",
      "263:\tlearn: 102.6732388\ttotal: 1.89s\tremaining: 5.28s\n",
      "264:\tlearn: 102.4678728\ttotal: 1.9s\tremaining: 5.28s\n",
      "265:\tlearn: 101.9608852\ttotal: 1.91s\tremaining: 5.27s\n",
      "266:\tlearn: 101.4449668\ttotal: 1.92s\tremaining: 5.26s\n",
      "267:\tlearn: 100.9647899\ttotal: 1.92s\tremaining: 5.25s\n",
      "268:\tlearn: 100.4376357\ttotal: 1.93s\tremaining: 5.23s\n",
      "269:\tlearn: 100.1038322\ttotal: 1.93s\tremaining: 5.22s\n",
      "270:\tlearn: 99.8991183\ttotal: 1.94s\tremaining: 5.21s\n",
      "271:\tlearn: 99.4016031\ttotal: 1.94s\tremaining: 5.19s\n",
      "272:\tlearn: 98.9231252\ttotal: 1.94s\tremaining: 5.18s\n",
      "273:\tlearn: 98.5734863\ttotal: 1.95s\tremaining: 5.16s\n",
      "274:\tlearn: 98.3333355\ttotal: 1.95s\tremaining: 5.15s\n",
      "275:\tlearn: 97.9164082\ttotal: 1.96s\tremaining: 5.14s\n",
      "276:\tlearn: 97.3911203\ttotal: 1.96s\tremaining: 5.12s\n",
      "277:\tlearn: 96.9317789\ttotal: 1.97s\tremaining: 5.11s\n",
      "278:\tlearn: 96.6243997\ttotal: 1.97s\tremaining: 5.1s\n",
      "279:\tlearn: 96.3288821\ttotal: 1.98s\tremaining: 5.08s\n",
      "280:\tlearn: 95.8579534\ttotal: 1.98s\tremaining: 5.07s\n",
      "281:\tlearn: 95.4136026\ttotal: 1.98s\tremaining: 5.05s\n",
      "282:\tlearn: 95.3442077\ttotal: 1.99s\tremaining: 5.04s\n",
      "283:\tlearn: 95.1166584\ttotal: 1.99s\tremaining: 5.02s\n",
      "284:\tlearn: 94.8017360\ttotal: 2s\tremaining: 5.01s\n",
      "285:\tlearn: 94.5863908\ttotal: 2s\tremaining: 5s\n",
      "286:\tlearn: 94.4111694\ttotal: 2s\tremaining: 4.98s\n",
      "287:\tlearn: 94.2678024\ttotal: 2.01s\tremaining: 4.97s\n",
      "288:\tlearn: 93.7753419\ttotal: 2.02s\tremaining: 4.96s\n",
      "289:\tlearn: 93.3772710\ttotal: 2.02s\tremaining: 4.95s\n",
      "290:\tlearn: 92.8750904\ttotal: 2.02s\tremaining: 4.93s\n",
      "291:\tlearn: 92.6654794\ttotal: 2.03s\tremaining: 4.92s\n",
      "292:\tlearn: 92.2659876\ttotal: 2.03s\tremaining: 4.91s\n",
      "293:\tlearn: 92.0282495\ttotal: 2.04s\tremaining: 4.89s\n",
      "294:\tlearn: 91.8288855\ttotal: 2.04s\tremaining: 4.88s\n",
      "295:\tlearn: 91.6752612\ttotal: 2.05s\tremaining: 4.87s\n",
      "296:\tlearn: 91.2561883\ttotal: 2.05s\tremaining: 4.86s\n",
      "297:\tlearn: 91.0227123\ttotal: 2.06s\tremaining: 4.85s\n",
      "298:\tlearn: 90.8392142\ttotal: 2.06s\tremaining: 4.84s\n",
      "299:\tlearn: 90.6853014\ttotal: 2.07s\tremaining: 4.82s\n",
      "300:\tlearn: 90.5986761\ttotal: 2.07s\tremaining: 4.81s\n",
      "301:\tlearn: 90.2180036\ttotal: 2.08s\tremaining: 4.8s\n",
      "302:\tlearn: 89.8313622\ttotal: 2.08s\tremaining: 4.79s\n",
      "303:\tlearn: 89.6872837\ttotal: 2.09s\tremaining: 4.78s\n",
      "304:\tlearn: 89.3853276\ttotal: 2.09s\tremaining: 4.76s\n",
      "305:\tlearn: 88.9459206\ttotal: 2.09s\tremaining: 4.75s\n",
      "306:\tlearn: 88.7258770\ttotal: 2.1s\tremaining: 4.73s\n",
      "307:\tlearn: 88.5374358\ttotal: 2.1s\tremaining: 4.73s\n",
      "308:\tlearn: 88.0624447\ttotal: 2.11s\tremaining: 4.72s\n",
      "309:\tlearn: 87.7942692\ttotal: 2.12s\tremaining: 4.71s\n",
      "310:\tlearn: 87.6354184\ttotal: 2.12s\tremaining: 4.7s\n",
      "311:\tlearn: 87.4879486\ttotal: 2.13s\tremaining: 4.69s\n",
      "312:\tlearn: 87.0294739\ttotal: 2.13s\tremaining: 4.68s\n",
      "313:\tlearn: 86.6746221\ttotal: 2.13s\tremaining: 4.67s\n",
      "314:\tlearn: 86.2792146\ttotal: 2.14s\tremaining: 4.65s\n",
      "315:\tlearn: 86.2127070\ttotal: 2.15s\tremaining: 4.64s\n",
      "316:\tlearn: 86.1507368\ttotal: 2.15s\tremaining: 4.63s\n",
      "317:\tlearn: 85.7089141\ttotal: 2.15s\tremaining: 4.62s\n",
      "318:\tlearn: 85.6035137\ttotal: 2.16s\tremaining: 4.6s\n",
      "319:\tlearn: 85.3587988\ttotal: 2.16s\tremaining: 4.59s\n",
      "320:\tlearn: 84.9660906\ttotal: 2.17s\tremaining: 4.58s\n",
      "321:\tlearn: 84.5474713\ttotal: 2.17s\tremaining: 4.57s\n",
      "322:\tlearn: 84.1996852\ttotal: 2.17s\tremaining: 4.56s\n",
      "323:\tlearn: 84.0654282\ttotal: 2.18s\tremaining: 4.55s\n",
      "324:\tlearn: 83.7937327\ttotal: 2.19s\tremaining: 4.54s\n",
      "325:\tlearn: 83.5064288\ttotal: 2.19s\tremaining: 4.53s\n",
      "326:\tlearn: 83.3997655\ttotal: 2.19s\tremaining: 4.52s\n",
      "327:\tlearn: 83.2958622\ttotal: 2.2s\tremaining: 4.51s\n",
      "328:\tlearn: 82.9877578\ttotal: 2.2s\tremaining: 4.5s\n",
      "329:\tlearn: 82.6286638\ttotal: 2.21s\tremaining: 4.48s\n",
      "330:\tlearn: 82.2827132\ttotal: 2.21s\tremaining: 4.47s\n",
      "331:\tlearn: 82.0895251\ttotal: 2.22s\tremaining: 4.46s\n",
      "332:\tlearn: 82.0130649\ttotal: 2.22s\tremaining: 4.45s\n",
      "333:\tlearn: 81.6771734\ttotal: 2.23s\tremaining: 4.44s\n",
      "334:\tlearn: 81.3519124\ttotal: 2.23s\tremaining: 4.43s\n",
      "335:\tlearn: 81.0170326\ttotal: 2.23s\tremaining: 4.42s\n",
      "336:\tlearn: 80.6917886\ttotal: 2.24s\tremaining: 4.41s\n",
      "337:\tlearn: 80.3455177\ttotal: 2.24s\tremaining: 4.4s\n",
      "338:\tlearn: 80.0260727\ttotal: 2.25s\tremaining: 4.38s\n",
      "339:\tlearn: 79.9154748\ttotal: 2.25s\tremaining: 4.37s\n",
      "340:\tlearn: 79.7813079\ttotal: 2.26s\tremaining: 4.37s\n",
      "341:\tlearn: 79.3513293\ttotal: 2.26s\tremaining: 4.35s\n",
      "342:\tlearn: 78.8666019\ttotal: 2.27s\tremaining: 4.34s\n",
      "343:\tlearn: 78.7959013\ttotal: 2.27s\tremaining: 4.34s\n",
      "344:\tlearn: 78.7081334\ttotal: 2.28s\tremaining: 4.33s\n",
      "345:\tlearn: 78.3354931\ttotal: 2.28s\tremaining: 4.32s\n",
      "346:\tlearn: 77.9475067\ttotal: 2.29s\tremaining: 4.31s\n",
      "347:\tlearn: 77.8910420\ttotal: 2.29s\tremaining: 4.3s\n",
      "348:\tlearn: 77.5461672\ttotal: 2.3s\tremaining: 4.29s\n",
      "349:\tlearn: 77.3717101\ttotal: 2.3s\tremaining: 4.27s\n",
      "350:\tlearn: 77.0729657\ttotal: 2.31s\tremaining: 4.26s\n",
      "351:\tlearn: 76.7699287\ttotal: 2.31s\tremaining: 4.25s\n",
      "352:\tlearn: 76.6029759\ttotal: 2.31s\tremaining: 4.24s\n",
      "353:\tlearn: 76.1642615\ttotal: 2.32s\tremaining: 4.23s\n",
      "354:\tlearn: 76.1202523\ttotal: 2.32s\tremaining: 4.22s\n",
      "355:\tlearn: 75.9487132\ttotal: 2.33s\tremaining: 4.21s\n",
      "356:\tlearn: 75.6748479\ttotal: 2.33s\tremaining: 4.2s\n",
      "357:\tlearn: 75.4290864\ttotal: 2.33s\tremaining: 4.19s\n",
      "358:\tlearn: 75.0463849\ttotal: 2.34s\tremaining: 4.18s\n",
      "359:\tlearn: 74.9902381\ttotal: 2.34s\tremaining: 4.17s\n",
      "360:\tlearn: 74.5243875\ttotal: 2.35s\tremaining: 4.16s\n",
      "361:\tlearn: 74.1913065\ttotal: 2.35s\tremaining: 4.14s\n",
      "362:\tlearn: 73.8413359\ttotal: 2.36s\tremaining: 4.14s\n",
      "363:\tlearn: 73.7602119\ttotal: 2.36s\tremaining: 4.13s\n",
      "364:\tlearn: 73.3278135\ttotal: 2.37s\tremaining: 4.12s\n",
      "365:\tlearn: 72.9524336\ttotal: 2.37s\tremaining: 4.1s\n",
      "366:\tlearn: 72.6791856\ttotal: 2.38s\tremaining: 4.1s\n",
      "367:\tlearn: 72.4333577\ttotal: 2.38s\tremaining: 4.09s\n",
      "368:\tlearn: 72.1672937\ttotal: 2.39s\tremaining: 4.09s\n",
      "369:\tlearn: 71.9070276\ttotal: 2.4s\tremaining: 4.08s\n",
      "370:\tlearn: 71.5496196\ttotal: 2.4s\tremaining: 4.07s\n",
      "371:\tlearn: 71.3161902\ttotal: 2.4s\tremaining: 4.06s\n",
      "372:\tlearn: 71.1259191\ttotal: 2.41s\tremaining: 4.05s\n",
      "373:\tlearn: 70.9889962\ttotal: 2.41s\tremaining: 4.04s\n",
      "374:\tlearn: 70.7417966\ttotal: 2.42s\tremaining: 4.03s\n",
      "375:\tlearn: 70.4931174\ttotal: 2.42s\tremaining: 4.02s\n",
      "376:\tlearn: 70.3300576\ttotal: 2.43s\tremaining: 4.02s\n",
      "377:\tlearn: 69.9233248\ttotal: 2.44s\tremaining: 4.01s\n",
      "378:\tlearn: 69.6261005\ttotal: 2.44s\tremaining: 4s\n",
      "379:\tlearn: 69.3989708\ttotal: 2.44s\tremaining: 3.99s\n",
      "380:\tlearn: 69.0085387\ttotal: 2.45s\tremaining: 3.98s\n",
      "381:\tlearn: 68.7604153\ttotal: 2.45s\tremaining: 3.97s\n",
      "382:\tlearn: 68.4602767\ttotal: 2.46s\tremaining: 3.96s\n",
      "383:\tlearn: 68.1005452\ttotal: 2.47s\tremaining: 3.96s\n",
      "384:\tlearn: 68.0540467\ttotal: 2.47s\tremaining: 3.95s\n",
      "385:\tlearn: 67.8972753\ttotal: 2.48s\tremaining: 3.94s\n",
      "386:\tlearn: 67.5389629\ttotal: 2.48s\tremaining: 3.93s\n",
      "387:\tlearn: 67.2390178\ttotal: 2.49s\tremaining: 3.92s\n",
      "388:\tlearn: 67.0279888\ttotal: 2.49s\tremaining: 3.92s\n",
      "389:\tlearn: 66.8375919\ttotal: 2.5s\tremaining: 3.91s\n",
      "390:\tlearn: 66.4118315\ttotal: 2.5s\tremaining: 3.9s\n",
      "391:\tlearn: 66.3642690\ttotal: 2.51s\tremaining: 3.89s\n",
      "392:\tlearn: 66.1673138\ttotal: 2.51s\tremaining: 3.88s\n",
      "393:\tlearn: 66.0177482\ttotal: 2.52s\tremaining: 3.88s\n",
      "394:\tlearn: 65.8018038\ttotal: 2.52s\tremaining: 3.87s\n",
      "395:\tlearn: 65.6886505\ttotal: 2.53s\tremaining: 3.85s\n",
      "396:\tlearn: 65.6120185\ttotal: 2.53s\tremaining: 3.85s\n",
      "397:\tlearn: 65.5746662\ttotal: 2.54s\tremaining: 3.84s\n",
      "398:\tlearn: 65.2974851\ttotal: 2.56s\tremaining: 3.85s\n",
      "399:\tlearn: 65.2464764\ttotal: 2.56s\tremaining: 3.84s\n",
      "400:\tlearn: 65.1241314\ttotal: 2.57s\tremaining: 3.83s\n",
      "401:\tlearn: 65.0515740\ttotal: 2.57s\tremaining: 3.82s\n",
      "402:\tlearn: 64.8089636\ttotal: 2.58s\tremaining: 3.81s\n",
      "403:\tlearn: 64.5992230\ttotal: 2.58s\tremaining: 3.81s\n",
      "404:\tlearn: 64.2907010\ttotal: 2.59s\tremaining: 3.8s\n",
      "405:\tlearn: 64.1568642\ttotal: 2.59s\tremaining: 3.79s\n",
      "406:\tlearn: 63.8279106\ttotal: 2.6s\tremaining: 3.78s\n",
      "407:\tlearn: 63.5558565\ttotal: 2.6s\tremaining: 3.77s\n",
      "408:\tlearn: 63.3865445\ttotal: 2.61s\tremaining: 3.77s\n",
      "409:\tlearn: 63.2752408\ttotal: 2.61s\tremaining: 3.76s\n",
      "410:\tlearn: 63.1070190\ttotal: 2.62s\tremaining: 3.75s\n",
      "411:\tlearn: 62.7868376\ttotal: 2.62s\tremaining: 3.74s\n",
      "412:\tlearn: 62.5345803\ttotal: 2.62s\tremaining: 3.73s\n",
      "413:\tlearn: 62.2729058\ttotal: 2.63s\tremaining: 3.72s\n",
      "414:\tlearn: 61.9850985\ttotal: 2.63s\tremaining: 3.71s\n",
      "415:\tlearn: 61.7784164\ttotal: 2.64s\tremaining: 3.7s\n",
      "416:\tlearn: 61.7431976\ttotal: 2.64s\tremaining: 3.69s\n",
      "417:\tlearn: 61.4309964\ttotal: 2.65s\tremaining: 3.68s\n",
      "418:\tlearn: 61.3513660\ttotal: 2.65s\tremaining: 3.68s\n",
      "419:\tlearn: 61.1253739\ttotal: 2.65s\tremaining: 3.67s\n",
      "420:\tlearn: 61.0742571\ttotal: 2.66s\tremaining: 3.66s\n",
      "421:\tlearn: 61.0390980\ttotal: 2.67s\tremaining: 3.65s\n",
      "422:\tlearn: 61.0095757\ttotal: 2.67s\tremaining: 3.64s\n",
      "423:\tlearn: 60.6843255\ttotal: 2.67s\tremaining: 3.63s\n",
      "424:\tlearn: 60.4045551\ttotal: 2.68s\tremaining: 3.63s\n",
      "425:\tlearn: 60.3649587\ttotal: 2.68s\tremaining: 3.62s\n",
      "426:\tlearn: 60.3315828\ttotal: 2.69s\tremaining: 3.6s\n",
      "427:\tlearn: 60.1047027\ttotal: 2.69s\tremaining: 3.6s\n",
      "428:\tlearn: 59.9170736\ttotal: 2.69s\tremaining: 3.59s\n",
      "429:\tlearn: 59.6875648\ttotal: 2.7s\tremaining: 3.58s\n",
      "430:\tlearn: 59.6662150\ttotal: 2.71s\tremaining: 3.57s\n",
      "431:\tlearn: 59.4208112\ttotal: 2.71s\tremaining: 3.57s\n",
      "432:\tlearn: 59.2358034\ttotal: 2.72s\tremaining: 3.56s\n",
      "433:\tlearn: 58.9818868\ttotal: 2.72s\tremaining: 3.55s\n",
      "434:\tlearn: 58.7089433\ttotal: 2.73s\tremaining: 3.54s\n",
      "435:\tlearn: 58.5898817\ttotal: 2.73s\tremaining: 3.53s\n",
      "436:\tlearn: 58.5425342\ttotal: 2.74s\tremaining: 3.53s\n",
      "437:\tlearn: 58.2884605\ttotal: 2.74s\tremaining: 3.52s\n",
      "438:\tlearn: 58.2643873\ttotal: 2.75s\tremaining: 3.51s\n",
      "439:\tlearn: 58.2330868\ttotal: 2.75s\tremaining: 3.5s\n",
      "440:\tlearn: 57.9676592\ttotal: 2.75s\tremaining: 3.49s\n",
      "441:\tlearn: 57.7670212\ttotal: 2.76s\tremaining: 3.48s\n",
      "442:\tlearn: 57.5322464\ttotal: 2.76s\tremaining: 3.47s\n",
      "443:\tlearn: 57.2771620\ttotal: 2.76s\tremaining: 3.46s\n",
      "444:\tlearn: 57.0227885\ttotal: 2.77s\tremaining: 3.45s\n",
      "445:\tlearn: 56.7616770\ttotal: 2.77s\tremaining: 3.44s\n",
      "446:\tlearn: 56.7367450\ttotal: 2.77s\tremaining: 3.43s\n",
      "447:\tlearn: 56.6715001\ttotal: 2.77s\tremaining: 3.42s\n",
      "448:\tlearn: 56.4881346\ttotal: 2.78s\tremaining: 3.41s\n",
      "449:\tlearn: 56.3749776\ttotal: 2.78s\tremaining: 3.4s\n",
      "450:\tlearn: 56.2172319\ttotal: 2.78s\tremaining: 3.39s\n",
      "451:\tlearn: 55.9461925\ttotal: 2.79s\tremaining: 3.38s\n",
      "452:\tlearn: 55.8884270\ttotal: 2.79s\tremaining: 3.37s\n",
      "453:\tlearn: 55.7987432\ttotal: 2.79s\tremaining: 3.36s\n",
      "454:\tlearn: 55.7376337\ttotal: 2.8s\tremaining: 3.35s\n",
      "455:\tlearn: 55.5150595\ttotal: 2.8s\tremaining: 3.34s\n",
      "456:\tlearn: 55.4819680\ttotal: 2.8s\tremaining: 3.33s\n",
      "457:\tlearn: 55.1719919\ttotal: 2.8s\tremaining: 3.32s\n",
      "458:\tlearn: 55.1295759\ttotal: 2.81s\tremaining: 3.31s\n",
      "459:\tlearn: 55.0856302\ttotal: 2.81s\tremaining: 3.3s\n",
      "460:\tlearn: 54.8056235\ttotal: 2.81s\tremaining: 3.29s\n",
      "461:\tlearn: 54.4030407\ttotal: 2.82s\tremaining: 3.28s\n",
      "462:\tlearn: 54.3308204\ttotal: 2.82s\tremaining: 3.27s\n",
      "463:\tlearn: 54.0283724\ttotal: 2.82s\tremaining: 3.26s\n",
      "464:\tlearn: 53.9962714\ttotal: 2.83s\tremaining: 3.25s\n",
      "465:\tlearn: 53.8149476\ttotal: 2.83s\tremaining: 3.24s\n",
      "466:\tlearn: 53.7806209\ttotal: 2.83s\tremaining: 3.23s\n",
      "467:\tlearn: 53.7585727\ttotal: 2.84s\tremaining: 3.22s\n",
      "468:\tlearn: 53.5042777\ttotal: 2.84s\tremaining: 3.21s\n",
      "469:\tlearn: 53.3257034\ttotal: 2.84s\tremaining: 3.2s\n",
      "470:\tlearn: 53.0801119\ttotal: 2.84s\tremaining: 3.19s\n",
      "471:\tlearn: 53.0136550\ttotal: 2.85s\tremaining: 3.19s\n",
      "472:\tlearn: 52.9408930\ttotal: 2.85s\tremaining: 3.17s\n",
      "473:\tlearn: 52.7089062\ttotal: 2.85s\tremaining: 3.17s\n",
      "474:\tlearn: 52.6819781\ttotal: 2.85s\tremaining: 3.16s\n",
      "475:\tlearn: 52.5065568\ttotal: 2.86s\tremaining: 3.15s\n",
      "476:\tlearn: 52.3688770\ttotal: 2.87s\tremaining: 3.14s\n",
      "477:\tlearn: 52.2402473\ttotal: 2.87s\tremaining: 3.13s\n",
      "478:\tlearn: 52.1406517\ttotal: 2.87s\tremaining: 3.12s\n",
      "479:\tlearn: 52.1107144\ttotal: 2.87s\tremaining: 3.11s\n",
      "480:\tlearn: 51.9239449\ttotal: 2.88s\tremaining: 3.1s\n",
      "481:\tlearn: 51.7096820\ttotal: 2.88s\tremaining: 3.1s\n",
      "482:\tlearn: 51.6266918\ttotal: 2.88s\tremaining: 3.09s\n",
      "483:\tlearn: 51.5969797\ttotal: 2.89s\tremaining: 3.08s\n",
      "484:\tlearn: 51.4480162\ttotal: 2.89s\tremaining: 3.07s\n",
      "485:\tlearn: 51.2269261\ttotal: 2.89s\tremaining: 3.06s\n",
      "486:\tlearn: 50.9904632\ttotal: 2.9s\tremaining: 3.05s\n",
      "487:\tlearn: 50.9342043\ttotal: 2.9s\tremaining: 3.04s\n",
      "488:\tlearn: 50.8423680\ttotal: 2.9s\tremaining: 3.03s\n",
      "489:\tlearn: 50.7269788\ttotal: 2.91s\tremaining: 3.02s\n",
      "490:\tlearn: 50.5384699\ttotal: 2.91s\tremaining: 3.02s\n",
      "491:\tlearn: 50.5047793\ttotal: 2.91s\tremaining: 3.01s\n",
      "492:\tlearn: 50.3234448\ttotal: 2.92s\tremaining: 3s\n",
      "493:\tlearn: 50.1653421\ttotal: 2.92s\tremaining: 2.99s\n",
      "494:\tlearn: 49.9835558\ttotal: 2.92s\tremaining: 2.98s\n",
      "495:\tlearn: 49.8884283\ttotal: 2.93s\tremaining: 2.97s\n",
      "496:\tlearn: 49.6217364\ttotal: 2.93s\tremaining: 2.96s\n",
      "497:\tlearn: 49.5268562\ttotal: 2.94s\tremaining: 2.96s\n",
      "498:\tlearn: 49.3078402\ttotal: 2.94s\tremaining: 2.95s\n",
      "499:\tlearn: 49.2571676\ttotal: 2.94s\tremaining: 2.94s\n",
      "500:\tlearn: 49.2173141\ttotal: 2.94s\tremaining: 2.93s\n",
      "501:\tlearn: 48.9813103\ttotal: 2.95s\tremaining: 2.93s\n",
      "502:\tlearn: 48.8304542\ttotal: 2.95s\tremaining: 2.92s\n",
      "503:\tlearn: 48.7430936\ttotal: 2.96s\tremaining: 2.91s\n",
      "504:\tlearn: 48.5493989\ttotal: 2.96s\tremaining: 2.9s\n",
      "505:\tlearn: 48.5134839\ttotal: 2.96s\tremaining: 2.89s\n",
      "506:\tlearn: 48.3516141\ttotal: 2.97s\tremaining: 2.88s\n",
      "507:\tlearn: 48.0631542\ttotal: 2.97s\tremaining: 2.88s\n",
      "508:\tlearn: 47.8591880\ttotal: 2.97s\tremaining: 2.87s\n",
      "509:\tlearn: 47.7182444\ttotal: 2.98s\tremaining: 2.86s\n",
      "510:\tlearn: 47.6301870\ttotal: 2.98s\tremaining: 2.85s\n",
      "511:\tlearn: 47.4767324\ttotal: 2.98s\tremaining: 2.84s\n",
      "512:\tlearn: 47.2822625\ttotal: 2.99s\tremaining: 2.84s\n",
      "513:\tlearn: 47.1022658\ttotal: 2.99s\tremaining: 2.83s\n",
      "514:\tlearn: 47.0536181\ttotal: 3s\tremaining: 2.82s\n",
      "515:\tlearn: 47.0249559\ttotal: 3s\tremaining: 2.81s\n",
      "516:\tlearn: 46.8789720\ttotal: 3s\tremaining: 2.8s\n",
      "517:\tlearn: 46.7133769\ttotal: 3s\tremaining: 2.79s\n",
      "518:\tlearn: 46.5157986\ttotal: 3.01s\tremaining: 2.79s\n",
      "519:\tlearn: 46.3630405\ttotal: 3.01s\tremaining: 2.78s\n",
      "520:\tlearn: 46.1730188\ttotal: 3.01s\tremaining: 2.77s\n",
      "521:\tlearn: 46.1360908\ttotal: 3.02s\tremaining: 2.76s\n",
      "522:\tlearn: 45.9652487\ttotal: 3.02s\tremaining: 2.76s\n",
      "523:\tlearn: 45.8122703\ttotal: 3.03s\tremaining: 2.75s\n",
      "524:\tlearn: 45.4984451\ttotal: 3.03s\tremaining: 2.74s\n",
      "525:\tlearn: 45.3161076\ttotal: 3.03s\tremaining: 2.73s\n",
      "526:\tlearn: 45.2802854\ttotal: 3.04s\tremaining: 2.73s\n",
      "527:\tlearn: 45.2448275\ttotal: 3.04s\tremaining: 2.72s\n",
      "528:\tlearn: 45.0816321\ttotal: 3.04s\tremaining: 2.71s\n",
      "529:\tlearn: 44.9794319\ttotal: 3.05s\tremaining: 2.7s\n",
      "530:\tlearn: 44.6832140\ttotal: 3.05s\tremaining: 2.69s\n",
      "531:\tlearn: 44.4460046\ttotal: 3.05s\tremaining: 2.69s\n",
      "532:\tlearn: 44.2118287\ttotal: 3.06s\tremaining: 2.68s\n",
      "533:\tlearn: 44.0693524\ttotal: 3.06s\tremaining: 2.67s\n",
      "534:\tlearn: 43.7781614\ttotal: 3.07s\tremaining: 2.66s\n",
      "535:\tlearn: 43.5541731\ttotal: 3.07s\tremaining: 2.66s\n",
      "536:\tlearn: 43.5134866\ttotal: 3.07s\tremaining: 2.65s\n",
      "537:\tlearn: 43.3609810\ttotal: 3.08s\tremaining: 2.64s\n",
      "538:\tlearn: 43.1828364\ttotal: 3.08s\tremaining: 2.64s\n",
      "539:\tlearn: 43.1681810\ttotal: 3.08s\tremaining: 2.63s\n",
      "540:\tlearn: 43.0597548\ttotal: 3.09s\tremaining: 2.62s\n",
      "541:\tlearn: 43.0399237\ttotal: 3.09s\tremaining: 2.61s\n",
      "542:\tlearn: 42.7955247\ttotal: 3.09s\tremaining: 2.6s\n",
      "543:\tlearn: 42.5339065\ttotal: 3.1s\tremaining: 2.6s\n",
      "544:\tlearn: 42.4295635\ttotal: 3.1s\tremaining: 2.59s\n",
      "545:\tlearn: 42.2338376\ttotal: 3.11s\tremaining: 2.58s\n",
      "546:\tlearn: 42.0124060\ttotal: 3.11s\tremaining: 2.58s\n",
      "547:\tlearn: 41.8255183\ttotal: 3.12s\tremaining: 2.57s\n",
      "548:\tlearn: 41.6388681\ttotal: 3.12s\tremaining: 2.56s\n",
      "549:\tlearn: 41.4001270\ttotal: 3.13s\tremaining: 2.56s\n",
      "550:\tlearn: 41.1013528\ttotal: 3.13s\tremaining: 2.55s\n",
      "551:\tlearn: 41.0100295\ttotal: 3.13s\tremaining: 2.54s\n",
      "552:\tlearn: 40.9906076\ttotal: 3.14s\tremaining: 2.54s\n",
      "553:\tlearn: 40.8809109\ttotal: 3.14s\tremaining: 2.53s\n",
      "554:\tlearn: 40.7831302\ttotal: 3.14s\tremaining: 2.52s\n",
      "555:\tlearn: 40.7317763\ttotal: 3.15s\tremaining: 2.51s\n",
      "556:\tlearn: 40.6321710\ttotal: 3.15s\tremaining: 2.51s\n",
      "557:\tlearn: 40.4475073\ttotal: 3.16s\tremaining: 2.5s\n",
      "558:\tlearn: 40.2859957\ttotal: 3.16s\tremaining: 2.49s\n",
      "559:\tlearn: 40.0262057\ttotal: 3.17s\tremaining: 2.49s\n",
      "560:\tlearn: 39.9326350\ttotal: 3.17s\tremaining: 2.48s\n",
      "561:\tlearn: 39.8735956\ttotal: 3.18s\tremaining: 2.48s\n",
      "562:\tlearn: 39.7083019\ttotal: 3.19s\tremaining: 2.48s\n",
      "563:\tlearn: 39.5379855\ttotal: 3.2s\tremaining: 2.47s\n",
      "564:\tlearn: 39.3451301\ttotal: 3.21s\tremaining: 2.47s\n",
      "565:\tlearn: 39.2041273\ttotal: 3.22s\tremaining: 2.47s\n",
      "566:\tlearn: 38.9870162\ttotal: 3.23s\tremaining: 2.46s\n",
      "567:\tlearn: 38.8638040\ttotal: 3.23s\tremaining: 2.46s\n",
      "568:\tlearn: 38.7752116\ttotal: 3.24s\tremaining: 2.46s\n",
      "569:\tlearn: 38.6530297\ttotal: 3.25s\tremaining: 2.45s\n",
      "570:\tlearn: 38.5505372\ttotal: 3.25s\tremaining: 2.44s\n",
      "571:\tlearn: 38.5134486\ttotal: 3.26s\tremaining: 2.44s\n",
      "572:\tlearn: 38.3680902\ttotal: 3.26s\tremaining: 2.43s\n",
      "573:\tlearn: 38.1897295\ttotal: 3.27s\tremaining: 2.42s\n",
      "574:\tlearn: 38.1083536\ttotal: 3.27s\tremaining: 2.42s\n",
      "575:\tlearn: 37.9229216\ttotal: 3.27s\tremaining: 2.41s\n",
      "576:\tlearn: 37.8377087\ttotal: 3.27s\tremaining: 2.4s\n",
      "577:\tlearn: 37.7966900\ttotal: 3.28s\tremaining: 2.39s\n",
      "578:\tlearn: 37.6700761\ttotal: 3.28s\tremaining: 2.39s\n",
      "579:\tlearn: 37.6355177\ttotal: 3.29s\tremaining: 2.38s\n",
      "580:\tlearn: 37.4648199\ttotal: 3.29s\tremaining: 2.37s\n",
      "581:\tlearn: 37.2959505\ttotal: 3.29s\tremaining: 2.37s\n",
      "582:\tlearn: 37.1423961\ttotal: 3.3s\tremaining: 2.36s\n",
      "583:\tlearn: 36.9297315\ttotal: 3.3s\tremaining: 2.35s\n",
      "584:\tlearn: 36.8850382\ttotal: 3.3s\tremaining: 2.34s\n",
      "585:\tlearn: 36.7546519\ttotal: 3.31s\tremaining: 2.34s\n",
      "586:\tlearn: 36.7377554\ttotal: 3.31s\tremaining: 2.33s\n",
      "587:\tlearn: 36.6899102\ttotal: 3.31s\tremaining: 2.32s\n",
      "588:\tlearn: 36.5617094\ttotal: 3.32s\tremaining: 2.32s\n",
      "589:\tlearn: 36.4272921\ttotal: 3.32s\tremaining: 2.31s\n",
      "590:\tlearn: 36.2657889\ttotal: 3.33s\tremaining: 2.3s\n",
      "591:\tlearn: 36.2539345\ttotal: 3.33s\tremaining: 2.29s\n",
      "592:\tlearn: 36.2314399\ttotal: 3.33s\tremaining: 2.29s\n",
      "593:\tlearn: 36.0683824\ttotal: 3.33s\tremaining: 2.28s\n",
      "594:\tlearn: 35.9283095\ttotal: 3.34s\tremaining: 2.27s\n",
      "595:\tlearn: 35.7968288\ttotal: 3.34s\tremaining: 2.26s\n",
      "596:\tlearn: 35.7223423\ttotal: 3.34s\tremaining: 2.26s\n",
      "597:\tlearn: 35.5848854\ttotal: 3.35s\tremaining: 2.25s\n",
      "598:\tlearn: 35.4754344\ttotal: 3.35s\tremaining: 2.24s\n",
      "599:\tlearn: 35.3533890\ttotal: 3.36s\tremaining: 2.24s\n",
      "600:\tlearn: 35.2201505\ttotal: 3.36s\tremaining: 2.23s\n",
      "601:\tlearn: 35.0873272\ttotal: 3.37s\tremaining: 2.23s\n",
      "602:\tlearn: 35.0461873\ttotal: 3.37s\tremaining: 2.22s\n",
      "603:\tlearn: 34.9273071\ttotal: 3.37s\tremaining: 2.21s\n",
      "604:\tlearn: 34.8162855\ttotal: 3.37s\tremaining: 2.2s\n",
      "605:\tlearn: 34.7130059\ttotal: 3.38s\tremaining: 2.2s\n",
      "606:\tlearn: 34.5585617\ttotal: 3.39s\tremaining: 2.19s\n",
      "607:\tlearn: 34.4611907\ttotal: 3.39s\tremaining: 2.19s\n",
      "608:\tlearn: 34.4326546\ttotal: 3.39s\tremaining: 2.18s\n",
      "609:\tlearn: 34.2846979\ttotal: 3.4s\tremaining: 2.17s\n",
      "610:\tlearn: 34.1734501\ttotal: 3.4s\tremaining: 2.17s\n",
      "611:\tlearn: 34.0230965\ttotal: 3.4s\tremaining: 2.16s\n",
      "612:\tlearn: 33.8282501\ttotal: 3.41s\tremaining: 2.15s\n",
      "613:\tlearn: 33.7746747\ttotal: 3.41s\tremaining: 2.15s\n",
      "614:\tlearn: 33.7068386\ttotal: 3.42s\tremaining: 2.14s\n",
      "615:\tlearn: 33.5780800\ttotal: 3.42s\tremaining: 2.13s\n",
      "616:\tlearn: 33.4695325\ttotal: 3.42s\tremaining: 2.13s\n",
      "617:\tlearn: 33.3463443\ttotal: 3.43s\tremaining: 2.12s\n",
      "618:\tlearn: 33.2877395\ttotal: 3.43s\tremaining: 2.11s\n",
      "619:\tlearn: 33.2418826\ttotal: 3.43s\tremaining: 2.1s\n",
      "620:\tlearn: 33.1045465\ttotal: 3.44s\tremaining: 2.1s\n",
      "621:\tlearn: 32.9400639\ttotal: 3.44s\tremaining: 2.09s\n",
      "622:\tlearn: 32.8996970\ttotal: 3.44s\tremaining: 2.08s\n",
      "623:\tlearn: 32.7429487\ttotal: 3.45s\tremaining: 2.08s\n",
      "624:\tlearn: 32.6132355\ttotal: 3.45s\tremaining: 2.07s\n",
      "625:\tlearn: 32.4714976\ttotal: 3.45s\tremaining: 2.06s\n",
      "626:\tlearn: 32.4320448\ttotal: 3.46s\tremaining: 2.06s\n",
      "627:\tlearn: 32.2628258\ttotal: 3.46s\tremaining: 2.05s\n",
      "628:\tlearn: 32.2038569\ttotal: 3.46s\tremaining: 2.04s\n",
      "629:\tlearn: 32.0940738\ttotal: 3.47s\tremaining: 2.04s\n",
      "630:\tlearn: 32.0068495\ttotal: 3.47s\tremaining: 2.03s\n",
      "631:\tlearn: 31.9053748\ttotal: 3.48s\tremaining: 2.02s\n",
      "632:\tlearn: 31.7715772\ttotal: 3.48s\tremaining: 2.02s\n",
      "633:\tlearn: 31.6687835\ttotal: 3.48s\tremaining: 2.01s\n",
      "634:\tlearn: 31.6368050\ttotal: 3.49s\tremaining: 2s\n",
      "635:\tlearn: 31.5709628\ttotal: 3.49s\tremaining: 2s\n",
      "636:\tlearn: 31.4052213\ttotal: 3.49s\tremaining: 1.99s\n",
      "637:\tlearn: 31.2452229\ttotal: 3.5s\tremaining: 1.98s\n",
      "638:\tlearn: 31.1221828\ttotal: 3.5s\tremaining: 1.98s\n",
      "639:\tlearn: 31.0853500\ttotal: 3.5s\tremaining: 1.97s\n",
      "640:\tlearn: 30.9167355\ttotal: 3.51s\tremaining: 1.97s\n",
      "641:\tlearn: 30.8667253\ttotal: 3.51s\tremaining: 1.96s\n",
      "642:\tlearn: 30.7427129\ttotal: 3.52s\tremaining: 1.95s\n",
      "643:\tlearn: 30.5748228\ttotal: 3.52s\tremaining: 1.95s\n",
      "644:\tlearn: 30.5080592\ttotal: 3.52s\tremaining: 1.94s\n",
      "645:\tlearn: 30.3444228\ttotal: 3.53s\tremaining: 1.93s\n",
      "646:\tlearn: 30.1858385\ttotal: 3.53s\tremaining: 1.93s\n",
      "647:\tlearn: 30.1481951\ttotal: 3.54s\tremaining: 1.92s\n",
      "648:\tlearn: 30.1139150\ttotal: 3.54s\tremaining: 1.92s\n",
      "649:\tlearn: 30.0147177\ttotal: 3.55s\tremaining: 1.91s\n",
      "650:\tlearn: 29.8610501\ttotal: 3.55s\tremaining: 1.91s\n",
      "651:\tlearn: 29.7793561\ttotal: 3.56s\tremaining: 1.9s\n",
      "652:\tlearn: 29.6870188\ttotal: 3.56s\tremaining: 1.89s\n",
      "653:\tlearn: 29.6229921\ttotal: 3.57s\tremaining: 1.89s\n",
      "654:\tlearn: 29.5806823\ttotal: 3.57s\tremaining: 1.88s\n",
      "655:\tlearn: 29.4903496\ttotal: 3.57s\tremaining: 1.87s\n",
      "656:\tlearn: 29.4011642\ttotal: 3.58s\tremaining: 1.87s\n",
      "657:\tlearn: 29.3880977\ttotal: 3.58s\tremaining: 1.86s\n",
      "658:\tlearn: 29.2615919\ttotal: 3.58s\tremaining: 1.85s\n",
      "659:\tlearn: 29.1004727\ttotal: 3.59s\tremaining: 1.85s\n",
      "660:\tlearn: 29.0530692\ttotal: 3.59s\tremaining: 1.84s\n",
      "661:\tlearn: 28.9863628\ttotal: 3.6s\tremaining: 1.84s\n",
      "662:\tlearn: 28.8714304\ttotal: 3.6s\tremaining: 1.83s\n",
      "663:\tlearn: 28.7331979\ttotal: 3.61s\tremaining: 1.82s\n",
      "664:\tlearn: 28.6366801\ttotal: 3.61s\tremaining: 1.82s\n",
      "665:\tlearn: 28.5716341\ttotal: 3.62s\tremaining: 1.81s\n",
      "666:\tlearn: 28.4974876\ttotal: 3.62s\tremaining: 1.81s\n",
      "667:\tlearn: 28.4112710\ttotal: 3.63s\tremaining: 1.8s\n",
      "668:\tlearn: 28.2984651\ttotal: 3.63s\tremaining: 1.8s\n",
      "669:\tlearn: 28.1339510\ttotal: 3.63s\tremaining: 1.79s\n",
      "670:\tlearn: 28.1075789\ttotal: 3.64s\tremaining: 1.78s\n",
      "671:\tlearn: 28.0922293\ttotal: 3.64s\tremaining: 1.78s\n",
      "672:\tlearn: 27.9723760\ttotal: 3.65s\tremaining: 1.77s\n",
      "673:\tlearn: 27.9055283\ttotal: 3.65s\tremaining: 1.77s\n",
      "674:\tlearn: 27.8205243\ttotal: 3.65s\tremaining: 1.76s\n",
      "675:\tlearn: 27.8084834\ttotal: 3.66s\tremaining: 1.75s\n",
      "676:\tlearn: 27.7891840\ttotal: 3.66s\tremaining: 1.75s\n",
      "677:\tlearn: 27.6730952\ttotal: 3.67s\tremaining: 1.74s\n",
      "678:\tlearn: 27.6094279\ttotal: 3.67s\tremaining: 1.73s\n",
      "679:\tlearn: 27.5709406\ttotal: 3.68s\tremaining: 1.73s\n",
      "680:\tlearn: 27.5062932\ttotal: 3.68s\tremaining: 1.72s\n",
      "681:\tlearn: 27.4149358\ttotal: 3.68s\tremaining: 1.72s\n",
      "682:\tlearn: 27.3480578\ttotal: 3.69s\tremaining: 1.71s\n",
      "683:\tlearn: 27.2546632\ttotal: 3.69s\tremaining: 1.71s\n",
      "684:\tlearn: 27.1581242\ttotal: 3.69s\tremaining: 1.7s\n",
      "685:\tlearn: 27.1291330\ttotal: 3.7s\tremaining: 1.69s\n",
      "686:\tlearn: 27.0589760\ttotal: 3.7s\tremaining: 1.69s\n",
      "687:\tlearn: 26.9207571\ttotal: 3.71s\tremaining: 1.68s\n",
      "688:\tlearn: 26.8046340\ttotal: 3.71s\tremaining: 1.67s\n",
      "689:\tlearn: 26.7346039\ttotal: 3.71s\tremaining: 1.67s\n",
      "690:\tlearn: 26.6359238\ttotal: 3.71s\tremaining: 1.66s\n",
      "691:\tlearn: 26.5458163\ttotal: 3.72s\tremaining: 1.65s\n",
      "692:\tlearn: 26.5287024\ttotal: 3.72s\tremaining: 1.65s\n",
      "693:\tlearn: 26.4436127\ttotal: 3.73s\tremaining: 1.64s\n",
      "694:\tlearn: 26.3860996\ttotal: 3.73s\tremaining: 1.64s\n",
      "695:\tlearn: 26.3271824\ttotal: 3.73s\tremaining: 1.63s\n",
      "696:\tlearn: 26.1929180\ttotal: 3.74s\tremaining: 1.63s\n",
      "697:\tlearn: 26.0989501\ttotal: 3.74s\tremaining: 1.62s\n",
      "698:\tlearn: 26.0348052\ttotal: 3.75s\tremaining: 1.61s\n",
      "699:\tlearn: 25.9715846\ttotal: 3.75s\tremaining: 1.61s\n",
      "700:\tlearn: 25.8624783\ttotal: 3.75s\tremaining: 1.6s\n",
      "701:\tlearn: 25.8020332\ttotal: 3.76s\tremaining: 1.59s\n",
      "702:\tlearn: 25.7940141\ttotal: 3.76s\tremaining: 1.59s\n",
      "703:\tlearn: 25.6937173\ttotal: 3.77s\tremaining: 1.58s\n",
      "704:\tlearn: 25.6133995\ttotal: 3.77s\tremaining: 1.58s\n",
      "705:\tlearn: 25.5272559\ttotal: 3.78s\tremaining: 1.57s\n",
      "706:\tlearn: 25.5087600\ttotal: 3.78s\tremaining: 1.57s\n",
      "707:\tlearn: 25.3506858\ttotal: 3.79s\tremaining: 1.56s\n",
      "708:\tlearn: 25.3314352\ttotal: 3.79s\tremaining: 1.55s\n",
      "709:\tlearn: 25.3263712\ttotal: 3.79s\tremaining: 1.55s\n",
      "710:\tlearn: 25.2377772\ttotal: 3.8s\tremaining: 1.54s\n",
      "711:\tlearn: 25.1296003\ttotal: 3.8s\tremaining: 1.54s\n",
      "712:\tlearn: 25.1138661\ttotal: 3.8s\tremaining: 1.53s\n",
      "713:\tlearn: 25.0606164\ttotal: 3.81s\tremaining: 1.52s\n",
      "714:\tlearn: 24.9701122\ttotal: 3.81s\tremaining: 1.52s\n",
      "715:\tlearn: 24.9266980\ttotal: 3.82s\tremaining: 1.51s\n",
      "716:\tlearn: 24.8355245\ttotal: 3.82s\tremaining: 1.51s\n",
      "717:\tlearn: 24.7892595\ttotal: 3.83s\tremaining: 1.5s\n",
      "718:\tlearn: 24.7784156\ttotal: 3.83s\tremaining: 1.5s\n",
      "719:\tlearn: 24.7204068\ttotal: 3.83s\tremaining: 1.49s\n",
      "720:\tlearn: 24.6868946\ttotal: 3.84s\tremaining: 1.49s\n",
      "721:\tlearn: 24.5835248\ttotal: 3.84s\tremaining: 1.48s\n",
      "722:\tlearn: 24.4605667\ttotal: 3.85s\tremaining: 1.48s\n",
      "723:\tlearn: 24.3780491\ttotal: 3.85s\tremaining: 1.47s\n",
      "724:\tlearn: 24.3695387\ttotal: 3.86s\tremaining: 1.46s\n",
      "725:\tlearn: 24.2713928\ttotal: 3.86s\tremaining: 1.46s\n",
      "726:\tlearn: 24.2564573\ttotal: 3.87s\tremaining: 1.45s\n",
      "727:\tlearn: 24.1259045\ttotal: 3.87s\tremaining: 1.45s\n",
      "728:\tlearn: 24.0410925\ttotal: 3.87s\tremaining: 1.44s\n",
      "729:\tlearn: 23.9454740\ttotal: 3.88s\tremaining: 1.43s\n",
      "730:\tlearn: 23.9293944\ttotal: 3.88s\tremaining: 1.43s\n",
      "731:\tlearn: 23.8408373\ttotal: 3.88s\tremaining: 1.42s\n",
      "732:\tlearn: 23.7301307\ttotal: 3.89s\tremaining: 1.42s\n",
      "733:\tlearn: 23.6751178\ttotal: 3.89s\tremaining: 1.41s\n",
      "734:\tlearn: 23.5518474\ttotal: 3.9s\tremaining: 1.4s\n",
      "735:\tlearn: 23.5054838\ttotal: 3.9s\tremaining: 1.4s\n",
      "736:\tlearn: 23.4781040\ttotal: 3.91s\tremaining: 1.39s\n",
      "737:\tlearn: 23.3774725\ttotal: 3.91s\tremaining: 1.39s\n",
      "738:\tlearn: 23.3081022\ttotal: 3.92s\tremaining: 1.38s\n",
      "739:\tlearn: 23.2915892\ttotal: 3.92s\tremaining: 1.38s\n",
      "740:\tlearn: 23.2095735\ttotal: 3.93s\tremaining: 1.37s\n",
      "741:\tlearn: 23.1588315\ttotal: 3.93s\tremaining: 1.37s\n",
      "742:\tlearn: 23.1197993\ttotal: 3.94s\tremaining: 1.36s\n",
      "743:\tlearn: 23.0327780\ttotal: 3.94s\tremaining: 1.35s\n",
      "744:\tlearn: 22.9759480\ttotal: 3.94s\tremaining: 1.35s\n",
      "745:\tlearn: 22.8751423\ttotal: 3.95s\tremaining: 1.34s\n",
      "746:\tlearn: 22.7768127\ttotal: 3.95s\tremaining: 1.34s\n",
      "747:\tlearn: 22.6474970\ttotal: 3.95s\tremaining: 1.33s\n",
      "748:\tlearn: 22.5780525\ttotal: 3.96s\tremaining: 1.33s\n",
      "749:\tlearn: 22.5338308\ttotal: 3.96s\tremaining: 1.32s\n",
      "750:\tlearn: 22.4330276\ttotal: 3.97s\tremaining: 1.31s\n",
      "751:\tlearn: 22.4193891\ttotal: 3.97s\tremaining: 1.31s\n",
      "752:\tlearn: 22.4093040\ttotal: 3.97s\tremaining: 1.3s\n",
      "753:\tlearn: 22.3758979\ttotal: 3.98s\tremaining: 1.3s\n",
      "754:\tlearn: 22.3560173\ttotal: 3.98s\tremaining: 1.29s\n",
      "755:\tlearn: 22.3264261\ttotal: 3.98s\tremaining: 1.29s\n",
      "756:\tlearn: 22.2796605\ttotal: 3.99s\tremaining: 1.28s\n",
      "757:\tlearn: 22.2253439\ttotal: 3.99s\tremaining: 1.27s\n",
      "758:\tlearn: 22.1636409\ttotal: 4s\tremaining: 1.27s\n",
      "759:\tlearn: 22.1078491\ttotal: 4s\tremaining: 1.26s\n",
      "760:\tlearn: 22.0275756\ttotal: 4.01s\tremaining: 1.26s\n",
      "761:\tlearn: 22.0174143\ttotal: 4.01s\tremaining: 1.25s\n",
      "762:\tlearn: 21.9887391\ttotal: 4.02s\tremaining: 1.25s\n",
      "763:\tlearn: 21.9746733\ttotal: 4.02s\tremaining: 1.24s\n",
      "764:\tlearn: 21.9529216\ttotal: 4.03s\tremaining: 1.24s\n",
      "765:\tlearn: 21.8767644\ttotal: 4.03s\tremaining: 1.23s\n",
      "766:\tlearn: 21.8668039\ttotal: 4.03s\tremaining: 1.23s\n",
      "767:\tlearn: 21.8008688\ttotal: 4.04s\tremaining: 1.22s\n",
      "768:\tlearn: 21.7612208\ttotal: 4.04s\tremaining: 1.21s\n",
      "769:\tlearn: 21.6977978\ttotal: 4.04s\tremaining: 1.21s\n",
      "770:\tlearn: 21.6870461\ttotal: 4.05s\tremaining: 1.2s\n",
      "771:\tlearn: 21.6599780\ttotal: 4.05s\tremaining: 1.2s\n",
      "772:\tlearn: 21.5522064\ttotal: 4.06s\tremaining: 1.19s\n",
      "773:\tlearn: 21.5426327\ttotal: 4.06s\tremaining: 1.19s\n",
      "774:\tlearn: 21.4391089\ttotal: 4.07s\tremaining: 1.18s\n",
      "775:\tlearn: 21.4042993\ttotal: 4.07s\tremaining: 1.17s\n",
      "776:\tlearn: 21.3284836\ttotal: 4.07s\tremaining: 1.17s\n",
      "777:\tlearn: 21.3163774\ttotal: 4.08s\tremaining: 1.16s\n",
      "778:\tlearn: 21.2708416\ttotal: 4.08s\tremaining: 1.16s\n",
      "779:\tlearn: 21.2056943\ttotal: 4.08s\tremaining: 1.15s\n",
      "780:\tlearn: 21.1434774\ttotal: 4.09s\tremaining: 1.15s\n",
      "781:\tlearn: 21.0672473\ttotal: 4.09s\tremaining: 1.14s\n",
      "782:\tlearn: 20.9629645\ttotal: 4.1s\tremaining: 1.14s\n",
      "783:\tlearn: 20.9522537\ttotal: 4.1s\tremaining: 1.13s\n",
      "784:\tlearn: 20.9252425\ttotal: 4.1s\tremaining: 1.12s\n",
      "785:\tlearn: 20.8576799\ttotal: 4.11s\tremaining: 1.12s\n",
      "786:\tlearn: 20.7922970\ttotal: 4.11s\tremaining: 1.11s\n",
      "787:\tlearn: 20.7802134\ttotal: 4.12s\tremaining: 1.11s\n",
      "788:\tlearn: 20.7125213\ttotal: 4.12s\tremaining: 1.1s\n",
      "789:\tlearn: 20.7000005\ttotal: 4.12s\tremaining: 1.1s\n",
      "790:\tlearn: 20.6366378\ttotal: 4.13s\tremaining: 1.09s\n",
      "791:\tlearn: 20.6170923\ttotal: 4.13s\tremaining: 1.08s\n",
      "792:\tlearn: 20.5485950\ttotal: 4.13s\tremaining: 1.08s\n",
      "793:\tlearn: 20.5212323\ttotal: 4.14s\tremaining: 1.07s\n",
      "794:\tlearn: 20.5004347\ttotal: 4.14s\tremaining: 1.07s\n",
      "795:\tlearn: 20.4884649\ttotal: 4.15s\tremaining: 1.06s\n",
      "796:\tlearn: 20.3727007\ttotal: 4.15s\tremaining: 1.06s\n",
      "797:\tlearn: 20.2776166\ttotal: 4.16s\tremaining: 1.05s\n",
      "798:\tlearn: 20.2690965\ttotal: 4.16s\tremaining: 1.05s\n",
      "799:\tlearn: 20.2166634\ttotal: 4.17s\tremaining: 1.04s\n",
      "800:\tlearn: 20.1160179\ttotal: 4.17s\tremaining: 1.04s\n",
      "801:\tlearn: 20.0642268\ttotal: 4.18s\tremaining: 1.03s\n",
      "802:\tlearn: 20.0323601\ttotal: 4.19s\tremaining: 1.03s\n",
      "803:\tlearn: 19.9485334\ttotal: 4.19s\tremaining: 1.02s\n",
      "804:\tlearn: 19.9071725\ttotal: 4.19s\tremaining: 1.01s\n",
      "805:\tlearn: 19.8943564\ttotal: 4.2s\tremaining: 1.01s\n",
      "806:\tlearn: 19.7804687\ttotal: 4.2s\tremaining: 1s\n",
      "807:\tlearn: 19.7343406\ttotal: 4.2s\tremaining: 999ms\n",
      "808:\tlearn: 19.6963930\ttotal: 4.21s\tremaining: 994ms\n",
      "809:\tlearn: 19.6705675\ttotal: 4.21s\tremaining: 988ms\n",
      "810:\tlearn: 19.6382933\ttotal: 4.22s\tremaining: 983ms\n",
      "811:\tlearn: 19.5889191\ttotal: 4.22s\tremaining: 977ms\n",
      "812:\tlearn: 19.5638487\ttotal: 4.23s\tremaining: 972ms\n",
      "813:\tlearn: 19.4926424\ttotal: 4.23s\tremaining: 966ms\n",
      "814:\tlearn: 19.3961396\ttotal: 4.23s\tremaining: 961ms\n",
      "815:\tlearn: 19.3880242\ttotal: 4.24s\tremaining: 955ms\n",
      "816:\tlearn: 19.2808372\ttotal: 4.24s\tremaining: 950ms\n",
      "817:\tlearn: 19.1712815\ttotal: 4.25s\tremaining: 945ms\n",
      "818:\tlearn: 19.0909823\ttotal: 4.25s\tremaining: 939ms\n",
      "819:\tlearn: 18.9993504\ttotal: 4.25s\tremaining: 934ms\n",
      "820:\tlearn: 18.9773399\ttotal: 4.26s\tremaining: 928ms\n",
      "821:\tlearn: 18.8989735\ttotal: 4.26s\tremaining: 923ms\n",
      "822:\tlearn: 18.8275176\ttotal: 4.26s\tremaining: 917ms\n",
      "823:\tlearn: 18.8092278\ttotal: 4.27s\tremaining: 912ms\n",
      "824:\tlearn: 18.7938447\ttotal: 4.27s\tremaining: 906ms\n",
      "825:\tlearn: 18.7871267\ttotal: 4.28s\tremaining: 901ms\n",
      "826:\tlearn: 18.7299674\ttotal: 4.28s\tremaining: 895ms\n",
      "827:\tlearn: 18.6808264\ttotal: 4.29s\tremaining: 890ms\n",
      "828:\tlearn: 18.5984875\ttotal: 4.29s\tremaining: 885ms\n",
      "829:\tlearn: 18.5170088\ttotal: 4.29s\tremaining: 879ms\n",
      "830:\tlearn: 18.4707382\ttotal: 4.29s\tremaining: 874ms\n",
      "831:\tlearn: 18.4368619\ttotal: 4.3s\tremaining: 869ms\n",
      "832:\tlearn: 18.3683191\ttotal: 4.3s\tremaining: 863ms\n",
      "833:\tlearn: 18.3295058\ttotal: 4.31s\tremaining: 858ms\n",
      "834:\tlearn: 18.2587263\ttotal: 4.31s\tremaining: 853ms\n",
      "835:\tlearn: 18.2103679\ttotal: 4.32s\tremaining: 847ms\n",
      "836:\tlearn: 18.1781032\ttotal: 4.32s\tremaining: 842ms\n",
      "837:\tlearn: 18.0746921\ttotal: 4.33s\tremaining: 836ms\n",
      "838:\tlearn: 18.0131984\ttotal: 4.33s\tremaining: 832ms\n",
      "839:\tlearn: 17.9510877\ttotal: 4.34s\tremaining: 826ms\n",
      "840:\tlearn: 17.8893536\ttotal: 4.34s\tremaining: 821ms\n",
      "841:\tlearn: 17.8813583\ttotal: 4.35s\tremaining: 816ms\n",
      "842:\tlearn: 17.8129857\ttotal: 4.35s\tremaining: 810ms\n",
      "843:\tlearn: 17.7981202\ttotal: 4.36s\tremaining: 805ms\n",
      "844:\tlearn: 17.7414627\ttotal: 4.36s\tremaining: 800ms\n",
      "845:\tlearn: 17.7255534\ttotal: 4.36s\tremaining: 794ms\n",
      "846:\tlearn: 17.6965545\ttotal: 4.37s\tremaining: 789ms\n",
      "847:\tlearn: 17.6499397\ttotal: 4.37s\tremaining: 783ms\n",
      "848:\tlearn: 17.6133852\ttotal: 4.37s\tremaining: 778ms\n",
      "849:\tlearn: 17.5621620\ttotal: 4.38s\tremaining: 773ms\n",
      "850:\tlearn: 17.5064049\ttotal: 4.38s\tremaining: 767ms\n",
      "851:\tlearn: 17.4643467\ttotal: 4.38s\tremaining: 762ms\n",
      "852:\tlearn: 17.4569544\ttotal: 4.39s\tremaining: 756ms\n",
      "853:\tlearn: 17.3731897\ttotal: 4.39s\tremaining: 751ms\n",
      "854:\tlearn: 17.3313609\ttotal: 4.4s\tremaining: 746ms\n",
      "855:\tlearn: 17.2781582\ttotal: 4.4s\tremaining: 740ms\n",
      "856:\tlearn: 17.2283433\ttotal: 4.41s\tremaining: 735ms\n",
      "857:\tlearn: 17.1944614\ttotal: 4.41s\tremaining: 730ms\n",
      "858:\tlearn: 17.1573393\ttotal: 4.41s\tremaining: 724ms\n",
      "859:\tlearn: 17.0975067\ttotal: 4.42s\tremaining: 719ms\n",
      "860:\tlearn: 17.0462043\ttotal: 4.42s\tremaining: 714ms\n",
      "861:\tlearn: 17.0118805\ttotal: 4.42s\tremaining: 708ms\n",
      "862:\tlearn: 17.0045195\ttotal: 4.43s\tremaining: 703ms\n",
      "863:\tlearn: 16.9528999\ttotal: 4.43s\tremaining: 698ms\n",
      "864:\tlearn: 16.9270632\ttotal: 4.44s\tremaining: 692ms\n",
      "865:\tlearn: 16.8915252\ttotal: 4.44s\tremaining: 687ms\n",
      "866:\tlearn: 16.7946576\ttotal: 4.44s\tremaining: 682ms\n",
      "867:\tlearn: 16.7737222\ttotal: 4.45s\tremaining: 677ms\n",
      "868:\tlearn: 16.7192509\ttotal: 4.45s\tremaining: 671ms\n",
      "869:\tlearn: 16.7138388\ttotal: 4.46s\tremaining: 666ms\n",
      "870:\tlearn: 16.6877768\ttotal: 4.46s\tremaining: 661ms\n",
      "871:\tlearn: 16.6265748\ttotal: 4.46s\tremaining: 655ms\n",
      "872:\tlearn: 16.5641199\ttotal: 4.47s\tremaining: 650ms\n",
      "873:\tlearn: 16.4935111\ttotal: 4.47s\tremaining: 644ms\n",
      "874:\tlearn: 16.4250863\ttotal: 4.47s\tremaining: 639ms\n",
      "875:\tlearn: 16.3566947\ttotal: 4.48s\tremaining: 634ms\n",
      "876:\tlearn: 16.2731185\ttotal: 4.48s\tremaining: 629ms\n",
      "877:\tlearn: 16.2207923\ttotal: 4.49s\tremaining: 623ms\n",
      "878:\tlearn: 16.2073108\ttotal: 4.49s\tremaining: 618ms\n",
      "879:\tlearn: 16.1336576\ttotal: 4.5s\tremaining: 613ms\n",
      "880:\tlearn: 16.0994139\ttotal: 4.5s\tremaining: 608ms\n",
      "881:\tlearn: 16.0720217\ttotal: 4.51s\tremaining: 603ms\n",
      "882:\tlearn: 16.0192163\ttotal: 4.51s\tremaining: 598ms\n",
      "883:\tlearn: 16.0021989\ttotal: 4.52s\tremaining: 593ms\n",
      "884:\tlearn: 15.9003005\ttotal: 4.52s\tremaining: 588ms\n",
      "885:\tlearn: 15.8685768\ttotal: 4.53s\tremaining: 582ms\n",
      "886:\tlearn: 15.7757199\ttotal: 4.53s\tremaining: 577ms\n",
      "887:\tlearn: 15.7280015\ttotal: 4.53s\tremaining: 572ms\n",
      "888:\tlearn: 15.7037867\ttotal: 4.54s\tremaining: 567ms\n",
      "889:\tlearn: 15.6876254\ttotal: 4.54s\tremaining: 562ms\n",
      "890:\tlearn: 15.6002589\ttotal: 4.55s\tremaining: 557ms\n",
      "891:\tlearn: 15.5663914\ttotal: 4.56s\tremaining: 552ms\n",
      "892:\tlearn: 15.4827503\ttotal: 4.56s\tremaining: 547ms\n",
      "893:\tlearn: 15.4422647\ttotal: 4.57s\tremaining: 541ms\n",
      "894:\tlearn: 15.4230904\ttotal: 4.57s\tremaining: 536ms\n",
      "895:\tlearn: 15.3907978\ttotal: 4.57s\tremaining: 531ms\n",
      "896:\tlearn: 15.3022423\ttotal: 4.58s\tremaining: 526ms\n",
      "897:\tlearn: 15.2770800\ttotal: 4.58s\tremaining: 521ms\n",
      "898:\tlearn: 15.2708396\ttotal: 4.59s\tremaining: 515ms\n",
      "899:\tlearn: 15.2217814\ttotal: 4.59s\tremaining: 510ms\n",
      "900:\tlearn: 15.2150872\ttotal: 4.59s\tremaining: 505ms\n",
      "901:\tlearn: 15.1938758\ttotal: 4.6s\tremaining: 500ms\n",
      "902:\tlearn: 15.1087389\ttotal: 4.6s\tremaining: 494ms\n",
      "903:\tlearn: 15.0270836\ttotal: 4.61s\tremaining: 489ms\n",
      "904:\tlearn: 14.9579009\ttotal: 4.61s\tremaining: 484ms\n",
      "905:\tlearn: 14.9321713\ttotal: 4.62s\tremaining: 479ms\n",
      "906:\tlearn: 14.9254894\ttotal: 4.62s\tremaining: 474ms\n",
      "907:\tlearn: 14.8662999\ttotal: 4.62s\tremaining: 469ms\n",
      "908:\tlearn: 14.7969088\ttotal: 4.63s\tremaining: 463ms\n",
      "909:\tlearn: 14.7187437\ttotal: 4.63s\tremaining: 458ms\n",
      "910:\tlearn: 14.6594229\ttotal: 4.64s\tremaining: 453ms\n",
      "911:\tlearn: 14.6109629\ttotal: 4.64s\tremaining: 448ms\n",
      "912:\tlearn: 14.5833869\ttotal: 4.64s\tremaining: 443ms\n",
      "913:\tlearn: 14.5677206\ttotal: 4.65s\tremaining: 437ms\n",
      "914:\tlearn: 14.5260964\ttotal: 4.65s\tremaining: 432ms\n",
      "915:\tlearn: 14.4838792\ttotal: 4.66s\tremaining: 427ms\n",
      "916:\tlearn: 14.4614097\ttotal: 4.67s\tremaining: 422ms\n",
      "917:\tlearn: 14.4432212\ttotal: 4.67s\tremaining: 417ms\n",
      "918:\tlearn: 14.4363977\ttotal: 4.67s\tremaining: 412ms\n",
      "919:\tlearn: 14.3740822\ttotal: 4.68s\tremaining: 407ms\n",
      "920:\tlearn: 14.3363459\ttotal: 4.68s\tremaining: 402ms\n",
      "921:\tlearn: 14.2862425\ttotal: 4.69s\tremaining: 397ms\n",
      "922:\tlearn: 14.2195191\ttotal: 4.69s\tremaining: 392ms\n",
      "923:\tlearn: 14.1752422\ttotal: 4.7s\tremaining: 386ms\n",
      "924:\tlearn: 14.1582897\ttotal: 4.7s\tremaining: 381ms\n",
      "925:\tlearn: 14.0892518\ttotal: 4.71s\tremaining: 376ms\n",
      "926:\tlearn: 14.0163904\ttotal: 4.71s\tremaining: 371ms\n",
      "927:\tlearn: 13.9674906\ttotal: 4.71s\tremaining: 366ms\n",
      "928:\tlearn: 13.9421041\ttotal: 4.72s\tremaining: 361ms\n",
      "929:\tlearn: 13.9264108\ttotal: 4.72s\tremaining: 355ms\n",
      "930:\tlearn: 13.8953443\ttotal: 4.72s\tremaining: 350ms\n",
      "931:\tlearn: 13.8514821\ttotal: 4.73s\tremaining: 345ms\n",
      "932:\tlearn: 13.8317730\ttotal: 4.73s\tremaining: 340ms\n",
      "933:\tlearn: 13.7980615\ttotal: 4.74s\tremaining: 335ms\n",
      "934:\tlearn: 13.7252551\ttotal: 4.74s\tremaining: 330ms\n",
      "935:\tlearn: 13.6867475\ttotal: 4.75s\tremaining: 324ms\n",
      "936:\tlearn: 13.6663164\ttotal: 4.75s\tremaining: 319ms\n",
      "937:\tlearn: 13.6108173\ttotal: 4.76s\tremaining: 314ms\n",
      "938:\tlearn: 13.5827380\ttotal: 4.76s\tremaining: 309ms\n",
      "939:\tlearn: 13.5211246\ttotal: 4.76s\tremaining: 304ms\n",
      "940:\tlearn: 13.4752089\ttotal: 4.77s\tremaining: 299ms\n",
      "941:\tlearn: 13.4283115\ttotal: 4.77s\tremaining: 294ms\n",
      "942:\tlearn: 13.3912327\ttotal: 4.78s\tremaining: 289ms\n",
      "943:\tlearn: 13.3593766\ttotal: 4.78s\tremaining: 284ms\n",
      "944:\tlearn: 13.3015250\ttotal: 4.78s\tremaining: 278ms\n",
      "945:\tlearn: 13.2587480\ttotal: 4.79s\tremaining: 273ms\n",
      "946:\tlearn: 13.1949436\ttotal: 4.79s\tremaining: 268ms\n",
      "947:\tlearn: 13.1552441\ttotal: 4.8s\tremaining: 263ms\n",
      "948:\tlearn: 13.0700947\ttotal: 4.8s\tremaining: 258ms\n",
      "949:\tlearn: 13.0460884\ttotal: 4.8s\tremaining: 253ms\n",
      "950:\tlearn: 13.0315972\ttotal: 4.81s\tremaining: 248ms\n",
      "951:\tlearn: 12.9964111\ttotal: 4.82s\tremaining: 243ms\n",
      "952:\tlearn: 12.9757139\ttotal: 4.82s\tremaining: 238ms\n",
      "953:\tlearn: 12.9120533\ttotal: 4.82s\tremaining: 233ms\n",
      "954:\tlearn: 12.8776679\ttotal: 4.83s\tremaining: 228ms\n",
      "955:\tlearn: 12.8703243\ttotal: 4.83s\tremaining: 223ms\n",
      "956:\tlearn: 12.8058615\ttotal: 4.84s\tremaining: 217ms\n",
      "957:\tlearn: 12.7637381\ttotal: 4.84s\tremaining: 212ms\n",
      "958:\tlearn: 12.7517063\ttotal: 4.85s\tremaining: 207ms\n",
      "959:\tlearn: 12.7382108\ttotal: 4.85s\tremaining: 202ms\n",
      "960:\tlearn: 12.6881713\ttotal: 4.86s\tremaining: 197ms\n",
      "961:\tlearn: 12.6728317\ttotal: 4.86s\tremaining: 192ms\n",
      "962:\tlearn: 12.6386609\ttotal: 4.86s\tremaining: 187ms\n",
      "963:\tlearn: 12.5837642\ttotal: 4.87s\tremaining: 182ms\n",
      "964:\tlearn: 12.5689789\ttotal: 4.87s\tremaining: 177ms\n",
      "965:\tlearn: 12.5362136\ttotal: 4.88s\tremaining: 172ms\n",
      "966:\tlearn: 12.5186020\ttotal: 4.88s\tremaining: 167ms\n",
      "967:\tlearn: 12.4787889\ttotal: 4.89s\tremaining: 162ms\n",
      "968:\tlearn: 12.4463866\ttotal: 4.89s\tremaining: 156ms\n",
      "969:\tlearn: 12.3919484\ttotal: 4.89s\tremaining: 151ms\n",
      "970:\tlearn: 12.3583173\ttotal: 4.9s\tremaining: 146ms\n",
      "971:\tlearn: 12.3430204\ttotal: 4.9s\tremaining: 141ms\n",
      "972:\tlearn: 12.3036135\ttotal: 4.91s\tremaining: 136ms\n",
      "973:\tlearn: 12.2785886\ttotal: 4.91s\tremaining: 131ms\n",
      "974:\tlearn: 12.2424148\ttotal: 4.92s\tremaining: 126ms\n",
      "975:\tlearn: 12.2287225\ttotal: 4.92s\tremaining: 121ms\n",
      "976:\tlearn: 12.1894056\ttotal: 4.93s\tremaining: 116ms\n",
      "977:\tlearn: 12.1399699\ttotal: 4.93s\tremaining: 111ms\n",
      "978:\tlearn: 12.1165698\ttotal: 4.94s\tremaining: 106ms\n",
      "979:\tlearn: 12.1084930\ttotal: 4.94s\tremaining: 101ms\n",
      "980:\tlearn: 12.1041455\ttotal: 4.95s\tremaining: 95.8ms\n",
      "981:\tlearn: 12.0749440\ttotal: 4.95s\tremaining: 90.8ms\n",
      "982:\tlearn: 12.0676323\ttotal: 4.96s\tremaining: 85.7ms\n",
      "983:\tlearn: 12.0253491\ttotal: 4.96s\tremaining: 80.6ms\n",
      "984:\tlearn: 11.9725269\ttotal: 4.96s\tremaining: 75.6ms\n",
      "985:\tlearn: 11.9344239\ttotal: 4.97s\tremaining: 70.5ms\n",
      "986:\tlearn: 11.8870660\ttotal: 4.97s\tremaining: 65.5ms\n",
      "987:\tlearn: 11.8411099\ttotal: 4.98s\tremaining: 60.4ms\n",
      "988:\tlearn: 11.7973602\ttotal: 4.98s\tremaining: 55.4ms\n",
      "989:\tlearn: 11.7514376\ttotal: 4.99s\tremaining: 50.4ms\n",
      "990:\tlearn: 11.7232746\ttotal: 4.99s\tremaining: 45.3ms\n",
      "991:\tlearn: 11.6852796\ttotal: 5s\tremaining: 40.3ms\n",
      "992:\tlearn: 11.6463794\ttotal: 5s\tremaining: 35.3ms\n",
      "993:\tlearn: 11.6106308\ttotal: 5.01s\tremaining: 30.2ms\n",
      "994:\tlearn: 11.5731961\ttotal: 5.01s\tremaining: 25.2ms\n",
      "995:\tlearn: 11.5417359\ttotal: 5.01s\tremaining: 20.1ms\n",
      "996:\tlearn: 11.5167117\ttotal: 5.02s\tremaining: 15.1ms\n",
      "997:\tlearn: 11.4745232\ttotal: 5.02s\tremaining: 10.1ms\n",
      "998:\tlearn: 11.4604481\ttotal: 5.02s\tremaining: 5.03ms\n",
      "999:\tlearn: 11.4510502\ttotal: 5.03s\tremaining: 0us\n"
     ]
    }
   ],
   "source": [
    "catb = CatBoostRegressor()\n",
    "catb_model = catb.fit(X_train, y_train)"
   ]
  },
  {
   "cell_type": "markdown",
   "metadata": {},
   "source": [
    "## Tahmin"
   ]
  },
  {
   "cell_type": "code",
   "execution_count": 264,
   "metadata": {},
   "outputs": [
    {
     "data": {
      "text/plain": [
       "351.194631344607"
      ]
     },
     "execution_count": 264,
     "metadata": {},
     "output_type": "execute_result"
    }
   ],
   "source": [
    "y_pred = catb_model.predict(X_test)\n",
    "np.sqrt(mean_squared_error(y_test, y_pred))"
   ]
  },
  {
   "cell_type": "markdown",
   "metadata": {},
   "source": [
    "## Model Tuning"
   ]
  },
  {
   "cell_type": "code",
   "execution_count": 265,
   "metadata": {},
   "outputs": [],
   "source": [
    "catb_grid = {\n",
    "    'iterations': [200,500,1000,2000],\n",
    "    'learning_rate': [0.01, 0.03, 0.05, 0.1],\n",
    "    'depth': [3,4,5,6,7,8] }"
   ]
  },
  {
   "cell_type": "code",
   "execution_count": 266,
   "metadata": {},
   "outputs": [],
   "source": [
    "catb = CatBoostRegressor()\n",
    "catb_cv_model = GridSearchCV(catb, catb_grid, cv=5, n_jobs = -1, verbose = 2)"
   ]
  },
  {
   "cell_type": "code",
   "execution_count": 267,
   "metadata": {},
   "outputs": [
    {
     "name": "stdout",
     "output_type": "stream",
     "text": [
      "Fitting 5 folds for each of 96 candidates, totalling 480 fits\n",
      "0:\tlearn: 422.4143448\ttotal: 3.08ms\tremaining: 3.08s\n",
      "1:\tlearn: 404.1864276\ttotal: 7.8ms\tremaining: 3.89s\n",
      "2:\tlearn: 386.3231718\ttotal: 12.1ms\tremaining: 4.02s\n",
      "3:\tlearn: 370.5548032\ttotal: 16ms\tremaining: 3.98s\n",
      "4:\tlearn: 354.9242038\ttotal: 21ms\tremaining: 4.19s\n",
      "5:\tlearn: 342.3403984\ttotal: 24ms\tremaining: 3.97s\n",
      "6:\tlearn: 328.2370070\ttotal: 26.9ms\tremaining: 3.82s\n",
      "7:\tlearn: 317.5056526\ttotal: 30.3ms\tremaining: 3.76s\n",
      "8:\tlearn: 306.6243511\ttotal: 35.1ms\tremaining: 3.86s\n",
      "9:\tlearn: 297.3147023\ttotal: 38.2ms\tremaining: 3.78s\n",
      "10:\tlearn: 288.3685892\ttotal: 41.6ms\tremaining: 3.74s\n",
      "11:\tlearn: 281.0996220\ttotal: 44.9ms\tremaining: 3.69s\n",
      "12:\tlearn: 273.2254898\ttotal: 49.3ms\tremaining: 3.74s\n",
      "13:\tlearn: 266.9003385\ttotal: 52.3ms\tremaining: 3.69s\n",
      "14:\tlearn: 261.9092500\ttotal: 55.9ms\tremaining: 3.67s\n",
      "15:\tlearn: 256.2637350\ttotal: 58.8ms\tremaining: 3.62s\n",
      "16:\tlearn: 250.3667935\ttotal: 62.7ms\tremaining: 3.63s\n",
      "17:\tlearn: 244.8631098\ttotal: 65.2ms\tremaining: 3.56s\n",
      "18:\tlearn: 240.1540669\ttotal: 67.9ms\tremaining: 3.5s\n",
      "19:\tlearn: 235.6057263\ttotal: 71ms\tremaining: 3.48s\n",
      "20:\tlearn: 231.2431102\ttotal: 73.7ms\tremaining: 3.44s\n",
      "21:\tlearn: 226.4912464\ttotal: 79.1ms\tremaining: 3.52s\n",
      "22:\tlearn: 223.5591707\ttotal: 80.9ms\tremaining: 3.44s\n",
      "23:\tlearn: 219.6098928\ttotal: 83.4ms\tremaining: 3.39s\n",
      "24:\tlearn: 215.3653069\ttotal: 86.1ms\tremaining: 3.36s\n",
      "25:\tlearn: 212.0589058\ttotal: 88.4ms\tremaining: 3.31s\n",
      "26:\tlearn: 209.7717728\ttotal: 90.6ms\tremaining: 3.26s\n",
      "27:\tlearn: 206.4800180\ttotal: 93ms\tremaining: 3.23s\n",
      "28:\tlearn: 204.4998286\ttotal: 96ms\tremaining: 3.21s\n",
      "29:\tlearn: 202.5999376\ttotal: 98.4ms\tremaining: 3.18s\n",
      "30:\tlearn: 199.5099986\ttotal: 103ms\tremaining: 3.21s\n",
      "31:\tlearn: 196.9435690\ttotal: 106ms\tremaining: 3.2s\n",
      "32:\tlearn: 194.9855023\ttotal: 108ms\tremaining: 3.18s\n",
      "33:\tlearn: 193.0037094\ttotal: 112ms\tremaining: 3.19s\n",
      "34:\tlearn: 191.6771224\ttotal: 116ms\tremaining: 3.2s\n",
      "35:\tlearn: 188.6440989\ttotal: 119ms\tremaining: 3.19s\n",
      "36:\tlearn: 186.7575822\ttotal: 122ms\tremaining: 3.16s\n",
      "37:\tlearn: 183.5070965\ttotal: 125ms\tremaining: 3.15s\n",
      "38:\tlearn: 181.9932704\ttotal: 127ms\tremaining: 3.13s\n",
      "39:\tlearn: 180.4612043\ttotal: 131ms\tremaining: 3.15s\n",
      "40:\tlearn: 178.9727236\ttotal: 134ms\tremaining: 3.13s\n",
      "41:\tlearn: 176.9704782\ttotal: 136ms\tremaining: 3.11s\n",
      "42:\tlearn: 172.9583917\ttotal: 138ms\tremaining: 3.08s\n",
      "43:\tlearn: 172.0259404\ttotal: 141ms\tremaining: 3.06s\n",
      "44:\tlearn: 169.6703908\ttotal: 144ms\tremaining: 3.06s\n",
      "45:\tlearn: 167.0349788\ttotal: 147ms\tremaining: 3.05s\n",
      "46:\tlearn: 166.0151540\ttotal: 149ms\tremaining: 3.03s\n",
      "47:\tlearn: 164.3432866\ttotal: 152ms\tremaining: 3.01s\n",
      "48:\tlearn: 163.7139546\ttotal: 154ms\tremaining: 3s\n",
      "49:\tlearn: 162.0231882\ttotal: 157ms\tremaining: 2.99s\n",
      "50:\tlearn: 159.4806540\ttotal: 161ms\tremaining: 2.99s\n",
      "51:\tlearn: 156.5835618\ttotal: 164ms\tremaining: 2.98s\n",
      "52:\tlearn: 155.1124833\ttotal: 166ms\tremaining: 2.97s\n",
      "53:\tlearn: 154.3849650\ttotal: 169ms\tremaining: 2.96s\n",
      "54:\tlearn: 153.2243534\ttotal: 173ms\tremaining: 2.96s\n",
      "55:\tlearn: 152.3205510\ttotal: 175ms\tremaining: 2.95s\n",
      "56:\tlearn: 151.0666069\ttotal: 177ms\tremaining: 2.92s\n",
      "57:\tlearn: 150.0992693\ttotal: 179ms\tremaining: 2.91s\n",
      "58:\tlearn: 149.7214223\ttotal: 182ms\tremaining: 2.9s\n",
      "59:\tlearn: 149.3420563\ttotal: 187ms\tremaining: 2.92s\n",
      "60:\tlearn: 147.1527638\ttotal: 189ms\tremaining: 2.91s\n",
      "61:\tlearn: 146.0849045\ttotal: 192ms\tremaining: 2.9s\n",
      "62:\tlearn: 145.2592821\ttotal: 195ms\tremaining: 2.9s\n",
      "63:\tlearn: 143.9723823\ttotal: 197ms\tremaining: 2.88s\n",
      "64:\tlearn: 142.9337890\ttotal: 201ms\tremaining: 2.9s\n",
      "65:\tlearn: 141.2456060\ttotal: 204ms\tremaining: 2.88s\n",
      "66:\tlearn: 140.0933886\ttotal: 207ms\tremaining: 2.88s\n",
      "67:\tlearn: 139.0122411\ttotal: 210ms\tremaining: 2.88s\n",
      "68:\tlearn: 137.0658535\ttotal: 215ms\tremaining: 2.9s\n",
      "69:\tlearn: 136.5187600\ttotal: 218ms\tremaining: 2.89s\n",
      "70:\tlearn: 135.3177866\ttotal: 220ms\tremaining: 2.88s\n",
      "71:\tlearn: 134.4397288\ttotal: 224ms\tremaining: 2.89s\n",
      "72:\tlearn: 133.9689054\ttotal: 229ms\tremaining: 2.91s\n",
      "73:\tlearn: 132.9503812\ttotal: 231ms\tremaining: 2.89s\n",
      "74:\tlearn: 132.4790284\ttotal: 234ms\tremaining: 2.88s\n",
      "75:\tlearn: 130.0079846\ttotal: 236ms\tremaining: 2.87s\n",
      "76:\tlearn: 128.6536311\ttotal: 239ms\tremaining: 2.86s\n",
      "77:\tlearn: 126.4149435\ttotal: 242ms\tremaining: 2.86s\n",
      "78:\tlearn: 124.7339610\ttotal: 245ms\tremaining: 2.85s\n",
      "79:\tlearn: 123.6799098\ttotal: 247ms\tremaining: 2.84s\n",
      "80:\tlearn: 122.0132818\ttotal: 250ms\tremaining: 2.83s\n",
      "81:\tlearn: 121.7718402\ttotal: 252ms\tremaining: 2.82s\n",
      "82:\tlearn: 121.0226763\ttotal: 256ms\tremaining: 2.82s\n",
      "83:\tlearn: 119.0352412\ttotal: 258ms\tremaining: 2.82s\n",
      "84:\tlearn: 118.1578472\ttotal: 261ms\tremaining: 2.81s\n",
      "85:\tlearn: 117.3963152\ttotal: 264ms\tremaining: 2.81s\n",
      "86:\tlearn: 116.8601830\ttotal: 267ms\tremaining: 2.8s\n",
      "87:\tlearn: 115.1485488\ttotal: 271ms\tremaining: 2.81s\n",
      "88:\tlearn: 113.3802066\ttotal: 274ms\tremaining: 2.8s\n",
      "89:\tlearn: 111.8047507\ttotal: 276ms\tremaining: 2.79s\n",
      "90:\tlearn: 111.2173889\ttotal: 279ms\tremaining: 2.78s\n",
      "91:\tlearn: 109.7797673\ttotal: 281ms\tremaining: 2.78s\n",
      "92:\tlearn: 108.5968886\ttotal: 285ms\tremaining: 2.78s\n",
      "93:\tlearn: 107.3902106\ttotal: 288ms\tremaining: 2.77s\n",
      "94:\tlearn: 106.5920119\ttotal: 290ms\tremaining: 2.76s\n",
      "95:\tlearn: 105.9400132\ttotal: 293ms\tremaining: 2.75s\n",
      "96:\tlearn: 104.5018068\ttotal: 295ms\tremaining: 2.75s\n",
      "97:\tlearn: 104.2449785\ttotal: 300ms\tremaining: 2.76s\n",
      "98:\tlearn: 102.4745810\ttotal: 302ms\tremaining: 2.75s\n",
      "99:\tlearn: 101.5007722\ttotal: 305ms\tremaining: 2.74s\n",
      "100:\tlearn: 101.0929742\ttotal: 308ms\tremaining: 2.74s\n",
      "101:\tlearn: 100.8864538\ttotal: 312ms\tremaining: 2.75s\n",
      "102:\tlearn: 99.5007076\ttotal: 317ms\tremaining: 2.76s\n",
      "103:\tlearn: 98.1646778\ttotal: 320ms\tremaining: 2.76s\n",
      "104:\tlearn: 97.1950961\ttotal: 323ms\tremaining: 2.75s\n",
      "105:\tlearn: 96.0991462\ttotal: 327ms\tremaining: 2.76s\n",
      "106:\tlearn: 95.4337941\ttotal: 335ms\tremaining: 2.79s\n",
      "107:\tlearn: 94.9099345\ttotal: 338ms\tremaining: 2.79s\n",
      "108:\tlearn: 94.3889362\ttotal: 343ms\tremaining: 2.8s\n",
      "109:\tlearn: 94.2091744\ttotal: 346ms\tremaining: 2.8s\n",
      "110:\tlearn: 92.8508793\ttotal: 348ms\tremaining: 2.79s\n",
      "111:\tlearn: 92.1784338\ttotal: 351ms\tremaining: 2.78s\n",
      "112:\tlearn: 91.6689944\ttotal: 356ms\tremaining: 2.79s\n",
      "113:\tlearn: 90.6644520\ttotal: 358ms\tremaining: 2.79s\n",
      "114:\tlearn: 90.5375287\ttotal: 361ms\tremaining: 2.78s\n",
      "115:\tlearn: 90.3442623\ttotal: 364ms\tremaining: 2.77s\n",
      "116:\tlearn: 89.3637881\ttotal: 366ms\tremaining: 2.76s\n",
      "117:\tlearn: 88.5340073\ttotal: 370ms\tremaining: 2.77s\n",
      "118:\tlearn: 88.3598014\ttotal: 373ms\tremaining: 2.76s\n",
      "119:\tlearn: 87.1290719\ttotal: 375ms\tremaining: 2.75s\n",
      "120:\tlearn: 87.0034893\ttotal: 378ms\tremaining: 2.75s\n",
      "121:\tlearn: 85.9581724\ttotal: 381ms\tremaining: 2.74s\n",
      "122:\tlearn: 84.7062226\ttotal: 384ms\tremaining: 2.74s\n",
      "123:\tlearn: 84.6114296\ttotal: 387ms\tremaining: 2.73s\n",
      "124:\tlearn: 83.3769126\ttotal: 389ms\tremaining: 2.73s\n",
      "125:\tlearn: 82.2866094\ttotal: 392ms\tremaining: 2.72s\n",
      "126:\tlearn: 81.7817112\ttotal: 394ms\tremaining: 2.71s\n",
      "127:\tlearn: 80.3710545\ttotal: 399ms\tremaining: 2.72s\n",
      "128:\tlearn: 79.3458239\ttotal: 402ms\tremaining: 2.71s\n",
      "129:\tlearn: 78.8966509\ttotal: 404ms\tremaining: 2.71s\n",
      "130:\tlearn: 78.7683699\ttotal: 407ms\tremaining: 2.7s\n",
      "131:\tlearn: 78.0116712\ttotal: 410ms\tremaining: 2.69s\n",
      "132:\tlearn: 77.5728582\ttotal: 414ms\tremaining: 2.7s\n",
      "133:\tlearn: 76.4635356\ttotal: 416ms\tremaining: 2.69s\n",
      "134:\tlearn: 75.6109482\ttotal: 419ms\tremaining: 2.68s\n",
      "135:\tlearn: 74.8287886\ttotal: 422ms\tremaining: 2.68s\n",
      "136:\tlearn: 74.2493825\ttotal: 425ms\tremaining: 2.67s\n",
      "137:\tlearn: 73.3192822\ttotal: 428ms\tremaining: 2.67s\n",
      "138:\tlearn: 72.9755066\ttotal: 430ms\tremaining: 2.67s\n",
      "139:\tlearn: 72.8423874\ttotal: 433ms\tremaining: 2.66s\n",
      "140:\tlearn: 71.5949506\ttotal: 436ms\tremaining: 2.65s\n",
      "141:\tlearn: 70.9408732\ttotal: 439ms\tremaining: 2.65s\n",
      "142:\tlearn: 70.1699642\ttotal: 442ms\tremaining: 2.65s\n",
      "143:\tlearn: 69.8737644\ttotal: 444ms\tremaining: 2.64s\n",
      "144:\tlearn: 69.0963759\ttotal: 447ms\tremaining: 2.63s\n",
      "145:\tlearn: 68.9702397\ttotal: 449ms\tremaining: 2.63s\n",
      "146:\tlearn: 67.8950397\ttotal: 453ms\tremaining: 2.63s\n",
      "147:\tlearn: 67.1501269\ttotal: 456ms\tremaining: 2.62s\n",
      "148:\tlearn: 66.4028868\ttotal: 458ms\tremaining: 2.62s\n",
      "149:\tlearn: 65.3349813\ttotal: 461ms\tremaining: 2.61s\n",
      "150:\tlearn: 64.6766190\ttotal: 464ms\tremaining: 2.61s\n",
      "151:\tlearn: 63.7390417\ttotal: 467ms\tremaining: 2.61s\n",
      "152:\tlearn: 62.9043101\ttotal: 470ms\tremaining: 2.6s\n",
      "153:\tlearn: 62.5922794\ttotal: 473ms\tremaining: 2.6s\n",
      "154:\tlearn: 62.1160450\ttotal: 477ms\tremaining: 2.6s\n",
      "155:\tlearn: 61.7702532\ttotal: 481ms\tremaining: 2.6s\n",
      "156:\tlearn: 61.2433354\ttotal: 484ms\tremaining: 2.6s\n",
      "157:\tlearn: 60.8455422\ttotal: 487ms\tremaining: 2.59s\n",
      "158:\tlearn: 60.6755303\ttotal: 490ms\tremaining: 2.59s\n",
      "159:\tlearn: 59.9631043\ttotal: 492ms\tremaining: 2.58s\n",
      "160:\tlearn: 59.2211911\ttotal: 496ms\tremaining: 2.58s\n",
      "161:\tlearn: 59.1400932\ttotal: 498ms\tremaining: 2.58s\n",
      "162:\tlearn: 58.9164262\ttotal: 501ms\tremaining: 2.57s\n",
      "163:\tlearn: 58.2084420\ttotal: 504ms\tremaining: 2.57s\n",
      "164:\tlearn: 57.9934649\ttotal: 507ms\tremaining: 2.56s\n",
      "165:\tlearn: 57.3736694\ttotal: 511ms\tremaining: 2.57s\n",
      "166:\tlearn: 56.8338370\ttotal: 514ms\tremaining: 2.56s\n",
      "167:\tlearn: 56.5518049\ttotal: 517ms\tremaining: 2.56s\n",
      "168:\tlearn: 55.9777349\ttotal: 520ms\tremaining: 2.56s\n",
      "169:\tlearn: 55.4485860\ttotal: 525ms\tremaining: 2.56s\n",
      "170:\tlearn: 55.0892542\ttotal: 528ms\tremaining: 2.56s\n",
      "171:\tlearn: 54.9915464\ttotal: 530ms\tremaining: 2.55s\n",
      "172:\tlearn: 54.3968112\ttotal: 533ms\tremaining: 2.55s\n",
      "173:\tlearn: 53.7708163\ttotal: 538ms\tremaining: 2.55s\n",
      "174:\tlearn: 53.1993023\ttotal: 540ms\tremaining: 2.55s\n",
      "175:\tlearn: 52.7773821\ttotal: 543ms\tremaining: 2.54s\n",
      "176:\tlearn: 52.5186612\ttotal: 546ms\tremaining: 2.54s\n",
      "177:\tlearn: 52.0038075\ttotal: 549ms\tremaining: 2.53s\n",
      "178:\tlearn: 51.7971195\ttotal: 553ms\tremaining: 2.54s\n",
      "179:\tlearn: 51.4334863\ttotal: 556ms\tremaining: 2.53s\n",
      "180:\tlearn: 50.9151359\ttotal: 559ms\tremaining: 2.53s\n",
      "181:\tlearn: 50.8252320\ttotal: 562ms\tremaining: 2.52s\n",
      "182:\tlearn: 50.4143487\ttotal: 566ms\tremaining: 2.53s\n",
      "183:\tlearn: 50.0253432\ttotal: 569ms\tremaining: 2.52s\n",
      "184:\tlearn: 49.6769233\ttotal: 572ms\tremaining: 2.52s\n",
      "185:\tlearn: 49.5689505\ttotal: 574ms\tremaining: 2.51s\n",
      "186:\tlearn: 49.0813531\ttotal: 577ms\tremaining: 2.51s\n",
      "187:\tlearn: 48.9396335\ttotal: 581ms\tremaining: 2.51s\n",
      "188:\tlearn: 48.5040716\ttotal: 584ms\tremaining: 2.5s\n",
      "189:\tlearn: 47.9644995\ttotal: 586ms\tremaining: 2.5s\n",
      "190:\tlearn: 47.8292554\ttotal: 589ms\tremaining: 2.49s\n",
      "191:\tlearn: 47.4433025\ttotal: 592ms\tremaining: 2.49s\n",
      "192:\tlearn: 46.9286959\ttotal: 594ms\tremaining: 2.48s\n",
      "193:\tlearn: 46.3092347\ttotal: 597ms\tremaining: 2.48s\n",
      "194:\tlearn: 45.7431428\ttotal: 600ms\tremaining: 2.48s\n",
      "195:\tlearn: 45.6714261\ttotal: 603ms\tremaining: 2.47s\n",
      "196:\tlearn: 45.5088158\ttotal: 607ms\tremaining: 2.47s\n",
      "197:\tlearn: 45.4713460\ttotal: 609ms\tremaining: 2.47s\n",
      "198:\tlearn: 45.0942536\ttotal: 612ms\tremaining: 2.46s\n",
      "199:\tlearn: 44.7625600\ttotal: 614ms\tremaining: 2.46s\n",
      "200:\tlearn: 44.3247006\ttotal: 617ms\tremaining: 2.45s\n",
      "201:\tlearn: 43.8054974\ttotal: 621ms\tremaining: 2.45s\n",
      "202:\tlearn: 43.3359785\ttotal: 624ms\tremaining: 2.45s\n",
      "203:\tlearn: 42.8698272\ttotal: 626ms\tremaining: 2.44s\n",
      "204:\tlearn: 42.4275364\ttotal: 629ms\tremaining: 2.44s\n",
      "205:\tlearn: 41.9463597\ttotal: 635ms\tremaining: 2.45s\n",
      "206:\tlearn: 41.7547985\ttotal: 638ms\tremaining: 2.44s\n",
      "207:\tlearn: 41.6019714\ttotal: 641ms\tremaining: 2.44s\n",
      "208:\tlearn: 41.4342896\ttotal: 644ms\tremaining: 2.44s\n",
      "209:\tlearn: 41.0764993\ttotal: 650ms\tremaining: 2.44s\n",
      "210:\tlearn: 40.7895715\ttotal: 653ms\tremaining: 2.44s\n",
      "211:\tlearn: 40.4428042\ttotal: 655ms\tremaining: 2.44s\n",
      "212:\tlearn: 39.9370849\ttotal: 658ms\tremaining: 2.43s\n",
      "213:\tlearn: 39.4885257\ttotal: 661ms\tremaining: 2.43s\n",
      "214:\tlearn: 39.1268375\ttotal: 663ms\tremaining: 2.42s\n",
      "215:\tlearn: 38.9591271\ttotal: 666ms\tremaining: 2.42s\n",
      "216:\tlearn: 38.8008893\ttotal: 668ms\tremaining: 2.41s\n",
      "217:\tlearn: 38.4956003\ttotal: 671ms\tremaining: 2.41s\n",
      "218:\tlearn: 38.3528545\ttotal: 675ms\tremaining: 2.41s\n",
      "219:\tlearn: 38.1794276\ttotal: 677ms\tremaining: 2.4s\n",
      "220:\tlearn: 38.1135196\ttotal: 680ms\tremaining: 2.4s\n",
      "221:\tlearn: 37.9126665\ttotal: 683ms\tremaining: 2.39s\n",
      "222:\tlearn: 37.5375523\ttotal: 685ms\tremaining: 2.39s\n",
      "223:\tlearn: 37.3774479\ttotal: 688ms\tremaining: 2.38s\n",
      "224:\tlearn: 36.8965396\ttotal: 691ms\tremaining: 2.38s\n",
      "225:\tlearn: 36.4012999\ttotal: 694ms\tremaining: 2.38s\n",
      "226:\tlearn: 35.9300616\ttotal: 697ms\tremaining: 2.37s\n",
      "227:\tlearn: 35.6148029\ttotal: 700ms\tremaining: 2.37s\n",
      "228:\tlearn: 35.2741594\ttotal: 704ms\tremaining: 2.37s\n",
      "229:\tlearn: 35.0196015\ttotal: 707ms\tremaining: 2.37s\n",
      "230:\tlearn: 34.5877862\ttotal: 710ms\tremaining: 2.36s\n",
      "231:\tlearn: 34.4128370\ttotal: 713ms\tremaining: 2.36s\n",
      "232:\tlearn: 34.2685016\ttotal: 717ms\tremaining: 2.36s\n",
      "233:\tlearn: 34.2021290\ttotal: 719ms\tremaining: 2.35s\n",
      "234:\tlearn: 34.1117548\ttotal: 722ms\tremaining: 2.35s\n",
      "235:\tlearn: 33.7038307\ttotal: 725ms\tremaining: 2.35s\n",
      "236:\tlearn: 33.6591145\ttotal: 728ms\tremaining: 2.34s\n",
      "237:\tlearn: 33.6134076\ttotal: 732ms\tremaining: 2.34s\n",
      "238:\tlearn: 33.3091022\ttotal: 734ms\tremaining: 2.34s\n",
      "239:\tlearn: 33.2050988\ttotal: 736ms\tremaining: 2.33s\n",
      "240:\tlearn: 32.7984087\ttotal: 739ms\tremaining: 2.33s\n",
      "241:\tlearn: 32.4886567\ttotal: 741ms\tremaining: 2.32s\n",
      "242:\tlearn: 32.3354906\ttotal: 745ms\tremaining: 2.32s\n",
      "243:\tlearn: 32.1610609\ttotal: 748ms\tremaining: 2.32s\n",
      "244:\tlearn: 31.9242693\ttotal: 750ms\tremaining: 2.31s\n",
      "245:\tlearn: 31.4693550\ttotal: 752ms\tremaining: 2.31s\n",
      "246:\tlearn: 31.1071532\ttotal: 755ms\tremaining: 2.3s\n",
      "247:\tlearn: 30.7311162\ttotal: 759ms\tremaining: 2.3s\n",
      "248:\tlearn: 30.4892550\ttotal: 761ms\tremaining: 2.29s\n",
      "249:\tlearn: 30.3680212\ttotal: 764ms\tremaining: 2.29s\n",
      "250:\tlearn: 30.1346007\ttotal: 766ms\tremaining: 2.29s\n",
      "251:\tlearn: 29.8046285\ttotal: 768ms\tremaining: 2.28s\n",
      "252:\tlearn: 29.6637514\ttotal: 772ms\tremaining: 2.28s\n",
      "253:\tlearn: 29.5176095\ttotal: 775ms\tremaining: 2.27s\n",
      "254:\tlearn: 29.3723319\ttotal: 777ms\tremaining: 2.27s\n",
      "255:\tlearn: 29.1301438\ttotal: 780ms\tremaining: 2.27s\n",
      "256:\tlearn: 29.1025017\ttotal: 782ms\tremaining: 2.26s\n",
      "257:\tlearn: 28.8276340\ttotal: 789ms\tremaining: 2.27s\n",
      "258:\tlearn: 28.6313979\ttotal: 791ms\tremaining: 2.26s\n",
      "259:\tlearn: 28.3904787\ttotal: 793ms\tremaining: 2.26s\n",
      "260:\tlearn: 27.9496011\ttotal: 796ms\tremaining: 2.25s\n",
      "261:\tlearn: 27.6744647\ttotal: 800ms\tremaining: 2.25s\n",
      "262:\tlearn: 27.5631687\ttotal: 803ms\tremaining: 2.25s\n",
      "263:\tlearn: 27.2940171\ttotal: 806ms\tremaining: 2.25s\n",
      "264:\tlearn: 27.0524989\ttotal: 809ms\tremaining: 2.24s\n",
      "265:\tlearn: 26.9019408\ttotal: 812ms\tremaining: 2.24s\n",
      "266:\tlearn: 26.7539234\ttotal: 814ms\tremaining: 2.23s\n",
      "267:\tlearn: 26.5906135\ttotal: 817ms\tremaining: 2.23s\n",
      "268:\tlearn: 26.3413069\ttotal: 819ms\tremaining: 2.23s\n",
      "269:\tlearn: 26.2300985\ttotal: 822ms\tremaining: 2.22s\n",
      "270:\tlearn: 25.7633750\ttotal: 824ms\tremaining: 2.22s\n",
      "271:\tlearn: 25.5999298\ttotal: 827ms\tremaining: 2.21s\n",
      "272:\tlearn: 25.4034221\ttotal: 830ms\tremaining: 2.21s\n",
      "273:\tlearn: 25.3449361\ttotal: 832ms\tremaining: 2.2s\n",
      "274:\tlearn: 25.1308675\ttotal: 834ms\tremaining: 2.2s\n",
      "275:\tlearn: 24.8170605\ttotal: 837ms\tremaining: 2.19s\n",
      "276:\tlearn: 24.5265387\ttotal: 839ms\tremaining: 2.19s\n",
      "277:\tlearn: 24.3891773\ttotal: 842ms\tremaining: 2.19s\n",
      "278:\tlearn: 24.1691955\ttotal: 844ms\tremaining: 2.18s\n",
      "279:\tlearn: 23.9780841\ttotal: 847ms\tremaining: 2.18s\n",
      "280:\tlearn: 23.7459991\ttotal: 850ms\tremaining: 2.17s\n",
      "281:\tlearn: 23.5762098\ttotal: 852ms\tremaining: 2.17s\n",
      "282:\tlearn: 23.4130148\ttotal: 855ms\tremaining: 2.17s\n",
      "283:\tlearn: 23.1365659\ttotal: 857ms\tremaining: 2.16s\n",
      "284:\tlearn: 22.9605139\ttotal: 860ms\tremaining: 2.16s\n",
      "285:\tlearn: 22.8198952\ttotal: 862ms\tremaining: 2.15s\n",
      "286:\tlearn: 22.7220776\ttotal: 865ms\tremaining: 2.15s\n",
      "287:\tlearn: 22.6349162\ttotal: 867ms\tremaining: 2.14s\n",
      "288:\tlearn: 22.5037731\ttotal: 870ms\tremaining: 2.14s\n",
      "289:\tlearn: 22.4280658\ttotal: 873ms\tremaining: 2.14s\n",
      "290:\tlearn: 22.4111078\ttotal: 875ms\tremaining: 2.13s\n",
      "291:\tlearn: 22.2582825\ttotal: 880ms\tremaining: 2.13s\n",
      "292:\tlearn: 22.0361847\ttotal: 882ms\tremaining: 2.13s\n",
      "293:\tlearn: 21.9197616\ttotal: 885ms\tremaining: 2.13s\n",
      "294:\tlearn: 21.8934931\ttotal: 888ms\tremaining: 2.12s\n",
      "295:\tlearn: 21.8385467\ttotal: 893ms\tremaining: 2.12s\n",
      "296:\tlearn: 21.6056469\ttotal: 896ms\tremaining: 2.12s\n",
      "297:\tlearn: 21.3638471\ttotal: 899ms\tremaining: 2.12s\n",
      "298:\tlearn: 21.2403020\ttotal: 901ms\tremaining: 2.11s\n",
      "299:\tlearn: 20.9940588\ttotal: 904ms\tremaining: 2.11s\n",
      "300:\tlearn: 20.8606002\ttotal: 908ms\tremaining: 2.11s\n",
      "301:\tlearn: 20.7521062\ttotal: 910ms\tremaining: 2.1s\n",
      "302:\tlearn: 20.4914061\ttotal: 913ms\tremaining: 2.1s\n",
      "303:\tlearn: 20.4390781\ttotal: 916ms\tremaining: 2.1s\n",
      "304:\tlearn: 20.4261039\ttotal: 918ms\tremaining: 2.09s\n",
      "305:\tlearn: 20.3429361\ttotal: 921ms\tremaining: 2.09s\n",
      "306:\tlearn: 20.3186699\ttotal: 923ms\tremaining: 2.08s\n",
      "307:\tlearn: 20.2200547\ttotal: 926ms\tremaining: 2.08s\n",
      "308:\tlearn: 20.0363798\ttotal: 928ms\tremaining: 2.08s\n",
      "309:\tlearn: 19.9375964\ttotal: 931ms\tremaining: 2.07s\n",
      "310:\tlearn: 19.8562475\ttotal: 935ms\tremaining: 2.07s\n",
      "311:\tlearn: 19.7207383\ttotal: 939ms\tremaining: 2.07s\n",
      "312:\tlearn: 19.5840205\ttotal: 941ms\tremaining: 2.06s\n",
      "313:\tlearn: 19.4498604\ttotal: 943ms\tremaining: 2.06s\n",
      "314:\tlearn: 19.3106313\ttotal: 947ms\tremaining: 2.06s\n",
      "315:\tlearn: 19.1555646\ttotal: 949ms\tremaining: 2.05s\n",
      "316:\tlearn: 19.1426558\ttotal: 952ms\tremaining: 2.05s\n",
      "317:\tlearn: 19.0179770\ttotal: 955ms\tremaining: 2.05s\n",
      "318:\tlearn: 18.9331646\ttotal: 957ms\tremaining: 2.04s\n",
      "319:\tlearn: 18.7759664\ttotal: 961ms\tremaining: 2.04s\n",
      "320:\tlearn: 18.7302473\ttotal: 963ms\tremaining: 2.04s\n",
      "321:\tlearn: 18.6822773\ttotal: 966ms\tremaining: 2.03s\n",
      "322:\tlearn: 18.6212081\ttotal: 968ms\tremaining: 2.03s\n",
      "323:\tlearn: 18.3825932\ttotal: 971ms\tremaining: 2.02s\n",
      "324:\tlearn: 18.0840511\ttotal: 975ms\tremaining: 2.02s\n",
      "325:\tlearn: 17.9626242\ttotal: 978ms\tremaining: 2.02s\n",
      "326:\tlearn: 17.8194649\ttotal: 980ms\tremaining: 2.02s\n",
      "327:\tlearn: 17.6897852\ttotal: 982ms\tremaining: 2.01s\n",
      "328:\tlearn: 17.6729587\ttotal: 985ms\tremaining: 2.01s\n",
      "329:\tlearn: 17.5730192\ttotal: 989ms\tremaining: 2.01s\n",
      "330:\tlearn: 17.3061709\ttotal: 991ms\tremaining: 2s\n",
      "331:\tlearn: 17.2732138\ttotal: 994ms\tremaining: 2s\n",
      "332:\tlearn: 17.1284244\ttotal: 996ms\tremaining: 1.99s\n",
      "333:\tlearn: 17.0578788\ttotal: 998ms\tremaining: 1.99s\n",
      "334:\tlearn: 16.9109643\ttotal: 1s\tremaining: 1.99s\n",
      "335:\tlearn: 16.6595095\ttotal: 1s\tremaining: 1.99s\n",
      "336:\tlearn: 16.5240861\ttotal: 1.01s\tremaining: 1.98s\n",
      "337:\tlearn: 16.3631551\ttotal: 1.01s\tremaining: 1.98s\n",
      "338:\tlearn: 16.2364521\ttotal: 1.01s\tremaining: 1.97s\n",
      "339:\tlearn: 16.1259236\ttotal: 1.01s\tremaining: 1.97s\n",
      "340:\tlearn: 16.1070160\ttotal: 1.02s\tremaining: 1.97s\n",
      "341:\tlearn: 15.9446333\ttotal: 1.02s\tremaining: 1.96s\n",
      "342:\tlearn: 15.8404109\ttotal: 1.02s\tremaining: 1.96s\n",
      "343:\tlearn: 15.7616719\ttotal: 1.03s\tremaining: 1.96s\n",
      "344:\tlearn: 15.7046860\ttotal: 1.03s\tremaining: 1.96s\n",
      "345:\tlearn: 15.5565531\ttotal: 1.03s\tremaining: 1.95s\n",
      "346:\tlearn: 15.4739767\ttotal: 1.03s\tremaining: 1.95s\n",
      "347:\tlearn: 15.4214691\ttotal: 1.04s\tremaining: 1.94s\n",
      "348:\tlearn: 15.3830392\ttotal: 1.04s\tremaining: 1.94s\n",
      "349:\tlearn: 15.2925503\ttotal: 1.04s\tremaining: 1.94s\n",
      "350:\tlearn: 15.2685305\ttotal: 1.05s\tremaining: 1.94s\n",
      "351:\tlearn: 15.0959980\ttotal: 1.05s\tremaining: 1.93s\n",
      "352:\tlearn: 15.0185539\ttotal: 1.05s\tremaining: 1.93s\n",
      "353:\tlearn: 14.9344909\ttotal: 1.06s\tremaining: 1.93s\n",
      "354:\tlearn: 14.8185511\ttotal: 1.06s\tremaining: 1.93s\n",
      "355:\tlearn: 14.7621205\ttotal: 1.06s\tremaining: 1.92s\n",
      "356:\tlearn: 14.6824384\ttotal: 1.06s\tremaining: 1.92s\n",
      "357:\tlearn: 14.5918871\ttotal: 1.07s\tremaining: 1.91s\n",
      "358:\tlearn: 14.4898356\ttotal: 1.07s\tremaining: 1.91s\n",
      "359:\tlearn: 14.4773981\ttotal: 1.07s\tremaining: 1.91s\n",
      "360:\tlearn: 14.3256006\ttotal: 1.07s\tremaining: 1.9s\n",
      "361:\tlearn: 14.1704867\ttotal: 1.08s\tremaining: 1.9s\n",
      "362:\tlearn: 14.0453382\ttotal: 1.08s\tremaining: 1.9s\n",
      "363:\tlearn: 13.9488312\ttotal: 1.08s\tremaining: 1.89s\n",
      "364:\tlearn: 13.8932251\ttotal: 1.09s\tremaining: 1.89s\n",
      "365:\tlearn: 13.7368549\ttotal: 1.09s\tremaining: 1.89s\n",
      "366:\tlearn: 13.6533268\ttotal: 1.09s\tremaining: 1.88s\n",
      "367:\tlearn: 13.5191569\ttotal: 1.09s\tremaining: 1.88s\n",
      "368:\tlearn: 13.4712080\ttotal: 1.1s\tremaining: 1.88s\n",
      "369:\tlearn: 13.3454926\ttotal: 1.1s\tremaining: 1.87s\n",
      "370:\tlearn: 13.2804919\ttotal: 1.1s\tremaining: 1.87s\n",
      "371:\tlearn: 13.2609934\ttotal: 1.1s\tremaining: 1.87s\n",
      "372:\tlearn: 13.1804458\ttotal: 1.11s\tremaining: 1.86s\n",
      "373:\tlearn: 13.0381162\ttotal: 1.11s\tremaining: 1.86s\n",
      "374:\tlearn: 13.0250736\ttotal: 1.12s\tremaining: 1.86s\n",
      "375:\tlearn: 13.0006609\ttotal: 1.12s\tremaining: 1.86s\n",
      "376:\tlearn: 12.8507663\ttotal: 1.12s\tremaining: 1.85s\n",
      "377:\tlearn: 12.6986039\ttotal: 1.12s\tremaining: 1.85s\n",
      "378:\tlearn: 12.5574544\ttotal: 1.13s\tremaining: 1.85s\n",
      "379:\tlearn: 12.4864386\ttotal: 1.13s\tremaining: 1.84s\n",
      "380:\tlearn: 12.3739036\ttotal: 1.13s\tremaining: 1.84s\n",
      "381:\tlearn: 12.3110117\ttotal: 1.13s\tremaining: 1.83s\n",
      "382:\tlearn: 12.2077088\ttotal: 1.14s\tremaining: 1.83s\n",
      "383:\tlearn: 12.1065885\ttotal: 1.14s\tremaining: 1.83s\n",
      "384:\tlearn: 12.0323948\ttotal: 1.14s\tremaining: 1.83s\n",
      "385:\tlearn: 12.0014896\ttotal: 1.15s\tremaining: 1.82s\n",
      "386:\tlearn: 11.8568080\ttotal: 1.15s\tremaining: 1.82s\n",
      "387:\tlearn: 11.7867144\ttotal: 1.15s\tremaining: 1.81s\n",
      "388:\tlearn: 11.7500836\ttotal: 1.15s\tremaining: 1.81s\n",
      "389:\tlearn: 11.7348877\ttotal: 1.16s\tremaining: 1.81s\n",
      "390:\tlearn: 11.7286653\ttotal: 1.16s\tremaining: 1.8s\n",
      "391:\tlearn: 11.6241305\ttotal: 1.16s\tremaining: 1.8s\n",
      "392:\tlearn: 11.5960420\ttotal: 1.16s\tremaining: 1.8s\n",
      "393:\tlearn: 11.5729987\ttotal: 1.17s\tremaining: 1.8s\n",
      "394:\tlearn: 11.5635235\ttotal: 1.17s\tremaining: 1.79s\n",
      "395:\tlearn: 11.4873129\ttotal: 1.17s\tremaining: 1.79s\n",
      "396:\tlearn: 11.3564378\ttotal: 1.18s\tremaining: 1.79s\n",
      "397:\tlearn: 11.2078876\ttotal: 1.18s\tremaining: 1.78s\n",
      "398:\tlearn: 11.1598904\ttotal: 1.18s\tremaining: 1.78s\n",
      "399:\tlearn: 11.0885074\ttotal: 1.18s\tremaining: 1.77s\n",
      "400:\tlearn: 11.0278575\ttotal: 1.19s\tremaining: 1.77s\n",
      "401:\tlearn: 10.9865756\ttotal: 1.19s\tremaining: 1.77s\n",
      "402:\tlearn: 10.8794931\ttotal: 1.19s\tremaining: 1.76s\n",
      "403:\tlearn: 10.8382558\ttotal: 1.19s\tremaining: 1.76s\n",
      "404:\tlearn: 10.7596014\ttotal: 1.2s\tremaining: 1.76s\n",
      "405:\tlearn: 10.7064165\ttotal: 1.2s\tremaining: 1.75s\n",
      "406:\tlearn: 10.6372130\ttotal: 1.2s\tremaining: 1.75s\n",
      "407:\tlearn: 10.5505037\ttotal: 1.2s\tremaining: 1.74s\n",
      "408:\tlearn: 10.4676489\ttotal: 1.2s\tremaining: 1.74s\n",
      "409:\tlearn: 10.3632792\ttotal: 1.21s\tremaining: 1.74s\n",
      "410:\tlearn: 10.3399756\ttotal: 1.21s\tremaining: 1.73s\n",
      "411:\tlearn: 10.2905778\ttotal: 1.21s\tremaining: 1.73s\n",
      "412:\tlearn: 10.2175164\ttotal: 1.21s\tremaining: 1.72s\n",
      "413:\tlearn: 10.1482923\ttotal: 1.22s\tremaining: 1.72s\n",
      "414:\tlearn: 10.0590953\ttotal: 1.22s\tremaining: 1.72s\n",
      "415:\tlearn: 9.9982795\ttotal: 1.22s\tremaining: 1.71s\n",
      "416:\tlearn: 9.9099074\ttotal: 1.22s\tremaining: 1.71s\n",
      "417:\tlearn: 9.8641812\ttotal: 1.23s\tremaining: 1.71s\n",
      "418:\tlearn: 9.8207799\ttotal: 1.23s\tremaining: 1.7s\n",
      "419:\tlearn: 9.7000976\ttotal: 1.23s\tremaining: 1.7s\n",
      "420:\tlearn: 9.6211675\ttotal: 1.23s\tremaining: 1.69s\n",
      "421:\tlearn: 9.5821946\ttotal: 1.23s\tremaining: 1.69s\n",
      "422:\tlearn: 9.5314530\ttotal: 1.24s\tremaining: 1.69s\n",
      "423:\tlearn: 9.5231706\ttotal: 1.24s\tremaining: 1.68s\n",
      "424:\tlearn: 9.4897613\ttotal: 1.25s\tremaining: 1.68s\n",
      "425:\tlearn: 9.4178254\ttotal: 1.25s\tremaining: 1.68s\n",
      "426:\tlearn: 9.3468512\ttotal: 1.25s\tremaining: 1.68s\n",
      "427:\tlearn: 9.2916542\ttotal: 1.25s\tremaining: 1.67s\n",
      "428:\tlearn: 9.2671046\ttotal: 1.25s\tremaining: 1.67s\n",
      "429:\tlearn: 9.1507425\ttotal: 1.26s\tremaining: 1.67s\n",
      "430:\tlearn: 9.0905964\ttotal: 1.26s\tremaining: 1.67s\n",
      "431:\tlearn: 9.0599172\ttotal: 1.26s\tremaining: 1.66s\n",
      "432:\tlearn: 8.9911670\ttotal: 1.27s\tremaining: 1.66s\n",
      "433:\tlearn: 8.9769178\ttotal: 1.27s\tremaining: 1.66s\n",
      "434:\tlearn: 8.9011639\ttotal: 1.27s\tremaining: 1.66s\n",
      "435:\tlearn: 8.8578447\ttotal: 1.28s\tremaining: 1.65s\n",
      "436:\tlearn: 8.7766216\ttotal: 1.28s\tremaining: 1.65s\n",
      "437:\tlearn: 8.7600187\ttotal: 1.28s\tremaining: 1.64s\n",
      "438:\tlearn: 8.7039464\ttotal: 1.29s\tremaining: 1.64s\n",
      "439:\tlearn: 8.6701908\ttotal: 1.29s\tremaining: 1.64s\n",
      "440:\tlearn: 8.6561906\ttotal: 1.29s\tremaining: 1.64s\n",
      "441:\tlearn: 8.6030579\ttotal: 1.29s\tremaining: 1.63s\n",
      "442:\tlearn: 8.5192884\ttotal: 1.3s\tremaining: 1.63s\n",
      "443:\tlearn: 8.4605490\ttotal: 1.3s\tremaining: 1.63s\n",
      "444:\tlearn: 8.3846572\ttotal: 1.3s\tremaining: 1.62s\n",
      "445:\tlearn: 8.3429264\ttotal: 1.3s\tremaining: 1.62s\n",
      "446:\tlearn: 8.3068488\ttotal: 1.31s\tremaining: 1.62s\n",
      "447:\tlearn: 8.2662142\ttotal: 1.31s\tremaining: 1.61s\n",
      "448:\tlearn: 8.1806196\ttotal: 1.31s\tremaining: 1.61s\n",
      "449:\tlearn: 8.1475696\ttotal: 1.31s\tremaining: 1.61s\n",
      "450:\tlearn: 8.1145904\ttotal: 1.32s\tremaining: 1.6s\n",
      "451:\tlearn: 8.0740309\ttotal: 1.32s\tremaining: 1.6s\n",
      "452:\tlearn: 8.0095799\ttotal: 1.32s\tremaining: 1.6s\n",
      "453:\tlearn: 7.9857193\ttotal: 1.32s\tremaining: 1.59s\n",
      "454:\tlearn: 7.9300069\ttotal: 1.33s\tremaining: 1.59s\n",
      "455:\tlearn: 7.9088282\ttotal: 1.33s\tremaining: 1.58s\n",
      "456:\tlearn: 7.8726359\ttotal: 1.33s\tremaining: 1.58s\n",
      "457:\tlearn: 7.8453260\ttotal: 1.33s\tremaining: 1.58s\n",
      "458:\tlearn: 7.8015145\ttotal: 1.33s\tremaining: 1.57s\n",
      "459:\tlearn: 7.7552434\ttotal: 1.34s\tremaining: 1.57s\n",
      "460:\tlearn: 7.7033074\ttotal: 1.34s\tremaining: 1.57s\n",
      "461:\tlearn: 7.6732816\ttotal: 1.34s\tremaining: 1.56s\n",
      "462:\tlearn: 7.6387343\ttotal: 1.35s\tremaining: 1.56s\n",
      "463:\tlearn: 7.5939225\ttotal: 1.35s\tremaining: 1.56s\n",
      "464:\tlearn: 7.5495985\ttotal: 1.35s\tremaining: 1.55s\n",
      "465:\tlearn: 7.5164784\ttotal: 1.35s\tremaining: 1.55s\n",
      "466:\tlearn: 7.4692120\ttotal: 1.36s\tremaining: 1.55s\n",
      "467:\tlearn: 7.4602739\ttotal: 1.36s\tremaining: 1.54s\n",
      "468:\tlearn: 7.4245927\ttotal: 1.36s\tremaining: 1.54s\n",
      "469:\tlearn: 7.3402299\ttotal: 1.36s\tremaining: 1.54s\n",
      "470:\tlearn: 7.2998185\ttotal: 1.36s\tremaining: 1.53s\n",
      "471:\tlearn: 7.2014577\ttotal: 1.37s\tremaining: 1.53s\n",
      "472:\tlearn: 7.1904207\ttotal: 1.37s\tremaining: 1.53s\n",
      "473:\tlearn: 7.1527862\ttotal: 1.37s\tremaining: 1.52s\n",
      "474:\tlearn: 7.0771473\ttotal: 1.38s\tremaining: 1.52s\n",
      "475:\tlearn: 7.0539525\ttotal: 1.38s\tremaining: 1.52s\n",
      "476:\tlearn: 6.9846025\ttotal: 1.38s\tremaining: 1.51s\n",
      "477:\tlearn: 6.9534313\ttotal: 1.39s\tremaining: 1.51s\n",
      "478:\tlearn: 6.8975880\ttotal: 1.39s\tremaining: 1.51s\n",
      "479:\tlearn: 6.8254191\ttotal: 1.39s\tremaining: 1.51s\n",
      "480:\tlearn: 6.8112478\ttotal: 1.4s\tremaining: 1.51s\n",
      "481:\tlearn: 6.7648902\ttotal: 1.4s\tremaining: 1.51s\n",
      "482:\tlearn: 6.6860735\ttotal: 1.41s\tremaining: 1.51s\n",
      "483:\tlearn: 6.6633461\ttotal: 1.41s\tremaining: 1.5s\n",
      "484:\tlearn: 6.6475279\ttotal: 1.41s\tremaining: 1.5s\n",
      "485:\tlearn: 6.5921608\ttotal: 1.42s\tremaining: 1.5s\n",
      "486:\tlearn: 6.5602794\ttotal: 1.42s\tremaining: 1.5s\n",
      "487:\tlearn: 6.5499659\ttotal: 1.42s\tremaining: 1.49s\n",
      "488:\tlearn: 6.4940006\ttotal: 1.43s\tremaining: 1.49s\n",
      "489:\tlearn: 6.4247752\ttotal: 1.43s\tremaining: 1.49s\n",
      "490:\tlearn: 6.3877601\ttotal: 1.43s\tremaining: 1.48s\n",
      "491:\tlearn: 6.3314191\ttotal: 1.43s\tremaining: 1.48s\n",
      "492:\tlearn: 6.2812751\ttotal: 1.44s\tremaining: 1.48s\n",
      "493:\tlearn: 6.2685065\ttotal: 1.44s\tremaining: 1.47s\n",
      "494:\tlearn: 6.2241138\ttotal: 1.44s\tremaining: 1.47s\n",
      "495:\tlearn: 6.1695214\ttotal: 1.44s\tremaining: 1.47s\n",
      "496:\tlearn: 6.1421906\ttotal: 1.45s\tremaining: 1.47s\n",
      "497:\tlearn: 6.1331850\ttotal: 1.45s\tremaining: 1.46s\n",
      "498:\tlearn: 6.1166327\ttotal: 1.45s\tremaining: 1.46s\n",
      "499:\tlearn: 6.0829602\ttotal: 1.46s\tremaining: 1.46s\n",
      "500:\tlearn: 6.0650422\ttotal: 1.46s\tremaining: 1.45s\n",
      "501:\tlearn: 6.0436563\ttotal: 1.46s\tremaining: 1.45s\n",
      "502:\tlearn: 5.9902804\ttotal: 1.46s\tremaining: 1.45s\n",
      "503:\tlearn: 5.9121675\ttotal: 1.47s\tremaining: 1.44s\n",
      "504:\tlearn: 5.9091850\ttotal: 1.47s\tremaining: 1.44s\n",
      "505:\tlearn: 5.8967995\ttotal: 1.47s\tremaining: 1.44s\n",
      "506:\tlearn: 5.8430221\ttotal: 1.48s\tremaining: 1.43s\n",
      "507:\tlearn: 5.8135495\ttotal: 1.48s\tremaining: 1.43s\n",
      "508:\tlearn: 5.7890913\ttotal: 1.48s\tremaining: 1.43s\n",
      "509:\tlearn: 5.7577091\ttotal: 1.48s\tremaining: 1.42s\n",
      "510:\tlearn: 5.7523488\ttotal: 1.48s\tremaining: 1.42s\n",
      "511:\tlearn: 5.6546493\ttotal: 1.49s\tremaining: 1.42s\n",
      "512:\tlearn: 5.6194513\ttotal: 1.49s\tremaining: 1.42s\n",
      "513:\tlearn: 5.5672252\ttotal: 1.49s\tremaining: 1.41s\n",
      "514:\tlearn: 5.5539421\ttotal: 1.5s\tremaining: 1.41s\n",
      "515:\tlearn: 5.5185620\ttotal: 1.5s\tremaining: 1.4s\n",
      "516:\tlearn: 5.4789463\ttotal: 1.5s\tremaining: 1.4s\n",
      "517:\tlearn: 5.4236755\ttotal: 1.5s\tremaining: 1.4s\n",
      "518:\tlearn: 5.3864207\ttotal: 1.5s\tremaining: 1.39s\n",
      "519:\tlearn: 5.3533466\ttotal: 1.51s\tremaining: 1.39s\n",
      "520:\tlearn: 5.3369921\ttotal: 1.51s\tremaining: 1.39s\n",
      "521:\tlearn: 5.2560437\ttotal: 1.51s\tremaining: 1.39s\n",
      "522:\tlearn: 5.2017840\ttotal: 1.52s\tremaining: 1.38s\n",
      "523:\tlearn: 5.1755812\ttotal: 1.52s\tremaining: 1.38s\n",
      "524:\tlearn: 5.1385832\ttotal: 1.52s\tremaining: 1.38s\n",
      "525:\tlearn: 5.1335579\ttotal: 1.52s\tremaining: 1.37s\n",
      "526:\tlearn: 5.0585358\ttotal: 1.52s\tremaining: 1.37s\n",
      "527:\tlearn: 5.0021152\ttotal: 1.53s\tremaining: 1.37s\n",
      "528:\tlearn: 4.9822398\ttotal: 1.53s\tremaining: 1.36s\n",
      "529:\tlearn: 4.9752376\ttotal: 1.53s\tremaining: 1.36s\n",
      "530:\tlearn: 4.9479232\ttotal: 1.53s\tremaining: 1.36s\n",
      "531:\tlearn: 4.9271142\ttotal: 1.54s\tremaining: 1.35s\n",
      "532:\tlearn: 4.9023595\ttotal: 1.54s\tremaining: 1.35s\n",
      "533:\tlearn: 4.8555527\ttotal: 1.54s\tremaining: 1.35s\n",
      "534:\tlearn: 4.8367794\ttotal: 1.55s\tremaining: 1.34s\n",
      "535:\tlearn: 4.7952444\ttotal: 1.55s\tremaining: 1.34s\n",
      "536:\tlearn: 4.7409194\ttotal: 1.55s\tremaining: 1.34s\n",
      "537:\tlearn: 4.6929973\ttotal: 1.56s\tremaining: 1.34s\n",
      "538:\tlearn: 4.6579685\ttotal: 1.56s\tremaining: 1.33s\n",
      "539:\tlearn: 4.6195745\ttotal: 1.56s\tremaining: 1.33s\n",
      "540:\tlearn: 4.5964136\ttotal: 1.56s\tremaining: 1.33s\n",
      "541:\tlearn: 4.5836819\ttotal: 1.57s\tremaining: 1.32s\n",
      "542:\tlearn: 4.5766395\ttotal: 1.57s\tremaining: 1.32s\n",
      "543:\tlearn: 4.5639948\ttotal: 1.57s\tremaining: 1.32s\n",
      "544:\tlearn: 4.5321336\ttotal: 1.57s\tremaining: 1.31s\n",
      "545:\tlearn: 4.5257262\ttotal: 1.58s\tremaining: 1.31s\n",
      "546:\tlearn: 4.5121200\ttotal: 1.58s\tremaining: 1.31s\n",
      "547:\tlearn: 4.5000971\ttotal: 1.58s\tremaining: 1.31s\n",
      "548:\tlearn: 4.4699564\ttotal: 1.59s\tremaining: 1.3s\n",
      "549:\tlearn: 4.4223918\ttotal: 1.59s\tremaining: 1.3s\n",
      "550:\tlearn: 4.3900850\ttotal: 1.59s\tremaining: 1.3s\n",
      "551:\tlearn: 4.3865832\ttotal: 1.6s\tremaining: 1.29s\n",
      "552:\tlearn: 4.3555236\ttotal: 1.6s\tremaining: 1.29s\n",
      "553:\tlearn: 4.3326942\ttotal: 1.6s\tremaining: 1.29s\n",
      "554:\tlearn: 4.3083453\ttotal: 1.6s\tremaining: 1.29s\n",
      "555:\tlearn: 4.2783012\ttotal: 1.61s\tremaining: 1.28s\n",
      "556:\tlearn: 4.2386680\ttotal: 1.61s\tremaining: 1.28s\n",
      "557:\tlearn: 4.1982182\ttotal: 1.61s\tremaining: 1.28s\n",
      "558:\tlearn: 4.1818634\ttotal: 1.62s\tremaining: 1.27s\n",
      "559:\tlearn: 4.1603123\ttotal: 1.62s\tremaining: 1.27s\n",
      "560:\tlearn: 4.1162392\ttotal: 1.62s\tremaining: 1.27s\n",
      "561:\tlearn: 4.0942539\ttotal: 1.62s\tremaining: 1.27s\n",
      "562:\tlearn: 4.0833944\ttotal: 1.63s\tremaining: 1.26s\n",
      "563:\tlearn: 4.0651220\ttotal: 1.63s\tremaining: 1.26s\n",
      "564:\tlearn: 4.0359525\ttotal: 1.63s\tremaining: 1.26s\n",
      "565:\tlearn: 4.0331482\ttotal: 1.64s\tremaining: 1.25s\n",
      "566:\tlearn: 4.0110785\ttotal: 1.64s\tremaining: 1.25s\n",
      "567:\tlearn: 3.9846807\ttotal: 1.64s\tremaining: 1.25s\n",
      "568:\tlearn: 3.9611224\ttotal: 1.64s\tremaining: 1.25s\n",
      "569:\tlearn: 3.9238317\ttotal: 1.65s\tremaining: 1.24s\n",
      "570:\tlearn: 3.9105718\ttotal: 1.65s\tremaining: 1.24s\n",
      "571:\tlearn: 3.8725349\ttotal: 1.65s\tremaining: 1.24s\n",
      "572:\tlearn: 3.8589458\ttotal: 1.66s\tremaining: 1.23s\n",
      "573:\tlearn: 3.8201118\ttotal: 1.66s\tremaining: 1.23s\n",
      "574:\tlearn: 3.8100971\ttotal: 1.66s\tremaining: 1.23s\n",
      "575:\tlearn: 3.7824233\ttotal: 1.67s\tremaining: 1.23s\n",
      "576:\tlearn: 3.7652240\ttotal: 1.67s\tremaining: 1.22s\n",
      "577:\tlearn: 3.7320270\ttotal: 1.67s\tremaining: 1.22s\n",
      "578:\tlearn: 3.7227983\ttotal: 1.67s\tremaining: 1.22s\n",
      "579:\tlearn: 3.7007934\ttotal: 1.68s\tremaining: 1.21s\n",
      "580:\tlearn: 3.6703626\ttotal: 1.68s\tremaining: 1.21s\n",
      "581:\tlearn: 3.6587500\ttotal: 1.68s\tremaining: 1.21s\n",
      "582:\tlearn: 3.6435213\ttotal: 1.68s\tremaining: 1.2s\n",
      "583:\tlearn: 3.6165255\ttotal: 1.68s\tremaining: 1.2s\n",
      "584:\tlearn: 3.5921438\ttotal: 1.69s\tremaining: 1.2s\n",
      "585:\tlearn: 3.5823094\ttotal: 1.69s\tremaining: 1.19s\n",
      "586:\tlearn: 3.5707107\ttotal: 1.69s\tremaining: 1.19s\n",
      "587:\tlearn: 3.5585582\ttotal: 1.7s\tremaining: 1.19s\n",
      "588:\tlearn: 3.5083056\ttotal: 1.7s\tremaining: 1.19s\n",
      "589:\tlearn: 3.4896083\ttotal: 1.7s\tremaining: 1.18s\n",
      "590:\tlearn: 3.4745190\ttotal: 1.71s\tremaining: 1.18s\n",
      "591:\tlearn: 3.4627260\ttotal: 1.71s\tremaining: 1.18s\n",
      "592:\tlearn: 3.4385625\ttotal: 1.71s\tremaining: 1.17s\n",
      "593:\tlearn: 3.3997235\ttotal: 1.71s\tremaining: 1.17s\n",
      "594:\tlearn: 3.3764192\ttotal: 1.72s\tremaining: 1.17s\n",
      "595:\tlearn: 3.3590522\ttotal: 1.72s\tremaining: 1.16s\n",
      "596:\tlearn: 3.3474857\ttotal: 1.72s\tremaining: 1.16s\n",
      "597:\tlearn: 3.3123623\ttotal: 1.72s\tremaining: 1.16s\n",
      "598:\tlearn: 3.2999589\ttotal: 1.73s\tremaining: 1.16s\n",
      "599:\tlearn: 3.2767538\ttotal: 1.73s\tremaining: 1.15s\n",
      "600:\tlearn: 3.2530783\ttotal: 1.73s\tremaining: 1.15s\n",
      "601:\tlearn: 3.2269777\ttotal: 1.74s\tremaining: 1.15s\n",
      "602:\tlearn: 3.1938868\ttotal: 1.74s\tremaining: 1.14s\n",
      "603:\tlearn: 3.1728589\ttotal: 1.74s\tremaining: 1.14s\n",
      "604:\tlearn: 3.1549029\ttotal: 1.74s\tremaining: 1.14s\n",
      "605:\tlearn: 3.1478118\ttotal: 1.75s\tremaining: 1.13s\n",
      "606:\tlearn: 3.1145245\ttotal: 1.75s\tremaining: 1.13s\n",
      "607:\tlearn: 3.0718905\ttotal: 1.75s\tremaining: 1.13s\n",
      "608:\tlearn: 3.0352714\ttotal: 1.75s\tremaining: 1.13s\n",
      "609:\tlearn: 2.9984985\ttotal: 1.76s\tremaining: 1.12s\n",
      "610:\tlearn: 2.9594115\ttotal: 1.76s\tremaining: 1.12s\n",
      "611:\tlearn: 2.9438145\ttotal: 1.76s\tremaining: 1.12s\n",
      "612:\tlearn: 2.9265773\ttotal: 1.76s\tremaining: 1.11s\n",
      "613:\tlearn: 2.9036898\ttotal: 1.77s\tremaining: 1.11s\n",
      "614:\tlearn: 2.8790612\ttotal: 1.77s\tremaining: 1.11s\n",
      "615:\tlearn: 2.8654898\ttotal: 1.77s\tremaining: 1.1s\n",
      "616:\tlearn: 2.8462561\ttotal: 1.77s\tremaining: 1.1s\n",
      "617:\tlearn: 2.8254976\ttotal: 1.77s\tremaining: 1.1s\n",
      "618:\tlearn: 2.8190407\ttotal: 1.78s\tremaining: 1.09s\n",
      "619:\tlearn: 2.8129812\ttotal: 1.78s\tremaining: 1.09s\n",
      "620:\tlearn: 2.8097755\ttotal: 1.78s\tremaining: 1.09s\n",
      "621:\tlearn: 2.7960320\ttotal: 1.78s\tremaining: 1.08s\n",
      "622:\tlearn: 2.7878495\ttotal: 1.79s\tremaining: 1.08s\n",
      "623:\tlearn: 2.7602980\ttotal: 1.79s\tremaining: 1.08s\n",
      "624:\tlearn: 2.7341408\ttotal: 1.79s\tremaining: 1.07s\n",
      "625:\tlearn: 2.7302545\ttotal: 1.79s\tremaining: 1.07s\n",
      "626:\tlearn: 2.7120252\ttotal: 1.8s\tremaining: 1.07s\n",
      "627:\tlearn: 2.7075024\ttotal: 1.8s\tremaining: 1.06s\n",
      "628:\tlearn: 2.6970031\ttotal: 1.8s\tremaining: 1.06s\n",
      "629:\tlearn: 2.6928246\ttotal: 1.8s\tremaining: 1.06s\n",
      "630:\tlearn: 2.6709120\ttotal: 1.8s\tremaining: 1.05s\n",
      "631:\tlearn: 2.6656247\ttotal: 1.81s\tremaining: 1.05s\n",
      "632:\tlearn: 2.6452838\ttotal: 1.81s\tremaining: 1.05s\n",
      "633:\tlearn: 2.6271014\ttotal: 1.81s\tremaining: 1.05s\n",
      "634:\tlearn: 2.6089454\ttotal: 1.81s\tremaining: 1.04s\n",
      "635:\tlearn: 2.5996271\ttotal: 1.82s\tremaining: 1.04s\n",
      "636:\tlearn: 2.5923568\ttotal: 1.82s\tremaining: 1.04s\n",
      "637:\tlearn: 2.5837611\ttotal: 1.82s\tremaining: 1.03s\n",
      "638:\tlearn: 2.5726721\ttotal: 1.82s\tremaining: 1.03s\n",
      "639:\tlearn: 2.5577477\ttotal: 1.83s\tremaining: 1.03s\n",
      "640:\tlearn: 2.5500744\ttotal: 1.83s\tremaining: 1.02s\n",
      "641:\tlearn: 2.5274442\ttotal: 1.83s\tremaining: 1.02s\n",
      "642:\tlearn: 2.5157559\ttotal: 1.83s\tremaining: 1.02s\n",
      "643:\tlearn: 2.5053856\ttotal: 1.84s\tremaining: 1.01s\n",
      "644:\tlearn: 2.4841922\ttotal: 1.84s\tremaining: 1.01s\n",
      "645:\tlearn: 2.4674035\ttotal: 1.84s\tremaining: 1.01s\n",
      "646:\tlearn: 2.4484158\ttotal: 1.85s\tremaining: 1.01s\n",
      "647:\tlearn: 2.4263246\ttotal: 1.85s\tremaining: 1s\n",
      "648:\tlearn: 2.4052258\ttotal: 1.85s\tremaining: 1s\n",
      "649:\tlearn: 2.3816894\ttotal: 1.85s\tremaining: 999ms\n",
      "650:\tlearn: 2.3659119\ttotal: 1.86s\tremaining: 995ms\n",
      "651:\tlearn: 2.3576051\ttotal: 1.86s\tremaining: 992ms\n",
      "652:\tlearn: 2.3288476\ttotal: 1.86s\tremaining: 990ms\n",
      "653:\tlearn: 2.3109502\ttotal: 1.87s\tremaining: 988ms\n",
      "654:\tlearn: 2.3021504\ttotal: 1.87s\tremaining: 984ms\n",
      "655:\tlearn: 2.3009515\ttotal: 1.87s\tremaining: 981ms\n",
      "656:\tlearn: 2.2893680\ttotal: 1.87s\tremaining: 978ms\n",
      "657:\tlearn: 2.2852898\ttotal: 1.88s\tremaining: 975ms\n",
      "658:\tlearn: 2.2647131\ttotal: 1.88s\tremaining: 971ms\n",
      "659:\tlearn: 2.2437777\ttotal: 1.88s\tremaining: 968ms\n",
      "660:\tlearn: 2.2228007\ttotal: 1.88s\tremaining: 965ms\n",
      "661:\tlearn: 2.2030047\ttotal: 1.88s\tremaining: 961ms\n",
      "662:\tlearn: 2.1823076\ttotal: 1.89s\tremaining: 958ms\n",
      "663:\tlearn: 2.1607769\ttotal: 1.89s\tremaining: 956ms\n",
      "664:\tlearn: 2.1491049\ttotal: 1.89s\tremaining: 952ms\n",
      "665:\tlearn: 2.1403920\ttotal: 1.89s\tremaining: 949ms\n",
      "666:\tlearn: 2.1255852\ttotal: 1.89s\tremaining: 946ms\n",
      "667:\tlearn: 2.1087714\ttotal: 1.9s\tremaining: 942ms\n",
      "668:\tlearn: 2.1033385\ttotal: 1.9s\tremaining: 939ms\n",
      "669:\tlearn: 2.0923091\ttotal: 1.9s\tremaining: 936ms\n",
      "670:\tlearn: 2.0834076\ttotal: 1.9s\tremaining: 933ms\n",
      "671:\tlearn: 2.0735926\ttotal: 1.9s\tremaining: 929ms\n",
      "672:\tlearn: 2.0603541\ttotal: 1.91s\tremaining: 926ms\n",
      "673:\tlearn: 2.0576392\ttotal: 1.91s\tremaining: 923ms\n",
      "674:\tlearn: 2.0455537\ttotal: 1.91s\tremaining: 920ms\n",
      "675:\tlearn: 2.0282804\ttotal: 1.91s\tremaining: 918ms\n",
      "676:\tlearn: 2.0217423\ttotal: 1.92s\tremaining: 914ms\n",
      "677:\tlearn: 2.0119192\ttotal: 1.92s\tremaining: 911ms\n",
      "678:\tlearn: 2.0001332\ttotal: 1.92s\tremaining: 908ms\n",
      "679:\tlearn: 1.9979894\ttotal: 1.92s\tremaining: 905ms\n",
      "680:\tlearn: 1.9907747\ttotal: 1.92s\tremaining: 902ms\n",
      "681:\tlearn: 1.9736817\ttotal: 1.93s\tremaining: 899ms\n",
      "682:\tlearn: 1.9600965\ttotal: 1.93s\tremaining: 897ms\n",
      "683:\tlearn: 1.9539201\ttotal: 1.93s\tremaining: 893ms\n",
      "684:\tlearn: 1.9449369\ttotal: 1.94s\tremaining: 890ms\n",
      "685:\tlearn: 1.9419454\ttotal: 1.94s\tremaining: 887ms\n",
      "686:\tlearn: 1.9326842\ttotal: 1.94s\tremaining: 885ms\n",
      "687:\tlearn: 1.9288548\ttotal: 1.94s\tremaining: 882ms\n",
      "688:\tlearn: 1.9236716\ttotal: 1.95s\tremaining: 878ms\n",
      "689:\tlearn: 1.9228496\ttotal: 1.95s\tremaining: 875ms\n",
      "690:\tlearn: 1.9176354\ttotal: 1.95s\tremaining: 872ms\n",
      "691:\tlearn: 1.9147659\ttotal: 1.95s\tremaining: 869ms\n",
      "692:\tlearn: 1.9079892\ttotal: 1.96s\tremaining: 866ms\n",
      "693:\tlearn: 1.9048238\ttotal: 1.96s\tremaining: 863ms\n",
      "694:\tlearn: 1.8959419\ttotal: 1.96s\tremaining: 860ms\n",
      "695:\tlearn: 1.8711502\ttotal: 1.96s\tremaining: 858ms\n",
      "696:\tlearn: 1.8583228\ttotal: 1.97s\tremaining: 855ms\n",
      "697:\tlearn: 1.8482604\ttotal: 1.97s\tremaining: 851ms\n",
      "698:\tlearn: 1.8456936\ttotal: 1.97s\tremaining: 848ms\n",
      "699:\tlearn: 1.8273471\ttotal: 1.97s\tremaining: 845ms\n",
      "700:\tlearn: 1.8067825\ttotal: 1.97s\tremaining: 842ms\n",
      "701:\tlearn: 1.8022221\ttotal: 1.98s\tremaining: 839ms\n",
      "702:\tlearn: 1.7912070\ttotal: 1.98s\tremaining: 837ms\n",
      "703:\tlearn: 1.7755760\ttotal: 1.98s\tremaining: 834ms\n",
      "704:\tlearn: 1.7712682\ttotal: 1.98s\tremaining: 831ms\n",
      "705:\tlearn: 1.7648319\ttotal: 1.99s\tremaining: 827ms\n",
      "706:\tlearn: 1.7532904\ttotal: 1.99s\tremaining: 824ms\n",
      "707:\tlearn: 1.7463625\ttotal: 1.99s\tremaining: 821ms\n",
      "708:\tlearn: 1.7418161\ttotal: 2s\tremaining: 819ms\n",
      "709:\tlearn: 1.7272345\ttotal: 2s\tremaining: 816ms\n",
      "710:\tlearn: 1.7217505\ttotal: 2s\tremaining: 814ms\n",
      "711:\tlearn: 1.7151154\ttotal: 2s\tremaining: 811ms\n",
      "712:\tlearn: 1.7092925\ttotal: 2.01s\tremaining: 809ms\n",
      "713:\tlearn: 1.7025995\ttotal: 2.01s\tremaining: 806ms\n",
      "714:\tlearn: 1.6807623\ttotal: 2.01s\tremaining: 803ms\n",
      "715:\tlearn: 1.6674907\ttotal: 2.02s\tremaining: 800ms\n",
      "716:\tlearn: 1.6544638\ttotal: 2.02s\tremaining: 797ms\n",
      "717:\tlearn: 1.6411236\ttotal: 2.02s\tremaining: 794ms\n",
      "718:\tlearn: 1.6290477\ttotal: 2.02s\tremaining: 791ms\n",
      "719:\tlearn: 1.6222366\ttotal: 2.03s\tremaining: 788ms\n",
      "720:\tlearn: 1.6142656\ttotal: 2.03s\tremaining: 785ms\n",
      "721:\tlearn: 1.6004470\ttotal: 2.03s\tremaining: 782ms\n",
      "722:\tlearn: 1.5932177\ttotal: 2.03s\tremaining: 779ms\n",
      "723:\tlearn: 1.5743215\ttotal: 2.04s\tremaining: 776ms\n",
      "724:\tlearn: 1.5629066\ttotal: 2.04s\tremaining: 773ms\n",
      "725:\tlearn: 1.5505525\ttotal: 2.04s\tremaining: 770ms\n",
      "726:\tlearn: 1.5302974\ttotal: 2.04s\tremaining: 767ms\n",
      "727:\tlearn: 1.5260700\ttotal: 2.04s\tremaining: 764ms\n",
      "728:\tlearn: 1.5188723\ttotal: 2.05s\tremaining: 761ms\n",
      "729:\tlearn: 1.5085309\ttotal: 2.05s\tremaining: 758ms\n",
      "730:\tlearn: 1.5038733\ttotal: 2.05s\tremaining: 755ms\n",
      "731:\tlearn: 1.5008194\ttotal: 2.06s\tremaining: 753ms\n",
      "732:\tlearn: 1.4908829\ttotal: 2.06s\tremaining: 750ms\n",
      "733:\tlearn: 1.4782605\ttotal: 2.06s\tremaining: 747ms\n",
      "734:\tlearn: 1.4639356\ttotal: 2.06s\tremaining: 744ms\n",
      "735:\tlearn: 1.4471455\ttotal: 2.06s\tremaining: 741ms\n",
      "736:\tlearn: 1.4454285\ttotal: 2.07s\tremaining: 738ms\n",
      "737:\tlearn: 1.4416273\ttotal: 2.07s\tremaining: 735ms\n",
      "738:\tlearn: 1.4302267\ttotal: 2.07s\tremaining: 732ms\n",
      "739:\tlearn: 1.4219328\ttotal: 2.07s\tremaining: 729ms\n",
      "740:\tlearn: 1.4105579\ttotal: 2.08s\tremaining: 726ms\n",
      "741:\tlearn: 1.4075838\ttotal: 2.08s\tremaining: 723ms\n",
      "742:\tlearn: 1.4017014\ttotal: 2.08s\tremaining: 720ms\n",
      "743:\tlearn: 1.3974208\ttotal: 2.08s\tremaining: 717ms\n",
      "744:\tlearn: 1.3862572\ttotal: 2.09s\tremaining: 714ms\n",
      "745:\tlearn: 1.3729360\ttotal: 2.09s\tremaining: 711ms\n",
      "746:\tlearn: 1.3630904\ttotal: 2.09s\tremaining: 708ms\n",
      "747:\tlearn: 1.3477583\ttotal: 2.09s\tremaining: 705ms\n",
      "748:\tlearn: 1.3348270\ttotal: 2.1s\tremaining: 702ms\n",
      "749:\tlearn: 1.3236754\ttotal: 2.1s\tremaining: 700ms\n",
      "750:\tlearn: 1.3171961\ttotal: 2.1s\tremaining: 697ms\n",
      "751:\tlearn: 1.3113457\ttotal: 2.1s\tremaining: 694ms\n",
      "752:\tlearn: 1.3036391\ttotal: 2.1s\tremaining: 691ms\n",
      "753:\tlearn: 1.2935829\ttotal: 2.11s\tremaining: 687ms\n",
      "754:\tlearn: 1.2837612\ttotal: 2.11s\tremaining: 685ms\n",
      "755:\tlearn: 1.2768260\ttotal: 2.11s\tremaining: 682ms\n",
      "756:\tlearn: 1.2689370\ttotal: 2.11s\tremaining: 679ms\n",
      "757:\tlearn: 1.2561567\ttotal: 2.12s\tremaining: 676ms\n",
      "758:\tlearn: 1.2475100\ttotal: 2.12s\tremaining: 673ms\n",
      "759:\tlearn: 1.2405978\ttotal: 2.12s\tremaining: 670ms\n",
      "760:\tlearn: 1.2342628\ttotal: 2.13s\tremaining: 667ms\n",
      "761:\tlearn: 1.2271880\ttotal: 2.13s\tremaining: 665ms\n",
      "762:\tlearn: 1.2138527\ttotal: 2.13s\tremaining: 662ms\n",
      "763:\tlearn: 1.2076889\ttotal: 2.13s\tremaining: 659ms\n",
      "764:\tlearn: 1.2041847\ttotal: 2.13s\tremaining: 656ms\n",
      "765:\tlearn: 1.1970019\ttotal: 2.14s\tremaining: 653ms\n",
      "766:\tlearn: 1.1892878\ttotal: 2.14s\tremaining: 651ms\n",
      "767:\tlearn: 1.1858432\ttotal: 2.15s\tremaining: 648ms\n",
      "768:\tlearn: 1.1746182\ttotal: 2.15s\tremaining: 645ms\n",
      "769:\tlearn: 1.1694876\ttotal: 2.15s\tremaining: 643ms\n",
      "770:\tlearn: 1.1657055\ttotal: 2.15s\tremaining: 640ms\n",
      "771:\tlearn: 1.1556043\ttotal: 2.16s\tremaining: 637ms\n",
      "772:\tlearn: 1.1540774\ttotal: 2.16s\tremaining: 634ms\n",
      "773:\tlearn: 1.1473715\ttotal: 2.16s\tremaining: 631ms\n",
      "774:\tlearn: 1.1419763\ttotal: 2.17s\tremaining: 629ms\n",
      "775:\tlearn: 1.1303590\ttotal: 2.17s\tremaining: 626ms\n",
      "776:\tlearn: 1.1230587\ttotal: 2.17s\tremaining: 623ms\n",
      "777:\tlearn: 1.1143917\ttotal: 2.17s\tremaining: 620ms\n",
      "778:\tlearn: 1.1112687\ttotal: 2.18s\tremaining: 617ms\n",
      "779:\tlearn: 1.1009863\ttotal: 2.18s\tremaining: 615ms\n",
      "780:\tlearn: 1.0899260\ttotal: 2.18s\tremaining: 612ms\n",
      "781:\tlearn: 1.0855158\ttotal: 2.19s\tremaining: 609ms\n",
      "782:\tlearn: 1.0808031\ttotal: 2.19s\tremaining: 606ms\n",
      "783:\tlearn: 1.0763884\ttotal: 2.19s\tremaining: 603ms\n",
      "784:\tlearn: 1.0710758\ttotal: 2.19s\tremaining: 601ms\n",
      "785:\tlearn: 1.0634482\ttotal: 2.2s\tremaining: 598ms\n",
      "786:\tlearn: 1.0529874\ttotal: 2.2s\tremaining: 595ms\n",
      "787:\tlearn: 1.0501903\ttotal: 2.2s\tremaining: 592ms\n",
      "788:\tlearn: 1.0410587\ttotal: 2.2s\tremaining: 589ms\n",
      "789:\tlearn: 1.0386261\ttotal: 2.21s\tremaining: 587ms\n",
      "790:\tlearn: 1.0351082\ttotal: 2.21s\tremaining: 584ms\n",
      "791:\tlearn: 1.0320987\ttotal: 2.21s\tremaining: 581ms\n",
      "792:\tlearn: 1.0294915\ttotal: 2.21s\tremaining: 578ms\n",
      "793:\tlearn: 1.0233284\ttotal: 2.22s\tremaining: 575ms\n",
      "794:\tlearn: 1.0176815\ttotal: 2.22s\tremaining: 573ms\n",
      "795:\tlearn: 1.0074411\ttotal: 2.22s\tremaining: 570ms\n",
      "796:\tlearn: 1.0020197\ttotal: 2.23s\tremaining: 567ms\n",
      "797:\tlearn: 0.9989044\ttotal: 2.23s\tremaining: 564ms\n",
      "798:\tlearn: 0.9937483\ttotal: 2.23s\tremaining: 561ms\n",
      "799:\tlearn: 0.9867329\ttotal: 2.23s\tremaining: 559ms\n",
      "800:\tlearn: 0.9819829\ttotal: 2.24s\tremaining: 556ms\n",
      "801:\tlearn: 0.9777514\ttotal: 2.24s\tremaining: 553ms\n",
      "802:\tlearn: 0.9757462\ttotal: 2.24s\tremaining: 550ms\n",
      "803:\tlearn: 0.9702440\ttotal: 2.24s\tremaining: 547ms\n",
      "804:\tlearn: 0.9636471\ttotal: 2.25s\tremaining: 544ms\n",
      "805:\tlearn: 0.9548362\ttotal: 2.25s\tremaining: 542ms\n",
      "806:\tlearn: 0.9470745\ttotal: 2.25s\tremaining: 539ms\n",
      "807:\tlearn: 0.9408578\ttotal: 2.25s\tremaining: 536ms\n",
      "808:\tlearn: 0.9350692\ttotal: 2.26s\tremaining: 533ms\n",
      "809:\tlearn: 0.9290967\ttotal: 2.26s\tremaining: 530ms\n",
      "810:\tlearn: 0.9267158\ttotal: 2.26s\tremaining: 528ms\n",
      "811:\tlearn: 0.9235794\ttotal: 2.27s\tremaining: 525ms\n",
      "812:\tlearn: 0.9226084\ttotal: 2.27s\tremaining: 522ms\n",
      "813:\tlearn: 0.9139012\ttotal: 2.27s\tremaining: 519ms\n",
      "814:\tlearn: 0.9073690\ttotal: 2.27s\tremaining: 516ms\n",
      "815:\tlearn: 0.9024018\ttotal: 2.28s\tremaining: 514ms\n",
      "816:\tlearn: 0.9001693\ttotal: 2.28s\tremaining: 511ms\n",
      "817:\tlearn: 0.8970481\ttotal: 2.28s\tremaining: 508ms\n",
      "818:\tlearn: 0.8907494\ttotal: 2.28s\tremaining: 505ms\n",
      "819:\tlearn: 0.8886718\ttotal: 2.29s\tremaining: 502ms\n",
      "820:\tlearn: 0.8869259\ttotal: 2.29s\tremaining: 499ms\n",
      "821:\tlearn: 0.8804683\ttotal: 2.29s\tremaining: 497ms\n",
      "822:\tlearn: 0.8666371\ttotal: 2.3s\tremaining: 494ms\n",
      "823:\tlearn: 0.8659600\ttotal: 2.3s\tremaining: 491ms\n",
      "824:\tlearn: 0.8604612\ttotal: 2.3s\tremaining: 488ms\n",
      "825:\tlearn: 0.8544955\ttotal: 2.31s\tremaining: 486ms\n",
      "826:\tlearn: 0.8496739\ttotal: 2.31s\tremaining: 483ms\n",
      "827:\tlearn: 0.8420906\ttotal: 2.31s\tremaining: 480ms\n",
      "828:\tlearn: 0.8398457\ttotal: 2.31s\tremaining: 477ms\n",
      "829:\tlearn: 0.8358570\ttotal: 2.31s\tremaining: 474ms\n",
      "830:\tlearn: 0.8293211\ttotal: 2.32s\tremaining: 471ms\n",
      "831:\tlearn: 0.8236188\ttotal: 2.32s\tremaining: 468ms\n",
      "832:\tlearn: 0.8175017\ttotal: 2.32s\tremaining: 465ms\n",
      "833:\tlearn: 0.8128315\ttotal: 2.32s\tremaining: 462ms\n",
      "834:\tlearn: 0.8096197\ttotal: 2.32s\tremaining: 459ms\n",
      "835:\tlearn: 0.8027133\ttotal: 2.33s\tremaining: 456ms\n",
      "836:\tlearn: 0.7987555\ttotal: 2.33s\tremaining: 453ms\n",
      "837:\tlearn: 0.7928141\ttotal: 2.33s\tremaining: 451ms\n",
      "838:\tlearn: 0.7897563\ttotal: 2.33s\tremaining: 448ms\n",
      "839:\tlearn: 0.7876758\ttotal: 2.33s\tremaining: 445ms\n",
      "840:\tlearn: 0.7777598\ttotal: 2.34s\tremaining: 442ms\n",
      "841:\tlearn: 0.7767597\ttotal: 2.34s\tremaining: 439ms\n",
      "842:\tlearn: 0.7665043\ttotal: 2.34s\tremaining: 436ms\n",
      "843:\tlearn: 0.7626478\ttotal: 2.34s\tremaining: 433ms\n",
      "844:\tlearn: 0.7540439\ttotal: 2.35s\tremaining: 430ms\n",
      "845:\tlearn: 0.7508537\ttotal: 2.35s\tremaining: 427ms\n",
      "846:\tlearn: 0.7459152\ttotal: 2.35s\tremaining: 425ms\n",
      "847:\tlearn: 0.7447900\ttotal: 2.35s\tremaining: 422ms\n",
      "848:\tlearn: 0.7418475\ttotal: 2.35s\tremaining: 419ms\n",
      "849:\tlearn: 0.7379949\ttotal: 2.36s\tremaining: 416ms\n",
      "850:\tlearn: 0.7369054\ttotal: 2.36s\tremaining: 413ms\n",
      "851:\tlearn: 0.7327236\ttotal: 2.36s\tremaining: 410ms\n",
      "852:\tlearn: 0.7311790\ttotal: 2.36s\tremaining: 407ms\n",
      "853:\tlearn: 0.7226495\ttotal: 2.36s\tremaining: 404ms\n",
      "854:\tlearn: 0.7168390\ttotal: 2.37s\tremaining: 401ms\n",
      "855:\tlearn: 0.7117890\ttotal: 2.37s\tremaining: 399ms\n",
      "856:\tlearn: 0.7040100\ttotal: 2.37s\tremaining: 396ms\n",
      "857:\tlearn: 0.6960021\ttotal: 2.37s\tremaining: 393ms\n",
      "858:\tlearn: 0.6920263\ttotal: 2.37s\tremaining: 390ms\n",
      "859:\tlearn: 0.6853317\ttotal: 2.38s\tremaining: 387ms\n",
      "860:\tlearn: 0.6805108\ttotal: 2.38s\tremaining: 384ms\n",
      "861:\tlearn: 0.6771728\ttotal: 2.38s\tremaining: 381ms\n",
      "862:\tlearn: 0.6708199\ttotal: 2.38s\tremaining: 378ms\n",
      "863:\tlearn: 0.6689468\ttotal: 2.38s\tremaining: 375ms\n",
      "864:\tlearn: 0.6647579\ttotal: 2.39s\tremaining: 372ms\n",
      "865:\tlearn: 0.6587745\ttotal: 2.39s\tremaining: 370ms\n",
      "866:\tlearn: 0.6549437\ttotal: 2.39s\tremaining: 367ms\n",
      "867:\tlearn: 0.6484944\ttotal: 2.39s\tremaining: 364ms\n",
      "868:\tlearn: 0.6455316\ttotal: 2.4s\tremaining: 361ms\n",
      "869:\tlearn: 0.6420739\ttotal: 2.4s\tremaining: 358ms\n",
      "870:\tlearn: 0.6375667\ttotal: 2.4s\tremaining: 355ms\n",
      "871:\tlearn: 0.6358236\ttotal: 2.4s\tremaining: 353ms\n",
      "872:\tlearn: 0.6320335\ttotal: 2.4s\tremaining: 350ms\n",
      "873:\tlearn: 0.6288025\ttotal: 2.41s\tremaining: 347ms\n",
      "874:\tlearn: 0.6243292\ttotal: 2.41s\tremaining: 344ms\n",
      "875:\tlearn: 0.6165696\ttotal: 2.41s\tremaining: 341ms\n",
      "876:\tlearn: 0.6128782\ttotal: 2.41s\tremaining: 339ms\n",
      "877:\tlearn: 0.6057460\ttotal: 2.42s\tremaining: 336ms\n",
      "878:\tlearn: 0.6048833\ttotal: 2.42s\tremaining: 333ms\n",
      "879:\tlearn: 0.5984637\ttotal: 2.42s\tremaining: 330ms\n",
      "880:\tlearn: 0.5935168\ttotal: 2.42s\tremaining: 327ms\n",
      "881:\tlearn: 0.5892604\ttotal: 2.42s\tremaining: 324ms\n",
      "882:\tlearn: 0.5846504\ttotal: 2.42s\tremaining: 321ms\n",
      "883:\tlearn: 0.5814985\ttotal: 2.43s\tremaining: 319ms\n",
      "884:\tlearn: 0.5778053\ttotal: 2.43s\tremaining: 316ms\n",
      "885:\tlearn: 0.5739896\ttotal: 2.43s\tremaining: 313ms\n",
      "886:\tlearn: 0.5729847\ttotal: 2.43s\tremaining: 310ms\n",
      "887:\tlearn: 0.5724598\ttotal: 2.44s\tremaining: 307ms\n",
      "888:\tlearn: 0.5718988\ttotal: 2.44s\tremaining: 304ms\n",
      "889:\tlearn: 0.5672314\ttotal: 2.44s\tremaining: 302ms\n",
      "890:\tlearn: 0.5659035\ttotal: 2.44s\tremaining: 299ms\n",
      "891:\tlearn: 0.5587131\ttotal: 2.44s\tremaining: 296ms\n",
      "892:\tlearn: 0.5562858\ttotal: 2.44s\tremaining: 293ms\n",
      "893:\tlearn: 0.5555127\ttotal: 2.45s\tremaining: 290ms\n",
      "894:\tlearn: 0.5527685\ttotal: 2.45s\tremaining: 288ms\n",
      "895:\tlearn: 0.5499500\ttotal: 2.45s\tremaining: 285ms\n",
      "896:\tlearn: 0.5456148\ttotal: 2.46s\tremaining: 282ms\n",
      "897:\tlearn: 0.5403285\ttotal: 2.46s\tremaining: 279ms\n",
      "898:\tlearn: 0.5377774\ttotal: 2.46s\tremaining: 276ms\n",
      "899:\tlearn: 0.5371353\ttotal: 2.46s\tremaining: 273ms\n",
      "900:\tlearn: 0.5332613\ttotal: 2.46s\tremaining: 271ms\n",
      "901:\tlearn: 0.5289379\ttotal: 2.47s\tremaining: 268ms\n",
      "902:\tlearn: 0.5277948\ttotal: 2.47s\tremaining: 265ms\n",
      "903:\tlearn: 0.5229979\ttotal: 2.47s\tremaining: 262ms\n",
      "904:\tlearn: 0.5176545\ttotal: 2.47s\tremaining: 260ms\n",
      "905:\tlearn: 0.5167566\ttotal: 2.48s\tremaining: 257ms\n",
      "906:\tlearn: 0.5163313\ttotal: 2.48s\tremaining: 254ms\n",
      "907:\tlearn: 0.5116777\ttotal: 2.48s\tremaining: 251ms\n",
      "908:\tlearn: 0.5097952\ttotal: 2.48s\tremaining: 249ms\n",
      "909:\tlearn: 0.5071290\ttotal: 2.48s\tremaining: 246ms\n",
      "910:\tlearn: 0.5049191\ttotal: 2.49s\tremaining: 243ms\n",
      "911:\tlearn: 0.5018383\ttotal: 2.49s\tremaining: 240ms\n",
      "912:\tlearn: 0.5007466\ttotal: 2.49s\tremaining: 237ms\n",
      "913:\tlearn: 0.4998771\ttotal: 2.49s\tremaining: 234ms\n",
      "914:\tlearn: 0.4954624\ttotal: 2.49s\tremaining: 232ms\n",
      "915:\tlearn: 0.4942071\ttotal: 2.5s\tremaining: 229ms\n",
      "916:\tlearn: 0.4893003\ttotal: 2.5s\tremaining: 226ms\n",
      "917:\tlearn: 0.4870233\ttotal: 2.5s\tremaining: 223ms\n",
      "918:\tlearn: 0.4830379\ttotal: 2.5s\tremaining: 221ms\n",
      "919:\tlearn: 0.4753426\ttotal: 2.5s\tremaining: 218ms\n",
      "920:\tlearn: 0.4730706\ttotal: 2.51s\tremaining: 215ms\n",
      "921:\tlearn: 0.4679650\ttotal: 2.51s\tremaining: 212ms\n",
      "922:\tlearn: 0.4651630\ttotal: 2.51s\tremaining: 210ms\n",
      "923:\tlearn: 0.4634313\ttotal: 2.52s\tremaining: 207ms\n",
      "924:\tlearn: 0.4607284\ttotal: 2.52s\tremaining: 204ms\n",
      "925:\tlearn: 0.4589159\ttotal: 2.52s\tremaining: 201ms\n",
      "926:\tlearn: 0.4532169\ttotal: 2.52s\tremaining: 199ms\n",
      "927:\tlearn: 0.4509932\ttotal: 2.52s\tremaining: 196ms\n",
      "928:\tlearn: 0.4506088\ttotal: 2.53s\tremaining: 193ms\n",
      "929:\tlearn: 0.4501478\ttotal: 2.53s\tremaining: 190ms\n",
      "930:\tlearn: 0.4490581\ttotal: 2.53s\tremaining: 188ms\n",
      "931:\tlearn: 0.4447316\ttotal: 2.53s\tremaining: 185ms\n",
      "932:\tlearn: 0.4415148\ttotal: 2.54s\tremaining: 182ms\n",
      "933:\tlearn: 0.4391051\ttotal: 2.54s\tremaining: 179ms\n",
      "934:\tlearn: 0.4357356\ttotal: 2.54s\tremaining: 177ms\n",
      "935:\tlearn: 0.4323983\ttotal: 2.54s\tremaining: 174ms\n",
      "936:\tlearn: 0.4302143\ttotal: 2.54s\tremaining: 171ms\n",
      "937:\tlearn: 0.4289117\ttotal: 2.55s\tremaining: 168ms\n",
      "938:\tlearn: 0.4284339\ttotal: 2.55s\tremaining: 166ms\n",
      "939:\tlearn: 0.4244107\ttotal: 2.55s\tremaining: 163ms\n",
      "940:\tlearn: 0.4237451\ttotal: 2.55s\tremaining: 160ms\n",
      "941:\tlearn: 0.4215386\ttotal: 2.55s\tremaining: 157ms\n",
      "942:\tlearn: 0.4180705\ttotal: 2.56s\tremaining: 154ms\n",
      "943:\tlearn: 0.4154760\ttotal: 2.56s\tremaining: 152ms\n",
      "944:\tlearn: 0.4124859\ttotal: 2.56s\tremaining: 149ms\n",
      "945:\tlearn: 0.4119886\ttotal: 2.56s\tremaining: 146ms\n",
      "946:\tlearn: 0.4115906\ttotal: 2.56s\tremaining: 143ms\n",
      "947:\tlearn: 0.4081974\ttotal: 2.56s\tremaining: 141ms\n",
      "948:\tlearn: 0.4064530\ttotal: 2.57s\tremaining: 138ms\n",
      "949:\tlearn: 0.4040915\ttotal: 2.57s\tremaining: 135ms\n",
      "950:\tlearn: 0.4008861\ttotal: 2.57s\tremaining: 132ms\n",
      "951:\tlearn: 0.3970913\ttotal: 2.57s\tremaining: 130ms\n",
      "952:\tlearn: 0.3943258\ttotal: 2.57s\tremaining: 127ms\n",
      "953:\tlearn: 0.3926270\ttotal: 2.58s\tremaining: 124ms\n",
      "954:\tlearn: 0.3909448\ttotal: 2.58s\tremaining: 121ms\n",
      "955:\tlearn: 0.3887707\ttotal: 2.58s\tremaining: 119ms\n",
      "956:\tlearn: 0.3868345\ttotal: 2.58s\tremaining: 116ms\n",
      "957:\tlearn: 0.3839349\ttotal: 2.58s\tremaining: 113ms\n",
      "958:\tlearn: 0.3808497\ttotal: 2.58s\tremaining: 111ms\n",
      "959:\tlearn: 0.3779283\ttotal: 2.59s\tremaining: 108ms\n",
      "960:\tlearn: 0.3755090\ttotal: 2.59s\tremaining: 105ms\n",
      "961:\tlearn: 0.3734292\ttotal: 2.59s\tremaining: 102ms\n",
      "962:\tlearn: 0.3731558\ttotal: 2.59s\tremaining: 99.6ms\n",
      "963:\tlearn: 0.3716642\ttotal: 2.59s\tremaining: 96.9ms\n",
      "964:\tlearn: 0.3700879\ttotal: 2.6s\tremaining: 94.1ms\n",
      "965:\tlearn: 0.3676034\ttotal: 2.6s\tremaining: 91.4ms\n",
      "966:\tlearn: 0.3640425\ttotal: 2.6s\tremaining: 88.7ms\n",
      "967:\tlearn: 0.3632495\ttotal: 2.6s\tremaining: 86.1ms\n",
      "968:\tlearn: 0.3603878\ttotal: 2.6s\tremaining: 83.4ms\n",
      "969:\tlearn: 0.3584398\ttotal: 2.61s\tremaining: 80.6ms\n",
      "970:\tlearn: 0.3560019\ttotal: 2.61s\tremaining: 77.9ms\n",
      "971:\tlearn: 0.3535719\ttotal: 2.61s\tremaining: 75.2ms\n",
      "972:\tlearn: 0.3518950\ttotal: 2.61s\tremaining: 72.5ms\n",
      "973:\tlearn: 0.3479039\ttotal: 2.62s\tremaining: 69.8ms\n",
      "974:\tlearn: 0.3463938\ttotal: 2.62s\tremaining: 67.1ms\n",
      "975:\tlearn: 0.3433932\ttotal: 2.62s\tremaining: 64.4ms\n",
      "976:\tlearn: 0.3410148\ttotal: 2.62s\tremaining: 61.7ms\n",
      "977:\tlearn: 0.3393532\ttotal: 2.62s\tremaining: 59ms\n",
      "978:\tlearn: 0.3373067\ttotal: 2.63s\tremaining: 56.3ms\n",
      "979:\tlearn: 0.3359122\ttotal: 2.63s\tremaining: 53.7ms\n",
      "980:\tlearn: 0.3340848\ttotal: 2.63s\tremaining: 51ms\n",
      "981:\tlearn: 0.3331220\ttotal: 2.63s\tremaining: 48.3ms\n",
      "982:\tlearn: 0.3308795\ttotal: 2.63s\tremaining: 45.6ms\n",
      "983:\tlearn: 0.3288012\ttotal: 2.64s\tremaining: 42.9ms\n",
      "984:\tlearn: 0.3271648\ttotal: 2.64s\tremaining: 40.2ms\n",
      "985:\tlearn: 0.3246514\ttotal: 2.64s\tremaining: 37.5ms\n",
      "986:\tlearn: 0.3218383\ttotal: 2.64s\tremaining: 34.8ms\n",
      "987:\tlearn: 0.3206535\ttotal: 2.65s\tremaining: 32.1ms\n",
      "988:\tlearn: 0.3190063\ttotal: 2.65s\tremaining: 29.4ms\n",
      "989:\tlearn: 0.3176250\ttotal: 2.65s\tremaining: 26.8ms\n",
      "990:\tlearn: 0.3146329\ttotal: 2.65s\tremaining: 24.1ms\n",
      "991:\tlearn: 0.3130835\ttotal: 2.65s\tremaining: 21.4ms\n",
      "992:\tlearn: 0.3107534\ttotal: 2.65s\tremaining: 18.7ms\n",
      "993:\tlearn: 0.3089626\ttotal: 2.66s\tremaining: 16ms\n",
      "994:\tlearn: 0.3080205\ttotal: 2.66s\tremaining: 13.4ms\n",
      "995:\tlearn: 0.3055692\ttotal: 2.66s\tremaining: 10.7ms\n",
      "996:\tlearn: 0.3035687\ttotal: 2.66s\tremaining: 8.01ms\n",
      "997:\tlearn: 0.3019582\ttotal: 2.66s\tremaining: 5.34ms\n",
      "998:\tlearn: 0.3000480\ttotal: 2.67s\tremaining: 2.67ms\n",
      "999:\tlearn: 0.2971131\ttotal: 2.67s\tremaining: 0us\n"
     ]
    },
    {
     "data": {
      "text/plain": [
       "GridSearchCV(cv=5,\n",
       "             estimator=<catboost.core.CatBoostRegressor object at 0x000001DF8B1C1310>,\n",
       "             n_jobs=-1,\n",
       "             param_grid={'depth': [3, 4, 5, 6, 7, 8],\n",
       "                         'iterations': [200, 500, 1000, 2000],\n",
       "                         'learning_rate': [0.01, 0.03, 0.05, 0.1]},\n",
       "             verbose=2)"
      ]
     },
     "execution_count": 267,
     "metadata": {},
     "output_type": "execute_result"
    }
   ],
   "source": [
    "catb_cv_model.fit(X_train, y_train)"
   ]
  },
  {
   "cell_type": "code",
   "execution_count": 268,
   "metadata": {},
   "outputs": [
    {
     "data": {
      "text/plain": [
       "{'depth': 5, 'iterations': 1000, 'learning_rate': 0.1}"
      ]
     },
     "execution_count": 268,
     "metadata": {},
     "output_type": "execute_result"
    }
   ],
   "source": [
    "catb_cv_model.best_params_"
   ]
  },
  {
   "cell_type": "code",
   "execution_count": 269,
   "metadata": {},
   "outputs": [
    {
     "name": "stdout",
     "output_type": "stream",
     "text": [
      "0:\tlearn: 442.4903140\ttotal: 16.9ms\tremaining: 3.36s\n",
      "1:\tlearn: 440.4621805\ttotal: 29ms\tremaining: 2.87s\n",
      "2:\tlearn: 438.5132091\ttotal: 40.7ms\tremaining: 2.67s\n",
      "3:\tlearn: 436.2180377\ttotal: 62.2ms\tremaining: 3.05s\n",
      "4:\tlearn: 434.0461579\ttotal: 81.9ms\tremaining: 3.19s\n",
      "5:\tlearn: 431.8437770\ttotal: 93.9ms\tremaining: 3.04s\n",
      "6:\tlearn: 430.1594587\ttotal: 106ms\tremaining: 2.91s\n",
      "7:\tlearn: 428.0941830\ttotal: 116ms\tremaining: 2.78s\n",
      "8:\tlearn: 426.0998774\ttotal: 127ms\tremaining: 2.7s\n",
      "9:\tlearn: 424.0249067\ttotal: 130ms\tremaining: 2.46s\n",
      "10:\tlearn: 422.1921868\ttotal: 143ms\tremaining: 2.46s\n",
      "11:\tlearn: 420.2506764\ttotal: 155ms\tremaining: 2.43s\n",
      "12:\tlearn: 418.3116383\ttotal: 168ms\tremaining: 2.41s\n",
      "13:\tlearn: 416.2966847\ttotal: 178ms\tremaining: 2.36s\n",
      "14:\tlearn: 414.5776175\ttotal: 190ms\tremaining: 2.34s\n",
      "15:\tlearn: 412.8009394\ttotal: 210ms\tremaining: 2.42s\n",
      "16:\tlearn: 410.9774146\ttotal: 234ms\tremaining: 2.52s\n",
      "17:\tlearn: 409.1047417\ttotal: 248ms\tremaining: 2.51s\n",
      "18:\tlearn: 407.6243957\ttotal: 258ms\tremaining: 2.46s\n",
      "19:\tlearn: 405.9072209\ttotal: 270ms\tremaining: 2.43s\n",
      "20:\tlearn: 404.2566200\ttotal: 282ms\tremaining: 2.4s\n",
      "21:\tlearn: 402.5329859\ttotal: 292ms\tremaining: 2.36s\n",
      "22:\tlearn: 400.6495607\ttotal: 303ms\tremaining: 2.33s\n",
      "23:\tlearn: 398.8468643\ttotal: 315ms\tremaining: 2.31s\n",
      "24:\tlearn: 397.0329195\ttotal: 329ms\tremaining: 2.31s\n",
      "25:\tlearn: 395.4747968\ttotal: 343ms\tremaining: 2.3s\n",
      "26:\tlearn: 393.7206925\ttotal: 371ms\tremaining: 2.38s\n",
      "27:\tlearn: 392.2904125\ttotal: 386ms\tremaining: 2.37s\n",
      "28:\tlearn: 390.5630617\ttotal: 400ms\tremaining: 2.36s\n",
      "29:\tlearn: 389.1479370\ttotal: 412ms\tremaining: 2.33s\n",
      "30:\tlearn: 387.6030700\ttotal: 424ms\tremaining: 2.31s\n",
      "31:\tlearn: 386.0164157\ttotal: 435ms\tremaining: 2.28s\n",
      "32:\tlearn: 384.1076046\ttotal: 447ms\tremaining: 2.26s\n",
      "33:\tlearn: 382.3830744\ttotal: 459ms\tremaining: 2.24s\n",
      "34:\tlearn: 380.5987560\ttotal: 470ms\tremaining: 2.22s\n",
      "35:\tlearn: 379.0931667\ttotal: 481ms\tremaining: 2.19s\n",
      "36:\tlearn: 377.6455643\ttotal: 494ms\tremaining: 2.18s\n",
      "37:\tlearn: 376.0951499\ttotal: 514ms\tremaining: 2.19s\n",
      "38:\tlearn: 374.6596684\ttotal: 530ms\tremaining: 2.19s\n",
      "39:\tlearn: 372.8982744\ttotal: 546ms\tremaining: 2.18s\n",
      "40:\tlearn: 371.4430906\ttotal: 558ms\tremaining: 2.16s\n",
      "41:\tlearn: 370.1346896\ttotal: 569ms\tremaining: 2.14s\n",
      "42:\tlearn: 368.3409801\ttotal: 579ms\tremaining: 2.12s\n",
      "43:\tlearn: 366.9161522\ttotal: 589ms\tremaining: 2.09s\n",
      "44:\tlearn: 365.5390053\ttotal: 601ms\tremaining: 2.07s\n",
      "45:\tlearn: 364.0156710\ttotal: 613ms\tremaining: 2.05s\n",
      "46:\tlearn: 362.5688240\ttotal: 623ms\tremaining: 2.03s\n",
      "47:\tlearn: 361.0766459\ttotal: 635ms\tremaining: 2.01s\n",
      "48:\tlearn: 359.4068914\ttotal: 649ms\tremaining: 2s\n",
      "49:\tlearn: 358.0264840\ttotal: 670ms\tremaining: 2.01s\n",
      "50:\tlearn: 356.6569261\ttotal: 686ms\tremaining: 2s\n",
      "51:\tlearn: 355.3295581\ttotal: 698ms\tremaining: 1.99s\n",
      "52:\tlearn: 353.7981543\ttotal: 710ms\tremaining: 1.97s\n",
      "53:\tlearn: 352.3857927\ttotal: 720ms\tremaining: 1.95s\n",
      "54:\tlearn: 351.0170630\ttotal: 730ms\tremaining: 1.93s\n",
      "55:\tlearn: 349.5583299\ttotal: 743ms\tremaining: 1.91s\n",
      "56:\tlearn: 348.3551914\ttotal: 757ms\tremaining: 1.9s\n",
      "57:\tlearn: 347.0770426\ttotal: 771ms\tremaining: 1.89s\n",
      "58:\tlearn: 345.9005401\ttotal: 841ms\tremaining: 2.01s\n",
      "59:\tlearn: 344.5492739\ttotal: 895ms\tremaining: 2.09s\n",
      "60:\tlearn: 343.4861303\ttotal: 920ms\tremaining: 2.1s\n",
      "61:\tlearn: 342.1246162\ttotal: 977ms\tremaining: 2.17s\n",
      "62:\tlearn: 340.6842766\ttotal: 1.04s\tremaining: 2.27s\n",
      "63:\tlearn: 339.3315019\ttotal: 1.07s\tremaining: 2.27s\n",
      "64:\tlearn: 337.8521507\ttotal: 1.12s\tremaining: 2.33s\n",
      "65:\tlearn: 336.5759989\ttotal: 1.15s\tremaining: 2.34s\n",
      "66:\tlearn: 335.2858902\ttotal: 1.17s\tremaining: 2.32s\n",
      "67:\tlearn: 334.0030235\ttotal: 1.18s\tremaining: 2.3s\n",
      "68:\tlearn: 332.7313763\ttotal: 1.2s\tremaining: 2.27s\n",
      "69:\tlearn: 331.5974885\ttotal: 1.25s\tremaining: 2.32s\n",
      "70:\tlearn: 330.5354149\ttotal: 1.28s\tremaining: 2.33s\n",
      "71:\tlearn: 329.3024752\ttotal: 1.3s\tremaining: 2.31s\n",
      "72:\tlearn: 328.0534820\ttotal: 1.31s\tremaining: 2.28s\n",
      "73:\tlearn: 326.9395455\ttotal: 1.32s\tremaining: 2.25s\n",
      "74:\tlearn: 325.5288974\ttotal: 1.33s\tremaining: 2.22s\n",
      "75:\tlearn: 324.3277188\ttotal: 1.35s\tremaining: 2.2s\n",
      "76:\tlearn: 323.0868571\ttotal: 1.36s\tremaining: 2.17s\n",
      "77:\tlearn: 321.8690017\ttotal: 1.37s\tremaining: 2.14s\n",
      "78:\tlearn: 320.9509169\ttotal: 1.38s\tremaining: 2.11s\n",
      "79:\tlearn: 319.8700363\ttotal: 1.39s\tremaining: 2.09s\n",
      "80:\tlearn: 318.4920699\ttotal: 1.4s\tremaining: 2.06s\n",
      "81:\tlearn: 317.4778062\ttotal: 1.43s\tremaining: 2.06s\n",
      "82:\tlearn: 316.3636635\ttotal: 1.46s\tremaining: 2.06s\n",
      "83:\tlearn: 315.1041604\ttotal: 1.48s\tremaining: 2.04s\n",
      "84:\tlearn: 314.0018701\ttotal: 1.5s\tremaining: 2.02s\n",
      "85:\tlearn: 312.8242118\ttotal: 1.51s\tremaining: 2s\n",
      "86:\tlearn: 311.7133822\ttotal: 1.52s\tremaining: 1.97s\n",
      "87:\tlearn: 310.6125773\ttotal: 1.53s\tremaining: 1.95s\n",
      "88:\tlearn: 309.5934070\ttotal: 1.54s\tremaining: 1.92s\n",
      "89:\tlearn: 308.6035314\ttotal: 1.55s\tremaining: 1.9s\n",
      "90:\tlearn: 307.4645756\ttotal: 1.56s\tremaining: 1.87s\n",
      "91:\tlearn: 306.3359620\ttotal: 1.57s\tremaining: 1.85s\n",
      "92:\tlearn: 305.3546576\ttotal: 1.58s\tremaining: 1.82s\n",
      "93:\tlearn: 304.3497567\ttotal: 1.59s\tremaining: 1.8s\n",
      "94:\tlearn: 303.3926155\ttotal: 1.6s\tremaining: 1.77s\n",
      "95:\tlearn: 302.1234778\ttotal: 1.61s\tremaining: 1.75s\n",
      "96:\tlearn: 300.8748060\ttotal: 1.62s\tremaining: 1.72s\n",
      "97:\tlearn: 299.8192745\ttotal: 1.63s\tremaining: 1.7s\n",
      "98:\tlearn: 298.8369756\ttotal: 1.65s\tremaining: 1.68s\n",
      "99:\tlearn: 297.8913508\ttotal: 1.65s\tremaining: 1.65s\n",
      "100:\tlearn: 296.8220741\ttotal: 1.67s\tremaining: 1.64s\n",
      "101:\tlearn: 295.8591240\ttotal: 1.68s\tremaining: 1.62s\n",
      "102:\tlearn: 295.0212733\ttotal: 1.69s\tremaining: 1.59s\n",
      "103:\tlearn: 293.9712550\ttotal: 1.7s\tremaining: 1.57s\n",
      "104:\tlearn: 292.8563786\ttotal: 1.71s\tremaining: 1.55s\n",
      "105:\tlearn: 291.8182216\ttotal: 1.73s\tremaining: 1.53s\n",
      "106:\tlearn: 290.8176654\ttotal: 1.74s\tremaining: 1.51s\n",
      "107:\tlearn: 289.9383970\ttotal: 1.74s\tremaining: 1.48s\n",
      "108:\tlearn: 288.7005005\ttotal: 1.75s\tremaining: 1.46s\n",
      "109:\tlearn: 287.7512562\ttotal: 1.76s\tremaining: 1.44s\n",
      "110:\tlearn: 286.8929047\ttotal: 1.77s\tremaining: 1.42s\n",
      "111:\tlearn: 285.9704538\ttotal: 1.78s\tremaining: 1.4s\n",
      "112:\tlearn: 284.9057160\ttotal: 1.79s\tremaining: 1.38s\n",
      "113:\tlearn: 284.1826027\ttotal: 1.8s\tremaining: 1.36s\n",
      "114:\tlearn: 283.1170272\ttotal: 1.81s\tremaining: 1.34s\n",
      "115:\tlearn: 282.0680805\ttotal: 1.82s\tremaining: 1.32s\n",
      "116:\tlearn: 281.2294931\ttotal: 1.83s\tremaining: 1.3s\n",
      "117:\tlearn: 280.2761021\ttotal: 1.84s\tremaining: 1.28s\n",
      "118:\tlearn: 279.4292163\ttotal: 1.85s\tremaining: 1.26s\n",
      "119:\tlearn: 278.5105683\ttotal: 1.86s\tremaining: 1.24s\n",
      "120:\tlearn: 277.6361767\ttotal: 1.87s\tremaining: 1.22s\n",
      "121:\tlearn: 276.8037869\ttotal: 1.88s\tremaining: 1.2s\n",
      "122:\tlearn: 276.0239867\ttotal: 1.89s\tremaining: 1.18s\n",
      "123:\tlearn: 275.1795488\ttotal: 1.9s\tremaining: 1.16s\n",
      "124:\tlearn: 274.3292722\ttotal: 1.91s\tremaining: 1.15s\n",
      "125:\tlearn: 273.4198837\ttotal: 1.92s\tremaining: 1.13s\n",
      "126:\tlearn: 272.5973891\ttotal: 1.93s\tremaining: 1.11s\n",
      "127:\tlearn: 271.8101515\ttotal: 1.94s\tremaining: 1.09s\n",
      "128:\tlearn: 270.9025424\ttotal: 1.95s\tremaining: 1.07s\n",
      "129:\tlearn: 270.0364886\ttotal: 1.96s\tremaining: 1.05s\n",
      "130:\tlearn: 269.0385322\ttotal: 1.97s\tremaining: 1.04s\n",
      "131:\tlearn: 268.1937827\ttotal: 1.98s\tremaining: 1.02s\n",
      "132:\tlearn: 267.4049794\ttotal: 1.99s\tremaining: 1s\n",
      "133:\tlearn: 266.6338446\ttotal: 2s\tremaining: 985ms\n",
      "134:\tlearn: 265.8071481\ttotal: 2.01s\tremaining: 969ms\n",
      "135:\tlearn: 264.8647141\ttotal: 2.02s\tremaining: 953ms\n",
      "136:\tlearn: 264.1327683\ttotal: 2.04s\tremaining: 937ms\n",
      "137:\tlearn: 263.2736152\ttotal: 2.04s\tremaining: 919ms\n",
      "138:\tlearn: 262.3035083\ttotal: 2.06s\tremaining: 904ms\n",
      "139:\tlearn: 261.5548509\ttotal: 2.07s\tremaining: 887ms\n",
      "140:\tlearn: 260.6810614\ttotal: 2.08s\tremaining: 870ms\n",
      "141:\tlearn: 259.9520565\ttotal: 2.09s\tremaining: 854ms\n",
      "142:\tlearn: 259.1637940\ttotal: 2.1s\tremaining: 837ms\n",
      "143:\tlearn: 258.4748956\ttotal: 2.11s\tremaining: 820ms\n",
      "144:\tlearn: 257.7311746\ttotal: 2.12s\tremaining: 804ms\n",
      "145:\tlearn: 256.9606337\ttotal: 2.13s\tremaining: 788ms\n",
      "146:\tlearn: 256.3518311\ttotal: 2.14s\tremaining: 772ms\n",
      "147:\tlearn: 255.5049330\ttotal: 2.15s\tremaining: 756ms\n",
      "148:\tlearn: 254.7238850\ttotal: 2.16s\tremaining: 741ms\n",
      "149:\tlearn: 253.8840501\ttotal: 2.17s\tremaining: 724ms\n",
      "150:\tlearn: 253.0754983\ttotal: 2.18s\tremaining: 709ms\n",
      "151:\tlearn: 252.2453750\ttotal: 2.19s\tremaining: 692ms\n",
      "152:\tlearn: 251.5607633\ttotal: 2.2s\tremaining: 676ms\n",
      "153:\tlearn: 250.9442552\ttotal: 2.21s\tremaining: 661ms\n",
      "154:\tlearn: 250.1822151\ttotal: 2.22s\tremaining: 646ms\n",
      "155:\tlearn: 249.4448988\ttotal: 2.23s\tremaining: 630ms\n",
      "156:\tlearn: 248.7637093\ttotal: 2.24s\tremaining: 614ms\n",
      "157:\tlearn: 248.1165411\ttotal: 2.25s\tremaining: 599ms\n",
      "158:\tlearn: 247.4318005\ttotal: 2.26s\tremaining: 583ms\n",
      "159:\tlearn: 246.6414875\ttotal: 2.27s\tremaining: 568ms\n",
      "160:\tlearn: 245.9710878\ttotal: 2.28s\tremaining: 553ms\n",
      "161:\tlearn: 245.2531651\ttotal: 2.29s\tremaining: 538ms\n",
      "162:\tlearn: 244.3669394\ttotal: 2.3s\tremaining: 523ms\n",
      "163:\tlearn: 243.5127155\ttotal: 2.31s\tremaining: 507ms\n",
      "164:\tlearn: 242.7095888\ttotal: 2.32s\tremaining: 492ms\n",
      "165:\tlearn: 242.0376740\ttotal: 2.33s\tremaining: 477ms\n",
      "166:\tlearn: 241.2252825\ttotal: 2.34s\tremaining: 463ms\n",
      "167:\tlearn: 240.5849477\ttotal: 2.35s\tremaining: 448ms\n",
      "168:\tlearn: 239.7800585\ttotal: 2.36s\tremaining: 433ms\n",
      "169:\tlearn: 239.1427178\ttotal: 2.37s\tremaining: 419ms\n",
      "170:\tlearn: 238.5203908\ttotal: 2.38s\tremaining: 404ms\n",
      "171:\tlearn: 237.7975333\ttotal: 2.39s\tremaining: 390ms\n",
      "172:\tlearn: 237.3602037\ttotal: 2.4s\tremaining: 374ms\n",
      "173:\tlearn: 236.6786338\ttotal: 2.41s\tremaining: 360ms\n",
      "174:\tlearn: 236.0202210\ttotal: 2.42s\tremaining: 346ms\n",
      "175:\tlearn: 235.3476701\ttotal: 2.43s\tremaining: 332ms\n",
      "176:\tlearn: 234.6718452\ttotal: 2.44s\tremaining: 317ms\n",
      "177:\tlearn: 233.8885269\ttotal: 2.45s\tremaining: 303ms\n",
      "178:\tlearn: 233.1892495\ttotal: 2.46s\tremaining: 289ms\n",
      "179:\tlearn: 232.5527509\ttotal: 2.47s\tremaining: 275ms\n",
      "180:\tlearn: 231.9618575\ttotal: 2.48s\tremaining: 260ms\n",
      "181:\tlearn: 231.3342102\ttotal: 2.49s\tremaining: 246ms\n",
      "182:\tlearn: 230.7244333\ttotal: 2.5s\tremaining: 232ms\n",
      "183:\tlearn: 230.1436842\ttotal: 2.51s\tremaining: 218ms\n",
      "184:\tlearn: 229.5095318\ttotal: 2.52s\tremaining: 204ms\n",
      "185:\tlearn: 228.8917327\ttotal: 2.53s\tremaining: 190ms\n",
      "186:\tlearn: 228.2636690\ttotal: 2.54s\tremaining: 177ms\n",
      "187:\tlearn: 227.6023563\ttotal: 2.55s\tremaining: 163ms\n",
      "188:\tlearn: 227.0846972\ttotal: 2.56s\tremaining: 149ms\n",
      "189:\tlearn: 226.4545281\ttotal: 2.57s\tremaining: 135ms\n",
      "190:\tlearn: 225.8981660\ttotal: 2.58s\tremaining: 122ms\n",
      "191:\tlearn: 225.3663235\ttotal: 2.59s\tremaining: 108ms\n",
      "192:\tlearn: 224.7996893\ttotal: 2.6s\tremaining: 94.4ms\n",
      "193:\tlearn: 224.2439337\ttotal: 2.61s\tremaining: 80.9ms\n",
      "194:\tlearn: 223.6864443\ttotal: 2.62s\tremaining: 67.3ms\n",
      "195:\tlearn: 223.1405707\ttotal: 2.63s\tremaining: 53.8ms\n",
      "196:\tlearn: 222.4965559\ttotal: 2.64s\tremaining: 40.3ms\n",
      "197:\tlearn: 221.9452309\ttotal: 2.65s\tremaining: 26.8ms\n",
      "198:\tlearn: 221.4075421\ttotal: 2.66s\tremaining: 13.4ms\n",
      "199:\tlearn: 220.9138000\ttotal: 2.67s\tremaining: 0us\n"
     ]
    }
   ],
   "source": [
    "catb_tuned = CatBoostRegressor(iterations = 200, \n",
    "                               learning_rate = 0.01, \n",
    "                               depth = 8)\n",
    "\n",
    "catb_tuned = catb_tuned.fit(X_train,y_train)"
   ]
  },
  {
   "cell_type": "code",
   "execution_count": 270,
   "metadata": {},
   "outputs": [
    {
     "data": {
      "text/plain": [
       "369.6970696250705"
      ]
     },
     "execution_count": 270,
     "metadata": {},
     "output_type": "execute_result"
    }
   ],
   "source": [
    "y_pred = catb_tuned.predict(X_test)\n",
    "np.sqrt(mean_squared_error(y_test, y_pred))"
   ]
  },
  {
   "cell_type": "code",
   "execution_count": null,
   "metadata": {},
   "outputs": [],
   "source": []
  },
  {
   "cell_type": "code",
   "execution_count": null,
   "metadata": {},
   "outputs": [],
   "source": []
  },
  {
   "cell_type": "code",
   "execution_count": null,
   "metadata": {},
   "outputs": [],
   "source": []
  },
  {
   "cell_type": "code",
   "execution_count": null,
   "metadata": {},
   "outputs": [],
   "source": []
  }
 ],
 "metadata": {
  "kernelspec": {
   "display_name": "Python 3.9.1 64-bit",
   "language": "python",
   "name": "python3"
  },
  "language_info": {
   "codemirror_mode": {
    "name": "ipython",
    "version": 3
   },
   "file_extension": ".py",
   "mimetype": "text/x-python",
   "name": "python",
   "nbconvert_exporter": "python",
   "pygments_lexer": "ipython3",
   "version": "3.9.1"
  },
  "vscode": {
   "interpreter": {
    "hash": "5a613157580493603a5c492f795f64908795787dffc1c82952e5f3530fcb22c4"
   }
  }
 },
 "nbformat": 4,
 "nbformat_minor": 2
}
