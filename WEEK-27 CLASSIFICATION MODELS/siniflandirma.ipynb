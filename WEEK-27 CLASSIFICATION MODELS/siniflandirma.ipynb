{
 "cells": [
  {
   "attachments": {},
   "cell_type": "markdown",
   "metadata": {},
   "source": [
    "# Sınıflandırma Problemleri"
   ]
  },
  {
   "cell_type": "code",
   "execution_count": 88,
   "metadata": {},
   "outputs": [],
   "source": [
    "import numpy as np\n",
    "import pandas as pd \n",
    "import statsmodels.api as sm\n",
    "import statsmodels.formula.api as smf\n",
    "import seaborn as sns\n",
    "from sklearn.preprocessing import scale \n",
    "from sklearn.model_selection import train_test_split, GridSearchCV, cross_val_score\n",
    "from sklearn.metrics import confusion_matrix, accuracy_score, classification_report\n",
    "from sklearn.metrics import roc_auc_score,roc_curve\n",
    "import statsmodels.formula.api as smf\n",
    "import matplotlib.pyplot as plt\n",
    "from sklearn.neighbors import KNeighborsClassifier\n",
    "from sklearn.discriminant_analysis import LinearDiscriminantAnalysis\n",
    "from sklearn.linear_model import LogisticRegression\n",
    "from sklearn.svm import SVC\n",
    "from sklearn.naive_bayes import GaussianNB\n",
    "from sklearn import tree\n",
    "from sklearn.ensemble import RandomForestClassifier\n",
    "from sklearn.ensemble import GradientBoostingClassifier\n",
    "from xgboost import XGBClassifier\n",
    "from lightgbm import LGBMClassifier\n",
    "from catboost import CatBoostClassifier\n",
    "\n",
    "from warnings import filterwarnings\n",
    "filterwarnings('ignore')"
   ]
  },
  {
   "attachments": {},
   "cell_type": "markdown",
   "metadata": {},
   "source": [
    "# Lojistik Regresyon "
   ]
  },
  {
   "attachments": {},
   "cell_type": "markdown",
   "metadata": {},
   "source": [
    "## Model "
   ]
  },
  {
   "cell_type": "code",
   "execution_count": 89,
   "metadata": {},
   "outputs": [
    {
     "data": {
      "text/html": [
       "<div>\n",
       "<style scoped>\n",
       "    .dataframe tbody tr th:only-of-type {\n",
       "        vertical-align: middle;\n",
       "    }\n",
       "\n",
       "    .dataframe tbody tr th {\n",
       "        vertical-align: top;\n",
       "    }\n",
       "\n",
       "    .dataframe thead th {\n",
       "        text-align: right;\n",
       "    }\n",
       "</style>\n",
       "<table border=\"1\" class=\"dataframe\">\n",
       "  <thead>\n",
       "    <tr style=\"text-align: right;\">\n",
       "      <th></th>\n",
       "      <th>Pregnancies</th>\n",
       "      <th>Glucose</th>\n",
       "      <th>BloodPressure</th>\n",
       "      <th>SkinThickness</th>\n",
       "      <th>Insulin</th>\n",
       "      <th>BMI</th>\n",
       "      <th>DiabetesPedigreeFunction</th>\n",
       "      <th>Age</th>\n",
       "      <th>Outcome</th>\n",
       "    </tr>\n",
       "  </thead>\n",
       "  <tbody>\n",
       "    <tr>\n",
       "      <th>0</th>\n",
       "      <td>6</td>\n",
       "      <td>148</td>\n",
       "      <td>72</td>\n",
       "      <td>35</td>\n",
       "      <td>0</td>\n",
       "      <td>33.6</td>\n",
       "      <td>0.627</td>\n",
       "      <td>50</td>\n",
       "      <td>1</td>\n",
       "    </tr>\n",
       "    <tr>\n",
       "      <th>1</th>\n",
       "      <td>1</td>\n",
       "      <td>85</td>\n",
       "      <td>66</td>\n",
       "      <td>29</td>\n",
       "      <td>0</td>\n",
       "      <td>26.6</td>\n",
       "      <td>0.351</td>\n",
       "      <td>31</td>\n",
       "      <td>0</td>\n",
       "    </tr>\n",
       "    <tr>\n",
       "      <th>2</th>\n",
       "      <td>8</td>\n",
       "      <td>183</td>\n",
       "      <td>64</td>\n",
       "      <td>0</td>\n",
       "      <td>0</td>\n",
       "      <td>23.3</td>\n",
       "      <td>0.672</td>\n",
       "      <td>32</td>\n",
       "      <td>1</td>\n",
       "    </tr>\n",
       "    <tr>\n",
       "      <th>3</th>\n",
       "      <td>1</td>\n",
       "      <td>89</td>\n",
       "      <td>66</td>\n",
       "      <td>23</td>\n",
       "      <td>94</td>\n",
       "      <td>28.1</td>\n",
       "      <td>0.167</td>\n",
       "      <td>21</td>\n",
       "      <td>0</td>\n",
       "    </tr>\n",
       "    <tr>\n",
       "      <th>4</th>\n",
       "      <td>0</td>\n",
       "      <td>137</td>\n",
       "      <td>40</td>\n",
       "      <td>35</td>\n",
       "      <td>168</td>\n",
       "      <td>43.1</td>\n",
       "      <td>2.288</td>\n",
       "      <td>33</td>\n",
       "      <td>1</td>\n",
       "    </tr>\n",
       "  </tbody>\n",
       "</table>\n",
       "</div>"
      ],
      "text/plain": [
       "   Pregnancies  Glucose  BloodPressure  SkinThickness  Insulin   BMI  \\\n",
       "0            6      148             72             35        0  33.6   \n",
       "1            1       85             66             29        0  26.6   \n",
       "2            8      183             64              0        0  23.3   \n",
       "3            1       89             66             23       94  28.1   \n",
       "4            0      137             40             35      168  43.1   \n",
       "\n",
       "   DiabetesPedigreeFunction  Age  Outcome  \n",
       "0                     0.627   50        1  \n",
       "1                     0.351   31        0  \n",
       "2                     0.672   32        1  \n",
       "3                     0.167   21        0  \n",
       "4                     2.288   33        1  "
      ]
     },
     "execution_count": 89,
     "metadata": {},
     "output_type": "execute_result"
    }
   ],
   "source": [
    "diabetes = pd.read_csv(\"diabetes.csv\")\n",
    "df = diabetes.copy()\n",
    "df = df.dropna()\n",
    "df.head()"
   ]
  },
  {
   "cell_type": "code",
   "execution_count": 90,
   "metadata": {},
   "outputs": [
    {
     "name": "stdout",
     "output_type": "stream",
     "text": [
      "<class 'pandas.core.frame.DataFrame'>\n",
      "Int64Index: 768 entries, 0 to 767\n",
      "Data columns (total 9 columns):\n",
      " #   Column                    Non-Null Count  Dtype  \n",
      "---  ------                    --------------  -----  \n",
      " 0   Pregnancies               768 non-null    int64  \n",
      " 1   Glucose                   768 non-null    int64  \n",
      " 2   BloodPressure             768 non-null    int64  \n",
      " 3   SkinThickness             768 non-null    int64  \n",
      " 4   Insulin                   768 non-null    int64  \n",
      " 5   BMI                       768 non-null    float64\n",
      " 6   DiabetesPedigreeFunction  768 non-null    float64\n",
      " 7   Age                       768 non-null    int64  \n",
      " 8   Outcome                   768 non-null    int64  \n",
      "dtypes: float64(2), int64(7)\n",
      "memory usage: 60.0 KB\n"
     ]
    }
   ],
   "source": [
    "df.info()"
   ]
  },
  {
   "cell_type": "code",
   "execution_count": 91,
   "metadata": {},
   "outputs": [
    {
     "data": {
      "text/plain": [
       "0    500\n",
       "1    268\n",
       "Name: Outcome, dtype: int64"
      ]
     },
     "execution_count": 91,
     "metadata": {},
     "output_type": "execute_result"
    }
   ],
   "source": [
    "df[\"Outcome\"].value_counts()"
   ]
  },
  {
   "cell_type": "code",
   "execution_count": 92,
   "metadata": {},
   "outputs": [
    {
     "data": {
      "image/png": "[encoded data removed]",
      "text/plain": [
       "<Figure size 432x288 with 1 Axes>"
      ]
     },
     "metadata": {
      "needs_background": "light"
     },
     "output_type": "display_data"
    }
   ],
   "source": [
    "df[\"Outcome\"].value_counts().plot.barh();"
   ]
  },
  {
   "cell_type": "code",
   "execution_count": 93,
   "metadata": {},
   "outputs": [
    {
     "data": {
      "text/html": [
       "<div>\n",
       "<style scoped>\n",
       "    .dataframe tbody tr th:only-of-type {\n",
       "        vertical-align: middle;\n",
       "    }\n",
       "\n",
       "    .dataframe tbody tr th {\n",
       "        vertical-align: top;\n",
       "    }\n",
       "\n",
       "    .dataframe thead th {\n",
       "        text-align: right;\n",
       "    }\n",
       "</style>\n",
       "<table border=\"1\" class=\"dataframe\">\n",
       "  <thead>\n",
       "    <tr style=\"text-align: right;\">\n",
       "      <th></th>\n",
       "      <th>count</th>\n",
       "      <th>mean</th>\n",
       "      <th>std</th>\n",
       "      <th>min</th>\n",
       "      <th>25%</th>\n",
       "      <th>50%</th>\n",
       "      <th>75%</th>\n",
       "      <th>max</th>\n",
       "    </tr>\n",
       "  </thead>\n",
       "  <tbody>\n",
       "    <tr>\n",
       "      <th>Pregnancies</th>\n",
       "      <td>768.0</td>\n",
       "      <td>3.845052</td>\n",
       "      <td>3.369578</td>\n",
       "      <td>0.000</td>\n",
       "      <td>1.00000</td>\n",
       "      <td>3.0000</td>\n",
       "      <td>6.00000</td>\n",
       "      <td>17.00</td>\n",
       "    </tr>\n",
       "    <tr>\n",
       "      <th>Glucose</th>\n",
       "      <td>768.0</td>\n",
       "      <td>120.894531</td>\n",
       "      <td>31.972618</td>\n",
       "      <td>0.000</td>\n",
       "      <td>99.00000</td>\n",
       "      <td>117.0000</td>\n",
       "      <td>140.25000</td>\n",
       "      <td>199.00</td>\n",
       "    </tr>\n",
       "    <tr>\n",
       "      <th>BloodPressure</th>\n",
       "      <td>768.0</td>\n",
       "      <td>69.105469</td>\n",
       "      <td>19.355807</td>\n",
       "      <td>0.000</td>\n",
       "      <td>62.00000</td>\n",
       "      <td>72.0000</td>\n",
       "      <td>80.00000</td>\n",
       "      <td>122.00</td>\n",
       "    </tr>\n",
       "    <tr>\n",
       "      <th>SkinThickness</th>\n",
       "      <td>768.0</td>\n",
       "      <td>20.536458</td>\n",
       "      <td>15.952218</td>\n",
       "      <td>0.000</td>\n",
       "      <td>0.00000</td>\n",
       "      <td>23.0000</td>\n",
       "      <td>32.00000</td>\n",
       "      <td>99.00</td>\n",
       "    </tr>\n",
       "    <tr>\n",
       "      <th>Insulin</th>\n",
       "      <td>768.0</td>\n",
       "      <td>79.799479</td>\n",
       "      <td>115.244002</td>\n",
       "      <td>0.000</td>\n",
       "      <td>0.00000</td>\n",
       "      <td>30.5000</td>\n",
       "      <td>127.25000</td>\n",
       "      <td>846.00</td>\n",
       "    </tr>\n",
       "    <tr>\n",
       "      <th>BMI</th>\n",
       "      <td>768.0</td>\n",
       "      <td>31.992578</td>\n",
       "      <td>7.884160</td>\n",
       "      <td>0.000</td>\n",
       "      <td>27.30000</td>\n",
       "      <td>32.0000</td>\n",
       "      <td>36.60000</td>\n",
       "      <td>67.10</td>\n",
       "    </tr>\n",
       "    <tr>\n",
       "      <th>DiabetesPedigreeFunction</th>\n",
       "      <td>768.0</td>\n",
       "      <td>0.471876</td>\n",
       "      <td>0.331329</td>\n",
       "      <td>0.078</td>\n",
       "      <td>0.24375</td>\n",
       "      <td>0.3725</td>\n",
       "      <td>0.62625</td>\n",
       "      <td>2.42</td>\n",
       "    </tr>\n",
       "    <tr>\n",
       "      <th>Age</th>\n",
       "      <td>768.0</td>\n",
       "      <td>33.240885</td>\n",
       "      <td>11.760232</td>\n",
       "      <td>21.000</td>\n",
       "      <td>24.00000</td>\n",
       "      <td>29.0000</td>\n",
       "      <td>41.00000</td>\n",
       "      <td>81.00</td>\n",
       "    </tr>\n",
       "    <tr>\n",
       "      <th>Outcome</th>\n",
       "      <td>768.0</td>\n",
       "      <td>0.348958</td>\n",
       "      <td>0.476951</td>\n",
       "      <td>0.000</td>\n",
       "      <td>0.00000</td>\n",
       "      <td>0.0000</td>\n",
       "      <td>1.00000</td>\n",
       "      <td>1.00</td>\n",
       "    </tr>\n",
       "  </tbody>\n",
       "</table>\n",
       "</div>"
      ],
      "text/plain": [
       "                          count        mean         std     min       25%  \\\n",
       "Pregnancies               768.0    3.845052    3.369578   0.000   1.00000   \n",
       "Glucose                   768.0  120.894531   31.972618   0.000  99.00000   \n",
       "BloodPressure             768.0   69.105469   19.355807   0.000  62.00000   \n",
       "SkinThickness             768.0   20.536458   15.952218   0.000   0.00000   \n",
       "Insulin                   768.0   79.799479  115.244002   0.000   0.00000   \n",
       "BMI                       768.0   31.992578    7.884160   0.000  27.30000   \n",
       "DiabetesPedigreeFunction  768.0    0.471876    0.331329   0.078   0.24375   \n",
       "Age                       768.0   33.240885   11.760232  21.000  24.00000   \n",
       "Outcome                   768.0    0.348958    0.476951   0.000   0.00000   \n",
       "\n",
       "                               50%        75%     max  \n",
       "Pregnancies                 3.0000    6.00000   17.00  \n",
       "Glucose                   117.0000  140.25000  199.00  \n",
       "BloodPressure              72.0000   80.00000  122.00  \n",
       "SkinThickness              23.0000   32.00000   99.00  \n",
       "Insulin                    30.5000  127.25000  846.00  \n",
       "BMI                        32.0000   36.60000   67.10  \n",
       "DiabetesPedigreeFunction    0.3725    0.62625    2.42  \n",
       "Age                        29.0000   41.00000   81.00  \n",
       "Outcome                     0.0000    1.00000    1.00  "
      ]
     },
     "execution_count": 93,
     "metadata": {},
     "output_type": "execute_result"
    }
   ],
   "source": [
    "df.describe().T"
   ]
  },
  {
   "cell_type": "code",
   "execution_count": 94,
   "metadata": {},
   "outputs": [],
   "source": [
    "y = df[\"Outcome\"]\n",
    "X = df.drop([\"Outcome\"], axis=1)"
   ]
  },
  {
   "cell_type": "code",
   "execution_count": 95,
   "metadata": {},
   "outputs": [],
   "source": [
    "#statsmodels"
   ]
  },
  {
   "cell_type": "code",
   "execution_count": 96,
   "metadata": {},
   "outputs": [
    {
     "name": "stdout",
     "output_type": "stream",
     "text": [
      "Optimization terminated successfully.\n",
      "         Current function value: 0.608498\n",
      "         Iterations 5\n"
     ]
    },
    {
     "data": {
      "text/html": [
       "<table class=\"simpletable\">\n",
       "<caption>Logit Regression Results</caption>\n",
       "<tr>\n",
       "  <th>Dep. Variable:</th>        <td>Outcome</td>     <th>  No. Observations:  </th>  <td>   768</td>  \n",
       "</tr>\n",
       "<tr>\n",
       "  <th>Model:</th>                 <td>Logit</td>      <th>  Df Residuals:      </th>  <td>   760</td>  \n",
       "</tr>\n",
       "<tr>\n",
       "  <th>Method:</th>                 <td>MLE</td>       <th>  Df Model:          </th>  <td>     7</td>  \n",
       "</tr>\n",
       "<tr>\n",
       "  <th>Date:</th>            <td>Fri, 23 Jun 2023</td> <th>  Pseudo R-squ.:     </th>  <td>0.05922</td> \n",
       "</tr>\n",
       "<tr>\n",
       "  <th>Time:</th>                <td>11:15:40</td>     <th>  Log-Likelihood:    </th> <td> -467.33</td> \n",
       "</tr>\n",
       "<tr>\n",
       "  <th>converged:</th>             <td>True</td>       <th>  LL-Null:           </th> <td> -496.74</td> \n",
       "</tr>\n",
       "<tr>\n",
       "  <th>Covariance Type:</th>     <td>nonrobust</td>    <th>  LLR p-value:       </th> <td>2.583e-10</td>\n",
       "</tr>\n",
       "</table>\n",
       "<table class=\"simpletable\">\n",
       "<tr>\n",
       "              <td></td>                <th>coef</th>     <th>std err</th>      <th>z</th>      <th>P>|z|</th>  <th>[0.025</th>    <th>0.975]</th>  \n",
       "</tr>\n",
       "<tr>\n",
       "  <th>Pregnancies</th>              <td>    0.1284</td> <td>    0.029</td> <td>    4.484</td> <td> 0.000</td> <td>    0.072</td> <td>    0.185</td>\n",
       "</tr>\n",
       "<tr>\n",
       "  <th>Glucose</th>                  <td>    0.0129</td> <td>    0.003</td> <td>    4.757</td> <td> 0.000</td> <td>    0.008</td> <td>    0.018</td>\n",
       "</tr>\n",
       "<tr>\n",
       "  <th>BloodPressure</th>            <td>   -0.0303</td> <td>    0.005</td> <td>   -6.481</td> <td> 0.000</td> <td>   -0.039</td> <td>   -0.021</td>\n",
       "</tr>\n",
       "<tr>\n",
       "  <th>SkinThickness</th>            <td>    0.0002</td> <td>    0.006</td> <td>    0.032</td> <td> 0.974</td> <td>   -0.012</td> <td>    0.012</td>\n",
       "</tr>\n",
       "<tr>\n",
       "  <th>Insulin</th>                  <td>    0.0007</td> <td>    0.001</td> <td>    0.942</td> <td> 0.346</td> <td>   -0.001</td> <td>    0.002</td>\n",
       "</tr>\n",
       "<tr>\n",
       "  <th>BMI</th>                      <td>   -0.0048</td> <td>    0.011</td> <td>   -0.449</td> <td> 0.653</td> <td>   -0.026</td> <td>    0.016</td>\n",
       "</tr>\n",
       "<tr>\n",
       "  <th>DiabetesPedigreeFunction</th> <td>    0.3203</td> <td>    0.240</td> <td>    1.335</td> <td> 0.182</td> <td>   -0.150</td> <td>    0.790</td>\n",
       "</tr>\n",
       "<tr>\n",
       "  <th>Age</th>                      <td>   -0.0156</td> <td>    0.008</td> <td>   -1.852</td> <td> 0.064</td> <td>   -0.032</td> <td>    0.001</td>\n",
       "</tr>\n",
       "</table>"
      ],
      "text/plain": [
       "<class 'statsmodels.iolib.summary.Summary'>\n",
       "\"\"\"\n",
       "                           Logit Regression Results                           \n",
       "==============================================================================\n",
       "Dep. Variable:                Outcome   No. Observations:                  768\n",
       "Model:                          Logit   Df Residuals:                      760\n",
       "Method:                           MLE   Df Model:                            7\n",
       "Date:                Fri, 23 Jun 2023   Pseudo R-squ.:                 0.05922\n",
       "Time:                        11:15:40   Log-Likelihood:                -467.33\n",
       "converged:                       True   LL-Null:                       -496.74\n",
       "Covariance Type:            nonrobust   LLR p-value:                 2.583e-10\n",
       "============================================================================================\n",
       "                               coef    std err          z      P>|z|      [0.025      0.975]\n",
       "--------------------------------------------------------------------------------------------\n",
       "Pregnancies                  0.1284      0.029      4.484      0.000       0.072       0.185\n",
       "Glucose                      0.0129      0.003      4.757      0.000       0.008       0.018\n",
       "BloodPressure               -0.0303      0.005     -6.481      0.000      -0.039      -0.021\n",
       "SkinThickness                0.0002      0.006      0.032      0.974      -0.012       0.012\n",
       "Insulin                      0.0007      0.001      0.942      0.346      -0.001       0.002\n",
       "BMI                         -0.0048      0.011     -0.449      0.653      -0.026       0.016\n",
       "DiabetesPedigreeFunction     0.3203      0.240      1.335      0.182      -0.150       0.790\n",
       "Age                         -0.0156      0.008     -1.852      0.064      -0.032       0.001\n",
       "============================================================================================\n",
       "\"\"\""
      ]
     },
     "execution_count": 96,
     "metadata": {},
     "output_type": "execute_result"
    }
   ],
   "source": [
    "loj = sm.Logit(y, X)\n",
    "loj_model= loj.fit()\n",
    "loj_model.summary()"
   ]
  },
  {
   "cell_type": "code",
   "execution_count": 97,
   "metadata": {},
   "outputs": [],
   "source": [
    "#scikit-learn"
   ]
  },
  {
   "cell_type": "code",
   "execution_count": 98,
   "metadata": {},
   "outputs": [
    {
     "data": {
      "text/plain": [
       "LogisticRegression(solver='liblinear')"
      ]
     },
     "execution_count": 98,
     "metadata": {},
     "output_type": "execute_result"
    }
   ],
   "source": [
    "from sklearn.linear_model import LogisticRegression\n",
    "loj = LogisticRegression(solver = \"liblinear\")\n",
    "loj_model = loj.fit(X,y)\n",
    "loj_model"
   ]
  },
  {
   "cell_type": "code",
   "execution_count": 99,
   "metadata": {},
   "outputs": [
    {
     "data": {
      "text/plain": [
       "array([-5.84073324])"
      ]
     },
     "execution_count": 99,
     "metadata": {},
     "output_type": "execute_result"
    }
   ],
   "source": [
    "loj_model.intercept_"
   ]
  },
  {
   "cell_type": "code",
   "execution_count": 100,
   "metadata": {},
   "outputs": [
    {
     "data": {
      "text/plain": [
       "array([[ 1.16937119e-01,  2.82506791e-02, -1.69647463e-02,\n",
       "         7.64900753e-04, -6.30568264e-04,  5.91967766e-02,\n",
       "         6.68475894e-01,  7.08845329e-03]])"
      ]
     },
     "execution_count": 100,
     "metadata": {},
     "output_type": "execute_result"
    }
   ],
   "source": [
    "loj_model.coef_"
   ]
  },
  {
   "attachments": {},
   "cell_type": "markdown",
   "metadata": {},
   "source": [
    "## Tahmin & Model Tuning"
   ]
  },
  {
   "cell_type": "code",
   "execution_count": 101,
   "metadata": {},
   "outputs": [],
   "source": [
    "y_pred = loj_model.predict(X)"
   ]
  },
  {
   "cell_type": "code",
   "execution_count": 102,
   "metadata": {},
   "outputs": [
    {
     "data": {
      "text/plain": [
       "array([[448,  52],\n",
       "       [121, 147]], dtype=int64)"
      ]
     },
     "execution_count": 102,
     "metadata": {},
     "output_type": "execute_result"
    }
   ],
   "source": [
    "confusion_matrix(y, y_pred)"
   ]
  },
  {
   "cell_type": "code",
   "execution_count": 103,
   "metadata": {},
   "outputs": [
    {
     "data": {
      "text/plain": [
       "0.7747395833333334"
      ]
     },
     "execution_count": 103,
     "metadata": {},
     "output_type": "execute_result"
    }
   ],
   "source": [
    "accuracy_score(y, y_pred)"
   ]
  },
  {
   "cell_type": "code",
   "execution_count": 104,
   "metadata": {},
   "outputs": [
    {
     "name": "stdout",
     "output_type": "stream",
     "text": [
      "              precision    recall  f1-score   support\n",
      "\n",
      "           0       0.79      0.90      0.84       500\n",
      "           1       0.74      0.55      0.63       268\n",
      "\n",
      "    accuracy                           0.77       768\n",
      "   macro avg       0.76      0.72      0.73       768\n",
      "weighted avg       0.77      0.77      0.77       768\n",
      "\n"
     ]
    }
   ],
   "source": [
    "print(classification_report(y, y_pred))"
   ]
  },
  {
   "cell_type": "code",
   "execution_count": 105,
   "metadata": {},
   "outputs": [
    {
     "data": {
      "text/plain": [
       "array([1, 0, 1, 0, 1, 0, 0, 1, 1, 0], dtype=int64)"
      ]
     },
     "execution_count": 105,
     "metadata": {},
     "output_type": "execute_result"
    }
   ],
   "source": [
    "loj_model.predict(X)[0:10]"
   ]
  },
  {
   "cell_type": "code",
   "execution_count": 106,
   "metadata": {},
   "outputs": [
    {
     "data": {
      "text/plain": [
       "array([[0.35208919, 0.64791081],\n",
       "       [0.91613598, 0.08386402],\n",
       "       [0.22544273, 0.77455727],\n",
       "       [0.92033572, 0.07966428],\n",
       "       [0.16985872, 0.83014128],\n",
       "       [0.79768782, 0.20231218],\n",
       "       [0.8787278 , 0.1212722 ],\n",
       "       [0.2764273 , 0.7235727 ],\n",
       "       [0.32085978, 0.67914022],\n",
       "       [0.9216265 , 0.0783735 ]])"
      ]
     },
     "execution_count": 106,
     "metadata": {},
     "output_type": "execute_result"
    }
   ],
   "source": [
    "loj_model.predict_proba(X)[0:10][:,0:2]"
   ]
  },
  {
   "cell_type": "code",
   "execution_count": 107,
   "metadata": {},
   "outputs": [
    {
     "data": {
      "text/plain": [
       "0    1\n",
       "1    0\n",
       "2    1\n",
       "3    0\n",
       "4    1\n",
       "5    0\n",
       "6    1\n",
       "7    0\n",
       "8    1\n",
       "9    1\n",
       "Name: Outcome, dtype: int64"
      ]
     },
     "execution_count": 107,
     "metadata": {},
     "output_type": "execute_result"
    }
   ],
   "source": [
    "y[0:10]"
   ]
  },
  {
   "cell_type": "code",
   "execution_count": 108,
   "metadata": {},
   "outputs": [],
   "source": [
    "y_probs = loj_model.predict_proba(X)\n",
    "y_probs = y_probs[:,1]"
   ]
  },
  {
   "cell_type": "code",
   "execution_count": 109,
   "metadata": {},
   "outputs": [
    {
     "data": {
      "text/plain": [
       "array([0.64791081, 0.08386402, 0.77455727, 0.07966428, 0.83014128,\n",
       "       0.20231218, 0.1212722 , 0.7235727 , 0.67914022, 0.0783735 ])"
      ]
     },
     "execution_count": 109,
     "metadata": {},
     "output_type": "execute_result"
    }
   ],
   "source": [
    "y_probs[0:10]"
   ]
  },
  {
   "cell_type": "code",
   "execution_count": 110,
   "metadata": {},
   "outputs": [],
   "source": [
    "y_pred = [1 if i > 0.5 else 0 for i in y_probs]"
   ]
  },
  {
   "cell_type": "code",
   "execution_count": 111,
   "metadata": {},
   "outputs": [
    {
     "data": {
      "text/plain": [
       "[1, 0, 1, 0, 1, 0, 0, 1, 1, 0]"
      ]
     },
     "execution_count": 111,
     "metadata": {},
     "output_type": "execute_result"
    }
   ],
   "source": [
    "y_pred[0:10]"
   ]
  },
  {
   "cell_type": "code",
   "execution_count": 112,
   "metadata": {},
   "outputs": [
    {
     "data": {
      "text/plain": [
       "array([[448,  52],\n",
       "       [121, 147]], dtype=int64)"
      ]
     },
     "execution_count": 112,
     "metadata": {},
     "output_type": "execute_result"
    }
   ],
   "source": [
    "confusion_matrix(y, y_pred)"
   ]
  },
  {
   "cell_type": "code",
   "execution_count": 113,
   "metadata": {},
   "outputs": [
    {
     "data": {
      "text/plain": [
       "0.7747395833333334"
      ]
     },
     "execution_count": 113,
     "metadata": {},
     "output_type": "execute_result"
    }
   ],
   "source": [
    "accuracy_score(y, y_pred)"
   ]
  },
  {
   "cell_type": "code",
   "execution_count": 114,
   "metadata": {},
   "outputs": [
    {
     "name": "stdout",
     "output_type": "stream",
     "text": [
      "              precision    recall  f1-score   support\n",
      "\n",
      "           0       0.79      0.90      0.84       500\n",
      "           1       0.74      0.55      0.63       268\n",
      "\n",
      "    accuracy                           0.77       768\n",
      "   macro avg       0.76      0.72      0.73       768\n",
      "weighted avg       0.77      0.77      0.77       768\n",
      "\n"
     ]
    }
   ],
   "source": [
    "print(classification_report(y, y_pred))"
   ]
  },
  {
   "cell_type": "code",
   "execution_count": 115,
   "metadata": {},
   "outputs": [
    {
     "data": {
      "text/plain": [
       "array([0.64791081, 0.08386402, 0.77455727, 0.07966428, 0.83014128])"
      ]
     },
     "execution_count": 115,
     "metadata": {},
     "output_type": "execute_result"
    }
   ],
   "source": [
    "loj_model.predict_proba(X)[:,1][0:5]"
   ]
  },
  {
   "cell_type": "code",
   "execution_count": 116,
   "metadata": {},
   "outputs": [
    {
     "data": {
      "image/png": "[encoded data removed]",
      "text/plain": [
       "<Figure size 432x288 with 1 Axes>"
      ]
     },
     "metadata": {
      "needs_background": "light"
     },
     "output_type": "display_data"
    }
   ],
   "source": [
    "logit_roc_auc = roc_auc_score(y, loj_model.predict(X))\n",
    "\n",
    "fpr, tpr, thresholds = roc_curve(y, loj_model.predict_proba(X)[:,1])\n",
    "plt.figure()\n",
    "plt.plot(fpr, tpr, label='AUC (area = %0.2f)' % logit_roc_auc)\n",
    "plt.plot([0, 1], [0, 1],'r--')\n",
    "plt.xlim([0.0, 1.0])\n",
    "plt.ylim([0.0, 1.05])\n",
    "plt.xlabel('False Positive Oranı')\n",
    "plt.ylabel('True Positive Oranı')\n",
    "plt.title('ROC')\n",
    "plt.show()"
   ]
  },
  {
   "cell_type": "code",
   "execution_count": 117,
   "metadata": {},
   "outputs": [],
   "source": [
    "X_train, X_test, y_train, y_test = train_test_split(X, y, \n",
    "                                                    test_size = 0.30, \n",
    "                                                    random_state = 42)\n"
   ]
  },
  {
   "cell_type": "code",
   "execution_count": 118,
   "metadata": {},
   "outputs": [
    {
     "data": {
      "text/plain": [
       "LogisticRegression(solver='liblinear')"
      ]
     },
     "execution_count": 118,
     "metadata": {},
     "output_type": "execute_result"
    }
   ],
   "source": [
    "loj = LogisticRegression(solver = \"liblinear\")\n",
    "loj_model = loj.fit(X_train,y_train)\n",
    "loj_model"
   ]
  },
  {
   "cell_type": "code",
   "execution_count": 119,
   "metadata": {},
   "outputs": [
    {
     "data": {
      "text/plain": [
       "0.7532467532467533"
      ]
     },
     "execution_count": 119,
     "metadata": {},
     "output_type": "execute_result"
    }
   ],
   "source": [
    "accuracy_score(y_test, loj_model.predict(X_test))"
   ]
  },
  {
   "cell_type": "code",
   "execution_count": 120,
   "metadata": {},
   "outputs": [
    {
     "data": {
      "text/plain": [
       "0.7748188405797102"
      ]
     },
     "execution_count": 120,
     "metadata": {},
     "output_type": "execute_result"
    }
   ],
   "source": [
    "cross_val_score(loj_model, X_test, y_test, cv = 10).mean()"
   ]
  },
  {
   "attachments": {},
   "cell_type": "markdown",
   "metadata": {},
   "source": [
    "# Gaussian Naive Bayes"
   ]
  },
  {
   "cell_type": "code",
   "execution_count": 121,
   "metadata": {},
   "outputs": [],
   "source": [
    "df = diabetes.copy()\n",
    "df = df.dropna()\n",
    "y = df[\"Outcome\"]\n",
    "X = df.drop(['Outcome'], axis=1)\n",
    "X_train, X_test, y_train, y_test = train_test_split(X, y, \n",
    "                                                    test_size=0.30, \n",
    "                                                    random_state=42)\n",
    "\n"
   ]
  },
  {
   "cell_type": "code",
   "execution_count": 122,
   "metadata": {},
   "outputs": [],
   "source": [
    "from sklearn.naive_bayes import GaussianNB"
   ]
  },
  {
   "cell_type": "code",
   "execution_count": 123,
   "metadata": {},
   "outputs": [
    {
     "data": {
      "text/plain": [
       "GaussianNB()"
      ]
     },
     "execution_count": 123,
     "metadata": {},
     "output_type": "execute_result"
    }
   ],
   "source": [
    "nb = GaussianNB()\n",
    "nb_model = nb.fit(X_train, y_train)\n",
    "nb_model"
   ]
  },
  {
   "cell_type": "code",
   "execution_count": 124,
   "metadata": {},
   "outputs": [
    {
     "data": {
      "text/plain": [
       "array([0, 0, 0, 0, 1, 1, 0, 0, 0, 1], dtype=int64)"
      ]
     },
     "execution_count": 124,
     "metadata": {},
     "output_type": "execute_result"
    }
   ],
   "source": [
    "nb_model.predict(X_test)[0:10]"
   ]
  },
  {
   "cell_type": "code",
   "execution_count": 125,
   "metadata": {},
   "outputs": [
    {
     "data": {
      "text/plain": [
       "array([[0.73815858, 0.26184142],\n",
       "       [0.94027894, 0.05972106],\n",
       "       [0.97242831, 0.02757169],\n",
       "       [0.82840069, 0.17159931],\n",
       "       [0.47153473, 0.52846527],\n",
       "       [0.47274458, 0.52725542],\n",
       "       [0.99607705, 0.00392295],\n",
       "       [0.69925055, 0.30074945],\n",
       "       [0.53838117, 0.46161883],\n",
       "       [0.25004536, 0.74995464]])"
      ]
     },
     "execution_count": 125,
     "metadata": {},
     "output_type": "execute_result"
    }
   ],
   "source": [
    "nb_model.predict_proba(X_test)[0:10]"
   ]
  },
  {
   "cell_type": "code",
   "execution_count": 126,
   "metadata": {},
   "outputs": [
    {
     "data": {
      "text/plain": [
       "array([1, 0, 1, 0, 1, 0, 1, 0, 1, 1], dtype=int64)"
      ]
     },
     "execution_count": 126,
     "metadata": {},
     "output_type": "execute_result"
    }
   ],
   "source": [
    "np.array(y[0:10])"
   ]
  },
  {
   "cell_type": "code",
   "execution_count": 127,
   "metadata": {},
   "outputs": [],
   "source": [
    "y_pred = nb_model.predict(X_test)"
   ]
  },
  {
   "cell_type": "code",
   "execution_count": 128,
   "metadata": {},
   "outputs": [
    {
     "data": {
      "text/plain": [
       "0.7445887445887446"
      ]
     },
     "execution_count": 128,
     "metadata": {},
     "output_type": "execute_result"
    }
   ],
   "source": [
    "accuracy_score(y_test, y_pred)"
   ]
  },
  {
   "cell_type": "code",
   "execution_count": 129,
   "metadata": {},
   "outputs": [
    {
     "data": {
      "text/plain": [
       "0.775"
      ]
     },
     "execution_count": 129,
     "metadata": {},
     "output_type": "execute_result"
    }
   ],
   "source": [
    "cross_val_score(nb_model, X_test, y_test, cv = 10).mean()"
   ]
  },
  {
   "attachments": {},
   "cell_type": "markdown",
   "metadata": {},
   "source": [
    "# KNN"
   ]
  },
  {
   "attachments": {},
   "cell_type": "markdown",
   "metadata": {},
   "source": [
    "## Model & Tahmin"
   ]
  },
  {
   "cell_type": "code",
   "execution_count": 130,
   "metadata": {},
   "outputs": [],
   "source": [
    "df = diabetes.copy()\n",
    "df = df.dropna()\n",
    "y = df[\"Outcome\"]\n",
    "X = df.drop(['Outcome'], axis=1)\n",
    "X_train, X_test, y_train, y_test = train_test_split(X, y, \n",
    "                                                    test_size=0.30, \n",
    "                                                    random_state=42)"
   ]
  },
  {
   "cell_type": "code",
   "execution_count": 131,
   "metadata": {},
   "outputs": [
    {
     "data": {
      "text/plain": [
       "KNeighborsClassifier()"
      ]
     },
     "execution_count": 131,
     "metadata": {},
     "output_type": "execute_result"
    }
   ],
   "source": [
    "knn = KNeighborsClassifier()\n",
    "knn_model = knn.fit(X_train, y_train)\n",
    "knn_model"
   ]
  },
  {
   "cell_type": "code",
   "execution_count": 132,
   "metadata": {},
   "outputs": [],
   "source": [
    "y_pred = knn_model.predict(X_test)"
   ]
  },
  {
   "cell_type": "code",
   "execution_count": 133,
   "metadata": {},
   "outputs": [
    {
     "data": {
      "text/plain": [
       "0.6883116883116883"
      ]
     },
     "execution_count": 133,
     "metadata": {},
     "output_type": "execute_result"
    }
   ],
   "source": [
    "accuracy_score(y_test, y_pred)"
   ]
  },
  {
   "cell_type": "code",
   "execution_count": 134,
   "metadata": {},
   "outputs": [
    {
     "name": "stdout",
     "output_type": "stream",
     "text": [
      "              precision    recall  f1-score   support\n",
      "\n",
      "           0       0.77      0.75      0.76       151\n",
      "           1       0.55      0.56      0.56        80\n",
      "\n",
      "    accuracy                           0.69       231\n",
      "   macro avg       0.66      0.66      0.66       231\n",
      "weighted avg       0.69      0.69      0.69       231\n",
      "\n"
     ]
    }
   ],
   "source": [
    "print(classification_report(y_test, y_pred))"
   ]
  },
  {
   "attachments": {},
   "cell_type": "markdown",
   "metadata": {},
   "source": [
    "## Model Tuning"
   ]
  },
  {
   "cell_type": "code",
   "execution_count": 135,
   "metadata": {},
   "outputs": [],
   "source": [
    "knn_params = {\"n_neighbors\": np.arange(1,50)}"
   ]
  },
  {
   "cell_type": "code",
   "execution_count": 136,
   "metadata": {},
   "outputs": [
    {
     "data": {
      "text/plain": [
       "GridSearchCV(cv=10, estimator=KNeighborsClassifier(),\n",
       "             param_grid={'n_neighbors': array([ 1,  2,  3,  4,  5,  6,  7,  8,  9, 10, 11, 12, 13, 14, 15, 16, 17,\n",
       "       18, 19, 20, 21, 22, 23, 24, 25, 26, 27, 28, 29, 30, 31, 32, 33, 34,\n",
       "       35, 36, 37, 38, 39, 40, 41, 42, 43, 44, 45, 46, 47, 48, 49])})"
      ]
     },
     "execution_count": 136,
     "metadata": {},
     "output_type": "execute_result"
    }
   ],
   "source": [
    "knn = KNeighborsClassifier()\n",
    "knn_cv = GridSearchCV(knn, knn_params, cv=10)\n",
    "knn_cv.fit(X_train, y_train)"
   ]
  },
  {
   "cell_type": "code",
   "execution_count": 137,
   "metadata": {},
   "outputs": [
    {
     "name": "stdout",
     "output_type": "stream",
     "text": [
      "En iyi skor:0.748637316561845\n",
      "En iyi parametreler: {'n_neighbors': 11}\n"
     ]
    }
   ],
   "source": [
    "print(\"En iyi skor:\" + str(knn_cv.best_score_))\n",
    "print(\"En iyi parametreler: \" + str(knn_cv.best_params_))"
   ]
  },
  {
   "cell_type": "code",
   "execution_count": null,
   "metadata": {},
   "outputs": [],
   "source": []
  },
  {
   "cell_type": "code",
   "execution_count": 138,
   "metadata": {},
   "outputs": [],
   "source": [
    "knn = KNeighborsClassifier(11)\n",
    "knn_tuned = knn.fit(X_train, y_train)"
   ]
  },
  {
   "cell_type": "code",
   "execution_count": 139,
   "metadata": {},
   "outputs": [
    {
     "data": {
      "text/plain": [
       "0.7316017316017316"
      ]
     },
     "execution_count": 139,
     "metadata": {},
     "output_type": "execute_result"
    }
   ],
   "source": [
    "knn_tuned.score(X_test, y_test)"
   ]
  },
  {
   "cell_type": "code",
   "execution_count": 140,
   "metadata": {},
   "outputs": [],
   "source": [
    "y_pred = knn_tuned.predict(X_test)"
   ]
  },
  {
   "cell_type": "code",
   "execution_count": 141,
   "metadata": {},
   "outputs": [
    {
     "data": {
      "text/plain": [
       "0.7316017316017316"
      ]
     },
     "execution_count": 141,
     "metadata": {},
     "output_type": "execute_result"
    }
   ],
   "source": [
    "accuracy_score(y_test, y_pred)"
   ]
  },
  {
   "cell_type": "code",
   "execution_count": 142,
   "metadata": {},
   "outputs": [
    {
     "name": "stdout",
     "output_type": "stream",
     "text": [
      "              precision    recall  f1-score   support\n",
      "\n",
      "           0       0.78      0.81      0.80       151\n",
      "           1       0.62      0.57      0.60        80\n",
      "\n",
      "    accuracy                           0.73       231\n",
      "   macro avg       0.70      0.69      0.70       231\n",
      "weighted avg       0.73      0.73      0.73       231\n",
      "\n"
     ]
    }
   ],
   "source": [
    "print(classification_report(y_test, y_pred))"
   ]
  },
  {
   "attachments": {},
   "cell_type": "markdown",
   "metadata": {},
   "source": [
    "# SVC"
   ]
  },
  {
   "attachments": {},
   "cell_type": "markdown",
   "metadata": {},
   "source": [
    "## Model & Tahmin"
   ]
  },
  {
   "cell_type": "code",
   "execution_count": 143,
   "metadata": {},
   "outputs": [],
   "source": [
    "df = diabetes.copy()\n",
    "df = df.dropna()\n",
    "y = df[\"Outcome\"]\n",
    "X = df.drop(['Outcome'], axis=1)\n",
    "X_train, X_test, y_train, y_test = train_test_split(X, y, \n",
    "                                                    test_size=0.30, \n",
    "                                                    random_state=42)"
   ]
  },
  {
   "cell_type": "code",
   "execution_count": 144,
   "metadata": {},
   "outputs": [],
   "source": [
    "svm_model = SVC(kernel = \"linear\").fit(X_train, y_train)"
   ]
  },
  {
   "cell_type": "code",
   "execution_count": 145,
   "metadata": {},
   "outputs": [
    {
     "data": {
      "text/plain": [
       "SVC(kernel='linear')"
      ]
     },
     "execution_count": 145,
     "metadata": {},
     "output_type": "execute_result"
    }
   ],
   "source": [
    "svm_model"
   ]
  },
  {
   "cell_type": "code",
   "execution_count": 146,
   "metadata": {},
   "outputs": [],
   "source": [
    "y_pred = svm_model.predict(X_test)"
   ]
  },
  {
   "cell_type": "code",
   "execution_count": 147,
   "metadata": {},
   "outputs": [
    {
     "data": {
      "text/plain": [
       "0.7445887445887446"
      ]
     },
     "execution_count": 147,
     "metadata": {},
     "output_type": "execute_result"
    }
   ],
   "source": [
    "accuracy_score(y_test, y_pred)"
   ]
  },
  {
   "attachments": {},
   "cell_type": "markdown",
   "metadata": {},
   "source": [
    "## Model Tuning"
   ]
  },
  {
   "cell_type": "code",
   "execution_count": 148,
   "metadata": {},
   "outputs": [
    {
     "name": "stdout",
     "output_type": "stream",
     "text": [
      "Fitting 3 folds for each of 5 candidates, totalling 15 fits\n"
     ]
    },
    {
     "data": {
      "text/plain": [
       "GridSearchCV(cv=3, estimator=SVC(kernel='linear'), n_jobs=-1,\n",
       "             param_grid={'C': array([5, 6, 7, 8, 9])}, verbose=2)"
      ]
     },
     "execution_count": 148,
     "metadata": {},
     "output_type": "execute_result"
    }
   ],
   "source": [
    "svc_params = {\"C\": np.arange(5,10)} # np.arange(1,10)\n",
    "\n",
    "svc = SVC(kernel = \"linear\")\n",
    "\n",
    "svc_cv_model = GridSearchCV(svc,svc_params, \n",
    "                            cv = 3, #cv = 10 \n",
    "                            n_jobs = -1, \n",
    "                            verbose = 2 )\n",
    "\n",
    "svc_cv_model.fit(X_train, y_train)"
   ]
  },
  {
   "cell_type": "code",
   "execution_count": 149,
   "metadata": {},
   "outputs": [
    {
     "name": "stdout",
     "output_type": "stream",
     "text": [
      "En iyi parametreler: {'C': 8}\n"
     ]
    }
   ],
   "source": [
    "print(\"En iyi parametreler: \" + str(svc_cv_model.best_params_))"
   ]
  },
  {
   "cell_type": "code",
   "execution_count": null,
   "metadata": {},
   "outputs": [],
   "source": []
  },
  {
   "cell_type": "code",
   "execution_count": 150,
   "metadata": {},
   "outputs": [],
   "source": [
    "svc_tuned = SVC(kernel = \"linear\", C = 8).fit(X_train, y_train)"
   ]
  },
  {
   "cell_type": "code",
   "execution_count": 151,
   "metadata": {},
   "outputs": [
    {
     "data": {
      "text/plain": [
       "0.7402597402597403"
      ]
     },
     "execution_count": 151,
     "metadata": {},
     "output_type": "execute_result"
    }
   ],
   "source": [
    "y_pred = svc_tuned.predict(X_test)\n",
    "accuracy_score(y_test, y_pred)"
   ]
  },
  {
   "cell_type": "code",
   "execution_count": null,
   "metadata": {},
   "outputs": [],
   "source": []
  },
  {
   "attachments": {},
   "cell_type": "markdown",
   "metadata": {},
   "source": [
    "# RBF SVC"
   ]
  },
  {
   "attachments": {},
   "cell_type": "markdown",
   "metadata": {},
   "source": [
    "## Model & Tahmin"
   ]
  },
  {
   "cell_type": "code",
   "execution_count": 152,
   "metadata": {},
   "outputs": [],
   "source": [
    "df = diabetes.copy()\n",
    "df = df.dropna()\n",
    "y = df[\"Outcome\"]\n",
    "X = df.drop(['Outcome'], axis=1)\n",
    "X_train, X_test, y_train, y_test = train_test_split(X, y, \n",
    "                                                    test_size=0.30, \n",
    "                                                    random_state=42)"
   ]
  },
  {
   "cell_type": "code",
   "execution_count": 153,
   "metadata": {},
   "outputs": [],
   "source": [
    "svc_model = SVC(kernel = \"rbf\").fit(X_train, y_train)"
   ]
  },
  {
   "cell_type": "code",
   "execution_count": 154,
   "metadata": {},
   "outputs": [
    {
     "data": {
      "text/plain": [
       "SVC()"
      ]
     },
     "execution_count": 154,
     "metadata": {},
     "output_type": "execute_result"
    }
   ],
   "source": [
    "svc_model"
   ]
  },
  {
   "cell_type": "code",
   "execution_count": 155,
   "metadata": {},
   "outputs": [
    {
     "data": {
      "text/plain": [
       "0.7359307359307359"
      ]
     },
     "execution_count": 155,
     "metadata": {},
     "output_type": "execute_result"
    }
   ],
   "source": [
    "y_pred = svc_model.predict(X_test)\n",
    "accuracy_score(y_test, y_pred)"
   ]
  },
  {
   "attachments": {},
   "cell_type": "markdown",
   "metadata": {},
   "source": [
    "## Model Tuning"
   ]
  },
  {
   "cell_type": "code",
   "execution_count": 156,
   "metadata": {},
   "outputs": [],
   "source": [
    "svc_params = {\"C\": [0.0001, 0.001, 0.1, 1, 5, 10 ,50 ,100],\n",
    "             \"gamma\": [0.0001, 0.001, 0.1, 1, 5, 10 ,50 ,100]}"
   ]
  },
  {
   "cell_type": "code",
   "execution_count": 157,
   "metadata": {},
   "outputs": [
    {
     "name": "stdout",
     "output_type": "stream",
     "text": [
      "Fitting 3 folds for each of 64 candidates, totalling 192 fits\n"
     ]
    },
    {
     "data": {
      "text/plain": [
       "GridSearchCV(cv=3, estimator=SVC(), n_jobs=-1,\n",
       "             param_grid={'C': [0.0001, 0.001, 0.1, 1, 5, 10, 50, 100],\n",
       "                         'gamma': [0.0001, 0.001, 0.1, 1, 5, 10, 50, 100]},\n",
       "             verbose=2)"
      ]
     },
     "execution_count": 157,
     "metadata": {},
     "output_type": "execute_result"
    }
   ],
   "source": [
    "svc = SVC()\n",
    "svc_cv_model = GridSearchCV(svc, svc_params, \n",
    "                         cv = 3, \n",
    "                         n_jobs = -1,\n",
    "                         verbose = 2)\n",
    "\n",
    "svc_cv_model.fit(X_train, y_train)"
   ]
  },
  {
   "cell_type": "code",
   "execution_count": 158,
   "metadata": {},
   "outputs": [
    {
     "name": "stdout",
     "output_type": "stream",
     "text": [
      "En iyi parametreler: {'C': 10, 'gamma': 0.0001}\n"
     ]
    }
   ],
   "source": [
    "print(\"En iyi parametreler: \" + str(svc_cv_model.best_params_))"
   ]
  },
  {
   "cell_type": "code",
   "execution_count": 159,
   "metadata": {},
   "outputs": [],
   "source": [
    "svc_tuned = SVC(C = 10, gamma = 0.0001).fit(X_train, y_train)"
   ]
  },
  {
   "cell_type": "code",
   "execution_count": 160,
   "metadata": {},
   "outputs": [
    {
     "data": {
      "text/plain": [
       "0.7359307359307359"
      ]
     },
     "execution_count": 160,
     "metadata": {},
     "output_type": "execute_result"
    }
   ],
   "source": [
    "y_pred = svc_tuned.predict(X_test)\n",
    "accuracy_score(y_test, y_pred)"
   ]
  },
  {
   "cell_type": "code",
   "execution_count": 161,
   "metadata": {},
   "outputs": [
    {
     "name": "stdout",
     "output_type": "stream",
     "text": [
      "              precision    recall  f1-score   support\n",
      "\n",
      "           0       0.80      0.79      0.80       151\n",
      "           1       0.62      0.62      0.62        80\n",
      "\n",
      "    accuracy                           0.74       231\n",
      "   macro avg       0.71      0.71      0.71       231\n",
      "weighted avg       0.74      0.74      0.74       231\n",
      "\n"
     ]
    }
   ],
   "source": [
    "print(classification_report(y_test, y_pred))"
   ]
  },
  {
   "attachments": {},
   "cell_type": "markdown",
   "metadata": {},
   "source": [
    "# Yapay Sinir Ağları"
   ]
  },
  {
   "attachments": {},
   "cell_type": "markdown",
   "metadata": {},
   "source": [
    "## Model & Tahmin"
   ]
  },
  {
   "cell_type": "code",
   "execution_count": 162,
   "metadata": {},
   "outputs": [],
   "source": [
    "df = diabetes.copy()\n",
    "df = df.dropna()\n",
    "y = df[\"Outcome\"]\n",
    "X = df.drop(['Outcome'], axis=1)\n",
    "X_train, X_test, y_train, y_test = train_test_split(X, y, \n",
    "                                                    test_size=0.30, \n",
    "                                                    random_state=42)"
   ]
  },
  {
   "cell_type": "code",
   "execution_count": 163,
   "metadata": {},
   "outputs": [],
   "source": [
    "from sklearn.preprocessing import StandardScaler  "
   ]
  },
  {
   "cell_type": "code",
   "execution_count": 164,
   "metadata": {},
   "outputs": [],
   "source": [
    "scaler = StandardScaler()"
   ]
  },
  {
   "cell_type": "code",
   "execution_count": 165,
   "metadata": {},
   "outputs": [],
   "source": [
    "scaler.fit(X_train)\n",
    "X_train_scaled = scaler.transform(X_train)\n",
    "X_test_scaled = scaler.transform(X_test)"
   ]
  },
  {
   "cell_type": "code",
   "execution_count": 166,
   "metadata": {},
   "outputs": [
    {
     "data": {
      "text/plain": [
       "array([[ 0.69748316, -0.70719864, -0.64639893,  0.81207927,  0.95720244,\n",
       "         0.26575953, -0.11680393,  0.85019217],\n",
       "       [-0.52953881, -0.27388818,  0.29399563,  0.74746428, -0.6936878 ,\n",
       "         0.488933  , -0.94192338, -1.03426754],\n",
       "       [-0.52953881, -0.39769117, -0.31449497, -1.3202154 , -0.6936878 ,\n",
       "        -0.1543317 , -0.91266382, -1.03426754],\n",
       "       [ 1.31099414, -0.42864191,  0.57058226, -1.3202154 , -0.6936878 ,\n",
       "        -0.96825847,  1.12965312,  0.07927683],\n",
       "       [ 1.00423865,  0.46892976,  1.12375553, -1.3202154 , -0.6936878 ,\n",
       "        -0.27248236, -0.76051413,  1.44979298]])"
      ]
     },
     "execution_count": 166,
     "metadata": {},
     "output_type": "execute_result"
    }
   ],
   "source": [
    "X_test_scaled[0:5]"
   ]
  },
  {
   "cell_type": "code",
   "execution_count": 167,
   "metadata": {},
   "outputs": [
    {
     "data": {
      "text/html": [
       "<div>\n",
       "<style scoped>\n",
       "    .dataframe tbody tr th:only-of-type {\n",
       "        vertical-align: middle;\n",
       "    }\n",
       "\n",
       "    .dataframe tbody tr th {\n",
       "        vertical-align: top;\n",
       "    }\n",
       "\n",
       "    .dataframe thead th {\n",
       "        text-align: right;\n",
       "    }\n",
       "</style>\n",
       "<table border=\"1\" class=\"dataframe\">\n",
       "  <thead>\n",
       "    <tr style=\"text-align: right;\">\n",
       "      <th></th>\n",
       "      <th>Pregnancies</th>\n",
       "      <th>Glucose</th>\n",
       "      <th>BloodPressure</th>\n",
       "      <th>SkinThickness</th>\n",
       "      <th>Insulin</th>\n",
       "      <th>BMI</th>\n",
       "      <th>DiabetesPedigreeFunction</th>\n",
       "      <th>Age</th>\n",
       "    </tr>\n",
       "  </thead>\n",
       "  <tbody>\n",
       "    <tr>\n",
       "      <th>668</th>\n",
       "      <td>6</td>\n",
       "      <td>98</td>\n",
       "      <td>58</td>\n",
       "      <td>33</td>\n",
       "      <td>190</td>\n",
       "      <td>34.0</td>\n",
       "      <td>0.430</td>\n",
       "      <td>43</td>\n",
       "    </tr>\n",
       "    <tr>\n",
       "      <th>324</th>\n",
       "      <td>2</td>\n",
       "      <td>112</td>\n",
       "      <td>75</td>\n",
       "      <td>32</td>\n",
       "      <td>0</td>\n",
       "      <td>35.7</td>\n",
       "      <td>0.148</td>\n",
       "      <td>21</td>\n",
       "    </tr>\n",
       "    <tr>\n",
       "      <th>624</th>\n",
       "      <td>2</td>\n",
       "      <td>108</td>\n",
       "      <td>64</td>\n",
       "      <td>0</td>\n",
       "      <td>0</td>\n",
       "      <td>30.8</td>\n",
       "      <td>0.158</td>\n",
       "      <td>21</td>\n",
       "    </tr>\n",
       "    <tr>\n",
       "      <th>690</th>\n",
       "      <td>8</td>\n",
       "      <td>107</td>\n",
       "      <td>80</td>\n",
       "      <td>0</td>\n",
       "      <td>0</td>\n",
       "      <td>24.6</td>\n",
       "      <td>0.856</td>\n",
       "      <td>34</td>\n",
       "    </tr>\n",
       "    <tr>\n",
       "      <th>473</th>\n",
       "      <td>7</td>\n",
       "      <td>136</td>\n",
       "      <td>90</td>\n",
       "      <td>0</td>\n",
       "      <td>0</td>\n",
       "      <td>29.9</td>\n",
       "      <td>0.210</td>\n",
       "      <td>50</td>\n",
       "    </tr>\n",
       "  </tbody>\n",
       "</table>\n",
       "</div>"
      ],
      "text/plain": [
       "     Pregnancies  Glucose  BloodPressure  SkinThickness  Insulin   BMI  \\\n",
       "668            6       98             58             33      190  34.0   \n",
       "324            2      112             75             32        0  35.7   \n",
       "624            2      108             64              0        0  30.8   \n",
       "690            8      107             80              0        0  24.6   \n",
       "473            7      136             90              0        0  29.9   \n",
       "\n",
       "     DiabetesPedigreeFunction  Age  \n",
       "668                     0.430   43  \n",
       "324                     0.148   21  \n",
       "624                     0.158   21  \n",
       "690                     0.856   34  \n",
       "473                     0.210   50  "
      ]
     },
     "execution_count": 167,
     "metadata": {},
     "output_type": "execute_result"
    }
   ],
   "source": [
    "X_test[0:5]"
   ]
  },
  {
   "cell_type": "code",
   "execution_count": 168,
   "metadata": {},
   "outputs": [],
   "source": [
    "from sklearn.neural_network import MLPClassifier"
   ]
  },
  {
   "cell_type": "code",
   "execution_count": 169,
   "metadata": {},
   "outputs": [],
   "source": [
    "mlpc = MLPClassifier().fit(X_train_scaled, y_train)"
   ]
  },
  {
   "cell_type": "code",
   "execution_count": 170,
   "metadata": {},
   "outputs": [
    {
     "data": {
      "text/plain": [
       "0.7316017316017316"
      ]
     },
     "execution_count": 170,
     "metadata": {},
     "output_type": "execute_result"
    }
   ],
   "source": [
    "y_pred = mlpc.predict(X_test_scaled)\n",
    "accuracy_score(y_test, y_pred)"
   ]
  },
  {
   "attachments": {},
   "cell_type": "markdown",
   "metadata": {},
   "source": [
    "## Model Tuning"
   ]
  },
  {
   "cell_type": "code",
   "execution_count": 171,
   "metadata": {},
   "outputs": [
    {
     "data": {
      "text/plain": [
       "MLPClassifier()"
      ]
     },
     "execution_count": 171,
     "metadata": {},
     "output_type": "execute_result"
    }
   ],
   "source": [
    "mlpc"
   ]
  },
  {
   "cell_type": "code",
   "execution_count": 172,
   "metadata": {},
   "outputs": [],
   "source": [
    "#?mlpc"
   ]
  },
  {
   "cell_type": "code",
   "execution_count": 173,
   "metadata": {},
   "outputs": [],
   "source": [
    "mlpc_params = {\"alpha\": [0.1, 0.01, 0.02, 0.005, 0.0001,0.00001],\n",
    "              \"hidden_layer_sizes\": [(10,10,10),\n",
    "                                     (100,100,100),\n",
    "                                     (100,100),\n",
    "                                     (3,5), \n",
    "                                     (5, 3)],\n",
    "              \"solver\" : [\"adam\"], # \"solver\" : [\"lbfgs\",\"adam\",\"sgd\"]\n",
    "              \"activation\": [\"logistic\"]} #\"activation\": [\"relu\",\"logistic\"]\n"
   ]
  },
  {
   "cell_type": "code",
   "execution_count": 174,
   "metadata": {},
   "outputs": [
    {
     "name": "stdout",
     "output_type": "stream",
     "text": [
      "Fitting 3 folds for each of 30 candidates, totalling 90 fits\n"
     ]
    },
    {
     "data": {
      "text/plain": [
       "GridSearchCV(cv=3, estimator=MLPClassifier(), n_jobs=-1,\n",
       "             param_grid={'activation': ['logistic'],\n",
       "                         'alpha': [0.1, 0.01, 0.02, 0.005, 0.0001, 1e-05],\n",
       "                         'hidden_layer_sizes': [(10, 10, 10), (100, 100, 100),\n",
       "                                                (100, 100), (3, 5), (5, 3)],\n",
       "                         'solver': ['adam']},\n",
       "             verbose=2)"
      ]
     },
     "execution_count": 174,
     "metadata": {},
     "output_type": "execute_result"
    }
   ],
   "source": [
    "mlpc = MLPClassifier()\n",
    "mlpc_cv_model = GridSearchCV(mlpc, mlpc_params, \n",
    "                         cv = 3, # cv=10\n",
    "                         n_jobs = -1,\n",
    "                         verbose = 2)\n",
    "\n",
    "mlpc_cv_model.fit(X_train_scaled, y_train)"
   ]
  },
  {
   "cell_type": "code",
   "execution_count": 175,
   "metadata": {},
   "outputs": [
    {
     "name": "stdout",
     "output_type": "stream",
     "text": [
      "En iyi parametreler: {'activation': 'logistic', 'alpha': 0.1, 'hidden_layer_sizes': (100, 100, 100), 'solver': 'adam'}\n"
     ]
    }
   ],
   "source": [
    "print(\"En iyi parametreler: \" + str(mlpc_cv_model.best_params_))"
   ]
  },
  {
   "cell_type": "code",
   "execution_count": 176,
   "metadata": {},
   "outputs": [],
   "source": [
    "mlpc_tuned = MLPClassifier(activation = \"logistic\", \n",
    "                           alpha = 0.01, \n",
    "                           hidden_layer_sizes = (100, 100),\n",
    "                          solver = \"adam\")"
   ]
  },
  {
   "cell_type": "code",
   "execution_count": 177,
   "metadata": {},
   "outputs": [
    {
     "data": {
      "text/plain": [
       "MLPClassifier(activation='logistic', alpha=0.01, hidden_layer_sizes=(100, 100))"
      ]
     },
     "execution_count": 177,
     "metadata": {},
     "output_type": "execute_result"
    }
   ],
   "source": [
    "mlpc_tuned.fit(X_train_scaled, y_train)"
   ]
  },
  {
   "cell_type": "code",
   "execution_count": 178,
   "metadata": {},
   "outputs": [
    {
     "data": {
      "text/plain": [
       "0.7445887445887446"
      ]
     },
     "execution_count": 178,
     "metadata": {},
     "output_type": "execute_result"
    }
   ],
   "source": [
    "y_pred = mlpc_tuned.predict(X_test_scaled)\n",
    "accuracy_score(y_test, y_pred)"
   ]
  },
  {
   "cell_type": "code",
   "execution_count": 179,
   "metadata": {},
   "outputs": [
    {
     "name": "stdout",
     "output_type": "stream",
     "text": [
      "              precision    recall  f1-score   support\n",
      "\n",
      "           0       0.80      0.81      0.81       151\n",
      "           1       0.64      0.61      0.62        80\n",
      "\n",
      "    accuracy                           0.74       231\n",
      "   macro avg       0.72      0.71      0.72       231\n",
      "weighted avg       0.74      0.74      0.74       231\n",
      "\n"
     ]
    }
   ],
   "source": [
    "print(classification_report(y_test, y_pred))"
   ]
  },
  {
   "attachments": {},
   "cell_type": "markdown",
   "metadata": {},
   "source": [
    "# CART"
   ]
  },
  {
   "attachments": {},
   "cell_type": "markdown",
   "metadata": {},
   "source": [
    "## Model & Tahmin"
   ]
  },
  {
   "cell_type": "code",
   "execution_count": 180,
   "metadata": {},
   "outputs": [],
   "source": [
    "df = diabetes.copy()\n",
    "df = df.dropna()\n",
    "y = df[\"Outcome\"]\n",
    "X = df.drop(['Outcome'], axis=1)\n",
    "#X = df[\"Pregnancies\"]\n",
    "X = pd.DataFrame(X)\n",
    "X_train, X_test, y_train, y_test = train_test_split(X, y, \n",
    "                                                    test_size=0.30, \n",
    "                                                    random_state=42)"
   ]
  },
  {
   "cell_type": "code",
   "execution_count": 181,
   "metadata": {},
   "outputs": [],
   "source": [
    "from sklearn.tree import DecisionTreeClassifier"
   ]
  },
  {
   "cell_type": "code",
   "execution_count": 182,
   "metadata": {},
   "outputs": [],
   "source": [
    "cart = DecisionTreeClassifier()\n",
    "cart_model = cart.fit(X_train, y_train)"
   ]
  },
  {
   "cell_type": "code",
   "execution_count": 183,
   "metadata": {},
   "outputs": [
    {
     "data": {
      "text/plain": [
       "DecisionTreeClassifier()"
      ]
     },
     "execution_count": 183,
     "metadata": {},
     "output_type": "execute_result"
    }
   ],
   "source": [
    "cart_model"
   ]
  },
  {
   "cell_type": "code",
   "execution_count": 184,
   "metadata": {},
   "outputs": [],
   "source": [
    "#!pip install skompiler\n",
    "#from skompiler import skompile\n",
    "#print(skompile(cart_model.predict).to(\"python/code\"))"
   ]
  },
  {
   "cell_type": "code",
   "execution_count": 185,
   "metadata": {},
   "outputs": [],
   "source": [
    "x = [9]"
   ]
  },
  {
   "cell_type": "code",
   "execution_count": 186,
   "metadata": {},
   "outputs": [
    {
     "data": {
      "text/plain": [
       "1"
      ]
     },
     "execution_count": 186,
     "metadata": {},
     "output_type": "execute_result"
    }
   ],
   "source": [
    "((0 if x[0] <= 2.5 else 0) if x[0] <= 6.5 else 1 if x[0] <= 13.5 else 1)"
   ]
  },
  {
   "cell_type": "code",
   "execution_count": 187,
   "metadata": {},
   "outputs": [
    {
     "data": {
      "text/plain": [
       "0.70995670995671"
      ]
     },
     "execution_count": 187,
     "metadata": {},
     "output_type": "execute_result"
    }
   ],
   "source": [
    "y_pred = cart_model.predict(X_test)\n",
    "accuracy_score(y_test, y_pred)"
   ]
  },
  {
   "attachments": {},
   "cell_type": "markdown",
   "metadata": {},
   "source": [
    "## Model Tuning"
   ]
  },
  {
   "cell_type": "code",
   "execution_count": 188,
   "metadata": {},
   "outputs": [
    {
     "data": {
      "text/plain": [
       "DecisionTreeClassifier()"
      ]
     },
     "execution_count": 188,
     "metadata": {},
     "output_type": "execute_result"
    }
   ],
   "source": [
    "cart_model"
   ]
  },
  {
   "cell_type": "code",
   "execution_count": 189,
   "metadata": {},
   "outputs": [],
   "source": [
    "#?cart_model"
   ]
  },
  {
   "cell_type": "code",
   "execution_count": 190,
   "metadata": {},
   "outputs": [],
   "source": [
    "cart_grid = {\"max_depth\": range(1,10),\n",
    "            \"min_samples_split\" : list(range(2,50)) }"
   ]
  },
  {
   "cell_type": "code",
   "execution_count": 191,
   "metadata": {},
   "outputs": [],
   "source": [
    "cart = tree.DecisionTreeClassifier()\n",
    "cart_cv = GridSearchCV(cart, cart_grid, cv = 10, n_jobs = -1, verbose = 2)\n"
   ]
  },
  {
   "cell_type": "code",
   "execution_count": 192,
   "metadata": {},
   "outputs": [
    {
     "name": "stdout",
     "output_type": "stream",
     "text": [
      "Fitting 10 folds for each of 432 candidates, totalling 4320 fits\n"
     ]
    }
   ],
   "source": [
    "cart_cv_model = cart_cv.fit(X_train, y_train)"
   ]
  },
  {
   "cell_type": "code",
   "execution_count": 193,
   "metadata": {},
   "outputs": [
    {
     "name": "stdout",
     "output_type": "stream",
     "text": [
      "En iyi parametreler: {'max_depth': 5, 'min_samples_split': 19}\n"
     ]
    }
   ],
   "source": [
    "print(\"En iyi parametreler: \" + str(cart_cv_model.best_params_))"
   ]
  },
  {
   "cell_type": "code",
   "execution_count": 194,
   "metadata": {},
   "outputs": [],
   "source": [
    "#final"
   ]
  },
  {
   "cell_type": "code",
   "execution_count": 195,
   "metadata": {},
   "outputs": [],
   "source": [
    "cart = tree.DecisionTreeClassifier(max_depth = 5, min_samples_split = 19)\n",
    "cart_tuned = cart.fit(X_train, y_train)"
   ]
  },
  {
   "cell_type": "code",
   "execution_count": 196,
   "metadata": {},
   "outputs": [
    {
     "data": {
      "text/plain": [
       "0.7532467532467533"
      ]
     },
     "execution_count": 196,
     "metadata": {},
     "output_type": "execute_result"
    }
   ],
   "source": [
    "y_pred = cart_tuned.predict(X_test)\n",
    "accuracy_score(y_test, y_pred)"
   ]
  },
  {
   "attachments": {},
   "cell_type": "markdown",
   "metadata": {},
   "source": [
    "# Random Forests"
   ]
  },
  {
   "cell_type": "code",
   "execution_count": 197,
   "metadata": {},
   "outputs": [],
   "source": [
    "df = diabetes.copy()\n",
    "df = df.dropna()\n",
    "y = df[\"Outcome\"]\n",
    "X = df.drop(['Outcome'], axis=1)\n",
    "#X = df[\"Pregnancies\"]\n",
    "X = pd.DataFrame(X)\n",
    "X_train, X_test, y_train, y_test = train_test_split(X, y, \n",
    "                                                    test_size=0.30, \n",
    "                                                    random_state=42)"
   ]
  },
  {
   "cell_type": "code",
   "execution_count": 198,
   "metadata": {},
   "outputs": [],
   "source": [
    "from sklearn.ensemble import RandomForestClassifier"
   ]
  },
  {
   "cell_type": "code",
   "execution_count": 199,
   "metadata": {},
   "outputs": [],
   "source": [
    "rf_model = RandomForestClassifier().fit(X_train, y_train)"
   ]
  },
  {
   "cell_type": "code",
   "execution_count": 200,
   "metadata": {},
   "outputs": [
    {
     "data": {
      "text/plain": [
       "RandomForestClassifier()"
      ]
     },
     "execution_count": 200,
     "metadata": {},
     "output_type": "execute_result"
    }
   ],
   "source": [
    "rf_model"
   ]
  },
  {
   "cell_type": "code",
   "execution_count": 201,
   "metadata": {},
   "outputs": [
    {
     "data": {
      "text/plain": [
       "0.7489177489177489"
      ]
     },
     "execution_count": 201,
     "metadata": {},
     "output_type": "execute_result"
    }
   ],
   "source": [
    "y_pred = rf_model.predict(X_test)\n",
    "accuracy_score(y_test, y_pred)"
   ]
  },
  {
   "attachments": {},
   "cell_type": "markdown",
   "metadata": {},
   "source": [
    "## Model Tuning"
   ]
  },
  {
   "cell_type": "code",
   "execution_count": 202,
   "metadata": {},
   "outputs": [
    {
     "data": {
      "text/plain": [
       "RandomForestClassifier()"
      ]
     },
     "execution_count": 202,
     "metadata": {},
     "output_type": "execute_result"
    }
   ],
   "source": [
    "rf_model"
   ]
  },
  {
   "cell_type": "code",
   "execution_count": 203,
   "metadata": {},
   "outputs": [],
   "source": [
    "#?rf_model"
   ]
  },
  {
   "cell_type": "code",
   "execution_count": 204,
   "metadata": {},
   "outputs": [],
   "source": [
    "rf_params = {\"max_depth\": [2,5,8,10],\n",
    "            \"max_features\": [2,5,8],\n",
    "            \"n_estimators\": [10,500,1000],\n",
    "            \"min_samples_split\": [2,5,10]}"
   ]
  },
  {
   "cell_type": "code",
   "execution_count": 205,
   "metadata": {},
   "outputs": [],
   "source": [
    "rf_model = RandomForestClassifier()\n",
    "\n",
    "rf_cv_model = GridSearchCV(rf_model, \n",
    "                           rf_params, \n",
    "                           cv = 3, #cv = 10\n",
    "                           n_jobs = -1, \n",
    "                           verbose = 2) "
   ]
  },
  {
   "cell_type": "code",
   "execution_count": 206,
   "metadata": {},
   "outputs": [
    {
     "name": "stdout",
     "output_type": "stream",
     "text": [
      "Fitting 3 folds for each of 108 candidates, totalling 324 fits\n"
     ]
    },
    {
     "data": {
      "text/plain": [
       "GridSearchCV(cv=3, estimator=RandomForestClassifier(), n_jobs=-1,\n",
       "             param_grid={'max_depth': [2, 5, 8, 10], 'max_features': [2, 5, 8],\n",
       "                         'min_samples_split': [2, 5, 10],\n",
       "                         'n_estimators': [10, 500, 1000]},\n",
       "             verbose=2)"
      ]
     },
     "execution_count": 206,
     "metadata": {},
     "output_type": "execute_result"
    }
   ],
   "source": [
    "rf_cv_model.fit(X_train, y_train)"
   ]
  },
  {
   "cell_type": "code",
   "execution_count": 207,
   "metadata": {},
   "outputs": [
    {
     "name": "stdout",
     "output_type": "stream",
     "text": [
      "En iyi parametreler: {'max_depth': 10, 'max_features': 2, 'min_samples_split': 5, 'n_estimators': 500}\n"
     ]
    }
   ],
   "source": [
    "print(\"En iyi parametreler: \" + str(rf_cv_model.best_params_))"
   ]
  },
  {
   "cell_type": "code",
   "execution_count": 208,
   "metadata": {},
   "outputs": [],
   "source": [
    "#final"
   ]
  },
  {
   "cell_type": "code",
   "execution_count": 209,
   "metadata": {},
   "outputs": [
    {
     "data": {
      "text/plain": [
       "RandomForestClassifier(max_depth=10, max_features=2, min_samples_split=10,\n",
       "                       n_estimators=10)"
      ]
     },
     "execution_count": 209,
     "metadata": {},
     "output_type": "execute_result"
    }
   ],
   "source": [
    "rf_tuned = RandomForestClassifier(max_depth = 10, \n",
    "                                  max_features = 2, \n",
    "                                  min_samples_split = 10,\n",
    "                                  n_estimators = 10)\n",
    "\n",
    "rf_tuned.fit(X_train, y_train)"
   ]
  },
  {
   "cell_type": "code",
   "execution_count": 210,
   "metadata": {},
   "outputs": [
    {
     "data": {
      "text/plain": [
       "0.7359307359307359"
      ]
     },
     "execution_count": 210,
     "metadata": {},
     "output_type": "execute_result"
    }
   ],
   "source": [
    "y_pred = rf_tuned.predict(X_test)\n",
    "accuracy_score(y_test, y_pred)"
   ]
  },
  {
   "cell_type": "code",
   "execution_count": 211,
   "metadata": {},
   "outputs": [],
   "source": [
    "Importance = pd.DataFrame({\"Importance\": rf_tuned.feature_importances_*100},\n",
    "                         index = X_train.columns)"
   ]
  },
  {
   "cell_type": "code",
   "execution_count": 212,
   "metadata": {},
   "outputs": [
    {
     "data": {
      "text/plain": [
       "Text(0.5, 0, 'Değişken Önem Düzeyleri')"
      ]
     },
     "execution_count": 212,
     "metadata": {},
     "output_type": "execute_result"
    },
    {
     "data": {
      "image/png": "[encoded data removed]",
      "text/plain": [
       "<Figure size 432x288 with 1 Axes>"
      ]
     },
     "metadata": {
      "needs_background": "light"
     },
     "output_type": "display_data"
    }
   ],
   "source": [
    "Importance.sort_values(by = \"Importance\", \n",
    "                       axis = 0, \n",
    "                       ascending = True).plot(kind =\"barh\", color = \"r\")\n",
    "\n",
    "plt.xlabel(\"Değişken Önem Düzeyleri\")"
   ]
  },
  {
   "attachments": {},
   "cell_type": "markdown",
   "metadata": {},
   "source": [
    "# Gradient Boosting Machines"
   ]
  },
  {
   "cell_type": "code",
   "execution_count": 213,
   "metadata": {},
   "outputs": [],
   "source": [
    "df = diabetes.copy()\n",
    "df = df.dropna()\n",
    "y = df[\"Outcome\"]\n",
    "X = df.drop(['Outcome'], axis=1)\n",
    "#X = df[\"Pregnancies\"]\n",
    "X = pd.DataFrame(X)\n",
    "X_train, X_test, y_train, y_test = train_test_split(X, y, \n",
    "                                                    test_size=0.30, \n",
    "                                                    random_state=42)"
   ]
  },
  {
   "cell_type": "code",
   "execution_count": 214,
   "metadata": {},
   "outputs": [],
   "source": [
    "from sklearn.ensemble import GradientBoostingClassifier"
   ]
  },
  {
   "cell_type": "code",
   "execution_count": 215,
   "metadata": {},
   "outputs": [],
   "source": [
    "gbm_model = GradientBoostingClassifier().fit(X_train, y_train)"
   ]
  },
  {
   "cell_type": "code",
   "execution_count": 216,
   "metadata": {},
   "outputs": [
    {
     "data": {
      "text/plain": [
       "0.7489177489177489"
      ]
     },
     "execution_count": 216,
     "metadata": {},
     "output_type": "execute_result"
    }
   ],
   "source": [
    "y_pred = gbm_model.predict(X_test)\n",
    "accuracy_score(y_test, y_pred)"
   ]
  },
  {
   "attachments": {},
   "cell_type": "markdown",
   "metadata": {},
   "source": [
    "## Model Tuning"
   ]
  },
  {
   "cell_type": "code",
   "execution_count": 217,
   "metadata": {},
   "outputs": [
    {
     "data": {
      "text/plain": [
       "GradientBoostingClassifier()"
      ]
     },
     "execution_count": 217,
     "metadata": {},
     "output_type": "execute_result"
    }
   ],
   "source": [
    "gbm_model"
   ]
  },
  {
   "cell_type": "code",
   "execution_count": 218,
   "metadata": {},
   "outputs": [],
   "source": [
    "#?gbm_model"
   ]
  },
  {
   "cell_type": "code",
   "execution_count": 219,
   "metadata": {},
   "outputs": [],
   "source": [
    "gbm_params = {\"learning_rate\" : [0.001, 0.01, 0.1, 0.05],\n",
    "             \"n_estimators\": [100,500,100],\n",
    "             \"max_depth\": [3,5,10],\n",
    "             \"min_samples_split\": [2,5,10]}"
   ]
  },
  {
   "cell_type": "code",
   "execution_count": 220,
   "metadata": {},
   "outputs": [],
   "source": [
    "gbm = GradientBoostingClassifier()\n",
    "\n",
    "gbm_cv = GridSearchCV(gbm, gbm_params, cv = 3, n_jobs = -1, verbose = 2) #cv = 10"
   ]
  },
  {
   "cell_type": "code",
   "execution_count": 221,
   "metadata": {},
   "outputs": [
    {
     "name": "stdout",
     "output_type": "stream",
     "text": [
      "Fitting 3 folds for each of 108 candidates, totalling 324 fits\n"
     ]
    },
    {
     "data": {
      "text/plain": [
       "GridSearchCV(cv=3, estimator=GradientBoostingClassifier(), n_jobs=-1,\n",
       "             param_grid={'learning_rate': [0.001, 0.01, 0.1, 0.05],\n",
       "                         'max_depth': [3, 5, 10],\n",
       "                         'min_samples_split': [2, 5, 10],\n",
       "                         'n_estimators': [100, 500, 100]},\n",
       "             verbose=2)"
      ]
     },
     "execution_count": 221,
     "metadata": {},
     "output_type": "execute_result"
    }
   ],
   "source": [
    "gbm_cv.fit(X_train, y_train)"
   ]
  },
  {
   "cell_type": "code",
   "execution_count": 222,
   "metadata": {},
   "outputs": [
    {
     "name": "stdout",
     "output_type": "stream",
     "text": [
      "En iyi parametreler: {'learning_rate': 0.1, 'max_depth': 3, 'min_samples_split': 5, 'n_estimators': 100}\n"
     ]
    }
   ],
   "source": [
    "print(\"En iyi parametreler: \" + str(gbm_cv.best_params_))"
   ]
  },
  {
   "cell_type": "code",
   "execution_count": 223,
   "metadata": {},
   "outputs": [],
   "source": [
    "gbm = GradientBoostingClassifier(learning_rate = 0.1, \n",
    "                                 max_depth = 3,\n",
    "                                min_samples_split = 5,\n",
    "                                n_estimators = 100)"
   ]
  },
  {
   "cell_type": "code",
   "execution_count": 224,
   "metadata": {},
   "outputs": [],
   "source": [
    "gbm_tuned =  gbm.fit(X_train,y_train)"
   ]
  },
  {
   "cell_type": "code",
   "execution_count": 225,
   "metadata": {},
   "outputs": [
    {
     "data": {
      "text/plain": [
       "0.7445887445887446"
      ]
     },
     "execution_count": 225,
     "metadata": {},
     "output_type": "execute_result"
    }
   ],
   "source": [
    "y_pred = gbm_tuned.predict(X_test)\n",
    "accuracy_score(y_test, y_pred)"
   ]
  },
  {
   "cell_type": "code",
   "execution_count": 226,
   "metadata": {},
   "outputs": [
    {
     "name": "stdout",
     "output_type": "stream",
     "text": [
      "              precision    recall  f1-score   support\n",
      "\n",
      "           0       0.82      0.78      0.80       151\n",
      "           1       0.62      0.68      0.65        80\n",
      "\n",
      "    accuracy                           0.74       231\n",
      "   macro avg       0.72      0.73      0.72       231\n",
      "weighted avg       0.75      0.74      0.75       231\n",
      "\n"
     ]
    }
   ],
   "source": [
    "print(classification_report(y_test, y_pred))"
   ]
  },
  {
   "attachments": {},
   "cell_type": "markdown",
   "metadata": {},
   "source": [
    "# XGBoost"
   ]
  },
  {
   "cell_type": "code",
   "execution_count": 227,
   "metadata": {},
   "outputs": [],
   "source": [
    "df = diabetes.copy()\n",
    "df = df.dropna()\n",
    "y = df[\"Outcome\"]\n",
    "X = df.drop(['Outcome'], axis=1)\n",
    "#X = df[\"Pregnancies\"]\n",
    "X = pd.DataFrame(X)\n",
    "X_train, X_test, y_train, y_test = train_test_split(X, y, \n",
    "                                                    test_size=0.30, \n",
    "                                                    random_state=42)"
   ]
  },
  {
   "cell_type": "code",
   "execution_count": 228,
   "metadata": {},
   "outputs": [],
   "source": [
    "#!pip install xgboost\n",
    "from xgboost import XGBClassifier"
   ]
  },
  {
   "cell_type": "code",
   "execution_count": 229,
   "metadata": {},
   "outputs": [
    {
     "name": "stdout",
     "output_type": "stream",
     "text": [
      "[11:24:34] WARNING: C:/Users/Administrator/workspace/xgboost-win64_release_1.5.1/src/learner.cc:1115: Starting in XGBoost 1.3.0, the default evaluation metric used with the objective 'binary:logistic' was changed from 'error' to 'logloss'. Explicitly set eval_metric if you'd like to restore the old behavior.\n"
     ]
    }
   ],
   "source": [
    "xgb_model = XGBClassifier().fit(X_train, y_train)"
   ]
  },
  {
   "cell_type": "code",
   "execution_count": 230,
   "metadata": {},
   "outputs": [
    {
     "data": {
      "text/plain": [
       "XGBClassifier(base_score=0.5, booster='gbtree', colsample_bylevel=1,\n",
       "              colsample_bynode=1, colsample_bytree=1, enable_categorical=False,\n",
       "              gamma=0, gpu_id=-1, importance_type=None,\n",
       "              interaction_constraints='', learning_rate=0.300000012,\n",
       "              max_delta_step=0, max_depth=6, min_child_weight=1, missing=nan,\n",
       "              monotone_constraints='()', n_estimators=100, n_jobs=4,\n",
       "              num_parallel_tree=1, predictor='auto', random_state=0,\n",
       "              reg_alpha=0, reg_lambda=1, scale_pos_weight=1, subsample=1,\n",
       "              tree_method='exact', validate_parameters=1, verbosity=None)"
      ]
     },
     "execution_count": 230,
     "metadata": {},
     "output_type": "execute_result"
    }
   ],
   "source": [
    "xgb_model"
   ]
  },
  {
   "cell_type": "code",
   "execution_count": 231,
   "metadata": {},
   "outputs": [
    {
     "data": {
      "text/plain": [
       "0.7359307359307359"
      ]
     },
     "execution_count": 231,
     "metadata": {},
     "output_type": "execute_result"
    }
   ],
   "source": [
    "y_pred = xgb_model.predict(X_test)\n",
    "accuracy_score(y_test, y_pred)"
   ]
  },
  {
   "attachments": {},
   "cell_type": "markdown",
   "metadata": {},
   "source": [
    "## Model Tuning"
   ]
  },
  {
   "cell_type": "code",
   "execution_count": 232,
   "metadata": {},
   "outputs": [
    {
     "data": {
      "text/plain": [
       "XGBClassifier(base_score=0.5, booster='gbtree', colsample_bylevel=1,\n",
       "              colsample_bynode=1, colsample_bytree=1, enable_categorical=False,\n",
       "              gamma=0, gpu_id=-1, importance_type=None,\n",
       "              interaction_constraints='', learning_rate=0.300000012,\n",
       "              max_delta_step=0, max_depth=6, min_child_weight=1, missing=nan,\n",
       "              monotone_constraints='()', n_estimators=100, n_jobs=4,\n",
       "              num_parallel_tree=1, predictor='auto', random_state=0,\n",
       "              reg_alpha=0, reg_lambda=1, scale_pos_weight=1, subsample=1,\n",
       "              tree_method='exact', validate_parameters=1, verbosity=None)"
      ]
     },
     "execution_count": 232,
     "metadata": {},
     "output_type": "execute_result"
    }
   ],
   "source": [
    "xgb_model"
   ]
  },
  {
   "cell_type": "code",
   "execution_count": 233,
   "metadata": {},
   "outputs": [],
   "source": [
    "#?xgb_model"
   ]
  },
  {
   "cell_type": "code",
   "execution_count": 234,
   "metadata": {},
   "outputs": [],
   "source": [
    "xgb_params = {\n",
    "        'n_estimators': [100, 500, 1000, 2000],\n",
    "        'subsample': [0.6, 0.8, 1.0],\n",
    "        'max_depth': [3, 4, 5,6],\n",
    "        'learning_rate': [0.1,0.01,0.02,0.05],\n",
    "        \"min_samples_split\": [2,5,10]}"
   ]
  },
  {
   "cell_type": "code",
   "execution_count": 235,
   "metadata": {},
   "outputs": [],
   "source": [
    "xgb = XGBClassifier()\n",
    "\n",
    "xgb_cv_model = GridSearchCV(xgb, xgb_params, cv = 2, n_jobs = -1, verbose = 2) #cv = 10"
   ]
  },
  {
   "cell_type": "code",
   "execution_count": 236,
   "metadata": {},
   "outputs": [
    {
     "name": "stdout",
     "output_type": "stream",
     "text": [
      "Fitting 2 folds for each of 576 candidates, totalling 1152 fits\n",
      "[11:34:45] WARNING: C:/Users/Administrator/workspace/xgboost-win64_release_1.5.1/src/learner.cc:576: \n",
      "Parameters: { \"min_samples_split\" } might not be used.\n",
      "\n",
      "  This could be a false alarm, with some parameters getting used by language bindings but\n",
      "  then being mistakenly passed down to XGBoost core, or some parameter actually being used\n",
      "  but getting flagged wrongly here. Please open an issue if you find any such cases.\n",
      "\n",
      "\n",
      "[11:34:45] WARNING: C:/Users/Administrator/workspace/xgboost-win64_release_1.5.1/src/learner.cc:1115: Starting in XGBoost 1.3.0, the default evaluation metric used with the objective 'binary:logistic' was changed from 'error' to 'logloss'. Explicitly set eval_metric if you'd like to restore the old behavior.\n"
     ]
    },
    {
     "data": {
      "text/plain": [
       "GridSearchCV(cv=2,\n",
       "             estimator=XGBClassifier(base_score=None, booster=None,\n",
       "                                     colsample_bylevel=None,\n",
       "                                     colsample_bynode=None,\n",
       "                                     colsample_bytree=None,\n",
       "                                     enable_categorical=False, gamma=None,\n",
       "                                     gpu_id=None, importance_type=None,\n",
       "                                     interaction_constraints=None,\n",
       "                                     learning_rate=None, max_delta_step=None,\n",
       "                                     max_depth=None, min_child_weight=None,\n",
       "                                     missing=nan, monotone_constraints=None,...\n",
       "                                     num_parallel_tree=None, predictor=None,\n",
       "                                     random_state=None, reg_alpha=None,\n",
       "                                     reg_lambda=None, scale_pos_weight=None,\n",
       "                                     subsample=None, tree_method=None,\n",
       "                                     validate_parameters=None, verbosity=None),\n",
       "             n_jobs=-1,\n",
       "             param_grid={'learning_rate': [0.1, 0.01, 0.02, 0.05],\n",
       "                         'max_depth': [3, 4, 5, 6],\n",
       "                         'min_samples_split': [2, 5, 10],\n",
       "                         'n_estimators': [100, 500, 1000, 2000],\n",
       "                         'subsample': [0.6, 0.8, 1.0]},\n",
       "             verbose=2)"
      ]
     },
     "execution_count": 236,
     "metadata": {},
     "output_type": "execute_result"
    }
   ],
   "source": [
    "xgb_cv_model.fit(X_train, y_train)"
   ]
  },
  {
   "cell_type": "code",
   "execution_count": 237,
   "metadata": {},
   "outputs": [
    {
     "data": {
      "text/plain": [
       "{'learning_rate': 0.05,\n",
       " 'max_depth': 5,\n",
       " 'min_samples_split': 2,\n",
       " 'n_estimators': 100,\n",
       " 'subsample': 0.6}"
      ]
     },
     "execution_count": 237,
     "metadata": {},
     "output_type": "execute_result"
    }
   ],
   "source": [
    "xgb_cv_model.best_params_"
   ]
  },
  {
   "cell_type": "code",
   "execution_count": 238,
   "metadata": {},
   "outputs": [],
   "source": [
    "xgb = XGBClassifier(learning_rate = 0.05, \n",
    "                    max_depth = 5,\n",
    "                    min_samples_split = 2,\n",
    "                    n_estimators = 100,\n",
    "                    subsample = 0.6)"
   ]
  },
  {
   "cell_type": "code",
   "execution_count": 239,
   "metadata": {},
   "outputs": [
    {
     "name": "stdout",
     "output_type": "stream",
     "text": [
      "[11:34:46] WARNING: C:/Users/Administrator/workspace/xgboost-win64_release_1.5.1/src/learner.cc:576: \n",
      "Parameters: { \"min_samples_split\" } might not be used.\n",
      "\n",
      "  This could be a false alarm, with some parameters getting used by language bindings but\n",
      "  then being mistakenly passed down to XGBoost core, or some parameter actually being used\n",
      "  but getting flagged wrongly here. Please open an issue if you find any such cases.\n",
      "\n",
      "\n",
      "[11:34:46] WARNING: C:/Users/Administrator/workspace/xgboost-win64_release_1.5.1/src/learner.cc:1115: Starting in XGBoost 1.3.0, the default evaluation metric used with the objective 'binary:logistic' was changed from 'error' to 'logloss'. Explicitly set eval_metric if you'd like to restore the old behavior.\n"
     ]
    }
   ],
   "source": [
    "xgb_tuned =  xgb.fit(X_train,y_train)"
   ]
  },
  {
   "cell_type": "code",
   "execution_count": 240,
   "metadata": {},
   "outputs": [
    {
     "data": {
      "text/plain": [
       "0.7532467532467533"
      ]
     },
     "execution_count": 240,
     "metadata": {},
     "output_type": "execute_result"
    }
   ],
   "source": [
    "y_pred = xgb_tuned.predict(X_test)\n",
    "accuracy_score(y_test, y_pred)"
   ]
  },
  {
   "cell_type": "code",
   "execution_count": 241,
   "metadata": {},
   "outputs": [
    {
     "name": "stdout",
     "output_type": "stream",
     "text": [
      "              precision    recall  f1-score   support\n",
      "\n",
      "           0       0.83      0.78      0.81       151\n",
      "           1       0.63      0.70      0.66        80\n",
      "\n",
      "    accuracy                           0.75       231\n",
      "   macro avg       0.73      0.74      0.73       231\n",
      "weighted avg       0.76      0.75      0.76       231\n",
      "\n"
     ]
    }
   ],
   "source": [
    "print(classification_report(y_test, y_pred))"
   ]
  },
  {
   "attachments": {},
   "cell_type": "markdown",
   "metadata": {},
   "source": [
    "# LightGBM"
   ]
  },
  {
   "cell_type": "code",
   "execution_count": 242,
   "metadata": {},
   "outputs": [],
   "source": [
    "df = diabetes.copy()\n",
    "df = df.dropna()\n",
    "y = df[\"Outcome\"]\n",
    "X = df.drop(['Outcome'], axis=1)\n",
    "#X = df[\"Pregnancies\"]\n",
    "X = pd.DataFrame(X)\n",
    "X_train, X_test, y_train, y_test = train_test_split(X, y, \n",
    "                                                    test_size=0.30, \n",
    "                                                    random_state=42)"
   ]
  },
  {
   "cell_type": "code",
   "execution_count": 243,
   "metadata": {},
   "outputs": [],
   "source": [
    "#!conda install -c conda-forge lightgbm\n",
    "from lightgbm import LGBMClassifier"
   ]
  },
  {
   "cell_type": "code",
   "execution_count": 244,
   "metadata": {},
   "outputs": [],
   "source": [
    "lgbm_model = LGBMClassifier().fit(X_train, y_train)"
   ]
  },
  {
   "cell_type": "code",
   "execution_count": 245,
   "metadata": {},
   "outputs": [
    {
     "data": {
      "text/plain": [
       "0.7229437229437229"
      ]
     },
     "execution_count": 245,
     "metadata": {},
     "output_type": "execute_result"
    }
   ],
   "source": [
    "y_pred = lgbm_model.predict(X_test)\n",
    "accuracy_score(y_test, y_pred)"
   ]
  },
  {
   "cell_type": "code",
   "execution_count": 246,
   "metadata": {},
   "outputs": [],
   "source": [
    "## Model Tuning"
   ]
  },
  {
   "cell_type": "code",
   "execution_count": 247,
   "metadata": {},
   "outputs": [
    {
     "data": {
      "text/plain": [
       "LGBMClassifier()"
      ]
     },
     "execution_count": 247,
     "metadata": {},
     "output_type": "execute_result"
    }
   ],
   "source": [
    "lgbm_model"
   ]
  },
  {
   "cell_type": "code",
   "execution_count": 248,
   "metadata": {},
   "outputs": [],
   "source": [
    "#?lgbm_model"
   ]
  },
  {
   "cell_type": "code",
   "execution_count": 249,
   "metadata": {},
   "outputs": [],
   "source": [
    "lgbm_params = {\n",
    "        'n_estimators': [100, 500, 1000, 2000],\n",
    "        'subsample': [0.6, 0.8, 1.0],\n",
    "        'max_depth': [3, 4, 5,6],\n",
    "        'learning_rate': [0.1,0.01,0.02,0.05],\n",
    "        \"min_child_samples\": [5,10,20]}"
   ]
  },
  {
   "cell_type": "code",
   "execution_count": 250,
   "metadata": {},
   "outputs": [],
   "source": [
    "lgbm = LGBMClassifier()\n",
    "\n",
    "lgbm_cv_model = GridSearchCV(lgbm, lgbm_params, \n",
    "                             cv = 2, #cv=10 \n",
    "                             n_jobs = -1, \n",
    "                             verbose = 2)\n",
    "\n"
   ]
  },
  {
   "cell_type": "code",
   "execution_count": 251,
   "metadata": {},
   "outputs": [
    {
     "name": "stdout",
     "output_type": "stream",
     "text": [
      "Fitting 2 folds for each of 576 candidates, totalling 1152 fits\n"
     ]
    },
    {
     "data": {
      "text/plain": [
       "GridSearchCV(cv=2, estimator=LGBMClassifier(), n_jobs=-1,\n",
       "             param_grid={'learning_rate': [0.1, 0.01, 0.02, 0.05],\n",
       "                         'max_depth': [3, 4, 5, 6],\n",
       "                         'min_child_samples': [5, 10, 20],\n",
       "                         'n_estimators': [100, 500, 1000, 2000],\n",
       "                         'subsample': [0.6, 0.8, 1.0]},\n",
       "             verbose=2)"
      ]
     },
     "execution_count": 251,
     "metadata": {},
     "output_type": "execute_result"
    }
   ],
   "source": [
    "lgbm_cv_model.fit(X_train, y_train)"
   ]
  },
  {
   "cell_type": "code",
   "execution_count": 252,
   "metadata": {},
   "outputs": [
    {
     "data": {
      "text/plain": [
       "{'learning_rate': 0.05,\n",
       " 'max_depth': 3,\n",
       " 'min_child_samples': 5,\n",
       " 'n_estimators': 100,\n",
       " 'subsample': 0.6}"
      ]
     },
     "execution_count": 252,
     "metadata": {},
     "output_type": "execute_result"
    }
   ],
   "source": [
    "lgbm_cv_model.best_params_"
   ]
  },
  {
   "cell_type": "code",
   "execution_count": 253,
   "metadata": {},
   "outputs": [],
   "source": [
    "lgbm = LGBMClassifier(learning_rate = 0.05, \n",
    "                       max_depth = 3,\n",
    "                       subsample = 0.6,\n",
    "                       n_estimators = 100,\n",
    "                       min_child_samples = 5)"
   ]
  },
  {
   "cell_type": "code",
   "execution_count": 254,
   "metadata": {},
   "outputs": [],
   "source": [
    "lgbm_tuned = lgbm.fit(X_train,y_train)"
   ]
  },
  {
   "cell_type": "code",
   "execution_count": 255,
   "metadata": {},
   "outputs": [
    {
     "data": {
      "text/plain": [
       "0.7575757575757576"
      ]
     },
     "execution_count": 255,
     "metadata": {},
     "output_type": "execute_result"
    }
   ],
   "source": [
    "y_pred = lgbm_tuned.predict(X_test)\n",
    "accuracy_score(y_test, y_pred)"
   ]
  },
  {
   "attachments": {},
   "cell_type": "markdown",
   "metadata": {},
   "source": [
    "# CatBoost"
   ]
  },
  {
   "attachments": {},
   "cell_type": "markdown",
   "metadata": {},
   "source": [
    "## Model & Tahmin"
   ]
  },
  {
   "cell_type": "code",
   "execution_count": 256,
   "metadata": {},
   "outputs": [],
   "source": [
    "df = diabetes.copy()\n",
    "df = df.dropna()\n",
    "y = df[\"Outcome\"]\n",
    "X = df.drop(['Outcome'], axis=1)\n",
    "#X = df[\"Pregnancies\"]\n",
    "X = pd.DataFrame(X)\n",
    "X_train, X_test, y_train, y_test = train_test_split(X, y, \n",
    "                                                    test_size=0.30, \n",
    "                                                    random_state=42)"
   ]
  },
  {
   "cell_type": "code",
   "execution_count": 257,
   "metadata": {},
   "outputs": [],
   "source": [
    "#!pip install catboost\n",
    "from catboost import CatBoostClassifier"
   ]
  },
  {
   "cell_type": "code",
   "execution_count": 258,
   "metadata": {},
   "outputs": [
    {
     "name": "stdout",
     "output_type": "stream",
     "text": [
      "Learning rate set to 0.0079\n",
      "0:\tlearn: 0.6879744\ttotal: 4.97ms\tremaining: 4.96s\n",
      "1:\tlearn: 0.6843414\ttotal: 9.52ms\tremaining: 4.75s\n",
      "2:\tlearn: 0.6805760\ttotal: 13.9ms\tremaining: 4.63s\n",
      "3:\tlearn: 0.6765782\ttotal: 18.4ms\tremaining: 4.57s\n",
      "4:\tlearn: 0.6720829\ttotal: 22.7ms\tremaining: 4.52s\n",
      "5:\tlearn: 0.6681617\ttotal: 27.7ms\tremaining: 4.6s\n",
      "6:\tlearn: 0.6641912\ttotal: 31.9ms\tremaining: 4.53s\n",
      "7:\tlearn: 0.6602881\ttotal: 36ms\tremaining: 4.46s\n",
      "8:\tlearn: 0.6562626\ttotal: 40.9ms\tremaining: 4.5s\n",
      "9:\tlearn: 0.6528483\ttotal: 45.5ms\tremaining: 4.5s\n",
      "10:\tlearn: 0.6487823\ttotal: 50.1ms\tremaining: 4.5s\n",
      "11:\tlearn: 0.6454980\ttotal: 55.4ms\tremaining: 4.56s\n",
      "12:\tlearn: 0.6418953\ttotal: 59.9ms\tremaining: 4.55s\n",
      "13:\tlearn: 0.6374431\ttotal: 71.2ms\tremaining: 5.02s\n",
      "14:\tlearn: 0.6339676\ttotal: 98.9ms\tremaining: 6.49s\n",
      "15:\tlearn: 0.6304252\ttotal: 106ms\tremaining: 6.51s\n",
      "16:\tlearn: 0.6266998\ttotal: 111ms\tremaining: 6.39s\n",
      "17:\tlearn: 0.6237660\ttotal: 115ms\tremaining: 6.26s\n",
      "18:\tlearn: 0.6204394\ttotal: 120ms\tremaining: 6.17s\n",
      "19:\tlearn: 0.6170129\ttotal: 135ms\tremaining: 6.63s\n",
      "20:\tlearn: 0.6133404\ttotal: 140ms\tremaining: 6.51s\n",
      "21:\tlearn: 0.6104932\ttotal: 144ms\tremaining: 6.4s\n",
      "22:\tlearn: 0.6069523\ttotal: 148ms\tremaining: 6.28s\n",
      "23:\tlearn: 0.6036467\ttotal: 152ms\tremaining: 6.19s\n",
      "24:\tlearn: 0.6005392\ttotal: 157ms\tremaining: 6.14s\n",
      "25:\tlearn: 0.5977520\ttotal: 162ms\tremaining: 6.05s\n",
      "26:\tlearn: 0.5948189\ttotal: 166ms\tremaining: 5.98s\n",
      "27:\tlearn: 0.5919831\ttotal: 172ms\tremaining: 5.97s\n",
      "28:\tlearn: 0.5885065\ttotal: 176ms\tremaining: 5.9s\n",
      "29:\tlearn: 0.5848273\ttotal: 180ms\tremaining: 5.83s\n",
      "30:\tlearn: 0.5822076\ttotal: 185ms\tremaining: 5.77s\n",
      "31:\tlearn: 0.5790604\ttotal: 189ms\tremaining: 5.71s\n",
      "32:\tlearn: 0.5762252\ttotal: 193ms\tremaining: 5.66s\n",
      "33:\tlearn: 0.5745338\ttotal: 200ms\tremaining: 5.68s\n",
      "34:\tlearn: 0.5719085\ttotal: 204ms\tremaining: 5.62s\n",
      "35:\tlearn: 0.5693365\ttotal: 208ms\tremaining: 5.57s\n",
      "36:\tlearn: 0.5665486\ttotal: 213ms\tremaining: 5.54s\n",
      "37:\tlearn: 0.5647413\ttotal: 217ms\tremaining: 5.5s\n",
      "38:\tlearn: 0.5622430\ttotal: 221ms\tremaining: 5.46s\n",
      "39:\tlearn: 0.5600038\ttotal: 226ms\tremaining: 5.43s\n",
      "40:\tlearn: 0.5579786\ttotal: 230ms\tremaining: 5.39s\n",
      "41:\tlearn: 0.5555817\ttotal: 234ms\tremaining: 5.34s\n",
      "42:\tlearn: 0.5533884\ttotal: 239ms\tremaining: 5.32s\n",
      "43:\tlearn: 0.5503718\ttotal: 243ms\tremaining: 5.28s\n",
      "44:\tlearn: 0.5482587\ttotal: 248ms\tremaining: 5.25s\n",
      "45:\tlearn: 0.5458783\ttotal: 252ms\tremaining: 5.22s\n",
      "46:\tlearn: 0.5441370\ttotal: 257ms\tremaining: 5.21s\n",
      "47:\tlearn: 0.5422492\ttotal: 267ms\tremaining: 5.29s\n",
      "48:\tlearn: 0.5397111\ttotal: 271ms\tremaining: 5.26s\n",
      "49:\tlearn: 0.5378482\ttotal: 275ms\tremaining: 5.23s\n",
      "50:\tlearn: 0.5355250\ttotal: 279ms\tremaining: 5.19s\n",
      "51:\tlearn: 0.5334717\ttotal: 283ms\tremaining: 5.16s\n",
      "52:\tlearn: 0.5308796\ttotal: 286ms\tremaining: 5.11s\n",
      "53:\tlearn: 0.5291891\ttotal: 289ms\tremaining: 5.06s\n",
      "54:\tlearn: 0.5273404\ttotal: 292ms\tremaining: 5.01s\n",
      "55:\tlearn: 0.5252025\ttotal: 298ms\tremaining: 5.02s\n",
      "56:\tlearn: 0.5232146\ttotal: 302ms\tremaining: 4.99s\n",
      "57:\tlearn: 0.5212394\ttotal: 305ms\tremaining: 4.96s\n",
      "58:\tlearn: 0.5188927\ttotal: 310ms\tremaining: 4.95s\n",
      "59:\tlearn: 0.5166496\ttotal: 316ms\tremaining: 4.94s\n",
      "60:\tlearn: 0.5151264\ttotal: 320ms\tremaining: 4.92s\n",
      "61:\tlearn: 0.5128109\ttotal: 345ms\tremaining: 5.21s\n",
      "62:\tlearn: 0.5114747\ttotal: 347ms\tremaining: 5.17s\n",
      "63:\tlearn: 0.5096208\ttotal: 351ms\tremaining: 5.13s\n",
      "64:\tlearn: 0.5072601\ttotal: 364ms\tremaining: 5.23s\n",
      "65:\tlearn: 0.5052770\ttotal: 367ms\tremaining: 5.19s\n",
      "66:\tlearn: 0.5036623\ttotal: 370ms\tremaining: 5.15s\n",
      "67:\tlearn: 0.5017328\ttotal: 373ms\tremaining: 5.11s\n",
      "68:\tlearn: 0.5005425\ttotal: 375ms\tremaining: 5.06s\n",
      "69:\tlearn: 0.4991695\ttotal: 378ms\tremaining: 5.02s\n",
      "70:\tlearn: 0.4976900\ttotal: 381ms\tremaining: 4.98s\n",
      "71:\tlearn: 0.4958907\ttotal: 383ms\tremaining: 4.94s\n",
      "72:\tlearn: 0.4944550\ttotal: 387ms\tremaining: 4.91s\n",
      "73:\tlearn: 0.4929501\ttotal: 390ms\tremaining: 4.88s\n",
      "74:\tlearn: 0.4913299\ttotal: 392ms\tremaining: 4.84s\n",
      "75:\tlearn: 0.4898798\ttotal: 395ms\tremaining: 4.8s\n",
      "76:\tlearn: 0.4882946\ttotal: 398ms\tremaining: 4.77s\n",
      "77:\tlearn: 0.4866733\ttotal: 402ms\tremaining: 4.75s\n",
      "78:\tlearn: 0.4849083\ttotal: 404ms\tremaining: 4.71s\n",
      "79:\tlearn: 0.4832344\ttotal: 407ms\tremaining: 4.68s\n",
      "80:\tlearn: 0.4822155\ttotal: 410ms\tremaining: 4.66s\n",
      "81:\tlearn: 0.4805651\ttotal: 413ms\tremaining: 4.63s\n",
      "82:\tlearn: 0.4789437\ttotal: 417ms\tremaining: 4.61s\n",
      "83:\tlearn: 0.4773680\ttotal: 420ms\tremaining: 4.58s\n",
      "84:\tlearn: 0.4759592\ttotal: 423ms\tremaining: 4.55s\n",
      "85:\tlearn: 0.4743296\ttotal: 426ms\tremaining: 4.52s\n",
      "86:\tlearn: 0.4733053\ttotal: 428ms\tremaining: 4.49s\n",
      "87:\tlearn: 0.4719029\ttotal: 432ms\tremaining: 4.47s\n",
      "88:\tlearn: 0.4704197\ttotal: 435ms\tremaining: 4.45s\n",
      "89:\tlearn: 0.4692434\ttotal: 438ms\tremaining: 4.43s\n",
      "90:\tlearn: 0.4676877\ttotal: 441ms\tremaining: 4.4s\n",
      "91:\tlearn: 0.4663135\ttotal: 445ms\tremaining: 4.39s\n",
      "92:\tlearn: 0.4648501\ttotal: 447ms\tremaining: 4.36s\n",
      "93:\tlearn: 0.4634104\ttotal: 450ms\tremaining: 4.34s\n",
      "94:\tlearn: 0.4622453\ttotal: 453ms\tremaining: 4.32s\n",
      "95:\tlearn: 0.4610022\ttotal: 456ms\tremaining: 4.29s\n",
      "96:\tlearn: 0.4596122\ttotal: 460ms\tremaining: 4.28s\n",
      "97:\tlearn: 0.4586478\ttotal: 462ms\tremaining: 4.26s\n",
      "98:\tlearn: 0.4574414\ttotal: 465ms\tremaining: 4.24s\n",
      "99:\tlearn: 0.4564241\ttotal: 468ms\tremaining: 4.21s\n",
      "100:\tlearn: 0.4550640\ttotal: 471ms\tremaining: 4.2s\n",
      "101:\tlearn: 0.4542409\ttotal: 474ms\tremaining: 4.17s\n",
      "102:\tlearn: 0.4532567\ttotal: 478ms\tremaining: 4.17s\n",
      "103:\tlearn: 0.4520656\ttotal: 481ms\tremaining: 4.14s\n",
      "104:\tlearn: 0.4507238\ttotal: 484ms\tremaining: 4.12s\n",
      "105:\tlearn: 0.4498366\ttotal: 489ms\tremaining: 4.13s\n",
      "106:\tlearn: 0.4487896\ttotal: 492ms\tremaining: 4.11s\n",
      "107:\tlearn: 0.4479770\ttotal: 495ms\tremaining: 4.09s\n",
      "108:\tlearn: 0.4470681\ttotal: 498ms\tremaining: 4.07s\n",
      "109:\tlearn: 0.4461679\ttotal: 502ms\tremaining: 4.06s\n",
      "110:\tlearn: 0.4449306\ttotal: 504ms\tremaining: 4.04s\n",
      "111:\tlearn: 0.4442033\ttotal: 507ms\tremaining: 4.02s\n",
      "112:\tlearn: 0.4431958\ttotal: 510ms\tremaining: 4s\n",
      "113:\tlearn: 0.4420872\ttotal: 513ms\tremaining: 3.99s\n",
      "114:\tlearn: 0.4411093\ttotal: 517ms\tremaining: 3.98s\n",
      "115:\tlearn: 0.4404177\ttotal: 520ms\tremaining: 3.96s\n",
      "116:\tlearn: 0.4393393\ttotal: 522ms\tremaining: 3.94s\n",
      "117:\tlearn: 0.4385459\ttotal: 525ms\tremaining: 3.93s\n",
      "118:\tlearn: 0.4376311\ttotal: 528ms\tremaining: 3.91s\n",
      "119:\tlearn: 0.4365919\ttotal: 531ms\tremaining: 3.9s\n",
      "120:\tlearn: 0.4356995\ttotal: 534ms\tremaining: 3.88s\n",
      "121:\tlearn: 0.4348411\ttotal: 537ms\tremaining: 3.86s\n",
      "122:\tlearn: 0.4339453\ttotal: 540ms\tremaining: 3.85s\n",
      "123:\tlearn: 0.4328034\ttotal: 543ms\tremaining: 3.83s\n",
      "124:\tlearn: 0.4319283\ttotal: 546ms\tremaining: 3.82s\n",
      "125:\tlearn: 0.4312557\ttotal: 549ms\tremaining: 3.81s\n",
      "126:\tlearn: 0.4304026\ttotal: 552ms\tremaining: 3.79s\n",
      "127:\tlearn: 0.4298280\ttotal: 554ms\tremaining: 3.78s\n",
      "128:\tlearn: 0.4289908\ttotal: 558ms\tremaining: 3.77s\n",
      "129:\tlearn: 0.4281060\ttotal: 561ms\tremaining: 3.75s\n",
      "130:\tlearn: 0.4274906\ttotal: 564ms\tremaining: 3.74s\n",
      "131:\tlearn: 0.4263412\ttotal: 567ms\tremaining: 3.73s\n",
      "132:\tlearn: 0.4253331\ttotal: 570ms\tremaining: 3.72s\n",
      "133:\tlearn: 0.4243619\ttotal: 573ms\tremaining: 3.7s\n",
      "134:\tlearn: 0.4236335\ttotal: 577ms\tremaining: 3.69s\n",
      "135:\tlearn: 0.4228861\ttotal: 579ms\tremaining: 3.68s\n",
      "136:\tlearn: 0.4221383\ttotal: 582ms\tremaining: 3.67s\n",
      "137:\tlearn: 0.4212787\ttotal: 586ms\tremaining: 3.66s\n",
      "138:\tlearn: 0.4205727\ttotal: 589ms\tremaining: 3.65s\n",
      "139:\tlearn: 0.4198398\ttotal: 591ms\tremaining: 3.63s\n",
      "140:\tlearn: 0.4190528\ttotal: 594ms\tremaining: 3.62s\n",
      "141:\tlearn: 0.4181762\ttotal: 597ms\tremaining: 3.61s\n",
      "142:\tlearn: 0.4177653\ttotal: 600ms\tremaining: 3.6s\n",
      "143:\tlearn: 0.4171131\ttotal: 603ms\tremaining: 3.58s\n",
      "144:\tlearn: 0.4165639\ttotal: 606ms\tremaining: 3.57s\n",
      "145:\tlearn: 0.4156471\ttotal: 609ms\tremaining: 3.56s\n",
      "146:\tlearn: 0.4153234\ttotal: 611ms\tremaining: 3.54s\n",
      "147:\tlearn: 0.4145420\ttotal: 614ms\tremaining: 3.53s\n",
      "148:\tlearn: 0.4139180\ttotal: 617ms\tremaining: 3.52s\n",
      "149:\tlearn: 0.4128167\ttotal: 620ms\tremaining: 3.51s\n",
      "150:\tlearn: 0.4120071\ttotal: 622ms\tremaining: 3.5s\n",
      "151:\tlearn: 0.4115050\ttotal: 625ms\tremaining: 3.49s\n",
      "152:\tlearn: 0.4103879\ttotal: 629ms\tremaining: 3.48s\n",
      "153:\tlearn: 0.4096975\ttotal: 632ms\tremaining: 3.47s\n",
      "154:\tlearn: 0.4090180\ttotal: 634ms\tremaining: 3.46s\n",
      "155:\tlearn: 0.4084361\ttotal: 638ms\tremaining: 3.45s\n",
      "156:\tlearn: 0.4075079\ttotal: 641ms\tremaining: 3.44s\n",
      "157:\tlearn: 0.4070229\ttotal: 645ms\tremaining: 3.44s\n",
      "158:\tlearn: 0.4060864\ttotal: 648ms\tremaining: 3.42s\n",
      "159:\tlearn: 0.4055216\ttotal: 650ms\tremaining: 3.41s\n",
      "160:\tlearn: 0.4049737\ttotal: 653ms\tremaining: 3.4s\n",
      "161:\tlearn: 0.4043031\ttotal: 657ms\tremaining: 3.4s\n",
      "162:\tlearn: 0.4037889\ttotal: 660ms\tremaining: 3.39s\n",
      "163:\tlearn: 0.4029969\ttotal: 663ms\tremaining: 3.38s\n",
      "164:\tlearn: 0.4019218\ttotal: 666ms\tremaining: 3.37s\n",
      "165:\tlearn: 0.4013294\ttotal: 669ms\tremaining: 3.36s\n",
      "166:\tlearn: 0.4007642\ttotal: 672ms\tremaining: 3.35s\n",
      "167:\tlearn: 0.4000706\ttotal: 675ms\tremaining: 3.34s\n",
      "168:\tlearn: 0.3996680\ttotal: 678ms\tremaining: 3.33s\n",
      "169:\tlearn: 0.3989467\ttotal: 681ms\tremaining: 3.32s\n",
      "170:\tlearn: 0.3983710\ttotal: 684ms\tremaining: 3.31s\n",
      "171:\tlearn: 0.3975278\ttotal: 687ms\tremaining: 3.31s\n",
      "172:\tlearn: 0.3969084\ttotal: 690ms\tremaining: 3.3s\n",
      "173:\tlearn: 0.3965347\ttotal: 693ms\tremaining: 3.29s\n",
      "174:\tlearn: 0.3956732\ttotal: 696ms\tremaining: 3.28s\n",
      "175:\tlearn: 0.3952873\ttotal: 701ms\tremaining: 3.28s\n",
      "176:\tlearn: 0.3945194\ttotal: 704ms\tremaining: 3.27s\n",
      "177:\tlearn: 0.3937662\ttotal: 707ms\tremaining: 3.27s\n",
      "178:\tlearn: 0.3930186\ttotal: 710ms\tremaining: 3.26s\n",
      "179:\tlearn: 0.3923731\ttotal: 713ms\tremaining: 3.25s\n",
      "180:\tlearn: 0.3918567\ttotal: 717ms\tremaining: 3.24s\n",
      "181:\tlearn: 0.3910109\ttotal: 720ms\tremaining: 3.23s\n",
      "182:\tlearn: 0.3904347\ttotal: 723ms\tremaining: 3.23s\n",
      "183:\tlearn: 0.3898631\ttotal: 726ms\tremaining: 3.22s\n",
      "184:\tlearn: 0.3889877\ttotal: 729ms\tremaining: 3.21s\n",
      "185:\tlearn: 0.3883860\ttotal: 732ms\tremaining: 3.2s\n",
      "186:\tlearn: 0.3876585\ttotal: 735ms\tremaining: 3.19s\n",
      "187:\tlearn: 0.3871096\ttotal: 738ms\tremaining: 3.19s\n",
      "188:\tlearn: 0.3866930\ttotal: 740ms\tremaining: 3.18s\n",
      "189:\tlearn: 0.3860056\ttotal: 744ms\tremaining: 3.17s\n",
      "190:\tlearn: 0.3854310\ttotal: 747ms\tremaining: 3.16s\n",
      "191:\tlearn: 0.3848506\ttotal: 749ms\tremaining: 3.15s\n",
      "192:\tlearn: 0.3842016\ttotal: 752ms\tremaining: 3.15s\n",
      "193:\tlearn: 0.3836819\ttotal: 755ms\tremaining: 3.14s\n",
      "194:\tlearn: 0.3830974\ttotal: 758ms\tremaining: 3.13s\n",
      "195:\tlearn: 0.3827259\ttotal: 761ms\tremaining: 3.12s\n",
      "196:\tlearn: 0.3822292\ttotal: 764ms\tremaining: 3.11s\n",
      "197:\tlearn: 0.3818127\ttotal: 767ms\tremaining: 3.1s\n",
      "198:\tlearn: 0.3813381\ttotal: 770ms\tremaining: 3.1s\n",
      "199:\tlearn: 0.3808627\ttotal: 773ms\tremaining: 3.09s\n",
      "200:\tlearn: 0.3802744\ttotal: 776ms\tremaining: 3.08s\n",
      "201:\tlearn: 0.3797151\ttotal: 779ms\tremaining: 3.08s\n",
      "202:\tlearn: 0.3792543\ttotal: 781ms\tremaining: 3.07s\n",
      "203:\tlearn: 0.3787526\ttotal: 785ms\tremaining: 3.06s\n",
      "204:\tlearn: 0.3783154\ttotal: 788ms\tremaining: 3.06s\n",
      "205:\tlearn: 0.3778142\ttotal: 791ms\tremaining: 3.05s\n",
      "206:\tlearn: 0.3770761\ttotal: 793ms\tremaining: 3.04s\n",
      "207:\tlearn: 0.3766516\ttotal: 800ms\tremaining: 3.04s\n",
      "208:\tlearn: 0.3760002\ttotal: 803ms\tremaining: 3.04s\n",
      "209:\tlearn: 0.3753742\ttotal: 806ms\tremaining: 3.03s\n",
      "210:\tlearn: 0.3748945\ttotal: 809ms\tremaining: 3.02s\n",
      "211:\tlearn: 0.3741601\ttotal: 811ms\tremaining: 3.02s\n",
      "212:\tlearn: 0.3737583\ttotal: 815ms\tremaining: 3.01s\n",
      "213:\tlearn: 0.3731306\ttotal: 818ms\tremaining: 3s\n",
      "214:\tlearn: 0.3725594\ttotal: 821ms\tremaining: 3s\n",
      "215:\tlearn: 0.3717840\ttotal: 824ms\tremaining: 2.99s\n",
      "216:\tlearn: 0.3712366\ttotal: 828ms\tremaining: 2.98s\n",
      "217:\tlearn: 0.3706128\ttotal: 831ms\tremaining: 2.98s\n",
      "218:\tlearn: 0.3701763\ttotal: 833ms\tremaining: 2.97s\n",
      "219:\tlearn: 0.3696732\ttotal: 836ms\tremaining: 2.96s\n",
      "220:\tlearn: 0.3694511\ttotal: 839ms\tremaining: 2.96s\n",
      "221:\tlearn: 0.3691241\ttotal: 842ms\tremaining: 2.95s\n",
      "222:\tlearn: 0.3685841\ttotal: 845ms\tremaining: 2.94s\n",
      "223:\tlearn: 0.3680235\ttotal: 848ms\tremaining: 2.94s\n",
      "224:\tlearn: 0.3674146\ttotal: 851ms\tremaining: 2.93s\n",
      "225:\tlearn: 0.3669959\ttotal: 855ms\tremaining: 2.93s\n",
      "226:\tlearn: 0.3664598\ttotal: 858ms\tremaining: 2.92s\n",
      "227:\tlearn: 0.3660285\ttotal: 860ms\tremaining: 2.91s\n",
      "228:\tlearn: 0.3656118\ttotal: 863ms\tremaining: 2.91s\n",
      "229:\tlearn: 0.3653013\ttotal: 866ms\tremaining: 2.9s\n",
      "230:\tlearn: 0.3648384\ttotal: 870ms\tremaining: 2.9s\n",
      "231:\tlearn: 0.3645751\ttotal: 873ms\tremaining: 2.89s\n",
      "232:\tlearn: 0.3642266\ttotal: 876ms\tremaining: 2.88s\n",
      "233:\tlearn: 0.3638032\ttotal: 879ms\tremaining: 2.88s\n",
      "234:\tlearn: 0.3634127\ttotal: 881ms\tremaining: 2.87s\n",
      "235:\tlearn: 0.3628147\ttotal: 886ms\tremaining: 2.87s\n",
      "236:\tlearn: 0.3624876\ttotal: 889ms\tremaining: 2.86s\n",
      "237:\tlearn: 0.3621678\ttotal: 891ms\tremaining: 2.85s\n",
      "238:\tlearn: 0.3617236\ttotal: 894ms\tremaining: 2.85s\n",
      "239:\tlearn: 0.3613139\ttotal: 897ms\tremaining: 2.84s\n",
      "240:\tlearn: 0.3608153\ttotal: 900ms\tremaining: 2.83s\n",
      "241:\tlearn: 0.3605083\ttotal: 903ms\tremaining: 2.83s\n",
      "242:\tlearn: 0.3600805\ttotal: 906ms\tremaining: 2.82s\n",
      "243:\tlearn: 0.3598540\ttotal: 909ms\tremaining: 2.81s\n",
      "244:\tlearn: 0.3594826\ttotal: 912ms\tremaining: 2.81s\n",
      "245:\tlearn: 0.3589942\ttotal: 915ms\tremaining: 2.8s\n",
      "246:\tlearn: 0.3580868\ttotal: 918ms\tremaining: 2.8s\n",
      "247:\tlearn: 0.3577168\ttotal: 921ms\tremaining: 2.79s\n",
      "248:\tlearn: 0.3572695\ttotal: 924ms\tremaining: 2.79s\n",
      "249:\tlearn: 0.3569883\ttotal: 927ms\tremaining: 2.78s\n",
      "250:\tlearn: 0.3564914\ttotal: 930ms\tremaining: 2.77s\n",
      "251:\tlearn: 0.3563154\ttotal: 933ms\tremaining: 2.77s\n",
      "252:\tlearn: 0.3559500\ttotal: 936ms\tremaining: 2.76s\n",
      "253:\tlearn: 0.3556725\ttotal: 939ms\tremaining: 2.76s\n",
      "254:\tlearn: 0.3554429\ttotal: 942ms\tremaining: 2.75s\n",
      "255:\tlearn: 0.3550410\ttotal: 945ms\tremaining: 2.75s\n",
      "256:\tlearn: 0.3544784\ttotal: 948ms\tremaining: 2.74s\n",
      "257:\tlearn: 0.3541264\ttotal: 951ms\tremaining: 2.73s\n",
      "258:\tlearn: 0.3534407\ttotal: 954ms\tremaining: 2.73s\n",
      "259:\tlearn: 0.3531235\ttotal: 959ms\tremaining: 2.73s\n",
      "260:\tlearn: 0.3527207\ttotal: 962ms\tremaining: 2.72s\n",
      "261:\tlearn: 0.3523243\ttotal: 964ms\tremaining: 2.72s\n",
      "262:\tlearn: 0.3520765\ttotal: 967ms\tremaining: 2.71s\n",
      "263:\tlearn: 0.3515223\ttotal: 972ms\tremaining: 2.71s\n",
      "264:\tlearn: 0.3511085\ttotal: 974ms\tremaining: 2.7s\n",
      "265:\tlearn: 0.3507609\ttotal: 977ms\tremaining: 2.7s\n",
      "266:\tlearn: 0.3505624\ttotal: 980ms\tremaining: 2.69s\n",
      "267:\tlearn: 0.3502285\ttotal: 983ms\tremaining: 2.69s\n",
      "268:\tlearn: 0.3497636\ttotal: 986ms\tremaining: 2.68s\n",
      "269:\tlearn: 0.3493754\ttotal: 989ms\tremaining: 2.67s\n",
      "270:\tlearn: 0.3490792\ttotal: 992ms\tremaining: 2.67s\n",
      "271:\tlearn: 0.3487020\ttotal: 994ms\tremaining: 2.66s\n",
      "272:\tlearn: 0.3483143\ttotal: 997ms\tremaining: 2.65s\n",
      "273:\tlearn: 0.3478934\ttotal: 1s\tremaining: 2.65s\n",
      "274:\tlearn: 0.3475017\ttotal: 1s\tremaining: 2.65s\n",
      "275:\tlearn: 0.3471957\ttotal: 1.01s\tremaining: 2.64s\n",
      "276:\tlearn: 0.3468656\ttotal: 1.01s\tremaining: 2.63s\n",
      "277:\tlearn: 0.3464868\ttotal: 1.01s\tremaining: 2.63s\n",
      "278:\tlearn: 0.3462092\ttotal: 1.01s\tremaining: 2.63s\n",
      "279:\tlearn: 0.3460606\ttotal: 1.02s\tremaining: 2.62s\n",
      "280:\tlearn: 0.3455830\ttotal: 1.02s\tremaining: 2.61s\n",
      "281:\tlearn: 0.3453044\ttotal: 1.02s\tremaining: 2.6s\n",
      "282:\tlearn: 0.3444292\ttotal: 1.03s\tremaining: 2.6s\n",
      "283:\tlearn: 0.3440907\ttotal: 1.03s\tremaining: 2.59s\n",
      "284:\tlearn: 0.3435897\ttotal: 1.03s\tremaining: 2.59s\n",
      "285:\tlearn: 0.3432924\ttotal: 1.03s\tremaining: 2.58s\n",
      "286:\tlearn: 0.3429693\ttotal: 1.04s\tremaining: 2.58s\n",
      "287:\tlearn: 0.3423841\ttotal: 1.04s\tremaining: 2.57s\n",
      "288:\tlearn: 0.3419082\ttotal: 1.04s\tremaining: 2.57s\n",
      "289:\tlearn: 0.3417444\ttotal: 1.05s\tremaining: 2.56s\n",
      "290:\tlearn: 0.3413183\ttotal: 1.05s\tremaining: 2.56s\n",
      "291:\tlearn: 0.3410967\ttotal: 1.05s\tremaining: 2.55s\n",
      "292:\tlearn: 0.3405444\ttotal: 1.06s\tremaining: 2.55s\n",
      "293:\tlearn: 0.3400621\ttotal: 1.06s\tremaining: 2.54s\n",
      "294:\tlearn: 0.3397168\ttotal: 1.06s\tremaining: 2.54s\n",
      "295:\tlearn: 0.3393361\ttotal: 1.07s\tremaining: 2.54s\n",
      "296:\tlearn: 0.3390740\ttotal: 1.07s\tremaining: 2.53s\n",
      "297:\tlearn: 0.3385868\ttotal: 1.07s\tremaining: 2.53s\n",
      "298:\tlearn: 0.3383527\ttotal: 1.07s\tremaining: 2.52s\n",
      "299:\tlearn: 0.3381225\ttotal: 1.08s\tremaining: 2.52s\n",
      "300:\tlearn: 0.3377180\ttotal: 1.08s\tremaining: 2.51s\n",
      "301:\tlearn: 0.3373683\ttotal: 1.08s\tremaining: 2.51s\n",
      "302:\tlearn: 0.3369712\ttotal: 1.09s\tremaining: 2.5s\n",
      "303:\tlearn: 0.3365943\ttotal: 1.09s\tremaining: 2.5s\n",
      "304:\tlearn: 0.3361416\ttotal: 1.09s\tremaining: 2.49s\n",
      "305:\tlearn: 0.3357881\ttotal: 1.1s\tremaining: 2.49s\n",
      "306:\tlearn: 0.3355420\ttotal: 1.1s\tremaining: 2.48s\n",
      "307:\tlearn: 0.3353969\ttotal: 1.1s\tremaining: 2.48s\n",
      "308:\tlearn: 0.3350159\ttotal: 1.1s\tremaining: 2.47s\n",
      "309:\tlearn: 0.3347592\ttotal: 1.11s\tremaining: 2.47s\n",
      "310:\tlearn: 0.3344209\ttotal: 1.11s\tremaining: 2.47s\n",
      "311:\tlearn: 0.3340571\ttotal: 1.12s\tremaining: 2.46s\n",
      "312:\tlearn: 0.3337410\ttotal: 1.12s\tremaining: 2.46s\n",
      "313:\tlearn: 0.3335433\ttotal: 1.12s\tremaining: 2.45s\n",
      "314:\tlearn: 0.3331226\ttotal: 1.13s\tremaining: 2.45s\n",
      "315:\tlearn: 0.3326529\ttotal: 1.13s\tremaining: 2.44s\n",
      "316:\tlearn: 0.3324585\ttotal: 1.13s\tremaining: 2.44s\n",
      "317:\tlearn: 0.3319313\ttotal: 1.14s\tremaining: 2.43s\n",
      "318:\tlearn: 0.3317666\ttotal: 1.14s\tremaining: 2.43s\n",
      "319:\tlearn: 0.3316420\ttotal: 1.14s\tremaining: 2.43s\n",
      "320:\tlearn: 0.3313743\ttotal: 1.14s\tremaining: 2.42s\n",
      "321:\tlearn: 0.3311034\ttotal: 1.15s\tremaining: 2.42s\n",
      "322:\tlearn: 0.3308718\ttotal: 1.15s\tremaining: 2.41s\n",
      "323:\tlearn: 0.3305797\ttotal: 1.15s\tremaining: 2.4s\n",
      "324:\tlearn: 0.3303344\ttotal: 1.16s\tremaining: 2.4s\n",
      "325:\tlearn: 0.3299356\ttotal: 1.16s\tremaining: 2.4s\n",
      "326:\tlearn: 0.3297079\ttotal: 1.16s\tremaining: 2.39s\n",
      "327:\tlearn: 0.3293339\ttotal: 1.17s\tremaining: 2.39s\n",
      "328:\tlearn: 0.3289580\ttotal: 1.17s\tremaining: 2.38s\n",
      "329:\tlearn: 0.3285913\ttotal: 1.17s\tremaining: 2.38s\n",
      "330:\tlearn: 0.3282758\ttotal: 1.18s\tremaining: 2.38s\n",
      "331:\tlearn: 0.3279623\ttotal: 1.18s\tremaining: 2.37s\n",
      "332:\tlearn: 0.3274888\ttotal: 1.18s\tremaining: 2.37s\n",
      "333:\tlearn: 0.3271103\ttotal: 1.18s\tremaining: 2.36s\n",
      "334:\tlearn: 0.3266782\ttotal: 1.19s\tremaining: 2.36s\n",
      "335:\tlearn: 0.3263302\ttotal: 1.19s\tremaining: 2.35s\n",
      "336:\tlearn: 0.3260965\ttotal: 1.19s\tremaining: 2.35s\n",
      "337:\tlearn: 0.3259158\ttotal: 1.2s\tremaining: 2.34s\n",
      "338:\tlearn: 0.3258232\ttotal: 1.2s\tremaining: 2.34s\n",
      "339:\tlearn: 0.3256590\ttotal: 1.2s\tremaining: 2.33s\n",
      "340:\tlearn: 0.3251070\ttotal: 1.21s\tremaining: 2.33s\n",
      "341:\tlearn: 0.3248128\ttotal: 1.21s\tremaining: 2.33s\n",
      "342:\tlearn: 0.3245641\ttotal: 1.21s\tremaining: 2.32s\n",
      "343:\tlearn: 0.3244393\ttotal: 1.21s\tremaining: 2.32s\n",
      "344:\tlearn: 0.3239917\ttotal: 1.22s\tremaining: 2.31s\n",
      "345:\tlearn: 0.3236587\ttotal: 1.22s\tremaining: 2.31s\n",
      "346:\tlearn: 0.3232919\ttotal: 1.22s\tremaining: 2.3s\n",
      "347:\tlearn: 0.3229349\ttotal: 1.23s\tremaining: 2.3s\n",
      "348:\tlearn: 0.3227158\ttotal: 1.23s\tremaining: 2.29s\n",
      "349:\tlearn: 0.3222736\ttotal: 1.23s\tremaining: 2.29s\n",
      "350:\tlearn: 0.3219319\ttotal: 1.24s\tremaining: 2.29s\n",
      "351:\tlearn: 0.3216924\ttotal: 1.24s\tremaining: 2.28s\n",
      "352:\tlearn: 0.3214005\ttotal: 1.24s\tremaining: 2.28s\n",
      "353:\tlearn: 0.3212561\ttotal: 1.25s\tremaining: 2.27s\n",
      "354:\tlearn: 0.3210802\ttotal: 1.25s\tremaining: 2.27s\n",
      "355:\tlearn: 0.3208611\ttotal: 1.25s\tremaining: 2.26s\n",
      "356:\tlearn: 0.3207409\ttotal: 1.25s\tremaining: 2.26s\n",
      "357:\tlearn: 0.3204410\ttotal: 1.26s\tremaining: 2.25s\n",
      "358:\tlearn: 0.3201386\ttotal: 1.26s\tremaining: 2.25s\n",
      "359:\tlearn: 0.3199546\ttotal: 1.26s\tremaining: 2.25s\n",
      "360:\tlearn: 0.3196740\ttotal: 1.27s\tremaining: 2.24s\n",
      "361:\tlearn: 0.3193086\ttotal: 1.27s\tremaining: 2.24s\n",
      "362:\tlearn: 0.3190555\ttotal: 1.27s\tremaining: 2.23s\n",
      "363:\tlearn: 0.3186316\ttotal: 1.27s\tremaining: 2.23s\n",
      "364:\tlearn: 0.3182750\ttotal: 1.28s\tremaining: 2.23s\n",
      "365:\tlearn: 0.3179150\ttotal: 1.28s\tremaining: 2.22s\n",
      "366:\tlearn: 0.3176213\ttotal: 1.29s\tremaining: 2.22s\n",
      "367:\tlearn: 0.3174330\ttotal: 1.29s\tremaining: 2.21s\n",
      "368:\tlearn: 0.3170058\ttotal: 1.29s\tremaining: 2.21s\n",
      "369:\tlearn: 0.3167177\ttotal: 1.29s\tremaining: 2.2s\n",
      "370:\tlearn: 0.3165966\ttotal: 1.3s\tremaining: 2.2s\n",
      "371:\tlearn: 0.3163434\ttotal: 1.3s\tremaining: 2.19s\n",
      "372:\tlearn: 0.3158102\ttotal: 1.3s\tremaining: 2.19s\n",
      "373:\tlearn: 0.3156989\ttotal: 1.31s\tremaining: 2.19s\n",
      "374:\tlearn: 0.3153516\ttotal: 1.31s\tremaining: 2.18s\n",
      "375:\tlearn: 0.3151365\ttotal: 1.31s\tremaining: 2.18s\n",
      "376:\tlearn: 0.3148602\ttotal: 1.31s\tremaining: 2.17s\n",
      "377:\tlearn: 0.3146425\ttotal: 1.32s\tremaining: 2.17s\n",
      "378:\tlearn: 0.3140533\ttotal: 1.32s\tremaining: 2.17s\n",
      "379:\tlearn: 0.3138100\ttotal: 1.32s\tremaining: 2.16s\n",
      "380:\tlearn: 0.3134537\ttotal: 1.33s\tremaining: 2.16s\n",
      "381:\tlearn: 0.3131326\ttotal: 1.33s\tremaining: 2.15s\n",
      "382:\tlearn: 0.3127691\ttotal: 1.33s\tremaining: 2.15s\n",
      "383:\tlearn: 0.3123777\ttotal: 1.34s\tremaining: 2.14s\n",
      "384:\tlearn: 0.3120189\ttotal: 1.34s\tremaining: 2.14s\n",
      "385:\tlearn: 0.3117879\ttotal: 1.34s\tremaining: 2.13s\n",
      "386:\tlearn: 0.3117281\ttotal: 1.34s\tremaining: 2.13s\n",
      "387:\tlearn: 0.3114269\ttotal: 1.35s\tremaining: 2.13s\n",
      "388:\tlearn: 0.3111523\ttotal: 1.35s\tremaining: 2.12s\n",
      "389:\tlearn: 0.3107485\ttotal: 1.35s\tremaining: 2.12s\n",
      "390:\tlearn: 0.3104823\ttotal: 1.36s\tremaining: 2.11s\n",
      "391:\tlearn: 0.3102043\ttotal: 1.36s\tremaining: 2.11s\n",
      "392:\tlearn: 0.3100756\ttotal: 1.36s\tremaining: 2.1s\n",
      "393:\tlearn: 0.3096455\ttotal: 1.37s\tremaining: 2.1s\n",
      "394:\tlearn: 0.3094293\ttotal: 1.37s\tremaining: 2.1s\n",
      "395:\tlearn: 0.3091670\ttotal: 1.37s\tremaining: 2.09s\n",
      "396:\tlearn: 0.3089720\ttotal: 1.37s\tremaining: 2.09s\n",
      "397:\tlearn: 0.3087352\ttotal: 1.38s\tremaining: 2.08s\n",
      "398:\tlearn: 0.3083025\ttotal: 1.38s\tremaining: 2.08s\n",
      "399:\tlearn: 0.3080730\ttotal: 1.38s\tremaining: 2.08s\n",
      "400:\tlearn: 0.3075862\ttotal: 1.39s\tremaining: 2.07s\n",
      "401:\tlearn: 0.3072950\ttotal: 1.39s\tremaining: 2.07s\n",
      "402:\tlearn: 0.3069260\ttotal: 1.39s\tremaining: 2.06s\n",
      "403:\tlearn: 0.3066624\ttotal: 1.4s\tremaining: 2.06s\n",
      "404:\tlearn: 0.3064005\ttotal: 1.4s\tremaining: 2.06s\n",
      "405:\tlearn: 0.3062175\ttotal: 1.4s\tremaining: 2.05s\n",
      "406:\tlearn: 0.3059133\ttotal: 1.41s\tremaining: 2.05s\n",
      "407:\tlearn: 0.3056401\ttotal: 1.41s\tremaining: 2.04s\n",
      "408:\tlearn: 0.3053706\ttotal: 1.41s\tremaining: 2.04s\n",
      "409:\tlearn: 0.3051702\ttotal: 1.42s\tremaining: 2.04s\n",
      "410:\tlearn: 0.3047998\ttotal: 1.42s\tremaining: 2.03s\n",
      "411:\tlearn: 0.3044851\ttotal: 1.42s\tremaining: 2.03s\n",
      "412:\tlearn: 0.3041596\ttotal: 1.43s\tremaining: 2.02s\n",
      "413:\tlearn: 0.3039484\ttotal: 1.43s\tremaining: 2.02s\n",
      "414:\tlearn: 0.3035868\ttotal: 1.43s\tremaining: 2.02s\n",
      "415:\tlearn: 0.3034963\ttotal: 1.43s\tremaining: 2.01s\n",
      "416:\tlearn: 0.3032978\ttotal: 1.44s\tremaining: 2.01s\n",
      "417:\tlearn: 0.3029297\ttotal: 1.44s\tremaining: 2.01s\n",
      "418:\tlearn: 0.3026614\ttotal: 1.45s\tremaining: 2.01s\n",
      "419:\tlearn: 0.3025338\ttotal: 1.45s\tremaining: 2s\n",
      "420:\tlearn: 0.3023329\ttotal: 1.45s\tremaining: 2s\n",
      "421:\tlearn: 0.3020878\ttotal: 1.46s\tremaining: 2s\n",
      "422:\tlearn: 0.3018350\ttotal: 1.46s\tremaining: 1.99s\n",
      "423:\tlearn: 0.3016547\ttotal: 1.46s\tremaining: 1.99s\n",
      "424:\tlearn: 0.3013340\ttotal: 1.47s\tremaining: 1.98s\n",
      "425:\tlearn: 0.3012067\ttotal: 1.47s\tremaining: 1.98s\n",
      "426:\tlearn: 0.3010644\ttotal: 1.47s\tremaining: 1.98s\n",
      "427:\tlearn: 0.3008560\ttotal: 1.47s\tremaining: 1.97s\n",
      "428:\tlearn: 0.3007435\ttotal: 1.48s\tremaining: 1.97s\n",
      "429:\tlearn: 0.3005282\ttotal: 1.48s\tremaining: 1.96s\n",
      "430:\tlearn: 0.3002332\ttotal: 1.48s\tremaining: 1.96s\n",
      "431:\tlearn: 0.2999973\ttotal: 1.49s\tremaining: 1.95s\n",
      "432:\tlearn: 0.2998342\ttotal: 1.49s\tremaining: 1.95s\n",
      "433:\tlearn: 0.2995772\ttotal: 1.49s\tremaining: 1.95s\n",
      "434:\tlearn: 0.2994191\ttotal: 1.49s\tremaining: 1.94s\n",
      "435:\tlearn: 0.2992121\ttotal: 1.5s\tremaining: 1.94s\n",
      "436:\tlearn: 0.2990371\ttotal: 1.5s\tremaining: 1.93s\n",
      "437:\tlearn: 0.2988313\ttotal: 1.5s\tremaining: 1.93s\n",
      "438:\tlearn: 0.2986686\ttotal: 1.51s\tremaining: 1.93s\n",
      "439:\tlearn: 0.2985372\ttotal: 1.51s\tremaining: 1.92s\n",
      "440:\tlearn: 0.2982802\ttotal: 1.51s\tremaining: 1.92s\n",
      "441:\tlearn: 0.2978098\ttotal: 1.51s\tremaining: 1.91s\n",
      "442:\tlearn: 0.2975569\ttotal: 1.52s\tremaining: 1.91s\n",
      "443:\tlearn: 0.2974696\ttotal: 1.52s\tremaining: 1.9s\n",
      "444:\tlearn: 0.2971000\ttotal: 1.52s\tremaining: 1.9s\n",
      "445:\tlearn: 0.2968185\ttotal: 1.53s\tremaining: 1.9s\n",
      "446:\tlearn: 0.2965820\ttotal: 1.53s\tremaining: 1.89s\n",
      "447:\tlearn: 0.2963367\ttotal: 1.53s\tremaining: 1.89s\n",
      "448:\tlearn: 0.2962052\ttotal: 1.54s\tremaining: 1.89s\n",
      "449:\tlearn: 0.2958710\ttotal: 1.54s\tremaining: 1.88s\n",
      "450:\tlearn: 0.2957278\ttotal: 1.54s\tremaining: 1.88s\n",
      "451:\tlearn: 0.2954078\ttotal: 1.54s\tremaining: 1.87s\n",
      "452:\tlearn: 0.2950464\ttotal: 1.55s\tremaining: 1.87s\n",
      "453:\tlearn: 0.2943738\ttotal: 1.55s\tremaining: 1.87s\n",
      "454:\tlearn: 0.2940240\ttotal: 1.55s\tremaining: 1.86s\n",
      "455:\tlearn: 0.2937387\ttotal: 1.56s\tremaining: 1.86s\n",
      "456:\tlearn: 0.2932645\ttotal: 1.56s\tremaining: 1.85s\n",
      "457:\tlearn: 0.2930212\ttotal: 1.56s\tremaining: 1.85s\n",
      "458:\tlearn: 0.2927047\ttotal: 1.57s\tremaining: 1.85s\n",
      "459:\tlearn: 0.2925782\ttotal: 1.57s\tremaining: 1.84s\n",
      "460:\tlearn: 0.2923455\ttotal: 1.57s\tremaining: 1.84s\n",
      "461:\tlearn: 0.2921114\ttotal: 1.57s\tremaining: 1.83s\n",
      "462:\tlearn: 0.2918372\ttotal: 1.58s\tremaining: 1.83s\n",
      "463:\tlearn: 0.2916646\ttotal: 1.58s\tremaining: 1.83s\n",
      "464:\tlearn: 0.2914858\ttotal: 1.58s\tremaining: 1.82s\n",
      "465:\tlearn: 0.2913746\ttotal: 1.59s\tremaining: 1.82s\n",
      "466:\tlearn: 0.2911112\ttotal: 1.59s\tremaining: 1.81s\n",
      "467:\tlearn: 0.2909419\ttotal: 1.59s\tremaining: 1.81s\n",
      "468:\tlearn: 0.2907768\ttotal: 1.59s\tremaining: 1.81s\n",
      "469:\tlearn: 0.2905672\ttotal: 1.6s\tremaining: 1.81s\n",
      "470:\tlearn: 0.2902868\ttotal: 1.6s\tremaining: 1.8s\n",
      "471:\tlearn: 0.2901459\ttotal: 1.61s\tremaining: 1.8s\n",
      "472:\tlearn: 0.2895721\ttotal: 1.61s\tremaining: 1.79s\n",
      "473:\tlearn: 0.2893069\ttotal: 1.61s\tremaining: 1.79s\n",
      "474:\tlearn: 0.2892238\ttotal: 1.62s\tremaining: 1.79s\n",
      "475:\tlearn: 0.2890793\ttotal: 1.62s\tremaining: 1.78s\n",
      "476:\tlearn: 0.2888606\ttotal: 1.62s\tremaining: 1.78s\n",
      "477:\tlearn: 0.2885725\ttotal: 1.63s\tremaining: 1.78s\n",
      "478:\tlearn: 0.2884059\ttotal: 1.63s\tremaining: 1.77s\n",
      "479:\tlearn: 0.2881226\ttotal: 1.63s\tremaining: 1.77s\n",
      "480:\tlearn: 0.2878577\ttotal: 1.64s\tremaining: 1.76s\n",
      "481:\tlearn: 0.2876443\ttotal: 1.64s\tremaining: 1.76s\n",
      "482:\tlearn: 0.2872679\ttotal: 1.64s\tremaining: 1.76s\n",
      "483:\tlearn: 0.2869225\ttotal: 1.64s\tremaining: 1.75s\n",
      "484:\tlearn: 0.2867176\ttotal: 1.65s\tremaining: 1.75s\n",
      "485:\tlearn: 0.2863829\ttotal: 1.65s\tremaining: 1.74s\n",
      "486:\tlearn: 0.2862343\ttotal: 1.65s\tremaining: 1.74s\n",
      "487:\tlearn: 0.2860281\ttotal: 1.66s\tremaining: 1.74s\n",
      "488:\tlearn: 0.2858158\ttotal: 1.66s\tremaining: 1.73s\n",
      "489:\tlearn: 0.2857030\ttotal: 1.66s\tremaining: 1.73s\n",
      "490:\tlearn: 0.2853467\ttotal: 1.67s\tremaining: 1.73s\n",
      "491:\tlearn: 0.2852238\ttotal: 1.67s\tremaining: 1.73s\n",
      "492:\tlearn: 0.2848703\ttotal: 1.67s\tremaining: 1.72s\n",
      "493:\tlearn: 0.2847930\ttotal: 1.68s\tremaining: 1.72s\n",
      "494:\tlearn: 0.2844460\ttotal: 1.68s\tremaining: 1.71s\n",
      "495:\tlearn: 0.2842826\ttotal: 1.68s\tremaining: 1.71s\n",
      "496:\tlearn: 0.2840736\ttotal: 1.69s\tremaining: 1.71s\n",
      "497:\tlearn: 0.2838086\ttotal: 1.69s\tremaining: 1.7s\n",
      "498:\tlearn: 0.2836780\ttotal: 1.69s\tremaining: 1.7s\n",
      "499:\tlearn: 0.2835099\ttotal: 1.7s\tremaining: 1.7s\n",
      "500:\tlearn: 0.2833241\ttotal: 1.7s\tremaining: 1.69s\n",
      "501:\tlearn: 0.2831782\ttotal: 1.7s\tremaining: 1.69s\n",
      "502:\tlearn: 0.2829458\ttotal: 1.71s\tremaining: 1.68s\n",
      "503:\tlearn: 0.2824786\ttotal: 1.71s\tremaining: 1.68s\n",
      "504:\tlearn: 0.2823866\ttotal: 1.71s\tremaining: 1.68s\n",
      "505:\tlearn: 0.2821895\ttotal: 1.71s\tremaining: 1.67s\n",
      "506:\tlearn: 0.2817553\ttotal: 1.72s\tremaining: 1.67s\n",
      "507:\tlearn: 0.2815476\ttotal: 1.72s\tremaining: 1.67s\n",
      "508:\tlearn: 0.2813923\ttotal: 1.72s\tremaining: 1.66s\n",
      "509:\tlearn: 0.2812253\ttotal: 1.73s\tremaining: 1.66s\n",
      "510:\tlearn: 0.2811270\ttotal: 1.73s\tremaining: 1.65s\n",
      "511:\tlearn: 0.2809442\ttotal: 1.73s\tremaining: 1.65s\n",
      "512:\tlearn: 0.2806583\ttotal: 1.74s\tremaining: 1.65s\n",
      "513:\tlearn: 0.2804053\ttotal: 1.74s\tremaining: 1.64s\n",
      "514:\tlearn: 0.2802933\ttotal: 1.74s\tremaining: 1.64s\n",
      "515:\tlearn: 0.2802130\ttotal: 1.74s\tremaining: 1.64s\n",
      "516:\tlearn: 0.2800198\ttotal: 1.75s\tremaining: 1.63s\n",
      "517:\tlearn: 0.2797297\ttotal: 1.75s\tremaining: 1.63s\n",
      "518:\tlearn: 0.2792613\ttotal: 1.75s\tremaining: 1.63s\n",
      "519:\tlearn: 0.2791178\ttotal: 1.76s\tremaining: 1.62s\n",
      "520:\tlearn: 0.2787684\ttotal: 1.76s\tremaining: 1.62s\n",
      "521:\tlearn: 0.2785238\ttotal: 1.76s\tremaining: 1.62s\n",
      "522:\tlearn: 0.2784354\ttotal: 1.77s\tremaining: 1.61s\n",
      "523:\tlearn: 0.2782083\ttotal: 1.77s\tremaining: 1.61s\n",
      "524:\tlearn: 0.2779862\ttotal: 1.78s\tremaining: 1.61s\n",
      "525:\tlearn: 0.2778577\ttotal: 1.78s\tremaining: 1.6s\n",
      "526:\tlearn: 0.2776799\ttotal: 1.78s\tremaining: 1.6s\n",
      "527:\tlearn: 0.2774047\ttotal: 1.79s\tremaining: 1.6s\n",
      "528:\tlearn: 0.2770705\ttotal: 1.79s\tremaining: 1.59s\n",
      "529:\tlearn: 0.2767879\ttotal: 1.79s\tremaining: 1.59s\n",
      "530:\tlearn: 0.2765573\ttotal: 1.79s\tremaining: 1.58s\n",
      "531:\tlearn: 0.2762926\ttotal: 1.8s\tremaining: 1.58s\n",
      "532:\tlearn: 0.2760226\ttotal: 1.8s\tremaining: 1.58s\n",
      "533:\tlearn: 0.2759634\ttotal: 1.8s\tremaining: 1.57s\n",
      "534:\tlearn: 0.2755854\ttotal: 1.8s\tremaining: 1.57s\n",
      "535:\tlearn: 0.2753839\ttotal: 1.81s\tremaining: 1.56s\n",
      "536:\tlearn: 0.2748993\ttotal: 1.81s\tremaining: 1.56s\n",
      "537:\tlearn: 0.2747174\ttotal: 1.81s\tremaining: 1.56s\n",
      "538:\tlearn: 0.2745669\ttotal: 1.82s\tremaining: 1.55s\n",
      "539:\tlearn: 0.2742959\ttotal: 1.82s\tremaining: 1.55s\n",
      "540:\tlearn: 0.2740799\ttotal: 1.82s\tremaining: 1.55s\n",
      "541:\tlearn: 0.2739597\ttotal: 1.82s\tremaining: 1.54s\n",
      "542:\tlearn: 0.2737468\ttotal: 1.83s\tremaining: 1.54s\n",
      "543:\tlearn: 0.2736213\ttotal: 1.83s\tremaining: 1.53s\n",
      "544:\tlearn: 0.2734265\ttotal: 1.83s\tremaining: 1.53s\n",
      "545:\tlearn: 0.2731554\ttotal: 1.84s\tremaining: 1.53s\n",
      "546:\tlearn: 0.2730985\ttotal: 1.84s\tremaining: 1.52s\n",
      "547:\tlearn: 0.2727592\ttotal: 1.84s\tremaining: 1.52s\n",
      "548:\tlearn: 0.2725759\ttotal: 1.84s\tremaining: 1.52s\n",
      "549:\tlearn: 0.2723701\ttotal: 1.85s\tremaining: 1.51s\n",
      "550:\tlearn: 0.2720963\ttotal: 1.85s\tremaining: 1.51s\n",
      "551:\tlearn: 0.2717838\ttotal: 1.85s\tremaining: 1.5s\n",
      "552:\tlearn: 0.2716459\ttotal: 1.86s\tremaining: 1.5s\n",
      "553:\tlearn: 0.2714241\ttotal: 1.86s\tremaining: 1.5s\n",
      "554:\tlearn: 0.2710796\ttotal: 1.86s\tremaining: 1.49s\n",
      "555:\tlearn: 0.2708530\ttotal: 1.87s\tremaining: 1.49s\n",
      "556:\tlearn: 0.2707057\ttotal: 1.87s\tremaining: 1.49s\n",
      "557:\tlearn: 0.2702598\ttotal: 1.87s\tremaining: 1.48s\n",
      "558:\tlearn: 0.2701429\ttotal: 1.87s\tremaining: 1.48s\n",
      "559:\tlearn: 0.2699466\ttotal: 1.88s\tremaining: 1.48s\n",
      "560:\tlearn: 0.2697293\ttotal: 1.88s\tremaining: 1.47s\n",
      "561:\tlearn: 0.2694486\ttotal: 1.88s\tremaining: 1.47s\n",
      "562:\tlearn: 0.2690466\ttotal: 1.89s\tremaining: 1.46s\n",
      "563:\tlearn: 0.2689248\ttotal: 1.89s\tremaining: 1.46s\n",
      "564:\tlearn: 0.2686948\ttotal: 1.89s\tremaining: 1.46s\n",
      "565:\tlearn: 0.2685619\ttotal: 1.89s\tremaining: 1.45s\n",
      "566:\tlearn: 0.2683828\ttotal: 1.9s\tremaining: 1.45s\n",
      "567:\tlearn: 0.2679790\ttotal: 1.9s\tremaining: 1.45s\n",
      "568:\tlearn: 0.2678450\ttotal: 1.9s\tremaining: 1.44s\n",
      "569:\tlearn: 0.2676119\ttotal: 1.91s\tremaining: 1.44s\n",
      "570:\tlearn: 0.2673814\ttotal: 1.91s\tremaining: 1.43s\n",
      "571:\tlearn: 0.2672294\ttotal: 1.91s\tremaining: 1.43s\n",
      "572:\tlearn: 0.2669753\ttotal: 1.92s\tremaining: 1.43s\n",
      "573:\tlearn: 0.2668201\ttotal: 1.92s\tremaining: 1.42s\n",
      "574:\tlearn: 0.2663744\ttotal: 1.92s\tremaining: 1.42s\n",
      "575:\tlearn: 0.2663089\ttotal: 1.93s\tremaining: 1.42s\n",
      "576:\tlearn: 0.2661984\ttotal: 1.93s\tremaining: 1.41s\n",
      "577:\tlearn: 0.2657423\ttotal: 1.93s\tremaining: 1.41s\n",
      "578:\tlearn: 0.2655906\ttotal: 1.94s\tremaining: 1.41s\n",
      "579:\tlearn: 0.2652973\ttotal: 1.94s\tremaining: 1.4s\n",
      "580:\tlearn: 0.2651702\ttotal: 1.94s\tremaining: 1.4s\n",
      "581:\tlearn: 0.2649804\ttotal: 1.94s\tremaining: 1.4s\n",
      "582:\tlearn: 0.2648733\ttotal: 1.95s\tremaining: 1.39s\n",
      "583:\tlearn: 0.2645161\ttotal: 1.95s\tremaining: 1.39s\n",
      "584:\tlearn: 0.2643629\ttotal: 1.95s\tremaining: 1.39s\n",
      "585:\tlearn: 0.2640424\ttotal: 1.96s\tremaining: 1.38s\n",
      "586:\tlearn: 0.2639059\ttotal: 1.96s\tremaining: 1.38s\n",
      "587:\tlearn: 0.2635783\ttotal: 1.96s\tremaining: 1.37s\n",
      "588:\tlearn: 0.2633252\ttotal: 1.96s\tremaining: 1.37s\n",
      "589:\tlearn: 0.2631536\ttotal: 1.97s\tremaining: 1.37s\n",
      "590:\tlearn: 0.2629800\ttotal: 1.97s\tremaining: 1.36s\n",
      "591:\tlearn: 0.2626833\ttotal: 1.97s\tremaining: 1.36s\n",
      "592:\tlearn: 0.2624857\ttotal: 1.98s\tremaining: 1.36s\n",
      "593:\tlearn: 0.2622796\ttotal: 1.98s\tremaining: 1.35s\n",
      "594:\tlearn: 0.2619838\ttotal: 1.98s\tremaining: 1.35s\n",
      "595:\tlearn: 0.2618002\ttotal: 1.98s\tremaining: 1.34s\n",
      "596:\tlearn: 0.2615721\ttotal: 1.99s\tremaining: 1.34s\n",
      "597:\tlearn: 0.2615152\ttotal: 1.99s\tremaining: 1.34s\n",
      "598:\tlearn: 0.2613501\ttotal: 1.99s\tremaining: 1.33s\n",
      "599:\tlearn: 0.2611080\ttotal: 1.99s\tremaining: 1.33s\n",
      "600:\tlearn: 0.2609645\ttotal: 2s\tremaining: 1.33s\n",
      "601:\tlearn: 0.2606897\ttotal: 2s\tremaining: 1.32s\n",
      "602:\tlearn: 0.2602639\ttotal: 2s\tremaining: 1.32s\n",
      "603:\tlearn: 0.2599329\ttotal: 2.01s\tremaining: 1.31s\n",
      "604:\tlearn: 0.2597957\ttotal: 2.01s\tremaining: 1.31s\n",
      "605:\tlearn: 0.2595943\ttotal: 2.01s\tremaining: 1.31s\n",
      "606:\tlearn: 0.2593111\ttotal: 2.01s\tremaining: 1.3s\n",
      "607:\tlearn: 0.2591161\ttotal: 2.02s\tremaining: 1.3s\n",
      "608:\tlearn: 0.2588429\ttotal: 2.02s\tremaining: 1.3s\n",
      "609:\tlearn: 0.2586168\ttotal: 2.02s\tremaining: 1.29s\n",
      "610:\tlearn: 0.2583814\ttotal: 2.02s\tremaining: 1.29s\n",
      "611:\tlearn: 0.2582859\ttotal: 2.03s\tremaining: 1.29s\n",
      "612:\tlearn: 0.2581228\ttotal: 2.03s\tremaining: 1.28s\n",
      "613:\tlearn: 0.2576821\ttotal: 2.03s\tremaining: 1.28s\n",
      "614:\tlearn: 0.2573665\ttotal: 2.04s\tremaining: 1.27s\n",
      "615:\tlearn: 0.2571712\ttotal: 2.04s\tremaining: 1.27s\n",
      "616:\tlearn: 0.2569123\ttotal: 2.04s\tremaining: 1.27s\n",
      "617:\tlearn: 0.2567421\ttotal: 2.04s\tremaining: 1.26s\n",
      "618:\tlearn: 0.2565468\ttotal: 2.05s\tremaining: 1.26s\n",
      "619:\tlearn: 0.2560903\ttotal: 2.05s\tremaining: 1.26s\n",
      "620:\tlearn: 0.2558848\ttotal: 2.06s\tremaining: 1.25s\n",
      "621:\tlearn: 0.2557082\ttotal: 2.06s\tremaining: 1.25s\n",
      "622:\tlearn: 0.2555673\ttotal: 2.06s\tremaining: 1.25s\n",
      "623:\tlearn: 0.2553104\ttotal: 2.06s\tremaining: 1.24s\n",
      "624:\tlearn: 0.2551517\ttotal: 2.07s\tremaining: 1.24s\n",
      "625:\tlearn: 0.2548730\ttotal: 2.07s\tremaining: 1.24s\n",
      "626:\tlearn: 0.2547001\ttotal: 2.07s\tremaining: 1.23s\n",
      "627:\tlearn: 0.2545593\ttotal: 2.08s\tremaining: 1.23s\n",
      "628:\tlearn: 0.2543065\ttotal: 2.08s\tremaining: 1.23s\n",
      "629:\tlearn: 0.2541924\ttotal: 2.09s\tremaining: 1.23s\n",
      "630:\tlearn: 0.2540412\ttotal: 2.09s\tremaining: 1.22s\n",
      "631:\tlearn: 0.2540272\ttotal: 2.09s\tremaining: 1.22s\n",
      "632:\tlearn: 0.2538574\ttotal: 2.09s\tremaining: 1.21s\n",
      "633:\tlearn: 0.2535445\ttotal: 2.1s\tremaining: 1.21s\n",
      "634:\tlearn: 0.2533613\ttotal: 2.1s\tremaining: 1.21s\n",
      "635:\tlearn: 0.2532291\ttotal: 2.1s\tremaining: 1.2s\n",
      "636:\tlearn: 0.2529860\ttotal: 2.1s\tremaining: 1.2s\n",
      "637:\tlearn: 0.2529107\ttotal: 2.11s\tremaining: 1.2s\n",
      "638:\tlearn: 0.2528306\ttotal: 2.11s\tremaining: 1.19s\n",
      "639:\tlearn: 0.2527318\ttotal: 2.11s\tremaining: 1.19s\n",
      "640:\tlearn: 0.2526089\ttotal: 2.12s\tremaining: 1.19s\n",
      "641:\tlearn: 0.2523294\ttotal: 2.12s\tremaining: 1.18s\n",
      "642:\tlearn: 0.2521745\ttotal: 2.12s\tremaining: 1.18s\n",
      "643:\tlearn: 0.2520903\ttotal: 2.13s\tremaining: 1.18s\n",
      "644:\tlearn: 0.2518111\ttotal: 2.13s\tremaining: 1.17s\n",
      "645:\tlearn: 0.2517013\ttotal: 2.13s\tremaining: 1.17s\n",
      "646:\tlearn: 0.2513785\ttotal: 2.13s\tremaining: 1.16s\n",
      "647:\tlearn: 0.2510264\ttotal: 2.14s\tremaining: 1.16s\n",
      "648:\tlearn: 0.2509075\ttotal: 2.14s\tremaining: 1.16s\n",
      "649:\tlearn: 0.2507789\ttotal: 2.14s\tremaining: 1.15s\n",
      "650:\tlearn: 0.2505793\ttotal: 2.15s\tremaining: 1.15s\n",
      "651:\tlearn: 0.2504598\ttotal: 2.15s\tremaining: 1.15s\n",
      "652:\tlearn: 0.2502472\ttotal: 2.15s\tremaining: 1.14s\n",
      "653:\tlearn: 0.2501631\ttotal: 2.15s\tremaining: 1.14s\n",
      "654:\tlearn: 0.2500554\ttotal: 2.16s\tremaining: 1.14s\n",
      "655:\tlearn: 0.2499953\ttotal: 2.16s\tremaining: 1.13s\n",
      "656:\tlearn: 0.2497997\ttotal: 2.16s\tremaining: 1.13s\n",
      "657:\tlearn: 0.2496228\ttotal: 2.17s\tremaining: 1.13s\n",
      "658:\tlearn: 0.2493790\ttotal: 2.17s\tremaining: 1.12s\n",
      "659:\tlearn: 0.2490870\ttotal: 2.17s\tremaining: 1.12s\n",
      "660:\tlearn: 0.2489131\ttotal: 2.17s\tremaining: 1.11s\n",
      "661:\tlearn: 0.2487822\ttotal: 2.18s\tremaining: 1.11s\n",
      "662:\tlearn: 0.2486344\ttotal: 2.18s\tremaining: 1.11s\n",
      "663:\tlearn: 0.2485112\ttotal: 2.18s\tremaining: 1.1s\n",
      "664:\tlearn: 0.2483456\ttotal: 2.18s\tremaining: 1.1s\n",
      "665:\tlearn: 0.2478812\ttotal: 2.19s\tremaining: 1.1s\n",
      "666:\tlearn: 0.2477720\ttotal: 2.19s\tremaining: 1.09s\n",
      "667:\tlearn: 0.2476856\ttotal: 2.19s\tremaining: 1.09s\n",
      "668:\tlearn: 0.2473703\ttotal: 2.2s\tremaining: 1.09s\n",
      "669:\tlearn: 0.2469242\ttotal: 2.2s\tremaining: 1.08s\n",
      "670:\tlearn: 0.2468015\ttotal: 2.2s\tremaining: 1.08s\n",
      "671:\tlearn: 0.2464829\ttotal: 2.2s\tremaining: 1.07s\n",
      "672:\tlearn: 0.2462695\ttotal: 2.21s\tremaining: 1.07s\n",
      "673:\tlearn: 0.2460049\ttotal: 2.21s\tremaining: 1.07s\n",
      "674:\tlearn: 0.2459397\ttotal: 2.21s\tremaining: 1.06s\n",
      "675:\tlearn: 0.2457831\ttotal: 2.21s\tremaining: 1.06s\n",
      "676:\tlearn: 0.2456189\ttotal: 2.22s\tremaining: 1.06s\n",
      "677:\tlearn: 0.2453592\ttotal: 2.22s\tremaining: 1.05s\n",
      "678:\tlearn: 0.2450781\ttotal: 2.22s\tremaining: 1.05s\n",
      "679:\tlearn: 0.2449079\ttotal: 2.23s\tremaining: 1.05s\n",
      "680:\tlearn: 0.2447622\ttotal: 2.23s\tremaining: 1.04s\n",
      "681:\tlearn: 0.2446009\ttotal: 2.23s\tremaining: 1.04s\n",
      "682:\tlearn: 0.2444911\ttotal: 2.23s\tremaining: 1.04s\n",
      "683:\tlearn: 0.2442647\ttotal: 2.24s\tremaining: 1.03s\n",
      "684:\tlearn: 0.2439881\ttotal: 2.24s\tremaining: 1.03s\n",
      "685:\tlearn: 0.2438743\ttotal: 2.25s\tremaining: 1.03s\n",
      "686:\tlearn: 0.2436232\ttotal: 2.25s\tremaining: 1.02s\n",
      "687:\tlearn: 0.2432542\ttotal: 2.25s\tremaining: 1.02s\n",
      "688:\tlearn: 0.2430422\ttotal: 2.26s\tremaining: 1.02s\n",
      "689:\tlearn: 0.2427875\ttotal: 2.26s\tremaining: 1.01s\n",
      "690:\tlearn: 0.2426080\ttotal: 2.26s\tremaining: 1.01s\n",
      "691:\tlearn: 0.2423995\ttotal: 2.27s\tremaining: 1.01s\n",
      "692:\tlearn: 0.2422839\ttotal: 2.27s\tremaining: 1s\n",
      "693:\tlearn: 0.2419745\ttotal: 2.27s\tremaining: 1s\n",
      "694:\tlearn: 0.2419342\ttotal: 2.27s\tremaining: 998ms\n",
      "695:\tlearn: 0.2417488\ttotal: 2.28s\tremaining: 995ms\n",
      "696:\tlearn: 0.2416767\ttotal: 2.28s\tremaining: 991ms\n",
      "697:\tlearn: 0.2415790\ttotal: 2.28s\tremaining: 988ms\n",
      "698:\tlearn: 0.2412939\ttotal: 2.29s\tremaining: 984ms\n",
      "699:\tlearn: 0.2411213\ttotal: 2.29s\tremaining: 981ms\n",
      "700:\tlearn: 0.2408446\ttotal: 2.29s\tremaining: 977ms\n",
      "701:\tlearn: 0.2405587\ttotal: 2.29s\tremaining: 974ms\n",
      "702:\tlearn: 0.2403313\ttotal: 2.3s\tremaining: 971ms\n",
      "703:\tlearn: 0.2401492\ttotal: 2.3s\tremaining: 967ms\n",
      "704:\tlearn: 0.2398918\ttotal: 2.3s\tremaining: 964ms\n",
      "705:\tlearn: 0.2396047\ttotal: 2.31s\tremaining: 960ms\n",
      "706:\tlearn: 0.2395006\ttotal: 2.31s\tremaining: 957ms\n",
      "707:\tlearn: 0.2394055\ttotal: 2.31s\tremaining: 954ms\n",
      "708:\tlearn: 0.2392352\ttotal: 2.31s\tremaining: 950ms\n",
      "709:\tlearn: 0.2390019\ttotal: 2.32s\tremaining: 947ms\n",
      "710:\tlearn: 0.2388457\ttotal: 2.32s\tremaining: 943ms\n",
      "711:\tlearn: 0.2386594\ttotal: 2.32s\tremaining: 940ms\n",
      "712:\tlearn: 0.2385861\ttotal: 2.33s\tremaining: 937ms\n",
      "713:\tlearn: 0.2383764\ttotal: 2.33s\tremaining: 933ms\n",
      "714:\tlearn: 0.2382499\ttotal: 2.33s\tremaining: 930ms\n",
      "715:\tlearn: 0.2380496\ttotal: 2.33s\tremaining: 926ms\n",
      "716:\tlearn: 0.2377915\ttotal: 2.34s\tremaining: 923ms\n",
      "717:\tlearn: 0.2376989\ttotal: 2.34s\tremaining: 919ms\n",
      "718:\tlearn: 0.2375933\ttotal: 2.34s\tremaining: 916ms\n",
      "719:\tlearn: 0.2374398\ttotal: 2.35s\tremaining: 913ms\n",
      "720:\tlearn: 0.2372318\ttotal: 2.35s\tremaining: 909ms\n",
      "721:\tlearn: 0.2370847\ttotal: 2.35s\tremaining: 906ms\n",
      "722:\tlearn: 0.2367496\ttotal: 2.35s\tremaining: 902ms\n",
      "723:\tlearn: 0.2363787\ttotal: 2.36s\tremaining: 899ms\n",
      "724:\tlearn: 0.2362295\ttotal: 2.36s\tremaining: 896ms\n",
      "725:\tlearn: 0.2361886\ttotal: 2.36s\tremaining: 892ms\n",
      "726:\tlearn: 0.2360077\ttotal: 2.37s\tremaining: 889ms\n",
      "727:\tlearn: 0.2358936\ttotal: 2.37s\tremaining: 885ms\n",
      "728:\tlearn: 0.2357625\ttotal: 2.37s\tremaining: 882ms\n",
      "729:\tlearn: 0.2356657\ttotal: 2.38s\tremaining: 879ms\n",
      "730:\tlearn: 0.2355083\ttotal: 2.38s\tremaining: 875ms\n",
      "731:\tlearn: 0.2354345\ttotal: 2.38s\tremaining: 872ms\n",
      "732:\tlearn: 0.2353153\ttotal: 2.38s\tremaining: 869ms\n",
      "733:\tlearn: 0.2352290\ttotal: 2.39s\tremaining: 865ms\n",
      "734:\tlearn: 0.2351001\ttotal: 2.39s\tremaining: 862ms\n",
      "735:\tlearn: 0.2349968\ttotal: 2.39s\tremaining: 858ms\n",
      "736:\tlearn: 0.2349104\ttotal: 2.4s\tremaining: 855ms\n",
      "737:\tlearn: 0.2348057\ttotal: 2.4s\tremaining: 852ms\n",
      "738:\tlearn: 0.2346429\ttotal: 2.4s\tremaining: 849ms\n",
      "739:\tlearn: 0.2344062\ttotal: 2.41s\tremaining: 846ms\n",
      "740:\tlearn: 0.2343251\ttotal: 2.41s\tremaining: 842ms\n",
      "741:\tlearn: 0.2339286\ttotal: 2.41s\tremaining: 839ms\n",
      "742:\tlearn: 0.2337558\ttotal: 2.42s\tremaining: 836ms\n",
      "743:\tlearn: 0.2336824\ttotal: 2.42s\tremaining: 833ms\n",
      "744:\tlearn: 0.2336136\ttotal: 2.42s\tremaining: 829ms\n",
      "745:\tlearn: 0.2334585\ttotal: 2.43s\tremaining: 826ms\n",
      "746:\tlearn: 0.2330439\ttotal: 2.43s\tremaining: 823ms\n",
      "747:\tlearn: 0.2327640\ttotal: 2.43s\tremaining: 819ms\n",
      "748:\tlearn: 0.2325958\ttotal: 2.44s\tremaining: 816ms\n",
      "749:\tlearn: 0.2323885\ttotal: 2.44s\tremaining: 813ms\n",
      "750:\tlearn: 0.2321622\ttotal: 2.44s\tremaining: 809ms\n",
      "751:\tlearn: 0.2320129\ttotal: 2.44s\tremaining: 806ms\n",
      "752:\tlearn: 0.2319447\ttotal: 2.45s\tremaining: 803ms\n",
      "753:\tlearn: 0.2318012\ttotal: 2.45s\tremaining: 799ms\n",
      "754:\tlearn: 0.2316776\ttotal: 2.45s\tremaining: 796ms\n",
      "755:\tlearn: 0.2315503\ttotal: 2.45s\tremaining: 792ms\n",
      "756:\tlearn: 0.2313964\ttotal: 2.46s\tremaining: 789ms\n",
      "757:\tlearn: 0.2313403\ttotal: 2.46s\tremaining: 785ms\n",
      "758:\tlearn: 0.2311582\ttotal: 2.46s\tremaining: 782ms\n",
      "759:\tlearn: 0.2309643\ttotal: 2.46s\tremaining: 779ms\n",
      "760:\tlearn: 0.2308683\ttotal: 2.47s\tremaining: 775ms\n",
      "761:\tlearn: 0.2306519\ttotal: 2.47s\tremaining: 772ms\n",
      "762:\tlearn: 0.2304512\ttotal: 2.47s\tremaining: 769ms\n",
      "763:\tlearn: 0.2303585\ttotal: 2.48s\tremaining: 765ms\n",
      "764:\tlearn: 0.2301186\ttotal: 2.48s\tremaining: 762ms\n",
      "765:\tlearn: 0.2299520\ttotal: 2.48s\tremaining: 759ms\n",
      "766:\tlearn: 0.2298211\ttotal: 2.49s\tremaining: 755ms\n",
      "767:\tlearn: 0.2296461\ttotal: 2.49s\tremaining: 752ms\n",
      "768:\tlearn: 0.2294316\ttotal: 2.49s\tremaining: 748ms\n",
      "769:\tlearn: 0.2292530\ttotal: 2.5s\tremaining: 745ms\n",
      "770:\tlearn: 0.2290728\ttotal: 2.5s\tremaining: 742ms\n",
      "771:\tlearn: 0.2288433\ttotal: 2.5s\tremaining: 739ms\n",
      "772:\tlearn: 0.2287000\ttotal: 2.5s\tremaining: 735ms\n",
      "773:\tlearn: 0.2284832\ttotal: 2.51s\tremaining: 732ms\n",
      "774:\tlearn: 0.2283585\ttotal: 2.51s\tremaining: 729ms\n",
      "775:\tlearn: 0.2282229\ttotal: 2.51s\tremaining: 725ms\n",
      "776:\tlearn: 0.2281303\ttotal: 2.52s\tremaining: 722ms\n",
      "777:\tlearn: 0.2279449\ttotal: 2.52s\tremaining: 718ms\n",
      "778:\tlearn: 0.2277649\ttotal: 2.52s\tremaining: 715ms\n",
      "779:\tlearn: 0.2276696\ttotal: 2.52s\tremaining: 712ms\n",
      "780:\tlearn: 0.2274767\ttotal: 2.53s\tremaining: 709ms\n",
      "781:\tlearn: 0.2272327\ttotal: 2.53s\tremaining: 705ms\n",
      "782:\tlearn: 0.2270917\ttotal: 2.53s\tremaining: 702ms\n",
      "783:\tlearn: 0.2269343\ttotal: 2.54s\tremaining: 699ms\n",
      "784:\tlearn: 0.2266742\ttotal: 2.54s\tremaining: 695ms\n",
      "785:\tlearn: 0.2264986\ttotal: 2.54s\tremaining: 692ms\n",
      "786:\tlearn: 0.2263188\ttotal: 2.54s\tremaining: 689ms\n",
      "787:\tlearn: 0.2261086\ttotal: 2.55s\tremaining: 685ms\n",
      "788:\tlearn: 0.2258824\ttotal: 2.55s\tremaining: 682ms\n",
      "789:\tlearn: 0.2256495\ttotal: 2.55s\tremaining: 679ms\n",
      "790:\tlearn: 0.2253640\ttotal: 2.56s\tremaining: 675ms\n",
      "791:\tlearn: 0.2253015\ttotal: 2.56s\tremaining: 672ms\n",
      "792:\tlearn: 0.2251932\ttotal: 2.56s\tremaining: 669ms\n",
      "793:\tlearn: 0.2250610\ttotal: 2.56s\tremaining: 666ms\n",
      "794:\tlearn: 0.2249378\ttotal: 2.57s\tremaining: 662ms\n",
      "795:\tlearn: 0.2247418\ttotal: 2.57s\tremaining: 659ms\n",
      "796:\tlearn: 0.2243590\ttotal: 2.58s\tremaining: 656ms\n",
      "797:\tlearn: 0.2241881\ttotal: 2.58s\tremaining: 653ms\n",
      "798:\tlearn: 0.2239846\ttotal: 2.58s\tremaining: 649ms\n",
      "799:\tlearn: 0.2238098\ttotal: 2.58s\tremaining: 646ms\n",
      "800:\tlearn: 0.2237013\ttotal: 2.59s\tremaining: 643ms\n",
      "801:\tlearn: 0.2235843\ttotal: 2.59s\tremaining: 639ms\n",
      "802:\tlearn: 0.2234171\ttotal: 2.59s\tremaining: 636ms\n",
      "803:\tlearn: 0.2232202\ttotal: 2.59s\tremaining: 632ms\n",
      "804:\tlearn: 0.2230832\ttotal: 2.6s\tremaining: 629ms\n",
      "805:\tlearn: 0.2229630\ttotal: 2.6s\tremaining: 626ms\n",
      "806:\tlearn: 0.2227556\ttotal: 2.6s\tremaining: 622ms\n",
      "807:\tlearn: 0.2225513\ttotal: 2.6s\tremaining: 619ms\n",
      "808:\tlearn: 0.2224407\ttotal: 2.61s\tremaining: 616ms\n",
      "809:\tlearn: 0.2223815\ttotal: 2.61s\tremaining: 613ms\n",
      "810:\tlearn: 0.2221158\ttotal: 2.61s\tremaining: 609ms\n",
      "811:\tlearn: 0.2218880\ttotal: 2.62s\tremaining: 606ms\n",
      "812:\tlearn: 0.2217191\ttotal: 2.62s\tremaining: 602ms\n",
      "813:\tlearn: 0.2216216\ttotal: 2.62s\tremaining: 599ms\n",
      "814:\tlearn: 0.2214471\ttotal: 2.63s\tremaining: 596ms\n",
      "815:\tlearn: 0.2212460\ttotal: 2.63s\tremaining: 593ms\n",
      "816:\tlearn: 0.2210716\ttotal: 2.63s\tremaining: 589ms\n",
      "817:\tlearn: 0.2207700\ttotal: 2.63s\tremaining: 586ms\n",
      "818:\tlearn: 0.2206518\ttotal: 2.64s\tremaining: 583ms\n",
      "819:\tlearn: 0.2205547\ttotal: 2.64s\tremaining: 579ms\n",
      "820:\tlearn: 0.2202621\ttotal: 2.64s\tremaining: 576ms\n",
      "821:\tlearn: 0.2200709\ttotal: 2.65s\tremaining: 573ms\n",
      "822:\tlearn: 0.2199827\ttotal: 2.65s\tremaining: 569ms\n",
      "823:\tlearn: 0.2198117\ttotal: 2.65s\tremaining: 566ms\n",
      "824:\tlearn: 0.2196338\ttotal: 2.65s\tremaining: 563ms\n",
      "825:\tlearn: 0.2193833\ttotal: 2.66s\tremaining: 560ms\n",
      "826:\tlearn: 0.2191040\ttotal: 2.66s\tremaining: 556ms\n",
      "827:\tlearn: 0.2188188\ttotal: 2.66s\tremaining: 553ms\n",
      "828:\tlearn: 0.2186232\ttotal: 2.67s\tremaining: 550ms\n",
      "829:\tlearn: 0.2184637\ttotal: 2.67s\tremaining: 547ms\n",
      "830:\tlearn: 0.2183447\ttotal: 2.67s\tremaining: 543ms\n",
      "831:\tlearn: 0.2181185\ttotal: 2.67s\tremaining: 540ms\n",
      "832:\tlearn: 0.2179230\ttotal: 2.68s\tremaining: 537ms\n",
      "833:\tlearn: 0.2177289\ttotal: 2.68s\tremaining: 533ms\n",
      "834:\tlearn: 0.2174576\ttotal: 2.68s\tremaining: 530ms\n",
      "835:\tlearn: 0.2173258\ttotal: 2.69s\tremaining: 527ms\n",
      "836:\tlearn: 0.2171739\ttotal: 2.69s\tremaining: 524ms\n",
      "837:\tlearn: 0.2169270\ttotal: 2.69s\tremaining: 520ms\n",
      "838:\tlearn: 0.2166864\ttotal: 2.69s\tremaining: 517ms\n",
      "839:\tlearn: 0.2164157\ttotal: 2.7s\tremaining: 514ms\n",
      "840:\tlearn: 0.2163378\ttotal: 2.7s\tremaining: 511ms\n",
      "841:\tlearn: 0.2162199\ttotal: 2.7s\tremaining: 507ms\n",
      "842:\tlearn: 0.2158899\ttotal: 2.71s\tremaining: 504ms\n",
      "843:\tlearn: 0.2158699\ttotal: 2.71s\tremaining: 501ms\n",
      "844:\tlearn: 0.2157586\ttotal: 2.71s\tremaining: 498ms\n",
      "845:\tlearn: 0.2155410\ttotal: 2.71s\tremaining: 494ms\n",
      "846:\tlearn: 0.2153727\ttotal: 2.72s\tremaining: 491ms\n",
      "847:\tlearn: 0.2151920\ttotal: 2.72s\tremaining: 488ms\n",
      "848:\tlearn: 0.2148853\ttotal: 2.73s\tremaining: 485ms\n",
      "849:\tlearn: 0.2148101\ttotal: 2.73s\tremaining: 481ms\n",
      "850:\tlearn: 0.2146415\ttotal: 2.73s\tremaining: 478ms\n",
      "851:\tlearn: 0.2144046\ttotal: 2.73s\tremaining: 475ms\n",
      "852:\tlearn: 0.2143299\ttotal: 2.74s\tremaining: 472ms\n",
      "853:\tlearn: 0.2141792\ttotal: 2.74s\tremaining: 469ms\n",
      "854:\tlearn: 0.2141206\ttotal: 2.74s\tremaining: 465ms\n",
      "855:\tlearn: 0.2139337\ttotal: 2.75s\tremaining: 462ms\n",
      "856:\tlearn: 0.2136557\ttotal: 2.75s\tremaining: 459ms\n",
      "857:\tlearn: 0.2134691\ttotal: 2.75s\tremaining: 456ms\n",
      "858:\tlearn: 0.2132437\ttotal: 2.76s\tremaining: 452ms\n",
      "859:\tlearn: 0.2130466\ttotal: 2.76s\tremaining: 449ms\n",
      "860:\tlearn: 0.2129277\ttotal: 2.76s\tremaining: 446ms\n",
      "861:\tlearn: 0.2125050\ttotal: 2.77s\tremaining: 443ms\n",
      "862:\tlearn: 0.2122203\ttotal: 2.77s\tremaining: 439ms\n",
      "863:\tlearn: 0.2121312\ttotal: 2.77s\tremaining: 436ms\n",
      "864:\tlearn: 0.2120307\ttotal: 2.77s\tremaining: 433ms\n",
      "865:\tlearn: 0.2118465\ttotal: 2.78s\tremaining: 430ms\n",
      "866:\tlearn: 0.2117302\ttotal: 2.78s\tremaining: 426ms\n",
      "867:\tlearn: 0.2114227\ttotal: 2.78s\tremaining: 423ms\n",
      "868:\tlearn: 0.2113260\ttotal: 2.79s\tremaining: 420ms\n",
      "869:\tlearn: 0.2111942\ttotal: 2.79s\tremaining: 417ms\n",
      "870:\tlearn: 0.2110035\ttotal: 2.79s\tremaining: 414ms\n",
      "871:\tlearn: 0.2107816\ttotal: 2.79s\tremaining: 410ms\n",
      "872:\tlearn: 0.2104724\ttotal: 2.8s\tremaining: 407ms\n",
      "873:\tlearn: 0.2102684\ttotal: 2.8s\tremaining: 404ms\n",
      "874:\tlearn: 0.2101032\ttotal: 2.8s\tremaining: 401ms\n",
      "875:\tlearn: 0.2099989\ttotal: 2.81s\tremaining: 397ms\n",
      "876:\tlearn: 0.2099035\ttotal: 2.81s\tremaining: 394ms\n",
      "877:\tlearn: 0.2097173\ttotal: 2.81s\tremaining: 391ms\n",
      "878:\tlearn: 0.2095486\ttotal: 2.81s\tremaining: 387ms\n",
      "879:\tlearn: 0.2093830\ttotal: 2.82s\tremaining: 384ms\n",
      "880:\tlearn: 0.2092829\ttotal: 2.82s\tremaining: 381ms\n",
      "881:\tlearn: 0.2089713\ttotal: 2.82s\tremaining: 378ms\n",
      "882:\tlearn: 0.2087959\ttotal: 2.83s\tremaining: 374ms\n",
      "883:\tlearn: 0.2087119\ttotal: 2.83s\tremaining: 371ms\n",
      "884:\tlearn: 0.2086137\ttotal: 2.83s\tremaining: 368ms\n",
      "885:\tlearn: 0.2084851\ttotal: 2.83s\tremaining: 365ms\n",
      "886:\tlearn: 0.2082519\ttotal: 2.84s\tremaining: 362ms\n",
      "887:\tlearn: 0.2082281\ttotal: 2.84s\tremaining: 358ms\n",
      "888:\tlearn: 0.2080446\ttotal: 2.84s\tremaining: 355ms\n",
      "889:\tlearn: 0.2079331\ttotal: 2.85s\tremaining: 352ms\n",
      "890:\tlearn: 0.2076840\ttotal: 2.85s\tremaining: 349ms\n",
      "891:\tlearn: 0.2074361\ttotal: 2.85s\tremaining: 346ms\n",
      "892:\tlearn: 0.2072691\ttotal: 2.86s\tremaining: 342ms\n",
      "893:\tlearn: 0.2071863\ttotal: 2.86s\tremaining: 339ms\n",
      "894:\tlearn: 0.2070482\ttotal: 2.86s\tremaining: 336ms\n",
      "895:\tlearn: 0.2068719\ttotal: 2.87s\tremaining: 333ms\n",
      "896:\tlearn: 0.2068010\ttotal: 2.87s\tremaining: 329ms\n",
      "897:\tlearn: 0.2066289\ttotal: 2.87s\tremaining: 326ms\n",
      "898:\tlearn: 0.2065124\ttotal: 2.87s\tremaining: 323ms\n",
      "899:\tlearn: 0.2063746\ttotal: 2.88s\tremaining: 320ms\n",
      "900:\tlearn: 0.2060329\ttotal: 2.88s\tremaining: 317ms\n",
      "901:\tlearn: 0.2059134\ttotal: 2.88s\tremaining: 313ms\n",
      "902:\tlearn: 0.2056670\ttotal: 2.89s\tremaining: 310ms\n",
      "903:\tlearn: 0.2055800\ttotal: 2.89s\tremaining: 307ms\n",
      "904:\tlearn: 0.2054935\ttotal: 2.9s\tremaining: 304ms\n",
      "905:\tlearn: 0.2054216\ttotal: 2.9s\tremaining: 301ms\n",
      "906:\tlearn: 0.2053141\ttotal: 2.9s\tremaining: 297ms\n",
      "907:\tlearn: 0.2051578\ttotal: 2.9s\tremaining: 294ms\n",
      "908:\tlearn: 0.2051277\ttotal: 2.91s\tremaining: 291ms\n",
      "909:\tlearn: 0.2049773\ttotal: 2.91s\tremaining: 288ms\n",
      "910:\tlearn: 0.2049041\ttotal: 2.91s\tremaining: 284ms\n",
      "911:\tlearn: 0.2048033\ttotal: 2.91s\tremaining: 281ms\n",
      "912:\tlearn: 0.2046646\ttotal: 2.92s\tremaining: 278ms\n",
      "913:\tlearn: 0.2045087\ttotal: 2.92s\tremaining: 275ms\n",
      "914:\tlearn: 0.2043556\ttotal: 2.92s\tremaining: 272ms\n",
      "915:\tlearn: 0.2042029\ttotal: 2.92s\tremaining: 268ms\n",
      "916:\tlearn: 0.2041374\ttotal: 2.93s\tremaining: 265ms\n",
      "917:\tlearn: 0.2039668\ttotal: 2.93s\tremaining: 262ms\n",
      "918:\tlearn: 0.2038225\ttotal: 2.93s\tremaining: 259ms\n",
      "919:\tlearn: 0.2037351\ttotal: 2.94s\tremaining: 255ms\n",
      "920:\tlearn: 0.2035562\ttotal: 2.94s\tremaining: 252ms\n",
      "921:\tlearn: 0.2033158\ttotal: 2.94s\tremaining: 249ms\n",
      "922:\tlearn: 0.2031272\ttotal: 2.94s\tremaining: 246ms\n",
      "923:\tlearn: 0.2028653\ttotal: 2.95s\tremaining: 243ms\n",
      "924:\tlearn: 0.2027730\ttotal: 2.95s\tremaining: 239ms\n",
      "925:\tlearn: 0.2025642\ttotal: 2.95s\tremaining: 236ms\n",
      "926:\tlearn: 0.2025182\ttotal: 2.96s\tremaining: 233ms\n",
      "927:\tlearn: 0.2023242\ttotal: 2.96s\tremaining: 230ms\n",
      "928:\tlearn: 0.2021505\ttotal: 2.96s\tremaining: 227ms\n",
      "929:\tlearn: 0.2019405\ttotal: 2.97s\tremaining: 223ms\n",
      "930:\tlearn: 0.2018581\ttotal: 2.97s\tremaining: 220ms\n",
      "931:\tlearn: 0.2015040\ttotal: 2.97s\tremaining: 217ms\n",
      "932:\tlearn: 0.2012963\ttotal: 2.98s\tremaining: 214ms\n",
      "933:\tlearn: 0.2011157\ttotal: 2.98s\tremaining: 211ms\n",
      "934:\tlearn: 0.2010048\ttotal: 2.98s\tremaining: 207ms\n",
      "935:\tlearn: 0.2008797\ttotal: 2.98s\tremaining: 204ms\n",
      "936:\tlearn: 0.2006119\ttotal: 2.99s\tremaining: 201ms\n",
      "937:\tlearn: 0.2003997\ttotal: 2.99s\tremaining: 198ms\n",
      "938:\tlearn: 0.2002994\ttotal: 2.99s\tremaining: 195ms\n",
      "939:\tlearn: 0.2001781\ttotal: 3s\tremaining: 191ms\n",
      "940:\tlearn: 0.2001108\ttotal: 3s\tremaining: 188ms\n",
      "941:\tlearn: 0.1998029\ttotal: 3s\tremaining: 185ms\n",
      "942:\tlearn: 0.1996730\ttotal: 3s\tremaining: 182ms\n",
      "943:\tlearn: 0.1996001\ttotal: 3.01s\tremaining: 178ms\n",
      "944:\tlearn: 0.1995043\ttotal: 3.01s\tremaining: 175ms\n",
      "945:\tlearn: 0.1993791\ttotal: 3.01s\tremaining: 172ms\n",
      "946:\tlearn: 0.1993067\ttotal: 3.02s\tremaining: 169ms\n",
      "947:\tlearn: 0.1991825\ttotal: 3.02s\tremaining: 166ms\n",
      "948:\tlearn: 0.1991477\ttotal: 3.02s\tremaining: 162ms\n",
      "949:\tlearn: 0.1989893\ttotal: 3.02s\tremaining: 159ms\n",
      "950:\tlearn: 0.1989476\ttotal: 3.03s\tremaining: 156ms\n",
      "951:\tlearn: 0.1988571\ttotal: 3.03s\tremaining: 153ms\n",
      "952:\tlearn: 0.1987463\ttotal: 3.03s\tremaining: 150ms\n",
      "953:\tlearn: 0.1985914\ttotal: 3.04s\tremaining: 146ms\n",
      "954:\tlearn: 0.1984601\ttotal: 3.04s\tremaining: 143ms\n",
      "955:\tlearn: 0.1983558\ttotal: 3.04s\tremaining: 140ms\n",
      "956:\tlearn: 0.1981887\ttotal: 3.04s\tremaining: 137ms\n",
      "957:\tlearn: 0.1979755\ttotal: 3.05s\tremaining: 134ms\n",
      "958:\tlearn: 0.1978122\ttotal: 3.05s\tremaining: 130ms\n",
      "959:\tlearn: 0.1976791\ttotal: 3.06s\tremaining: 127ms\n",
      "960:\tlearn: 0.1976331\ttotal: 3.06s\tremaining: 124ms\n",
      "961:\tlearn: 0.1974878\ttotal: 3.06s\tremaining: 121ms\n",
      "962:\tlearn: 0.1973825\ttotal: 3.06s\tremaining: 118ms\n",
      "963:\tlearn: 0.1973230\ttotal: 3.07s\tremaining: 115ms\n",
      "964:\tlearn: 0.1970565\ttotal: 3.07s\tremaining: 111ms\n",
      "965:\tlearn: 0.1969765\ttotal: 3.07s\tremaining: 108ms\n",
      "966:\tlearn: 0.1967186\ttotal: 3.08s\tremaining: 105ms\n",
      "967:\tlearn: 0.1965649\ttotal: 3.08s\tremaining: 102ms\n",
      "968:\tlearn: 0.1964461\ttotal: 3.08s\tremaining: 98.6ms\n",
      "969:\tlearn: 0.1962676\ttotal: 3.08s\tremaining: 95.4ms\n",
      "970:\tlearn: 0.1961347\ttotal: 3.09s\tremaining: 92.2ms\n",
      "971:\tlearn: 0.1960023\ttotal: 3.09s\tremaining: 89.1ms\n",
      "972:\tlearn: 0.1958286\ttotal: 3.09s\tremaining: 85.9ms\n",
      "973:\tlearn: 0.1956880\ttotal: 3.1s\tremaining: 82.7ms\n",
      "974:\tlearn: 0.1955273\ttotal: 3.1s\tremaining: 79.5ms\n",
      "975:\tlearn: 0.1954718\ttotal: 3.1s\tremaining: 76.3ms\n",
      "976:\tlearn: 0.1954058\ttotal: 3.11s\tremaining: 73.2ms\n",
      "977:\tlearn: 0.1953148\ttotal: 3.11s\tremaining: 70ms\n",
      "978:\tlearn: 0.1951338\ttotal: 3.11s\tremaining: 66.8ms\n",
      "979:\tlearn: 0.1950429\ttotal: 3.12s\tremaining: 63.6ms\n",
      "980:\tlearn: 0.1950004\ttotal: 3.12s\tremaining: 60.4ms\n",
      "981:\tlearn: 0.1948226\ttotal: 3.12s\tremaining: 57.2ms\n",
      "982:\tlearn: 0.1946439\ttotal: 3.13s\tremaining: 54.1ms\n",
      "983:\tlearn: 0.1945826\ttotal: 3.13s\tremaining: 50.9ms\n",
      "984:\tlearn: 0.1944658\ttotal: 3.13s\tremaining: 47.7ms\n",
      "985:\tlearn: 0.1943315\ttotal: 3.13s\tremaining: 44.5ms\n",
      "986:\tlearn: 0.1941699\ttotal: 3.14s\tremaining: 41.3ms\n",
      "987:\tlearn: 0.1939214\ttotal: 3.14s\tremaining: 38.2ms\n",
      "988:\tlearn: 0.1937600\ttotal: 3.14s\tremaining: 35ms\n",
      "989:\tlearn: 0.1936543\ttotal: 3.15s\tremaining: 31.8ms\n",
      "990:\tlearn: 0.1935242\ttotal: 3.15s\tremaining: 28.6ms\n",
      "991:\tlearn: 0.1933722\ttotal: 3.15s\tremaining: 25.4ms\n",
      "992:\tlearn: 0.1932137\ttotal: 3.16s\tremaining: 22.2ms\n",
      "993:\tlearn: 0.1931190\ttotal: 3.16s\tremaining: 19.1ms\n",
      "994:\tlearn: 0.1930025\ttotal: 3.16s\tremaining: 15.9ms\n",
      "995:\tlearn: 0.1929036\ttotal: 3.17s\tremaining: 12.7ms\n",
      "996:\tlearn: 0.1927199\ttotal: 3.17s\tremaining: 9.53ms\n",
      "997:\tlearn: 0.1927060\ttotal: 3.17s\tremaining: 6.35ms\n",
      "998:\tlearn: 0.1926449\ttotal: 3.17s\tremaining: 3.18ms\n",
      "999:\tlearn: 0.1925922\ttotal: 3.18s\tremaining: 0us\n"
     ]
    }
   ],
   "source": [
    "cat_model = CatBoostClassifier().fit(X_train, y_train)"
   ]
  },
  {
   "cell_type": "code",
   "execution_count": 259,
   "metadata": {},
   "outputs": [
    {
     "data": {
      "text/plain": [
       "0.7402597402597403"
      ]
     },
     "execution_count": 259,
     "metadata": {},
     "output_type": "execute_result"
    }
   ],
   "source": [
    "y_pred = cat_model.predict(X_test)\n",
    "accuracy_score(y_test, y_pred)"
   ]
  },
  {
   "attachments": {},
   "cell_type": "markdown",
   "metadata": {},
   "source": [
    "## Model Tuning"
   ]
  },
  {
   "cell_type": "code",
   "execution_count": 260,
   "metadata": {},
   "outputs": [],
   "source": [
    "catb_params = {\n",
    "    'iterations': [200,500],\n",
    "    'learning_rate': [0.01,0.05, 0.1],\n",
    "    'depth': [3,5,8] }"
   ]
  },
  {
   "cell_type": "code",
   "execution_count": 261,
   "metadata": {},
   "outputs": [
    {
     "name": "stdout",
     "output_type": "stream",
     "text": [
      "Fitting 2 folds for each of 18 candidates, totalling 36 fits\n",
      "0:\tlearn: 0.6299210\ttotal: 19.7ms\tremaining: 9.82s\n",
      "1:\tlearn: 0.6012987\ttotal: 22.6ms\tremaining: 5.62s\n",
      "2:\tlearn: 0.5586401\ttotal: 30.6ms\tremaining: 5.08s\n",
      "3:\tlearn: 0.5293438\ttotal: 38.8ms\tremaining: 4.82s\n",
      "4:\tlearn: 0.5010737\ttotal: 46.4ms\tremaining: 4.59s\n",
      "5:\tlearn: 0.4761785\ttotal: 55.7ms\tremaining: 4.59s\n",
      "6:\tlearn: 0.4549779\ttotal: 62.3ms\tremaining: 4.39s\n",
      "7:\tlearn: 0.4335932\ttotal: 72.2ms\tremaining: 4.44s\n",
      "8:\tlearn: 0.4177409\ttotal: 79.6ms\tremaining: 4.34s\n",
      "9:\tlearn: 0.4051898\ttotal: 87.4ms\tremaining: 4.28s\n",
      "10:\tlearn: 0.3939146\ttotal: 93.1ms\tremaining: 4.14s\n",
      "11:\tlearn: 0.3794142\ttotal: 102ms\tremaining: 4.13s\n",
      "12:\tlearn: 0.3670691\ttotal: 108ms\tremaining: 4.04s\n",
      "13:\tlearn: 0.3584774\ttotal: 112ms\tremaining: 3.89s\n",
      "14:\tlearn: 0.3506715\ttotal: 119ms\tremaining: 3.86s\n",
      "15:\tlearn: 0.3377564\ttotal: 126ms\tremaining: 3.83s\n",
      "16:\tlearn: 0.3273857\ttotal: 134ms\tremaining: 3.8s\n",
      "17:\tlearn: 0.3202416\ttotal: 140ms\tremaining: 3.75s\n",
      "18:\tlearn: 0.3115747\ttotal: 149ms\tremaining: 3.76s\n",
      "19:\tlearn: 0.3066545\ttotal: 155ms\tremaining: 3.73s\n",
      "20:\tlearn: 0.2998806\ttotal: 162ms\tremaining: 3.7s\n",
      "21:\tlearn: 0.2932559\ttotal: 169ms\tremaining: 3.67s\n",
      "22:\tlearn: 0.2881253\ttotal: 175ms\tremaining: 3.63s\n",
      "23:\tlearn: 0.2836197\ttotal: 183ms\tremaining: 3.64s\n",
      "24:\tlearn: 0.2808234\ttotal: 189ms\tremaining: 3.59s\n",
      "25:\tlearn: 0.2775979\ttotal: 200ms\tremaining: 3.65s\n",
      "26:\tlearn: 0.2695533\ttotal: 208ms\tremaining: 3.65s\n",
      "27:\tlearn: 0.2653897\ttotal: 218ms\tremaining: 3.68s\n",
      "28:\tlearn: 0.2604882\ttotal: 231ms\tremaining: 3.76s\n",
      "29:\tlearn: 0.2555020\ttotal: 238ms\tremaining: 3.73s\n",
      "30:\tlearn: 0.2463750\ttotal: 248ms\tremaining: 3.75s\n",
      "31:\tlearn: 0.2426333\ttotal: 254ms\tremaining: 3.72s\n",
      "32:\tlearn: 0.2395203\ttotal: 262ms\tremaining: 3.71s\n",
      "33:\tlearn: 0.2334492\ttotal: 269ms\tremaining: 3.69s\n",
      "34:\tlearn: 0.2303329\ttotal: 278ms\tremaining: 3.7s\n",
      "35:\tlearn: 0.2273400\ttotal: 285ms\tremaining: 3.67s\n",
      "36:\tlearn: 0.2223040\ttotal: 293ms\tremaining: 3.67s\n",
      "37:\tlearn: 0.2190003\ttotal: 301ms\tremaining: 3.65s\n",
      "38:\tlearn: 0.2148220\ttotal: 308ms\tremaining: 3.64s\n",
      "39:\tlearn: 0.2123206\ttotal: 317ms\tremaining: 3.64s\n",
      "40:\tlearn: 0.2084317\ttotal: 326ms\tremaining: 3.65s\n",
      "41:\tlearn: 0.2054004\ttotal: 333ms\tremaining: 3.63s\n",
      "42:\tlearn: 0.2010749\ttotal: 341ms\tremaining: 3.62s\n",
      "43:\tlearn: 0.1993423\ttotal: 346ms\tremaining: 3.59s\n",
      "44:\tlearn: 0.1969309\ttotal: 354ms\tremaining: 3.58s\n",
      "45:\tlearn: 0.1940557\ttotal: 361ms\tremaining: 3.56s\n",
      "46:\tlearn: 0.1899044\ttotal: 368ms\tremaining: 3.55s\n",
      "47:\tlearn: 0.1888661\ttotal: 377ms\tremaining: 3.55s\n",
      "48:\tlearn: 0.1863727\ttotal: 385ms\tremaining: 3.54s\n",
      "49:\tlearn: 0.1826907\ttotal: 391ms\tremaining: 3.52s\n",
      "50:\tlearn: 0.1796325\ttotal: 397ms\tremaining: 3.5s\n",
      "51:\tlearn: 0.1776462\ttotal: 404ms\tremaining: 3.48s\n",
      "52:\tlearn: 0.1755196\ttotal: 411ms\tremaining: 3.47s\n",
      "53:\tlearn: 0.1724958\ttotal: 418ms\tremaining: 3.45s\n",
      "54:\tlearn: 0.1707290\ttotal: 425ms\tremaining: 3.44s\n",
      "55:\tlearn: 0.1684020\ttotal: 432ms\tremaining: 3.42s\n",
      "56:\tlearn: 0.1658374\ttotal: 438ms\tremaining: 3.41s\n",
      "57:\tlearn: 0.1629652\ttotal: 449ms\tremaining: 3.42s\n",
      "58:\tlearn: 0.1612496\ttotal: 465ms\tremaining: 3.48s\n",
      "59:\tlearn: 0.1575642\ttotal: 476ms\tremaining: 3.49s\n",
      "60:\tlearn: 0.1561901\ttotal: 483ms\tremaining: 3.48s\n",
      "61:\tlearn: 0.1548131\ttotal: 491ms\tremaining: 3.47s\n",
      "62:\tlearn: 0.1518096\ttotal: 497ms\tremaining: 3.45s\n",
      "63:\tlearn: 0.1488266\ttotal: 506ms\tremaining: 3.45s\n",
      "64:\tlearn: 0.1459984\ttotal: 512ms\tremaining: 3.43s\n",
      "65:\tlearn: 0.1435567\ttotal: 520ms\tremaining: 3.42s\n",
      "66:\tlearn: 0.1405097\ttotal: 526ms\tremaining: 3.4s\n",
      "67:\tlearn: 0.1401624\ttotal: 533ms\tremaining: 3.38s\n",
      "68:\tlearn: 0.1375327\ttotal: 540ms\tremaining: 3.38s\n",
      "69:\tlearn: 0.1354387\ttotal: 549ms\tremaining: 3.37s\n",
      "70:\tlearn: 0.1336196\ttotal: 556ms\tremaining: 3.36s\n",
      "71:\tlearn: 0.1326111\ttotal: 567ms\tremaining: 3.37s\n",
      "72:\tlearn: 0.1294821\ttotal: 573ms\tremaining: 3.35s\n",
      "73:\tlearn: 0.1278752\ttotal: 579ms\tremaining: 3.33s\n",
      "74:\tlearn: 0.1253467\ttotal: 586ms\tremaining: 3.32s\n",
      "75:\tlearn: 0.1237115\ttotal: 592ms\tremaining: 3.3s\n",
      "76:\tlearn: 0.1233572\ttotal: 599ms\tremaining: 3.29s\n",
      "77:\tlearn: 0.1221480\ttotal: 606ms\tremaining: 3.28s\n",
      "78:\tlearn: 0.1213049\ttotal: 614ms\tremaining: 3.27s\n",
      "79:\tlearn: 0.1198312\ttotal: 622ms\tremaining: 3.26s\n",
      "80:\tlearn: 0.1190067\ttotal: 640ms\tremaining: 3.31s\n",
      "81:\tlearn: 0.1177525\ttotal: 648ms\tremaining: 3.3s\n",
      "82:\tlearn: 0.1159833\ttotal: 655ms\tremaining: 3.29s\n",
      "83:\tlearn: 0.1153665\ttotal: 664ms\tremaining: 3.29s\n",
      "84:\tlearn: 0.1129850\ttotal: 671ms\tremaining: 3.28s\n",
      "85:\tlearn: 0.1105823\ttotal: 688ms\tremaining: 3.31s\n",
      "86:\tlearn: 0.1080449\ttotal: 700ms\tremaining: 3.32s\n",
      "87:\tlearn: 0.1062318\ttotal: 707ms\tremaining: 3.31s\n",
      "88:\tlearn: 0.1050759\ttotal: 713ms\tremaining: 3.29s\n",
      "89:\tlearn: 0.1043664\ttotal: 724ms\tremaining: 3.3s\n",
      "90:\tlearn: 0.1025169\ttotal: 733ms\tremaining: 3.29s\n",
      "91:\tlearn: 0.1001503\ttotal: 741ms\tremaining: 3.28s\n",
      "92:\tlearn: 0.0993171\ttotal: 748ms\tremaining: 3.27s\n",
      "93:\tlearn: 0.0977603\ttotal: 755ms\tremaining: 3.26s\n",
      "94:\tlearn: 0.0972870\ttotal: 761ms\tremaining: 3.24s\n",
      "95:\tlearn: 0.0955619\ttotal: 767ms\tremaining: 3.23s\n",
      "96:\tlearn: 0.0950013\ttotal: 773ms\tremaining: 3.21s\n",
      "97:\tlearn: 0.0944745\ttotal: 781ms\tremaining: 3.2s\n",
      "98:\tlearn: 0.0939875\ttotal: 790ms\tremaining: 3.2s\n",
      "99:\tlearn: 0.0920955\ttotal: 801ms\tremaining: 3.2s\n",
      "100:\tlearn: 0.0908058\ttotal: 815ms\tremaining: 3.22s\n",
      "101:\tlearn: 0.0901619\ttotal: 826ms\tremaining: 3.22s\n",
      "102:\tlearn: 0.0893760\ttotal: 833ms\tremaining: 3.21s\n",
      "103:\tlearn: 0.0886488\ttotal: 843ms\tremaining: 3.21s\n",
      "104:\tlearn: 0.0873476\ttotal: 851ms\tremaining: 3.2s\n",
      "105:\tlearn: 0.0870084\ttotal: 860ms\tremaining: 3.19s\n",
      "106:\tlearn: 0.0845356\ttotal: 867ms\tremaining: 3.19s\n",
      "107:\tlearn: 0.0837069\ttotal: 875ms\tremaining: 3.18s\n",
      "108:\tlearn: 0.0826810\ttotal: 881ms\tremaining: 3.16s\n",
      "109:\tlearn: 0.0824101\ttotal: 889ms\tremaining: 3.15s\n",
      "110:\tlearn: 0.0815373\ttotal: 895ms\tremaining: 3.13s\n",
      "111:\tlearn: 0.0801896\ttotal: 902ms\tremaining: 3.12s\n",
      "112:\tlearn: 0.0794364\ttotal: 910ms\tremaining: 3.12s\n",
      "113:\tlearn: 0.0787215\ttotal: 917ms\tremaining: 3.1s\n",
      "114:\tlearn: 0.0781686\ttotal: 923ms\tremaining: 3.09s\n",
      "115:\tlearn: 0.0774999\ttotal: 932ms\tremaining: 3.08s\n",
      "116:\tlearn: 0.0762556\ttotal: 942ms\tremaining: 3.08s\n",
      "117:\tlearn: 0.0758387\ttotal: 954ms\tremaining: 3.09s\n",
      "118:\tlearn: 0.0752547\ttotal: 967ms\tremaining: 3.1s\n",
      "119:\tlearn: 0.0749542\ttotal: 976ms\tremaining: 3.09s\n",
      "120:\tlearn: 0.0738526\ttotal: 984ms\tremaining: 3.08s\n",
      "121:\tlearn: 0.0730859\ttotal: 1s\tremaining: 3.1s\n",
      "122:\tlearn: 0.0728169\ttotal: 1.01s\tremaining: 3.1s\n",
      "123:\tlearn: 0.0722779\ttotal: 1.02s\tremaining: 3.11s\n",
      "124:\tlearn: 0.0721076\ttotal: 1.03s\tremaining: 3.09s\n",
      "125:\tlearn: 0.0716932\ttotal: 1.04s\tremaining: 3.08s\n",
      "126:\tlearn: 0.0711903\ttotal: 1.04s\tremaining: 3.06s\n",
      "127:\tlearn: 0.0708849\ttotal: 1.05s\tremaining: 3.05s\n",
      "128:\tlearn: 0.0706559\ttotal: 1.06s\tremaining: 3.05s\n",
      "129:\tlearn: 0.0692751\ttotal: 1.07s\tremaining: 3.05s\n",
      "130:\tlearn: 0.0691088\ttotal: 1.08s\tremaining: 3.04s\n",
      "131:\tlearn: 0.0685610\ttotal: 1.09s\tremaining: 3.03s\n",
      "132:\tlearn: 0.0674623\ttotal: 1.1s\tremaining: 3.05s\n",
      "133:\tlearn: 0.0660635\ttotal: 1.11s\tremaining: 3.05s\n",
      "134:\tlearn: 0.0643053\ttotal: 1.13s\tremaining: 3.04s\n",
      "135:\tlearn: 0.0630385\ttotal: 1.14s\tremaining: 3.04s\n",
      "136:\tlearn: 0.0625676\ttotal: 1.14s\tremaining: 3.03s\n",
      "137:\tlearn: 0.0612429\ttotal: 1.15s\tremaining: 3.02s\n",
      "138:\tlearn: 0.0611898\ttotal: 1.16s\tremaining: 3.02s\n",
      "139:\tlearn: 0.0607127\ttotal: 1.17s\tremaining: 3s\n",
      "140:\tlearn: 0.0600069\ttotal: 1.18s\tremaining: 3s\n",
      "141:\tlearn: 0.0591628\ttotal: 1.19s\tremaining: 2.99s\n",
      "142:\tlearn: 0.0585514\ttotal: 1.2s\tremaining: 2.99s\n",
      "143:\tlearn: 0.0573695\ttotal: 1.2s\tremaining: 2.97s\n",
      "144:\tlearn: 0.0564510\ttotal: 1.21s\tremaining: 2.97s\n",
      "145:\tlearn: 0.0557337\ttotal: 1.22s\tremaining: 2.96s\n",
      "146:\tlearn: 0.0552070\ttotal: 1.23s\tremaining: 2.94s\n",
      "147:\tlearn: 0.0549229\ttotal: 1.23s\tremaining: 2.93s\n",
      "148:\tlearn: 0.0542706\ttotal: 1.24s\tremaining: 2.92s\n",
      "149:\tlearn: 0.0538379\ttotal: 1.25s\tremaining: 2.91s\n",
      "150:\tlearn: 0.0534371\ttotal: 1.26s\tremaining: 2.91s\n",
      "151:\tlearn: 0.0531271\ttotal: 1.27s\tremaining: 2.9s\n",
      "152:\tlearn: 0.0527556\ttotal: 1.27s\tremaining: 2.89s\n",
      "153:\tlearn: 0.0518462\ttotal: 1.3s\tremaining: 2.91s\n",
      "154:\tlearn: 0.0514904\ttotal: 1.31s\tremaining: 2.92s\n",
      "155:\tlearn: 0.0508559\ttotal: 1.33s\tremaining: 2.94s\n",
      "156:\tlearn: 0.0505778\ttotal: 1.35s\tremaining: 2.95s\n",
      "157:\tlearn: 0.0502661\ttotal: 1.35s\tremaining: 2.93s\n",
      "158:\tlearn: 0.0493940\ttotal: 1.36s\tremaining: 2.92s\n",
      "159:\tlearn: 0.0493085\ttotal: 1.37s\tremaining: 2.91s\n",
      "160:\tlearn: 0.0490444\ttotal: 1.37s\tremaining: 2.89s\n",
      "161:\tlearn: 0.0487610\ttotal: 1.38s\tremaining: 2.88s\n",
      "162:\tlearn: 0.0479586\ttotal: 1.39s\tremaining: 2.87s\n",
      "163:\tlearn: 0.0477193\ttotal: 1.4s\tremaining: 2.87s\n",
      "164:\tlearn: 0.0472078\ttotal: 1.41s\tremaining: 2.85s\n",
      "165:\tlearn: 0.0470658\ttotal: 1.42s\tremaining: 2.85s\n",
      "166:\tlearn: 0.0463652\ttotal: 1.42s\tremaining: 2.84s\n",
      "167:\tlearn: 0.0458657\ttotal: 1.43s\tremaining: 2.83s\n",
      "168:\tlearn: 0.0455682\ttotal: 1.44s\tremaining: 2.83s\n",
      "169:\tlearn: 0.0452888\ttotal: 1.46s\tremaining: 2.83s\n",
      "170:\tlearn: 0.0447703\ttotal: 1.47s\tremaining: 2.83s\n",
      "171:\tlearn: 0.0443368\ttotal: 1.48s\tremaining: 2.82s\n",
      "172:\tlearn: 0.0436892\ttotal: 1.49s\tremaining: 2.82s\n",
      "173:\tlearn: 0.0431142\ttotal: 1.5s\tremaining: 2.81s\n",
      "174:\tlearn: 0.0427011\ttotal: 1.51s\tremaining: 2.8s\n",
      "175:\tlearn: 0.0425025\ttotal: 1.51s\tremaining: 2.79s\n",
      "176:\tlearn: 0.0421720\ttotal: 1.52s\tremaining: 2.77s\n",
      "177:\tlearn: 0.0418052\ttotal: 1.53s\tremaining: 2.76s\n",
      "178:\tlearn: 0.0414525\ttotal: 1.53s\tremaining: 2.75s\n",
      "179:\tlearn: 0.0411347\ttotal: 1.54s\tremaining: 2.74s\n",
      "180:\tlearn: 0.0409561\ttotal: 1.55s\tremaining: 2.73s\n",
      "181:\tlearn: 0.0406330\ttotal: 1.55s\tremaining: 2.71s\n",
      "182:\tlearn: 0.0399707\ttotal: 1.56s\tremaining: 2.7s\n",
      "183:\tlearn: 0.0394163\ttotal: 1.57s\tremaining: 2.69s\n",
      "184:\tlearn: 0.0393433\ttotal: 1.57s\tremaining: 2.68s\n",
      "185:\tlearn: 0.0393082\ttotal: 1.58s\tremaining: 2.67s\n",
      "186:\tlearn: 0.0390379\ttotal: 1.59s\tremaining: 2.65s\n",
      "187:\tlearn: 0.0388779\ttotal: 1.59s\tremaining: 2.64s\n",
      "188:\tlearn: 0.0387184\ttotal: 1.6s\tremaining: 2.63s\n",
      "189:\tlearn: 0.0382399\ttotal: 1.6s\tremaining: 2.62s\n",
      "190:\tlearn: 0.0379585\ttotal: 1.61s\tremaining: 2.61s\n",
      "191:\tlearn: 0.0377951\ttotal: 1.62s\tremaining: 2.6s\n",
      "192:\tlearn: 0.0372025\ttotal: 1.63s\tremaining: 2.58s\n",
      "193:\tlearn: 0.0369379\ttotal: 1.63s\tremaining: 2.57s\n",
      "194:\tlearn: 0.0365361\ttotal: 1.64s\tremaining: 2.57s\n",
      "195:\tlearn: 0.0359675\ttotal: 1.65s\tremaining: 2.56s\n",
      "196:\tlearn: 0.0357482\ttotal: 1.66s\tremaining: 2.55s\n",
      "197:\tlearn: 0.0356546\ttotal: 1.66s\tremaining: 2.54s\n",
      "198:\tlearn: 0.0353375\ttotal: 1.67s\tremaining: 2.53s\n",
      "199:\tlearn: 0.0348605\ttotal: 1.68s\tremaining: 2.52s\n",
      "200:\tlearn: 0.0346272\ttotal: 1.68s\tremaining: 2.5s\n",
      "201:\tlearn: 0.0341182\ttotal: 1.69s\tremaining: 2.49s\n",
      "202:\tlearn: 0.0337118\ttotal: 1.7s\tremaining: 2.48s\n",
      "203:\tlearn: 0.0334620\ttotal: 1.7s\tremaining: 2.47s\n",
      "204:\tlearn: 0.0331716\ttotal: 1.71s\tremaining: 2.46s\n",
      "205:\tlearn: 0.0328870\ttotal: 1.72s\tremaining: 2.45s\n",
      "206:\tlearn: 0.0327098\ttotal: 1.72s\tremaining: 2.44s\n",
      "207:\tlearn: 0.0324956\ttotal: 1.73s\tremaining: 2.43s\n",
      "208:\tlearn: 0.0323781\ttotal: 1.74s\tremaining: 2.42s\n",
      "209:\tlearn: 0.0322566\ttotal: 1.74s\tremaining: 2.41s\n",
      "210:\tlearn: 0.0316521\ttotal: 1.75s\tremaining: 2.4s\n",
      "211:\tlearn: 0.0312568\ttotal: 1.76s\tremaining: 2.39s\n",
      "212:\tlearn: 0.0311145\ttotal: 1.76s\tremaining: 2.38s\n",
      "213:\tlearn: 0.0306947\ttotal: 1.77s\tremaining: 2.37s\n",
      "214:\tlearn: 0.0305707\ttotal: 1.78s\tremaining: 2.35s\n",
      "215:\tlearn: 0.0304529\ttotal: 1.78s\tremaining: 2.34s\n",
      "216:\tlearn: 0.0302521\ttotal: 1.79s\tremaining: 2.33s\n",
      "217:\tlearn: 0.0299767\ttotal: 1.8s\tremaining: 2.32s\n",
      "218:\tlearn: 0.0297517\ttotal: 1.8s\tremaining: 2.31s\n",
      "219:\tlearn: 0.0296420\ttotal: 1.81s\tremaining: 2.3s\n",
      "220:\tlearn: 0.0293512\ttotal: 1.82s\tremaining: 2.3s\n",
      "221:\tlearn: 0.0291033\ttotal: 1.83s\tremaining: 2.29s\n",
      "222:\tlearn: 0.0287138\ttotal: 1.84s\tremaining: 2.28s\n",
      "223:\tlearn: 0.0283106\ttotal: 1.84s\tremaining: 2.27s\n",
      "224:\tlearn: 0.0281622\ttotal: 1.85s\tremaining: 2.26s\n",
      "225:\tlearn: 0.0277949\ttotal: 1.86s\tremaining: 2.25s\n",
      "226:\tlearn: 0.0275002\ttotal: 1.86s\tremaining: 2.24s\n",
      "227:\tlearn: 0.0274247\ttotal: 1.87s\tremaining: 2.23s\n",
      "228:\tlearn: 0.0273272\ttotal: 1.88s\tremaining: 2.22s\n",
      "229:\tlearn: 0.0270145\ttotal: 1.88s\tremaining: 2.21s\n",
      "230:\tlearn: 0.0268835\ttotal: 1.89s\tremaining: 2.2s\n",
      "231:\tlearn: 0.0267929\ttotal: 1.9s\tremaining: 2.19s\n",
      "232:\tlearn: 0.0265847\ttotal: 1.91s\tremaining: 2.18s\n",
      "233:\tlearn: 0.0264347\ttotal: 1.91s\tremaining: 2.17s\n",
      "234:\tlearn: 0.0263110\ttotal: 1.92s\tremaining: 2.17s\n",
      "235:\tlearn: 0.0259991\ttotal: 1.93s\tremaining: 2.15s\n",
      "236:\tlearn: 0.0257048\ttotal: 1.93s\tremaining: 2.15s\n",
      "237:\tlearn: 0.0255956\ttotal: 1.94s\tremaining: 2.13s\n",
      "238:\tlearn: 0.0254457\ttotal: 1.95s\tremaining: 2.12s\n",
      "239:\tlearn: 0.0252925\ttotal: 1.96s\tremaining: 2.12s\n",
      "240:\tlearn: 0.0250951\ttotal: 1.97s\tremaining: 2.12s\n",
      "241:\tlearn: 0.0250741\ttotal: 1.98s\tremaining: 2.11s\n",
      "242:\tlearn: 0.0249350\ttotal: 1.99s\tremaining: 2.1s\n",
      "243:\tlearn: 0.0248461\ttotal: 2s\tremaining: 2.1s\n",
      "244:\tlearn: 0.0247887\ttotal: 2.02s\tremaining: 2.1s\n",
      "245:\tlearn: 0.0246299\ttotal: 2.03s\tremaining: 2.1s\n",
      "246:\tlearn: 0.0243177\ttotal: 2.05s\tremaining: 2.1s\n",
      "247:\tlearn: 0.0241248\ttotal: 2.06s\tremaining: 2.09s\n",
      "248:\tlearn: 0.0238027\ttotal: 2.07s\tremaining: 2.08s\n",
      "249:\tlearn: 0.0237306\ttotal: 2.08s\tremaining: 2.08s\n",
      "250:\tlearn: 0.0235101\ttotal: 2.08s\tremaining: 2.07s\n",
      "251:\tlearn: 0.0234799\ttotal: 2.1s\tremaining: 2.07s\n",
      "252:\tlearn: 0.0233006\ttotal: 2.11s\tremaining: 2.06s\n",
      "253:\tlearn: 0.0230645\ttotal: 2.12s\tremaining: 2.06s\n",
      "254:\tlearn: 0.0228748\ttotal: 2.13s\tremaining: 2.05s\n",
      "255:\tlearn: 0.0227982\ttotal: 2.15s\tremaining: 2.04s\n",
      "256:\tlearn: 0.0225841\ttotal: 2.15s\tremaining: 2.04s\n",
      "257:\tlearn: 0.0223916\ttotal: 2.16s\tremaining: 2.02s\n",
      "258:\tlearn: 0.0221234\ttotal: 2.17s\tremaining: 2.02s\n",
      "259:\tlearn: 0.0220642\ttotal: 2.17s\tremaining: 2.01s\n",
      "260:\tlearn: 0.0219084\ttotal: 2.18s\tremaining: 2s\n",
      "261:\tlearn: 0.0217435\ttotal: 2.19s\tremaining: 1.99s\n",
      "262:\tlearn: 0.0217058\ttotal: 2.21s\tremaining: 1.99s\n",
      "263:\tlearn: 0.0216908\ttotal: 2.22s\tremaining: 1.99s\n",
      "264:\tlearn: 0.0215761\ttotal: 2.23s\tremaining: 1.98s\n",
      "265:\tlearn: 0.0215314\ttotal: 2.24s\tremaining: 1.97s\n",
      "266:\tlearn: 0.0214981\ttotal: 2.25s\tremaining: 1.96s\n",
      "267:\tlearn: 0.0213078\ttotal: 2.25s\tremaining: 1.95s\n",
      "268:\tlearn: 0.0212152\ttotal: 2.26s\tremaining: 1.94s\n",
      "269:\tlearn: 0.0211249\ttotal: 2.27s\tremaining: 1.94s\n",
      "270:\tlearn: 0.0210186\ttotal: 2.28s\tremaining: 1.93s\n",
      "271:\tlearn: 0.0208170\ttotal: 2.29s\tremaining: 1.92s\n",
      "272:\tlearn: 0.0207473\ttotal: 2.3s\tremaining: 1.91s\n",
      "273:\tlearn: 0.0206575\ttotal: 2.31s\tremaining: 1.9s\n",
      "274:\tlearn: 0.0206238\ttotal: 2.31s\tremaining: 1.89s\n",
      "275:\tlearn: 0.0203479\ttotal: 2.32s\tremaining: 1.89s\n",
      "276:\tlearn: 0.0202428\ttotal: 2.33s\tremaining: 1.88s\n",
      "277:\tlearn: 0.0201018\ttotal: 2.34s\tremaining: 1.87s\n",
      "278:\tlearn: 0.0200382\ttotal: 2.35s\tremaining: 1.86s\n",
      "279:\tlearn: 0.0198944\ttotal: 2.36s\tremaining: 1.85s\n",
      "280:\tlearn: 0.0198722\ttotal: 2.37s\tremaining: 1.84s\n",
      "281:\tlearn: 0.0198121\ttotal: 2.37s\tremaining: 1.83s\n",
      "282:\tlearn: 0.0197801\ttotal: 2.38s\tremaining: 1.82s\n",
      "283:\tlearn: 0.0196238\ttotal: 2.39s\tremaining: 1.81s\n",
      "284:\tlearn: 0.0195545\ttotal: 2.39s\tremaining: 1.8s\n",
      "285:\tlearn: 0.0194565\ttotal: 2.4s\tremaining: 1.8s\n",
      "286:\tlearn: 0.0192817\ttotal: 2.41s\tremaining: 1.79s\n",
      "287:\tlearn: 0.0191100\ttotal: 2.42s\tremaining: 1.78s\n",
      "288:\tlearn: 0.0190218\ttotal: 2.42s\tremaining: 1.77s\n",
      "289:\tlearn: 0.0188824\ttotal: 2.43s\tremaining: 1.76s\n",
      "290:\tlearn: 0.0188595\ttotal: 2.43s\tremaining: 1.75s\n",
      "291:\tlearn: 0.0187552\ttotal: 2.44s\tremaining: 1.74s\n",
      "292:\tlearn: 0.0187352\ttotal: 2.45s\tremaining: 1.73s\n",
      "293:\tlearn: 0.0186050\ttotal: 2.46s\tremaining: 1.73s\n",
      "294:\tlearn: 0.0185371\ttotal: 2.47s\tremaining: 1.72s\n",
      "295:\tlearn: 0.0184968\ttotal: 2.48s\tremaining: 1.71s\n",
      "296:\tlearn: 0.0183957\ttotal: 2.49s\tremaining: 1.7s\n",
      "297:\tlearn: 0.0183579\ttotal: 2.5s\tremaining: 1.69s\n",
      "298:\tlearn: 0.0182291\ttotal: 2.5s\tremaining: 1.68s\n",
      "299:\tlearn: 0.0181118\ttotal: 2.51s\tremaining: 1.67s\n",
      "300:\tlearn: 0.0179257\ttotal: 2.52s\tremaining: 1.67s\n",
      "301:\tlearn: 0.0178171\ttotal: 2.53s\tremaining: 1.66s\n",
      "302:\tlearn: 0.0178071\ttotal: 2.54s\tremaining: 1.65s\n",
      "303:\tlearn: 0.0177414\ttotal: 2.55s\tremaining: 1.64s\n",
      "304:\tlearn: 0.0176848\ttotal: 2.56s\tremaining: 1.64s\n",
      "305:\tlearn: 0.0176248\ttotal: 2.56s\tremaining: 1.63s\n",
      "306:\tlearn: 0.0175358\ttotal: 2.57s\tremaining: 1.62s\n",
      "307:\tlearn: 0.0175141\ttotal: 2.58s\tremaining: 1.61s\n",
      "308:\tlearn: 0.0174164\ttotal: 2.59s\tremaining: 1.6s\n",
      "309:\tlearn: 0.0173283\ttotal: 2.6s\tremaining: 1.59s\n",
      "310:\tlearn: 0.0172872\ttotal: 2.6s\tremaining: 1.58s\n",
      "311:\tlearn: 0.0171887\ttotal: 2.61s\tremaining: 1.57s\n",
      "312:\tlearn: 0.0170788\ttotal: 2.62s\tremaining: 1.56s\n",
      "313:\tlearn: 0.0170343\ttotal: 2.62s\tremaining: 1.55s\n",
      "314:\tlearn: 0.0169461\ttotal: 2.63s\tremaining: 1.54s\n",
      "315:\tlearn: 0.0168769\ttotal: 2.63s\tremaining: 1.53s\n",
      "316:\tlearn: 0.0168212\ttotal: 2.64s\tremaining: 1.52s\n",
      "317:\tlearn: 0.0167070\ttotal: 2.65s\tremaining: 1.51s\n",
      "318:\tlearn: 0.0166920\ttotal: 2.65s\tremaining: 1.5s\n",
      "319:\tlearn: 0.0166468\ttotal: 2.66s\tremaining: 1.5s\n",
      "320:\tlearn: 0.0165334\ttotal: 2.67s\tremaining: 1.49s\n",
      "321:\tlearn: 0.0164480\ttotal: 2.67s\tremaining: 1.48s\n",
      "322:\tlearn: 0.0163928\ttotal: 2.68s\tremaining: 1.47s\n",
      "323:\tlearn: 0.0163313\ttotal: 2.68s\tremaining: 1.46s\n",
      "324:\tlearn: 0.0162202\ttotal: 2.69s\tremaining: 1.45s\n",
      "325:\tlearn: 0.0161973\ttotal: 2.7s\tremaining: 1.44s\n",
      "326:\tlearn: 0.0161837\ttotal: 2.71s\tremaining: 1.43s\n",
      "327:\tlearn: 0.0161555\ttotal: 2.72s\tremaining: 1.43s\n",
      "328:\tlearn: 0.0161370\ttotal: 2.73s\tremaining: 1.42s\n",
      "329:\tlearn: 0.0159797\ttotal: 2.74s\tremaining: 1.41s\n",
      "330:\tlearn: 0.0159173\ttotal: 2.74s\tremaining: 1.4s\n",
      "331:\tlearn: 0.0159013\ttotal: 2.75s\tremaining: 1.39s\n",
      "332:\tlearn: 0.0158587\ttotal: 2.76s\tremaining: 1.38s\n",
      "333:\tlearn: 0.0158264\ttotal: 2.77s\tremaining: 1.38s\n",
      "334:\tlearn: 0.0157673\ttotal: 2.77s\tremaining: 1.37s\n",
      "335:\tlearn: 0.0157555\ttotal: 2.78s\tremaining: 1.36s\n",
      "336:\tlearn: 0.0156609\ttotal: 2.79s\tremaining: 1.35s\n",
      "337:\tlearn: 0.0156157\ttotal: 2.8s\tremaining: 1.34s\n",
      "338:\tlearn: 0.0156009\ttotal: 2.83s\tremaining: 1.34s\n",
      "339:\tlearn: 0.0155860\ttotal: 2.84s\tremaining: 1.33s\n",
      "340:\tlearn: 0.0155699\ttotal: 2.84s\tremaining: 1.33s\n",
      "341:\tlearn: 0.0155470\ttotal: 2.85s\tremaining: 1.32s\n",
      "342:\tlearn: 0.0154499\ttotal: 2.86s\tremaining: 1.31s\n",
      "343:\tlearn: 0.0154292\ttotal: 2.87s\tremaining: 1.3s\n",
      "344:\tlearn: 0.0153754\ttotal: 2.88s\tremaining: 1.29s\n",
      "345:\tlearn: 0.0153680\ttotal: 2.89s\tremaining: 1.29s\n",
      "346:\tlearn: 0.0153555\ttotal: 2.91s\tremaining: 1.28s\n",
      "347:\tlearn: 0.0152461\ttotal: 2.93s\tremaining: 1.28s\n",
      "348:\tlearn: 0.0152005\ttotal: 2.94s\tremaining: 1.27s\n",
      "349:\tlearn: 0.0150834\ttotal: 2.95s\tremaining: 1.26s\n",
      "350:\tlearn: 0.0149846\ttotal: 2.96s\tremaining: 1.25s\n",
      "351:\tlearn: 0.0148617\ttotal: 2.96s\tremaining: 1.25s\n",
      "352:\tlearn: 0.0148542\ttotal: 2.97s\tremaining: 1.24s\n",
      "353:\tlearn: 0.0148178\ttotal: 2.98s\tremaining: 1.23s\n",
      "354:\tlearn: 0.0148075\ttotal: 2.98s\tremaining: 1.22s\n",
      "355:\tlearn: 0.0147829\ttotal: 2.99s\tremaining: 1.21s\n",
      "356:\tlearn: 0.0147462\ttotal: 3s\tremaining: 1.2s\n",
      "357:\tlearn: 0.0147207\ttotal: 3s\tremaining: 1.19s\n",
      "358:\tlearn: 0.0146119\ttotal: 3.01s\tremaining: 1.18s\n",
      "359:\tlearn: 0.0146061\ttotal: 3.02s\tremaining: 1.17s\n",
      "360:\tlearn: 0.0144880\ttotal: 3.02s\tremaining: 1.16s\n",
      "361:\tlearn: 0.0143882\ttotal: 3.03s\tremaining: 1.15s\n",
      "362:\tlearn: 0.0143576\ttotal: 3.04s\tremaining: 1.15s\n",
      "363:\tlearn: 0.0143437\ttotal: 3.04s\tremaining: 1.14s\n",
      "364:\tlearn: 0.0143246\ttotal: 3.05s\tremaining: 1.13s\n",
      "365:\tlearn: 0.0143182\ttotal: 3.06s\tremaining: 1.12s\n",
      "366:\tlearn: 0.0142486\ttotal: 3.06s\tremaining: 1.11s\n",
      "367:\tlearn: 0.0142048\ttotal: 3.07s\tremaining: 1.1s\n",
      "368:\tlearn: 0.0141690\ttotal: 3.08s\tremaining: 1.09s\n",
      "369:\tlearn: 0.0140818\ttotal: 3.08s\tremaining: 1.08s\n",
      "370:\tlearn: 0.0139948\ttotal: 3.09s\tremaining: 1.07s\n",
      "371:\tlearn: 0.0139475\ttotal: 3.1s\tremaining: 1.06s\n",
      "372:\tlearn: 0.0139382\ttotal: 3.11s\tremaining: 1.06s\n",
      "373:\tlearn: 0.0138663\ttotal: 3.12s\tremaining: 1.05s\n",
      "374:\tlearn: 0.0137941\ttotal: 3.13s\tremaining: 1.04s\n",
      "375:\tlearn: 0.0137676\ttotal: 3.13s\tremaining: 1.03s\n",
      "376:\tlearn: 0.0137051\ttotal: 3.14s\tremaining: 1.02s\n",
      "377:\tlearn: 0.0136329\ttotal: 3.15s\tremaining: 1.02s\n",
      "378:\tlearn: 0.0136124\ttotal: 3.16s\tremaining: 1.01s\n",
      "379:\tlearn: 0.0135545\ttotal: 3.17s\tremaining: 1s\n",
      "380:\tlearn: 0.0134547\ttotal: 3.18s\tremaining: 993ms\n",
      "381:\tlearn: 0.0134000\ttotal: 3.19s\tremaining: 985ms\n",
      "382:\tlearn: 0.0133260\ttotal: 3.2s\tremaining: 976ms\n",
      "383:\tlearn: 0.0133208\ttotal: 3.21s\tremaining: 968ms\n",
      "384:\tlearn: 0.0132545\ttotal: 3.22s\tremaining: 962ms\n",
      "385:\tlearn: 0.0131689\ttotal: 3.23s\tremaining: 953ms\n",
      "386:\tlearn: 0.0131581\ttotal: 3.23s\tremaining: 945ms\n",
      "387:\tlearn: 0.0131386\ttotal: 3.24s\tremaining: 936ms\n",
      "388:\tlearn: 0.0130615\ttotal: 3.25s\tremaining: 927ms\n",
      "389:\tlearn: 0.0130523\ttotal: 3.25s\tremaining: 918ms\n",
      "390:\tlearn: 0.0129575\ttotal: 3.26s\tremaining: 909ms\n",
      "391:\tlearn: 0.0129221\ttotal: 3.27s\tremaining: 900ms\n",
      "392:\tlearn: 0.0128769\ttotal: 3.27s\tremaining: 891ms\n",
      "393:\tlearn: 0.0128670\ttotal: 3.28s\tremaining: 882ms\n",
      "394:\tlearn: 0.0128145\ttotal: 3.29s\tremaining: 873ms\n",
      "395:\tlearn: 0.0128061\ttotal: 3.29s\tremaining: 865ms\n",
      "396:\tlearn: 0.0127287\ttotal: 3.3s\tremaining: 856ms\n",
      "397:\tlearn: 0.0126666\ttotal: 3.31s\tremaining: 847ms\n",
      "398:\tlearn: 0.0126646\ttotal: 3.31s\tremaining: 839ms\n",
      "399:\tlearn: 0.0126014\ttotal: 3.32s\tremaining: 830ms\n",
      "400:\tlearn: 0.0125822\ttotal: 3.33s\tremaining: 821ms\n",
      "401:\tlearn: 0.0125718\ttotal: 3.33s\tremaining: 813ms\n",
      "402:\tlearn: 0.0124997\ttotal: 3.35s\tremaining: 805ms\n",
      "403:\tlearn: 0.0124872\ttotal: 3.35s\tremaining: 797ms\n",
      "404:\tlearn: 0.0124451\ttotal: 3.36s\tremaining: 789ms\n",
      "405:\tlearn: 0.0123792\ttotal: 3.37s\tremaining: 780ms\n",
      "406:\tlearn: 0.0123668\ttotal: 3.38s\tremaining: 772ms\n",
      "407:\tlearn: 0.0123616\ttotal: 3.39s\tremaining: 764ms\n",
      "408:\tlearn: 0.0122864\ttotal: 3.39s\tremaining: 755ms\n",
      "409:\tlearn: 0.0122130\ttotal: 3.4s\tremaining: 746ms\n",
      "410:\tlearn: 0.0121592\ttotal: 3.4s\tremaining: 737ms\n",
      "411:\tlearn: 0.0121154\ttotal: 3.41s\tremaining: 729ms\n",
      "412:\tlearn: 0.0120469\ttotal: 3.42s\tremaining: 721ms\n",
      "413:\tlearn: 0.0119715\ttotal: 3.43s\tremaining: 712ms\n",
      "414:\tlearn: 0.0119541\ttotal: 3.44s\tremaining: 704ms\n",
      "415:\tlearn: 0.0119460\ttotal: 3.44s\tremaining: 695ms\n",
      "416:\tlearn: 0.0119442\ttotal: 3.45s\tremaining: 687ms\n",
      "417:\tlearn: 0.0119308\ttotal: 3.46s\tremaining: 678ms\n",
      "418:\tlearn: 0.0119095\ttotal: 3.47s\tremaining: 670ms\n",
      "419:\tlearn: 0.0118492\ttotal: 3.48s\tremaining: 663ms\n",
      "420:\tlearn: 0.0118126\ttotal: 3.49s\tremaining: 655ms\n",
      "421:\tlearn: 0.0118025\ttotal: 3.5s\tremaining: 646ms\n",
      "422:\tlearn: 0.0117536\ttotal: 3.5s\tremaining: 638ms\n",
      "423:\tlearn: 0.0117205\ttotal: 3.51s\tremaining: 630ms\n",
      "424:\tlearn: 0.0117116\ttotal: 3.52s\tremaining: 621ms\n",
      "425:\tlearn: 0.0116932\ttotal: 3.53s\tremaining: 613ms\n",
      "426:\tlearn: 0.0116624\ttotal: 3.54s\tremaining: 605ms\n",
      "427:\tlearn: 0.0116250\ttotal: 3.55s\tremaining: 597ms\n",
      "428:\tlearn: 0.0115821\ttotal: 3.56s\tremaining: 588ms\n",
      "429:\tlearn: 0.0115738\ttotal: 3.56s\tremaining: 580ms\n",
      "430:\tlearn: 0.0115119\ttotal: 3.57s\tremaining: 572ms\n",
      "431:\tlearn: 0.0114840\ttotal: 3.58s\tremaining: 564ms\n",
      "432:\tlearn: 0.0114382\ttotal: 3.59s\tremaining: 555ms\n",
      "433:\tlearn: 0.0113685\ttotal: 3.6s\tremaining: 547ms\n",
      "434:\tlearn: 0.0113463\ttotal: 3.6s\tremaining: 538ms\n",
      "435:\tlearn: 0.0112665\ttotal: 3.61s\tremaining: 530ms\n",
      "436:\tlearn: 0.0112148\ttotal: 3.62s\tremaining: 521ms\n",
      "437:\tlearn: 0.0111515\ttotal: 3.62s\tremaining: 513ms\n",
      "438:\tlearn: 0.0110880\ttotal: 3.63s\tremaining: 505ms\n",
      "439:\tlearn: 0.0110627\ttotal: 3.64s\tremaining: 497ms\n",
      "440:\tlearn: 0.0110402\ttotal: 3.65s\tremaining: 489ms\n",
      "441:\tlearn: 0.0110380\ttotal: 3.66s\tremaining: 480ms\n",
      "442:\tlearn: 0.0110063\ttotal: 3.67s\tremaining: 472ms\n",
      "443:\tlearn: 0.0109699\ttotal: 3.67s\tremaining: 463ms\n",
      "444:\tlearn: 0.0109384\ttotal: 3.68s\tremaining: 455ms\n",
      "445:\tlearn: 0.0109300\ttotal: 3.69s\tremaining: 447ms\n",
      "446:\tlearn: 0.0109041\ttotal: 3.7s\tremaining: 438ms\n",
      "447:\tlearn: 0.0108185\ttotal: 3.7s\tremaining: 430ms\n",
      "448:\tlearn: 0.0107967\ttotal: 3.71s\tremaining: 422ms\n",
      "449:\tlearn: 0.0107951\ttotal: 3.72s\tremaining: 413ms\n",
      "450:\tlearn: 0.0107786\ttotal: 3.73s\tremaining: 405ms\n",
      "451:\tlearn: 0.0107786\ttotal: 3.73s\tremaining: 396ms\n",
      "452:\tlearn: 0.0107490\ttotal: 3.74s\tremaining: 388ms\n",
      "453:\tlearn: 0.0107456\ttotal: 3.75s\tremaining: 380ms\n",
      "454:\tlearn: 0.0107193\ttotal: 3.75s\tremaining: 371ms\n",
      "455:\tlearn: 0.0107162\ttotal: 3.76s\tremaining: 363ms\n",
      "456:\tlearn: 0.0106774\ttotal: 3.77s\tremaining: 355ms\n",
      "457:\tlearn: 0.0106669\ttotal: 3.78s\tremaining: 346ms\n",
      "458:\tlearn: 0.0105984\ttotal: 3.78s\tremaining: 338ms\n",
      "459:\tlearn: 0.0105457\ttotal: 3.79s\tremaining: 330ms\n",
      "460:\tlearn: 0.0104977\ttotal: 3.8s\tremaining: 321ms\n",
      "461:\tlearn: 0.0104901\ttotal: 3.8s\tremaining: 313ms\n",
      "462:\tlearn: 0.0104852\ttotal: 3.81s\tremaining: 305ms\n",
      "463:\tlearn: 0.0104814\ttotal: 3.82s\tremaining: 296ms\n",
      "464:\tlearn: 0.0104761\ttotal: 3.83s\tremaining: 288ms\n",
      "465:\tlearn: 0.0104657\ttotal: 3.83s\tremaining: 280ms\n",
      "466:\tlearn: 0.0104242\ttotal: 3.84s\tremaining: 271ms\n",
      "467:\tlearn: 0.0103701\ttotal: 3.85s\tremaining: 263ms\n",
      "468:\tlearn: 0.0103628\ttotal: 3.85s\tremaining: 255ms\n",
      "469:\tlearn: 0.0103265\ttotal: 3.86s\tremaining: 246ms\n",
      "470:\tlearn: 0.0103190\ttotal: 3.87s\tremaining: 238ms\n",
      "471:\tlearn: 0.0102720\ttotal: 3.88s\tremaining: 230ms\n",
      "472:\tlearn: 0.0102696\ttotal: 3.89s\tremaining: 222ms\n",
      "473:\tlearn: 0.0102696\ttotal: 3.89s\tremaining: 214ms\n",
      "474:\tlearn: 0.0102663\ttotal: 3.9s\tremaining: 205ms\n",
      "475:\tlearn: 0.0102250\ttotal: 3.91s\tremaining: 197ms\n",
      "476:\tlearn: 0.0101681\ttotal: 3.91s\tremaining: 189ms\n",
      "477:\tlearn: 0.0101269\ttotal: 3.92s\tremaining: 180ms\n",
      "478:\tlearn: 0.0100717\ttotal: 3.93s\tremaining: 172ms\n",
      "479:\tlearn: 0.0100659\ttotal: 3.94s\tremaining: 164ms\n",
      "480:\tlearn: 0.0100206\ttotal: 3.95s\tremaining: 156ms\n",
      "481:\tlearn: 0.0099831\ttotal: 3.95s\tremaining: 148ms\n",
      "482:\tlearn: 0.0099327\ttotal: 3.96s\tremaining: 139ms\n",
      "483:\tlearn: 0.0099241\ttotal: 3.96s\tremaining: 131ms\n",
      "484:\tlearn: 0.0098917\ttotal: 3.97s\tremaining: 123ms\n",
      "485:\tlearn: 0.0098409\ttotal: 3.98s\tremaining: 115ms\n",
      "486:\tlearn: 0.0098014\ttotal: 3.98s\tremaining: 106ms\n",
      "487:\tlearn: 0.0097912\ttotal: 3.99s\tremaining: 98.1ms\n",
      "488:\tlearn: 0.0097647\ttotal: 4s\tremaining: 89.9ms\n",
      "489:\tlearn: 0.0097240\ttotal: 4s\tremaining: 81.7ms\n",
      "490:\tlearn: 0.0096711\ttotal: 4.01s\tremaining: 73.5ms\n",
      "491:\tlearn: 0.0096482\ttotal: 4.02s\tremaining: 65.3ms\n",
      "492:\tlearn: 0.0096013\ttotal: 4.03s\tremaining: 57.2ms\n",
      "493:\tlearn: 0.0095370\ttotal: 4.03s\tremaining: 49ms\n",
      "494:\tlearn: 0.0095178\ttotal: 4.04s\tremaining: 40.8ms\n",
      "495:\tlearn: 0.0094844\ttotal: 4.05s\tremaining: 32.6ms\n",
      "496:\tlearn: 0.0094551\ttotal: 4.05s\tremaining: 24.5ms\n",
      "497:\tlearn: 0.0094166\ttotal: 4.06s\tremaining: 16.3ms\n",
      "498:\tlearn: 0.0093847\ttotal: 4.07s\tremaining: 8.15ms\n",
      "499:\tlearn: 0.0093833\ttotal: 4.07s\tremaining: 0us\n"
     ]
    },
    {
     "data": {
      "text/plain": [
       "{'depth': 8, 'iterations': 500, 'learning_rate': 0.1}"
      ]
     },
     "execution_count": 261,
     "metadata": {},
     "output_type": "execute_result"
    }
   ],
   "source": [
    "catb = CatBoostClassifier()\n",
    "catb_cv_model = GridSearchCV(catb, catb_params, cv=2, n_jobs = -1, verbose = 2)\n",
    "catb_cv_model.fit(X_train, y_train)\n",
    "catb_cv_model.best_params_"
   ]
  },
  {
   "cell_type": "code",
   "execution_count": 262,
   "metadata": {},
   "outputs": [
    {
     "data": {
      "text/plain": [
       "{'depth': 8, 'iterations': 500, 'learning_rate': 0.1}"
      ]
     },
     "execution_count": 262,
     "metadata": {},
     "output_type": "execute_result"
    }
   ],
   "source": [
    "catb_cv_model.best_params_"
   ]
  },
  {
   "cell_type": "code",
   "execution_count": 263,
   "metadata": {},
   "outputs": [
    {
     "name": "stdout",
     "output_type": "stream",
     "text": [
      "0:\tlearn: 0.6299210\ttotal: 14.1ms\tremaining: 7.03s\n",
      "1:\tlearn: 0.6012987\ttotal: 18.5ms\tremaining: 4.59s\n",
      "2:\tlearn: 0.5586401\ttotal: 41.6ms\tremaining: 6.89s\n",
      "3:\tlearn: 0.5293438\ttotal: 54.5ms\tremaining: 6.75s\n",
      "4:\tlearn: 0.5010737\ttotal: 81.8ms\tremaining: 8.1s\n",
      "5:\tlearn: 0.4761785\ttotal: 94.3ms\tremaining: 7.76s\n",
      "6:\tlearn: 0.4549779\ttotal: 107ms\tremaining: 7.52s\n",
      "7:\tlearn: 0.4335932\ttotal: 142ms\tremaining: 8.75s\n",
      "8:\tlearn: 0.4177409\ttotal: 156ms\tremaining: 8.49s\n",
      "9:\tlearn: 0.4051898\ttotal: 173ms\tremaining: 8.48s\n",
      "10:\tlearn: 0.3939146\ttotal: 182ms\tremaining: 8.07s\n",
      "11:\tlearn: 0.3794142\ttotal: 194ms\tremaining: 7.89s\n",
      "12:\tlearn: 0.3670691\ttotal: 206ms\tremaining: 7.72s\n",
      "13:\tlearn: 0.3584774\ttotal: 213ms\tremaining: 7.38s\n",
      "14:\tlearn: 0.3506715\ttotal: 223ms\tremaining: 7.21s\n",
      "15:\tlearn: 0.3377564\ttotal: 231ms\tremaining: 6.98s\n",
      "16:\tlearn: 0.3273857\ttotal: 239ms\tremaining: 6.8s\n",
      "17:\tlearn: 0.3202416\ttotal: 250ms\tremaining: 6.69s\n",
      "18:\tlearn: 0.3115747\ttotal: 263ms\tremaining: 6.66s\n",
      "19:\tlearn: 0.3066545\ttotal: 278ms\tremaining: 6.68s\n",
      "20:\tlearn: 0.2998806\ttotal: 291ms\tremaining: 6.64s\n",
      "21:\tlearn: 0.2932559\ttotal: 306ms\tremaining: 6.64s\n",
      "22:\tlearn: 0.2881253\ttotal: 318ms\tremaining: 6.6s\n",
      "23:\tlearn: 0.2836197\ttotal: 325ms\tremaining: 6.45s\n",
      "24:\tlearn: 0.2808234\ttotal: 333ms\tremaining: 6.33s\n",
      "25:\tlearn: 0.2775979\ttotal: 340ms\tremaining: 6.19s\n",
      "26:\tlearn: 0.2695533\ttotal: 348ms\tremaining: 6.1s\n",
      "27:\tlearn: 0.2653897\ttotal: 362ms\tremaining: 6.1s\n",
      "28:\tlearn: 0.2604882\ttotal: 369ms\tremaining: 5.99s\n",
      "29:\tlearn: 0.2555020\ttotal: 379ms\tremaining: 5.93s\n",
      "30:\tlearn: 0.2463750\ttotal: 385ms\tremaining: 5.83s\n",
      "31:\tlearn: 0.2426333\ttotal: 393ms\tremaining: 5.75s\n",
      "32:\tlearn: 0.2395203\ttotal: 402ms\tremaining: 5.69s\n",
      "33:\tlearn: 0.2334492\ttotal: 410ms\tremaining: 5.62s\n",
      "34:\tlearn: 0.2303329\ttotal: 417ms\tremaining: 5.53s\n",
      "35:\tlearn: 0.2273400\ttotal: 425ms\tremaining: 5.48s\n",
      "36:\tlearn: 0.2223040\ttotal: 432ms\tremaining: 5.4s\n",
      "37:\tlearn: 0.2190003\ttotal: 440ms\tremaining: 5.34s\n",
      "38:\tlearn: 0.2148220\ttotal: 447ms\tremaining: 5.28s\n",
      "39:\tlearn: 0.2123206\ttotal: 454ms\tremaining: 5.22s\n",
      "40:\tlearn: 0.2084317\ttotal: 461ms\tremaining: 5.16s\n",
      "41:\tlearn: 0.2054004\ttotal: 468ms\tremaining: 5.1s\n",
      "42:\tlearn: 0.2010749\ttotal: 475ms\tremaining: 5.05s\n",
      "43:\tlearn: 0.1993423\ttotal: 481ms\tremaining: 4.99s\n",
      "44:\tlearn: 0.1969309\ttotal: 490ms\tremaining: 4.96s\n",
      "45:\tlearn: 0.1940557\ttotal: 497ms\tremaining: 4.9s\n",
      "46:\tlearn: 0.1899044\ttotal: 507ms\tremaining: 4.89s\n",
      "47:\tlearn: 0.1888661\ttotal: 514ms\tremaining: 4.84s\n",
      "48:\tlearn: 0.1863727\ttotal: 520ms\tremaining: 4.79s\n",
      "49:\tlearn: 0.1826907\ttotal: 527ms\tremaining: 4.74s\n",
      "50:\tlearn: 0.1796325\ttotal: 535ms\tremaining: 4.71s\n",
      "51:\tlearn: 0.1776462\ttotal: 543ms\tremaining: 4.68s\n",
      "52:\tlearn: 0.1755196\ttotal: 550ms\tremaining: 4.64s\n",
      "53:\tlearn: 0.1724958\ttotal: 557ms\tremaining: 4.6s\n",
      "54:\tlearn: 0.1707290\ttotal: 564ms\tremaining: 4.57s\n",
      "55:\tlearn: 0.1684020\ttotal: 572ms\tremaining: 4.53s\n",
      "56:\tlearn: 0.1658374\ttotal: 579ms\tremaining: 4.5s\n",
      "57:\tlearn: 0.1629652\ttotal: 587ms\tremaining: 4.47s\n",
      "58:\tlearn: 0.1612496\ttotal: 599ms\tremaining: 4.48s\n",
      "59:\tlearn: 0.1575642\ttotal: 609ms\tremaining: 4.46s\n",
      "60:\tlearn: 0.1561901\ttotal: 615ms\tremaining: 4.42s\n",
      "61:\tlearn: 0.1548131\ttotal: 620ms\tremaining: 4.38s\n",
      "62:\tlearn: 0.1518096\ttotal: 629ms\tremaining: 4.36s\n",
      "63:\tlearn: 0.1488266\ttotal: 635ms\tremaining: 4.33s\n",
      "64:\tlearn: 0.1459984\ttotal: 646ms\tremaining: 4.32s\n",
      "65:\tlearn: 0.1435567\ttotal: 652ms\tremaining: 4.29s\n",
      "66:\tlearn: 0.1405097\ttotal: 661ms\tremaining: 4.27s\n",
      "67:\tlearn: 0.1401624\ttotal: 668ms\tremaining: 4.24s\n",
      "68:\tlearn: 0.1375327\ttotal: 676ms\tremaining: 4.22s\n",
      "69:\tlearn: 0.1354387\ttotal: 685ms\tremaining: 4.21s\n",
      "70:\tlearn: 0.1336196\ttotal: 692ms\tremaining: 4.18s\n",
      "71:\tlearn: 0.1326111\ttotal: 700ms\tremaining: 4.16s\n",
      "72:\tlearn: 0.1294821\ttotal: 706ms\tremaining: 4.13s\n",
      "73:\tlearn: 0.1278752\ttotal: 715ms\tremaining: 4.11s\n",
      "74:\tlearn: 0.1253467\ttotal: 721ms\tremaining: 4.09s\n",
      "75:\tlearn: 0.1237115\ttotal: 728ms\tremaining: 4.06s\n",
      "76:\tlearn: 0.1233572\ttotal: 736ms\tremaining: 4.04s\n",
      "77:\tlearn: 0.1221480\ttotal: 743ms\tremaining: 4.02s\n",
      "78:\tlearn: 0.1213049\ttotal: 749ms\tremaining: 3.99s\n",
      "79:\tlearn: 0.1198312\ttotal: 755ms\tremaining: 3.96s\n",
      "80:\tlearn: 0.1190067\ttotal: 762ms\tremaining: 3.94s\n",
      "81:\tlearn: 0.1177525\ttotal: 768ms\tremaining: 3.92s\n",
      "82:\tlearn: 0.1159833\ttotal: 776ms\tremaining: 3.9s\n",
      "83:\tlearn: 0.1153665\ttotal: 786ms\tremaining: 3.89s\n",
      "84:\tlearn: 0.1129850\ttotal: 798ms\tremaining: 3.9s\n",
      "85:\tlearn: 0.1105823\ttotal: 806ms\tremaining: 3.88s\n",
      "86:\tlearn: 0.1080449\ttotal: 817ms\tremaining: 3.88s\n",
      "87:\tlearn: 0.1062318\ttotal: 827ms\tremaining: 3.87s\n",
      "88:\tlearn: 0.1050759\ttotal: 835ms\tremaining: 3.85s\n",
      "89:\tlearn: 0.1043664\ttotal: 843ms\tremaining: 3.84s\n",
      "90:\tlearn: 0.1025169\ttotal: 854ms\tremaining: 3.84s\n",
      "91:\tlearn: 0.1001503\ttotal: 864ms\tremaining: 3.83s\n",
      "92:\tlearn: 0.0993171\ttotal: 873ms\tremaining: 3.82s\n",
      "93:\tlearn: 0.0977603\ttotal: 880ms\tremaining: 3.8s\n",
      "94:\tlearn: 0.0972870\ttotal: 890ms\tremaining: 3.79s\n",
      "95:\tlearn: 0.0955619\ttotal: 897ms\tremaining: 3.77s\n",
      "96:\tlearn: 0.0950013\ttotal: 905ms\tremaining: 3.76s\n",
      "97:\tlearn: 0.0944745\ttotal: 911ms\tremaining: 3.74s\n",
      "98:\tlearn: 0.0939875\ttotal: 919ms\tremaining: 3.72s\n",
      "99:\tlearn: 0.0920955\ttotal: 925ms\tremaining: 3.7s\n",
      "100:\tlearn: 0.0908058\ttotal: 933ms\tremaining: 3.69s\n",
      "101:\tlearn: 0.0901619\ttotal: 940ms\tremaining: 3.67s\n",
      "102:\tlearn: 0.0893760\ttotal: 958ms\tremaining: 3.69s\n",
      "103:\tlearn: 0.0886488\ttotal: 968ms\tremaining: 3.68s\n",
      "104:\tlearn: 0.0873476\ttotal: 975ms\tremaining: 3.67s\n",
      "105:\tlearn: 0.0870084\ttotal: 984ms\tremaining: 3.66s\n",
      "106:\tlearn: 0.0845356\ttotal: 991ms\tremaining: 3.64s\n",
      "107:\tlearn: 0.0837069\ttotal: 1s\tremaining: 3.63s\n",
      "108:\tlearn: 0.0826810\ttotal: 1.01s\tremaining: 3.63s\n",
      "109:\tlearn: 0.0824101\ttotal: 1.02s\tremaining: 3.61s\n",
      "110:\tlearn: 0.0815373\ttotal: 1.03s\tremaining: 3.6s\n",
      "111:\tlearn: 0.0801896\ttotal: 1.03s\tremaining: 3.58s\n",
      "112:\tlearn: 0.0794364\ttotal: 1.04s\tremaining: 3.58s\n",
      "113:\tlearn: 0.0787215\ttotal: 1.05s\tremaining: 3.57s\n",
      "114:\tlearn: 0.0781686\ttotal: 1.06s\tremaining: 3.56s\n",
      "115:\tlearn: 0.0774999\ttotal: 1.07s\tremaining: 3.55s\n",
      "116:\tlearn: 0.0762556\ttotal: 1.08s\tremaining: 3.53s\n",
      "117:\tlearn: 0.0758387\ttotal: 1.08s\tremaining: 3.51s\n",
      "118:\tlearn: 0.0752547\ttotal: 1.09s\tremaining: 3.5s\n",
      "119:\tlearn: 0.0749542\ttotal: 1.1s\tremaining: 3.48s\n",
      "120:\tlearn: 0.0738526\ttotal: 1.1s\tremaining: 3.46s\n",
      "121:\tlearn: 0.0730859\ttotal: 1.12s\tremaining: 3.46s\n",
      "122:\tlearn: 0.0728169\ttotal: 1.13s\tremaining: 3.47s\n",
      "123:\tlearn: 0.0722779\ttotal: 1.14s\tremaining: 3.45s\n",
      "124:\tlearn: 0.0721076\ttotal: 1.15s\tremaining: 3.44s\n",
      "125:\tlearn: 0.0716932\ttotal: 1.15s\tremaining: 3.42s\n",
      "126:\tlearn: 0.0711903\ttotal: 1.16s\tremaining: 3.42s\n",
      "127:\tlearn: 0.0708849\ttotal: 1.17s\tremaining: 3.41s\n",
      "128:\tlearn: 0.0706559\ttotal: 1.19s\tremaining: 3.43s\n",
      "129:\tlearn: 0.0692751\ttotal: 1.21s\tremaining: 3.43s\n",
      "130:\tlearn: 0.0691088\ttotal: 1.21s\tremaining: 3.41s\n",
      "131:\tlearn: 0.0685610\ttotal: 1.22s\tremaining: 3.39s\n",
      "132:\tlearn: 0.0674623\ttotal: 1.23s\tremaining: 3.38s\n",
      "133:\tlearn: 0.0660635\ttotal: 1.23s\tremaining: 3.37s\n",
      "134:\tlearn: 0.0643053\ttotal: 1.24s\tremaining: 3.35s\n",
      "135:\tlearn: 0.0630385\ttotal: 1.25s\tremaining: 3.34s\n",
      "136:\tlearn: 0.0625676\ttotal: 1.26s\tremaining: 3.33s\n",
      "137:\tlearn: 0.0612429\ttotal: 1.26s\tremaining: 3.31s\n",
      "138:\tlearn: 0.0611898\ttotal: 1.27s\tremaining: 3.31s\n",
      "139:\tlearn: 0.0607127\ttotal: 1.29s\tremaining: 3.32s\n",
      "140:\tlearn: 0.0600069\ttotal: 1.3s\tremaining: 3.31s\n",
      "141:\tlearn: 0.0591628\ttotal: 1.31s\tremaining: 3.3s\n",
      "142:\tlearn: 0.0585514\ttotal: 1.32s\tremaining: 3.29s\n",
      "143:\tlearn: 0.0573695\ttotal: 1.32s\tremaining: 3.28s\n",
      "144:\tlearn: 0.0564510\ttotal: 1.34s\tremaining: 3.27s\n",
      "145:\tlearn: 0.0557337\ttotal: 1.34s\tremaining: 3.26s\n",
      "146:\tlearn: 0.0552070\ttotal: 1.35s\tremaining: 3.24s\n",
      "147:\tlearn: 0.0549229\ttotal: 1.36s\tremaining: 3.24s\n",
      "148:\tlearn: 0.0542706\ttotal: 1.37s\tremaining: 3.23s\n",
      "149:\tlearn: 0.0538379\ttotal: 1.38s\tremaining: 3.22s\n",
      "150:\tlearn: 0.0534371\ttotal: 1.38s\tremaining: 3.2s\n",
      "151:\tlearn: 0.0531271\ttotal: 1.39s\tremaining: 3.19s\n",
      "152:\tlearn: 0.0527556\ttotal: 1.4s\tremaining: 3.18s\n",
      "153:\tlearn: 0.0518462\ttotal: 1.41s\tremaining: 3.17s\n",
      "154:\tlearn: 0.0514904\ttotal: 1.42s\tremaining: 3.15s\n",
      "155:\tlearn: 0.0508559\ttotal: 1.42s\tremaining: 3.14s\n",
      "156:\tlearn: 0.0505778\ttotal: 1.43s\tremaining: 3.12s\n",
      "157:\tlearn: 0.0502661\ttotal: 1.43s\tremaining: 3.1s\n",
      "158:\tlearn: 0.0493940\ttotal: 1.44s\tremaining: 3.09s\n",
      "159:\tlearn: 0.0493085\ttotal: 1.45s\tremaining: 3.08s\n",
      "160:\tlearn: 0.0490444\ttotal: 1.46s\tremaining: 3.08s\n",
      "161:\tlearn: 0.0487610\ttotal: 1.47s\tremaining: 3.07s\n",
      "162:\tlearn: 0.0479586\ttotal: 1.48s\tremaining: 3.05s\n",
      "163:\tlearn: 0.0477193\ttotal: 1.49s\tremaining: 3.05s\n",
      "164:\tlearn: 0.0472078\ttotal: 1.49s\tremaining: 3.03s\n",
      "165:\tlearn: 0.0470658\ttotal: 1.5s\tremaining: 3.02s\n",
      "166:\tlearn: 0.0463652\ttotal: 1.51s\tremaining: 3.01s\n",
      "167:\tlearn: 0.0458657\ttotal: 1.52s\tremaining: 3s\n",
      "168:\tlearn: 0.0455682\ttotal: 1.53s\tremaining: 3s\n",
      "169:\tlearn: 0.0452888\ttotal: 1.54s\tremaining: 2.99s\n",
      "170:\tlearn: 0.0447703\ttotal: 1.55s\tremaining: 2.98s\n",
      "171:\tlearn: 0.0443368\ttotal: 1.56s\tremaining: 2.97s\n",
      "172:\tlearn: 0.0436892\ttotal: 1.56s\tremaining: 2.96s\n",
      "173:\tlearn: 0.0431142\ttotal: 1.57s\tremaining: 2.94s\n",
      "174:\tlearn: 0.0427011\ttotal: 1.59s\tremaining: 2.95s\n",
      "175:\tlearn: 0.0425025\ttotal: 1.59s\tremaining: 2.94s\n",
      "176:\tlearn: 0.0421720\ttotal: 1.6s\tremaining: 2.92s\n",
      "177:\tlearn: 0.0418052\ttotal: 1.61s\tremaining: 2.91s\n",
      "178:\tlearn: 0.0414525\ttotal: 1.61s\tremaining: 2.89s\n",
      "179:\tlearn: 0.0411347\ttotal: 1.62s\tremaining: 2.88s\n",
      "180:\tlearn: 0.0409561\ttotal: 1.63s\tremaining: 2.87s\n",
      "181:\tlearn: 0.0406330\ttotal: 1.63s\tremaining: 2.85s\n",
      "182:\tlearn: 0.0399707\ttotal: 1.64s\tremaining: 2.84s\n",
      "183:\tlearn: 0.0394163\ttotal: 1.64s\tremaining: 2.82s\n",
      "184:\tlearn: 0.0393433\ttotal: 1.65s\tremaining: 2.81s\n",
      "185:\tlearn: 0.0393082\ttotal: 1.66s\tremaining: 2.79s\n",
      "186:\tlearn: 0.0390379\ttotal: 1.66s\tremaining: 2.78s\n",
      "187:\tlearn: 0.0388779\ttotal: 1.67s\tremaining: 2.77s\n",
      "188:\tlearn: 0.0387184\ttotal: 1.67s\tremaining: 2.75s\n",
      "189:\tlearn: 0.0382399\ttotal: 1.68s\tremaining: 2.74s\n",
      "190:\tlearn: 0.0379585\ttotal: 1.69s\tremaining: 2.73s\n",
      "191:\tlearn: 0.0377951\ttotal: 1.69s\tremaining: 2.71s\n",
      "192:\tlearn: 0.0372025\ttotal: 1.7s\tremaining: 2.7s\n",
      "193:\tlearn: 0.0369379\ttotal: 1.7s\tremaining: 2.69s\n",
      "194:\tlearn: 0.0365361\ttotal: 1.71s\tremaining: 2.68s\n",
      "195:\tlearn: 0.0359675\ttotal: 1.72s\tremaining: 2.66s\n",
      "196:\tlearn: 0.0357482\ttotal: 1.72s\tremaining: 2.65s\n",
      "197:\tlearn: 0.0356546\ttotal: 1.73s\tremaining: 2.64s\n",
      "198:\tlearn: 0.0353375\ttotal: 1.74s\tremaining: 2.63s\n",
      "199:\tlearn: 0.0348605\ttotal: 1.75s\tremaining: 2.62s\n",
      "200:\tlearn: 0.0346272\ttotal: 1.75s\tremaining: 2.61s\n",
      "201:\tlearn: 0.0341182\ttotal: 1.76s\tremaining: 2.6s\n",
      "202:\tlearn: 0.0337118\ttotal: 1.76s\tremaining: 2.58s\n",
      "203:\tlearn: 0.0334620\ttotal: 1.77s\tremaining: 2.57s\n",
      "204:\tlearn: 0.0331716\ttotal: 1.78s\tremaining: 2.56s\n",
      "205:\tlearn: 0.0328870\ttotal: 1.78s\tremaining: 2.54s\n",
      "206:\tlearn: 0.0327098\ttotal: 1.79s\tremaining: 2.53s\n",
      "207:\tlearn: 0.0324956\ttotal: 1.79s\tremaining: 2.52s\n",
      "208:\tlearn: 0.0323781\ttotal: 1.8s\tremaining: 2.51s\n",
      "209:\tlearn: 0.0322566\ttotal: 1.81s\tremaining: 2.5s\n",
      "210:\tlearn: 0.0316521\ttotal: 1.81s\tremaining: 2.48s\n",
      "211:\tlearn: 0.0312568\ttotal: 1.82s\tremaining: 2.47s\n",
      "212:\tlearn: 0.0311145\ttotal: 1.82s\tremaining: 2.46s\n",
      "213:\tlearn: 0.0306947\ttotal: 1.83s\tremaining: 2.45s\n",
      "214:\tlearn: 0.0305707\ttotal: 1.84s\tremaining: 2.44s\n",
      "215:\tlearn: 0.0304529\ttotal: 1.84s\tremaining: 2.42s\n",
      "216:\tlearn: 0.0302521\ttotal: 1.85s\tremaining: 2.41s\n",
      "217:\tlearn: 0.0299767\ttotal: 1.85s\tremaining: 2.4s\n",
      "218:\tlearn: 0.0297517\ttotal: 1.86s\tremaining: 2.39s\n",
      "219:\tlearn: 0.0296420\ttotal: 1.87s\tremaining: 2.38s\n",
      "220:\tlearn: 0.0293512\ttotal: 1.87s\tremaining: 2.36s\n",
      "221:\tlearn: 0.0291033\ttotal: 1.88s\tremaining: 2.35s\n",
      "222:\tlearn: 0.0287138\ttotal: 1.88s\tremaining: 2.34s\n",
      "223:\tlearn: 0.0283106\ttotal: 1.89s\tremaining: 2.33s\n",
      "224:\tlearn: 0.0281622\ttotal: 1.9s\tremaining: 2.32s\n",
      "225:\tlearn: 0.0277949\ttotal: 1.9s\tremaining: 2.31s\n",
      "226:\tlearn: 0.0275002\ttotal: 1.91s\tremaining: 2.3s\n",
      "227:\tlearn: 0.0274247\ttotal: 1.92s\tremaining: 2.29s\n",
      "228:\tlearn: 0.0273272\ttotal: 1.93s\tremaining: 2.28s\n",
      "229:\tlearn: 0.0270145\ttotal: 1.94s\tremaining: 2.28s\n",
      "230:\tlearn: 0.0268835\ttotal: 1.95s\tremaining: 2.27s\n",
      "231:\tlearn: 0.0267929\ttotal: 1.95s\tremaining: 2.25s\n",
      "232:\tlearn: 0.0265847\ttotal: 1.96s\tremaining: 2.25s\n",
      "233:\tlearn: 0.0264347\ttotal: 1.97s\tremaining: 2.23s\n",
      "234:\tlearn: 0.0263110\ttotal: 1.97s\tremaining: 2.22s\n",
      "235:\tlearn: 0.0259991\ttotal: 1.98s\tremaining: 2.21s\n",
      "236:\tlearn: 0.0257048\ttotal: 1.99s\tremaining: 2.2s\n",
      "237:\tlearn: 0.0255956\ttotal: 1.99s\tremaining: 2.19s\n",
      "238:\tlearn: 0.0254457\ttotal: 2s\tremaining: 2.18s\n",
      "239:\tlearn: 0.0252925\ttotal: 2.01s\tremaining: 2.17s\n",
      "240:\tlearn: 0.0250951\ttotal: 2.01s\tremaining: 2.17s\n",
      "241:\tlearn: 0.0250741\ttotal: 2.03s\tremaining: 2.16s\n",
      "242:\tlearn: 0.0249350\ttotal: 2.04s\tremaining: 2.16s\n",
      "243:\tlearn: 0.0248461\ttotal: 2.05s\tremaining: 2.15s\n",
      "244:\tlearn: 0.0247887\ttotal: 2.06s\tremaining: 2.14s\n",
      "245:\tlearn: 0.0246299\ttotal: 2.06s\tremaining: 2.13s\n",
      "246:\tlearn: 0.0243177\ttotal: 2.07s\tremaining: 2.12s\n",
      "247:\tlearn: 0.0241248\ttotal: 2.08s\tremaining: 2.12s\n",
      "248:\tlearn: 0.0238027\ttotal: 2.1s\tremaining: 2.12s\n",
      "249:\tlearn: 0.0237306\ttotal: 2.11s\tremaining: 2.11s\n",
      "250:\tlearn: 0.0235101\ttotal: 2.12s\tremaining: 2.11s\n",
      "251:\tlearn: 0.0234799\ttotal: 2.13s\tremaining: 2.1s\n",
      "252:\tlearn: 0.0233006\ttotal: 2.14s\tremaining: 2.09s\n",
      "253:\tlearn: 0.0230645\ttotal: 2.15s\tremaining: 2.08s\n",
      "254:\tlearn: 0.0228748\ttotal: 2.15s\tremaining: 2.07s\n",
      "255:\tlearn: 0.0227982\ttotal: 2.17s\tremaining: 2.06s\n",
      "256:\tlearn: 0.0225841\ttotal: 2.17s\tremaining: 2.06s\n",
      "257:\tlearn: 0.0223916\ttotal: 2.19s\tremaining: 2.05s\n",
      "258:\tlearn: 0.0221234\ttotal: 2.2s\tremaining: 2.04s\n",
      "259:\tlearn: 0.0220642\ttotal: 2.2s\tremaining: 2.03s\n",
      "260:\tlearn: 0.0219084\ttotal: 2.21s\tremaining: 2.02s\n",
      "261:\tlearn: 0.0217435\ttotal: 2.22s\tremaining: 2.01s\n",
      "262:\tlearn: 0.0217058\ttotal: 2.22s\tremaining: 2s\n",
      "263:\tlearn: 0.0216908\ttotal: 2.23s\tremaining: 1.99s\n",
      "264:\tlearn: 0.0215761\ttotal: 2.25s\tremaining: 1.99s\n",
      "265:\tlearn: 0.0215314\ttotal: 2.25s\tremaining: 1.98s\n",
      "266:\tlearn: 0.0214981\ttotal: 2.26s\tremaining: 1.97s\n",
      "267:\tlearn: 0.0213078\ttotal: 2.27s\tremaining: 1.97s\n",
      "268:\tlearn: 0.0212152\ttotal: 2.28s\tremaining: 1.96s\n",
      "269:\tlearn: 0.0211249\ttotal: 2.29s\tremaining: 1.95s\n",
      "270:\tlearn: 0.0210186\ttotal: 2.3s\tremaining: 1.95s\n",
      "271:\tlearn: 0.0208170\ttotal: 2.31s\tremaining: 1.94s\n",
      "272:\tlearn: 0.0207473\ttotal: 2.32s\tremaining: 1.93s\n",
      "273:\tlearn: 0.0206575\ttotal: 2.32s\tremaining: 1.92s\n",
      "274:\tlearn: 0.0206238\ttotal: 2.33s\tremaining: 1.91s\n",
      "275:\tlearn: 0.0203479\ttotal: 2.34s\tremaining: 1.9s\n",
      "276:\tlearn: 0.0202428\ttotal: 2.35s\tremaining: 1.89s\n",
      "277:\tlearn: 0.0201018\ttotal: 2.35s\tremaining: 1.88s\n",
      "278:\tlearn: 0.0200382\ttotal: 2.36s\tremaining: 1.87s\n",
      "279:\tlearn: 0.0198944\ttotal: 2.37s\tremaining: 1.86s\n",
      "280:\tlearn: 0.0198722\ttotal: 2.37s\tremaining: 1.85s\n",
      "281:\tlearn: 0.0198121\ttotal: 2.38s\tremaining: 1.84s\n",
      "282:\tlearn: 0.0197801\ttotal: 2.38s\tremaining: 1.83s\n",
      "283:\tlearn: 0.0196238\ttotal: 2.39s\tremaining: 1.82s\n",
      "284:\tlearn: 0.0195545\ttotal: 2.4s\tremaining: 1.81s\n",
      "285:\tlearn: 0.0194565\ttotal: 2.41s\tremaining: 1.8s\n",
      "286:\tlearn: 0.0192817\ttotal: 2.41s\tremaining: 1.79s\n",
      "287:\tlearn: 0.0191100\ttotal: 2.42s\tremaining: 1.78s\n",
      "288:\tlearn: 0.0190218\ttotal: 2.43s\tremaining: 1.77s\n",
      "289:\tlearn: 0.0188824\ttotal: 2.44s\tremaining: 1.76s\n",
      "290:\tlearn: 0.0188595\ttotal: 2.44s\tremaining: 1.75s\n",
      "291:\tlearn: 0.0187552\ttotal: 2.46s\tremaining: 1.75s\n",
      "292:\tlearn: 0.0187352\ttotal: 2.46s\tremaining: 1.74s\n",
      "293:\tlearn: 0.0186050\ttotal: 2.47s\tremaining: 1.73s\n",
      "294:\tlearn: 0.0185371\ttotal: 2.48s\tremaining: 1.72s\n",
      "295:\tlearn: 0.0184968\ttotal: 2.49s\tremaining: 1.72s\n",
      "296:\tlearn: 0.0183957\ttotal: 2.5s\tremaining: 1.71s\n",
      "297:\tlearn: 0.0183579\ttotal: 2.5s\tremaining: 1.7s\n",
      "298:\tlearn: 0.0182291\ttotal: 2.51s\tremaining: 1.69s\n",
      "299:\tlearn: 0.0181118\ttotal: 2.52s\tremaining: 1.68s\n",
      "300:\tlearn: 0.0179257\ttotal: 2.52s\tremaining: 1.67s\n",
      "301:\tlearn: 0.0178171\ttotal: 2.53s\tremaining: 1.66s\n",
      "302:\tlearn: 0.0178071\ttotal: 2.54s\tremaining: 1.65s\n",
      "303:\tlearn: 0.0177414\ttotal: 2.55s\tremaining: 1.64s\n",
      "304:\tlearn: 0.0176848\ttotal: 2.56s\tremaining: 1.64s\n",
      "305:\tlearn: 0.0176248\ttotal: 2.56s\tremaining: 1.63s\n",
      "306:\tlearn: 0.0175358\ttotal: 2.57s\tremaining: 1.62s\n",
      "307:\tlearn: 0.0175141\ttotal: 2.59s\tremaining: 1.61s\n",
      "308:\tlearn: 0.0174164\ttotal: 2.6s\tremaining: 1.6s\n",
      "309:\tlearn: 0.0173283\ttotal: 2.61s\tremaining: 1.6s\n",
      "310:\tlearn: 0.0172872\ttotal: 2.61s\tremaining: 1.59s\n",
      "311:\tlearn: 0.0171887\ttotal: 2.62s\tremaining: 1.58s\n",
      "312:\tlearn: 0.0170788\ttotal: 2.63s\tremaining: 1.57s\n",
      "313:\tlearn: 0.0170343\ttotal: 2.63s\tremaining: 1.56s\n",
      "314:\tlearn: 0.0169461\ttotal: 2.64s\tremaining: 1.55s\n",
      "315:\tlearn: 0.0168769\ttotal: 2.65s\tremaining: 1.54s\n",
      "316:\tlearn: 0.0168212\ttotal: 2.66s\tremaining: 1.53s\n",
      "317:\tlearn: 0.0167070\ttotal: 2.67s\tremaining: 1.53s\n",
      "318:\tlearn: 0.0166920\ttotal: 2.67s\tremaining: 1.52s\n",
      "319:\tlearn: 0.0166468\ttotal: 2.69s\tremaining: 1.51s\n",
      "320:\tlearn: 0.0165334\ttotal: 2.69s\tremaining: 1.5s\n",
      "321:\tlearn: 0.0164480\ttotal: 2.7s\tremaining: 1.49s\n",
      "322:\tlearn: 0.0163928\ttotal: 2.71s\tremaining: 1.48s\n",
      "323:\tlearn: 0.0163313\ttotal: 2.71s\tremaining: 1.47s\n",
      "324:\tlearn: 0.0162202\ttotal: 2.72s\tremaining: 1.47s\n",
      "325:\tlearn: 0.0161973\ttotal: 2.73s\tremaining: 1.46s\n",
      "326:\tlearn: 0.0161837\ttotal: 2.73s\tremaining: 1.45s\n",
      "327:\tlearn: 0.0161555\ttotal: 2.74s\tremaining: 1.44s\n",
      "328:\tlearn: 0.0161370\ttotal: 2.75s\tremaining: 1.43s\n",
      "329:\tlearn: 0.0159797\ttotal: 2.75s\tremaining: 1.42s\n",
      "330:\tlearn: 0.0159173\ttotal: 2.76s\tremaining: 1.41s\n",
      "331:\tlearn: 0.0159013\ttotal: 2.77s\tremaining: 1.4s\n",
      "332:\tlearn: 0.0158587\ttotal: 2.78s\tremaining: 1.39s\n",
      "333:\tlearn: 0.0158264\ttotal: 2.78s\tremaining: 1.38s\n",
      "334:\tlearn: 0.0157673\ttotal: 2.79s\tremaining: 1.37s\n",
      "335:\tlearn: 0.0157555\ttotal: 2.79s\tremaining: 1.36s\n",
      "336:\tlearn: 0.0156609\ttotal: 2.8s\tremaining: 1.35s\n",
      "337:\tlearn: 0.0156157\ttotal: 2.81s\tremaining: 1.34s\n",
      "338:\tlearn: 0.0156009\ttotal: 2.81s\tremaining: 1.33s\n",
      "339:\tlearn: 0.0155860\ttotal: 2.82s\tremaining: 1.32s\n",
      "340:\tlearn: 0.0155699\ttotal: 2.82s\tremaining: 1.32s\n",
      "341:\tlearn: 0.0155470\ttotal: 2.83s\tremaining: 1.31s\n",
      "342:\tlearn: 0.0154499\ttotal: 2.84s\tremaining: 1.3s\n",
      "343:\tlearn: 0.0154292\ttotal: 2.84s\tremaining: 1.29s\n",
      "344:\tlearn: 0.0153754\ttotal: 2.85s\tremaining: 1.28s\n",
      "345:\tlearn: 0.0153680\ttotal: 2.85s\tremaining: 1.27s\n",
      "346:\tlearn: 0.0153555\ttotal: 2.86s\tremaining: 1.26s\n",
      "347:\tlearn: 0.0152461\ttotal: 2.87s\tremaining: 1.25s\n",
      "348:\tlearn: 0.0152005\ttotal: 2.87s\tremaining: 1.24s\n",
      "349:\tlearn: 0.0150834\ttotal: 2.88s\tremaining: 1.23s\n",
      "350:\tlearn: 0.0149846\ttotal: 2.88s\tremaining: 1.23s\n",
      "351:\tlearn: 0.0148617\ttotal: 2.89s\tremaining: 1.22s\n",
      "352:\tlearn: 0.0148542\ttotal: 2.9s\tremaining: 1.21s\n",
      "353:\tlearn: 0.0148178\ttotal: 2.9s\tremaining: 1.2s\n",
      "354:\tlearn: 0.0148075\ttotal: 2.91s\tremaining: 1.19s\n",
      "355:\tlearn: 0.0147829\ttotal: 2.92s\tremaining: 1.18s\n",
      "356:\tlearn: 0.0147462\ttotal: 2.92s\tremaining: 1.17s\n",
      "357:\tlearn: 0.0147207\ttotal: 2.93s\tremaining: 1.16s\n",
      "358:\tlearn: 0.0146119\ttotal: 2.93s\tremaining: 1.15s\n",
      "359:\tlearn: 0.0146061\ttotal: 2.94s\tremaining: 1.14s\n",
      "360:\tlearn: 0.0144880\ttotal: 2.95s\tremaining: 1.13s\n",
      "361:\tlearn: 0.0143882\ttotal: 2.95s\tremaining: 1.13s\n",
      "362:\tlearn: 0.0143576\ttotal: 2.96s\tremaining: 1.12s\n",
      "363:\tlearn: 0.0143437\ttotal: 2.96s\tremaining: 1.11s\n",
      "364:\tlearn: 0.0143246\ttotal: 2.97s\tremaining: 1.1s\n",
      "365:\tlearn: 0.0143182\ttotal: 2.98s\tremaining: 1.09s\n",
      "366:\tlearn: 0.0142486\ttotal: 2.98s\tremaining: 1.08s\n",
      "367:\tlearn: 0.0142048\ttotal: 2.99s\tremaining: 1.07s\n",
      "368:\tlearn: 0.0141690\ttotal: 3s\tremaining: 1.06s\n",
      "369:\tlearn: 0.0140818\ttotal: 3s\tremaining: 1.05s\n",
      "370:\tlearn: 0.0139948\ttotal: 3.01s\tremaining: 1.05s\n",
      "371:\tlearn: 0.0139475\ttotal: 3.02s\tremaining: 1.04s\n",
      "372:\tlearn: 0.0139382\ttotal: 3.04s\tremaining: 1.03s\n",
      "373:\tlearn: 0.0138663\ttotal: 3.04s\tremaining: 1.02s\n",
      "374:\tlearn: 0.0137941\ttotal: 3.05s\tremaining: 1.02s\n",
      "375:\tlearn: 0.0137676\ttotal: 3.06s\tremaining: 1.01s\n",
      "376:\tlearn: 0.0137051\ttotal: 3.06s\tremaining: 1000ms\n",
      "377:\tlearn: 0.0136329\ttotal: 3.07s\tremaining: 992ms\n",
      "378:\tlearn: 0.0136124\ttotal: 3.08s\tremaining: 984ms\n",
      "379:\tlearn: 0.0135545\ttotal: 3.09s\tremaining: 976ms\n",
      "380:\tlearn: 0.0134547\ttotal: 3.1s\tremaining: 968ms\n",
      "381:\tlearn: 0.0134000\ttotal: 3.1s\tremaining: 959ms\n",
      "382:\tlearn: 0.0133260\ttotal: 3.11s\tremaining: 951ms\n",
      "383:\tlearn: 0.0133208\ttotal: 3.12s\tremaining: 942ms\n",
      "384:\tlearn: 0.0132545\ttotal: 3.12s\tremaining: 933ms\n",
      "385:\tlearn: 0.0131689\ttotal: 3.13s\tremaining: 924ms\n",
      "386:\tlearn: 0.0131581\ttotal: 3.13s\tremaining: 915ms\n",
      "387:\tlearn: 0.0131386\ttotal: 3.14s\tremaining: 907ms\n",
      "388:\tlearn: 0.0130615\ttotal: 3.15s\tremaining: 898ms\n",
      "389:\tlearn: 0.0130523\ttotal: 3.15s\tremaining: 890ms\n",
      "390:\tlearn: 0.0129575\ttotal: 3.16s\tremaining: 881ms\n",
      "391:\tlearn: 0.0129221\ttotal: 3.17s\tremaining: 873ms\n",
      "392:\tlearn: 0.0128769\ttotal: 3.17s\tremaining: 864ms\n",
      "393:\tlearn: 0.0128670\ttotal: 3.18s\tremaining: 856ms\n",
      "394:\tlearn: 0.0128145\ttotal: 3.2s\tremaining: 850ms\n",
      "395:\tlearn: 0.0128061\ttotal: 3.21s\tremaining: 842ms\n",
      "396:\tlearn: 0.0127287\ttotal: 3.21s\tremaining: 834ms\n",
      "397:\tlearn: 0.0126666\ttotal: 3.23s\tremaining: 827ms\n",
      "398:\tlearn: 0.0126646\ttotal: 3.23s\tremaining: 818ms\n",
      "399:\tlearn: 0.0126014\ttotal: 3.24s\tremaining: 810ms\n",
      "400:\tlearn: 0.0125822\ttotal: 3.25s\tremaining: 801ms\n",
      "401:\tlearn: 0.0125718\ttotal: 3.25s\tremaining: 793ms\n",
      "402:\tlearn: 0.0124997\ttotal: 3.26s\tremaining: 785ms\n",
      "403:\tlearn: 0.0124872\ttotal: 3.27s\tremaining: 776ms\n",
      "404:\tlearn: 0.0124451\ttotal: 3.27s\tremaining: 768ms\n",
      "405:\tlearn: 0.0123792\ttotal: 3.28s\tremaining: 759ms\n",
      "406:\tlearn: 0.0123668\ttotal: 3.29s\tremaining: 751ms\n",
      "407:\tlearn: 0.0123616\ttotal: 3.29s\tremaining: 742ms\n",
      "408:\tlearn: 0.0122864\ttotal: 3.3s\tremaining: 734ms\n",
      "409:\tlearn: 0.0122130\ttotal: 3.3s\tremaining: 725ms\n",
      "410:\tlearn: 0.0121592\ttotal: 3.31s\tremaining: 717ms\n",
      "411:\tlearn: 0.0121154\ttotal: 3.32s\tremaining: 709ms\n",
      "412:\tlearn: 0.0120469\ttotal: 3.32s\tremaining: 700ms\n",
      "413:\tlearn: 0.0119715\ttotal: 3.33s\tremaining: 692ms\n",
      "414:\tlearn: 0.0119541\ttotal: 3.34s\tremaining: 684ms\n",
      "415:\tlearn: 0.0119460\ttotal: 3.35s\tremaining: 676ms\n",
      "416:\tlearn: 0.0119442\ttotal: 3.35s\tremaining: 667ms\n",
      "417:\tlearn: 0.0119308\ttotal: 3.36s\tremaining: 659ms\n",
      "418:\tlearn: 0.0119095\ttotal: 3.36s\tremaining: 651ms\n",
      "419:\tlearn: 0.0118492\ttotal: 3.38s\tremaining: 643ms\n",
      "420:\tlearn: 0.0118126\ttotal: 3.39s\tremaining: 636ms\n",
      "421:\tlearn: 0.0118025\ttotal: 3.4s\tremaining: 628ms\n",
      "422:\tlearn: 0.0117536\ttotal: 3.41s\tremaining: 621ms\n",
      "423:\tlearn: 0.0117205\ttotal: 3.42s\tremaining: 613ms\n",
      "424:\tlearn: 0.0117116\ttotal: 3.43s\tremaining: 605ms\n",
      "425:\tlearn: 0.0116932\ttotal: 3.44s\tremaining: 597ms\n",
      "426:\tlearn: 0.0116624\ttotal: 3.44s\tremaining: 588ms\n",
      "427:\tlearn: 0.0116250\ttotal: 3.45s\tremaining: 581ms\n",
      "428:\tlearn: 0.0115821\ttotal: 3.46s\tremaining: 572ms\n",
      "429:\tlearn: 0.0115738\ttotal: 3.47s\tremaining: 564ms\n",
      "430:\tlearn: 0.0115119\ttotal: 3.47s\tremaining: 556ms\n",
      "431:\tlearn: 0.0114840\ttotal: 3.48s\tremaining: 547ms\n",
      "432:\tlearn: 0.0114382\ttotal: 3.48s\tremaining: 539ms\n",
      "433:\tlearn: 0.0113685\ttotal: 3.49s\tremaining: 531ms\n",
      "434:\tlearn: 0.0113463\ttotal: 3.5s\tremaining: 523ms\n",
      "435:\tlearn: 0.0112665\ttotal: 3.5s\tremaining: 514ms\n",
      "436:\tlearn: 0.0112148\ttotal: 3.51s\tremaining: 506ms\n",
      "437:\tlearn: 0.0111515\ttotal: 3.52s\tremaining: 498ms\n",
      "438:\tlearn: 0.0110880\ttotal: 3.52s\tremaining: 489ms\n",
      "439:\tlearn: 0.0110627\ttotal: 3.53s\tremaining: 481ms\n",
      "440:\tlearn: 0.0110402\ttotal: 3.53s\tremaining: 473ms\n",
      "441:\tlearn: 0.0110380\ttotal: 3.54s\tremaining: 464ms\n",
      "442:\tlearn: 0.0110063\ttotal: 3.55s\tremaining: 456ms\n",
      "443:\tlearn: 0.0109699\ttotal: 3.55s\tremaining: 448ms\n",
      "444:\tlearn: 0.0109384\ttotal: 3.56s\tremaining: 440ms\n",
      "445:\tlearn: 0.0109300\ttotal: 3.57s\tremaining: 432ms\n",
      "446:\tlearn: 0.0109041\ttotal: 3.58s\tremaining: 424ms\n",
      "447:\tlearn: 0.0108185\ttotal: 3.58s\tremaining: 416ms\n",
      "448:\tlearn: 0.0107967\ttotal: 3.59s\tremaining: 408ms\n",
      "449:\tlearn: 0.0107951\ttotal: 3.6s\tremaining: 400ms\n",
      "450:\tlearn: 0.0107786\ttotal: 3.6s\tremaining: 391ms\n",
      "451:\tlearn: 0.0107786\ttotal: 3.61s\tremaining: 383ms\n",
      "452:\tlearn: 0.0107490\ttotal: 3.61s\tremaining: 375ms\n",
      "453:\tlearn: 0.0107456\ttotal: 3.62s\tremaining: 367ms\n",
      "454:\tlearn: 0.0107193\ttotal: 3.63s\tremaining: 359ms\n",
      "455:\tlearn: 0.0107162\ttotal: 3.63s\tremaining: 350ms\n",
      "456:\tlearn: 0.0106774\ttotal: 3.64s\tremaining: 342ms\n",
      "457:\tlearn: 0.0106669\ttotal: 3.65s\tremaining: 334ms\n",
      "458:\tlearn: 0.0105984\ttotal: 3.65s\tremaining: 326ms\n",
      "459:\tlearn: 0.0105457\ttotal: 3.66s\tremaining: 318ms\n",
      "460:\tlearn: 0.0104977\ttotal: 3.66s\tremaining: 310ms\n",
      "461:\tlearn: 0.0104901\ttotal: 3.67s\tremaining: 302ms\n",
      "462:\tlearn: 0.0104852\ttotal: 3.67s\tremaining: 294ms\n",
      "463:\tlearn: 0.0104814\ttotal: 3.68s\tremaining: 286ms\n",
      "464:\tlearn: 0.0104761\ttotal: 3.69s\tremaining: 278ms\n",
      "465:\tlearn: 0.0104657\ttotal: 3.7s\tremaining: 270ms\n",
      "466:\tlearn: 0.0104242\ttotal: 3.7s\tremaining: 262ms\n",
      "467:\tlearn: 0.0103701\ttotal: 3.71s\tremaining: 254ms\n",
      "468:\tlearn: 0.0103628\ttotal: 3.71s\tremaining: 246ms\n",
      "469:\tlearn: 0.0103265\ttotal: 3.72s\tremaining: 237ms\n",
      "470:\tlearn: 0.0103190\ttotal: 3.73s\tremaining: 229ms\n",
      "471:\tlearn: 0.0102720\ttotal: 3.73s\tremaining: 221ms\n",
      "472:\tlearn: 0.0102696\ttotal: 3.75s\tremaining: 214ms\n",
      "473:\tlearn: 0.0102696\ttotal: 3.76s\tremaining: 206ms\n",
      "474:\tlearn: 0.0102663\ttotal: 3.76s\tremaining: 198ms\n",
      "475:\tlearn: 0.0102250\ttotal: 3.77s\tremaining: 190ms\n",
      "476:\tlearn: 0.0101681\ttotal: 3.78s\tremaining: 182ms\n",
      "477:\tlearn: 0.0101269\ttotal: 3.79s\tremaining: 174ms\n",
      "478:\tlearn: 0.0100717\ttotal: 3.79s\tremaining: 166ms\n",
      "479:\tlearn: 0.0100659\ttotal: 3.8s\tremaining: 158ms\n",
      "480:\tlearn: 0.0100206\ttotal: 3.81s\tremaining: 150ms\n",
      "481:\tlearn: 0.0099831\ttotal: 3.81s\tremaining: 142ms\n",
      "482:\tlearn: 0.0099327\ttotal: 3.82s\tremaining: 135ms\n",
      "483:\tlearn: 0.0099241\ttotal: 3.83s\tremaining: 127ms\n",
      "484:\tlearn: 0.0098917\ttotal: 3.83s\tremaining: 119ms\n",
      "485:\tlearn: 0.0098409\ttotal: 3.84s\tremaining: 111ms\n",
      "486:\tlearn: 0.0098014\ttotal: 3.85s\tremaining: 103ms\n",
      "487:\tlearn: 0.0097912\ttotal: 3.85s\tremaining: 94.8ms\n",
      "488:\tlearn: 0.0097647\ttotal: 3.86s\tremaining: 86.8ms\n",
      "489:\tlearn: 0.0097240\ttotal: 3.87s\tremaining: 78.9ms\n",
      "490:\tlearn: 0.0096711\ttotal: 3.87s\tremaining: 71ms\n",
      "491:\tlearn: 0.0096482\ttotal: 3.88s\tremaining: 63.1ms\n",
      "492:\tlearn: 0.0096013\ttotal: 3.88s\tremaining: 55.2ms\n",
      "493:\tlearn: 0.0095370\ttotal: 3.89s\tremaining: 47.3ms\n",
      "494:\tlearn: 0.0095178\ttotal: 3.9s\tremaining: 39.4ms\n",
      "495:\tlearn: 0.0094844\ttotal: 3.9s\tremaining: 31.5ms\n",
      "496:\tlearn: 0.0094551\ttotal: 3.91s\tremaining: 23.6ms\n",
      "497:\tlearn: 0.0094166\ttotal: 3.92s\tremaining: 15.7ms\n",
      "498:\tlearn: 0.0093847\ttotal: 3.92s\tremaining: 7.86ms\n",
      "499:\tlearn: 0.0093833\ttotal: 3.93s\tremaining: 0us\n"
     ]
    }
   ],
   "source": [
    "catb = CatBoostClassifier(iterations = 500, \n",
    "                          learning_rate = 0.1, \n",
    "                          depth = 8)\n",
    "\n",
    "catb_tuned = catb.fit(X_train, y_train)\n",
    "y_pred = catb_tuned.predict(X_test)"
   ]
  },
  {
   "cell_type": "code",
   "execution_count": 264,
   "metadata": {},
   "outputs": [
    {
     "data": {
      "text/plain": [
       "0.7186147186147186"
      ]
     },
     "execution_count": 264,
     "metadata": {},
     "output_type": "execute_result"
    }
   ],
   "source": [
    "y_pred = catb_tuned.predict(X_test)\n",
    "accuracy_score(y_test, y_pred)"
   ]
  },
  {
   "attachments": {},
   "cell_type": "markdown",
   "metadata": {},
   "source": [
    "# Tüm Modellerin Karşılaştırılması"
   ]
  },
  {
   "cell_type": "code",
   "execution_count": 265,
   "metadata": {},
   "outputs": [
    {
     "name": "stdout",
     "output_type": "stream",
     "text": [
      "----------------------------\n",
      "KNeighborsClassifier:\n",
      "Accuracy: 73.1602%\n",
      "----------------------------\n",
      "LogisticRegression:\n",
      "Accuracy: 75.3247%\n",
      "----------------------------\n",
      "SVC:\n",
      "Accuracy: 73.5931%\n",
      "----------------------------\n",
      "GaussianNB:\n",
      "Accuracy: 74.4589%\n",
      "----------------------------\n",
      "MLPClassifier:\n",
      "Accuracy: 34.6320%\n",
      "----------------------------\n",
      "DecisionTreeClassifier:\n",
      "Accuracy: 75.3247%\n",
      "----------------------------\n",
      "RandomForestClassifier:\n",
      "Accuracy: 73.5931%\n",
      "----------------------------\n",
      "GradientBoostingClassifier:\n",
      "Accuracy: 74.4589%\n",
      "----------------------------\n",
      "CatBoostClassifier:\n",
      "Accuracy: 71.8615%\n",
      "----------------------------\n",
      "LGBMClassifier:\n",
      "Accuracy: 75.7576%\n",
      "----------------------------\n",
      "XGBClassifier:\n",
      "Accuracy: 75.3247%\n"
     ]
    }
   ],
   "source": [
    "modeller = [\n",
    "    knn_tuned,\n",
    "    loj_model,\n",
    "    svc_tuned,\n",
    "    nb_model,\n",
    "    mlpc_tuned,\n",
    "    cart_tuned,\n",
    "    rf_tuned,\n",
    "    gbm_tuned,\n",
    "    catb_tuned,\n",
    "    lgbm_tuned,\n",
    "    xgb_tuned\n",
    "    \n",
    "]\n",
    "\n",
    "\n",
    "for model in modeller:\n",
    "    isimler = model.__class__.__name__\n",
    "    y_pred = model.predict(X_test)\n",
    "    dogruluk = accuracy_score(y_test, y_pred)\n",
    "    print(\"-\"*28)\n",
    "    print(isimler + \":\" )\n",
    "    print(\"Accuracy: {:.4%}\".format(dogruluk))"
   ]
  },
  {
   "cell_type": "code",
   "execution_count": 266,
   "metadata": {},
   "outputs": [
    {
     "data": {
      "image/png": "[encoded data removed]",
      "text/plain": [
       "<Figure size 432x288 with 1 Axes>"
      ]
     },
     "metadata": {
      "needs_background": "light"
     },
     "output_type": "display_data"
    }
   ],
   "source": [
    "sonuc = []\n",
    "\n",
    "sonuclar = pd.DataFrame(columns= [\"Modeller\",\"Accuracy\"])\n",
    "\n",
    "for model in modeller:\n",
    "    isimler = model.__class__.__name__\n",
    "    y_pred = model.predict(X_test)\n",
    "    dogruluk = accuracy_score(y_test, y_pred)    \n",
    "    sonuc = pd.DataFrame([[isimler, dogruluk*100]], columns= [\"Modeller\",\"Accuracy\"])\n",
    "    sonuclar = sonuclar.append(sonuc)\n",
    "    \n",
    "    \n",
    "sns.barplot(x= 'Accuracy', y = 'Modeller', data=sonuclar, color=\"r\")\n",
    "plt.xlabel('Accuracy %')\n",
    "plt.title('Modellerin Doğruluk Oranları');    "
   ]
  }
 ],
 "metadata": {
  "kernelspec": {
   "display_name": "Python 3 (ipykernel)",
   "language": "python",
   "name": "python3"
  },
  "language_info": {
   "codemirror_mode": {
    "name": "ipython",
    "version": 3
   },
   "file_extension": ".py",
   "mimetype": "text/x-python",
   "name": "python",
   "nbconvert_exporter": "python",
   "pygments_lexer": "ipython3",
   "version": "3.9.1"
  }
 },
 "nbformat": 4,
 "nbformat_minor": 2
}
