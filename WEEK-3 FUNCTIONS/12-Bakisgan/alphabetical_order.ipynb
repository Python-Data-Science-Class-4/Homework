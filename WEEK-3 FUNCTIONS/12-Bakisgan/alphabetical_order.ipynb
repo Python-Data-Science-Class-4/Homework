{
 "cells": [
  {
   "cell_type": "code",
   "execution_count": 1,
   "metadata": {},
   "outputs": [
    {
     "name": "stdout",
     "output_type": "stream",
     "text": [
      "black-green-red-white-yellow-"
     ]
    }
   ],
   "source": [
    "#alphabetical order\n",
    "\n",
    "def order(word0):\n",
    "    word0.sort()\n",
    "    for i in word0:\n",
    "        print(i,end=\"-\")\n",
    "\n",
    "words=list(input(\"isimleri girin\").split(\"-\"))\n",
    "\n",
    "order(words)"
   ]
  },
  {
   "cell_type": "code",
   "execution_count": null,
   "metadata": {},
   "outputs": [],
   "source": []
  }
 ],
 "metadata": {
  "kernelspec": {
   "display_name": "Python 3",
   "language": "python",
   "name": "python3"
  },
  "language_info": {
   "codemirror_mode": {
    "name": "ipython",
    "version": 3
   },
   "file_extension": ".py",
   "mimetype": "text/x-python",
   "name": "python",
   "nbconvert_exporter": "python",
   "pygments_lexer": "ipython3",
   "version": "3.11.1"
  }
 },
 "nbformat": 4,
 "nbformat_minor": 2
}
