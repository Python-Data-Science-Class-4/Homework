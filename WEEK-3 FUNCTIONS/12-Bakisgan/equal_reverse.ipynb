{
 "cells": [
  {
   "cell_type": "code",
   "execution_count": 2,
   "metadata": {},
   "outputs": [
    {
     "name": "stdout",
     "output_type": "stream",
     "text": [
      "True,True,False,"
     ]
    }
   ],
   "source": [
    "#equal reverse\n",
    "\n",
    "def palindrome(list0):\n",
    "    for i in list0:\n",
    "        check=True\n",
    "        list1=list(i)\n",
    "        list2=list1.copy()\n",
    "        list2.reverse()\n",
    "        for j in range(len(list1)):\n",
    "            if list1[j]!=list2[j]:\n",
    "                check=False\n",
    "        print(check,end=\",\")\n",
    "\n",
    "kelimeler=list(input(\"isimleri girin\").split(\", \"))\n",
    "palindrome(kelimeler)"
   ]
  },
  {
   "cell_type": "code",
   "execution_count": null,
   "metadata": {},
   "outputs": [],
   "source": []
  }
 ],
 "metadata": {
  "kernelspec": {
   "display_name": "Python 3",
   "language": "python",
   "name": "python3"
  },
  "language_info": {
   "codemirror_mode": {
    "name": "ipython",
    "version": 3
   },
   "file_extension": ".py",
   "mimetype": "text/x-python",
   "name": "python",
   "nbconvert_exporter": "python",
   "pygments_lexer": "ipython3",
   "version": "3.11.1"
  }
 },
 "nbformat": 4,
 "nbformat_minor": 2
}
