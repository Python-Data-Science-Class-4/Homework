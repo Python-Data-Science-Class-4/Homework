{
 "cells": [
  {
   "cell_type": "code",
   "execution_count": 1,
   "metadata": {},
   "outputs": [
    {
     "name": "stdout",
     "output_type": "stream",
     "text": [
      "6  bir mükemmel rakamdır\n",
      "28  bir mükemmel rakamdır\n",
      "496  bir mükemmel rakamdır\n"
     ]
    }
   ],
   "source": [
    "# perfect number\n",
    "\n",
    "from functools import reduce\n",
    "\n",
    "def perfect(a):\n",
    "    per_result=reduce(lambda x,y:x+y,filter(lambda x: a%x==0, range(1,a)))\n",
    "    if per_result==a:\n",
    "        return True\n",
    "    else:\n",
    "        return False\n",
    "\n",
    "def perfect_number(m):\n",
    "    for i in range(2,m+1):\n",
    "        if perfect(i)==True:\n",
    "            print(i,\" bir mükemmel rakamdır\")\n",
    "\n",
    "perfect_number(1000)\n"
   ]
  },
  {
   "cell_type": "code",
   "execution_count": null,
   "metadata": {},
   "outputs": [],
   "source": []
  }
 ],
 "metadata": {
  "kernelspec": {
   "display_name": "Python 3",
   "language": "python",
   "name": "python3"
  },
  "language_info": {
   "codemirror_mode": {
    "name": "ipython",
    "version": 3
   },
   "file_extension": ".py",
   "mimetype": "text/x-python",
   "name": "python",
   "nbconvert_exporter": "python",
   "pygments_lexer": "ipython3",
   "version": "3.11.1"
  }
 },
 "nbformat": 4,
 "nbformat_minor": 2
}
