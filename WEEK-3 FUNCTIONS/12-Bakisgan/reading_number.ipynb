{
 "cells": [
  {
   "cell_type": "code",
   "execution_count": null,
   "metadata": {},
   "outputs": [],
   "source": [
    "# reading number\n",
    "\n",
    "def read_number(num):\n",
    "    '''This function outputs the transcription of an input number'''\n",
    "    \n",
    "    birler = {1: 'One', 2: 'Two', 3: 'Three', 4: 'Four', 5: 'Five', 6: 'Six', 7: 'Seven', 8: 'Eight', 9: 'Nine'}\n",
    "    onlar = {2: 'Twenty', 3: 'Thirty', 4: 'Fourty', 5: 'Fifty', 6: 'Sixty', 7: 'Seventy', 8: 'Eighty', 9: 'Ninety'}\n",
    "    teens = {1: 'Eleven', 2: 'Twelve', 3: 'Thirteen', 4: 'Fourteen', 5: 'Fifteen', 6: 'Sixteen', 7: 'Seventeen', 8: 'Eighteen', 9: 'Nineteen'}\n",
    "    \n",
    "    tens=num//10\n",
    "    ones=num%10\n",
    "\n",
    "    if tens==1:\n",
    "        print(teens[ones])\n",
    "    else:\n",
    "        print(onlar[tens],birler[ones])\n",
    "\n",
    "\n",
    "while True:\n",
    "    input_number=int(input(\"Bir rakam giriniz\"))\n",
    "    read_number(input_number)\n",
    "    input_txt=input(\"Devam etmek istiyor musunuz? (Y/N)\")\n",
    "    if input_txt.lower()==\"n\":\n",
    "        break\n"
   ]
  }
 ],
 "metadata": {
  "language_info": {
   "name": "python"
  }
 },
 "nbformat": 4,
 "nbformat_minor": 2
}
