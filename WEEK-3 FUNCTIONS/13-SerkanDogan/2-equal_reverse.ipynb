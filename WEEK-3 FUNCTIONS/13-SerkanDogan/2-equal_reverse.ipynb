<<<<<<< Updated upstream
{
 "cells": [
  {
   "cell_type": "code",
   "execution_count": 1,
   "metadata": {},
   "outputs": [
    {
     "name": "stdout",
     "output_type": "stream",
     "text": [
      "['madam', ' tacocat', ' utrecht ']\n",
      "['madam', 'tacocat', 'utrecht']\n",
      "['True', 'True', 'False']\n",
      "True, True, False\n"
     ]
    }
   ],
   "source": [
    "# Write a function that controls the given inputs whether they are equal to their reversed order or not.\n",
    "\n",
    "# Example: Input >>> madam, tacocat, utrecht   Output >>> True, True, False\n",
    "\n",
    "# Define a function that controls the given inputs whether they are equal to their reversed order or not >> palindromic order\n",
    "\n",
    "def palindrome(word):\n",
    "    return word == word[::-1]\n",
    "\n",
    "# Get a list of words as inuput from the user\n",
    "words = input(\"Submit your words with comma between them to check if they are palindromic or not: \").lower().split(\",\")\n",
    "print(list(words))\n",
    "\n",
    "# Delete extra spaces from the start and end of the words\n",
    "words=[word.strip() for word in words]\n",
    "print(list(words))\n",
    "\n",
    "results = [str(palindrome(word)) for word in words]\n",
    "print(results)\n",
    "print(\", \".join(results))\n"
   ]
  }
 ],
 "metadata": {
  "kernelspec": {
   "display_name": "Python 3",
   "language": "python",
   "name": "python3"
  },
  "language_info": {
   "codemirror_mode": {
    "name": "ipython",
    "version": 3
   },
   "file_extension": ".py",
   "mimetype": "text/x-python",
   "name": "python",
   "nbconvert_exporter": "python",
   "pygments_lexer": "ipython3",
   "version": "3.12.0"
  }
 },
 "nbformat": 4,
 "nbformat_minor": 2
}
=======
{
 "cells": [
  {
   "cell_type": "code",
   "execution_count": 1,
   "metadata": {},
   "outputs": [
    {
     "name": "stdout",
     "output_type": "stream",
     "text": [
      "['madam', ' tacocat', ' utrecht ']\n",
      "['madam', 'tacocat', 'utrecht']\n",
      "['True', 'True', 'False']\n",
      "True, True, False\n"
     ]
    }
   ],
   "source": [
    "# Write a function that controls the given inputs whether they are equal to their reversed order or not.\n",
    "\n",
    "# Example: Input >>> madam, tacocat, utrecht   Output >>> True, True, False\n",
    "\n",
    "# Define a function that controls the given inputs whether they are equal to their reversed order or not >> palindromic order\n",
    "\n",
    "def palindrome(word):\n",
    "    return word == word[::-1]\n",
    "\n",
    "# Get a list of words as inuput from the user\n",
    "words = input(\"Submit your words with comma between them to check if they are palindromic or not: \").lower().split(\",\")\n",
    "print(list(words))\n",
    "\n",
    "# Delete extra spaces from the start and end of the words\n",
    "words=[word.strip() for word in words]\n",
    "print(list(words))\n",
    "\n",
    "results = [str(palindrome(word)) for word in words]\n",
    "print(results)\n",
    "print(\", \".join(results))\n"
   ]
  }
 ],
 "metadata": {
  "kernelspec": {
   "display_name": "Python 3",
   "language": "python",
   "name": "python3"
  },
  "language_info": {
   "codemirror_mode": {
    "name": "ipython",
    "version": 3
   },
   "file_extension": ".py",
   "mimetype": "text/x-python",
   "name": "python",
   "nbconvert_exporter": "python",
   "pygments_lexer": "ipython3",
   "version": "3.12.0"
  }
 },
 "nbformat": 4,
 "nbformat_minor": 2
}
>>>>>>> Stashed changes
