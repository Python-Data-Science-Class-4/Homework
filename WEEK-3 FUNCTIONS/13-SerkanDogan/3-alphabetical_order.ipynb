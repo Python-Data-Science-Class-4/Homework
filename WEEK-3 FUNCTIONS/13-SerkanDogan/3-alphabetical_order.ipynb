{
 "cells": [
  {
   "cell_type": "code",
   "execution_count": 1,
   "metadata": {},
   "outputs": [
    {
     "name": "stdout",
     "output_type": "stream",
     "text": [
      "['green', 'red', 'yellow', 'black', 'white']\n",
      "['black', 'green', 'red', 'white', 'yellow']\n",
      "black-green-red-white-yellow\n"
     ]
    }
   ],
   "source": [
    "# Write a function that takes an input of different words with hyphen (-) in between them and then:\n",
    "# sorts the words in alphabetical order, adds hyphen icon (-) between them, gives the output of the sorted words.\n",
    "# Example: Input >>> green-red-yellow-black-white       Output >>> black-green-red-white-yellow\n",
    "\n",
    "# Create a function that splits the input words and creates a new list\n",
    "\n",
    "def split_sort(word):\n",
    "    a= word.split(\"-\")\n",
    "    print(a)\n",
    "    b= sorted(a)\n",
    "    print(b)\n",
    "    result=\"-\".join(b)\n",
    "    return(result)\n",
    "\n",
    "# Get the input words\n",
    "words= input(\"Submit your words with hyphen between them: \")\n",
    "print(split_sort(words))"
   ]
  }
 ],
 "metadata": {
  "kernelspec": {
   "display_name": "Python 3",
   "language": "python",
   "name": "python3"
  },
  "language_info": {
   "codemirror_mode": {
    "name": "ipython",
    "version": 3
   },
   "file_extension": ".py",
   "mimetype": "text/x-python",
   "name": "python",
   "nbconvert_exporter": "python",
   "pygments_lexer": "ipython3",
   "version": "3.12.0"
  }
 },
 "nbformat": 4,
 "nbformat_minor": 2
}
