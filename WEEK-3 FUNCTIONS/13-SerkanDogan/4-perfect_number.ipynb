{
 "cells": [
  {
   "cell_type": "code",
   "execution_count": 1,
   "metadata": {},
   "outputs": [
    {
     "name": "stdout",
     "output_type": "stream",
     "text": [
      "Perfect numbers between 1 and 1000 are [6, 28, 496]\n",
      "Sum of Perfect numbers between 1 and 1000 is 530\n"
     ]
    }
   ],
   "source": [
    "# Perfect number: Perfect number is a positive integer that is equal to the sum of its proper divisors.\n",
    "\n",
    "# The smallest perfect number is 6, which is the sum of 1, 2, and 3.\n",
    "\n",
    "# Some other perfect numbers are 28(1+2+4+7+14=28), 496 and 8128.\n",
    "\n",
    "# Write a function that finds perfect numbers between 1 and 1000. Check perfect numbers between 1 and 1000 and find the sum of the perfect numbers using reduce and filter functions.\n",
    "\n",
    "# Write a function that finds perfect numbers\n",
    "def perfect_number(number):\n",
    "    divisors=[i for i in range(1,number) if number % i == 0 ]\n",
    "    return sum(divisors) == number\n",
    "\n",
    "\n",
    "# Get the input\n",
    "number= int(input(\"Submit your number: \"))\n",
    "\n",
    "# Import the function\n",
    "from functools import reduce\n",
    "\n",
    "# use the defined function to filter the perfect numbers between 1  and given number\n",
    "perfect_numbers = list(filter(perfect_number, range(1,number+1)))\n",
    "\n",
    "# use reduce and klmbda functions to calculate the sum of the perfect numbers\n",
    "sum_perfect_numbers = reduce(lambda x, y: x + y, perfect_numbers, 0)\n",
    "\n",
    "print(f\"Perfect numbers between 1 and {number} are\", perfect_numbers)\n",
    "print(f\"Sum of Perfect numbers between 1 and {number} is\", sum_perfect_numbers)\n",
    "\n"
   ]
  }
 ],
 "metadata": {
  "kernelspec": {
   "display_name": "Python 3",
   "language": "python",
   "name": "python3"
  },
  "language_info": {
   "codemirror_mode": {
    "name": "ipython",
    "version": 3
   },
   "file_extension": ".py",
   "mimetype": "text/x-python",
   "name": "python",
   "nbconvert_exporter": "python",
   "pygments_lexer": "ipython3",
   "version": "3.12.0"
  }
 },
 "nbformat": 4,
 "nbformat_minor": 2
}
