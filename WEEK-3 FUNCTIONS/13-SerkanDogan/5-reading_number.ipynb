<<<<<<< Updated upstream
{
 "cells": [
  {
   "cell_type": "code",
   "execution_count": 2,
   "metadata": {},
   "outputs": [
    {
     "name": "stdout",
     "output_type": "stream",
     "text": [
      "28 -----------------------------> Twenty Eight\n"
     ]
    }
   ],
   "source": [
    "# Write a function that outputs the transcription of an input number with two digits.\n",
    "\n",
    "# Example: 28---------------->Twenty Eight\n",
    "\n",
    "def transcribe_number(n):\n",
    "    ones = [\"\", \"One\", \"Two\", \"Three\", \"Four\", \"Five\", \"Six\", \"Seven\", \"Eight\", \"Nine\"]\n",
    "    teens = [\"\", \"Eleven\", \"Twelve\", \"Thirteen\", \"Fourteen\", \"Fifteen\", \"Sixteen\", \"Seventeen\", \"Eighteen\", \"Nineteen\"]\n",
    "    tens = [\"\", \"Ten\", \"Twenty\", \"Thirty\", \"Forty\", \"Fifty\", \"Sixty\", \"Seventy\", \"Eighty\", \"Ninety\"]\n",
    "\n",
    "    if not 10 <= n <= 99:            # Two digit numbers range\n",
    "        return \"This is not a two digit number; Please submit a two digit number!!! \"\n",
    "\n",
    "    tens_index = n // 10             # Find the index number of tens\n",
    "    ones_index = n % 10              # Find the index number of ones\n",
    "\n",
    "    if tens_index == 0:\n",
    "        return ones[ones_index]\n",
    "    elif tens_index == 1:\n",
    "        return teens[ones_index]\n",
    "    else:\n",
    "        return tens[tens_index] + \" \" + ones[ones_index]\n",
    "\n",
    "# Get the input\n",
    "number= int(input(\"Submit your number with 2 digits: \"))\n",
    "result = transcribe_number(number)\n",
    "print(f\"{number} ----------------------------->\",result)"
   ]
  }
 ],
 "metadata": {
  "kernelspec": {
   "display_name": "Python 3",
   "language": "python",
   "name": "python3"
  },
  "language_info": {
   "codemirror_mode": {
    "name": "ipython",
    "version": 3
   },
   "file_extension": ".py",
   "mimetype": "text/x-python",
   "name": "python",
   "nbconvert_exporter": "python",
   "pygments_lexer": "ipython3",
   "version": "3.12.0"
  }
 },
 "nbformat": 4,
 "nbformat_minor": 2
}
=======
{
 "cells": [
  {
   "cell_type": "code",
   "execution_count": 2,
   "metadata": {},
   "outputs": [
    {
     "name": "stdout",
     "output_type": "stream",
     "text": [
      "28 -----------------------------> Twenty Eight\n"
     ]
    }
   ],
   "source": [
    "# Write a function that outputs the transcription of an input number with two digits.\n",
    "\n",
    "# Example: 28---------------->Twenty Eight\n",
    "\n",
    "def transcribe_number(n):\n",
    "    ones = [\"\", \"One\", \"Two\", \"Three\", \"Four\", \"Five\", \"Six\", \"Seven\", \"Eight\", \"Nine\"]\n",
    "    teens = [\"\", \"Eleven\", \"Twelve\", \"Thirteen\", \"Fourteen\", \"Fifteen\", \"Sixteen\", \"Seventeen\", \"Eighteen\", \"Nineteen\"]\n",
    "    tens = [\"\", \"Ten\", \"Twenty\", \"Thirty\", \"Forty\", \"Fifty\", \"Sixty\", \"Seventy\", \"Eighty\", \"Ninety\"]\n",
    "\n",
    "    if not 10 <= n <= 99:            # Two digit numbers range\n",
    "        return \"This is not a two digit number; Please submit a two digit number!!! \"\n",
    "\n",
    "    tens_index = n // 10             # Find the index number of tens\n",
    "    ones_index = n % 10              # Find the index number of ones\n",
    "\n",
    "    if tens_index == 0:\n",
    "        return ones[ones_index]\n",
    "    elif tens_index == 1:\n",
    "        return teens[ones_index]\n",
    "    else:\n",
    "        return tens[tens_index] + \" \" + ones[ones_index]\n",
    "\n",
    "# Get the input\n",
    "number= int(input(\"Submit your number with 2 digits: \"))\n",
    "result = transcribe_number(number)\n",
    "print(f\"{number} ----------------------------->\",result)"
   ]
  }
 ],
 "metadata": {
  "kernelspec": {
   "display_name": "Python 3",
   "language": "python",
   "name": "python3"
  },
  "language_info": {
   "codemirror_mode": {
    "name": "ipython",
    "version": 3
   },
   "file_extension": ".py",
   "mimetype": "text/x-python",
   "name": "python",
   "nbconvert_exporter": "python",
   "pygments_lexer": "ipython3",
   "version": "3.12.0"
  }
 },
 "nbformat": 4,
 "nbformat_minor": 2
}
>>>>>>> Stashed changes
