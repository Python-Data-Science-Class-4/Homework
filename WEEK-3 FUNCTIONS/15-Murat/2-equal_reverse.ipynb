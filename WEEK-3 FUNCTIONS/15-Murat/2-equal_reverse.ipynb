{
 "cells": [
  {
   "cell_type": "code",
   "execution_count": 8,
   "metadata": {},
   "outputs": [
    {
     "name": "stdout",
     "output_type": "stream",
     "text": [
      "False\n"
     ]
    }
   ],
   "source": [
    "\"\"\"Write a function that controls the given inputs whether they are equal to their reversed order or not.\n",
    "\n",
    "Example:\n",
    "\n",
    "Input  >>> madam, tacocat, utrecht \n",
    "\n",
    "Output >>> True, True, False\"\"\"\n",
    "\n",
    "word_1=input('please enter word:')\n",
    "\n",
    "def reverse_word(word):\n",
    "    word_2=list(word)\n",
    "    word_2.reverse()\n",
    "    if list(word)==word_2:\n",
    "    #if list(word)==list(word)[::-1]\n",
    "    #if word==word[::-1]\n",
    "    #reverse de liste olmali ama indekslerde terse gitme hem stringde hemde listede var bu ozelligi her ikisinde de kullanabiliriz.\n",
    "    \n",
    "        return True\n",
    "    else :\n",
    "        return False\n",
    "    \n",
    "print(reverse_word(word_1))\n",
    "    \n",
    "\n"
   ]
  },
  {
   "cell_type": "code",
   "execution_count": null,
   "metadata": {},
   "outputs": [],
   "source": []
  }
 ],
 "metadata": {
  "kernelspec": {
   "display_name": "Python 3",
   "language": "python",
   "name": "python3"
  },
  "language_info": {
   "codemirror_mode": {
    "name": "ipython",
    "version": 3
   },
   "file_extension": ".py",
   "mimetype": "text/x-python",
   "name": "python",
   "nbconvert_exporter": "python",
   "pygments_lexer": "ipython3",
   "version": "3.12.0"
  }
 },
 "nbformat": 4,
 "nbformat_minor": 2
}
