{
 "cells": [
  {
   "cell_type": "code",
   "execution_count": 2,
   "metadata": {},
   "outputs": [
    {
     "name": "stdout",
     "output_type": "stream",
     "text": [
      "black-green-red-white-yellow\n"
     ]
    }
   ],
   "source": [
    "\"\"\"Write a function that takes an input of different words with hyphen (-) in between them and then:\n",
    "\n",
    "sorts the words in alphabetical order, adds hyphen icon (-) between them, gives the output of the sorted words.\n",
    "\n",
    "Example:\n",
    "\n",
    "Input  >>> green-red-yellow-black-white\n",
    "\n",
    "Output >>> black-green-red-white-yellow\"\"\"\n",
    "\n",
    "word=input('Please enter words:')\n",
    "\n",
    "def alphabetical_order(word):\n",
    "    word_1=word.split(\"-\")\n",
    "    word_1=sorted(word_1)\n",
    "    word_1=\"-\".join(word_1)\n",
    "    return (word_1)\n",
    "print(alphabetical_order(word))\n",
    "\n"
   ]
  }
 ],
 "metadata": {
  "kernelspec": {
   "display_name": "Python 3",
   "language": "python",
   "name": "python3"
  },
  "language_info": {
   "codemirror_mode": {
    "name": "ipython",
    "version": 3
   },
   "file_extension": ".py",
   "mimetype": "text/x-python",
   "name": "python",
   "nbconvert_exporter": "python",
   "pygments_lexer": "ipython3",
   "version": "3.12.0"
  }
 },
 "nbformat": 4,
 "nbformat_minor": 2
}
