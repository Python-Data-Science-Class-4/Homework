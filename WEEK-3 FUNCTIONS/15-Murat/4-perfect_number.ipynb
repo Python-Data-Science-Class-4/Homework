{
 "cells": [
  {
   "cell_type": "code",
   "execution_count": 1,
   "metadata": {},
   "outputs": [
    {
     "name": "stdout",
     "output_type": "stream",
     "text": [
      "530\n"
     ]
    }
   ],
   "source": [
    "\"\"\"Perfect number: Perfect number is a positive integer that is equal to the sum of its proper divisors.\n",
    "\n",
    "The smallest perfect number is 6, which is the sum of 1, 2, and 3.\n",
    "\n",
    "Some other perfect numbers are 28(1+2+4+7+14=28), 496 and 8128.\n",
    "\n",
    "Write a function that finds perfect numbers between 1 and 1000. Check perfect numbers between 1 and 1000 and find the sum of the perfect numbers using reduce and filter functions.\"\"\"\n",
    "\n",
    "def perfect_numbers(x):\n",
    "    divisor=[]\n",
    "    for number in range(1,x):\n",
    "        if x%number==0:\n",
    "            divisor.append(number)\n",
    "    y= sum(divisor)\n",
    "    if x==y:\n",
    "        return True\n",
    "    else:\n",
    "        return False\n",
    "\n",
    "check_perfect=[]\n",
    "for index in range (1,1001):\n",
    "    if perfect_numbers(index):\n",
    "        check_perfect.append(index)\n",
    "sum_perfect=sum(check_perfect)\n",
    "\n",
    "print(sum_perfect)"
   ]
  },
  {
   "cell_type": "code",
   "execution_count": 3,
   "metadata": {},
   "outputs": [
    {
     "data": {
      "text/plain": [
       "530"
      ]
     },
     "execution_count": 3,
     "metadata": {},
     "output_type": "execute_result"
    }
   ],
   "source": [
    "from functools import reduce\n",
    "\n",
    "\n",
    "def perfect_numbers(x):\n",
    "    divisor=[]\n",
    "    for number in range(1,x):\n",
    "        if x%number==0:\n",
    "            divisor.append(number)\n",
    "    y= sum(divisor)\n",
    "    if x==y:\n",
    "        return True\n",
    "    else:\n",
    "        return False\n",
    "check_perfect=[*range(1,1001)]\n",
    "check_perfect=list(filter(lambda item: perfect_numbers(item), check_perfect))\n",
    "check_perfect\n",
    "sum_perfect=reduce(lambda item1, item2: item1+item2, check_perfect)\n",
    "sum_perfect"
   ]
  }
 ],
 "metadata": {
  "kernelspec": {
   "display_name": "Python 3",
   "language": "python",
   "name": "python3"
  },
  "language_info": {
   "codemirror_mode": {
    "name": "ipython",
    "version": 3
   },
   "file_extension": ".py",
   "mimetype": "text/x-python",
   "name": "python",
   "nbconvert_exporter": "python",
   "pygments_lexer": "ipython3",
   "version": "3.12.0"
  }
 },
 "nbformat": 4,
 "nbformat_minor": 2
}
