{
 "cells": [
  {
   "cell_type": "code",
   "execution_count": 1,
   "metadata": {},
   "outputs": [
    {
     "name": "stdout",
     "output_type": "stream",
     "text": [
      "eighty nine\n"
     ]
    }
   ],
   "source": [
    "\"\"\"Write a function that outputs the transcription of an input number with two digits.\n",
    "\n",
    "Example:\n",
    "\n",
    "28---------------->Twenty Eight\"\"\"\n",
    "\n",
    "first_digits = {\n",
    "    1:'one',\n",
    "    2:'two',\n",
    "    3:'three',\n",
    "    4:'four',\n",
    "    5:'five',\n",
    "    6:'six',\n",
    "    7:'seven',\n",
    "    8:'eight',\n",
    "    9:'nine',\n",
    "    0:''\n",
    "    }\n",
    "\n",
    "second_digits = {\n",
    "    \n",
    "    2:'twenty',\n",
    "    3:'thirty',\n",
    "    4:'fourty',\n",
    "    5:'fifty',\n",
    "    6:'sixty',\n",
    "    7:'seventy',\n",
    "    8:'eighty',\n",
    "    9:'ninety',\n",
    "}\n",
    "\n",
    "specials = {\n",
    "    10:'ten',\n",
    "    11:\"eleven\",\n",
    "    12:\"twelve\",\n",
    "    13:\"thirteen\",\n",
    "    14:\"fourteen\",\n",
    "    15:\"fifteen\",\n",
    "    16:\"sixteen\",\n",
    "    17:\"seventeen\",\n",
    "    18:\"eighten\",\n",
    "    19:\"nineteen\",\n",
    "}\n",
    "\n",
    "def read_number(num):\n",
    "    if (num>=1 and num<=9):\n",
    "        writen_num = first_digits[num]\n",
    "        print(writen_num)\n",
    "    elif (num>=10 and num<=19):\n",
    "        writen_num = specials[num]\n",
    "        print(writen_num)\n",
    "    elif (num >=20 and num <=99):\n",
    "        writen_num = second_digits[num//10] + \" \" + first_digits[num%10]\n",
    "        print(writen_num)\n",
    "    else:\n",
    "        print('Invalid input')\n",
    "\n",
    "\n",
    "read_number(int(input('Enter a number between 1-99: ')))"
   ]
  }
 ],
 "metadata": {
  "kernelspec": {
   "display_name": "Python 3",
   "language": "python",
   "name": "python3"
  },
  "language_info": {
   "codemirror_mode": {
    "name": "ipython",
    "version": 3
   },
   "file_extension": ".py",
   "mimetype": "text/x-python",
   "name": "python",
   "nbconvert_exporter": "python",
   "pygments_lexer": "ipython3",
   "version": "3.12.0"
  }
 },
 "nbformat": 4,
 "nbformat_minor": 2
}
