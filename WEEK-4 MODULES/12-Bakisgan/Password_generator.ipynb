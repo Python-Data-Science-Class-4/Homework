{
 "cells": [
  {
   "cell_type": "code",
   "execution_count": 1,
   "metadata": {},
   "outputs": [
    {
     "name": "stdout",
     "output_type": "stream",
     "text": [
      "Generated password : pXdNwZc>]39bV, length of generated password: 13\n"
     ]
    }
   ],
   "source": [
    "# Random Password Generator\n",
    "import random as rd\n",
    "import string as st\n",
    "\n",
    "class password():\n",
    "    special_symbols = [33, 34, 35, 36, 37, 38, 39, 40, 41, 42, 43, 44, 45, 46, 47, 58, 59, 60, 61, 62, 63, 64, 91, 92, 93, 94, 95, 123, 124, 125]\n",
    "    pwrd=[]\n",
    "    pwrd_chr=[]\n",
    "\n",
    "    def __init__(self,PW_length) -> None:\n",
    "        while True:\n",
    "            try:\n",
    "                if int(PW_length)<10 or int(PW_length)>20:\n",
    "                    raise ValueError(\"Password should be between 10 and 20! Please enter the number of pasword length\")\n",
    "                else:\n",
    "                    break\n",
    "            except ValueError:\n",
    "                PW_length=int(input(\"Please enter the length of password:\"))\n",
    "        \n",
    "        while True:\n",
    "            pwrd=rd.sample(range(33,125), PW_length)\n",
    "            digits=0\n",
    "            special=0\n",
    "            upperkeys=0\n",
    "            for i in pwrd:\n",
    "                if chr(i) in st.digits:\n",
    "                    digits+=1\n",
    "                elif chr(i) in list(st.ascii_uppercase):\n",
    "                    upperkeys+=1\n",
    "                elif i in self.special_symbols:\n",
    "                    special+=1\n",
    "            if digits>1 and upperkeys>1 and special>1:\n",
    "                for y in pwrd:\n",
    "                    self.pwrd_chr.append(chr(y))\n",
    "                rd.shuffle(self.pwrd_chr)\n",
    "                break\n",
    "    \n",
    "    def __str__(self) -> str:\n",
    "        passw=\"\".join(self.pwrd_chr)\n",
    "        return f\"Generated password : {passw}, length of generated password: {len(self.pwrd_chr)}\"\n",
    "    \n",
    "print(password(int(input(\"Please enter the length of password to be generated:\"))))"
   ]
  },
  {
   "cell_type": "code",
   "execution_count": null,
   "metadata": {},
   "outputs": [],
   "source": []
  }
 ],
 "metadata": {
  "kernelspec": {
   "display_name": "Python 3",
   "language": "python",
   "name": "python3"
  },
  "language_info": {
   "codemirror_mode": {
    "name": "ipython",
    "version": 3
   },
   "file_extension": ".py",
   "mimetype": "text/x-python",
   "name": "python",
   "nbconvert_exporter": "python",
   "pygments_lexer": "ipython3",
   "version": "3.11.1"
  }
 },
 "nbformat": 4,
 "nbformat_minor": 2
}
