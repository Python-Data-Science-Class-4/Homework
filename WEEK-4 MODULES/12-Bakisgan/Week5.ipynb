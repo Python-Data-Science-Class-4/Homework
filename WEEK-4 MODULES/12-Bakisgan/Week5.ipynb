{
 "cells": [
  {
   "cell_type": "code",
   "execution_count": 2,
   "metadata": {},
   "outputs": [
    {
     "name": "stdout",
     "output_type": "stream",
     "text": [
      "animal\n",
      "animal walks\n"
     ]
    }
   ],
   "source": [
    "class Animal(object):\n",
    "    def __init__(self):\n",
    "        print('animal')\n",
    "    def walk(self):\n",
    "        print('animal walks')\n",
    "class Monkey(Animal):\n",
    "    def __init__(self):\n",
    "        super().__init__()\n",
    "        print(\"monkey\")\n",
    "    def climb(self):\n",
    "        print(\"animal climbs\")\n",
    "class Bird(Animal):\n",
    "    def __init__(self):\n",
    "        super().__init__()\n",
    "        print(\"bird\")\n",
    "    def fly(self):\n",
    "        print('Birds fly')\n",
    "\n",
    "m1= Animal()\n",
    "m1.walk()"
   ]
  },
  {
   "cell_type": "code",
   "execution_count": 3,
   "metadata": {},
   "outputs": [
    {
     "name": "stdout",
     "output_type": "stream",
     "text": [
      "animal\n",
      "monkey\n"
     ]
    }
   ],
   "source": [
    "m2=Monkey()"
   ]
  },
  {
   "cell_type": "code",
   "execution_count": 4,
   "metadata": {},
   "outputs": [
    {
     "name": "stdout",
     "output_type": "stream",
     "text": [
      "animal walks\n"
     ]
    }
   ],
   "source": [
    "m2.walk()"
   ]
  },
  {
   "cell_type": "code",
   "execution_count": 7,
   "metadata": {},
   "outputs": [],
   "source": [
    "class futbolcu():\n",
    "    kosu = \"koşabilir\"\n",
    "    depar = \"depar atar\"\n",
    "    maas = 500\n",
    "    def __init__(self, ayak=\"sağ\"):\n",
    "        self.mevki = \"orta\"\n",
    "        self.ayak = ayak\n",
    "class basketbolcu():\n",
    "    turnike = \"turnike atabilir\"\n",
    "    ucluk = \"üçlük atabilir\"\n",
    "    maas = 750\n",
    "    def __init__(self):\n",
    "        self.bolge = \"ileri\"\n",
    "class multisporcu(basketbolcu,futbolcu):\n",
    "    def __init__(self, ayak):\n",
    "        basketbolcu.__init__(self)\n",
    "        futbolcu.__init__(self, ayak)\n",
    "        "
   ]
  },
  {
   "cell_type": "code",
   "execution_count": 17,
   "metadata": {},
   "outputs": [
    {
     "name": "stdout",
     "output_type": "stream",
     "text": [
      "Serkan\n",
      "Bakisgan\n",
      "2500\n"
     ]
    }
   ],
   "source": [
    "tet=\"   Serkan  -Bakisgan  - 2500  \"\n",
    "ad,soyad,numara=tet.split(\"-\")\n",
    "print(ad.strip(),soyad.strip(),numara.strip(),sep=(\"\\n\"))"
   ]
  },
  {
   "cell_type": "code",
   "execution_count": 19,
   "metadata": {},
   "outputs": [],
   "source": [
    "class Society():\n",
    "    societies=[]\n",
    "\n",
    "\n",
    "    def __init__(self, society_name=\"\", house_no_of_mem=\"\",income=\"\",flat=\"D Type\") -> None:\n",
    "        self.society_name = input(\"Name:\")\n",
    "        self.house_no_of_mem = int(input(\"number of members\"))\n",
    "        self.income= int(input(\"Income:\"))\n",
    "        if self.income<15000:\n",
    "            self.flat= \"D Type\"\n",
    "        elif self.income<20000:\n",
    "            self.flat=\"C Type\"\n",
    "        elif self.income<25000:\n",
    "            self.flat=\"B Type\"\n",
    "        else: self.flat=\"A Type\"\n",
    "\n",
    "        Society.societies.append([self.society_name,self.house_no_of_mem,self.income,self.flat])\n",
    "\n",
    "    def show_data(self):\n",
    "        print(f'''\n",
    "Name         : {self.society_name}\n",
    "# of Members : {self.house_no_of_mem}\n",
    "Income       : {self.income}\n",
    "Flat         : {self.flat}\n",
    "              ''')"
   ]
  },
  {
   "cell_type": "code",
   "execution_count": 20,
   "metadata": {},
   "outputs": [],
   "source": [
    "Ahmet=Society()"
   ]
  },
  {
   "cell_type": "code",
   "execution_count": 21,
   "metadata": {},
   "outputs": [],
   "source": [
    "Serkan=Society()"
   ]
  },
  {
   "cell_type": "code",
   "execution_count": 22,
   "metadata": {},
   "outputs": [
    {
     "data": {
      "text/plain": [
       "[['Ahmet', 5, 20000, 'B Type'], ['Serkan', 3, 25000, 'A Type']]"
      ]
     },
     "execution_count": 22,
     "metadata": {},
     "output_type": "execute_result"
    }
   ],
   "source": [
    "Society.societies"
   ]
  },
  {
   "cell_type": "code",
   "execution_count": 23,
   "metadata": {},
   "outputs": [
    {
     "name": "stdout",
     "output_type": "stream",
     "text": [
      "\n",
      "Name         : Serkan\n",
      "# of Members : 3\n",
      "Income       : 25000\n",
      "Flat         : A Type\n",
      "              \n"
     ]
    }
   ],
   "source": [
    "Society.show_data(Serkan)"
   ]
  },
  {
   "cell_type": "code",
   "execution_count": 35,
   "metadata": {},
   "outputs": [],
   "source": [
    "class Iteminfo():\n",
    "    items=[]\n",
    "    def __init__(self,item_code=0,item=\"\",price=\"\",qty=\"\",net_price=\"\",discount=\"\"):\n",
    "        pass\n",
    "\n",
    "    def calculate_discount(self):\n",
    "        if self.qty<=10:\n",
    "            self.discount=0\n",
    "        elif self.qty<=20:\n",
    "            self.discount=15\n",
    "        else:\n",
    "            self.discount=20\n",
    "        return self.discount\n",
    "    \n",
    "    def buy(self):\n",
    "        self.item_code=input(\"Item Code:\")\n",
    "        self.item=input(\"Item Name:\")\n",
    "        self.price=int(input(\"price:\"))\n",
    "        self.qty=int(input(\"Quantity:\"))\n",
    "        self.net_price= self.price*self.calculate_discount()/100\n",
    "        Iteminfo.items.append([self.item_code,self.item,self.price,self.qty,self.discount,self.net_price])\n",
    "    \n",
    "    def show_all(self):\n",
    "        print(f'''\n",
    "Item Code    : {self.item_code}\n",
    "Item Name    : {self.item}\n",
    "Price        : {self.price}\n",
    "Quantity     : {self.qty}\n",
    "Discount     : {self.discount}%\n",
    "Net Price    : {self.net_price}\n",
    "              ''')\n",
    "\n"
   ]
  },
  {
   "cell_type": "code",
   "execution_count": 32,
   "metadata": {},
   "outputs": [],
   "source": [
    "Item1=Iteminfo()"
   ]
  },
  {
   "cell_type": "code",
   "execution_count": 33,
   "metadata": {},
   "outputs": [],
   "source": [
    "Item1.buy()"
   ]
  },
  {
   "cell_type": "code",
   "execution_count": 34,
   "metadata": {},
   "outputs": [
    {
     "name": "stdout",
     "output_type": "stream",
     "text": [
      "\n",
      "Item Code    : a2fc\n",
      "Item Name    : Corn\n",
      "Price        : 50\n",
      "Quantity     : 25\n",
      "Discount     : 20\n",
      "Net Price    : 1000\n",
      "              \n"
     ]
    }
   ],
   "source": [
    "Item1.show_all()"
   ]
  },
  {
   "cell_type": "code",
   "execution_count": 42,
   "metadata": {},
   "outputs": [],
   "source": [
    "class Product():\n",
    "    def __init__(self,product_id=\"\",product_name=\"\",product_purchase_price=\"\",product_sale_price=\"\",remarks=\"\"):\n",
    "        self.product_id=input(\"Product Id:\")\n",
    "        self.product_name=input(\"Product Name:\")\n",
    "        self.product_purchase_price=int(input(\"Purchase Price:\"))\n",
    "        self.product_sale_price=int(input(\"Sale Price:\"))\n",
    "        self.remarks=self.set_remarks()\n",
    "\n",
    "    def set_remarks(self):\n",
    "        if self.product_sale_price>self.product_purchase_price:\n",
    "            self.remarks=\"Profit\"\n",
    "        elif self.product_sale_price<self.product_purchase_price:\n",
    "            self.remarks=\"Loss\"\n",
    "        else:\n",
    "            self.remarks=\"Break-even\"\n",
    "        return self.remarks\n",
    "\n",
    "    def show_all(self):\n",
    "        print(f'''\n",
    "Product Id     : {self.product_id}\n",
    "Product Name   : {self.product_name}\n",
    "Purchase Price : {self.product_purchase_price}\n",
    "Sale Price     : {self.product_sale_price}\n",
    "Remark         : {self.remarks}\n",
    "              ''')"
   ]
  },
  {
   "cell_type": "code",
   "execution_count": 43,
   "metadata": {},
   "outputs": [],
   "source": [
    "Product1=Product()"
   ]
  },
  {
   "cell_type": "code",
   "execution_count": 44,
   "metadata": {},
   "outputs": [
    {
     "name": "stdout",
     "output_type": "stream",
     "text": [
      "\n",
      "Product Id     : ID1\n",
      "Product Name   : Corn\n",
      "Purchase Price : 50\n",
      "Sale Price     : 60\n",
      "Remark         : Profit\n",
      "              \n"
     ]
    }
   ],
   "source": [
    "Product1.show_all()"
   ]
  },
  {
   "cell_type": "code",
   "execution_count": 71,
   "metadata": {},
   "outputs": [],
   "source": [
    "class Customer():\n",
    "    customer_info=dict()\n",
    "    def __init__(self,customer_id=\"\",name=\"\",last_name=\"\"):\n",
    "        self.name=input(\"customer name:\")\n",
    "        self.last_name=input(\"customer last name:\")\n",
    "        if list(self.customer_info)==[]:\n",
    "            self.customer_id=1\n",
    "        else:\n",
    "            self.customer_id=list(self.customer_info)[-1]+1\n",
    "        self.customer_info[self.customer_id]=(self.name,self.last_name)\n",
    "        \n",
    "\n",
    "class Items(Customer):\n",
    "    def __init__(self,customer_id=\"\",name=\"\",last_name=\"\",items_in_cart=\"\",totalprice=\"\",price_tobe_paid=\"\"):\n",
    "        super().__init__(customer_id, name, last_name)\n",
    "        pass\n",
    "\n",
    "    def shopping_cart(self):\n",
    "        self.items_in_cart=[]\n",
    "        self.items_in_cart.append([input(\"Item bought\"),float(input(\"price\"))])\n",
    "        while True:\n",
    "            if input(\"Another Item (Y/N):\")==\"N\":\n",
    "                break\n",
    "            else: self.items_in_cart.append([input(\"Item bought\"),float(input(\"price\"))])\n",
    "        self.calculate_discount()\n",
    "    \n",
    "    def calculate_discount(self):\n",
    "        self.totalprice=0\n",
    "        self.discount=0\n",
    "        for i in self.items_in_cart:\n",
    "            self.totalprice +=i[1]\n",
    "        if self.totalprice<2000:\n",
    "            self.discount=.1\n",
    "        elif self.totalprice<4000:\n",
    "            self.discount=.15\n",
    "        elif self.totalprice>=4000:\n",
    "            self.discount=.2\n",
    "        self.price_tobe_paid=self.totalprice*(1-self.discount)\n",
    "        return self.price_tobe_paid\n",
    "    \n",
    "    def __str__(self) -> str:\n",
    "        self.itemss=[]\n",
    "        for i in self.items_in_cart:\n",
    "            self.itemss.append(i[0])\n",
    "        self.itemss=\", \".join(self.itemss)\n",
    "        return    f'''\n",
    "Name        : {self.name}\n",
    "Last Name   : {self.last_name}\n",
    "Customer Id : {self.customer_id}\n",
    "\n",
    "Shopping Cart:\n",
    "--------------\n",
    "Items       : {self.itemss}\n",
    "Total Price : {self.totalprice}\n",
    "Discount    : {self.totalprice*self.discount}\n",
    "Payment     : {self.price_tobe_paid}\n",
    "                  '''"
   ]
  },
  {
   "cell_type": "code",
   "execution_count": 72,
   "metadata": {},
   "outputs": [],
   "source": [
    "Customer1=Items()"
   ]
  },
  {
   "cell_type": "code",
   "execution_count": 73,
   "metadata": {},
   "outputs": [],
   "source": [
    "Customer1.shopping_cart()"
   ]
  },
  {
   "cell_type": "code",
   "execution_count": 75,
   "metadata": {},
   "outputs": [
    {
     "name": "stdout",
     "output_type": "stream",
     "text": [
      "[['Corn', 900.0], ['Mercimek', 1250.0], ['Banana', 1900.0]]\n",
      "0.2\n",
      "3240.0\n"
     ]
    }
   ],
   "source": [
    "print(Customer1.items_in_cart)\n",
    "print(Customer1.discount)\n",
    "print(Customer1.price_tobe_paid)"
   ]
  },
  {
   "cell_type": "code",
   "execution_count": 77,
   "metadata": {},
   "outputs": [
    {
     "name": "stdout",
     "output_type": "stream",
     "text": [
      "\n",
      "Name        : Serkan\n",
      "Last Name   : Bakisgan\n",
      "Customer Id : 1\n",
      "\n",
      "Shopping Cart:\n",
      "--------------\n",
      "Items       : Corn, Mercimek, Banana\n",
      "Total Price : 4050.0\n",
      "Discount    : 810.0\n",
      "Payment     : 3240.0\n",
      "                  \n"
     ]
    }
   ],
   "source": [
    "print(Customer1)"
   ]
  },
  {
   "cell_type": "code",
   "execution_count": null,
   "metadata": {},
   "outputs": [],
   "source": [
    "\n"
   ]
  },
  {
   "cell_type": "code",
   "execution_count": 4,
   "metadata": {},
   "outputs": [],
   "source": [
    "customer_info=dict()"
   ]
  },
  {
   "cell_type": "code",
   "execution_count": 9,
   "metadata": {},
   "outputs": [
    {
     "name": "stdout",
     "output_type": "stream",
     "text": [
      "1\n"
     ]
    }
   ],
   "source": [
    "if list(customer_info)==[]:\n",
    "    i=1\n",
    "else: i=2\n",
    "print(i)"
   ]
  },
  {
   "cell_type": "code",
   "execution_count": 18,
   "metadata": {},
   "outputs": [],
   "source": [
    "dic={1: ('Hakan', 'Bakisgan'),2:(\"Serkan\",\"Bakisgan\")}"
   ]
  },
  {
   "cell_type": "code",
   "execution_count": 50,
   "metadata": {},
   "outputs": [
    {
     "name": "stdout",
     "output_type": "stream",
     "text": [
      "Hakan\n",
      "Serkan\n"
     ]
    }
   ],
   "source": [
    "for i in dic:\n",
    "    print(dic[i][0])"
   ]
  },
  {
   "cell_type": "code",
   "execution_count": 20,
   "metadata": {},
   "outputs": [
    {
     "data": {
      "text/plain": [
       "[1, 2]"
      ]
     },
     "execution_count": 20,
     "metadata": {},
     "output_type": "execute_result"
    }
   ],
   "source": [
    "list(dic)"
   ]
  },
  {
   "cell_type": "code",
   "execution_count": null,
   "metadata": {},
   "outputs": [],
   "source": []
  }
 ],
 "metadata": {
  "kernelspec": {
   "display_name": "Python 3",
   "language": "python",
   "name": "python3"
  },
  "language_info": {
   "codemirror_mode": {
    "name": "ipython",
    "version": 3
   },
   "file_extension": ".py",
   "mimetype": "text/x-python",
   "name": "python",
   "nbconvert_exporter": "python",
   "pygments_lexer": "ipython3",
   "version": "3.11.1"
  }
 },
 "nbformat": 4,
 "nbformat_minor": 2
}
