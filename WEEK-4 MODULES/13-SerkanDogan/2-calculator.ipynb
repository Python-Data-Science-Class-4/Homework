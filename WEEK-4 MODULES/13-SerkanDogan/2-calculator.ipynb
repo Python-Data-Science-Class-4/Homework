{
 "cells": [
  {
   "cell_type": "code",
   "execution_count": 1,
   "metadata": {},
   "outputs": [],
   "source": [
    "# Import necessary modules and dependencies\n",
    "from math import ceil\n",
    "import sys\n",
    "from addition import add\n",
    "from subtraction import subtract\n",
    "from multiplication import multiply\n",
    "from division import divide"
   ]
  },
  {
   "cell_type": "code",
   "execution_count": 2,
   "metadata": {},
   "outputs": [
    {
     "name": "stdout",
     "output_type": "stream",
     "text": [
      "Result: 1.5 is rounded up to 2\n",
      "Error: Cannot be divided by zero.\n",
      "Goodbye! See you next time...\n"
     ]
    }
   ],
   "source": [
    "#while lopp to write the program\n",
    "while True:\n",
    "    try:\n",
    "        number_1=float(input(\"Submit your first number: \"))                                 # Input from the user\n",
    "        number_2=float(input(\"Submit your second number: \"))                                # Input from the user\n",
    "        operator=input(\"Choose you operator (+, -, *, /): \")                                # Input from the user\n",
    "\n",
    "        if operator == '+':                                                                 # calculation based on operator and connect to the defined modules\n",
    "            result = add(number_1, number_2)\n",
    "        elif operator == '-':                                                               # calculation based on operator and connect to the defined modules\n",
    "            result = subtract(number_1, number_2)\n",
    "        elif operator == '*':                                                               # calculation based on operator and connect to the defined modules\n",
    "            result = multiply(number_1, number_2)\n",
    "        elif operator == '/':                                                               # calculation based on operator and connect to the defined modules\n",
    "            result = divide(number_1, number_2)\n",
    "\n",
    "        result_rounded = ceil(result)                                                       # rounding the result of calculation by using ceil function\n",
    "        print(f\"Result: {result} is rounded up to {result_rounded}\")\n",
    "\n",
    "    except ValueError as ve:                                                                # Defining exceptions\n",
    "        print(f\"Error: {ve}\")\n",
    "    except ZeroDivisionError as zde:\n",
    "        print(f\"ZeroDivisionError: {zde}\")\n",
    "    except Exception as e:\n",
    "        print(f\"An unexpected error: {e}\")\n",
    "\n",
    "\n",
    "    repeat_calculator = input(\"Do you want to do more calculation? (y/n): \").lower()       # after each calculation ask to the user again to get input\n",
    "    if repeat_calculator != 'y':\n",
    "        print(\"Goodbye! See you next time...\")\n",
    "        break"
   ]
  }
 ],
 "metadata": {
  "kernelspec": {
   "display_name": "Python 3",
   "language": "python",
   "name": "python3"
  },
  "language_info": {
   "codemirror_mode": {
    "name": "ipython",
    "version": 3
   },
   "file_extension": ".py",
   "mimetype": "text/x-python",
   "name": "python",
   "nbconvert_exporter": "python",
   "pygments_lexer": "ipython3",
   "version": "3.12.0"
  }
 },
 "nbformat": 4,
 "nbformat_minor": 2
}
