{
 "cells": [
  {
   "cell_type": "code",
   "execution_count": 1,
   "metadata": {},
   "outputs": [],
   "source": [
    "class Society():\n",
    "    societies=[]\n",
    "\n",
    "\n",
    "    def __init__(self, society_name=\"\", house_no_of_mem=\"\",income=\"\",flat=\"D Type\") -> None:\n",
    "        pass\n",
    "\n",
    "    def input_date(self):\n",
    "        self.society_name = input(\"Name:\")\n",
    "        self.house_no_of_mem = int(input(\"number of members\"))\n",
    "        self.income= int(input(\"Income:\"))\n",
    "        self.allocate_flat()\n",
    "    \n",
    "    def allocate_flat(self):\n",
    "        if self.income<15000:\n",
    "            self.flat= \"D Type\"\n",
    "        elif self.income<20000:\n",
    "            self.flat=\"C Type\"\n",
    "        elif self.income<25000:\n",
    "            self.flat=\"B Type\"\n",
    "        else: self.flat=\"A Type\"\n",
    "\n",
    "        Society.societies.append([self.society_name,self.house_no_of_mem,self.income,self.flat])\n",
    "\n",
    "    def show_data(self):\n",
    "        print(f'''\n",
    "Name         : {self.society_name}\n",
    "# of Members : {self.house_no_of_mem}\n",
    "Income       : {self.income}\n",
    "Flat         : {self.flat}\n",
    "              ''')"
   ]
  },
  {
   "cell_type": "code",
   "execution_count": 4,
   "metadata": {},
   "outputs": [],
   "source": [
    "person1=Society()\n",
    "person1.input_date()"
   ]
  },
  {
   "cell_type": "code",
   "execution_count": 5,
   "metadata": {},
   "outputs": [],
   "source": [
    "person2=Society()\n",
    "person2.input_date()"
   ]
  },
  {
   "cell_type": "code",
   "execution_count": 6,
   "metadata": {},
   "outputs": [
    {
     "data": {
      "text/plain": [
       "[['Serkan', 4, 15000, 'C Type'], ['Hakan', 3, 19000, 'C Type']]"
      ]
     },
     "execution_count": 6,
     "metadata": {},
     "output_type": "execute_result"
    }
   ],
   "source": [
    "Society.societies"
   ]
  },
  {
   "cell_type": "code",
   "execution_count": 7,
   "metadata": {},
   "outputs": [
    {
     "name": "stdout",
     "output_type": "stream",
     "text": [
      "\n",
      "Name         : Serkan\n",
      "# of Members : 4\n",
      "Income       : 15000\n",
      "Flat         : C Type\n",
      "              \n"
     ]
    }
   ],
   "source": [
    "Society.show_data(person1)"
   ]
  },
  {
   "cell_type": "code",
   "execution_count": null,
   "metadata": {},
   "outputs": [],
   "source": []
  }
 ],
 "metadata": {
  "kernelspec": {
   "display_name": "Python 3",
   "language": "python",
   "name": "python3"
  },
  "language_info": {
   "codemirror_mode": {
    "name": "ipython",
    "version": 3
   },
   "file_extension": ".py",
   "mimetype": "text/x-python",
   "name": "python",
   "nbconvert_exporter": "python",
   "pygments_lexer": "ipython3",
   "version": "3.11.1"
  }
 },
 "nbformat": 4,
 "nbformat_minor": 2
}
