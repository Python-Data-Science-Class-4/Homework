{
 "cells": [
  {
   "cell_type": "code",
   "execution_count": 1,
   "metadata": {},
   "outputs": [],
   "source": [
    "class Product():\n",
    "    def __init__(self,product_id=\"\",product_name=\"\",product_purchase_price=\"\",product_sale_price=\"\",remarks=\"\"):\n",
    "        self.product_id=input(\"Product Id:\")\n",
    "        self.product_name=input(\"Product Name:\")\n",
    "        self.product_purchase_price=int(input(\"Purchase Price:\"))\n",
    "        self.product_sale_price=int(input(\"Sale Price:\"))\n",
    "        self.remarks=self.set_remarks()\n",
    "\n",
    "    def set_remarks(self):\n",
    "        if self.product_sale_price>self.product_purchase_price:\n",
    "            self.remarks=\"Profit\"\n",
    "        elif self.product_sale_price<self.product_purchase_price:\n",
    "            self.remarks=\"Loss\"\n",
    "        else:\n",
    "            self.remarks=\"Break-even\"\n",
    "        return self.remarks\n",
    "\n",
    "    def show_all(self):\n",
    "        print(f'''\n",
    "Product Id     : {self.product_id}\n",
    "Product Name   : {self.product_name}\n",
    "Purchase Price : {self.product_purchase_price}\n",
    "Sale Price     : {self.product_sale_price}\n",
    "Remark         : {self.remarks}\n",
    "              ''')"
   ]
  },
  {
   "cell_type": "code",
   "execution_count": 2,
   "metadata": {},
   "outputs": [],
   "source": [
    "product1=Product()"
   ]
  },
  {
   "cell_type": "code",
   "execution_count": 3,
   "metadata": {},
   "outputs": [
    {
     "name": "stdout",
     "output_type": "stream",
     "text": [
      "\n",
      "Product Id     : 101\n",
      "Product Name   : Corn\n",
      "Purchase Price : 120\n",
      "Sale Price     : 140\n",
      "Remark         : Profit\n",
      "              \n"
     ]
    }
   ],
   "source": [
    "product1.show_all()"
   ]
  },
  {
   "cell_type": "code",
   "execution_count": null,
   "metadata": {},
   "outputs": [],
   "source": []
  }
 ],
 "metadata": {
  "kernelspec": {
   "display_name": "Python 3",
   "language": "python",
   "name": "python3"
  },
  "language_info": {
   "codemirror_mode": {
    "name": "ipython",
    "version": 3
   },
   "file_extension": ".py",
   "mimetype": "text/x-python",
   "name": "python",
   "nbconvert_exporter": "python",
   "pygments_lexer": "ipython3",
   "version": "3.11.1"
  }
 },
 "nbformat": 4,
 "nbformat_minor": 2
}
