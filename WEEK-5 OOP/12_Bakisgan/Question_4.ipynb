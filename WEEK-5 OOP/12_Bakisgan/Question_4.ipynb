{
 "cells": [
  {
   "cell_type": "code",
   "execution_count": 1,
   "metadata": {},
   "outputs": [],
   "source": [
    "class Customer():\n",
    "    customer_info=dict()\n",
    "    def __init__(self,customer_id=\"\",name=\"\",last_name=\"\"):\n",
    "        self.name=input(\"customer name:\")\n",
    "        self.last_name=input(\"customer last name:\")\n",
    "        if list(self.customer_info)==[]:\n",
    "            self.customer_id=1\n",
    "        else:\n",
    "            self.customer_id=list(self.customer_info)[-1]+1\n",
    "        self.customer_info[self.customer_id]=(self.name,self.last_name)\n",
    "        \n",
    "\n",
    "class Items(Customer):\n",
    "    def __init__(self,customer_id=\"\",name=\"\",last_name=\"\",items_in_cart=\"\",totalprice=\"\",price_tobe_paid=\"\"):\n",
    "        super().__init__(customer_id, name, last_name)\n",
    "        pass\n",
    "\n",
    "    def shopping_cart(self):\n",
    "        self.items_in_cart=[]\n",
    "        self.items_in_cart.append([input(\"Item bought\"),float(input(\"price\"))])\n",
    "        while True:\n",
    "            if input(\"Another Item (Y/N):\")==\"N\":\n",
    "                break\n",
    "            else: self.items_in_cart.append([input(\"Item bought\"),float(input(\"price\"))])\n",
    "        self.calculate_discount()\n",
    "    \n",
    "    def calculate_discount(self):\n",
    "        self.totalprice=0\n",
    "        self.discount=0\n",
    "        for i in self.items_in_cart:\n",
    "            self.totalprice +=i[1]\n",
    "        if self.totalprice<2000:\n",
    "            self.discount=.1\n",
    "        elif self.totalprice<4000:\n",
    "            self.discount=.15\n",
    "        elif self.totalprice>=4000:\n",
    "            self.discount=.2\n",
    "        self.price_tobe_paid=self.totalprice*(1-self.discount)\n",
    "        return self.price_tobe_paid\n",
    "    \n",
    "    def __str__(self) -> str:\n",
    "        self.itemss=[]\n",
    "        for i in self.items_in_cart:\n",
    "            self.itemss.append(i[0])\n",
    "        self.itemss=\", \".join(self.itemss)\n",
    "        return    f'''\n",
    "Name        : {self.name}\n",
    "Last Name   : {self.last_name}\n",
    "Customer Id : {self.customer_id}\n",
    "\n",
    "Shopping Cart:\n",
    "--------------\n",
    "Items       : {self.itemss}\n",
    "Total Price : {self.totalprice}\n",
    "Discount    : {self.totalprice*self.discount}\n",
    "Payment     : {self.price_tobe_paid}\n",
    "                  '''"
   ]
  },
  {
   "cell_type": "code",
   "execution_count": 2,
   "metadata": {},
   "outputs": [],
   "source": [
    "Customer1=Items()"
   ]
  },
  {
   "cell_type": "code",
   "execution_count": 3,
   "metadata": {},
   "outputs": [],
   "source": [
    "Customer1.shopping_cart()"
   ]
  },
  {
   "cell_type": "code",
   "execution_count": 4,
   "metadata": {},
   "outputs": [
    {
     "name": "stdout",
     "output_type": "stream",
     "text": [
      "\n",
      "Name        : Serkan\n",
      "Last Name   : Bakisgan\n",
      "Customer Id : 1\n",
      "\n",
      "Shopping Cart:\n",
      "--------------\n",
      "Items       : Corn, Reis, Banana\n",
      "Total Price : 2220.0\n",
      "Discount    : 333.0\n",
      "Payment     : 1887.0\n",
      "                  \n"
     ]
    }
   ],
   "source": [
    "print(Customer1)"
   ]
  },
  {
   "cell_type": "code",
   "execution_count": null,
   "metadata": {},
   "outputs": [],
   "source": []
  }
 ],
 "metadata": {
  "kernelspec": {
   "display_name": "Python 3",
   "language": "python",
   "name": "python3"
  },
  "language_info": {
   "codemirror_mode": {
    "name": "ipython",
    "version": 3
   },
   "file_extension": ".py",
   "mimetype": "text/x-python",
   "name": "python",
   "nbconvert_exporter": "python",
   "pygments_lexer": "ipython3",
   "version": "3.11.1"
  }
 },
 "nbformat": 4,
 "nbformat_minor": 2
}
