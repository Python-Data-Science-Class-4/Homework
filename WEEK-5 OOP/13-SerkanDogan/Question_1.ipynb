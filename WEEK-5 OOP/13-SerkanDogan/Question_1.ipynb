{
 "cells": [
  {
   "cell_type": "code",
   "execution_count": null,
   "metadata": {},
   "outputs": [],
   "source": [
    "# Question 1:\n",
    "# Create the class Society with following information:\n",
    "# society_name, house_no_of_mem, flat, income\n",
    "\n",
    "# Methods:\n",
    "# An_init_ method to assign initial values of society_name, house_no_of_mem, flat, income\n",
    "# input_data() To read information from members\n",
    "# allocate_flat() To allocate flat according to income using the below table.\n",
    "# show_data() to display the details of the entire class.\n",
    "# Income --> =25000 -->= 20000 and <25000 -->= 15000 and <20000 --<15000\n",
    "# Flat   --A Type   --B Type              --C Type               --D Type"
   ]
  },
  {
   "cell_type": "code",
   "execution_count": 15,
   "metadata": {},
   "outputs": [
    {
     "name": "stdout",
     "output_type": "stream",
     "text": [
      "\n",
      "Dogan\n",
      "Income: 35000\n",
      "House Number of Members: 4\n",
      "Allocated Flat Type: A\n",
      "\n"
     ]
    }
   ],
   "source": [
    "class Society:\n",
    "    flat_type = \"A\"  # This is anclass attribute as default but this will change according to the user input.\n",
    "\n",
    "    def __init__(self, society_name, house_no_of_mem, flat, income):\n",
    "        self.society_name = society_name\n",
    "        self.house_no_of_mem = house_no_of_mem\n",
    "        self.flat = flat\n",
    "        self.income = income\n",
    "        self.allocate_flat()  # Allocate flat type during initialization\n",
    "\n",
    "    def allocate_flat(self):\n",
    "        if 25000 <= self.income:\n",
    "            flat_type = \"A\"\n",
    "        elif 20000 <= self.income < 25000:\n",
    "            flat_type = \"B\"\n",
    "        elif 15000 <= self.income < 20000:\n",
    "            flat_type = \"C\"\n",
    "        else:\n",
    "            flat_type = \"D\"\n",
    "        self.flat_type = flat_type\n",
    "        return flat_type\n",
    "\n",
    "    def show_society_details(self):\n",
    "        allocated_flat = self.flat_type\n",
    "        print(f\"\\n{self.society_name}\\nIncome: {self.income}\\nHouse Number of Members: {self.house_no_of_mem}\\nAllocated Flat Type: {allocated_flat}\\n\")\n",
    "\n",
    "def get_user_input():\n",
    "    try:\n",
    "        society_name = input(\"Submit Society Name: \")\n",
    "        house_no_of_mem = int(input(\"Submit your House Number of Members: \"))\n",
    "        flat = input(\"Submit your Flat type: \")\n",
    "        income = int(input(\"Submit your Income: \"))\n",
    "    except ValueError:\n",
    "        print(\"Invalid input. Please enter valid numerical values.\")\n",
    "        exit(1)\n",
    "\n",
    "    return society_name, house_no_of_mem, flat, income\n",
    "\n",
    "# To start overall program\n",
    "society_name, house_no_of_mem, flat, income = get_user_input()\n",
    "input_member = Society(society_name, house_no_of_mem, flat, income)\n",
    "input_member.show_society_details()\n"
   ]
  }
 ],
 "metadata": {
  "kernelspec": {
   "display_name": "Python 3",
   "language": "python",
   "name": "python3"
  },
  "language_info": {
   "codemirror_mode": {
    "name": "ipython",
    "version": 3
   },
   "file_extension": ".py",
   "mimetype": "text/x-python",
   "name": "python",
   "nbconvert_exporter": "python",
   "pygments_lexer": "ipython3",
   "version": "3.12.0"
  }
 },
 "nbformat": 4,
 "nbformat_minor": 2
}
