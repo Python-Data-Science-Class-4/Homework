{
 "cells": [
  {
   "cell_type": "markdown",
   "metadata": {},
   "source": [
    "Question 3:\n",
    "Define a class named Product with the following specifications:\n",
    "Data members:\n",
    "• product_id A string to store product.\n",
    "• product_name - A string to store the name of the product.\n",
    "• product_purchase_price A decimal to store the cost price of the product.\n",
    "• product_sale_price - A decimal to store Sale Price Margin - A decimal to be calculated as (product_sale_price product_purchase_price)\n",
    "• Remarks - To store \"Profit\" if Margin is positive else \"Loss\" if Margin is negative.\n",
    "Methods:\n",
    "• A constructor to intialize all the data members with valid default values.\n",
    "• A method set_remarks() that assigns Margin as (product_sale_price product_purchase_price) and sets Remarks as mentioned below:"
   ]
  },
  {
   "cell_type": "code",
   "execution_count": 9,
   "metadata": {},
   "outputs": [
    {
     "name": "stdout",
     "output_type": "stream",
     "text": [
      "\n",
      "    Product Id          : dsfs\n",
      "    Product Name        : afafaf\n",
      "    Purchase Price      : 15\n",
      "    Sale Price          : 46\n",
      "    Sale Price Margin   : 31\n",
      "    Remarks             : Profit\n",
      "    \n"
     ]
    }
   ],
   "source": [
    "class Product:\n",
    "\n",
    "    def __init__(self, product_id=\"\", product_name=\"\", product_purchase_price=0, product_sale_price=0, sale_price_margin=0, remarks=\"\"):\n",
    "        \"\"\"\n",
    "        Creating product information.\n",
    "        \"\"\"\n",
    "        self.product_id = product_id\n",
    "        self.product_name = product_name\n",
    "        self.product_purchase_price = product_purchase_price\n",
    "        self.product_sale_price = product_sale_price\n",
    "        self.sale_price_margin = sale_price_margin\n",
    "        self.remarks = remarks\n",
    "\n",
    "    def set_details(self):\n",
    "        \"\"\"\n",
    "        Getting input as product information from the user and setting basics.\n",
    "        \"\"\"\n",
    "        self.product_id = input(\"\\nPlease type the Product Id: \")\n",
    "        self.product_name = input(\"Please type the Product Name: \")\n",
    "        self.product_purchase_price = int(input(\"Please type the Product Purchase Price: \"))\n",
    "        self.product_sale_price = int(input(\"Please type the Product Sale Price: \"))\n",
    "        self.calculate_sale_price_margin()\n",
    "        self.remarks = self.calculate_remarks()\n",
    "\n",
    "    def calculate_sale_price_margin(self):\n",
    "        \"\"\"\n",
    "        Calculating the sale price margin.\n",
    "        \"\"\"\n",
    "        self.sale_price_margin = self.product_sale_price - self.product_purchase_price\n",
    "\n",
    "    def calculate_remarks(self):\n",
    "        \"\"\"\n",
    "        Determining whether there is a profit or loss.\n",
    "        \"\"\"\n",
    "        if self.sale_price_margin < 0:\n",
    "            return \"Loss\"\n",
    "        elif self.sale_price_margin > 0:\n",
    "            return \"Profit\"\n",
    "\n",
    "    def all(self):\n",
    "        \"\"\"\n",
    "        Showing all product information.\n",
    "        \"\"\"\n",
    "        return f'''\n",
    "    Product Id          : {self.product_id}\n",
    "    Product Name        : {self.product_name}\n",
    "    Purchase Price      : {self.product_purchase_price}\n",
    "    Sale Price          : {self.product_sale_price}\n",
    "    Sale Price Margin   : {self.sale_price_margin}\n",
    "    Remarks             : {self.remarks}\n",
    "    '''\n",
    "\n",
    "# Create an object of the Product class\n",
    "order = Product()\n",
    "\n",
    "# Call the set_details() method to input information from the user\n",
    "order.set_details()\n",
    "\n",
    "# Printing all the information\n",
    "print(order.all())\n"
   ]
  }
 ],
 "metadata": {
  "kernelspec": {
   "display_name": "Python 3",
   "language": "python",
   "name": "python3"
  },
  "language_info": {
   "codemirror_mode": {
    "name": "ipython",
    "version": 3
   },
   "file_extension": ".py",
   "mimetype": "text/x-python",
   "name": "python",
   "nbconvert_exporter": "python",
   "pygments_lexer": "ipython3",
   "version": "3.12.0"
  }
 },
 "nbformat": 4,
 "nbformat_minor": 2
}
