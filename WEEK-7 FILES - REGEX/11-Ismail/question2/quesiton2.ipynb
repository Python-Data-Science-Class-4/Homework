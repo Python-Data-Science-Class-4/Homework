{
 "cells": [
  {
   "cell_type": "code",
   "execution_count": 5,
   "metadata": {},
   "outputs": [
    {
     "name": "stdout",
     "output_type": "stream",
     "text": [
      "['`Without', 'Laburnum', 'brightly', 'possesse', 'involvin', 'unnecess', 'provoked', 'knitting', 'placidly', 'desirous', 'preventi', 'listenin', 'surveyin', 'stretche', 'unlooked', 'violence', 'thinking']\n"
     ]
    }
   ],
   "source": [
    "#Search for eight-letter words within the text file named \"eight_letter\" located in the src folder and print them.\n",
    "\n",
    "'''Import re module'''\n",
    "import re \n",
    "\n",
    "'''Describe the text file that we want to work on it'''\n",
    "\n",
    "eight_letter_text= \"./eight_letter.txt\" \n",
    "\n",
    "''' Read and close the file with 'with' module  '''\n",
    "with open(eight_letter_text,\"r\") as text_file:\n",
    "    read_eight_letters= text_file.read()\n",
    "    \n",
    "'''Create a pattern that it includes eight letters'''\n",
    "pattern= (r'[A-z]{8}')\n",
    "\n",
    "'''Find with use re module all words that has eight letters'''\n",
    "result = re.findall(pattern,read_eight_letters)\n",
    "\n",
    "print(result)\n"
   ]
  },
  {
   "cell_type": "code",
   "execution_count": 8,
   "metadata": {},
   "outputs": [
    {
     "name": "stdout",
     "output_type": "stream",
     "text": [
      "['franky', 'sinatra123']\n"
     ]
    }
   ],
   "source": [
    "import re \n",
    "\n",
    "def without_domain(text=None):\n",
    "    pattern = r'(\\w+)@\\w+\\.\\w+'  # Sadece kullanıcı adını alacak şekilde desen\n",
    "    matches = re.findall(pattern, text)\n",
    "    \n",
    "    if len(matches) == 0:\n",
    "        return \"There is no email address here!\"\n",
    "    else:\n",
    "        usernames = [match.split('@')[0] for match in matches]  # @ işaretinden önceki kısmı al\n",
    "        return usernames\n",
    "\n",
    "try2 = \"The advancements in biomarine studies franky@google.com with the investments necessary and Davos sinatra123@yahoo.com. Then New Yorker article on wind farms\"\n",
    "\n",
    "output = without_domain(try2)\n",
    "print(output)\n"
   ]
  }
 ],
 "metadata": {
  "kernelspec": {
   "display_name": "Python 3",
   "language": "python",
   "name": "python3"
  },
  "language_info": {
   "codemirror_mode": {
    "name": "ipython",
    "version": 3
   },
   "file_extension": ".py",
   "mimetype": "text/x-python",
   "name": "python",
   "nbconvert_exporter": "python",
   "pygments_lexer": "ipython3",
   "version": "3.12.0"
  }
 },
 "nbformat": 4,
 "nbformat_minor": 2
}
