{
 "cells": [
  {
   "cell_type": "code",
   "execution_count": 1,
   "metadata": {},
   "outputs": [
    {
     "name": "stdout",
     "output_type": "stream",
     "text": [
      "MK4FM53B6\n"
     ]
    }
   ],
   "source": [
    "import re\n",
    "\n",
    "Idnumber= re.compile(r'[a-zA-Z]{2}\\d[a-zA-Z]{2}\\d\\d[a-zA-Z]\\d')\n",
    "\n",
    "input1=input(\"Please enter text\")\n",
    "\n",
    "id_num=Idnumber.search(input1)\n",
    "print(id_num.group())"
   ]
  },
  {
   "cell_type": "code",
   "execution_count": null,
   "metadata": {},
   "outputs": [],
   "source": []
  }
 ],
 "metadata": {
  "kernelspec": {
   "display_name": "Python 3",
   "language": "python",
   "name": "python3"
  },
  "language_info": {
   "codemirror_mode": {
    "name": "ipython",
    "version": 3
   },
   "file_extension": ".py",
   "mimetype": "text/x-python",
   "name": "python",
   "nbconvert_exporter": "python",
   "pygments_lexer": "ipython3",
   "version": "3.11.1"
  }
 },
 "nbformat": 4,
 "nbformat_minor": 2
}
