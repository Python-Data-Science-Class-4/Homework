{
 "cells": [
  {
   "cell_type": "code",
   "execution_count": 2,
   "metadata": {},
   "outputs": [
    {
     "name": "stdout",
     "output_type": "stream",
     "text": [
      "['Laburnum', 'brightly', 'provoked', 'knitting', 'placidly', 'desirous', 'unlooked', 'violence', 'thinking']\n"
     ]
    }
   ],
   "source": [
    "import re\n",
    "\n",
    "filename=\"eight_letter.txt\"\n",
    "my_file=open(filename,\"r\")\n",
    "pttrn=re.compile(r'\\b\\w{8}\\b')\n",
    "result=re.findall(pttrn,my_file.read())\n",
    "print(result)\n",
    "my_file.close()"
   ]
  },
  {
   "cell_type": "code",
   "execution_count": null,
   "metadata": {},
   "outputs": [],
   "source": []
  }
 ],
 "metadata": {
  "kernelspec": {
   "display_name": "Python 3",
   "language": "python",
   "name": "python3"
  },
  "language_info": {
   "codemirror_mode": {
    "name": "ipython",
    "version": 3
   },
   "file_extension": ".py",
   "mimetype": "text/x-python",
   "name": "python",
   "nbconvert_exporter": "python",
   "pygments_lexer": "ipython3",
   "version": "3.11.1"
  }
 },
 "nbformat": 4,
 "nbformat_minor": 2
}
