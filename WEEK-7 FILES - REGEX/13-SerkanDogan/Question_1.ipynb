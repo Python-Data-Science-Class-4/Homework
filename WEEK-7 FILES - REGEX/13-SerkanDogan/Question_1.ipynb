{
 "cells": [
  {
   "cell_type": "markdown",
   "metadata": {},
   "source": [
    "## Question 1:\n",
    "Write a program that detects the ID number hidden in a text. We know that the format of the ID number is 2 letters, 1 digit, 2 letters, 2 digits, 1 letter, 1 digit (For example: AA4ZA11B1).\n",
    "\n",
    "Input : AABZA1111AEGTV5YH678MK4FM53B6\n",
    "Output : MK4FM53B6\n",
    "\n",
    "Input : AEGTV5VZ4PF94B6YH678\n",
    "Output : VZ4PF94B6"
   ]
  },
  {
   "cell_type": "code",
   "execution_count": 1,
   "metadata": {},
   "outputs": [
    {
     "name": "stdout",
     "output_type": "stream",
     "text": [
      "Input: AABZA1111AEGTV5YH678MK4FM53B6\n",
      "Output: MK4FM53B6\n"
     ]
    }
   ],
   "source": [
    "# Import the re module for regular expressions in Python.\n",
    "import re\n",
    "\n",
    "# Define the pattern > 2 letters, 1 digit, 2 letters, 2 digits, 1 letter, and 1 digit.\n",
    "pattern = '[A-Za-z]{2}[0-9]{1}[A-Za-z]{2}[0-9]{2}[A-Za-z]{1}[0-9]{1}'\n",
    "\n",
    "# Get input from the user to detect the pattern.\n",
    "input = input(\"Enter a test string to detect the pattern: \")\n",
    "\n",
    "# Print Input.\n",
    "print(\"Input: \" + input)\n",
    "\n",
    "# re.findall to find all the matches of the pattern in the input string.\n",
    "result = re.findall(pattern, input)\n",
    "\n",
    "# Print the result.\n",
    "if result:\n",
    "    print(\"Output: \" + result[0])\n",
    "else:\n",
    "    print(\"ID number is not found in the given input string.\")\n",
    "\n"
   ]
  }
 ],
 "metadata": {
  "kernelspec": {
   "display_name": "Python 3",
   "language": "python",
   "name": "python3"
  },
  "language_info": {
   "codemirror_mode": {
    "name": "ipython",
    "version": 3
   },
   "file_extension": ".py",
   "mimetype": "text/x-python",
   "name": "python",
   "nbconvert_exporter": "python",
   "pygments_lexer": "ipython3",
   "version": "3.12.0"
  }
 },
 "nbformat": 4,
 "nbformat_minor": 2
}
