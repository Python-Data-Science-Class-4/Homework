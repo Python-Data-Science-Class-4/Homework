{
 "cells": [
  {
   "cell_type": "markdown",
   "metadata": {},
   "source": [
    "## Question 2:\n",
    "Search for eight-letter words within the text file named \"eight_letter\" located in the src folder and print them."
   ]
  },
  {
   "cell_type": "code",
   "execution_count": 10,
   "metadata": {},
   "outputs": [
    {
     "name": "stdout",
     "output_type": "stream",
     "text": [
      "Content of input file: `Without, the night was cold and wet, but in the small parlour of Laburnum villa the blinds were drawn and the fire burned brightly. Father and son were at chess; the former, who possessed ideas about the game involving radical chances, putting his king into such sharp and unnecessary perils that it even provoked comment from the white-haired old lady knitting placidly by the fire. \"Hark at the wind,\" said Mr. White, \"who, having seen a fatal mistake after it was too late, was amiably desirous of preventing his son from seeing it. I'm listening,\" said the latter grimly surveying the board as he stretched out his hand. \"Check.\" I should hardly think that he's come tonight,\" said his father, with his hand poised over the board. \"Mate,\" replied the son. \"That's the worst of living so far out,\" balled Mr. White with sudden and unlooked-for violence; \"Of all the beastly, slushy, out of the way places to live in, this is the worst. Path's a bog, and the road's a torrent. I don't know what people are thinking about. I suppose because only two houses in the road are let, they think it doesn't matter.\"`\n",
      "Eight-letter words in the file:  ['Laburnum', 'brightly', 'possessed', 'involving', 'unnecessary', 'provoked', 'knitting', 'placidly', 'desirous', 'preventing', 'listening', 'surveying', 'stretched', 'unlooked', 'violence', 'thinking']\n",
      "Number of eight-letter words in the file: 16\n"
     ]
    }
   ],
   "source": [
    "# Import the re module for regular expressions in Python.\n",
    "import re\n",
    "\n",
    "# Define the pattern to search\n",
    "pattern = r'[A-Za-z]{8,}'\n",
    "\n",
    "# Define input file path to be searched for the pattern and open the file for reading\n",
    "with open('../src/eight_letter.txt', 'r', encoding='utf-8') as a:\n",
    "    words = a.read()\n",
    "\n",
    "# Print content of the file\n",
    "print(f\"Content of input file: {words}\")\n",
    "\n",
    "# re.findall to find all the matches of the pattern in the input string.\n",
    "result = re.findall(pattern, words)\n",
    "\n",
    "# Print Eight-letter words in the file\n",
    "print(f\"Eight-letter words in the file: \", result)\n",
    "\n",
    "# Number of Eight-letter words in the file\n",
    "print(f\"Number of eight-letter words in the file: {len(result)}\")\n"
   ]
  }
 ],
 "metadata": {
  "kernelspec": {
   "display_name": "Python 3",
   "language": "python",
   "name": "python3"
  },
  "language_info": {
   "codemirror_mode": {
    "name": "ipython",
    "version": 3
   },
   "file_extension": ".py",
   "mimetype": "text/x-python",
   "name": "python",
   "nbconvert_exporter": "python",
   "pygments_lexer": "ipython3",
   "version": "3.12.0"
  }
 },
 "nbformat": 4,
 "nbformat_minor": 2
}
