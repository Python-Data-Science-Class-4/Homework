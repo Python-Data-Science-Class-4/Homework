{
 "cells": [
  {
   "cell_type": "markdown",
   "metadata": {},
   "source": [
    "## Question 3:\n",
    "Create a function that identifies and lists email addresses without domain names within a given text. \n",
    "\n",
    "Example:\n",
    "\n",
    "sample_text =  \"The advencements in biomarine studies franky@google.com with the investments necessary and Davos sinatra123@yahoo.com. Then New Yorker article on wind farms...\"\n",
    "\n",
    "Output :\n",
    "[\"franky\",\"sinatra123\"]"
   ]
  },
  {
   "cell_type": "code",
   "execution_count": 10,
   "metadata": {},
   "outputs": [
    {
     "name": "stdout",
     "output_type": "stream",
     "text": [
      "Email addresses found  in the sample_text: ['franky@google.com', 'sinatra123@yahoo.com.']\n",
      "Output for usernames:\n",
      "['franky', 'sinatra123']\n"
     ]
    }
   ],
   "source": [
    "# Import the re module for regular expressions in Python.\n",
    "import re\n",
    "\n",
    "# Get sample text as input from the user\n",
    "sample_text = input(\"Enter the text to be searched for email addresses: \")\n",
    "\n",
    "# Define the pattern to search for email addresses; pattern before/after the @ symbol without spaces\n",
    "pattern = r'\\S+@\\S+'\n",
    "\n",
    "match = re.findall(pattern, sample_text)\n",
    "\n",
    "# Print the found email addresses\n",
    "print(f\"Email addresses found  in the sample_text: {match}\")\n",
    "\n",
    "# To get each email address without @ symbol as a list > To split from '@' character and get the first part (username)\n",
    "usernames = [i.split('@')[0] for i in match]\n",
    "\n",
    "# Print the list of usernames\n",
    "print(f\"Output for usernames:\\n{usernames}\")"
   ]
  }
 ],
 "metadata": {
  "kernelspec": {
   "display_name": "Python 3",
   "language": "python",
   "name": "python3"
  },
  "language_info": {
   "codemirror_mode": {
    "name": "ipython",
    "version": 3
   },
   "file_extension": ".py",
   "mimetype": "text/x-python",
   "name": "python",
   "nbconvert_exporter": "python",
   "pygments_lexer": "ipython3",
   "version": "3.12.0"
  }
 },
 "nbformat": 4,
 "nbformat_minor": 2
}
